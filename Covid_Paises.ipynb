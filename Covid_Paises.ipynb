{
  "nbformat": 4,
  "nbformat_minor": 0,
  "metadata": {
    "kernelspec": {
      "display_name": "Python 3",
      "language": "python",
      "name": "python3"
    },
    "language_info": {
      "codemirror_mode": {
        "name": "ipython",
        "version": 3
      },
      "file_extension": ".py",
      "mimetype": "text/x-python",
      "name": "python",
      "nbconvert_exporter": "python",
      "pygments_lexer": "ipython3",
      "version": "3.7.3"
    },
    "colab": {
      "name": "Covid_Paises.ipynb",
      "provenance": [],
      "collapsed_sections": [],
      "include_colab_link": true
    }
  },
  "cells": [
    {
      "cell_type": "markdown",
      "metadata": {
        "id": "view-in-github",
        "colab_type": "text"
      },
      "source": [
        "<a href=\"https://colab.research.google.com/github/sefrancogo/Analitica-de-Datos/blob/master/Covid_Paises.ipynb\" target=\"_parent\"><img src=\"https://colab.research.google.com/assets/colab-badge.svg\" alt=\"Open In Colab\"/></a>"
      ]
    },
    {
      "cell_type": "markdown",
      "metadata": {
        "id": "751Gp4ujNLQL",
        "colab_type": "text"
      },
      "source": [
        "# Prediccion de Contagios por Covid-19\n",
        "\n"
      ]
    },
    {
      "cell_type": "markdown",
      "metadata": {
        "id": "JqqhRaeQN5IF",
        "colab_type": "text"
      },
      "source": [
        "### Cargar Base de Datos\n"
      ]
    },
    {
      "cell_type": "code",
      "metadata": {
        "id": "h0aZCJ49NFwc",
        "colab_type": "code",
        "outputId": "bb592156-fbd0-4893-f756-aad178279966",
        "colab": {
          "base_uri": "https://localhost:8080/",
          "height": 473
        }
      },
      "source": [
        "!pip install wget \n",
        "import pandas as pd\n",
        "import numpy as np \n",
        "import wget \n",
        "import matplotlib.pyplot as plt\n",
        "%matplotlib inline\n",
        "\n",
        "url = \"https://data.humdata.org/hxlproxy/api/data-preview.csv?url=https%3A%2F%2Fraw.githubusercontent.com%2FCSSEGISandData%2FCOVID-19%2Fmaster%2Fcsse_covid_19_data%2Fcsse_covid_19_time_series%2Ftime_series_covid19_confirmed_global.csv&filename=time_series_covid19_confirmed_global.csv\"\n",
        "#path = 'data/Casos_positivos_de_COVID-19_en_Colombia04_15_2020.csv'\n",
        "\n",
        "#wget.download(url, 'datos_covid_paises.cvs')\n",
        "data = pd.read_csv('datos_covid_paises.cvs')\n",
        "data"
      ],
      "execution_count": 202,
      "outputs": [
        {
          "output_type": "stream",
          "text": [
            "Requirement already satisfied: wget in /usr/local/lib/python3.6/dist-packages (3.2)\n"
          ],
          "name": "stdout"
        },
        {
          "output_type": "execute_result",
          "data": {
            "text/html": [
              "<div>\n",
              "<style scoped>\n",
              "    .dataframe tbody tr th:only-of-type {\n",
              "        vertical-align: middle;\n",
              "    }\n",
              "\n",
              "    .dataframe tbody tr th {\n",
              "        vertical-align: top;\n",
              "    }\n",
              "\n",
              "    .dataframe thead th {\n",
              "        text-align: right;\n",
              "    }\n",
              "</style>\n",
              "<table border=\"1\" class=\"dataframe\">\n",
              "  <thead>\n",
              "    <tr style=\"text-align: right;\">\n",
              "      <th></th>\n",
              "      <th>Province/State</th>\n",
              "      <th>Country/Region</th>\n",
              "      <th>Lat</th>\n",
              "      <th>Long</th>\n",
              "      <th>1/22/20</th>\n",
              "      <th>1/23/20</th>\n",
              "      <th>1/24/20</th>\n",
              "      <th>1/25/20</th>\n",
              "      <th>1/26/20</th>\n",
              "      <th>1/27/20</th>\n",
              "      <th>1/28/20</th>\n",
              "      <th>1/29/20</th>\n",
              "      <th>1/30/20</th>\n",
              "      <th>1/31/20</th>\n",
              "      <th>2/1/20</th>\n",
              "      <th>2/2/20</th>\n",
              "      <th>2/3/20</th>\n",
              "      <th>2/4/20</th>\n",
              "      <th>2/5/20</th>\n",
              "      <th>2/6/20</th>\n",
              "      <th>2/7/20</th>\n",
              "      <th>2/8/20</th>\n",
              "      <th>2/9/20</th>\n",
              "      <th>2/10/20</th>\n",
              "      <th>2/11/20</th>\n",
              "      <th>2/12/20</th>\n",
              "      <th>2/13/20</th>\n",
              "      <th>2/14/20</th>\n",
              "      <th>2/15/20</th>\n",
              "      <th>2/16/20</th>\n",
              "      <th>2/17/20</th>\n",
              "      <th>2/18/20</th>\n",
              "      <th>2/19/20</th>\n",
              "      <th>2/20/20</th>\n",
              "      <th>2/21/20</th>\n",
              "      <th>2/22/20</th>\n",
              "      <th>2/23/20</th>\n",
              "      <th>2/24/20</th>\n",
              "      <th>2/25/20</th>\n",
              "      <th>2/26/20</th>\n",
              "      <th>...</th>\n",
              "      <th>3/26/20</th>\n",
              "      <th>3/27/20</th>\n",
              "      <th>3/28/20</th>\n",
              "      <th>3/29/20</th>\n",
              "      <th>3/30/20</th>\n",
              "      <th>3/31/20</th>\n",
              "      <th>4/1/20</th>\n",
              "      <th>4/2/20</th>\n",
              "      <th>4/3/20</th>\n",
              "      <th>4/4/20</th>\n",
              "      <th>4/5/20</th>\n",
              "      <th>4/6/20</th>\n",
              "      <th>4/7/20</th>\n",
              "      <th>4/8/20</th>\n",
              "      <th>4/9/20</th>\n",
              "      <th>4/10/20</th>\n",
              "      <th>4/11/20</th>\n",
              "      <th>4/12/20</th>\n",
              "      <th>4/13/20</th>\n",
              "      <th>4/14/20</th>\n",
              "      <th>4/15/20</th>\n",
              "      <th>4/16/20</th>\n",
              "      <th>4/17/20</th>\n",
              "      <th>4/18/20</th>\n",
              "      <th>4/19/20</th>\n",
              "      <th>4/20/20</th>\n",
              "      <th>4/21/20</th>\n",
              "      <th>4/22/20</th>\n",
              "      <th>4/23/20</th>\n",
              "      <th>4/24/20</th>\n",
              "      <th>4/25/20</th>\n",
              "      <th>4/26/20</th>\n",
              "      <th>4/27/20</th>\n",
              "      <th>4/28/20</th>\n",
              "      <th>4/29/20</th>\n",
              "      <th>4/30/20</th>\n",
              "      <th>5/1/20</th>\n",
              "      <th>5/2/20</th>\n",
              "      <th>5/3/20</th>\n",
              "      <th>5/4/20</th>\n",
              "    </tr>\n",
              "  </thead>\n",
              "  <tbody>\n",
              "    <tr>\n",
              "      <th>0</th>\n",
              "      <td>NaN</td>\n",
              "      <td>Afghanistan</td>\n",
              "      <td>33.000000</td>\n",
              "      <td>65.000000</td>\n",
              "      <td>0</td>\n",
              "      <td>0</td>\n",
              "      <td>0</td>\n",
              "      <td>0</td>\n",
              "      <td>0</td>\n",
              "      <td>0</td>\n",
              "      <td>0</td>\n",
              "      <td>0</td>\n",
              "      <td>0</td>\n",
              "      <td>0</td>\n",
              "      <td>0</td>\n",
              "      <td>0</td>\n",
              "      <td>0</td>\n",
              "      <td>0</td>\n",
              "      <td>0</td>\n",
              "      <td>0</td>\n",
              "      <td>0</td>\n",
              "      <td>0</td>\n",
              "      <td>0</td>\n",
              "      <td>0</td>\n",
              "      <td>0</td>\n",
              "      <td>0</td>\n",
              "      <td>0</td>\n",
              "      <td>0</td>\n",
              "      <td>0</td>\n",
              "      <td>0</td>\n",
              "      <td>0</td>\n",
              "      <td>0</td>\n",
              "      <td>0</td>\n",
              "      <td>0</td>\n",
              "      <td>0</td>\n",
              "      <td>0</td>\n",
              "      <td>0</td>\n",
              "      <td>1</td>\n",
              "      <td>1</td>\n",
              "      <td>1</td>\n",
              "      <td>...</td>\n",
              "      <td>94</td>\n",
              "      <td>110</td>\n",
              "      <td>110</td>\n",
              "      <td>120</td>\n",
              "      <td>170</td>\n",
              "      <td>174</td>\n",
              "      <td>237</td>\n",
              "      <td>273</td>\n",
              "      <td>281</td>\n",
              "      <td>299</td>\n",
              "      <td>349</td>\n",
              "      <td>367</td>\n",
              "      <td>423</td>\n",
              "      <td>444</td>\n",
              "      <td>484</td>\n",
              "      <td>521</td>\n",
              "      <td>555</td>\n",
              "      <td>607</td>\n",
              "      <td>665</td>\n",
              "      <td>714</td>\n",
              "      <td>784</td>\n",
              "      <td>840</td>\n",
              "      <td>906</td>\n",
              "      <td>933</td>\n",
              "      <td>996</td>\n",
              "      <td>1026</td>\n",
              "      <td>1092</td>\n",
              "      <td>1176</td>\n",
              "      <td>1279</td>\n",
              "      <td>1351</td>\n",
              "      <td>1463</td>\n",
              "      <td>1531</td>\n",
              "      <td>1703</td>\n",
              "      <td>1828</td>\n",
              "      <td>1939</td>\n",
              "      <td>2171</td>\n",
              "      <td>2335</td>\n",
              "      <td>2469</td>\n",
              "      <td>2704</td>\n",
              "      <td>2894</td>\n",
              "    </tr>\n",
              "    <tr>\n",
              "      <th>1</th>\n",
              "      <td>NaN</td>\n",
              "      <td>Albania</td>\n",
              "      <td>41.153300</td>\n",
              "      <td>20.168300</td>\n",
              "      <td>0</td>\n",
              "      <td>0</td>\n",
              "      <td>0</td>\n",
              "      <td>0</td>\n",
              "      <td>0</td>\n",
              "      <td>0</td>\n",
              "      <td>0</td>\n",
              "      <td>0</td>\n",
              "      <td>0</td>\n",
              "      <td>0</td>\n",
              "      <td>0</td>\n",
              "      <td>0</td>\n",
              "      <td>0</td>\n",
              "      <td>0</td>\n",
              "      <td>0</td>\n",
              "      <td>0</td>\n",
              "      <td>0</td>\n",
              "      <td>0</td>\n",
              "      <td>0</td>\n",
              "      <td>0</td>\n",
              "      <td>0</td>\n",
              "      <td>0</td>\n",
              "      <td>0</td>\n",
              "      <td>0</td>\n",
              "      <td>0</td>\n",
              "      <td>0</td>\n",
              "      <td>0</td>\n",
              "      <td>0</td>\n",
              "      <td>0</td>\n",
              "      <td>0</td>\n",
              "      <td>0</td>\n",
              "      <td>0</td>\n",
              "      <td>0</td>\n",
              "      <td>0</td>\n",
              "      <td>0</td>\n",
              "      <td>0</td>\n",
              "      <td>...</td>\n",
              "      <td>174</td>\n",
              "      <td>186</td>\n",
              "      <td>197</td>\n",
              "      <td>212</td>\n",
              "      <td>223</td>\n",
              "      <td>243</td>\n",
              "      <td>259</td>\n",
              "      <td>277</td>\n",
              "      <td>304</td>\n",
              "      <td>333</td>\n",
              "      <td>361</td>\n",
              "      <td>377</td>\n",
              "      <td>383</td>\n",
              "      <td>400</td>\n",
              "      <td>409</td>\n",
              "      <td>416</td>\n",
              "      <td>433</td>\n",
              "      <td>446</td>\n",
              "      <td>467</td>\n",
              "      <td>475</td>\n",
              "      <td>494</td>\n",
              "      <td>518</td>\n",
              "      <td>539</td>\n",
              "      <td>548</td>\n",
              "      <td>562</td>\n",
              "      <td>584</td>\n",
              "      <td>609</td>\n",
              "      <td>634</td>\n",
              "      <td>663</td>\n",
              "      <td>678</td>\n",
              "      <td>712</td>\n",
              "      <td>726</td>\n",
              "      <td>736</td>\n",
              "      <td>750</td>\n",
              "      <td>766</td>\n",
              "      <td>773</td>\n",
              "      <td>782</td>\n",
              "      <td>789</td>\n",
              "      <td>795</td>\n",
              "      <td>803</td>\n",
              "    </tr>\n",
              "    <tr>\n",
              "      <th>2</th>\n",
              "      <td>NaN</td>\n",
              "      <td>Algeria</td>\n",
              "      <td>28.033900</td>\n",
              "      <td>1.659600</td>\n",
              "      <td>0</td>\n",
              "      <td>0</td>\n",
              "      <td>0</td>\n",
              "      <td>0</td>\n",
              "      <td>0</td>\n",
              "      <td>0</td>\n",
              "      <td>0</td>\n",
              "      <td>0</td>\n",
              "      <td>0</td>\n",
              "      <td>0</td>\n",
              "      <td>0</td>\n",
              "      <td>0</td>\n",
              "      <td>0</td>\n",
              "      <td>0</td>\n",
              "      <td>0</td>\n",
              "      <td>0</td>\n",
              "      <td>0</td>\n",
              "      <td>0</td>\n",
              "      <td>0</td>\n",
              "      <td>0</td>\n",
              "      <td>0</td>\n",
              "      <td>0</td>\n",
              "      <td>0</td>\n",
              "      <td>0</td>\n",
              "      <td>0</td>\n",
              "      <td>0</td>\n",
              "      <td>0</td>\n",
              "      <td>0</td>\n",
              "      <td>0</td>\n",
              "      <td>0</td>\n",
              "      <td>0</td>\n",
              "      <td>0</td>\n",
              "      <td>0</td>\n",
              "      <td>0</td>\n",
              "      <td>1</td>\n",
              "      <td>1</td>\n",
              "      <td>...</td>\n",
              "      <td>367</td>\n",
              "      <td>409</td>\n",
              "      <td>454</td>\n",
              "      <td>511</td>\n",
              "      <td>584</td>\n",
              "      <td>716</td>\n",
              "      <td>847</td>\n",
              "      <td>986</td>\n",
              "      <td>1171</td>\n",
              "      <td>1251</td>\n",
              "      <td>1320</td>\n",
              "      <td>1423</td>\n",
              "      <td>1468</td>\n",
              "      <td>1572</td>\n",
              "      <td>1666</td>\n",
              "      <td>1761</td>\n",
              "      <td>1825</td>\n",
              "      <td>1914</td>\n",
              "      <td>1983</td>\n",
              "      <td>2070</td>\n",
              "      <td>2160</td>\n",
              "      <td>2268</td>\n",
              "      <td>2418</td>\n",
              "      <td>2534</td>\n",
              "      <td>2629</td>\n",
              "      <td>2718</td>\n",
              "      <td>2811</td>\n",
              "      <td>2910</td>\n",
              "      <td>3007</td>\n",
              "      <td>3127</td>\n",
              "      <td>3256</td>\n",
              "      <td>3382</td>\n",
              "      <td>3517</td>\n",
              "      <td>3649</td>\n",
              "      <td>3848</td>\n",
              "      <td>4006</td>\n",
              "      <td>4154</td>\n",
              "      <td>4295</td>\n",
              "      <td>4474</td>\n",
              "      <td>4648</td>\n",
              "    </tr>\n",
              "    <tr>\n",
              "      <th>3</th>\n",
              "      <td>NaN</td>\n",
              "      <td>Andorra</td>\n",
              "      <td>42.506300</td>\n",
              "      <td>1.521800</td>\n",
              "      <td>0</td>\n",
              "      <td>0</td>\n",
              "      <td>0</td>\n",
              "      <td>0</td>\n",
              "      <td>0</td>\n",
              "      <td>0</td>\n",
              "      <td>0</td>\n",
              "      <td>0</td>\n",
              "      <td>0</td>\n",
              "      <td>0</td>\n",
              "      <td>0</td>\n",
              "      <td>0</td>\n",
              "      <td>0</td>\n",
              "      <td>0</td>\n",
              "      <td>0</td>\n",
              "      <td>0</td>\n",
              "      <td>0</td>\n",
              "      <td>0</td>\n",
              "      <td>0</td>\n",
              "      <td>0</td>\n",
              "      <td>0</td>\n",
              "      <td>0</td>\n",
              "      <td>0</td>\n",
              "      <td>0</td>\n",
              "      <td>0</td>\n",
              "      <td>0</td>\n",
              "      <td>0</td>\n",
              "      <td>0</td>\n",
              "      <td>0</td>\n",
              "      <td>0</td>\n",
              "      <td>0</td>\n",
              "      <td>0</td>\n",
              "      <td>0</td>\n",
              "      <td>0</td>\n",
              "      <td>0</td>\n",
              "      <td>0</td>\n",
              "      <td>...</td>\n",
              "      <td>224</td>\n",
              "      <td>267</td>\n",
              "      <td>308</td>\n",
              "      <td>334</td>\n",
              "      <td>370</td>\n",
              "      <td>376</td>\n",
              "      <td>390</td>\n",
              "      <td>428</td>\n",
              "      <td>439</td>\n",
              "      <td>466</td>\n",
              "      <td>501</td>\n",
              "      <td>525</td>\n",
              "      <td>545</td>\n",
              "      <td>564</td>\n",
              "      <td>583</td>\n",
              "      <td>601</td>\n",
              "      <td>601</td>\n",
              "      <td>638</td>\n",
              "      <td>646</td>\n",
              "      <td>659</td>\n",
              "      <td>673</td>\n",
              "      <td>673</td>\n",
              "      <td>696</td>\n",
              "      <td>704</td>\n",
              "      <td>713</td>\n",
              "      <td>717</td>\n",
              "      <td>717</td>\n",
              "      <td>723</td>\n",
              "      <td>723</td>\n",
              "      <td>731</td>\n",
              "      <td>738</td>\n",
              "      <td>738</td>\n",
              "      <td>743</td>\n",
              "      <td>743</td>\n",
              "      <td>743</td>\n",
              "      <td>745</td>\n",
              "      <td>745</td>\n",
              "      <td>747</td>\n",
              "      <td>748</td>\n",
              "      <td>750</td>\n",
              "    </tr>\n",
              "    <tr>\n",
              "      <th>4</th>\n",
              "      <td>NaN</td>\n",
              "      <td>Angola</td>\n",
              "      <td>-11.202700</td>\n",
              "      <td>17.873900</td>\n",
              "      <td>0</td>\n",
              "      <td>0</td>\n",
              "      <td>0</td>\n",
              "      <td>0</td>\n",
              "      <td>0</td>\n",
              "      <td>0</td>\n",
              "      <td>0</td>\n",
              "      <td>0</td>\n",
              "      <td>0</td>\n",
              "      <td>0</td>\n",
              "      <td>0</td>\n",
              "      <td>0</td>\n",
              "      <td>0</td>\n",
              "      <td>0</td>\n",
              "      <td>0</td>\n",
              "      <td>0</td>\n",
              "      <td>0</td>\n",
              "      <td>0</td>\n",
              "      <td>0</td>\n",
              "      <td>0</td>\n",
              "      <td>0</td>\n",
              "      <td>0</td>\n",
              "      <td>0</td>\n",
              "      <td>0</td>\n",
              "      <td>0</td>\n",
              "      <td>0</td>\n",
              "      <td>0</td>\n",
              "      <td>0</td>\n",
              "      <td>0</td>\n",
              "      <td>0</td>\n",
              "      <td>0</td>\n",
              "      <td>0</td>\n",
              "      <td>0</td>\n",
              "      <td>0</td>\n",
              "      <td>0</td>\n",
              "      <td>0</td>\n",
              "      <td>...</td>\n",
              "      <td>4</td>\n",
              "      <td>4</td>\n",
              "      <td>5</td>\n",
              "      <td>7</td>\n",
              "      <td>7</td>\n",
              "      <td>7</td>\n",
              "      <td>8</td>\n",
              "      <td>8</td>\n",
              "      <td>8</td>\n",
              "      <td>10</td>\n",
              "      <td>14</td>\n",
              "      <td>16</td>\n",
              "      <td>17</td>\n",
              "      <td>19</td>\n",
              "      <td>19</td>\n",
              "      <td>19</td>\n",
              "      <td>19</td>\n",
              "      <td>19</td>\n",
              "      <td>19</td>\n",
              "      <td>19</td>\n",
              "      <td>19</td>\n",
              "      <td>19</td>\n",
              "      <td>19</td>\n",
              "      <td>24</td>\n",
              "      <td>24</td>\n",
              "      <td>24</td>\n",
              "      <td>24</td>\n",
              "      <td>25</td>\n",
              "      <td>25</td>\n",
              "      <td>25</td>\n",
              "      <td>25</td>\n",
              "      <td>26</td>\n",
              "      <td>27</td>\n",
              "      <td>27</td>\n",
              "      <td>27</td>\n",
              "      <td>27</td>\n",
              "      <td>30</td>\n",
              "      <td>35</td>\n",
              "      <td>35</td>\n",
              "      <td>35</td>\n",
              "    </tr>\n",
              "    <tr>\n",
              "      <th>...</th>\n",
              "      <td>...</td>\n",
              "      <td>...</td>\n",
              "      <td>...</td>\n",
              "      <td>...</td>\n",
              "      <td>...</td>\n",
              "      <td>...</td>\n",
              "      <td>...</td>\n",
              "      <td>...</td>\n",
              "      <td>...</td>\n",
              "      <td>...</td>\n",
              "      <td>...</td>\n",
              "      <td>...</td>\n",
              "      <td>...</td>\n",
              "      <td>...</td>\n",
              "      <td>...</td>\n",
              "      <td>...</td>\n",
              "      <td>...</td>\n",
              "      <td>...</td>\n",
              "      <td>...</td>\n",
              "      <td>...</td>\n",
              "      <td>...</td>\n",
              "      <td>...</td>\n",
              "      <td>...</td>\n",
              "      <td>...</td>\n",
              "      <td>...</td>\n",
              "      <td>...</td>\n",
              "      <td>...</td>\n",
              "      <td>...</td>\n",
              "      <td>...</td>\n",
              "      <td>...</td>\n",
              "      <td>...</td>\n",
              "      <td>...</td>\n",
              "      <td>...</td>\n",
              "      <td>...</td>\n",
              "      <td>...</td>\n",
              "      <td>...</td>\n",
              "      <td>...</td>\n",
              "      <td>...</td>\n",
              "      <td>...</td>\n",
              "      <td>...</td>\n",
              "      <td>...</td>\n",
              "      <td>...</td>\n",
              "      <td>...</td>\n",
              "      <td>...</td>\n",
              "      <td>...</td>\n",
              "      <td>...</td>\n",
              "      <td>...</td>\n",
              "      <td>...</td>\n",
              "      <td>...</td>\n",
              "      <td>...</td>\n",
              "      <td>...</td>\n",
              "      <td>...</td>\n",
              "      <td>...</td>\n",
              "      <td>...</td>\n",
              "      <td>...</td>\n",
              "      <td>...</td>\n",
              "      <td>...</td>\n",
              "      <td>...</td>\n",
              "      <td>...</td>\n",
              "      <td>...</td>\n",
              "      <td>...</td>\n",
              "      <td>...</td>\n",
              "      <td>...</td>\n",
              "      <td>...</td>\n",
              "      <td>...</td>\n",
              "      <td>...</td>\n",
              "      <td>...</td>\n",
              "      <td>...</td>\n",
              "      <td>...</td>\n",
              "      <td>...</td>\n",
              "      <td>...</td>\n",
              "      <td>...</td>\n",
              "      <td>...</td>\n",
              "      <td>...</td>\n",
              "      <td>...</td>\n",
              "      <td>...</td>\n",
              "      <td>...</td>\n",
              "      <td>...</td>\n",
              "      <td>...</td>\n",
              "      <td>...</td>\n",
              "      <td>...</td>\n",
              "    </tr>\n",
              "    <tr>\n",
              "      <th>261</th>\n",
              "      <td>NaN</td>\n",
              "      <td>Western Sahara</td>\n",
              "      <td>24.215500</td>\n",
              "      <td>-12.885800</td>\n",
              "      <td>0</td>\n",
              "      <td>0</td>\n",
              "      <td>0</td>\n",
              "      <td>0</td>\n",
              "      <td>0</td>\n",
              "      <td>0</td>\n",
              "      <td>0</td>\n",
              "      <td>0</td>\n",
              "      <td>0</td>\n",
              "      <td>0</td>\n",
              "      <td>0</td>\n",
              "      <td>0</td>\n",
              "      <td>0</td>\n",
              "      <td>0</td>\n",
              "      <td>0</td>\n",
              "      <td>0</td>\n",
              "      <td>0</td>\n",
              "      <td>0</td>\n",
              "      <td>0</td>\n",
              "      <td>0</td>\n",
              "      <td>0</td>\n",
              "      <td>0</td>\n",
              "      <td>0</td>\n",
              "      <td>0</td>\n",
              "      <td>0</td>\n",
              "      <td>0</td>\n",
              "      <td>0</td>\n",
              "      <td>0</td>\n",
              "      <td>0</td>\n",
              "      <td>0</td>\n",
              "      <td>0</td>\n",
              "      <td>0</td>\n",
              "      <td>0</td>\n",
              "      <td>0</td>\n",
              "      <td>0</td>\n",
              "      <td>0</td>\n",
              "      <td>...</td>\n",
              "      <td>0</td>\n",
              "      <td>0</td>\n",
              "      <td>0</td>\n",
              "      <td>0</td>\n",
              "      <td>0</td>\n",
              "      <td>0</td>\n",
              "      <td>0</td>\n",
              "      <td>0</td>\n",
              "      <td>0</td>\n",
              "      <td>0</td>\n",
              "      <td>4</td>\n",
              "      <td>4</td>\n",
              "      <td>4</td>\n",
              "      <td>4</td>\n",
              "      <td>4</td>\n",
              "      <td>4</td>\n",
              "      <td>4</td>\n",
              "      <td>6</td>\n",
              "      <td>6</td>\n",
              "      <td>6</td>\n",
              "      <td>6</td>\n",
              "      <td>6</td>\n",
              "      <td>6</td>\n",
              "      <td>6</td>\n",
              "      <td>6</td>\n",
              "      <td>6</td>\n",
              "      <td>6</td>\n",
              "      <td>6</td>\n",
              "      <td>6</td>\n",
              "      <td>6</td>\n",
              "      <td>6</td>\n",
              "      <td>6</td>\n",
              "      <td>6</td>\n",
              "      <td>6</td>\n",
              "      <td>6</td>\n",
              "      <td>6</td>\n",
              "      <td>6</td>\n",
              "      <td>6</td>\n",
              "      <td>6</td>\n",
              "      <td>6</td>\n",
              "    </tr>\n",
              "    <tr>\n",
              "      <th>262</th>\n",
              "      <td>NaN</td>\n",
              "      <td>Sao Tome and Principe</td>\n",
              "      <td>0.186360</td>\n",
              "      <td>6.613081</td>\n",
              "      <td>0</td>\n",
              "      <td>0</td>\n",
              "      <td>0</td>\n",
              "      <td>0</td>\n",
              "      <td>0</td>\n",
              "      <td>0</td>\n",
              "      <td>0</td>\n",
              "      <td>0</td>\n",
              "      <td>0</td>\n",
              "      <td>0</td>\n",
              "      <td>0</td>\n",
              "      <td>0</td>\n",
              "      <td>0</td>\n",
              "      <td>0</td>\n",
              "      <td>0</td>\n",
              "      <td>0</td>\n",
              "      <td>0</td>\n",
              "      <td>0</td>\n",
              "      <td>0</td>\n",
              "      <td>0</td>\n",
              "      <td>0</td>\n",
              "      <td>0</td>\n",
              "      <td>0</td>\n",
              "      <td>0</td>\n",
              "      <td>0</td>\n",
              "      <td>0</td>\n",
              "      <td>0</td>\n",
              "      <td>0</td>\n",
              "      <td>0</td>\n",
              "      <td>0</td>\n",
              "      <td>0</td>\n",
              "      <td>0</td>\n",
              "      <td>0</td>\n",
              "      <td>0</td>\n",
              "      <td>0</td>\n",
              "      <td>0</td>\n",
              "      <td>...</td>\n",
              "      <td>0</td>\n",
              "      <td>0</td>\n",
              "      <td>0</td>\n",
              "      <td>0</td>\n",
              "      <td>0</td>\n",
              "      <td>0</td>\n",
              "      <td>0</td>\n",
              "      <td>0</td>\n",
              "      <td>0</td>\n",
              "      <td>0</td>\n",
              "      <td>0</td>\n",
              "      <td>4</td>\n",
              "      <td>4</td>\n",
              "      <td>4</td>\n",
              "      <td>4</td>\n",
              "      <td>4</td>\n",
              "      <td>4</td>\n",
              "      <td>4</td>\n",
              "      <td>4</td>\n",
              "      <td>4</td>\n",
              "      <td>4</td>\n",
              "      <td>4</td>\n",
              "      <td>4</td>\n",
              "      <td>4</td>\n",
              "      <td>4</td>\n",
              "      <td>4</td>\n",
              "      <td>4</td>\n",
              "      <td>4</td>\n",
              "      <td>4</td>\n",
              "      <td>4</td>\n",
              "      <td>4</td>\n",
              "      <td>4</td>\n",
              "      <td>4</td>\n",
              "      <td>8</td>\n",
              "      <td>8</td>\n",
              "      <td>14</td>\n",
              "      <td>16</td>\n",
              "      <td>16</td>\n",
              "      <td>16</td>\n",
              "      <td>23</td>\n",
              "    </tr>\n",
              "    <tr>\n",
              "      <th>263</th>\n",
              "      <td>NaN</td>\n",
              "      <td>Yemen</td>\n",
              "      <td>15.552727</td>\n",
              "      <td>48.516388</td>\n",
              "      <td>0</td>\n",
              "      <td>0</td>\n",
              "      <td>0</td>\n",
              "      <td>0</td>\n",
              "      <td>0</td>\n",
              "      <td>0</td>\n",
              "      <td>0</td>\n",
              "      <td>0</td>\n",
              "      <td>0</td>\n",
              "      <td>0</td>\n",
              "      <td>0</td>\n",
              "      <td>0</td>\n",
              "      <td>0</td>\n",
              "      <td>0</td>\n",
              "      <td>0</td>\n",
              "      <td>0</td>\n",
              "      <td>0</td>\n",
              "      <td>0</td>\n",
              "      <td>0</td>\n",
              "      <td>0</td>\n",
              "      <td>0</td>\n",
              "      <td>0</td>\n",
              "      <td>0</td>\n",
              "      <td>0</td>\n",
              "      <td>0</td>\n",
              "      <td>0</td>\n",
              "      <td>0</td>\n",
              "      <td>0</td>\n",
              "      <td>0</td>\n",
              "      <td>0</td>\n",
              "      <td>0</td>\n",
              "      <td>0</td>\n",
              "      <td>0</td>\n",
              "      <td>0</td>\n",
              "      <td>0</td>\n",
              "      <td>0</td>\n",
              "      <td>...</td>\n",
              "      <td>0</td>\n",
              "      <td>0</td>\n",
              "      <td>0</td>\n",
              "      <td>0</td>\n",
              "      <td>0</td>\n",
              "      <td>0</td>\n",
              "      <td>0</td>\n",
              "      <td>0</td>\n",
              "      <td>0</td>\n",
              "      <td>0</td>\n",
              "      <td>0</td>\n",
              "      <td>0</td>\n",
              "      <td>0</td>\n",
              "      <td>0</td>\n",
              "      <td>0</td>\n",
              "      <td>1</td>\n",
              "      <td>1</td>\n",
              "      <td>1</td>\n",
              "      <td>1</td>\n",
              "      <td>1</td>\n",
              "      <td>1</td>\n",
              "      <td>1</td>\n",
              "      <td>1</td>\n",
              "      <td>1</td>\n",
              "      <td>1</td>\n",
              "      <td>1</td>\n",
              "      <td>1</td>\n",
              "      <td>1</td>\n",
              "      <td>1</td>\n",
              "      <td>1</td>\n",
              "      <td>1</td>\n",
              "      <td>1</td>\n",
              "      <td>1</td>\n",
              "      <td>1</td>\n",
              "      <td>6</td>\n",
              "      <td>6</td>\n",
              "      <td>7</td>\n",
              "      <td>10</td>\n",
              "      <td>10</td>\n",
              "      <td>12</td>\n",
              "    </tr>\n",
              "    <tr>\n",
              "      <th>264</th>\n",
              "      <td>NaN</td>\n",
              "      <td>Comoros</td>\n",
              "      <td>-11.645500</td>\n",
              "      <td>43.333300</td>\n",
              "      <td>0</td>\n",
              "      <td>0</td>\n",
              "      <td>0</td>\n",
              "      <td>0</td>\n",
              "      <td>0</td>\n",
              "      <td>0</td>\n",
              "      <td>0</td>\n",
              "      <td>0</td>\n",
              "      <td>0</td>\n",
              "      <td>0</td>\n",
              "      <td>0</td>\n",
              "      <td>0</td>\n",
              "      <td>0</td>\n",
              "      <td>0</td>\n",
              "      <td>0</td>\n",
              "      <td>0</td>\n",
              "      <td>0</td>\n",
              "      <td>0</td>\n",
              "      <td>0</td>\n",
              "      <td>0</td>\n",
              "      <td>0</td>\n",
              "      <td>0</td>\n",
              "      <td>0</td>\n",
              "      <td>0</td>\n",
              "      <td>0</td>\n",
              "      <td>0</td>\n",
              "      <td>0</td>\n",
              "      <td>0</td>\n",
              "      <td>0</td>\n",
              "      <td>0</td>\n",
              "      <td>0</td>\n",
              "      <td>0</td>\n",
              "      <td>0</td>\n",
              "      <td>0</td>\n",
              "      <td>0</td>\n",
              "      <td>0</td>\n",
              "      <td>...</td>\n",
              "      <td>0</td>\n",
              "      <td>0</td>\n",
              "      <td>0</td>\n",
              "      <td>0</td>\n",
              "      <td>0</td>\n",
              "      <td>0</td>\n",
              "      <td>0</td>\n",
              "      <td>0</td>\n",
              "      <td>0</td>\n",
              "      <td>0</td>\n",
              "      <td>0</td>\n",
              "      <td>0</td>\n",
              "      <td>0</td>\n",
              "      <td>0</td>\n",
              "      <td>0</td>\n",
              "      <td>0</td>\n",
              "      <td>0</td>\n",
              "      <td>0</td>\n",
              "      <td>0</td>\n",
              "      <td>0</td>\n",
              "      <td>0</td>\n",
              "      <td>0</td>\n",
              "      <td>0</td>\n",
              "      <td>0</td>\n",
              "      <td>0</td>\n",
              "      <td>0</td>\n",
              "      <td>0</td>\n",
              "      <td>0</td>\n",
              "      <td>0</td>\n",
              "      <td>0</td>\n",
              "      <td>0</td>\n",
              "      <td>0</td>\n",
              "      <td>0</td>\n",
              "      <td>0</td>\n",
              "      <td>0</td>\n",
              "      <td>1</td>\n",
              "      <td>1</td>\n",
              "      <td>3</td>\n",
              "      <td>3</td>\n",
              "      <td>3</td>\n",
              "    </tr>\n",
              "    <tr>\n",
              "      <th>265</th>\n",
              "      <td>NaN</td>\n",
              "      <td>Tajikistan</td>\n",
              "      <td>38.861034</td>\n",
              "      <td>71.276093</td>\n",
              "      <td>0</td>\n",
              "      <td>0</td>\n",
              "      <td>0</td>\n",
              "      <td>0</td>\n",
              "      <td>0</td>\n",
              "      <td>0</td>\n",
              "      <td>0</td>\n",
              "      <td>0</td>\n",
              "      <td>0</td>\n",
              "      <td>0</td>\n",
              "      <td>0</td>\n",
              "      <td>0</td>\n",
              "      <td>0</td>\n",
              "      <td>0</td>\n",
              "      <td>0</td>\n",
              "      <td>0</td>\n",
              "      <td>0</td>\n",
              "      <td>0</td>\n",
              "      <td>0</td>\n",
              "      <td>0</td>\n",
              "      <td>0</td>\n",
              "      <td>0</td>\n",
              "      <td>0</td>\n",
              "      <td>0</td>\n",
              "      <td>0</td>\n",
              "      <td>0</td>\n",
              "      <td>0</td>\n",
              "      <td>0</td>\n",
              "      <td>0</td>\n",
              "      <td>0</td>\n",
              "      <td>0</td>\n",
              "      <td>0</td>\n",
              "      <td>0</td>\n",
              "      <td>0</td>\n",
              "      <td>0</td>\n",
              "      <td>0</td>\n",
              "      <td>...</td>\n",
              "      <td>0</td>\n",
              "      <td>0</td>\n",
              "      <td>0</td>\n",
              "      <td>0</td>\n",
              "      <td>0</td>\n",
              "      <td>0</td>\n",
              "      <td>0</td>\n",
              "      <td>0</td>\n",
              "      <td>0</td>\n",
              "      <td>0</td>\n",
              "      <td>0</td>\n",
              "      <td>0</td>\n",
              "      <td>0</td>\n",
              "      <td>0</td>\n",
              "      <td>0</td>\n",
              "      <td>0</td>\n",
              "      <td>0</td>\n",
              "      <td>0</td>\n",
              "      <td>0</td>\n",
              "      <td>0</td>\n",
              "      <td>0</td>\n",
              "      <td>0</td>\n",
              "      <td>0</td>\n",
              "      <td>0</td>\n",
              "      <td>0</td>\n",
              "      <td>0</td>\n",
              "      <td>0</td>\n",
              "      <td>0</td>\n",
              "      <td>0</td>\n",
              "      <td>0</td>\n",
              "      <td>0</td>\n",
              "      <td>0</td>\n",
              "      <td>0</td>\n",
              "      <td>0</td>\n",
              "      <td>0</td>\n",
              "      <td>15</td>\n",
              "      <td>15</td>\n",
              "      <td>76</td>\n",
              "      <td>128</td>\n",
              "      <td>230</td>\n",
              "    </tr>\n",
              "  </tbody>\n",
              "</table>\n",
              "<p>266 rows × 108 columns</p>\n",
              "</div>"
            ],
            "text/plain": [
              "    Province/State         Country/Region        Lat  ...  5/2/20  5/3/20  5/4/20\n",
              "0              NaN            Afghanistan  33.000000  ...    2469    2704    2894\n",
              "1              NaN                Albania  41.153300  ...     789     795     803\n",
              "2              NaN                Algeria  28.033900  ...    4295    4474    4648\n",
              "3              NaN                Andorra  42.506300  ...     747     748     750\n",
              "4              NaN                 Angola -11.202700  ...      35      35      35\n",
              "..             ...                    ...        ...  ...     ...     ...     ...\n",
              "261            NaN         Western Sahara  24.215500  ...       6       6       6\n",
              "262            NaN  Sao Tome and Principe   0.186360  ...      16      16      23\n",
              "263            NaN                  Yemen  15.552727  ...      10      10      12\n",
              "264            NaN                Comoros -11.645500  ...       3       3       3\n",
              "265            NaN             Tajikistan  38.861034  ...      76     128     230\n",
              "\n",
              "[266 rows x 108 columns]"
            ]
          },
          "metadata": {
            "tags": []
          },
          "execution_count": 202
        }
      ]
    },
    {
      "cell_type": "markdown",
      "metadata": {
        "id": "-ADhSjaOOBuB",
        "colab_type": "text"
      },
      "source": [
        "### Dividir el conjunto de Datos\n"
      ]
    },
    {
      "cell_type": "code",
      "metadata": {
        "id": "TRozoAWQHmK5",
        "colab_type": "code",
        "colab": {}
      },
      "source": [
        "#funcion ventaneo\n",
        "def covid_win(serie,w=5):\n",
        "    pi = 0\n",
        "    pf = w\n",
        "    X = serie[pi:pf].reshape(1,-1)\n",
        "    y = serie[pf+1].reshape(1,-1)\n",
        "    #pi += 1\n",
        "    #pf += 1\n",
        "    #print(serie.shape[0])\n",
        "    while pf+1 <   serie.shape[0]:        \n",
        "        X = np.append(X,serie[pi:pf].reshape(1,-1),axis=0)\n",
        "        y = np.append(y,serie[pf+1].reshape(1,-1),axis=0)\n",
        "        pi += 1\n",
        "        pf += 1\n",
        "    return X, y # X \\in Real^{N x P = w}, y \\in Real^N"
      ],
      "execution_count": 0,
      "outputs": []
    },
    {
      "cell_type": "code",
      "metadata": {
        "id": "R6M43Np8HmK8",
        "colab_type": "code",
        "colab": {
          "base_uri": "https://localhost:8080/",
          "height": 34
        },
        "outputId": "19768e73-d0e3-4818-f39b-747d4e0c99c1"
      },
      "source": [
        "#Ubicar Posicion de pais\n",
        "ii = data[data.columns[1]] == 'Colombia'\n",
        "\n",
        "#contagios  acumulados\n",
        "serie = np.array(data.iloc[np.where(ii)[0][0],4:])\n",
        "#numero contagiados por dia\n",
        "serie_d = np.append(0,np.diff(serie))\n",
        "#serie_d = np.append(0,np.cumsum(np.diff(serie)))\n",
        "\n",
        "X, y = covid_win(serie,w=5)\n",
        "X_d, y_d = covid_win(serie_d,w=5)\n",
        "\n",
        "\n",
        "prueba = serie[-5:-1]\n",
        "prueba1 = np.append(prueba, serie[-1])\n",
        "prueba1"
      ],
      "execution_count": 204,
      "outputs": [
        {
          "output_type": "execute_result",
          "data": {
            "text/plain": [
              "array([6507, 7006, 7285, 7668, 7973], dtype=object)"
            ]
          },
          "metadata": {
            "tags": []
          },
          "execution_count": 204
        }
      ]
    },
    {
      "cell_type": "code",
      "metadata": {
        "id": "kR6vydxkeFh9",
        "colab_type": "code",
        "colab": {
          "base_uri": "https://localhost:8080/",
          "height": 221
        },
        "outputId": "5eafe245-c7f5-4181-adda-21698e0d4908"
      },
      "source": [
        "data.iloc[82]"
      ],
      "execution_count": 160,
      "outputs": [
        {
          "output_type": "execute_result",
          "data": {
            "text/plain": [
              "Province/State         NaN\n",
              "Country/Region    Colombia\n",
              "Lat                 4.5709\n",
              "Long              -74.2973\n",
              "1/22/20                  0\n",
              "                    ...   \n",
              "4/30/20               6507\n",
              "5/1/20                7006\n",
              "5/2/20                7285\n",
              "5/3/20                7668\n",
              "5/4/20                7973\n",
              "Name: 82, Length: 108, dtype: object"
            ]
          },
          "metadata": {
            "tags": []
          },
          "execution_count": 160
        }
      ]
    },
    {
      "cell_type": "code",
      "metadata": {
        "id": "JwrtyBA9OSnH",
        "colab_type": "code",
        "outputId": "2256b79f-b362-4baa-8504-13b09d26194d",
        "colab": {
          "base_uri": "https://localhost:8080/",
          "height": 34
        }
      },
      "source": [
        "X[-1]"
      ],
      "execution_count": 161,
      "outputs": [
        {
          "output_type": "execute_result",
          "data": {
            "text/plain": [
              "array([5949, 6207, 6507, 7006, 7285], dtype=object)"
            ]
          },
          "metadata": {
            "tags": []
          },
          "execution_count": 161
        }
      ]
    },
    {
      "cell_type": "code",
      "metadata": {
        "id": "aIJ13ZgK0A0m",
        "colab_type": "code",
        "outputId": "9d7d4704-cad0-4587-9fd5-8ae66e35a18d",
        "colab": {
          "base_uri": "https://localhost:8080/",
          "height": 350
        }
      },
      "source": [
        "plt.plot(X)"
      ],
      "execution_count": 162,
      "outputs": [
        {
          "output_type": "execute_result",
          "data": {
            "text/plain": [
              "[<matplotlib.lines.Line2D at 0x7f4c1f802d30>,\n",
              " <matplotlib.lines.Line2D at 0x7f4c1f844780>,\n",
              " <matplotlib.lines.Line2D at 0x7f4c2298f668>,\n",
              " <matplotlib.lines.Line2D at 0x7f4c2298feb8>,\n",
              " <matplotlib.lines.Line2D at 0x7f4c2298f518>]"
            ]
          },
          "metadata": {
            "tags": []
          },
          "execution_count": 162
        },
        {
          "output_type": "display_data",
          "data": {
            "image/png": "[encoded data removed]",
            "text/plain": [
              "<Figure size 432x288 with 1 Axes>"
            ]
          },
          "metadata": {
            "tags": [],
            "needs_background": "light"
          }
        }
      ]
    },
    {
      "cell_type": "markdown",
      "metadata": {
        "id": "JdnOKu46HmLF",
        "colab_type": "text"
      },
      "source": [
        "### Análisis Exploratorio PCA"
      ]
    },
    {
      "cell_type": "code",
      "metadata": {
        "id": "pNsZw3ZCHmLH",
        "colab_type": "code",
        "outputId": "ba7bde68-faed-457a-d31c-950d7547198d",
        "colab": {
          "base_uri": "https://localhost:8080/",
          "height": 513
        }
      },
      "source": [
        "from sklearn.decomposition import PCA\n",
        "\n",
        "red = PCA()\n",
        "red_d = PCA()\n",
        "\n",
        "z = red.fit_transform(X)\n",
        "z_d = red_d.fit_transform(X_d)\n",
        "\n",
        "plt.scatter(z[:,0],z[:,1],c=y)\n",
        "plt.colorbar()\n",
        "plt.show()\n",
        "\n",
        "plt.scatter(z_d[:,0],z_d[:,1],c=y_d)\n",
        "plt.colorbar()\n",
        "plt.show()"
      ],
      "execution_count": 163,
      "outputs": [
        {
          "output_type": "display_data",
          "data": {
            "image/png": "[encoded data removed]",
            "text/plain": [
              "<Figure size 432x288 with 2 Axes>"
            ]
          },
          "metadata": {
            "tags": [],
            "needs_background": "light"
          }
        },
        {
          "output_type": "display_data",
          "data": {
            "image/png": "[encoded data removed]",
            "text/plain": [
              "<Figure size 432x288 with 2 Axes>"
            ]
          },
          "metadata": {
            "tags": [],
            "needs_background": "light"
          }
        }
      ]
    },
    {
      "cell_type": "markdown",
      "metadata": {
        "id": "Jz4367mNHmLL",
        "colab_type": "text"
      },
      "source": [
        "### Análisis Exploratorio TSNE"
      ]
    },
    {
      "cell_type": "code",
      "metadata": {
        "id": "eVu2OZdKHmLM",
        "colab_type": "code",
        "outputId": "ddf224b5-0704-4f36-de49-dfae021d8813",
        "colab": {
          "base_uri": "https://localhost:8080/",
          "height": 513
        }
      },
      "source": [
        "from sklearn.manifold import TSNE\n",
        "\n",
        "red = TSNE(n_components = 2, perplexity=10)\n",
        "red_d = TSNE(n_components = 2, perplexity=10)\n",
        "\n",
        "z = red.fit_transform(X)\n",
        "z_d = red.fit_transform(X_d)\n",
        "\n",
        "plt.scatter(z[:,0],z[:,1],c=y)\n",
        "plt.colorbar()\n",
        "plt.show()\n",
        "\n",
        "plt.scatter(z_d[:,0],z_d[:,1],c=y_d)\n",
        "plt.colorbar()\n",
        "plt.show()"
      ],
      "execution_count": 164,
      "outputs": [
        {
          "output_type": "display_data",
          "data": {
            "image/png": "[encoded data removed]",
            "text/plain": [
              "<Figure size 432x288 with 2 Axes>"
            ]
          },
          "metadata": {
            "tags": [],
            "needs_background": "light"
          }
        },
        {
          "output_type": "display_data",
          "data": {
            "image/png": "[encoded data removed]",
            "text/plain": [
              "<Figure size 432x288 with 2 Axes>"
            ]
          },
          "metadata": {
            "tags": [],
            "needs_background": "light"
          }
        }
      ]
    },
    {
      "cell_type": "markdown",
      "metadata": {
        "id": "8VlIo0FwHmLQ",
        "colab_type": "text"
      },
      "source": [
        "### Extrer conjunto de Entrenamiento y Prueba\n",
        "Cuando se tienen pocos datos es necesario realizar una validaación cruzada anidada."
      ]
    },
    {
      "cell_type": "markdown",
      "metadata": {
        "id": "HIBLVvEwHmLZ",
        "colab_type": "text"
      },
      "source": [
        "### Función Validación Cruzada Anidada\n"
      ]
    },
    {
      "cell_type": "code",
      "metadata": {
        "id": "Ay_NsFvcHmLa",
        "colab_type": "code",
        "colab": {}
      },
      "source": [
        "from sklearn.model_selection import train_test_split,GridSearchCV,cross_val_score, cross_val_predict\n",
        "from sklearn.kernel_ridge import KernelRidge\n",
        "from sklearn.linear_model import LinearRegression, Ridge, Lasso, ElasticNet \n",
        "from sklearn.pipeline import Pipeline\n",
        "from sklearn.preprocessing import StandardScaler\n",
        "from sklearn.metrics import mean_squared_error as mse\n",
        "from joblib import dump, load\n",
        "\n",
        "def V_Cruzada_Anidada(X_data,Y_data,steps,parameters):\n",
        "  \n",
        "  Niter = 10                           #numero particiones outter loop nested cross-validation\n",
        "  msev = np.zeros((Niter,len(steps)))  #arreglo para guardar acierto\n",
        "  best_estimators = []                 #mejor metodo por iteracion\n",
        "  ###clave del funcionamiento\n",
        "  best_hyperpar = []                   #mejor metodo por iteracion \n",
        "            \n",
        "\n",
        "  for j in range(Niter): #outter loop\n",
        "      print('it %d/%d'%(j+1,Niter))\n",
        "      #particiono datos outter loop\n",
        "      X_train, X_test, y_train, y_test = train_test_split(X_data,Y_data,test_size=0.3) # xtrain 60, xtest 26\n",
        "\n",
        "      for r in range(len(steps)): #recorro todos los posibles modelos a probar en iteracion j del outter loop\n",
        "          grid_search = GridSearchCV(Pipeline(steps[r]), parameters[r],cv=5,verbose=10,scoring='neg_mean_absolute_error',n_jobs=5) #cv inner loop\n",
        "          #xtrain gridsearchcv xtrain split en 12 / cv, 60/5 = 12, xtrain 48 datos validar 12\n",
        "          # cv = N -> leave one out N <30\n",
        "          \n",
        "          #generar mejor modelo\n",
        "          grid_search.fit(X_train,y_train)\n",
        "          \n",
        "          #estimar salida conjunto de test\n",
        "          y_pred = grid_search.best_estimator_.predict(X_test)\n",
        "          \n",
        "          #guardar mejor modelo\n",
        "          best_estimators.append(grid_search.best_estimator_)\n",
        "          best_hyperpar.append(grid_search.best_params_)\n",
        "\n",
        "          #guardar acierto\n",
        "          msev[j,r] = mse(y_test,y_pred)\n",
        "          #print('it %d/%d-Modelo %d/%d'%(j+1,Niter,r,len(steps)))\n",
        "          #print(best_hyperpar)\n",
        "          #print('mse:',msev[j,r])\n",
        "\n",
        "          savedata = {\n",
        "            'acc':msev,\n",
        "            'best_models':best_estimators,\n",
        "            'best_parameters':best_hyperpar,\n",
        "              } \n",
        "          #dump(savedata,'covid19_1.joblib')\n",
        "\n",
        "  return best_estimators,best_hyperpar,msev"
      ],
      "execution_count": 0,
      "outputs": []
    },
    {
      "cell_type": "markdown",
      "metadata": {
        "id": "QxLBnRD_DnSy",
        "colab_type": "text"
      },
      "source": [
        "#### Validación Cruzada Anidada LR:\n",
        "\n",
        "- Normalización StandadScalar\n",
        "- Representación PCA\n",
        "- Regresor LinearRegression\n",
        "\n"
      ]
    },
    {
      "cell_type": "code",
      "metadata": {
        "id": "jY-K_70tDmN4",
        "colab_type": "code",
        "outputId": "eceee82f-b6f9-4125-ec97-53e5502f71f2",
        "colab": {
          "base_uri": "https://localhost:8080/",
          "height": 1000
        }
      },
      "source": [
        "X_train, X_test, y_train, y_test = train_test_split(X,y,test_size=0.3)\n",
        "\n",
        "steps = [\n",
        "         [('scaler', StandardScaler()),           #estandarizar cada atributo columna de xtrain centrada en 0 y var = 1\n",
        "          ('reg',  LinearRegression())],\n",
        "         [('scaler', StandardScaler()),\n",
        "          ('rep', PCA()),                         \n",
        "          ('reg',  LinearRegression())]\n",
        "          ]\n",
        "\n",
        "parameters = [\n",
        "                {\n",
        "                 },\n",
        "                {\n",
        "                 'rep__n_components':[0.5,0.75,0.9]\n",
        "                 }\n",
        "               ]\n",
        "\n",
        "label_model_LR = ['NorSC-LR','NorSC-PCA-LR']\n",
        "\n",
        "B_Model_LR, B_Hiperpara_LR, MAE_LR = V_Cruzada_Anidada(X,y,steps,parameters)"
      ],
      "execution_count": 166,
      "outputs": [
        {
          "output_type": "stream",
          "text": [
            "it 1/10\n",
            "Fitting 5 folds for each of 1 candidates, totalling 5 fits\n",
            "Fitting 5 folds for each of 3 candidates, totalling 15 fits\n",
            "it 2/10\n",
            "Fitting 5 folds for each of 1 candidates, totalling 5 fits\n",
            "Fitting 5 folds for each of 3 candidates, totalling 15 fits\n"
          ],
          "name": "stdout"
        },
        {
          "output_type": "stream",
          "text": [
            "[Parallel(n_jobs=5)]: Using backend LokyBackend with 5 concurrent workers.\n",
            "[Parallel(n_jobs=5)]: Done   1 tasks      | elapsed:    0.0s\n",
            "[Parallel(n_jobs=5)]: Batch computation too fast (0.0087s.) Setting batch_size=2.\n",
            "[Parallel(n_jobs=5)]: Done   2 tasks      | elapsed:    0.0s\n",
            "[Parallel(n_jobs=5)]: Done   5 out of   5 | elapsed:    0.0s remaining:    0.0s\n",
            "[Parallel(n_jobs=5)]: Done   5 out of   5 | elapsed:    0.0s finished\n",
            "[Parallel(n_jobs=5)]: Using backend LokyBackend with 5 concurrent workers.\n",
            "[Parallel(n_jobs=5)]: Batch computation too fast (0.0070s.) Setting batch_size=2.\n",
            "[Parallel(n_jobs=5)]: Batch computation too fast (0.0070s.) Setting batch_size=4.\n",
            "[Parallel(n_jobs=5)]: Done   4 tasks      | elapsed:    0.0s\n",
            "[Parallel(n_jobs=5)]: Done   8 tasks      | elapsed:    0.1s\n",
            "[Parallel(n_jobs=5)]: Done  12 out of  15 | elapsed:    0.1s remaining:    0.0s\n",
            "[Parallel(n_jobs=5)]: Done  15 out of  15 | elapsed:    0.1s finished\n",
            "[Parallel(n_jobs=5)]: Using backend LokyBackend with 5 concurrent workers.\n",
            "[Parallel(n_jobs=5)]: Batch computation too fast (0.0044s.) Setting batch_size=2.\n",
            "[Parallel(n_jobs=5)]: Batch computation too fast (0.0044s.) Setting batch_size=4.\n",
            "[Parallel(n_jobs=5)]: Done   3 out of   5 | elapsed:    0.0s remaining:    0.0s\n",
            "[Parallel(n_jobs=5)]: Done   5 out of   5 | elapsed:    0.0s remaining:    0.0s\n",
            "[Parallel(n_jobs=5)]: Done   5 out of   5 | elapsed:    0.0s finished\n",
            "[Parallel(n_jobs=5)]: Using backend LokyBackend with 5 concurrent workers.\n",
            "[Parallel(n_jobs=5)]: Done   1 tasks      | elapsed:    0.0s\n",
            "[Parallel(n_jobs=5)]: Batch computation too fast (0.0055s.) Setting batch_size=2.\n",
            "[Parallel(n_jobs=5)]: Done   4 tasks      | elapsed:    0.0s\n",
            "[Parallel(n_jobs=5)]: Done   8 tasks      | elapsed:    0.1s\n",
            "[Parallel(n_jobs=5)]: Done  12 out of  15 | elapsed:    0.1s remaining:    0.0s\n",
            "[Parallel(n_jobs=5)]: Done  15 out of  15 | elapsed:    0.1s finished\n",
            "[Parallel(n_jobs=5)]: Using backend LokyBackend with 5 concurrent workers.\n",
            "[Parallel(n_jobs=5)]: Done   1 tasks      | elapsed:    0.0s\n",
            "[Parallel(n_jobs=5)]: Batch computation too fast (0.0047s.) Setting batch_size=2.\n",
            "[Parallel(n_jobs=5)]: Batch computation too fast (0.0047s.) Setting batch_size=4.\n",
            "[Parallel(n_jobs=5)]: Done   3 out of   5 | elapsed:    0.0s remaining:    0.0s\n",
            "[Parallel(n_jobs=5)]: Done   5 out of   5 | elapsed:    0.0s remaining:    0.0s\n",
            "[Parallel(n_jobs=5)]: Done   5 out of   5 | elapsed:    0.0s finished\n",
            "[Parallel(n_jobs=5)]: Using backend LokyBackend with 5 concurrent workers.\n",
            "[Parallel(n_jobs=5)]: Done   1 tasks      | elapsed:    0.0s\n",
            "[Parallel(n_jobs=5)]: Batch computation too fast (0.0056s.) Setting batch_size=2.\n",
            "[Parallel(n_jobs=5)]: Done   3 tasks      | elapsed:    0.0s\n",
            "[Parallel(n_jobs=5)]: Done   6 tasks      | elapsed:    0.0s\n",
            "[Parallel(n_jobs=5)]: Done  10 out of  15 | elapsed:    0.1s remaining:    0.0s\n",
            "[Parallel(n_jobs=5)]: Done  12 out of  15 | elapsed:    0.1s remaining:    0.0s\n",
            "[Parallel(n_jobs=5)]: Done  15 out of  15 | elapsed:    0.1s finished\n",
            "[Parallel(n_jobs=5)]: Using backend LokyBackend with 5 concurrent workers.\n",
            "[Parallel(n_jobs=5)]: Batch computation too fast (0.0064s.) Setting batch_size=2.\n",
            "[Parallel(n_jobs=5)]: Batch computation too fast (0.0064s.) Setting batch_size=4.\n",
            "[Parallel(n_jobs=5)]: Done   3 out of   5 | elapsed:    0.0s remaining:    0.0s\n",
            "[Parallel(n_jobs=5)]: Done   5 out of   5 | elapsed:    0.0s remaining:    0.0s\n",
            "[Parallel(n_jobs=5)]: Done   5 out of   5 | elapsed:    0.0s finished\n",
            "[Parallel(n_jobs=5)]: Using backend LokyBackend with 5 concurrent workers.\n",
            "[Parallel(n_jobs=5)]: Batch computation too fast (0.0081s.) Setting batch_size=2.\n",
            "[Parallel(n_jobs=5)]: Batch computation too fast (0.0081s.) Setting batch_size=4.\n"
          ],
          "name": "stderr"
        },
        {
          "output_type": "stream",
          "text": [
            "it 3/10\n",
            "Fitting 5 folds for each of 1 candidates, totalling 5 fits\n",
            "Fitting 5 folds for each of 3 candidates, totalling 15 fits\n",
            "it 4/10\n",
            "Fitting 5 folds for each of 1 candidates, totalling 5 fits\n",
            "Fitting 5 folds for each of 3 candidates, totalling 15 fits\n"
          ],
          "name": "stdout"
        },
        {
          "output_type": "stream",
          "text": [
            "[Parallel(n_jobs=5)]: Done   4 tasks      | elapsed:    0.0s\n",
            "[Parallel(n_jobs=5)]: Done   8 tasks      | elapsed:    0.0s\n",
            "[Parallel(n_jobs=5)]: Done  12 out of  15 | elapsed:    0.1s remaining:    0.0s\n",
            "[Parallel(n_jobs=5)]: Done  15 out of  15 | elapsed:    0.1s finished\n",
            "[Parallel(n_jobs=5)]: Using backend LokyBackend with 5 concurrent workers.\n",
            "[Parallel(n_jobs=5)]: Done   1 tasks      | elapsed:    0.0s\n",
            "[Parallel(n_jobs=5)]: Batch computation too fast (0.0064s.) Setting batch_size=2.\n",
            "[Parallel(n_jobs=5)]: Done   3 out of   5 | elapsed:    0.0s remaining:    0.0s\n",
            "[Parallel(n_jobs=5)]: Done   5 out of   5 | elapsed:    0.0s remaining:    0.0s\n",
            "[Parallel(n_jobs=5)]: Done   5 out of   5 | elapsed:    0.0s finished\n",
            "[Parallel(n_jobs=5)]: Using backend LokyBackend with 5 concurrent workers.\n",
            "[Parallel(n_jobs=5)]: Batch computation too fast (0.0067s.) Setting batch_size=2.\n",
            "[Parallel(n_jobs=5)]: Done   2 tasks      | elapsed:    0.0s\n",
            "[Parallel(n_jobs=5)]: Done  15 out of  15 | elapsed:    0.1s finished\n",
            "[Parallel(n_jobs=5)]: Using backend LokyBackend with 5 concurrent workers.\n",
            "[Parallel(n_jobs=5)]: Batch computation too fast (0.0046s.) Setting batch_size=2.\n",
            "[Parallel(n_jobs=5)]: Done   2 out of   5 | elapsed:    0.0s remaining:    0.0s\n",
            "[Parallel(n_jobs=5)]: Done   3 out of   5 | elapsed:    0.0s remaining:    0.0s\n",
            "[Parallel(n_jobs=5)]: Done   5 out of   5 | elapsed:    0.0s remaining:    0.0s\n",
            "[Parallel(n_jobs=5)]: Done   5 out of   5 | elapsed:    0.0s finished\n",
            "[Parallel(n_jobs=5)]: Using backend LokyBackend with 5 concurrent workers.\n",
            "[Parallel(n_jobs=5)]: Batch computation too fast (0.0079s.) Setting batch_size=2.\n",
            "[Parallel(n_jobs=5)]: Batch computation too fast (0.0079s.) Setting batch_size=4.\n"
          ],
          "name": "stderr"
        },
        {
          "output_type": "stream",
          "text": [
            "it 5/10\n",
            "Fitting 5 folds for each of 1 candidates, totalling 5 fits\n",
            "Fitting 5 folds for each of 3 candidates, totalling 15 fits\n",
            "it 6/10\n",
            "Fitting 5 folds for each of 1 candidates, totalling 5 fits\n",
            "Fitting 5 folds for each of 3 candidates, totalling 15 fits\n"
          ],
          "name": "stdout"
        },
        {
          "output_type": "stream",
          "text": [
            "[Parallel(n_jobs=5)]: Done   4 tasks      | elapsed:    0.0s\n",
            "[Parallel(n_jobs=5)]: Done   8 tasks      | elapsed:    0.1s\n",
            "[Parallel(n_jobs=5)]: Done  12 out of  15 | elapsed:    0.1s remaining:    0.0s\n",
            "[Parallel(n_jobs=5)]: Done  15 out of  15 | elapsed:    0.1s finished\n",
            "[Parallel(n_jobs=5)]: Using backend LokyBackend with 5 concurrent workers.\n",
            "[Parallel(n_jobs=5)]: Batch computation too fast (0.0076s.) Setting batch_size=2.\n",
            "[Parallel(n_jobs=5)]: Done   2 out of   5 | elapsed:    0.0s remaining:    0.0s\n",
            "[Parallel(n_jobs=5)]: Done   3 out of   5 | elapsed:    0.0s remaining:    0.0s\n",
            "[Parallel(n_jobs=5)]: Done   5 out of   5 | elapsed:    0.0s remaining:    0.0s\n",
            "[Parallel(n_jobs=5)]: Done   5 out of   5 | elapsed:    0.0s finished\n",
            "[Parallel(n_jobs=5)]: Using backend LokyBackend with 5 concurrent workers.\n",
            "[Parallel(n_jobs=5)]: Done   1 tasks      | elapsed:    0.0s\n",
            "[Parallel(n_jobs=5)]: Batch computation too fast (0.0118s.) Setting batch_size=2.\n",
            "[Parallel(n_jobs=5)]: Done   6 tasks      | elapsed:    0.0s\n",
            "[Parallel(n_jobs=5)]: Done  10 out of  15 | elapsed:    0.1s remaining:    0.0s\n",
            "[Parallel(n_jobs=5)]: Done  12 out of  15 | elapsed:    0.1s remaining:    0.0s\n",
            "[Parallel(n_jobs=5)]: Done  15 out of  15 | elapsed:    0.1s finished\n"
          ],
          "name": "stderr"
        },
        {
          "output_type": "stream",
          "text": [
            "it 7/10\n",
            "Fitting 5 folds for each of 1 candidates, totalling 5 fits\n",
            "Fitting 5 folds for each of 3 candidates, totalling 15 fits\n",
            "it 8/10\n",
            "Fitting 5 folds for each of 1 candidates, totalling 5 fits\n",
            "Fitting 5 folds for each of 3 candidates, totalling 15 fits\n"
          ],
          "name": "stdout"
        },
        {
          "output_type": "stream",
          "text": [
            "[Parallel(n_jobs=5)]: Using backend LokyBackend with 5 concurrent workers.\n",
            "[Parallel(n_jobs=5)]: Done   1 tasks      | elapsed:    0.0s\n",
            "[Parallel(n_jobs=5)]: Batch computation too fast (0.0049s.) Setting batch_size=2.\n",
            "[Parallel(n_jobs=5)]: Done   5 out of   5 | elapsed:    0.0s remaining:    0.0s\n",
            "[Parallel(n_jobs=5)]: Done   5 out of   5 | elapsed:    0.0s finished\n",
            "[Parallel(n_jobs=5)]: Using backend LokyBackend with 5 concurrent workers.\n",
            "[Parallel(n_jobs=5)]: Done   1 tasks      | elapsed:    0.0s\n",
            "[Parallel(n_jobs=5)]: Batch computation too fast (0.0153s.) Setting batch_size=2.\n",
            "[Parallel(n_jobs=5)]: Batch computation too fast (0.0153s.) Setting batch_size=4.\n",
            "[Parallel(n_jobs=5)]: Done   4 tasks      | elapsed:    0.0s\n",
            "[Parallel(n_jobs=5)]: Done   6 out of  15 | elapsed:    0.0s remaining:    0.1s\n",
            "[Parallel(n_jobs=5)]: Done   8 out of  15 | elapsed:    0.0s remaining:    0.0s\n",
            "[Parallel(n_jobs=5)]: Done  10 out of  15 | elapsed:    0.1s remaining:    0.0s\n",
            "[Parallel(n_jobs=5)]: Done  12 out of  15 | elapsed:    0.1s remaining:    0.0s\n",
            "[Parallel(n_jobs=5)]: Done  15 out of  15 | elapsed:    0.1s finished\n",
            "[Parallel(n_jobs=5)]: Using backend LokyBackend with 5 concurrent workers.\n",
            "[Parallel(n_jobs=5)]: Batch computation too fast (0.0055s.) Setting batch_size=2.\n",
            "[Parallel(n_jobs=5)]: Batch computation too fast (0.0055s.) Setting batch_size=4.\n",
            "[Parallel(n_jobs=5)]: Done   3 out of   5 | elapsed:    0.0s remaining:    0.0s\n",
            "[Parallel(n_jobs=5)]: Done   5 out of   5 | elapsed:    0.0s remaining:    0.0s\n",
            "[Parallel(n_jobs=5)]: Done   5 out of   5 | elapsed:    0.0s finished\n",
            "[Parallel(n_jobs=5)]: Using backend LokyBackend with 5 concurrent workers.\n",
            "[Parallel(n_jobs=5)]: Batch computation too fast (0.0174s.) Setting batch_size=2.\n",
            "[Parallel(n_jobs=5)]: Done   3 tasks      | elapsed:    0.1s\n"
          ],
          "name": "stderr"
        },
        {
          "output_type": "stream",
          "text": [
            "it 9/10\n",
            "Fitting 5 folds for each of 1 candidates, totalling 5 fits\n",
            "Fitting 5 folds for each of 3 candidates, totalling 15 fits\n",
            "it 10/10\n",
            "Fitting 5 folds for each of 1 candidates, totalling 5 fits\n",
            "Fitting 5 folds for each of 3 candidates, totalling 15 fits\n"
          ],
          "name": "stdout"
        },
        {
          "output_type": "stream",
          "text": [
            "[Parallel(n_jobs=5)]: Done   8 out of  15 | elapsed:    0.1s remaining:    0.1s\n",
            "[Parallel(n_jobs=5)]: Done  10 out of  15 | elapsed:    0.1s remaining:    0.0s\n",
            "[Parallel(n_jobs=5)]: Done  12 out of  15 | elapsed:    0.1s remaining:    0.0s\n",
            "[Parallel(n_jobs=5)]: Done  15 out of  15 | elapsed:    0.1s finished\n",
            "[Parallel(n_jobs=5)]: Using backend LokyBackend with 5 concurrent workers.\n",
            "[Parallel(n_jobs=5)]: Done   1 tasks      | elapsed:    0.0s\n",
            "[Parallel(n_jobs=5)]: Batch computation too fast (0.0064s.) Setting batch_size=2.\n",
            "[Parallel(n_jobs=5)]: Done   2 tasks      | elapsed:    0.0s\n",
            "[Parallel(n_jobs=5)]: Done   3 out of   5 | elapsed:    0.0s remaining:    0.0s\n",
            "[Parallel(n_jobs=5)]: Done   5 out of   5 | elapsed:    0.0s remaining:    0.0s\n",
            "[Parallel(n_jobs=5)]: Done   5 out of   5 | elapsed:    0.0s finished\n",
            "[Parallel(n_jobs=5)]: Using backend LokyBackend with 5 concurrent workers.\n",
            "[Parallel(n_jobs=5)]: Done   1 tasks      | elapsed:    0.0s\n",
            "[Parallel(n_jobs=5)]: Batch computation too fast (0.0054s.) Setting batch_size=2.\n",
            "[Parallel(n_jobs=5)]: Done   2 tasks      | elapsed:    0.0s\n",
            "[Parallel(n_jobs=5)]: Done   6 tasks      | elapsed:    0.0s\n",
            "[Parallel(n_jobs=5)]: Done  10 out of  15 | elapsed:    0.1s remaining:    0.0s\n",
            "[Parallel(n_jobs=5)]: Done  12 out of  15 | elapsed:    0.1s remaining:    0.0s\n",
            "[Parallel(n_jobs=5)]: Done  15 out of  15 | elapsed:    0.1s finished\n"
          ],
          "name": "stderr"
        }
      ]
    },
    {
      "cell_type": "code",
      "metadata": {
        "id": "cCuO3b3_FbU5",
        "colab_type": "code",
        "outputId": "28591331-29d1-43b1-b8d4-1b194d3330b0",
        "colab": {
          "base_uri": "https://localhost:8080/",
          "height": 265
        }
      },
      "source": [
        "plt.boxplot(MAE_LR)\n",
        "plt.xticks(ticks=np.arange(len(steps))+1,labels=label_model_LR)\n",
        "plt.show()"
      ],
      "execution_count": 167,
      "outputs": [
        {
          "output_type": "display_data",
          "data": {
            "image/png": "[encoded data removed]",
            "text/plain": [
              "<Figure size 432x288 with 1 Axes>"
            ]
          },
          "metadata": {
            "tags": [],
            "needs_background": "light"
          }
        }
      ]
    },
    {
      "cell_type": "code",
      "metadata": {
        "id": "Q5EiduihFbZU",
        "colab_type": "code",
        "outputId": "9e29c32a-59b8-4ef4-e9fb-cc1b637fddbd",
        "colab": {
          "base_uri": "https://localhost:8080/",
          "height": 187
        }
      },
      "source": [
        "MAE_LR"
      ],
      "execution_count": 168,
      "outputs": [
        {
          "output_type": "execute_result",
          "data": {
            "text/plain": [
              "array([[ 9456.20023488, 16386.75911594],\n",
              "       [16931.44850692, 17909.56827714],\n",
              "       [ 4518.56180313,  7822.94778641],\n",
              "       [10022.99655237, 12201.1721155 ],\n",
              "       [ 5026.13020781, 11592.46874428],\n",
              "       [11423.20922861, 26562.55073722],\n",
              "       [ 7026.16186312, 25323.96773611],\n",
              "       [ 5641.80319988,  9850.89158811],\n",
              "       [ 5612.50692605, 13739.5421662 ],\n",
              "       [ 4450.90038171,  7878.1629941 ]])"
            ]
          },
          "metadata": {
            "tags": []
          },
          "execution_count": 168
        }
      ]
    },
    {
      "cell_type": "code",
      "metadata": {
        "id": "P9tdScg5GA2n",
        "colab_type": "code",
        "outputId": "d569a81e-f05f-4e52-850e-23193efafa9a",
        "colab": {
          "base_uri": "https://localhost:8080/",
          "height": 357
        }
      },
      "source": [
        "B_Hiperpara_LR"
      ],
      "execution_count": 169,
      "outputs": [
        {
          "output_type": "execute_result",
          "data": {
            "text/plain": [
              "[{},\n",
              " {'rep__n_components': 0.5},\n",
              " {},\n",
              " {'rep__n_components': 0.5},\n",
              " {},\n",
              " {'rep__n_components': 0.5},\n",
              " {},\n",
              " {'rep__n_components': 0.5},\n",
              " {},\n",
              " {'rep__n_components': 0.5},\n",
              " {},\n",
              " {'rep__n_components': 0.5},\n",
              " {},\n",
              " {'rep__n_components': 0.5},\n",
              " {},\n",
              " {'rep__n_components': 0.5},\n",
              " {},\n",
              " {'rep__n_components': 0.5},\n",
              " {},\n",
              " {'rep__n_components': 0.5}]"
            ]
          },
          "metadata": {
            "tags": []
          },
          "execution_count": 169
        }
      ]
    },
    {
      "cell_type": "code",
      "metadata": {
        "id": "pkVuXke3GD0U",
        "colab_type": "code",
        "outputId": "43e1b7b6-2ecd-4c2d-c0f0-6734f192062c",
        "colab": {
          "base_uri": "https://localhost:8080/",
          "height": 136
        }
      },
      "source": [
        "steps =  [('scaler', StandardScaler()),\n",
        "          #('rep', PCA(n_components=0.5)),                         \n",
        "          ('reg', LinearRegression())]\n",
        "\n",
        "Mod_SC_LR = Pipeline(steps = steps)\n",
        "Mod_SC_LR.fit(X_train,y_train)"
      ],
      "execution_count": 170,
      "outputs": [
        {
          "output_type": "execute_result",
          "data": {
            "text/plain": [
              "Pipeline(memory=None,\n",
              "         steps=[('scaler',\n",
              "                 StandardScaler(copy=True, with_mean=True, with_std=True)),\n",
              "                ('reg',\n",
              "                 LinearRegression(copy_X=True, fit_intercept=True, n_jobs=None,\n",
              "                                  normalize=False))],\n",
              "         verbose=False)"
            ]
          },
          "metadata": {
            "tags": []
          },
          "execution_count": 170
        }
      ]
    },
    {
      "cell_type": "code",
      "metadata": {
        "id": "BjyvcLJ4J3eA",
        "colab_type": "code",
        "outputId": "ca3c9b64-288c-4960-b0c1-4c3e5a410548",
        "colab": {
          "base_uri": "https://localhost:8080/",
          "height": 51
        }
      },
      "source": [
        "from datetime import date\n",
        "Xn = prueba1\n",
        "\n",
        "Xn = Xn.reshape(1,-1)\n",
        "Pre_SC_LR = Mod_SC_LR.predict(Xn)\n",
        "\n",
        "print('Número de contagiados en los últimos 5 días:',Xn)\n",
        "print('Predicción contagios para',date.today(),'usando un modelo LinearRegression:',Pre_SC_LR)"
      ],
      "execution_count": 171,
      "outputs": [
        {
          "output_type": "stream",
          "text": [
            "Número de contagiados en los últimos 5 días: [[6507 7006 7285 7668 7973]]\n",
            "Predicción contagios para 2020-05-06 usando un modelo LinearRegression: [[8772.70897312]]\n"
          ],
          "name": "stdout"
        }
      ]
    },
    {
      "cell_type": "markdown",
      "metadata": {
        "id": "yI7A5envLDrV",
        "colab_type": "text"
      },
      "source": [
        "#### Validación Cruzada Anidada Ridge:\n",
        "\n",
        "- Normalización StandadScalar\n",
        "- Representación PCA\n",
        "- Regresor LinearRidge\n"
      ]
    },
    {
      "cell_type": "code",
      "metadata": {
        "colab_type": "code",
        "outputId": "dc813482-73cf-4009-d59a-d2bdd8e26f66",
        "id": "Ryrx4CNWMN2E",
        "colab": {
          "base_uri": "https://localhost:8080/",
          "height": 1000
        }
      },
      "source": [
        "steps = [\n",
        "         [('scaler', StandardScaler()),           #estandarizar cada atributo columna de xtrain centrada en 0 y var = 1\n",
        "          ('reg',  Ridge( ))],\n",
        "         [('scaler', StandardScaler()),\n",
        "          ('rep', PCA()),                         \n",
        "          ('reg',  Ridge())]\n",
        "          ]\n",
        "\n",
        "parameters = [\n",
        "                {'reg__alpha':[1e-3,1e-2,1e-1,1],\n",
        "                 'reg__solver':['svd', 'cholesky', 'lsqr', 'sag', 'saga']\n",
        "                 },\n",
        "                {'rep__n_components':[0.5,0.9],\n",
        "                 'reg__alpha':[1e-3,1e-2,1e-1,1],\n",
        "                 'reg__solver':['svd', 'cholesky', 'lsqr', 'sag', 'saga']\n",
        "                 }\n",
        "               ]\n",
        "\n",
        "label_model_R = ['NorSC-R','NorSC-PCA-R']\n",
        "\n",
        "B_Model_R, B_Hiperpara_R, MAE_R = V_Cruzada_Anidada(X,y,steps,parameters)"
      ],
      "execution_count": 172,
      "outputs": [
        {
          "output_type": "stream",
          "text": [
            "it 1/10\n",
            "Fitting 5 folds for each of 20 candidates, totalling 100 fits\n"
          ],
          "name": "stdout"
        },
        {
          "output_type": "stream",
          "text": [
            "[Parallel(n_jobs=5)]: Using backend LokyBackend with 5 concurrent workers.\n",
            "[Parallel(n_jobs=5)]: Done   1 tasks      | elapsed:    0.0s\n",
            "[Parallel(n_jobs=5)]: Batch computation too fast (0.0065s.) Setting batch_size=2.\n",
            "[Parallel(n_jobs=5)]: Batch computation too fast (0.0065s.) Setting batch_size=4.\n",
            "[Parallel(n_jobs=5)]: Done   4 tasks      | elapsed:    0.0s\n",
            "[Parallel(n_jobs=5)]: Done   9 tasks      | elapsed:    0.1s\n",
            "[Parallel(n_jobs=5)]: Batch computation too fast (0.0572s.) Setting batch_size=8.\n",
            "[Parallel(n_jobs=5)]: Done  34 tasks      | elapsed:    0.2s\n",
            "[Parallel(n_jobs=5)]: Batch computation too fast (0.0425s.) Setting batch_size=16.\n",
            "[Parallel(n_jobs=5)]: Done  74 tasks      | elapsed:    0.3s\n",
            "[Parallel(n_jobs=5)]: Done  80 out of 100 | elapsed:    0.3s remaining:    0.1s\n",
            "[Parallel(n_jobs=5)]: Done 100 out of 100 | elapsed:    0.3s finished\n",
            "[Parallel(n_jobs=5)]: Using backend LokyBackend with 5 concurrent workers.\n",
            "[Parallel(n_jobs=5)]: Batch computation too fast (0.0069s.) Setting batch_size=2.\n",
            "[Parallel(n_jobs=5)]: Done   2 tasks      | elapsed:    0.0s\n",
            "[Parallel(n_jobs=5)]: Done   4 tasks      | elapsed:    0.0s\n",
            "[Parallel(n_jobs=5)]: Done   9 tasks      | elapsed:    0.1s\n",
            "[Parallel(n_jobs=5)]: Batch computation too fast (0.0387s.) Setting batch_size=4.\n",
            "[Parallel(n_jobs=5)]: Done  22 tasks      | elapsed:    0.1s\n"
          ],
          "name": "stderr"
        },
        {
          "output_type": "stream",
          "text": [
            "Fitting 5 folds for each of 40 candidates, totalling 200 fits\n"
          ],
          "name": "stdout"
        },
        {
          "output_type": "stream",
          "text": [
            "[Parallel(n_jobs=5)]: Batch computation too fast (0.0868s.) Setting batch_size=8.\n",
            "[Parallel(n_jobs=5)]: Done  42 tasks      | elapsed:    0.3s\n",
            "[Parallel(n_jobs=5)]: Batch computation too fast (0.0722s.) Setting batch_size=16.\n",
            "[Parallel(n_jobs=5)]: Done  86 tasks      | elapsed:    0.4s\n",
            "[Parallel(n_jobs=5)]: Done 130 tasks      | elapsed:    0.6s\n",
            "[Parallel(n_jobs=5)]: Done 155 tasks      | elapsed:    0.6s\n",
            "[Parallel(n_jobs=5)]: Done 173 tasks      | elapsed:    0.7s\n",
            "[Parallel(n_jobs=5)]: Done 186 tasks      | elapsed:    0.7s\n",
            "[Parallel(n_jobs=5)]: Done 200 out of 200 | elapsed:    0.8s finished\n",
            "[Parallel(n_jobs=5)]: Using backend LokyBackend with 5 concurrent workers.\n",
            "[Parallel(n_jobs=5)]: Done   1 tasks      | elapsed:    0.0s\n",
            "[Parallel(n_jobs=5)]: Batch computation too fast (0.0063s.) Setting batch_size=2.\n",
            "[Parallel(n_jobs=5)]: Batch computation too fast (0.0063s.) Setting batch_size=4.\n",
            "[Parallel(n_jobs=5)]: Done   5 tasks      | elapsed:    0.0s\n"
          ],
          "name": "stderr"
        },
        {
          "output_type": "stream",
          "text": [
            "it 2/10\n",
            "Fitting 5 folds for each of 20 candidates, totalling 100 fits\n"
          ],
          "name": "stdout"
        },
        {
          "output_type": "stream",
          "text": [
            "[Parallel(n_jobs=5)]: Done   8 tasks      | elapsed:    0.1s\n",
            "[Parallel(n_jobs=5)]: Batch computation too fast (0.0531s.) Setting batch_size=8.\n",
            "[Parallel(n_jobs=5)]: Done  30 tasks      | elapsed:    0.1s\n",
            "[Parallel(n_jobs=5)]: Batch computation too fast (0.0955s.) Setting batch_size=16.\n",
            "[Parallel(n_jobs=5)]: Done  63 tasks      | elapsed:    0.3s\n",
            "[Parallel(n_jobs=5)]: Done 100 out of 100 | elapsed:    0.3s finished\n",
            "[Parallel(n_jobs=5)]: Using backend LokyBackend with 5 concurrent workers.\n",
            "[Parallel(n_jobs=5)]: Batch computation too fast (0.0160s.) Setting batch_size=2.\n",
            "[Parallel(n_jobs=5)]: Done   3 tasks      | elapsed:    0.0s\n",
            "[Parallel(n_jobs=5)]: Done   8 tasks      | elapsed:    0.1s\n",
            "[Parallel(n_jobs=5)]: Batch computation too fast (0.0329s.) Setting batch_size=4.\n",
            "[Parallel(n_jobs=5)]: Done  20 tasks      | elapsed:    0.1s\n",
            "[Parallel(n_jobs=5)]: Batch computation too fast (0.0832s.) Setting batch_size=8.\n"
          ],
          "name": "stderr"
        },
        {
          "output_type": "stream",
          "text": [
            "Fitting 5 folds for each of 40 candidates, totalling 200 fits\n"
          ],
          "name": "stdout"
        },
        {
          "output_type": "stream",
          "text": [
            "[Parallel(n_jobs=5)]: Done  38 tasks      | elapsed:    0.2s\n",
            "[Parallel(n_jobs=5)]: Done  78 tasks      | elapsed:    0.4s\n",
            "[Parallel(n_jobs=5)]: Batch computation too fast (0.1660s.) Setting batch_size=16.\n",
            "[Parallel(n_jobs=5)]: Done 136 tasks      | elapsed:    0.5s\n",
            "[Parallel(n_jobs=5)]: Done 154 tasks      | elapsed:    0.6s\n",
            "[Parallel(n_jobs=5)]: Done 172 tasks      | elapsed:    0.6s\n",
            "[Parallel(n_jobs=5)]: Done 185 tasks      | elapsed:    0.7s\n",
            "[Parallel(n_jobs=5)]: Done 200 out of 200 | elapsed:    0.7s finished\n"
          ],
          "name": "stderr"
        },
        {
          "output_type": "stream",
          "text": [
            "it 3/10\n",
            "Fitting 5 folds for each of 20 candidates, totalling 100 fits\n"
          ],
          "name": "stdout"
        },
        {
          "output_type": "stream",
          "text": [
            "[Parallel(n_jobs=5)]: Using backend LokyBackend with 5 concurrent workers.\n",
            "[Parallel(n_jobs=5)]: Batch computation too fast (0.0177s.) Setting batch_size=2.\n",
            "[Parallel(n_jobs=5)]: Done   3 tasks      | elapsed:    0.0s\n",
            "[Parallel(n_jobs=5)]: Done   8 tasks      | elapsed:    0.0s\n",
            "[Parallel(n_jobs=5)]: Batch computation too fast (0.0309s.) Setting batch_size=4.\n",
            "[Parallel(n_jobs=5)]: Done  20 tasks      | elapsed:    0.1s\n",
            "[Parallel(n_jobs=5)]: Batch computation too fast (0.0785s.) Setting batch_size=8.\n",
            "[Parallel(n_jobs=5)]: Done  38 tasks      | elapsed:    0.2s\n",
            "[Parallel(n_jobs=5)]: Done  68 tasks      | elapsed:    0.3s\n",
            "[Parallel(n_jobs=5)]: Done  80 tasks      | elapsed:    0.3s\n",
            "[Parallel(n_jobs=5)]: Done  91 tasks      | elapsed:    0.3s\n",
            "[Parallel(n_jobs=5)]: Done 100 out of 100 | elapsed:    0.3s finished\n",
            "[Parallel(n_jobs=5)]: Using backend LokyBackend with 5 concurrent workers.\n",
            "[Parallel(n_jobs=5)]: Batch computation too fast (0.0146s.) Setting batch_size=2.\n",
            "[Parallel(n_jobs=5)]: Done   3 tasks      | elapsed:    0.0s\n",
            "[Parallel(n_jobs=5)]: Done   8 tasks      | elapsed:    0.1s\n",
            "[Parallel(n_jobs=5)]: Batch computation too fast (0.0773s.) Setting batch_size=4.\n"
          ],
          "name": "stderr"
        },
        {
          "output_type": "stream",
          "text": [
            "Fitting 5 folds for each of 40 candidates, totalling 200 fits\n"
          ],
          "name": "stdout"
        },
        {
          "output_type": "stream",
          "text": [
            "[Parallel(n_jobs=5)]: Done  20 tasks      | elapsed:    0.1s\n",
            "[Parallel(n_jobs=5)]: Batch computation too fast (0.0617s.) Setting batch_size=8.\n",
            "[Parallel(n_jobs=5)]: Done  38 tasks      | elapsed:    0.3s\n",
            "[Parallel(n_jobs=5)]: Done  78 tasks      | elapsed:    0.4s\n",
            "[Parallel(n_jobs=5)]: Batch computation too fast (0.1416s.) Setting batch_size=16.\n",
            "[Parallel(n_jobs=5)]: Done 122 tasks      | elapsed:    0.5s\n",
            "[Parallel(n_jobs=5)]: Done 161 tasks      | elapsed:    0.6s\n",
            "[Parallel(n_jobs=5)]: Done 172 tasks      | elapsed:    0.6s\n",
            "[Parallel(n_jobs=5)]: Done 185 tasks      | elapsed:    0.7s\n",
            "[Parallel(n_jobs=5)]: Done 200 out of 200 | elapsed:    0.7s finished\n",
            "[Parallel(n_jobs=5)]: Using backend LokyBackend with 5 concurrent workers.\n",
            "[Parallel(n_jobs=5)]: Batch computation too fast (0.0108s.) Setting batch_size=2.\n",
            "[Parallel(n_jobs=5)]: Batch computation too fast (0.0108s.) Setting batch_size=4.\n",
            "[Parallel(n_jobs=5)]: Done   2 tasks      | elapsed:    0.0s\n",
            "[Parallel(n_jobs=5)]: Done   6 tasks      | elapsed:    0.0s\n",
            "[Parallel(n_jobs=5)]: Done  14 tasks      | elapsed:    0.1s\n",
            "[Parallel(n_jobs=5)]: Batch computation too fast (0.0326s.) Setting batch_size=8.\n"
          ],
          "name": "stderr"
        },
        {
          "output_type": "stream",
          "text": [
            "it 4/10\n",
            "Fitting 5 folds for each of 20 candidates, totalling 100 fits\n"
          ],
          "name": "stdout"
        },
        {
          "output_type": "stream",
          "text": [
            "[Parallel(n_jobs=5)]: Done  42 tasks      | elapsed:    0.2s\n",
            "[Parallel(n_jobs=5)]: Batch computation too fast (0.0632s.) Setting batch_size=16.\n",
            "[Parallel(n_jobs=5)]: Done  69 tasks      | elapsed:    0.3s\n",
            "[Parallel(n_jobs=5)]: Done  91 out of 100 | elapsed:    0.3s remaining:    0.0s\n",
            "[Parallel(n_jobs=5)]: Done 100 out of 100 | elapsed:    0.4s finished\n",
            "[Parallel(n_jobs=5)]: Using backend LokyBackend with 5 concurrent workers.\n"
          ],
          "name": "stderr"
        },
        {
          "output_type": "stream",
          "text": [
            "Fitting 5 folds for each of 40 candidates, totalling 200 fits\n"
          ],
          "name": "stdout"
        },
        {
          "output_type": "stream",
          "text": [
            "[Parallel(n_jobs=5)]: Batch computation too fast (0.0163s.) Setting batch_size=2.\n",
            "[Parallel(n_jobs=5)]: Done   3 tasks      | elapsed:    0.0s\n",
            "[Parallel(n_jobs=5)]: Done   8 tasks      | elapsed:    0.1s\n",
            "[Parallel(n_jobs=5)]: Batch computation too fast (0.0751s.) Setting batch_size=4.\n",
            "[Parallel(n_jobs=5)]: Done  20 tasks      | elapsed:    0.1s\n",
            "[Parallel(n_jobs=5)]: Batch computation too fast (0.0503s.) Setting batch_size=8.\n",
            "[Parallel(n_jobs=5)]: Done  38 tasks      | elapsed:    0.2s\n",
            "[Parallel(n_jobs=5)]: Done  78 tasks      | elapsed:    0.3s\n",
            "[Parallel(n_jobs=5)]: Batch computation too fast (0.0968s.) Setting batch_size=16.\n",
            "[Parallel(n_jobs=5)]: Done 129 tasks      | elapsed:    0.5s\n",
            "[Parallel(n_jobs=5)]: Done 161 tasks      | elapsed:    0.6s\n",
            "[Parallel(n_jobs=5)]: Done 172 tasks      | elapsed:    0.6s\n",
            "[Parallel(n_jobs=5)]: Done 185 tasks      | elapsed:    0.7s\n",
            "[Parallel(n_jobs=5)]: Done 200 out of 200 | elapsed:    0.7s finished\n"
          ],
          "name": "stderr"
        },
        {
          "output_type": "stream",
          "text": [
            "it 5/10\n",
            "Fitting 5 folds for each of 20 candidates, totalling 100 fits\n"
          ],
          "name": "stdout"
        },
        {
          "output_type": "stream",
          "text": [
            "[Parallel(n_jobs=5)]: Using backend LokyBackend with 5 concurrent workers.\n",
            "[Parallel(n_jobs=5)]: Batch computation too fast (0.0075s.) Setting batch_size=2.\n",
            "[Parallel(n_jobs=5)]: Done   3 tasks      | elapsed:    0.0s\n",
            "[Parallel(n_jobs=5)]: Done   8 tasks      | elapsed:    0.0s\n",
            "[Parallel(n_jobs=5)]: Batch computation too fast (0.0363s.) Setting batch_size=4.\n",
            "[Parallel(n_jobs=5)]: Done  20 tasks      | elapsed:    0.1s\n",
            "[Parallel(n_jobs=5)]: Batch computation too fast (0.0648s.) Setting batch_size=8.\n",
            "[Parallel(n_jobs=5)]: Done  38 tasks      | elapsed:    0.2s\n",
            "[Parallel(n_jobs=5)]: Done  65 tasks      | elapsed:    0.3s\n",
            "[Parallel(n_jobs=5)]: Done  80 tasks      | elapsed:    0.3s\n",
            "[Parallel(n_jobs=5)]: Done  91 tasks      | elapsed:    0.4s\n",
            "[Parallel(n_jobs=5)]: Done 100 out of 100 | elapsed:    0.4s finished\n",
            "[Parallel(n_jobs=5)]: Using backend LokyBackend with 5 concurrent workers.\n",
            "[Parallel(n_jobs=5)]: Batch computation too fast (0.0110s.) Setting batch_size=2.\n",
            "[Parallel(n_jobs=5)]: Done   3 tasks      | elapsed:    0.0s\n",
            "[Parallel(n_jobs=5)]: Done   8 tasks      | elapsed:    0.0s\n",
            "[Parallel(n_jobs=5)]: Batch computation too fast (0.0400s.) Setting batch_size=4.\n"
          ],
          "name": "stderr"
        },
        {
          "output_type": "stream",
          "text": [
            "Fitting 5 folds for each of 40 candidates, totalling 200 fits\n"
          ],
          "name": "stdout"
        },
        {
          "output_type": "stream",
          "text": [
            "[Parallel(n_jobs=5)]: Done  20 tasks      | elapsed:    0.1s\n",
            "[Parallel(n_jobs=5)]: Batch computation too fast (0.0766s.) Setting batch_size=8.\n",
            "[Parallel(n_jobs=5)]: Done  38 tasks      | elapsed:    0.2s\n",
            "[Parallel(n_jobs=5)]: Done  78 tasks      | elapsed:    0.3s\n",
            "[Parallel(n_jobs=5)]: Batch computation too fast (0.1266s.) Setting batch_size=16.\n",
            "[Parallel(n_jobs=5)]: Done 143 tasks      | elapsed:    0.5s\n",
            "[Parallel(n_jobs=5)]: Done 161 tasks      | elapsed:    0.5s\n",
            "[Parallel(n_jobs=5)]: Done 172 tasks      | elapsed:    0.6s\n",
            "[Parallel(n_jobs=5)]: Done 185 tasks      | elapsed:    0.7s\n",
            "[Parallel(n_jobs=5)]: Done 200 out of 200 | elapsed:    0.7s finished\n",
            "[Parallel(n_jobs=5)]: Using backend LokyBackend with 5 concurrent workers.\n",
            "[Parallel(n_jobs=5)]: Batch computation too fast (0.0094s.) Setting batch_size=2.\n",
            "[Parallel(n_jobs=5)]: Done   3 tasks      | elapsed:    0.0s\n"
          ],
          "name": "stderr"
        },
        {
          "output_type": "stream",
          "text": [
            "it 6/10\n",
            "Fitting 5 folds for each of 20 candidates, totalling 100 fits\n"
          ],
          "name": "stdout"
        },
        {
          "output_type": "stream",
          "text": [
            "[Parallel(n_jobs=5)]: Done   8 tasks      | elapsed:    0.0s\n",
            "[Parallel(n_jobs=5)]: Batch computation too fast (0.0704s.) Setting batch_size=4.\n",
            "[Parallel(n_jobs=5)]: Done  20 tasks      | elapsed:    0.1s\n",
            "[Parallel(n_jobs=5)]: Batch computation too fast (0.0911s.) Setting batch_size=8.\n",
            "[Parallel(n_jobs=5)]: Done  38 tasks      | elapsed:    0.3s\n",
            "[Parallel(n_jobs=5)]: Done  65 tasks      | elapsed:    0.3s\n",
            "[Parallel(n_jobs=5)]: Done  80 tasks      | elapsed:    0.3s\n",
            "[Parallel(n_jobs=5)]: Done  91 tasks      | elapsed:    0.3s\n",
            "[Parallel(n_jobs=5)]: Done 100 out of 100 | elapsed:    0.4s finished\n",
            "[Parallel(n_jobs=5)]: Using backend LokyBackend with 5 concurrent workers.\n",
            "[Parallel(n_jobs=5)]: Batch computation too fast (0.0179s.) Setting batch_size=2.\n",
            "[Parallel(n_jobs=5)]: Done   3 tasks      | elapsed:    0.0s\n",
            "[Parallel(n_jobs=5)]: Done   8 tasks      | elapsed:    0.0s\n",
            "[Parallel(n_jobs=5)]: Batch computation too fast (0.0310s.) Setting batch_size=4.\n"
          ],
          "name": "stderr"
        },
        {
          "output_type": "stream",
          "text": [
            "Fitting 5 folds for each of 40 candidates, totalling 200 fits\n"
          ],
          "name": "stdout"
        },
        {
          "output_type": "stream",
          "text": [
            "[Parallel(n_jobs=5)]: Done  20 tasks      | elapsed:    0.1s\n",
            "[Parallel(n_jobs=5)]: Batch computation too fast (0.0839s.) Setting batch_size=8.\n",
            "[Parallel(n_jobs=5)]: Done  38 tasks      | elapsed:    0.2s\n",
            "[Parallel(n_jobs=5)]: Done  78 tasks      | elapsed:    0.4s\n",
            "[Parallel(n_jobs=5)]: Batch computation too fast (0.1718s.) Setting batch_size=16.\n",
            "[Parallel(n_jobs=5)]: Done 136 tasks      | elapsed:    0.5s\n",
            "[Parallel(n_jobs=5)]: Done 161 tasks      | elapsed:    0.6s\n",
            "[Parallel(n_jobs=5)]: Done 172 tasks      | elapsed:    0.6s\n",
            "[Parallel(n_jobs=5)]: Done 185 tasks      | elapsed:    0.7s\n",
            "[Parallel(n_jobs=5)]: Done 200 out of 200 | elapsed:    0.7s finished\n",
            "[Parallel(n_jobs=5)]: Using backend LokyBackend with 5 concurrent workers.\n",
            "[Parallel(n_jobs=5)]: Batch computation too fast (0.0147s.) Setting batch_size=2.\n",
            "[Parallel(n_jobs=5)]: Done   3 tasks      | elapsed:    0.0s\n",
            "[Parallel(n_jobs=5)]: Done   8 tasks      | elapsed:    0.0s\n",
            "[Parallel(n_jobs=5)]: Batch computation too fast (0.0332s.) Setting batch_size=4.\n"
          ],
          "name": "stderr"
        },
        {
          "output_type": "stream",
          "text": [
            "it 7/10\n",
            "Fitting 5 folds for each of 20 candidates, totalling 100 fits\n"
          ],
          "name": "stdout"
        },
        {
          "output_type": "stream",
          "text": [
            "[Parallel(n_jobs=5)]: Done  20 tasks      | elapsed:    0.1s\n",
            "[Parallel(n_jobs=5)]: Batch computation too fast (0.0785s.) Setting batch_size=8.\n",
            "[Parallel(n_jobs=5)]: Done  38 tasks      | elapsed:    0.2s\n",
            "[Parallel(n_jobs=5)]: Done  68 tasks      | elapsed:    0.3s\n",
            "[Parallel(n_jobs=5)]: Done  80 tasks      | elapsed:    0.3s\n",
            "[Parallel(n_jobs=5)]: Done  91 tasks      | elapsed:    0.3s\n",
            "[Parallel(n_jobs=5)]: Done 100 out of 100 | elapsed:    0.3s finished\n",
            "[Parallel(n_jobs=5)]: Using backend LokyBackend with 5 concurrent workers.\n",
            "[Parallel(n_jobs=5)]: Batch computation too fast (0.0098s.) Setting batch_size=2.\n",
            "[Parallel(n_jobs=5)]: Done   3 tasks      | elapsed:    0.0s\n",
            "[Parallel(n_jobs=5)]: Done   8 tasks      | elapsed:    0.1s\n",
            "[Parallel(n_jobs=5)]: Batch computation too fast (0.0454s.) Setting batch_size=4.\n",
            "[Parallel(n_jobs=5)]: Done  20 tasks      | elapsed:    0.1s\n",
            "[Parallel(n_jobs=5)]: Batch computation too fast (0.0709s.) Setting batch_size=8.\n"
          ],
          "name": "stderr"
        },
        {
          "output_type": "stream",
          "text": [
            "Fitting 5 folds for each of 40 candidates, totalling 200 fits\n"
          ],
          "name": "stdout"
        },
        {
          "output_type": "stream",
          "text": [
            "[Parallel(n_jobs=5)]: Done  38 tasks      | elapsed:    0.2s\n",
            "[Parallel(n_jobs=5)]: Done  78 tasks      | elapsed:    0.4s\n",
            "[Parallel(n_jobs=5)]: Batch computation too fast (0.1473s.) Setting batch_size=16.\n",
            "[Parallel(n_jobs=5)]: Done 129 tasks      | elapsed:    0.5s\n",
            "[Parallel(n_jobs=5)]: Done 161 tasks      | elapsed:    0.6s\n",
            "[Parallel(n_jobs=5)]: Done 172 tasks      | elapsed:    0.6s\n",
            "[Parallel(n_jobs=5)]: Done 185 tasks      | elapsed:    0.7s\n",
            "[Parallel(n_jobs=5)]: Done 200 out of 200 | elapsed:    0.8s finished\n",
            "[Parallel(n_jobs=5)]: Using backend LokyBackend with 5 concurrent workers.\n",
            "[Parallel(n_jobs=5)]: Batch computation too fast (0.0108s.) Setting batch_size=2.\n",
            "[Parallel(n_jobs=5)]: Done   3 tasks      | elapsed:    0.0s\n",
            "[Parallel(n_jobs=5)]: Done   8 tasks      | elapsed:    0.0s\n",
            "[Parallel(n_jobs=5)]: Batch computation too fast (0.0322s.) Setting batch_size=4.\n",
            "[Parallel(n_jobs=5)]: Done  20 tasks      | elapsed:    0.1s\n",
            "[Parallel(n_jobs=5)]: Batch computation too fast (0.0838s.) Setting batch_size=8.\n",
            "[Parallel(n_jobs=5)]: Done  38 tasks      | elapsed:    0.2s\n"
          ],
          "name": "stderr"
        },
        {
          "output_type": "stream",
          "text": [
            "it 8/10\n",
            "Fitting 5 folds for each of 20 candidates, totalling 100 fits\n"
          ],
          "name": "stdout"
        },
        {
          "output_type": "stream",
          "text": [
            "[Parallel(n_jobs=5)]: Done  65 tasks      | elapsed:    0.3s\n",
            "[Parallel(n_jobs=5)]: Done  80 tasks      | elapsed:    0.3s\n",
            "[Parallel(n_jobs=5)]: Done  91 tasks      | elapsed:    0.3s\n",
            "[Parallel(n_jobs=5)]: Done 100 out of 100 | elapsed:    0.3s finished\n",
            "[Parallel(n_jobs=5)]: Using backend LokyBackend with 5 concurrent workers.\n",
            "[Parallel(n_jobs=5)]: Batch computation too fast (0.0122s.) Setting batch_size=2.\n",
            "[Parallel(n_jobs=5)]: Done   3 tasks      | elapsed:    0.0s\n",
            "[Parallel(n_jobs=5)]: Done   8 tasks      | elapsed:    0.0s\n",
            "[Parallel(n_jobs=5)]: Batch computation too fast (0.0424s.) Setting batch_size=4.\n",
            "[Parallel(n_jobs=5)]: Done  20 tasks      | elapsed:    0.1s\n"
          ],
          "name": "stderr"
        },
        {
          "output_type": "stream",
          "text": [
            "Fitting 5 folds for each of 40 candidates, totalling 200 fits\n"
          ],
          "name": "stdout"
        },
        {
          "output_type": "stream",
          "text": [
            "[Parallel(n_jobs=5)]: Batch computation too fast (0.0806s.) Setting batch_size=8.\n",
            "[Parallel(n_jobs=5)]: Done  38 tasks      | elapsed:    0.2s\n",
            "[Parallel(n_jobs=5)]: Done  78 tasks      | elapsed:    0.4s\n",
            "[Parallel(n_jobs=5)]: Batch computation too fast (0.1404s.) Setting batch_size=16.\n",
            "[Parallel(n_jobs=5)]: Done 129 tasks      | elapsed:    0.5s\n",
            "[Parallel(n_jobs=5)]: Done 161 tasks      | elapsed:    0.6s\n",
            "[Parallel(n_jobs=5)]: Done 172 tasks      | elapsed:    0.6s\n",
            "[Parallel(n_jobs=5)]: Done 185 tasks      | elapsed:    0.7s\n",
            "[Parallel(n_jobs=5)]: Done 200 out of 200 | elapsed:    0.7s finished\n"
          ],
          "name": "stderr"
        },
        {
          "output_type": "stream",
          "text": [
            "it 9/10\n",
            "Fitting 5 folds for each of 20 candidates, totalling 100 fits\n"
          ],
          "name": "stdout"
        },
        {
          "output_type": "stream",
          "text": [
            "[Parallel(n_jobs=5)]: Using backend LokyBackend with 5 concurrent workers.\n",
            "[Parallel(n_jobs=5)]: Batch computation too fast (0.0079s.) Setting batch_size=2.\n",
            "[Parallel(n_jobs=5)]: Done   3 tasks      | elapsed:    0.0s\n",
            "[Parallel(n_jobs=5)]: Done   8 tasks      | elapsed:    0.0s\n",
            "[Parallel(n_jobs=5)]: Batch computation too fast (0.0385s.) Setting batch_size=4.\n",
            "[Parallel(n_jobs=5)]: Done  20 tasks      | elapsed:    0.1s\n",
            "[Parallel(n_jobs=5)]: Batch computation too fast (0.0667s.) Setting batch_size=8.\n",
            "[Parallel(n_jobs=5)]: Done  38 tasks      | elapsed:    0.1s\n",
            "[Parallel(n_jobs=5)]: Done  65 tasks      | elapsed:    0.2s\n",
            "[Parallel(n_jobs=5)]: Done  80 tasks      | elapsed:    0.3s\n",
            "[Parallel(n_jobs=5)]: Done  91 tasks      | elapsed:    0.3s\n",
            "[Parallel(n_jobs=5)]: Done 100 out of 100 | elapsed:    0.4s finished\n",
            "[Parallel(n_jobs=5)]: Using backend LokyBackend with 5 concurrent workers.\n",
            "[Parallel(n_jobs=5)]: Batch computation too fast (0.0141s.) Setting batch_size=2.\n",
            "[Parallel(n_jobs=5)]: Done   3 tasks      | elapsed:    0.0s\n",
            "[Parallel(n_jobs=5)]: Done   8 tasks      | elapsed:    0.0s\n",
            "[Parallel(n_jobs=5)]: Batch computation too fast (0.0361s.) Setting batch_size=4.\n"
          ],
          "name": "stderr"
        },
        {
          "output_type": "stream",
          "text": [
            "Fitting 5 folds for each of 40 candidates, totalling 200 fits\n"
          ],
          "name": "stdout"
        },
        {
          "output_type": "stream",
          "text": [
            "[Parallel(n_jobs=5)]: Done  20 tasks      | elapsed:    0.1s\n",
            "[Parallel(n_jobs=5)]: Batch computation too fast (0.1203s.) Setting batch_size=8.\n",
            "[Parallel(n_jobs=5)]: Done  38 tasks      | elapsed:    0.3s\n",
            "[Parallel(n_jobs=5)]: Done  78 tasks      | elapsed:    0.4s\n",
            "[Parallel(n_jobs=5)]: Batch computation too fast (0.1220s.) Setting batch_size=16.\n",
            "[Parallel(n_jobs=5)]: Done 129 tasks      | elapsed:    0.6s\n",
            "[Parallel(n_jobs=5)]: Done 154 tasks      | elapsed:    0.6s\n",
            "[Parallel(n_jobs=5)]: Done 172 tasks      | elapsed:    0.6s\n",
            "[Parallel(n_jobs=5)]: Done 185 tasks      | elapsed:    0.7s\n",
            "[Parallel(n_jobs=5)]: Done 200 out of 200 | elapsed:    0.8s finished\n",
            "[Parallel(n_jobs=5)]: Using backend LokyBackend with 5 concurrent workers.\n",
            "[Parallel(n_jobs=5)]: Batch computation too fast (0.0094s.) Setting batch_size=2.\n",
            "[Parallel(n_jobs=5)]: Done   3 tasks      | elapsed:    0.0s\n",
            "[Parallel(n_jobs=5)]: Done   8 tasks      | elapsed:    0.1s\n"
          ],
          "name": "stderr"
        },
        {
          "output_type": "stream",
          "text": [
            "it 10/10\n",
            "Fitting 5 folds for each of 20 candidates, totalling 100 fits\n"
          ],
          "name": "stdout"
        },
        {
          "output_type": "stream",
          "text": [
            "[Parallel(n_jobs=5)]: Batch computation too fast (0.0434s.) Setting batch_size=4.\n",
            "[Parallel(n_jobs=5)]: Done  20 tasks      | elapsed:    0.1s\n",
            "[Parallel(n_jobs=5)]: Batch computation too fast (0.0624s.) Setting batch_size=8.\n",
            "[Parallel(n_jobs=5)]: Done  38 tasks      | elapsed:    0.2s\n",
            "[Parallel(n_jobs=5)]: Done  71 tasks      | elapsed:    0.3s\n",
            "[Parallel(n_jobs=5)]: Done  80 tasks      | elapsed:    0.3s\n",
            "[Parallel(n_jobs=5)]: Done  91 tasks      | elapsed:    0.3s\n",
            "[Parallel(n_jobs=5)]: Done 100 out of 100 | elapsed:    0.4s finished\n",
            "[Parallel(n_jobs=5)]: Using backend LokyBackend with 5 concurrent workers.\n",
            "[Parallel(n_jobs=5)]: Batch computation too fast (0.0117s.) Setting batch_size=2.\n",
            "[Parallel(n_jobs=5)]: Done   3 tasks      | elapsed:    0.1s\n",
            "[Parallel(n_jobs=5)]: Done   8 tasks      | elapsed:    0.1s\n",
            "[Parallel(n_jobs=5)]: Batch computation too fast (0.0743s.) Setting batch_size=4.\n"
          ],
          "name": "stderr"
        },
        {
          "output_type": "stream",
          "text": [
            "Fitting 5 folds for each of 40 candidates, totalling 200 fits\n"
          ],
          "name": "stdout"
        },
        {
          "output_type": "stream",
          "text": [
            "[Parallel(n_jobs=5)]: Done  20 tasks      | elapsed:    0.1s\n",
            "[Parallel(n_jobs=5)]: Batch computation too fast (0.0736s.) Setting batch_size=8.\n",
            "[Parallel(n_jobs=5)]: Done  38 tasks      | elapsed:    0.2s\n",
            "[Parallel(n_jobs=5)]: Done  78 tasks      | elapsed:    0.4s\n",
            "[Parallel(n_jobs=5)]: Batch computation too fast (0.1592s.) Setting batch_size=16.\n",
            "[Parallel(n_jobs=5)]: Done 143 tasks      | elapsed:    0.5s\n",
            "[Parallel(n_jobs=5)]: Done 161 tasks      | elapsed:    0.6s\n",
            "[Parallel(n_jobs=5)]: Done 172 tasks      | elapsed:    0.6s\n",
            "[Parallel(n_jobs=5)]: Done 185 tasks      | elapsed:    0.7s\n",
            "[Parallel(n_jobs=5)]: Done 200 out of 200 | elapsed:    0.7s finished\n"
          ],
          "name": "stderr"
        }
      ]
    },
    {
      "cell_type": "code",
      "metadata": {
        "id": "d7bOcltTObMA",
        "colab_type": "code",
        "outputId": "65455a66-aaca-4f50-e506-7d32f1e716dc",
        "colab": {
          "base_uri": "https://localhost:8080/",
          "height": 265
        }
      },
      "source": [
        "plt.boxplot(MAE_R)\n",
        "plt.xticks(ticks=np.arange(len(steps))+1,labels=label_model_R)\n",
        "plt.show()"
      ],
      "execution_count": 173,
      "outputs": [
        {
          "output_type": "display_data",
          "data": {
            "image/png": "[encoded data removed]",
            "text/plain": [
              "<Figure size 432x288 with 1 Axes>"
            ]
          },
          "metadata": {
            "tags": [],
            "needs_background": "light"
          }
        }
      ]
    },
    {
      "cell_type": "code",
      "metadata": {
        "id": "l9UlXvH6ObXp",
        "colab_type": "code",
        "outputId": "0b6988f4-16e7-43b5-ff24-4a167318b655",
        "colab": {
          "base_uri": "https://localhost:8080/",
          "height": 187
        }
      },
      "source": [
        "MAE_R"
      ],
      "execution_count": 174,
      "outputs": [
        {
          "output_type": "execute_result",
          "data": {
            "text/plain": [
              "array([[ 2526.01253026, 11555.32154488],\n",
              "       [ 3581.34526349,  7163.04829132],\n",
              "       [ 5063.4602081 , 14350.52256361],\n",
              "       [ 5040.12981712, 15874.29279446],\n",
              "       [ 6570.21504234, 15813.36102096],\n",
              "       [ 4240.29833885, 16336.21669687],\n",
              "       [ 5778.42523004, 14955.54237403],\n",
              "       [ 3920.51604897, 10389.25048001],\n",
              "       [ 5239.740408  , 13710.01398649],\n",
              "       [ 4498.43128233,  8069.16705659]])"
            ]
          },
          "metadata": {
            "tags": []
          },
          "execution_count": 174
        }
      ]
    },
    {
      "cell_type": "code",
      "metadata": {
        "id": "lFnP83SLObjy",
        "colab_type": "code",
        "outputId": "d9917c9e-e164-4902-ebb5-dde68d1a556b",
        "colab": {
          "base_uri": "https://localhost:8080/",
          "height": 357
        }
      },
      "source": [
        "B_Hiperpara_R"
      ],
      "execution_count": 175,
      "outputs": [
        {
          "output_type": "execute_result",
          "data": {
            "text/plain": [
              "[{'reg__alpha': 0.01, 'reg__solver': 'cholesky'},\n",
              " {'reg__alpha': 0.01, 'reg__solver': 'sag', 'rep__n_components': 0.9},\n",
              " {'reg__alpha': 0.01, 'reg__solver': 'lsqr'},\n",
              " {'reg__alpha': 0.1, 'reg__solver': 'sag', 'rep__n_components': 0.5},\n",
              " {'reg__alpha': 0.01, 'reg__solver': 'lsqr'},\n",
              " {'reg__alpha': 0.001, 'reg__solver': 'saga', 'rep__n_components': 0.9},\n",
              " {'reg__alpha': 0.01, 'reg__solver': 'lsqr'},\n",
              " {'reg__alpha': 0.1, 'reg__solver': 'sag', 'rep__n_components': 0.9},\n",
              " {'reg__alpha': 0.001, 'reg__solver': 'cholesky'},\n",
              " {'reg__alpha': 1, 'reg__solver': 'sag', 'rep__n_components': 0.5},\n",
              " {'reg__alpha': 0.001, 'reg__solver': 'svd'},\n",
              " {'reg__alpha': 0.01, 'reg__solver': 'saga', 'rep__n_components': 0.5},\n",
              " {'reg__alpha': 0.001, 'reg__solver': 'lsqr'},\n",
              " {'reg__alpha': 0.001, 'reg__solver': 'saga', 'rep__n_components': 0.9},\n",
              " {'reg__alpha': 0.01, 'reg__solver': 'lsqr'},\n",
              " {'reg__alpha': 0.01, 'reg__solver': 'saga', 'rep__n_components': 0.5},\n",
              " {'reg__alpha': 0.001, 'reg__solver': 'lsqr'},\n",
              " {'reg__alpha': 0.01, 'reg__solver': 'sag', 'rep__n_components': 0.5},\n",
              " {'reg__alpha': 0.01, 'reg__solver': 'svd'},\n",
              " {'reg__alpha': 0.1, 'reg__solver': 'saga', 'rep__n_components': 0.5}]"
            ]
          },
          "metadata": {
            "tags": []
          },
          "execution_count": 175
        }
      ]
    },
    {
      "cell_type": "code",
      "metadata": {
        "id": "ytGwDKk4Obxs",
        "colab_type": "code",
        "outputId": "f7d39bb0-3ed4-4874-9d53-3272b1a3042e",
        "colab": {
          "base_uri": "https://localhost:8080/",
          "height": 153
        }
      },
      "source": [
        "steps =  [('scaler', StandardScaler()),\n",
        "          #('rep', PCA(n_components=0.5)),                         \n",
        "          ('reg', Ridge(alpha=0.001, solver='lsqr'))]\n",
        "\n",
        "Mod_SC_R = Pipeline(steps = steps)\n",
        "Mod_SC_R.fit(X_train,y_train)"
      ],
      "execution_count": 176,
      "outputs": [
        {
          "output_type": "execute_result",
          "data": {
            "text/plain": [
              "Pipeline(memory=None,\n",
              "         steps=[('scaler',\n",
              "                 StandardScaler(copy=True, with_mean=True, with_std=True)),\n",
              "                ('reg',\n",
              "                 Ridge(alpha=0.001, copy_X=True, fit_intercept=True,\n",
              "                       max_iter=None, normalize=False, random_state=None,\n",
              "                       solver='lsqr', tol=0.001))],\n",
              "         verbose=False)"
            ]
          },
          "metadata": {
            "tags": []
          },
          "execution_count": 176
        }
      ]
    },
    {
      "cell_type": "code",
      "metadata": {
        "id": "i5-8YcKLRNan",
        "colab_type": "code",
        "outputId": "8ab5e078-dc61-4ed8-f9e0-2d142346105b",
        "colab": {
          "base_uri": "https://localhost:8080/",
          "height": 51
        }
      },
      "source": [
        "Xn = prueba1\n",
        "\n",
        "Xn = Xn.reshape(1,-1)\n",
        "Pre_SC_R = Mod_SC_R.predict(Xn)\n",
        "\n",
        "print('Número de contagiados en los últimos 5 días:',Xn)\n",
        "print('Predicción contagios para',date.today(),'usando un modelo LinearRidge:',Pre_SC_R)"
      ],
      "execution_count": 177,
      "outputs": [
        {
          "output_type": "stream",
          "text": [
            "Número de contagiados en los últimos 5 días: [[6507 7006 7285 7668 7973]]\n",
            "Predicción contagios para 2020-05-06 usando un modelo LinearRidge: [[8782.47808003]]\n"
          ],
          "name": "stdout"
        }
      ]
    },
    {
      "cell_type": "markdown",
      "metadata": {
        "id": "FbXXkFt7TT6F",
        "colab_type": "text"
      },
      "source": [
        "#### Validación Cruzada Anidada Lasso:\n",
        "\n",
        "- Normalización StandadScalar\n",
        "- Representación PCA\n",
        "- Regresor LinearLasso"
      ]
    },
    {
      "cell_type": "code",
      "metadata": {
        "id": "3ci1lFcRTUYy",
        "colab_type": "code",
        "outputId": "c6855f15-24f1-4841-a98f-7018a24bc12b",
        "colab": {
          "base_uri": "https://localhost:8080/",
          "height": 1000
        }
      },
      "source": [
        "steps = [\n",
        "         [('scaler', StandardScaler()),           #estandarizar cada atributo columna de xtrain centrada en 0 y var = 1\n",
        "          ('reg',  Lasso())],\n",
        "         [('scaler', StandardScaler()),\n",
        "          ('rep', PCA()),                         \n",
        "          ('reg',  Lasso())]\n",
        "          ]\n",
        "\n",
        "parameters = [\n",
        "                {'reg__alpha':[1e-3,1e-2,1e-1,1],\n",
        "                 },\n",
        "                {'rep__n_components':[0.5,0.75,0.9],\n",
        "                 'reg__alpha':[1e-3,1e-2,1e-1,1],\n",
        "                 }\n",
        "               ]\n",
        "\n",
        "label_model_L = ['NorSC-L','NorSC-PCA-L']\n",
        "\n",
        "B_Model_L, B_Hiperpara_L, MAE_L = V_Cruzada_Anidada(X,y,steps,parameters)"
      ],
      "execution_count": 178,
      "outputs": [
        {
          "output_type": "stream",
          "text": [
            "it 1/10\n",
            "Fitting 5 folds for each of 4 candidates, totalling 20 fits\n"
          ],
          "name": "stdout"
        },
        {
          "output_type": "stream",
          "text": [
            "[Parallel(n_jobs=5)]: Using backend LokyBackend with 5 concurrent workers.\n",
            "[Parallel(n_jobs=5)]: Done   1 tasks      | elapsed:    0.0s\n",
            "[Parallel(n_jobs=5)]: Batch computation too fast (0.0093s.) Setting batch_size=2.\n",
            "[Parallel(n_jobs=5)]: Done   3 tasks      | elapsed:    0.0s\n",
            "[Parallel(n_jobs=5)]: Done   6 tasks      | elapsed:    0.0s\n",
            "[Parallel(n_jobs=5)]: Done  11 out of  20 | elapsed:    0.2s remaining:    0.1s\n",
            "[Parallel(n_jobs=5)]: Done  14 out of  20 | elapsed:    0.2s remaining:    0.1s\n",
            "[Parallel(n_jobs=5)]: Done  20 out of  20 | elapsed:    0.2s remaining:    0.0s\n",
            "[Parallel(n_jobs=5)]: Done  20 out of  20 | elapsed:    0.2s finished\n",
            "/usr/local/lib/python3.6/dist-packages/sklearn/linear_model/_coordinate_descent.py:476: ConvergenceWarning: Objective did not converge. You might want to increase the number of iterations. Duality gap: 205868.12112705683, tolerance: 39323.69048115943\n",
            "  positive)\n",
            "[Parallel(n_jobs=5)]: Using backend LokyBackend with 5 concurrent workers.\n",
            "[Parallel(n_jobs=5)]: Batch computation too fast (0.0105s.) Setting batch_size=2.\n",
            "[Parallel(n_jobs=5)]: Done   3 tasks      | elapsed:    0.0s\n",
            "[Parallel(n_jobs=5)]: Done   8 tasks      | elapsed:    0.1s\n",
            "[Parallel(n_jobs=5)]: Batch computation too fast (0.0460s.) Setting batch_size=4.\n",
            "[Parallel(n_jobs=5)]: Done  20 tasks      | elapsed:    0.1s\n",
            "[Parallel(n_jobs=5)]: Batch computation too fast (0.0730s.) Setting batch_size=8.\n",
            "[Parallel(n_jobs=5)]: Done  35 tasks      | elapsed:    0.2s\n"
          ],
          "name": "stderr"
        },
        {
          "output_type": "stream",
          "text": [
            "Fitting 5 folds for each of 12 candidates, totalling 60 fits\n"
          ],
          "name": "stdout"
        },
        {
          "output_type": "stream",
          "text": [
            "[Parallel(n_jobs=5)]: Done  58 out of  60 | elapsed:    0.2s remaining:    0.0s\n",
            "[Parallel(n_jobs=5)]: Done  60 out of  60 | elapsed:    0.2s finished\n",
            "[Parallel(n_jobs=5)]: Using backend LokyBackend with 5 concurrent workers.\n",
            "[Parallel(n_jobs=5)]: Batch computation too fast (0.0122s.) Setting batch_size=2.\n",
            "[Parallel(n_jobs=5)]: Done   3 tasks      | elapsed:    0.0s\n",
            "[Parallel(n_jobs=5)]: Done   8 out of  20 | elapsed:    0.0s remaining:    0.1s\n",
            "[Parallel(n_jobs=5)]: Done  14 out of  20 | elapsed:    0.1s remaining:    0.0s\n",
            "[Parallel(n_jobs=5)]: Done  20 out of  20 | elapsed:    0.1s remaining:    0.0s\n",
            "[Parallel(n_jobs=5)]: Done  20 out of  20 | elapsed:    0.1s finished\n",
            "/usr/local/lib/python3.6/dist-packages/sklearn/linear_model/_coordinate_descent.py:476: ConvergenceWarning: Objective did not converge. You might want to increase the number of iterations. Duality gap: 251164.53198974236, tolerance: 37605.42166376811\n",
            "  positive)\n",
            "[Parallel(n_jobs=5)]: Using backend LokyBackend with 5 concurrent workers.\n",
            "[Parallel(n_jobs=5)]: Batch computation too fast (0.0161s.) Setting batch_size=2.\n",
            "[Parallel(n_jobs=5)]: Batch computation too fast (0.0161s.) Setting batch_size=4.\n",
            "[Parallel(n_jobs=5)]: Done   2 tasks      | elapsed:    0.0s\n",
            "[Parallel(n_jobs=5)]: Done   5 tasks      | elapsed:    0.0s\n",
            "[Parallel(n_jobs=5)]: Done  10 tasks      | elapsed:    0.1s\n",
            "[Parallel(n_jobs=5)]: Batch computation too fast (0.0519s.) Setting batch_size=8.\n"
          ],
          "name": "stderr"
        },
        {
          "output_type": "stream",
          "text": [
            "it 2/10\n",
            "Fitting 5 folds for each of 4 candidates, totalling 20 fits\n",
            "Fitting 5 folds for each of 12 candidates, totalling 60 fits\n"
          ],
          "name": "stdout"
        },
        {
          "output_type": "stream",
          "text": [
            "[Parallel(n_jobs=5)]: Done  38 tasks      | elapsed:    0.2s\n",
            "[Parallel(n_jobs=5)]: Done  51 out of  60 | elapsed:    0.2s remaining:    0.0s\n",
            "[Parallel(n_jobs=5)]: Done  58 out of  60 | elapsed:    0.2s remaining:    0.0s\n",
            "[Parallel(n_jobs=5)]: Done  60 out of  60 | elapsed:    0.2s finished\n",
            "[Parallel(n_jobs=5)]: Using backend LokyBackend with 5 concurrent workers.\n",
            "[Parallel(n_jobs=5)]: Batch computation too fast (0.0079s.) Setting batch_size=2.\n",
            "[Parallel(n_jobs=5)]: Done   3 tasks      | elapsed:    0.0s\n",
            "[Parallel(n_jobs=5)]: Done   8 out of  20 | elapsed:    0.0s remaining:    0.1s\n",
            "[Parallel(n_jobs=5)]: Done  14 out of  20 | elapsed:    0.1s remaining:    0.0s\n",
            "[Parallel(n_jobs=5)]: Done  20 out of  20 | elapsed:    0.1s remaining:    0.0s\n",
            "[Parallel(n_jobs=5)]: Done  20 out of  20 | elapsed:    0.1s finished\n",
            "/usr/local/lib/python3.6/dist-packages/sklearn/linear_model/_coordinate_descent.py:476: ConvergenceWarning: Objective did not converge. You might want to increase the number of iterations. Duality gap: 215693.0417777634, tolerance: 29267.217724637678\n",
            "  positive)\n",
            "[Parallel(n_jobs=5)]: Using backend LokyBackend with 5 concurrent workers.\n",
            "[Parallel(n_jobs=5)]: Batch computation too fast (0.0144s.) Setting batch_size=2.\n",
            "[Parallel(n_jobs=5)]: Done   3 tasks      | elapsed:    0.0s\n"
          ],
          "name": "stderr"
        },
        {
          "output_type": "stream",
          "text": [
            "it 3/10\n",
            "Fitting 5 folds for each of 4 candidates, totalling 20 fits\n",
            "Fitting 5 folds for each of 12 candidates, totalling 60 fits\n"
          ],
          "name": "stdout"
        },
        {
          "output_type": "stream",
          "text": [
            "[Parallel(n_jobs=5)]: Done   8 tasks      | elapsed:    0.0s\n",
            "[Parallel(n_jobs=5)]: Batch computation too fast (0.0404s.) Setting batch_size=4.\n",
            "[Parallel(n_jobs=5)]: Done  20 tasks      | elapsed:    0.1s\n",
            "[Parallel(n_jobs=5)]: Batch computation too fast (0.0814s.) Setting batch_size=8.\n",
            "[Parallel(n_jobs=5)]: Done  38 tasks      | elapsed:    0.2s\n",
            "[Parallel(n_jobs=5)]: Done  58 out of  60 | elapsed:    0.2s remaining:    0.0s\n",
            "[Parallel(n_jobs=5)]: Done  60 out of  60 | elapsed:    0.2s finished\n",
            "[Parallel(n_jobs=5)]: Using backend LokyBackend with 5 concurrent workers.\n"
          ],
          "name": "stderr"
        },
        {
          "output_type": "stream",
          "text": [
            "it 4/10\n",
            "Fitting 5 folds for each of 4 candidates, totalling 20 fits\n",
            "Fitting 5 folds for each of 12 candidates, totalling 60 fits\n"
          ],
          "name": "stdout"
        },
        {
          "output_type": "stream",
          "text": [
            "[Parallel(n_jobs=5)]: Batch computation too fast (0.0208s.) Setting batch_size=2.\n",
            "[Parallel(n_jobs=5)]: Done   3 tasks      | elapsed:    0.0s\n",
            "[Parallel(n_jobs=5)]: Done   8 out of  20 | elapsed:    0.1s remaining:    0.1s\n",
            "[Parallel(n_jobs=5)]: Done  14 out of  20 | elapsed:    0.1s remaining:    0.0s\n",
            "[Parallel(n_jobs=5)]: Done  20 out of  20 | elapsed:    0.1s remaining:    0.0s\n",
            "[Parallel(n_jobs=5)]: Done  20 out of  20 | elapsed:    0.1s finished\n",
            "/usr/local/lib/python3.6/dist-packages/sklearn/linear_model/_coordinate_descent.py:476: ConvergenceWarning: Objective did not converge. You might want to increase the number of iterations. Duality gap: 132878.27137551073, tolerance: 26377.36448695653\n",
            "  positive)\n",
            "[Parallel(n_jobs=5)]: Using backend LokyBackend with 5 concurrent workers.\n",
            "[Parallel(n_jobs=5)]: Batch computation too fast (0.0112s.) Setting batch_size=2.\n",
            "[Parallel(n_jobs=5)]: Done   3 tasks      | elapsed:    0.0s\n",
            "[Parallel(n_jobs=5)]: Done   8 tasks      | elapsed:    0.1s\n",
            "[Parallel(n_jobs=5)]: Batch computation too fast (0.0465s.) Setting batch_size=4.\n",
            "[Parallel(n_jobs=5)]: Done  20 tasks      | elapsed:    0.1s\n",
            "[Parallel(n_jobs=5)]: Batch computation too fast (0.0559s.) Setting batch_size=8.\n",
            "[Parallel(n_jobs=5)]: Done  38 tasks      | elapsed:    0.2s\n",
            "[Parallel(n_jobs=5)]: Done  58 out of  60 | elapsed:    0.2s remaining:    0.0s\n",
            "[Parallel(n_jobs=5)]: Done  60 out of  60 | elapsed:    0.2s finished\n",
            "[Parallel(n_jobs=5)]: Using backend LokyBackend with 5 concurrent workers.\n",
            "[Parallel(n_jobs=5)]: Batch computation too fast (0.0111s.) Setting batch_size=2.\n",
            "[Parallel(n_jobs=5)]: Done   3 tasks      | elapsed:    0.0s\n",
            "[Parallel(n_jobs=5)]: Done   8 out of  20 | elapsed:    0.0s remaining:    0.1s\n",
            "[Parallel(n_jobs=5)]: Done  14 out of  20 | elapsed:    0.1s remaining:    0.0s\n",
            "[Parallel(n_jobs=5)]: Done  20 out of  20 | elapsed:    0.1s remaining:    0.0s\n",
            "[Parallel(n_jobs=5)]: Done  20 out of  20 | elapsed:    0.1s finished\n",
            "/usr/local/lib/python3.6/dist-packages/sklearn/linear_model/_coordinate_descent.py:476: ConvergenceWarning: Objective did not converge. You might want to increase the number of iterations. Duality gap: 225972.2472820347, tolerance: 27147.92368115942\n",
            "  positive)\n",
            "[Parallel(n_jobs=5)]: Using backend LokyBackend with 5 concurrent workers.\n",
            "[Parallel(n_jobs=5)]: Batch computation too fast (0.0114s.) Setting batch_size=2.\n",
            "[Parallel(n_jobs=5)]: Done   3 tasks      | elapsed:    0.0s\n"
          ],
          "name": "stderr"
        },
        {
          "output_type": "stream",
          "text": [
            "it 5/10\n",
            "Fitting 5 folds for each of 4 candidates, totalling 20 fits\n",
            "Fitting 5 folds for each of 12 candidates, totalling 60 fits\n"
          ],
          "name": "stdout"
        },
        {
          "output_type": "stream",
          "text": [
            "[Parallel(n_jobs=5)]: Done   8 tasks      | elapsed:    0.0s\n",
            "[Parallel(n_jobs=5)]: Batch computation too fast (0.0459s.) Setting batch_size=4.\n",
            "[Parallel(n_jobs=5)]: Done  20 tasks      | elapsed:    0.1s\n",
            "[Parallel(n_jobs=5)]: Batch computation too fast (0.1044s.) Setting batch_size=8.\n",
            "[Parallel(n_jobs=5)]: Done  38 tasks      | elapsed:    0.2s\n",
            "[Parallel(n_jobs=5)]: Done  58 out of  60 | elapsed:    0.2s remaining:    0.0s\n",
            "[Parallel(n_jobs=5)]: Done  60 out of  60 | elapsed:    0.2s finished\n",
            "[Parallel(n_jobs=5)]: Using backend LokyBackend with 5 concurrent workers.\n",
            "[Parallel(n_jobs=5)]: Batch computation too fast (0.0107s.) Setting batch_size=2.\n",
            "[Parallel(n_jobs=5)]: Done   3 tasks      | elapsed:    0.0s\n",
            "[Parallel(n_jobs=5)]: Done   8 out of  20 | elapsed:    0.0s remaining:    0.1s\n",
            "[Parallel(n_jobs=5)]: Done  14 out of  20 | elapsed:    0.1s remaining:    0.0s\n",
            "[Parallel(n_jobs=5)]: Done  20 out of  20 | elapsed:    0.1s remaining:    0.0s\n",
            "[Parallel(n_jobs=5)]: Done  20 out of  20 | elapsed:    0.1s finished\n",
            "/usr/local/lib/python3.6/dist-packages/sklearn/linear_model/_coordinate_descent.py:476: ConvergenceWarning: Objective did not converge. You might want to increase the number of iterations. Duality gap: 207365.36373976138, tolerance: 30159.791695652177\n",
            "  positive)\n",
            "[Parallel(n_jobs=5)]: Using backend LokyBackend with 5 concurrent workers.\n",
            "[Parallel(n_jobs=5)]: Batch computation too fast (0.0100s.) Setting batch_size=2.\n",
            "[Parallel(n_jobs=5)]: Done   3 tasks      | elapsed:    0.0s\n",
            "[Parallel(n_jobs=5)]: Done   8 tasks      | elapsed:    0.1s\n",
            "[Parallel(n_jobs=5)]: Batch computation too fast (0.0437s.) Setting batch_size=4.\n",
            "[Parallel(n_jobs=5)]: Done  20 tasks      | elapsed:    0.1s\n"
          ],
          "name": "stderr"
        },
        {
          "output_type": "stream",
          "text": [
            "it 6/10\n",
            "Fitting 5 folds for each of 4 candidates, totalling 20 fits\n",
            "Fitting 5 folds for each of 12 candidates, totalling 60 fits\n"
          ],
          "name": "stdout"
        },
        {
          "output_type": "stream",
          "text": [
            "[Parallel(n_jobs=5)]: Batch computation too fast (0.0744s.) Setting batch_size=8.\n",
            "[Parallel(n_jobs=5)]: Done  38 tasks      | elapsed:    0.2s\n",
            "[Parallel(n_jobs=5)]: Done  51 out of  60 | elapsed:    0.2s remaining:    0.0s\n",
            "[Parallel(n_jobs=5)]: Done  58 out of  60 | elapsed:    0.2s remaining:    0.0s\n",
            "[Parallel(n_jobs=5)]: Done  60 out of  60 | elapsed:    0.2s finished\n",
            "[Parallel(n_jobs=5)]: Using backend LokyBackend with 5 concurrent workers.\n",
            "[Parallel(n_jobs=5)]: Batch computation too fast (0.0232s.) Setting batch_size=2.\n",
            "[Parallel(n_jobs=5)]: Done   3 tasks      | elapsed:    0.0s\n",
            "[Parallel(n_jobs=5)]: Done   8 out of  20 | elapsed:    0.1s remaining:    0.1s\n",
            "[Parallel(n_jobs=5)]: Done  14 out of  20 | elapsed:    0.1s remaining:    0.0s\n",
            "[Parallel(n_jobs=5)]: Done  20 out of  20 | elapsed:    0.1s remaining:    0.0s\n",
            "[Parallel(n_jobs=5)]: Done  20 out of  20 | elapsed:    0.1s finished\n",
            "/usr/local/lib/python3.6/dist-packages/sklearn/linear_model/_coordinate_descent.py:476: ConvergenceWarning: Objective did not converge. You might want to increase the number of iterations. Duality gap: 194189.56804039006, tolerance: 32339.555295652175\n",
            "  positive)\n",
            "[Parallel(n_jobs=5)]: Using backend LokyBackend with 5 concurrent workers.\n",
            "[Parallel(n_jobs=5)]: Batch computation too fast (0.0068s.) Setting batch_size=2.\n"
          ],
          "name": "stderr"
        },
        {
          "output_type": "stream",
          "text": [
            "it 7/10\n",
            "Fitting 5 folds for each of 4 candidates, totalling 20 fits\n",
            "Fitting 5 folds for each of 12 candidates, totalling 60 fits\n"
          ],
          "name": "stdout"
        },
        {
          "output_type": "stream",
          "text": [
            "[Parallel(n_jobs=5)]: Done   3 tasks      | elapsed:    0.0s\n",
            "[Parallel(n_jobs=5)]: Done   8 tasks      | elapsed:    0.1s\n",
            "[Parallel(n_jobs=5)]: Batch computation too fast (0.0639s.) Setting batch_size=4.\n",
            "[Parallel(n_jobs=5)]: Done  20 tasks      | elapsed:    0.1s\n",
            "[Parallel(n_jobs=5)]: Batch computation too fast (0.0528s.) Setting batch_size=8.\n",
            "[Parallel(n_jobs=5)]: Done  38 tasks      | elapsed:    0.2s\n",
            "[Parallel(n_jobs=5)]: Done  58 out of  60 | elapsed:    0.2s remaining:    0.0s\n",
            "[Parallel(n_jobs=5)]: Done  60 out of  60 | elapsed:    0.3s finished\n",
            "[Parallel(n_jobs=5)]: Using backend LokyBackend with 5 concurrent workers.\n",
            "[Parallel(n_jobs=5)]: Batch computation too fast (0.0087s.) Setting batch_size=2.\n",
            "[Parallel(n_jobs=5)]: Done   3 tasks      | elapsed:    0.0s\n",
            "[Parallel(n_jobs=5)]: Done   8 out of  20 | elapsed:    0.0s remaining:    0.1s\n",
            "[Parallel(n_jobs=5)]: Done  14 out of  20 | elapsed:    0.1s remaining:    0.0s\n",
            "[Parallel(n_jobs=5)]: Done  20 out of  20 | elapsed:    0.1s remaining:    0.0s\n",
            "[Parallel(n_jobs=5)]: Done  20 out of  20 | elapsed:    0.1s finished\n",
            "/usr/local/lib/python3.6/dist-packages/sklearn/linear_model/_coordinate_descent.py:476: ConvergenceWarning: Objective did not converge. You might want to increase the number of iterations. Duality gap: 207373.95540301318, tolerance: 33058.545594202915\n",
            "  positive)\n",
            "[Parallel(n_jobs=5)]: Using backend LokyBackend with 5 concurrent workers.\n",
            "[Parallel(n_jobs=5)]: Batch computation too fast (0.0107s.) Setting batch_size=2.\n",
            "[Parallel(n_jobs=5)]: Done   3 tasks      | elapsed:    0.0s\n",
            "[Parallel(n_jobs=5)]: Done   8 tasks      | elapsed:    0.1s\n",
            "[Parallel(n_jobs=5)]: Batch computation too fast (0.0446s.) Setting batch_size=4.\n"
          ],
          "name": "stderr"
        },
        {
          "output_type": "stream",
          "text": [
            "it 8/10\n",
            "Fitting 5 folds for each of 4 candidates, totalling 20 fits\n",
            "Fitting 5 folds for each of 12 candidates, totalling 60 fits\n"
          ],
          "name": "stdout"
        },
        {
          "output_type": "stream",
          "text": [
            "[Parallel(n_jobs=5)]: Done  20 tasks      | elapsed:    0.1s\n",
            "[Parallel(n_jobs=5)]: Batch computation too fast (0.1471s.) Setting batch_size=8.\n",
            "[Parallel(n_jobs=5)]: Done  38 tasks      | elapsed:    0.2s\n",
            "[Parallel(n_jobs=5)]: Done  51 out of  60 | elapsed:    0.3s remaining:    0.1s\n",
            "[Parallel(n_jobs=5)]: Done  58 out of  60 | elapsed:    0.3s remaining:    0.0s\n",
            "[Parallel(n_jobs=5)]: Done  60 out of  60 | elapsed:    0.3s finished\n",
            "[Parallel(n_jobs=5)]: Using backend LokyBackend with 5 concurrent workers.\n"
          ],
          "name": "stderr"
        },
        {
          "output_type": "stream",
          "text": [
            "it 9/10\n",
            "Fitting 5 folds for each of 4 candidates, totalling 20 fits\n",
            "Fitting 5 folds for each of 12 candidates, totalling 60 fits\n"
          ],
          "name": "stdout"
        },
        {
          "output_type": "stream",
          "text": [
            "[Parallel(n_jobs=5)]: Batch computation too fast (0.0217s.) Setting batch_size=2.\n",
            "[Parallel(n_jobs=5)]: Done   3 tasks      | elapsed:    0.0s\n",
            "[Parallel(n_jobs=5)]: Done   8 out of  20 | elapsed:    0.1s remaining:    0.1s\n",
            "[Parallel(n_jobs=5)]: Done  11 out of  20 | elapsed:    0.1s remaining:    0.1s\n",
            "[Parallel(n_jobs=5)]: Done  14 out of  20 | elapsed:    0.1s remaining:    0.0s\n",
            "[Parallel(n_jobs=5)]: Done  20 out of  20 | elapsed:    0.1s remaining:    0.0s\n",
            "[Parallel(n_jobs=5)]: Done  20 out of  20 | elapsed:    0.1s finished\n",
            "/usr/local/lib/python3.6/dist-packages/sklearn/linear_model/_coordinate_descent.py:476: ConvergenceWarning: Objective did not converge. You might want to increase the number of iterations. Duality gap: 254772.34809296633, tolerance: 33159.228220289864\n",
            "  positive)\n",
            "[Parallel(n_jobs=5)]: Using backend LokyBackend with 5 concurrent workers.\n",
            "[Parallel(n_jobs=5)]: Batch computation too fast (0.0165s.) Setting batch_size=2.\n",
            "[Parallel(n_jobs=5)]: Batch computation too fast (0.0165s.) Setting batch_size=4.\n",
            "[Parallel(n_jobs=5)]: Done   5 tasks      | elapsed:    0.0s\n",
            "[Parallel(n_jobs=5)]: Done  10 tasks      | elapsed:    0.1s\n",
            "[Parallel(n_jobs=5)]: Batch computation too fast (0.0575s.) Setting batch_size=8.\n",
            "[Parallel(n_jobs=5)]: Done  38 tasks      | elapsed:    0.2s\n",
            "[Parallel(n_jobs=5)]: Done  51 out of  60 | elapsed:    0.2s remaining:    0.0s\n",
            "[Parallel(n_jobs=5)]: Done  58 out of  60 | elapsed:    0.2s remaining:    0.0s\n",
            "[Parallel(n_jobs=5)]: Done  60 out of  60 | elapsed:    0.2s finished\n",
            "[Parallel(n_jobs=5)]: Using backend LokyBackend with 5 concurrent workers.\n",
            "[Parallel(n_jobs=5)]: Batch computation too fast (0.0139s.) Setting batch_size=2.\n",
            "[Parallel(n_jobs=5)]: Done   3 tasks      | elapsed:    0.0s\n",
            "[Parallel(n_jobs=5)]: Done   8 out of  20 | elapsed:    0.0s remaining:    0.1s\n",
            "[Parallel(n_jobs=5)]: Done  14 out of  20 | elapsed:    0.1s remaining:    0.0s\n",
            "[Parallel(n_jobs=5)]: Done  20 out of  20 | elapsed:    0.1s remaining:    0.0s\n",
            "[Parallel(n_jobs=5)]: Done  20 out of  20 | elapsed:    0.1s finished\n",
            "/usr/local/lib/python3.6/dist-packages/sklearn/linear_model/_coordinate_descent.py:476: ConvergenceWarning: Objective did not converge. You might want to increase the number of iterations. Duality gap: 60001.330701876606, tolerance: 22732.45762898551\n",
            "  positive)\n",
            "[Parallel(n_jobs=5)]: Using backend LokyBackend with 5 concurrent workers.\n",
            "[Parallel(n_jobs=5)]: Done   1 tasks      | elapsed:    0.0s\n",
            "[Parallel(n_jobs=5)]: Batch computation too fast (0.0074s.) Setting batch_size=2.\n",
            "[Parallel(n_jobs=5)]: Batch computation too fast (0.0074s.) Setting batch_size=4.\n",
            "[Parallel(n_jobs=5)]: Done   6 tasks      | elapsed:    0.0s\n"
          ],
          "name": "stderr"
        },
        {
          "output_type": "stream",
          "text": [
            "it 10/10\n",
            "Fitting 5 folds for each of 4 candidates, totalling 20 fits\n",
            "Fitting 5 folds for each of 12 candidates, totalling 60 fits\n"
          ],
          "name": "stdout"
        },
        {
          "output_type": "stream",
          "text": [
            "[Parallel(n_jobs=5)]: Done   8 tasks      | elapsed:    0.1s\n",
            "[Parallel(n_jobs=5)]: Batch computation too fast (0.0508s.) Setting batch_size=8.\n",
            "[Parallel(n_jobs=5)]: Done  30 tasks      | elapsed:    0.2s\n",
            "[Parallel(n_jobs=5)]: Done  58 out of  60 | elapsed:    0.2s remaining:    0.0s\n",
            "[Parallel(n_jobs=5)]: Done  60 out of  60 | elapsed:    0.2s finished\n"
          ],
          "name": "stderr"
        }
      ]
    },
    {
      "cell_type": "code",
      "metadata": {
        "id": "ToRNlvHYV2R3",
        "colab_type": "code",
        "outputId": "c7b57399-aa3b-4815-be9f-b10f113df11c",
        "colab": {
          "base_uri": "https://localhost:8080/",
          "height": 265
        }
      },
      "source": [
        "plt.boxplot(MAE_L)\n",
        "plt.xticks(ticks=np.arange(len(steps))+1,labels=label_model_L)\n",
        "plt.show()"
      ],
      "execution_count": 179,
      "outputs": [
        {
          "output_type": "display_data",
          "data": {
            "image/png": "[encoded data removed]",
            "text/plain": [
              "<Figure size 432x288 with 1 Axes>"
            ]
          },
          "metadata": {
            "tags": [],
            "needs_background": "light"
          }
        }
      ]
    },
    {
      "cell_type": "code",
      "metadata": {
        "id": "VVn63STmV2Wp",
        "colab_type": "code",
        "outputId": "16196df9-985c-496d-a8a1-60d3c7fe082a",
        "colab": {
          "base_uri": "https://localhost:8080/",
          "height": 187
        }
      },
      "source": [
        "MAE_L"
      ],
      "execution_count": 180,
      "outputs": [
        {
          "output_type": "execute_result",
          "data": {
            "text/plain": [
              "array([[ 8741.4228154 , 22934.67064491],\n",
              "       [ 3928.92719431,  7965.93726987],\n",
              "       [ 7252.42968769, 17407.35093827],\n",
              "       [ 9738.09160299, 18015.53392185],\n",
              "       [ 8623.67332272, 11587.17997788],\n",
              "       [10200.29143711, 14069.6027266 ],\n",
              "       [ 9020.18471691, 17298.51065606],\n",
              "       [ 6980.10231189, 17961.02066996],\n",
              "       [ 2166.92626689, 12390.63240552],\n",
              "       [ 7023.06662863, 12907.14816249]])"
            ]
          },
          "metadata": {
            "tags": []
          },
          "execution_count": 180
        }
      ]
    },
    {
      "cell_type": "code",
      "metadata": {
        "id": "JpDtnXE2V2dC",
        "colab_type": "code",
        "outputId": "bc623aa5-53aa-474d-c964-03b060cbcea2",
        "colab": {
          "base_uri": "https://localhost:8080/",
          "height": 357
        }
      },
      "source": [
        "B_Hiperpara_L"
      ],
      "execution_count": 181,
      "outputs": [
        {
          "output_type": "execute_result",
          "data": {
            "text/plain": [
              "[{'reg__alpha': 0.1},\n",
              " {'reg__alpha': 0.001, 'rep__n_components': 0.5},\n",
              " {'reg__alpha': 0.1},\n",
              " {'reg__alpha': 0.001, 'rep__n_components': 0.5},\n",
              " {'reg__alpha': 0.1},\n",
              " {'reg__alpha': 0.001, 'rep__n_components': 0.5},\n",
              " {'reg__alpha': 0.1},\n",
              " {'reg__alpha': 0.001, 'rep__n_components': 0.5},\n",
              " {'reg__alpha': 0.001},\n",
              " {'reg__alpha': 0.001, 'rep__n_components': 0.5},\n",
              " {'reg__alpha': 0.1},\n",
              " {'reg__alpha': 0.001, 'rep__n_components': 0.5},\n",
              " {'reg__alpha': 0.1},\n",
              " {'reg__alpha': 1, 'rep__n_components': 0.5},\n",
              " {'reg__alpha': 0.001},\n",
              " {'reg__alpha': 0.001, 'rep__n_components': 0.5},\n",
              " {'reg__alpha': 0.1},\n",
              " {'reg__alpha': 0.001, 'rep__n_components': 0.5},\n",
              " {'reg__alpha': 1},\n",
              " {'reg__alpha': 0.001, 'rep__n_components': 0.5}]"
            ]
          },
          "metadata": {
            "tags": []
          },
          "execution_count": 181
        }
      ]
    },
    {
      "cell_type": "code",
      "metadata": {
        "id": "LGuRLQ_-V2PN",
        "colab_type": "code",
        "outputId": "8a55bee9-13d4-4ca3-ae57-3a61075bd611",
        "colab": {
          "base_uri": "https://localhost:8080/",
          "height": 153
        }
      },
      "source": [
        "steps =  [('scaler', StandardScaler()),\n",
        "          #('rep', PCA(n_components=0.5)),                         \n",
        "          ('reg', Ridge(alpha=0.1))]\n",
        "\n",
        "Mod_SC_L = Pipeline(steps = steps)\n",
        "Mod_SC_L.fit(X_train,y_train)"
      ],
      "execution_count": 182,
      "outputs": [
        {
          "output_type": "execute_result",
          "data": {
            "text/plain": [
              "Pipeline(memory=None,\n",
              "         steps=[('scaler',\n",
              "                 StandardScaler(copy=True, with_mean=True, with_std=True)),\n",
              "                ('reg',\n",
              "                 Ridge(alpha=0.1, copy_X=True, fit_intercept=True,\n",
              "                       max_iter=None, normalize=False, random_state=None,\n",
              "                       solver='auto', tol=0.001))],\n",
              "         verbose=False)"
            ]
          },
          "metadata": {
            "tags": []
          },
          "execution_count": 182
        }
      ]
    },
    {
      "cell_type": "code",
      "metadata": {
        "id": "Qmz6-p42WLnS",
        "colab_type": "code",
        "outputId": "d4f63f73-a67c-4224-bc7d-c614f19da226",
        "colab": {
          "base_uri": "https://localhost:8080/",
          "height": 51
        }
      },
      "source": [
        "Xn = prueba1\n",
        "\n",
        "Xn = Xn.reshape(1,-1)\n",
        "Pre_SC_L = Mod_SC_L.predict(Xn)\n",
        "\n",
        "print('Número de contagiados en los últimos 5 días:',Xn)\n",
        "print('Predicción contagios para',date.today(),'usando un modelo LinearLasso:',Pre_SC_L)"
      ],
      "execution_count": 183,
      "outputs": [
        {
          "output_type": "stream",
          "text": [
            "Número de contagiados en los últimos 5 días: [[6507 7006 7285 7668 7973]]\n",
            "Predicción contagios para 2020-05-06 usando un modelo LinearLasso: [[8895.84508578]]\n"
          ],
          "name": "stdout"
        }
      ]
    },
    {
      "cell_type": "markdown",
      "metadata": {
        "id": "g23P_R8FaIWG",
        "colab_type": "text"
      },
      "source": [
        "#### Validación Cruzada Anidada EN:\n",
        "\n",
        "- Normalización StandadScalar\n",
        "- Representación PCA\n",
        "- Regresor LinearElasticNet"
      ]
    },
    {
      "cell_type": "code",
      "metadata": {
        "id": "VQtKYWNyaIxI",
        "colab_type": "code",
        "outputId": "54570539-6e34-4764-f915-0b4c56966237",
        "colab": {
          "base_uri": "https://localhost:8080/",
          "height": 1000
        }
      },
      "source": [
        "steps = [\n",
        "         [('scaler', StandardScaler()),           #estandarizar cada atributo columna de xtrain centrada en 0 y var = 1\n",
        "          ('reg',  ElasticNet())],\n",
        "         [('scaler', StandardScaler()),\n",
        "          ('rep', PCA()),                         \n",
        "          ('reg',  ElasticNet( ))]\n",
        "          ]\n",
        "\n",
        "parameters = [\n",
        "                {'reg__alpha':[1e-3,1e-2,1e-1,1,10,100],\n",
        "                 'reg__l1_ratio':[1e-3,1e-2,5e-1,75e-1,1e-1,1,10,100]\n",
        "                 },\n",
        "                {'reg__alpha':[1e-3,1e-2,1e-1,1,10,100],\n",
        "                 'reg__l1_ratio':[1e-3,1e-2,5e-1,75e-1,1e-1,1,10,100],\n",
        "                  'rep__n_components':[0.5,0.75,0.9]\n",
        "                 }\n",
        "               ]\n",
        "\n",
        "label_model_EN = ['NorSC-EN','NorSC-PCA-EN']\n",
        "\n",
        "B_Model_EN, B_Hiperpara_EN, MAE_EN = V_Cruzada_Anidada(X,y,steps,parameters)"
      ],
      "execution_count": 184,
      "outputs": [
        {
          "output_type": "stream",
          "text": [
            "it 1/10\n",
            "Fitting 5 folds for each of 48 candidates, totalling 240 fits\n"
          ],
          "name": "stdout"
        },
        {
          "output_type": "stream",
          "text": [
            "[Parallel(n_jobs=5)]: Using backend LokyBackend with 5 concurrent workers.\n",
            "[Parallel(n_jobs=5)]: Batch computation too fast (0.0236s.) Setting batch_size=2.\n",
            "[Parallel(n_jobs=5)]: Done   3 tasks      | elapsed:    0.0s\n",
            "[Parallel(n_jobs=5)]: Done   8 tasks      | elapsed:    0.0s\n",
            "[Parallel(n_jobs=5)]: Batch computation too fast (0.0485s.) Setting batch_size=4.\n",
            "[Parallel(n_jobs=5)]: Done  20 tasks      | elapsed:    0.1s\n",
            "[Parallel(n_jobs=5)]: Batch computation too fast (0.1044s.) Setting batch_size=8.\n",
            "[Parallel(n_jobs=5)]: Done  38 tasks      | elapsed:    0.3s\n",
            "[Parallel(n_jobs=5)]: Done  78 tasks      | elapsed:    0.4s\n",
            "[Parallel(n_jobs=5)]: Batch computation too fast (0.1049s.) Setting batch_size=16.\n",
            "[Parallel(n_jobs=5)]: Done 150 tasks      | elapsed:    0.6s\n",
            "[Parallel(n_jobs=5)]: Batch computation too fast (0.1643s.) Setting batch_size=32.\n",
            "[Parallel(n_jobs=5)]: Done 240 out of 240 | elapsed:    0.8s finished\n",
            "/usr/local/lib/python3.6/dist-packages/sklearn/linear_model/_coordinate_descent.py:476: ConvergenceWarning: Objective did not converge. You might want to increase the number of iterations. Duality gap: 173232.63475397247, tolerance: 27548.021915942038\n",
            "  positive)\n",
            "[Parallel(n_jobs=5)]: Using backend LokyBackend with 5 concurrent workers.\n",
            "[Parallel(n_jobs=5)]: Batch computation too fast (0.0109s.) Setting batch_size=2.\n",
            "[Parallel(n_jobs=5)]: Done   3 tasks      | elapsed:    0.0s\n",
            "[Parallel(n_jobs=5)]: Done   8 tasks      | elapsed:    0.0s\n",
            "[Parallel(n_jobs=5)]: Batch computation too fast (0.0428s.) Setting batch_size=4.\n",
            "[Parallel(n_jobs=5)]: Done  20 tasks      | elapsed:    0.1s\n",
            "[Parallel(n_jobs=5)]: Batch computation too fast (0.0823s.) Setting batch_size=8.\n"
          ],
          "name": "stderr"
        },
        {
          "output_type": "stream",
          "text": [
            "Fitting 5 folds for each of 144 candidates, totalling 720 fits\n"
          ],
          "name": "stdout"
        },
        {
          "output_type": "stream",
          "text": [
            "[Parallel(n_jobs=5)]: Done  38 tasks      | elapsed:    0.2s\n",
            "[Parallel(n_jobs=5)]: Done  78 tasks      | elapsed:    0.3s\n",
            "[Parallel(n_jobs=5)]: Batch computation too fast (0.1360s.) Setting batch_size=16.\n",
            "[Parallel(n_jobs=5)]: Done 150 tasks      | elapsed:    0.6s\n",
            "[Parallel(n_jobs=5)]: Batch computation too fast (0.1973s.) Setting batch_size=32.\n",
            "[Parallel(n_jobs=5)]: Done 342 tasks      | elapsed:    1.4s\n",
            "[Parallel(n_jobs=5)]: Done 539 tasks      | elapsed:    2.0s\n",
            "[Parallel(n_jobs=5)]: Done 583 tasks      | elapsed:    2.1s\n",
            "[Parallel(n_jobs=5)]: Done 658 tasks      | elapsed:    2.1s\n",
            "[Parallel(n_jobs=5)]: Done 673 tasks      | elapsed:    2.2s\n",
            "[Parallel(n_jobs=5)]: Done 688 tasks      | elapsed:    2.3s\n",
            "[Parallel(n_jobs=5)]: Done 705 tasks      | elapsed:    2.4s\n",
            "[Parallel(n_jobs=5)]: Done 720 out of 720 | elapsed:    2.4s finished\n",
            "[Parallel(n_jobs=5)]: Using backend LokyBackend with 5 concurrent workers.\n",
            "[Parallel(n_jobs=5)]: Batch computation too fast (0.0111s.) Setting batch_size=2.\n",
            "[Parallel(n_jobs=5)]: Done   3 tasks      | elapsed:    0.0s\n"
          ],
          "name": "stderr"
        },
        {
          "output_type": "stream",
          "text": [
            "it 2/10\n",
            "Fitting 5 folds for each of 48 candidates, totalling 240 fits\n"
          ],
          "name": "stdout"
        },
        {
          "output_type": "stream",
          "text": [
            "[Parallel(n_jobs=5)]: Done   8 tasks      | elapsed:    0.1s\n",
            "[Parallel(n_jobs=5)]: Batch computation too fast (0.0546s.) Setting batch_size=4.\n",
            "[Parallel(n_jobs=5)]: Done  20 tasks      | elapsed:    0.1s\n",
            "[Parallel(n_jobs=5)]: Batch computation too fast (0.0733s.) Setting batch_size=8.\n",
            "[Parallel(n_jobs=5)]: Done  38 tasks      | elapsed:    0.2s\n",
            "[Parallel(n_jobs=5)]: Done  78 tasks      | elapsed:    0.4s\n",
            "[Parallel(n_jobs=5)]: Batch computation too fast (0.1863s.) Setting batch_size=16.\n",
            "[Parallel(n_jobs=5)]: Done 150 tasks      | elapsed:    0.6s\n",
            "[Parallel(n_jobs=5)]: Done 240 out of 240 | elapsed:    0.8s finished\n",
            "/usr/local/lib/python3.6/dist-packages/sklearn/linear_model/_coordinate_descent.py:476: ConvergenceWarning: Objective did not converge. You might want to increase the number of iterations. Duality gap: 298345.19099393586, tolerance: 30101.069794202896\n",
            "  positive)\n",
            "[Parallel(n_jobs=5)]: Using backend LokyBackend with 5 concurrent workers.\n",
            "[Parallel(n_jobs=5)]: Batch computation too fast (0.0102s.) Setting batch_size=2.\n",
            "[Parallel(n_jobs=5)]: Done   3 tasks      | elapsed:    0.0s\n",
            "[Parallel(n_jobs=5)]: Done   8 tasks      | elapsed:    0.0s\n",
            "[Parallel(n_jobs=5)]: Batch computation too fast (0.0457s.) Setting batch_size=4.\n",
            "[Parallel(n_jobs=5)]: Done  20 tasks      | elapsed:    0.1s\n",
            "[Parallel(n_jobs=5)]: Batch computation too fast (0.0940s.) Setting batch_size=8.\n"
          ],
          "name": "stderr"
        },
        {
          "output_type": "stream",
          "text": [
            "Fitting 5 folds for each of 144 candidates, totalling 720 fits\n"
          ],
          "name": "stdout"
        },
        {
          "output_type": "stream",
          "text": [
            "[Parallel(n_jobs=5)]: Done  38 tasks      | elapsed:    0.2s\n",
            "[Parallel(n_jobs=5)]: Done  78 tasks      | elapsed:    0.4s\n",
            "[Parallel(n_jobs=5)]: Batch computation too fast (0.1289s.) Setting batch_size=16.\n",
            "[Parallel(n_jobs=5)]: Done 150 tasks      | elapsed:    0.6s\n",
            "[Parallel(n_jobs=5)]: Batch computation too fast (0.1881s.) Setting batch_size=32.\n",
            "[Parallel(n_jobs=5)]: Done 342 tasks      | elapsed:    1.4s\n",
            "[Parallel(n_jobs=5)]: Done 539 tasks      | elapsed:    1.9s\n",
            "[Parallel(n_jobs=5)]: Done 583 tasks      | elapsed:    2.0s\n",
            "[Parallel(n_jobs=5)]: Done 596 tasks      | elapsed:    2.1s\n",
            "[Parallel(n_jobs=5)]: Done 673 tasks      | elapsed:    2.2s\n",
            "[Parallel(n_jobs=5)]: Done 688 tasks      | elapsed:    2.3s\n",
            "[Parallel(n_jobs=5)]: Done 705 tasks      | elapsed:    2.4s\n",
            "[Parallel(n_jobs=5)]: Done 720 out of 720 | elapsed:    2.4s finished\n",
            "[Parallel(n_jobs=5)]: Using backend LokyBackend with 5 concurrent workers.\n"
          ],
          "name": "stderr"
        },
        {
          "output_type": "stream",
          "text": [
            "it 3/10\n",
            "Fitting 5 folds for each of 48 candidates, totalling 240 fits\n"
          ],
          "name": "stdout"
        },
        {
          "output_type": "stream",
          "text": [
            "[Parallel(n_jobs=5)]: Batch computation too fast (0.0114s.) Setting batch_size=2.\n",
            "[Parallel(n_jobs=5)]: Done   3 tasks      | elapsed:    0.0s\n",
            "[Parallel(n_jobs=5)]: Done   8 tasks      | elapsed:    0.1s\n",
            "[Parallel(n_jobs=5)]: Batch computation too fast (0.0483s.) Setting batch_size=4.\n",
            "[Parallel(n_jobs=5)]: Done  20 tasks      | elapsed:    0.1s\n",
            "[Parallel(n_jobs=5)]: Batch computation too fast (0.0629s.) Setting batch_size=8.\n",
            "[Parallel(n_jobs=5)]: Done  38 tasks      | elapsed:    0.2s\n",
            "[Parallel(n_jobs=5)]: Done  78 tasks      | elapsed:    0.4s\n",
            "[Parallel(n_jobs=5)]: Batch computation too fast (0.1242s.) Setting batch_size=16.\n",
            "[Parallel(n_jobs=5)]: Done 150 tasks      | elapsed:    0.6s\n",
            "[Parallel(n_jobs=5)]: Done 206 out of 240 | elapsed:    0.9s remaining:    0.1s\n",
            "[Parallel(n_jobs=5)]: Done 240 out of 240 | elapsed:    0.9s finished\n",
            "/usr/local/lib/python3.6/dist-packages/sklearn/linear_model/_coordinate_descent.py:476: ConvergenceWarning: Objective did not converge. You might want to increase the number of iterations. Duality gap: 191432.53957382482, tolerance: 30831.38469565219\n",
            "  positive)\n",
            "[Parallel(n_jobs=5)]: Using backend LokyBackend with 5 concurrent workers.\n",
            "[Parallel(n_jobs=5)]: Batch computation too fast (0.0132s.) Setting batch_size=2.\n",
            "[Parallel(n_jobs=5)]: Done   3 tasks      | elapsed:    0.0s\n",
            "[Parallel(n_jobs=5)]: Done   8 tasks      | elapsed:    0.1s\n",
            "[Parallel(n_jobs=5)]: Batch computation too fast (0.0390s.) Setting batch_size=4.\n",
            "[Parallel(n_jobs=5)]: Done  20 tasks      | elapsed:    0.1s\n",
            "[Parallel(n_jobs=5)]: Batch computation too fast (0.0896s.) Setting batch_size=8.\n"
          ],
          "name": "stderr"
        },
        {
          "output_type": "stream",
          "text": [
            "Fitting 5 folds for each of 144 candidates, totalling 720 fits\n"
          ],
          "name": "stdout"
        },
        {
          "output_type": "stream",
          "text": [
            "[Parallel(n_jobs=5)]: Done  38 tasks      | elapsed:    0.2s\n",
            "[Parallel(n_jobs=5)]: Done  78 tasks      | elapsed:    0.3s\n",
            "[Parallel(n_jobs=5)]: Batch computation too fast (0.1330s.) Setting batch_size=16.\n",
            "[Parallel(n_jobs=5)]: Done 150 tasks      | elapsed:    0.7s\n",
            "[Parallel(n_jobs=5)]: Done 326 tasks      | elapsed:    1.3s\n",
            "[Parallel(n_jobs=5)]: Done 502 tasks      | elapsed:    2.0s\n",
            "[Parallel(n_jobs=5)]: Done 650 tasks      | elapsed:    2.3s\n",
            "[Parallel(n_jobs=5)]: Done 720 out of 720 | elapsed:    2.4s finished\n",
            "[Parallel(n_jobs=5)]: Using backend LokyBackend with 5 concurrent workers.\n",
            "[Parallel(n_jobs=5)]: Batch computation too fast (0.0109s.) Setting batch_size=2.\n",
            "[Parallel(n_jobs=5)]: Done   3 tasks      | elapsed:    0.0s\n",
            "[Parallel(n_jobs=5)]: Done   8 tasks      | elapsed:    0.0s\n",
            "[Parallel(n_jobs=5)]: Batch computation too fast (0.0784s.) Setting batch_size=4.\n",
            "[Parallel(n_jobs=5)]: Done  20 tasks      | elapsed:    0.1s\n"
          ],
          "name": "stderr"
        },
        {
          "output_type": "stream",
          "text": [
            "it 4/10\n",
            "Fitting 5 folds for each of 48 candidates, totalling 240 fits\n"
          ],
          "name": "stdout"
        },
        {
          "output_type": "stream",
          "text": [
            "[Parallel(n_jobs=5)]: Batch computation too fast (0.0762s.) Setting batch_size=8.\n",
            "[Parallel(n_jobs=5)]: Done  38 tasks      | elapsed:    0.2s\n",
            "[Parallel(n_jobs=5)]: Done  78 tasks      | elapsed:    0.3s\n",
            "[Parallel(n_jobs=5)]: Batch computation too fast (0.1108s.) Setting batch_size=16.\n",
            "[Parallel(n_jobs=5)]: Done 150 tasks      | elapsed:    0.5s\n",
            "[Parallel(n_jobs=5)]: Done 206 out of 240 | elapsed:    0.8s remaining:    0.1s\n",
            "[Parallel(n_jobs=5)]: Done 240 out of 240 | elapsed:    0.8s finished\n",
            "/usr/local/lib/python3.6/dist-packages/sklearn/linear_model/_coordinate_descent.py:476: ConvergenceWarning: Objective did not converge. You might want to increase the number of iterations. Duality gap: 239850.82880883807, tolerance: 39089.302220289865\n",
            "  positive)\n",
            "[Parallel(n_jobs=5)]: Using backend LokyBackend with 5 concurrent workers.\n",
            "[Parallel(n_jobs=5)]: Batch computation too fast (0.0151s.) Setting batch_size=2.\n",
            "[Parallel(n_jobs=5)]: Done   3 tasks      | elapsed:    0.0s\n",
            "[Parallel(n_jobs=5)]: Done   8 tasks      | elapsed:    0.1s\n",
            "[Parallel(n_jobs=5)]: Batch computation too fast (0.0576s.) Setting batch_size=4.\n",
            "[Parallel(n_jobs=5)]: Done  20 tasks      | elapsed:    0.1s\n",
            "[Parallel(n_jobs=5)]: Batch computation too fast (0.0802s.) Setting batch_size=8.\n"
          ],
          "name": "stderr"
        },
        {
          "output_type": "stream",
          "text": [
            "Fitting 5 folds for each of 144 candidates, totalling 720 fits\n"
          ],
          "name": "stdout"
        },
        {
          "output_type": "stream",
          "text": [
            "[Parallel(n_jobs=5)]: Done  38 tasks      | elapsed:    0.3s\n",
            "[Parallel(n_jobs=5)]: Done  78 tasks      | elapsed:    0.4s\n",
            "[Parallel(n_jobs=5)]: Batch computation too fast (0.0972s.) Setting batch_size=16.\n",
            "[Parallel(n_jobs=5)]: Done 150 tasks      | elapsed:    0.7s\n",
            "[Parallel(n_jobs=5)]: Done 326 tasks      | elapsed:    1.2s\n",
            "[Parallel(n_jobs=5)]: Done 502 tasks      | elapsed:    2.1s\n",
            "[Parallel(n_jobs=5)]: Done 665 tasks      | elapsed:    2.4s\n",
            "[Parallel(n_jobs=5)]: Done 720 out of 720 | elapsed:    2.5s finished\n",
            "[Parallel(n_jobs=5)]: Using backend LokyBackend with 5 concurrent workers.\n",
            "[Parallel(n_jobs=5)]: Batch computation too fast (0.0073s.) Setting batch_size=2.\n",
            "[Parallel(n_jobs=5)]: Batch computation too fast (0.0073s.) Setting batch_size=4.\n",
            "[Parallel(n_jobs=5)]: Done   5 tasks      | elapsed:    0.0s\n",
            "[Parallel(n_jobs=5)]: Done  10 tasks      | elapsed:    0.1s\n",
            "[Parallel(n_jobs=5)]: Batch computation too fast (0.0467s.) Setting batch_size=8.\n"
          ],
          "name": "stderr"
        },
        {
          "output_type": "stream",
          "text": [
            "it 5/10\n",
            "Fitting 5 folds for each of 48 candidates, totalling 240 fits\n"
          ],
          "name": "stdout"
        },
        {
          "output_type": "stream",
          "text": [
            "[Parallel(n_jobs=5)]: Done  38 tasks      | elapsed:    0.2s\n",
            "[Parallel(n_jobs=5)]: Batch computation too fast (0.1412s.) Setting batch_size=16.\n",
            "[Parallel(n_jobs=5)]: Done  82 tasks      | elapsed:    0.4s\n",
            "[Parallel(n_jobs=5)]: Batch computation too fast (0.1719s.) Setting batch_size=32.\n",
            "[Parallel(n_jobs=5)]: Done 148 tasks      | elapsed:    0.6s\n",
            "[Parallel(n_jobs=5)]: Done 172 tasks      | elapsed:    0.7s\n",
            "[Parallel(n_jobs=5)]: Done 228 tasks      | elapsed:    0.8s\n",
            "[Parallel(n_jobs=5)]: Done 240 out of 240 | elapsed:    0.8s finished\n",
            "/usr/local/lib/python3.6/dist-packages/sklearn/linear_model/_coordinate_descent.py:476: ConvergenceWarning: Objective did not converge. You might want to increase the number of iterations. Duality gap: 254676.10330152576, tolerance: 30466.174576811594\n",
            "  positive)\n",
            "[Parallel(n_jobs=5)]: Using backend LokyBackend with 5 concurrent workers.\n",
            "[Parallel(n_jobs=5)]: Batch computation too fast (0.0163s.) Setting batch_size=2.\n",
            "[Parallel(n_jobs=5)]: Done   3 tasks      | elapsed:    0.0s\n",
            "[Parallel(n_jobs=5)]: Done   8 tasks      | elapsed:    0.0s\n",
            "[Parallel(n_jobs=5)]: Batch computation too fast (0.0410s.) Setting batch_size=4.\n",
            "[Parallel(n_jobs=5)]: Done  20 tasks      | elapsed:    0.1s\n"
          ],
          "name": "stderr"
        },
        {
          "output_type": "stream",
          "text": [
            "Fitting 5 folds for each of 144 candidates, totalling 720 fits\n"
          ],
          "name": "stdout"
        },
        {
          "output_type": "stream",
          "text": [
            "[Parallel(n_jobs=5)]: Batch computation too fast (0.0855s.) Setting batch_size=8.\n",
            "[Parallel(n_jobs=5)]: Done  38 tasks      | elapsed:    0.2s\n",
            "[Parallel(n_jobs=5)]: Done  78 tasks      | elapsed:    0.4s\n",
            "[Parallel(n_jobs=5)]: Batch computation too fast (0.1559s.) Setting batch_size=16.\n",
            "[Parallel(n_jobs=5)]: Done 150 tasks      | elapsed:    0.7s\n",
            "[Parallel(n_jobs=5)]: Done 326 tasks      | elapsed:    1.2s\n",
            "[Parallel(n_jobs=5)]: Done 502 tasks      | elapsed:    2.0s\n",
            "[Parallel(n_jobs=5)]: Done 665 tasks      | elapsed:    2.3s\n",
            "[Parallel(n_jobs=5)]: Done 720 out of 720 | elapsed:    2.3s finished\n",
            "[Parallel(n_jobs=5)]: Using backend LokyBackend with 5 concurrent workers.\n",
            "[Parallel(n_jobs=5)]: Batch computation too fast (0.0097s.) Setting batch_size=2.\n",
            "[Parallel(n_jobs=5)]: Done   3 tasks      | elapsed:    0.0s\n",
            "[Parallel(n_jobs=5)]: Done   8 tasks      | elapsed:    0.1s\n",
            "[Parallel(n_jobs=5)]: Batch computation too fast (0.0341s.) Setting batch_size=4.\n",
            "[Parallel(n_jobs=5)]: Done  20 tasks      | elapsed:    0.1s\n"
          ],
          "name": "stderr"
        },
        {
          "output_type": "stream",
          "text": [
            "it 6/10\n",
            "Fitting 5 folds for each of 48 candidates, totalling 240 fits\n"
          ],
          "name": "stdout"
        },
        {
          "output_type": "stream",
          "text": [
            "[Parallel(n_jobs=5)]: Batch computation too fast (0.0843s.) Setting batch_size=8.\n",
            "[Parallel(n_jobs=5)]: Done  38 tasks      | elapsed:    0.2s\n",
            "[Parallel(n_jobs=5)]: Done  78 tasks      | elapsed:    0.3s\n",
            "[Parallel(n_jobs=5)]: Batch computation too fast (0.1282s.) Setting batch_size=16.\n",
            "[Parallel(n_jobs=5)]: Done 150 tasks      | elapsed:    0.6s\n",
            "[Parallel(n_jobs=5)]: Done 240 out of 240 | elapsed:    0.8s finished\n",
            "/usr/local/lib/python3.6/dist-packages/sklearn/linear_model/_coordinate_descent.py:476: ConvergenceWarning: Objective did not converge. You might want to increase the number of iterations. Duality gap: 280563.08602435794, tolerance: 30906.170260869563\n",
            "  positive)\n",
            "[Parallel(n_jobs=5)]: Using backend LokyBackend with 5 concurrent workers.\n"
          ],
          "name": "stderr"
        },
        {
          "output_type": "stream",
          "text": [
            "Fitting 5 folds for each of 144 candidates, totalling 720 fits\n"
          ],
          "name": "stdout"
        },
        {
          "output_type": "stream",
          "text": [
            "[Parallel(n_jobs=5)]: Batch computation too fast (0.0229s.) Setting batch_size=2.\n",
            "[Parallel(n_jobs=5)]: Done   3 tasks      | elapsed:    0.0s\n",
            "[Parallel(n_jobs=5)]: Done   8 tasks      | elapsed:    0.1s\n",
            "[Parallel(n_jobs=5)]: Batch computation too fast (0.0277s.) Setting batch_size=4.\n",
            "[Parallel(n_jobs=5)]: Done  20 tasks      | elapsed:    0.1s\n",
            "[Parallel(n_jobs=5)]: Batch computation too fast (0.0661s.) Setting batch_size=8.\n",
            "[Parallel(n_jobs=5)]: Done  38 tasks      | elapsed:    0.2s\n",
            "[Parallel(n_jobs=5)]: Done  78 tasks      | elapsed:    0.3s\n",
            "[Parallel(n_jobs=5)]: Batch computation too fast (0.1032s.) Setting batch_size=16.\n",
            "[Parallel(n_jobs=5)]: Done 150 tasks      | elapsed:    0.8s\n",
            "[Parallel(n_jobs=5)]: Done 326 tasks      | elapsed:    1.2s\n",
            "[Parallel(n_jobs=5)]: Done 502 tasks      | elapsed:    2.0s\n",
            "[Parallel(n_jobs=5)]: Done 650 tasks      | elapsed:    2.3s\n",
            "[Parallel(n_jobs=5)]: Done 720 out of 720 | elapsed:    2.4s finished\n",
            "[Parallel(n_jobs=5)]: Using backend LokyBackend with 5 concurrent workers.\n",
            "[Parallel(n_jobs=5)]: Batch computation too fast (0.0095s.) Setting batch_size=2.\n",
            "[Parallel(n_jobs=5)]: Done   3 tasks      | elapsed:    0.0s\n",
            "[Parallel(n_jobs=5)]: Done   8 tasks      | elapsed:    0.0s\n",
            "[Parallel(n_jobs=5)]: Batch computation too fast (0.0508s.) Setting batch_size=4.\n",
            "[Parallel(n_jobs=5)]: Done  20 tasks      | elapsed:    0.1s\n"
          ],
          "name": "stderr"
        },
        {
          "output_type": "stream",
          "text": [
            "it 7/10\n",
            "Fitting 5 folds for each of 48 candidates, totalling 240 fits\n"
          ],
          "name": "stdout"
        },
        {
          "output_type": "stream",
          "text": [
            "[Parallel(n_jobs=5)]: Batch computation too fast (0.1024s.) Setting batch_size=8.\n",
            "[Parallel(n_jobs=5)]: Done  38 tasks      | elapsed:    0.3s\n",
            "[Parallel(n_jobs=5)]: Done  78 tasks      | elapsed:    0.4s\n",
            "[Parallel(n_jobs=5)]: Batch computation too fast (0.1023s.) Setting batch_size=16.\n",
            "[Parallel(n_jobs=5)]: Done 150 tasks      | elapsed:    0.6s\n",
            "[Parallel(n_jobs=5)]: Batch computation too fast (0.1054s.) Setting batch_size=32.\n",
            "[Parallel(n_jobs=5)]: Done 240 out of 240 | elapsed:    0.8s finished\n",
            "/usr/local/lib/python3.6/dist-packages/sklearn/linear_model/_coordinate_descent.py:476: ConvergenceWarning: Objective did not converge. You might want to increase the number of iterations. Duality gap: 193413.24553054865, tolerance: 33457.86470724638\n",
            "  positive)\n",
            "[Parallel(n_jobs=5)]: Using backend LokyBackend with 5 concurrent workers.\n"
          ],
          "name": "stderr"
        },
        {
          "output_type": "stream",
          "text": [
            "Fitting 5 folds for each of 144 candidates, totalling 720 fits\n"
          ],
          "name": "stdout"
        },
        {
          "output_type": "stream",
          "text": [
            "[Parallel(n_jobs=5)]: Batch computation too fast (0.0163s.) Setting batch_size=2.\n",
            "[Parallel(n_jobs=5)]: Done   3 tasks      | elapsed:    0.0s\n",
            "[Parallel(n_jobs=5)]: Done   8 tasks      | elapsed:    0.1s\n",
            "[Parallel(n_jobs=5)]: Batch computation too fast (0.0532s.) Setting batch_size=4.\n",
            "[Parallel(n_jobs=5)]: Done  20 tasks      | elapsed:    0.1s\n",
            "[Parallel(n_jobs=5)]: Batch computation too fast (0.0803s.) Setting batch_size=8.\n",
            "[Parallel(n_jobs=5)]: Done  38 tasks      | elapsed:    0.2s\n",
            "[Parallel(n_jobs=5)]: Done  78 tasks      | elapsed:    0.4s\n",
            "[Parallel(n_jobs=5)]: Batch computation too fast (0.1369s.) Setting batch_size=16.\n",
            "[Parallel(n_jobs=5)]: Done 150 tasks      | elapsed:    0.7s\n",
            "[Parallel(n_jobs=5)]: Done 326 tasks      | elapsed:    1.3s\n",
            "[Parallel(n_jobs=5)]: Done 502 tasks      | elapsed:    2.0s\n",
            "[Parallel(n_jobs=5)]: Done 680 tasks      | elapsed:    2.3s\n",
            "[Parallel(n_jobs=5)]: Done 720 out of 720 | elapsed:    2.4s finished\n",
            "[Parallel(n_jobs=5)]: Using backend LokyBackend with 5 concurrent workers.\n",
            "[Parallel(n_jobs=5)]: Batch computation too fast (0.0144s.) Setting batch_size=2.\n",
            "[Parallel(n_jobs=5)]: Done   3 tasks      | elapsed:    0.0s\n",
            "[Parallel(n_jobs=5)]: Done   8 tasks      | elapsed:    0.0s\n",
            "[Parallel(n_jobs=5)]: Batch computation too fast (0.0550s.) Setting batch_size=4.\n",
            "[Parallel(n_jobs=5)]: Done  20 tasks      | elapsed:    0.1s\n"
          ],
          "name": "stderr"
        },
        {
          "output_type": "stream",
          "text": [
            "it 8/10\n",
            "Fitting 5 folds for each of 48 candidates, totalling 240 fits\n"
          ],
          "name": "stdout"
        },
        {
          "output_type": "stream",
          "text": [
            "[Parallel(n_jobs=5)]: Batch computation too fast (0.0895s.) Setting batch_size=8.\n",
            "[Parallel(n_jobs=5)]: Done  38 tasks      | elapsed:    0.2s\n",
            "[Parallel(n_jobs=5)]: Batch computation too fast (0.0795s.) Setting batch_size=16.\n",
            "[Parallel(n_jobs=5)]: Done  78 tasks      | elapsed:    0.4s\n",
            "[Parallel(n_jobs=5)]: Done 150 tasks      | elapsed:    0.6s\n",
            "[Parallel(n_jobs=5)]: Batch computation too fast (0.1247s.) Setting batch_size=32.\n",
            "[Parallel(n_jobs=5)]: Done 240 out of 240 | elapsed:    0.8s finished\n",
            "/usr/local/lib/python3.6/dist-packages/sklearn/linear_model/_coordinate_descent.py:476: ConvergenceWarning: Objective did not converge. You might want to increase the number of iterations. Duality gap: 285247.0340738604, tolerance: 24670.430530434787\n",
            "  positive)\n",
            "[Parallel(n_jobs=5)]: Using backend LokyBackend with 5 concurrent workers.\n",
            "[Parallel(n_jobs=5)]: Batch computation too fast (0.0147s.) Setting batch_size=2.\n",
            "[Parallel(n_jobs=5)]: Done   3 tasks      | elapsed:    0.0s\n",
            "[Parallel(n_jobs=5)]: Done   8 tasks      | elapsed:    0.0s\n",
            "[Parallel(n_jobs=5)]: Batch computation too fast (0.0386s.) Setting batch_size=4.\n",
            "[Parallel(n_jobs=5)]: Done  20 tasks      | elapsed:    0.1s\n",
            "[Parallel(n_jobs=5)]: Batch computation too fast (0.0697s.) Setting batch_size=8.\n",
            "[Parallel(n_jobs=5)]: Done  38 tasks      | elapsed:    0.2s\n"
          ],
          "name": "stderr"
        },
        {
          "output_type": "stream",
          "text": [
            "Fitting 5 folds for each of 144 candidates, totalling 720 fits\n"
          ],
          "name": "stdout"
        },
        {
          "output_type": "stream",
          "text": [
            "[Parallel(n_jobs=5)]: Done  78 tasks      | elapsed:    0.3s\n",
            "[Parallel(n_jobs=5)]: Batch computation too fast (0.1119s.) Setting batch_size=16.\n",
            "[Parallel(n_jobs=5)]: Done 150 tasks      | elapsed:    0.6s\n",
            "[Parallel(n_jobs=5)]: Done 326 tasks      | elapsed:    1.2s\n",
            "[Parallel(n_jobs=5)]: Done 502 tasks      | elapsed:    2.1s\n",
            "[Parallel(n_jobs=5)]: Done 665 tasks      | elapsed:    2.3s\n",
            "[Parallel(n_jobs=5)]: Done 720 out of 720 | elapsed:    2.4s finished\n",
            "[Parallel(n_jobs=5)]: Using backend LokyBackend with 5 concurrent workers.\n",
            "[Parallel(n_jobs=5)]: Batch computation too fast (0.0114s.) Setting batch_size=2.\n",
            "[Parallel(n_jobs=5)]: Done   3 tasks      | elapsed:    0.0s\n",
            "[Parallel(n_jobs=5)]: Done   8 tasks      | elapsed:    0.0s\n",
            "[Parallel(n_jobs=5)]: Batch computation too fast (0.0389s.) Setting batch_size=4.\n",
            "[Parallel(n_jobs=5)]: Done  20 tasks      | elapsed:    0.1s\n",
            "[Parallel(n_jobs=5)]: Batch computation too fast (0.0719s.) Setting batch_size=8.\n"
          ],
          "name": "stderr"
        },
        {
          "output_type": "stream",
          "text": [
            "it 9/10\n",
            "Fitting 5 folds for each of 48 candidates, totalling 240 fits\n"
          ],
          "name": "stdout"
        },
        {
          "output_type": "stream",
          "text": [
            "[Parallel(n_jobs=5)]: Done  38 tasks      | elapsed:    0.2s\n",
            "[Parallel(n_jobs=5)]: Done  78 tasks      | elapsed:    0.4s\n",
            "[Parallel(n_jobs=5)]: Batch computation too fast (0.1440s.) Setting batch_size=16.\n",
            "[Parallel(n_jobs=5)]: Done 150 tasks      | elapsed:    0.6s\n",
            "[Parallel(n_jobs=5)]: Batch computation too fast (0.1962s.) Setting batch_size=32.\n",
            "[Parallel(n_jobs=5)]: Done 206 out of 240 | elapsed:    0.8s remaining:    0.1s\n",
            "[Parallel(n_jobs=5)]: Done 240 out of 240 | elapsed:    0.8s finished\n",
            "/usr/local/lib/python3.6/dist-packages/sklearn/linear_model/_coordinate_descent.py:476: ConvergenceWarning: Objective did not converge. You might want to increase the number of iterations. Duality gap: 222847.31383308998, tolerance: 29249.64717391305\n",
            "  positive)\n",
            "[Parallel(n_jobs=5)]: Using backend LokyBackend with 5 concurrent workers.\n",
            "[Parallel(n_jobs=5)]: Batch computation too fast (0.0095s.) Setting batch_size=2.\n",
            "[Parallel(n_jobs=5)]: Done   3 tasks      | elapsed:    0.0s\n"
          ],
          "name": "stderr"
        },
        {
          "output_type": "stream",
          "text": [
            "Fitting 5 folds for each of 144 candidates, totalling 720 fits\n"
          ],
          "name": "stdout"
        },
        {
          "output_type": "stream",
          "text": [
            "[Parallel(n_jobs=5)]: Done   8 tasks      | elapsed:    0.0s\n",
            "[Parallel(n_jobs=5)]: Batch computation too fast (0.0499s.) Setting batch_size=4.\n",
            "[Parallel(n_jobs=5)]: Done  20 tasks      | elapsed:    0.1s\n",
            "[Parallel(n_jobs=5)]: Batch computation too fast (0.0780s.) Setting batch_size=8.\n",
            "[Parallel(n_jobs=5)]: Done  38 tasks      | elapsed:    0.2s\n",
            "[Parallel(n_jobs=5)]: Done  78 tasks      | elapsed:    0.4s\n",
            "[Parallel(n_jobs=5)]: Batch computation too fast (0.1444s.) Setting batch_size=16.\n",
            "[Parallel(n_jobs=5)]: Done 150 tasks      | elapsed:    0.6s\n",
            "[Parallel(n_jobs=5)]: Done 326 tasks      | elapsed:    1.2s\n",
            "[Parallel(n_jobs=5)]: Done 502 tasks      | elapsed:    2.0s\n",
            "[Parallel(n_jobs=5)]: Done 650 tasks      | elapsed:    2.2s\n",
            "[Parallel(n_jobs=5)]: Done 720 out of 720 | elapsed:    2.4s finished\n",
            "[Parallel(n_jobs=5)]: Using backend LokyBackend with 5 concurrent workers.\n",
            "[Parallel(n_jobs=5)]: Batch computation too fast (0.0138s.) Setting batch_size=2.\n",
            "[Parallel(n_jobs=5)]: Done   3 tasks      | elapsed:    0.0s\n"
          ],
          "name": "stderr"
        },
        {
          "output_type": "stream",
          "text": [
            "it 10/10\n",
            "Fitting 5 folds for each of 48 candidates, totalling 240 fits\n"
          ],
          "name": "stdout"
        },
        {
          "output_type": "stream",
          "text": [
            "[Parallel(n_jobs=5)]: Done   8 tasks      | elapsed:    0.1s\n",
            "[Parallel(n_jobs=5)]: Batch computation too fast (0.0393s.) Setting batch_size=4.\n",
            "[Parallel(n_jobs=5)]: Done  20 tasks      | elapsed:    0.1s\n",
            "[Parallel(n_jobs=5)]: Batch computation too fast (0.0892s.) Setting batch_size=8.\n",
            "[Parallel(n_jobs=5)]: Done  38 tasks      | elapsed:    0.2s\n",
            "[Parallel(n_jobs=5)]: Done  78 tasks      | elapsed:    0.3s\n",
            "[Parallel(n_jobs=5)]: Batch computation too fast (0.1061s.) Setting batch_size=16.\n",
            "[Parallel(n_jobs=5)]: Done 150 tasks      | elapsed:    0.6s\n",
            "[Parallel(n_jobs=5)]: Done 240 out of 240 | elapsed:    0.8s finished\n",
            "/usr/local/lib/python3.6/dist-packages/sklearn/linear_model/_coordinate_descent.py:476: ConvergenceWarning: Objective did not converge. You might want to increase the number of iterations. Duality gap: 326968.0569368196, tolerance: 36085.90166376811\n",
            "  positive)\n",
            "[Parallel(n_jobs=5)]: Using backend LokyBackend with 5 concurrent workers.\n",
            "[Parallel(n_jobs=5)]: Batch computation too fast (0.0150s.) Setting batch_size=2.\n",
            "[Parallel(n_jobs=5)]: Done   3 tasks      | elapsed:    0.0s\n",
            "[Parallel(n_jobs=5)]: Done   8 tasks      | elapsed:    0.0s\n",
            "[Parallel(n_jobs=5)]: Batch computation too fast (0.0357s.) Setting batch_size=4.\n",
            "[Parallel(n_jobs=5)]: Done  20 tasks      | elapsed:    0.1s\n"
          ],
          "name": "stderr"
        },
        {
          "output_type": "stream",
          "text": [
            "Fitting 5 folds for each of 144 candidates, totalling 720 fits\n"
          ],
          "name": "stdout"
        },
        {
          "output_type": "stream",
          "text": [
            "[Parallel(n_jobs=5)]: Batch computation too fast (0.1276s.) Setting batch_size=8.\n",
            "[Parallel(n_jobs=5)]: Done  38 tasks      | elapsed:    0.3s\n",
            "[Parallel(n_jobs=5)]: Done  78 tasks      | elapsed:    0.4s\n",
            "[Parallel(n_jobs=5)]: Batch computation too fast (0.1294s.) Setting batch_size=16.\n",
            "[Parallel(n_jobs=5)]: Done 150 tasks      | elapsed:    0.8s\n",
            "[Parallel(n_jobs=5)]: Done 326 tasks      | elapsed:    1.2s\n",
            "[Parallel(n_jobs=5)]: Done 502 tasks      | elapsed:    2.0s\n",
            "[Parallel(n_jobs=5)]: Done 650 tasks      | elapsed:    2.2s\n",
            "[Parallel(n_jobs=5)]: Done 720 out of 720 | elapsed:    2.3s finished\n"
          ],
          "name": "stderr"
        }
      ]
    },
    {
      "cell_type": "code",
      "metadata": {
        "id": "71BvnfGDaJGv",
        "colab_type": "code",
        "outputId": "f8c6f614-ed1b-4d42-9652-ccfa6984565d",
        "colab": {
          "base_uri": "https://localhost:8080/",
          "height": 265
        }
      },
      "source": [
        "plt.boxplot(MAE_EN)\n",
        "plt.xticks(ticks=np.arange(len(steps))+1,labels=label_model_EN)\n",
        "plt.show()"
      ],
      "execution_count": 185,
      "outputs": [
        {
          "output_type": "display_data",
          "data": {
            "image/png": "[encoded data removed]",
            "text/plain": [
              "<Figure size 432x288 with 1 Axes>"
            ]
          },
          "metadata": {
            "tags": [],
            "needs_background": "light"
          }
        }
      ]
    },
    {
      "cell_type": "code",
      "metadata": {
        "id": "FqKuGqQQaJRc",
        "colab_type": "code",
        "outputId": "f6565eff-8d54-470f-921c-67136c42972c",
        "colab": {
          "base_uri": "https://localhost:8080/",
          "height": 187
        }
      },
      "source": [
        "MAE_EN"
      ],
      "execution_count": 186,
      "outputs": [
        {
          "output_type": "execute_result",
          "data": {
            "text/plain": [
              "array([[ 8349.9099288 , 16540.94373906],\n",
              "       [ 9589.05033498, 18422.17684802],\n",
              "       [ 8433.9952388 , 20157.12939076],\n",
              "       [12652.06335061, 27323.06454264],\n",
              "       [ 6683.77701355, 17463.78559694],\n",
              "       [ 5719.89025177, 16184.204536  ],\n",
              "       [12937.38642678,  7735.62429717],\n",
              "       [ 6029.69667825, 13439.79178107],\n",
              "       [ 3201.67527976, 10345.39604114],\n",
              "       [ 8113.61190614, 21527.86987531]])"
            ]
          },
          "metadata": {
            "tags": []
          },
          "execution_count": 186
        }
      ]
    },
    {
      "cell_type": "code",
      "metadata": {
        "id": "98LpiNQ-csDb",
        "colab_type": "code",
        "outputId": "1a298769-063a-4b42-f7e2-7849a15e530e",
        "colab": {
          "base_uri": "https://localhost:8080/",
          "height": 357
        }
      },
      "source": [
        "B_Hiperpara_EN"
      ],
      "execution_count": 187,
      "outputs": [
        {
          "output_type": "execute_result",
          "data": {
            "text/plain": [
              "[{'reg__alpha': 0.1, 'reg__l1_ratio': 1},\n",
              " {'reg__alpha': 0.001, 'reg__l1_ratio': 10, 'rep__n_components': 0.5},\n",
              " {'reg__alpha': 0.001, 'reg__l1_ratio': 0.01},\n",
              " {'reg__alpha': 0.001, 'reg__l1_ratio': 10, 'rep__n_components': 0.5},\n",
              " {'reg__alpha': 0.1, 'reg__l1_ratio': 1},\n",
              " {'reg__alpha': 0.001, 'reg__l1_ratio': 10, 'rep__n_components': 0.5},\n",
              " {'reg__alpha': 0.001, 'reg__l1_ratio': 1},\n",
              " {'reg__alpha': 0.01, 'reg__l1_ratio': 7.5, 'rep__n_components': 0.5},\n",
              " {'reg__alpha': 0.001, 'reg__l1_ratio': 0.5},\n",
              " {'reg__alpha': 0.01, 'reg__l1_ratio': 7.5, 'rep__n_components': 0.5},\n",
              " {'reg__alpha': 0.001, 'reg__l1_ratio': 0.5},\n",
              " {'reg__alpha': 0.001, 'reg__l1_ratio': 10, 'rep__n_components': 0.5},\n",
              " {'reg__alpha': 0.1, 'reg__l1_ratio': 1},\n",
              " {'reg__alpha': 0.001, 'reg__l1_ratio': 10, 'rep__n_components': 0.5},\n",
              " {'reg__alpha': 0.001, 'reg__l1_ratio': 0.1},\n",
              " {'reg__alpha': 10, 'reg__l1_ratio': 1, 'rep__n_components': 0.5},\n",
              " {'reg__alpha': 0.1, 'reg__l1_ratio': 1},\n",
              " {'reg__alpha': 0.001, 'reg__l1_ratio': 10, 'rep__n_components': 0.5},\n",
              " {'reg__alpha': 0.001, 'reg__l1_ratio': 0.1},\n",
              " {'reg__alpha': 0.001, 'reg__l1_ratio': 10, 'rep__n_components': 0.5}]"
            ]
          },
          "metadata": {
            "tags": []
          },
          "execution_count": 187
        }
      ]
    },
    {
      "cell_type": "code",
      "metadata": {
        "id": "9FQH_kDecvM9",
        "colab_type": "code",
        "outputId": "e776fb7d-2c87-4921-c064-ac05f2a33c27",
        "colab": {
          "base_uri": "https://localhost:8080/",
          "height": 241
        }
      },
      "source": [
        "steps =  [('scaler', StandardScaler()),\n",
        "          #('rep', PCA(n_components=0.5)),                         \n",
        "          ('reg', ElasticNet(alpha=0.001, l1_ratio=1))]\n",
        "\n",
        "Mod_SC_EN = Pipeline(steps = steps)\n",
        "Mod_SC_EN.fit(X_train,y_train)"
      ],
      "execution_count": 188,
      "outputs": [
        {
          "output_type": "stream",
          "text": [
            "/usr/local/lib/python3.6/dist-packages/sklearn/linear_model/_coordinate_descent.py:476: ConvergenceWarning: Objective did not converge. You might want to increase the number of iterations. Duality gap: 216219.2792065452, tolerance: 28753.624628985508\n",
            "  positive)\n"
          ],
          "name": "stderr"
        },
        {
          "output_type": "execute_result",
          "data": {
            "text/plain": [
              "Pipeline(memory=None,\n",
              "         steps=[('scaler',\n",
              "                 StandardScaler(copy=True, with_mean=True, with_std=True)),\n",
              "                ('reg',\n",
              "                 ElasticNet(alpha=0.001, copy_X=True, fit_intercept=True,\n",
              "                            l1_ratio=1, max_iter=1000, normalize=False,\n",
              "                            positive=False, precompute=False, random_state=None,\n",
              "                            selection='cyclic', tol=0.0001,\n",
              "                            warm_start=False))],\n",
              "         verbose=False)"
            ]
          },
          "metadata": {
            "tags": []
          },
          "execution_count": 188
        }
      ]
    },
    {
      "cell_type": "code",
      "metadata": {
        "id": "8Iu1xLhkcsTM",
        "colab_type": "code",
        "outputId": "bc705a76-3d28-453e-c652-fa7048dbd89a",
        "colab": {
          "base_uri": "https://localhost:8080/",
          "height": 51
        }
      },
      "source": [
        "Xn = prueba1\n",
        "\n",
        "Xn = Xn.reshape(1,-1)\n",
        "Pre_SC_EN = Mod_SC_EN.predict(Xn)\n",
        "\n",
        "print('Número de contagiados en los últimos 5 días:',Xn)\n",
        "print('Predicción contagios para',date.today(),'usando un modelo LinearElasticNet:',Pre_SC_EN)"
      ],
      "execution_count": 189,
      "outputs": [
        {
          "output_type": "stream",
          "text": [
            "Número de contagiados en los últimos 5 días: [[6507 7006 7285 7668 7973]]\n",
            "Predicción contagios para 2020-05-06 usando un modelo LinearElasticNet: [8959.33373139]\n"
          ],
          "name": "stdout"
        }
      ]
    },
    {
      "cell_type": "markdown",
      "metadata": {
        "id": "nyun9RHoWFZw",
        "colab_type": "text"
      },
      "source": [
        "#### Validación Cruzada Anidada KR:\n",
        "\n",
        "- Normalización StandadScalar\n",
        "- Representación PCA\n",
        "- Regresor KernelRidge"
      ]
    },
    {
      "cell_type": "code",
      "metadata": {
        "id": "G58Fq58jT-FT",
        "colab_type": "code",
        "outputId": "09ca27ee-3bf1-409a-8640-1f43f293cf28",
        "colab": {
          "base_uri": "https://localhost:8080/",
          "height": 1000
        }
      },
      "source": [
        "steps = [\n",
        "         [('scaler', StandardScaler()),           #estandarizar cada atributo columna de xtrain centrada en 0 y var = 1\n",
        "          ('reg',  KernelRidge(kernel = 'rbf'))],\n",
        "         [('scaler', StandardScaler()),\n",
        "          ('rep', PCA()),                         \n",
        "          ('reg',  KernelRidge(kernel = 'rbf'))]\n",
        "          ]\n",
        "\n",
        "parameters = [\n",
        "                {'reg__gamma':[1e-3,1e-2,1e-1,1,10,100],\n",
        "                 'reg__alpha':[1e-3,1e-2,1e-1,1,10,100]\n",
        "                 },\n",
        "                {'reg__gamma':[1e-3,1e-2,1e-1,1,10,100],\n",
        "                 'reg__alpha':[1e-3,1e-2,1e-1,1,10,100],\n",
        "                 'rep__n_components':[0.5,0.75,0.9]\n",
        "                 }\n",
        "               ]\n",
        "\n",
        "label_model_KR = ['NorSC-KRRBF','NorSC-PCA-KRRBF']\n",
        "\n",
        "B_Model_KR, B_Hiperpara_KR, MAE_KR = V_Cruzada_Anidada(X,y,steps,parameters)"
      ],
      "execution_count": 190,
      "outputs": [
        {
          "output_type": "stream",
          "text": [
            "[Parallel(n_jobs=5)]: Using backend LokyBackend with 5 concurrent workers.\n",
            "[Parallel(n_jobs=5)]: Batch computation too fast (0.0086s.) Setting batch_size=2.\n",
            "[Parallel(n_jobs=5)]: Done   3 tasks      | elapsed:    0.0s\n",
            "[Parallel(n_jobs=5)]: Done   8 tasks      | elapsed:    0.1s\n",
            "[Parallel(n_jobs=5)]: Batch computation too fast (0.0446s.) Setting batch_size=4.\n",
            "[Parallel(n_jobs=5)]: Done  20 tasks      | elapsed:    0.1s\n"
          ],
          "name": "stderr"
        },
        {
          "output_type": "stream",
          "text": [
            "it 1/10\n",
            "Fitting 5 folds for each of 36 candidates, totalling 180 fits\n"
          ],
          "name": "stdout"
        },
        {
          "output_type": "stream",
          "text": [
            "[Parallel(n_jobs=5)]: Batch computation too fast (0.1036s.) Setting batch_size=8.\n",
            "[Parallel(n_jobs=5)]: Done  38 tasks      | elapsed:    0.2s\n",
            "[Parallel(n_jobs=5)]: Done  78 tasks      | elapsed:    0.3s\n",
            "[Parallel(n_jobs=5)]: Batch computation too fast (0.0844s.) Setting batch_size=16.\n",
            "[Parallel(n_jobs=5)]: Done 136 tasks      | elapsed:    0.5s\n",
            "[Parallel(n_jobs=5)]: Done 161 tasks      | elapsed:    0.5s\n",
            "[Parallel(n_jobs=5)]: Done 180 out of 180 | elapsed:    0.6s finished\n",
            "[Parallel(n_jobs=5)]: Using backend LokyBackend with 5 concurrent workers.\n",
            "[Parallel(n_jobs=5)]: Batch computation too fast (0.0092s.) Setting batch_size=2.\n",
            "[Parallel(n_jobs=5)]: Done   3 tasks      | elapsed:    0.0s\n",
            "[Parallel(n_jobs=5)]: Done   8 tasks      | elapsed:    0.1s\n",
            "[Parallel(n_jobs=5)]: Batch computation too fast (0.0621s.) Setting batch_size=4.\n"
          ],
          "name": "stderr"
        },
        {
          "output_type": "stream",
          "text": [
            "Fitting 5 folds for each of 108 candidates, totalling 540 fits\n"
          ],
          "name": "stdout"
        },
        {
          "output_type": "stream",
          "text": [
            "[Parallel(n_jobs=5)]: Done  20 tasks      | elapsed:    0.1s\n",
            "[Parallel(n_jobs=5)]: Batch computation too fast (0.0768s.) Setting batch_size=8.\n",
            "[Parallel(n_jobs=5)]: Done  38 tasks      | elapsed:    0.3s\n",
            "[Parallel(n_jobs=5)]: Done  78 tasks      | elapsed:    0.4s\n",
            "[Parallel(n_jobs=5)]: Batch computation too fast (0.1100s.) Setting batch_size=16.\n",
            "[Parallel(n_jobs=5)]: Done 150 tasks      | elapsed:    0.8s\n",
            "[Parallel(n_jobs=5)]: Done 326 tasks      | elapsed:    1.3s\n",
            "[Parallel(n_jobs=5)]: Done 442 tasks      | elapsed:    1.7s\n",
            "[Parallel(n_jobs=5)]: Done 455 tasks      | elapsed:    1.7s\n",
            "[Parallel(n_jobs=5)]: Done 498 tasks      | elapsed:    1.8s\n",
            "[Parallel(n_jobs=5)]: Done 513 tasks      | elapsed:    1.9s\n",
            "[Parallel(n_jobs=5)]: Done 528 tasks      | elapsed:    1.9s\n",
            "[Parallel(n_jobs=5)]: Done 540 out of 540 | elapsed:    2.0s finished\n",
            "[Parallel(n_jobs=5)]: Using backend LokyBackend with 5 concurrent workers.\n",
            "[Parallel(n_jobs=5)]: Batch computation too fast (0.0166s.) Setting batch_size=2.\n",
            "[Parallel(n_jobs=5)]: Done   3 tasks      | elapsed:    0.0s\n",
            "[Parallel(n_jobs=5)]: Done   8 tasks      | elapsed:    0.1s\n",
            "[Parallel(n_jobs=5)]: Batch computation too fast (0.0404s.) Setting batch_size=4.\n",
            "[Parallel(n_jobs=5)]: Done  20 tasks      | elapsed:    0.1s\n"
          ],
          "name": "stderr"
        },
        {
          "output_type": "stream",
          "text": [
            "it 2/10\n",
            "Fitting 5 folds for each of 36 candidates, totalling 180 fits\n"
          ],
          "name": "stdout"
        },
        {
          "output_type": "stream",
          "text": [
            "[Parallel(n_jobs=5)]: Batch computation too fast (0.0496s.) Setting batch_size=8.\n",
            "[Parallel(n_jobs=5)]: Done  38 tasks      | elapsed:    0.2s\n",
            "[Parallel(n_jobs=5)]: Done  78 tasks      | elapsed:    0.3s\n",
            "[Parallel(n_jobs=5)]: Batch computation too fast (0.1674s.) Setting batch_size=16.\n",
            "[Parallel(n_jobs=5)]: Done 129 tasks      | elapsed:    0.5s\n",
            "[Parallel(n_jobs=5)]: Done 154 tasks      | elapsed:    0.5s\n",
            "[Parallel(n_jobs=5)]: Done 180 out of 180 | elapsed:    0.6s finished\n",
            "[Parallel(n_jobs=5)]: Using backend LokyBackend with 5 concurrent workers.\n",
            "[Parallel(n_jobs=5)]: Batch computation too fast (0.0162s.) Setting batch_size=2.\n",
            "[Parallel(n_jobs=5)]: Batch computation too fast (0.0162s.) Setting batch_size=4.\n",
            "[Parallel(n_jobs=5)]: Done   2 tasks      | elapsed:    0.0s\n",
            "[Parallel(n_jobs=5)]: Done   6 tasks      | elapsed:    0.1s\n"
          ],
          "name": "stderr"
        },
        {
          "output_type": "stream",
          "text": [
            "Fitting 5 folds for each of 108 candidates, totalling 540 fits\n"
          ],
          "name": "stdout"
        },
        {
          "output_type": "stream",
          "text": [
            "[Parallel(n_jobs=5)]: Done  14 tasks      | elapsed:    0.1s\n",
            "[Parallel(n_jobs=5)]: Batch computation too fast (0.0877s.) Setting batch_size=8.\n",
            "[Parallel(n_jobs=5)]: Done  42 tasks      | elapsed:    0.2s\n",
            "[Parallel(n_jobs=5)]: Batch computation too fast (0.1355s.) Setting batch_size=16.\n",
            "[Parallel(n_jobs=5)]: Done  90 tasks      | elapsed:    0.5s\n",
            "[Parallel(n_jobs=5)]: Done 194 tasks      | elapsed:    0.9s\n",
            "[Parallel(n_jobs=5)]: Done 338 tasks      | elapsed:    1.3s\n",
            "[Parallel(n_jobs=5)]: Done 469 tasks      | elapsed:    1.8s\n",
            "[Parallel(n_jobs=5)]: Done 540 out of 540 | elapsed:    1.9s finished\n",
            "[Parallel(n_jobs=5)]: Using backend LokyBackend with 5 concurrent workers.\n",
            "[Parallel(n_jobs=5)]: Batch computation too fast (0.0088s.) Setting batch_size=2.\n",
            "[Parallel(n_jobs=5)]: Done   3 tasks      | elapsed:    0.0s\n",
            "[Parallel(n_jobs=5)]: Done   8 tasks      | elapsed:    0.1s\n",
            "[Parallel(n_jobs=5)]: Batch computation too fast (0.0582s.) Setting batch_size=4.\n"
          ],
          "name": "stderr"
        },
        {
          "output_type": "stream",
          "text": [
            "it 3/10\n",
            "Fitting 5 folds for each of 36 candidates, totalling 180 fits\n"
          ],
          "name": "stdout"
        },
        {
          "output_type": "stream",
          "text": [
            "[Parallel(n_jobs=5)]: Done  20 tasks      | elapsed:    0.1s\n",
            "[Parallel(n_jobs=5)]: Batch computation too fast (0.0742s.) Setting batch_size=8.\n",
            "[Parallel(n_jobs=5)]: Done  38 tasks      | elapsed:    0.2s\n",
            "[Parallel(n_jobs=5)]: Done  78 tasks      | elapsed:    0.3s\n",
            "[Parallel(n_jobs=5)]: Batch computation too fast (0.1160s.) Setting batch_size=16.\n",
            "[Parallel(n_jobs=5)]: Done 136 tasks      | elapsed:    0.5s\n",
            "[Parallel(n_jobs=5)]: Done 161 tasks      | elapsed:    0.5s\n",
            "[Parallel(n_jobs=5)]: Done 180 out of 180 | elapsed:    0.6s finished\n",
            "[Parallel(n_jobs=5)]: Using backend LokyBackend with 5 concurrent workers.\n",
            "[Parallel(n_jobs=5)]: Batch computation too fast (0.0107s.) Setting batch_size=2.\n",
            "[Parallel(n_jobs=5)]: Batch computation too fast (0.0107s.) Setting batch_size=4.\n"
          ],
          "name": "stderr"
        },
        {
          "output_type": "stream",
          "text": [
            "Fitting 5 folds for each of 108 candidates, totalling 540 fits\n"
          ],
          "name": "stdout"
        },
        {
          "output_type": "stream",
          "text": [
            "[Parallel(n_jobs=5)]: Done   5 tasks      | elapsed:    0.1s\n",
            "[Parallel(n_jobs=5)]: Batch computation too fast (0.1122s.) Setting batch_size=8.\n",
            "[Parallel(n_jobs=5)]: Done  18 tasks      | elapsed:    0.2s\n",
            "[Parallel(n_jobs=5)]: Done  46 tasks      | elapsed:    0.4s\n",
            "[Parallel(n_jobs=5)]: Done  94 tasks      | elapsed:    0.5s\n",
            "[Parallel(n_jobs=5)]: Done 166 tasks      | elapsed:    0.8s\n",
            "[Parallel(n_jobs=5)]: Done 254 tasks      | elapsed:    1.1s\n",
            "[Parallel(n_jobs=5)]: Done 342 tasks      | elapsed:    1.5s\n",
            "[Parallel(n_jobs=5)]: Done 446 tasks      | elapsed:    1.8s\n",
            "[Parallel(n_jobs=5)]: Done 501 tasks      | elapsed:    2.0s\n",
            "[Parallel(n_jobs=5)]: Done 531 out of 540 | elapsed:    2.0s remaining:    0.0s\n",
            "[Parallel(n_jobs=5)]: Done 540 out of 540 | elapsed:    2.0s finished\n",
            "[Parallel(n_jobs=5)]: Using backend LokyBackend with 5 concurrent workers.\n",
            "[Parallel(n_jobs=5)]: Batch computation too fast (0.0190s.) Setting batch_size=2.\n",
            "[Parallel(n_jobs=5)]: Done   3 tasks      | elapsed:    0.0s\n",
            "[Parallel(n_jobs=5)]: Done   8 tasks      | elapsed:    0.1s\n",
            "[Parallel(n_jobs=5)]: Batch computation too fast (0.0536s.) Setting batch_size=4.\n",
            "[Parallel(n_jobs=5)]: Done  20 tasks      | elapsed:    0.1s\n"
          ],
          "name": "stderr"
        },
        {
          "output_type": "stream",
          "text": [
            "it 4/10\n",
            "Fitting 5 folds for each of 36 candidates, totalling 180 fits\n"
          ],
          "name": "stdout"
        },
        {
          "output_type": "stream",
          "text": [
            "[Parallel(n_jobs=5)]: Batch computation too fast (0.0722s.) Setting batch_size=8.\n",
            "[Parallel(n_jobs=5)]: Done  38 tasks      | elapsed:    0.2s\n",
            "[Parallel(n_jobs=5)]: Done  78 tasks      | elapsed:    0.3s\n",
            "[Parallel(n_jobs=5)]: Batch computation too fast (0.0752s.) Setting batch_size=16.\n",
            "[Parallel(n_jobs=5)]: Done 136 tasks      | elapsed:    0.5s\n",
            "[Parallel(n_jobs=5)]: Done 154 tasks      | elapsed:    0.5s\n",
            "[Parallel(n_jobs=5)]: Done 180 out of 180 | elapsed:    0.6s finished\n",
            "[Parallel(n_jobs=5)]: Using backend LokyBackend with 5 concurrent workers.\n",
            "[Parallel(n_jobs=5)]: Batch computation too fast (0.0077s.) Setting batch_size=2.\n",
            "[Parallel(n_jobs=5)]: Batch computation too fast (0.0077s.) Setting batch_size=4.\n",
            "[Parallel(n_jobs=5)]: Done   2 tasks      | elapsed:    0.0s\n",
            "[Parallel(n_jobs=5)]: Done   3 tasks      | elapsed:    0.0s\n",
            "[Parallel(n_jobs=5)]: Done   6 tasks      | elapsed:    0.1s\n",
            "[Parallel(n_jobs=5)]: Done   9 tasks      | elapsed:    0.1s\n"
          ],
          "name": "stderr"
        },
        {
          "output_type": "stream",
          "text": [
            "Fitting 5 folds for each of 108 candidates, totalling 540 fits\n"
          ],
          "name": "stdout"
        },
        {
          "output_type": "stream",
          "text": [
            "[Parallel(n_jobs=5)]: Batch computation too fast (0.0679s.) Setting batch_size=8.\n",
            "[Parallel(n_jobs=5)]: Done  34 tasks      | elapsed:    0.2s\n",
            "[Parallel(n_jobs=5)]: Batch computation too fast (0.1212s.) Setting batch_size=16.\n",
            "[Parallel(n_jobs=5)]: Done  74 tasks      | elapsed:    0.5s\n",
            "[Parallel(n_jobs=5)]: Done 162 tasks      | elapsed:    0.8s\n",
            "[Parallel(n_jobs=5)]: Done 306 tasks      | elapsed:    1.3s\n",
            "[Parallel(n_jobs=5)]: Done 467 tasks      | elapsed:    1.9s\n",
            "[Parallel(n_jobs=5)]: Done 540 out of 540 | elapsed:    2.0s finished\n",
            "[Parallel(n_jobs=5)]: Using backend LokyBackend with 5 concurrent workers.\n",
            "[Parallel(n_jobs=5)]: Batch computation too fast (0.0178s.) Setting batch_size=2.\n",
            "[Parallel(n_jobs=5)]: Batch computation too fast (0.0178s.) Setting batch_size=4.\n",
            "[Parallel(n_jobs=5)]: Done   2 tasks      | elapsed:    0.0s\n",
            "[Parallel(n_jobs=5)]: Done   6 tasks      | elapsed:    0.1s\n"
          ],
          "name": "stderr"
        },
        {
          "output_type": "stream",
          "text": [
            "it 5/10\n",
            "Fitting 5 folds for each of 36 candidates, totalling 180 fits\n"
          ],
          "name": "stdout"
        },
        {
          "output_type": "stream",
          "text": [
            "[Parallel(n_jobs=5)]: Done  14 tasks      | elapsed:    0.1s\n",
            "[Parallel(n_jobs=5)]: Batch computation too fast (0.0487s.) Setting batch_size=8.\n",
            "[Parallel(n_jobs=5)]: Done  42 tasks      | elapsed:    0.2s\n",
            "[Parallel(n_jobs=5)]: Batch computation too fast (0.1157s.) Setting batch_size=16.\n",
            "[Parallel(n_jobs=5)]: Done  90 tasks      | elapsed:    0.5s\n",
            "[Parallel(n_jobs=5)]: Done 134 tasks      | elapsed:    0.5s\n",
            "[Parallel(n_jobs=5)]: Done 143 tasks      | elapsed:    0.5s\n",
            "[Parallel(n_jobs=5)]: Done 154 tasks      | elapsed:    0.6s\n",
            "[Parallel(n_jobs=5)]: Done 165 tasks      | elapsed:    0.6s\n",
            "[Parallel(n_jobs=5)]: Done 180 out of 180 | elapsed:    0.6s finished\n",
            "[Parallel(n_jobs=5)]: Using backend LokyBackend with 5 concurrent workers.\n"
          ],
          "name": "stderr"
        },
        {
          "output_type": "stream",
          "text": [
            "Fitting 5 folds for each of 108 candidates, totalling 540 fits\n"
          ],
          "name": "stdout"
        },
        {
          "output_type": "stream",
          "text": [
            "[Parallel(n_jobs=5)]: Batch computation too fast (0.0108s.) Setting batch_size=2.\n",
            "[Parallel(n_jobs=5)]: Done   2 tasks      | elapsed:    0.0s\n",
            "[Parallel(n_jobs=5)]: Done   4 tasks      | elapsed:    0.0s\n",
            "[Parallel(n_jobs=5)]: Done   9 tasks      | elapsed:    0.1s\n",
            "[Parallel(n_jobs=5)]: Batch computation too fast (0.0568s.) Setting batch_size=4.\n",
            "[Parallel(n_jobs=5)]: Done  22 tasks      | elapsed:    0.1s\n",
            "[Parallel(n_jobs=5)]: Batch computation too fast (0.0668s.) Setting batch_size=8.\n",
            "[Parallel(n_jobs=5)]: Done  42 tasks      | elapsed:    0.3s\n",
            "[Parallel(n_jobs=5)]: Batch computation too fast (0.1176s.) Setting batch_size=16.\n",
            "[Parallel(n_jobs=5)]: Done  86 tasks      | elapsed:    0.5s\n",
            "[Parallel(n_jobs=5)]: Done 166 tasks      | elapsed:    0.9s\n",
            "[Parallel(n_jobs=5)]: Done 342 tasks      | elapsed:    1.4s\n",
            "[Parallel(n_jobs=5)]: Done 443 tasks      | elapsed:    1.8s\n",
            "[Parallel(n_jobs=5)]: Done 471 tasks      | elapsed:    1.8s\n",
            "[Parallel(n_jobs=5)]: Done 499 tasks      | elapsed:    1.9s\n",
            "[Parallel(n_jobs=5)]: Done 514 tasks      | elapsed:    2.0s\n",
            "[Parallel(n_jobs=5)]: Done 529 tasks      | elapsed:    2.0s\n",
            "[Parallel(n_jobs=5)]: Done 540 out of 540 | elapsed:    2.1s finished\n",
            "[Parallel(n_jobs=5)]: Using backend LokyBackend with 5 concurrent workers.\n",
            "[Parallel(n_jobs=5)]: Batch computation too fast (0.0108s.) Setting batch_size=2.\n",
            "[Parallel(n_jobs=5)]: Batch computation too fast (0.0108s.) Setting batch_size=4.\n",
            "[Parallel(n_jobs=5)]: Done   4 tasks      | elapsed:    0.1s\n",
            "[Parallel(n_jobs=5)]: Done  14 tasks      | elapsed:    0.1s\n",
            "[Parallel(n_jobs=5)]: Batch computation too fast (0.0703s.) Setting batch_size=8.\n"
          ],
          "name": "stderr"
        },
        {
          "output_type": "stream",
          "text": [
            "it 6/10\n",
            "Fitting 5 folds for each of 36 candidates, totalling 180 fits\n"
          ],
          "name": "stdout"
        },
        {
          "output_type": "stream",
          "text": [
            "[Parallel(n_jobs=5)]: Done  42 tasks      | elapsed:    0.2s\n",
            "[Parallel(n_jobs=5)]: Batch computation too fast (0.1949s.) Setting batch_size=16.\n",
            "[Parallel(n_jobs=5)]: Done  86 tasks      | elapsed:    0.4s\n",
            "[Parallel(n_jobs=5)]: Done 130 tasks      | elapsed:    0.5s\n",
            "[Parallel(n_jobs=5)]: Done 162 tasks      | elapsed:    0.5s\n",
            "[Parallel(n_jobs=5)]: Done 171 out of 180 | elapsed:    0.6s remaining:    0.0s\n",
            "[Parallel(n_jobs=5)]: Done 180 out of 180 | elapsed:    0.6s finished\n",
            "[Parallel(n_jobs=5)]: Using backend LokyBackend with 5 concurrent workers.\n",
            "[Parallel(n_jobs=5)]: Done   1 tasks      | elapsed:    0.0s\n",
            "[Parallel(n_jobs=5)]: Batch computation too fast (0.0159s.) Setting batch_size=2.\n",
            "[Parallel(n_jobs=5)]: Batch computation too fast (0.0159s.) Setting batch_size=4.\n",
            "[Parallel(n_jobs=5)]: Done   4 tasks      | elapsed:    0.1s\n",
            "[Parallel(n_jobs=5)]: Done   9 tasks      | elapsed:    0.1s\n"
          ],
          "name": "stderr"
        },
        {
          "output_type": "stream",
          "text": [
            "Fitting 5 folds for each of 108 candidates, totalling 540 fits\n"
          ],
          "name": "stdout"
        },
        {
          "output_type": "stream",
          "text": [
            "[Parallel(n_jobs=5)]: Batch computation too fast (0.0810s.) Setting batch_size=8.\n",
            "[Parallel(n_jobs=5)]: Done  34 tasks      | elapsed:    0.2s\n",
            "[Parallel(n_jobs=5)]: Batch computation too fast (0.1141s.) Setting batch_size=16.\n",
            "[Parallel(n_jobs=5)]: Done  74 tasks      | elapsed:    0.5s\n",
            "[Parallel(n_jobs=5)]: Done 162 tasks      | elapsed:    0.8s\n",
            "[Parallel(n_jobs=5)]: Done 306 tasks      | elapsed:    1.3s\n",
            "[Parallel(n_jobs=5)]: Done 467 tasks      | elapsed:    1.8s\n",
            "[Parallel(n_jobs=5)]: Done 540 out of 540 | elapsed:    1.9s finished\n",
            "[Parallel(n_jobs=5)]: Using backend LokyBackend with 5 concurrent workers.\n",
            "[Parallel(n_jobs=5)]: Batch computation too fast (0.0148s.) Setting batch_size=2.\n",
            "[Parallel(n_jobs=5)]: Done   3 tasks      | elapsed:    0.0s\n",
            "[Parallel(n_jobs=5)]: Done   8 tasks      | elapsed:    0.1s\n"
          ],
          "name": "stderr"
        },
        {
          "output_type": "stream",
          "text": [
            "it 7/10\n",
            "Fitting 5 folds for each of 36 candidates, totalling 180 fits\n"
          ],
          "name": "stdout"
        },
        {
          "output_type": "stream",
          "text": [
            "[Parallel(n_jobs=5)]: Batch computation too fast (0.0579s.) Setting batch_size=4.\n",
            "[Parallel(n_jobs=5)]: Done  20 tasks      | elapsed:    0.1s\n",
            "[Parallel(n_jobs=5)]: Batch computation too fast (0.1106s.) Setting batch_size=8.\n",
            "[Parallel(n_jobs=5)]: Done  38 tasks      | elapsed:    0.2s\n",
            "[Parallel(n_jobs=5)]: Done  78 tasks      | elapsed:    0.3s\n",
            "[Parallel(n_jobs=5)]: Batch computation too fast (0.1046s.) Setting batch_size=16.\n",
            "[Parallel(n_jobs=5)]: Done 129 tasks      | elapsed:    0.5s\n",
            "[Parallel(n_jobs=5)]: Done 154 tasks      | elapsed:    0.5s\n",
            "[Parallel(n_jobs=5)]: Done 180 out of 180 | elapsed:    0.6s finished\n",
            "[Parallel(n_jobs=5)]: Using backend LokyBackend with 5 concurrent workers.\n",
            "[Parallel(n_jobs=5)]: Batch computation too fast (0.0091s.) Setting batch_size=2.\n",
            "[Parallel(n_jobs=5)]: Done   3 tasks      | elapsed:    0.0s\n",
            "[Parallel(n_jobs=5)]: Done   8 tasks      | elapsed:    0.1s\n",
            "[Parallel(n_jobs=5)]: Batch computation too fast (0.0681s.) Setting batch_size=4.\n"
          ],
          "name": "stderr"
        },
        {
          "output_type": "stream",
          "text": [
            "Fitting 5 folds for each of 108 candidates, totalling 540 fits\n"
          ],
          "name": "stdout"
        },
        {
          "output_type": "stream",
          "text": [
            "[Parallel(n_jobs=5)]: Done  20 tasks      | elapsed:    0.1s\n",
            "[Parallel(n_jobs=5)]: Batch computation too fast (0.0785s.) Setting batch_size=8.\n",
            "[Parallel(n_jobs=5)]: Done  38 tasks      | elapsed:    0.2s\n",
            "[Parallel(n_jobs=5)]: Done  78 tasks      | elapsed:    0.4s\n",
            "[Parallel(n_jobs=5)]: Done 150 tasks      | elapsed:    0.7s\n",
            "[Parallel(n_jobs=5)]: Done 238 tasks      | elapsed:    1.0s\n",
            "[Parallel(n_jobs=5)]: Done 326 tasks      | elapsed:    1.4s\n",
            "[Parallel(n_jobs=5)]: Done 430 tasks      | elapsed:    1.7s\n",
            "[Parallel(n_jobs=5)]: Done 506 tasks      | elapsed:    1.9s\n",
            "[Parallel(n_jobs=5)]: Done 528 tasks      | elapsed:    1.9s\n",
            "[Parallel(n_jobs=5)]: Done 540 out of 540 | elapsed:    2.0s finished\n",
            "[Parallel(n_jobs=5)]: Using backend LokyBackend with 5 concurrent workers.\n",
            "[Parallel(n_jobs=5)]: Batch computation too fast (0.0129s.) Setting batch_size=2.\n",
            "[Parallel(n_jobs=5)]: Done   3 tasks      | elapsed:    0.0s\n",
            "[Parallel(n_jobs=5)]: Done   8 tasks      | elapsed:    0.1s\n",
            "[Parallel(n_jobs=5)]: Batch computation too fast (0.0406s.) Setting batch_size=4.\n",
            "[Parallel(n_jobs=5)]: Done  20 tasks      | elapsed:    0.1s\n"
          ],
          "name": "stderr"
        },
        {
          "output_type": "stream",
          "text": [
            "it 8/10\n",
            "Fitting 5 folds for each of 36 candidates, totalling 180 fits\n"
          ],
          "name": "stdout"
        },
        {
          "output_type": "stream",
          "text": [
            "[Parallel(n_jobs=5)]: Batch computation too fast (0.0894s.) Setting batch_size=8.\n",
            "[Parallel(n_jobs=5)]: Done  38 tasks      | elapsed:    0.2s\n",
            "[Parallel(n_jobs=5)]: Done  78 tasks      | elapsed:    0.3s\n",
            "[Parallel(n_jobs=5)]: Batch computation too fast (0.1018s.) Setting batch_size=16.\n",
            "[Parallel(n_jobs=5)]: Done 129 tasks      | elapsed:    0.5s\n",
            "[Parallel(n_jobs=5)]: Done 154 tasks      | elapsed:    0.5s\n",
            "[Parallel(n_jobs=5)]: Done 180 out of 180 | elapsed:    0.6s finished\n",
            "[Parallel(n_jobs=5)]: Using backend LokyBackend with 5 concurrent workers.\n",
            "[Parallel(n_jobs=5)]: Batch computation too fast (0.0162s.) Setting batch_size=2.\n",
            "[Parallel(n_jobs=5)]: Batch computation too fast (0.0162s.) Setting batch_size=4.\n",
            "[Parallel(n_jobs=5)]: Done   2 tasks      | elapsed:    0.0s\n",
            "[Parallel(n_jobs=5)]: Done   6 tasks      | elapsed:    0.1s\n"
          ],
          "name": "stderr"
        },
        {
          "output_type": "stream",
          "text": [
            "Fitting 5 folds for each of 108 candidates, totalling 540 fits\n"
          ],
          "name": "stdout"
        },
        {
          "output_type": "stream",
          "text": [
            "[Parallel(n_jobs=5)]: Done  14 tasks      | elapsed:    0.1s\n",
            "[Parallel(n_jobs=5)]: Batch computation too fast (0.0885s.) Setting batch_size=8.\n",
            "[Parallel(n_jobs=5)]: Done  42 tasks      | elapsed:    0.2s\n",
            "[Parallel(n_jobs=5)]: Batch computation too fast (0.1110s.) Setting batch_size=16.\n",
            "[Parallel(n_jobs=5)]: Done  90 tasks      | elapsed:    0.5s\n",
            "[Parallel(n_jobs=5)]: Done 194 tasks      | elapsed:    0.9s\n",
            "[Parallel(n_jobs=5)]: Done 338 tasks      | elapsed:    1.3s\n",
            "[Parallel(n_jobs=5)]: Done 484 tasks      | elapsed:    1.8s\n",
            "[Parallel(n_jobs=5)]: Done 540 out of 540 | elapsed:    1.9s finished\n",
            "[Parallel(n_jobs=5)]: Using backend LokyBackend with 5 concurrent workers.\n",
            "[Parallel(n_jobs=5)]: Batch computation too fast (0.0070s.) Setting batch_size=2.\n",
            "[Parallel(n_jobs=5)]: Batch computation too fast (0.0070s.) Setting batch_size=4.\n",
            "[Parallel(n_jobs=5)]: Done   5 tasks      | elapsed:    0.0s\n",
            "[Parallel(n_jobs=5)]: Done  10 tasks      | elapsed:    0.1s\n",
            "[Parallel(n_jobs=5)]: Batch computation too fast (0.0542s.) Setting batch_size=8.\n"
          ],
          "name": "stderr"
        },
        {
          "output_type": "stream",
          "text": [
            "it 9/10\n",
            "Fitting 5 folds for each of 36 candidates, totalling 180 fits\n"
          ],
          "name": "stdout"
        },
        {
          "output_type": "stream",
          "text": [
            "[Parallel(n_jobs=5)]: Done  38 tasks      | elapsed:    0.2s\n",
            "[Parallel(n_jobs=5)]: Batch computation too fast (0.1915s.) Setting batch_size=16.\n",
            "[Parallel(n_jobs=5)]: Done  82 tasks      | elapsed:    0.4s\n",
            "[Parallel(n_jobs=5)]: Done 126 tasks      | elapsed:    0.5s\n",
            "[Parallel(n_jobs=5)]: Done 142 tasks      | elapsed:    0.6s\n",
            "[Parallel(n_jobs=5)]: Done 153 tasks      | elapsed:    0.6s\n",
            "[Parallel(n_jobs=5)]: Done 164 tasks      | elapsed:    0.6s\n",
            "[Parallel(n_jobs=5)]: Done 180 out of 180 | elapsed:    0.7s finished\n",
            "[Parallel(n_jobs=5)]: Using backend LokyBackend with 5 concurrent workers.\n",
            "[Parallel(n_jobs=5)]: Batch computation too fast (0.0109s.) Setting batch_size=2.\n",
            "[Parallel(n_jobs=5)]: Done   3 tasks      | elapsed:    0.0s\n",
            "[Parallel(n_jobs=5)]: Done   8 tasks      | elapsed:    0.1s\n",
            "[Parallel(n_jobs=5)]: Batch computation too fast (0.0745s.) Setting batch_size=4.\n",
            "[Parallel(n_jobs=5)]: Done  20 tasks      | elapsed:    0.1s\n"
          ],
          "name": "stderr"
        },
        {
          "output_type": "stream",
          "text": [
            "Fitting 5 folds for each of 108 candidates, totalling 540 fits\n"
          ],
          "name": "stdout"
        },
        {
          "output_type": "stream",
          "text": [
            "[Parallel(n_jobs=5)]: Batch computation too fast (0.0668s.) Setting batch_size=8.\n",
            "[Parallel(n_jobs=5)]: Done  38 tasks      | elapsed:    0.2s\n",
            "[Parallel(n_jobs=5)]: Done  78 tasks      | elapsed:    0.4s\n",
            "[Parallel(n_jobs=5)]: Batch computation too fast (0.1485s.) Setting batch_size=16.\n",
            "[Parallel(n_jobs=5)]: Done 150 tasks      | elapsed:    0.7s\n",
            "[Parallel(n_jobs=5)]: Done 326 tasks      | elapsed:    1.3s\n",
            "[Parallel(n_jobs=5)]: Done 427 tasks      | elapsed:    1.7s\n",
            "[Parallel(n_jobs=5)]: Done 455 tasks      | elapsed:    1.8s\n",
            "[Parallel(n_jobs=5)]: Done 498 tasks      | elapsed:    1.8s\n",
            "[Parallel(n_jobs=5)]: Done 513 tasks      | elapsed:    1.9s\n",
            "[Parallel(n_jobs=5)]: Done 528 tasks      | elapsed:    1.9s\n",
            "[Parallel(n_jobs=5)]: Done 540 out of 540 | elapsed:    2.0s finished\n",
            "[Parallel(n_jobs=5)]: Using backend LokyBackend with 5 concurrent workers.\n",
            "[Parallel(n_jobs=5)]: Batch computation too fast (0.0097s.) Setting batch_size=2.\n",
            "[Parallel(n_jobs=5)]: Done   3 tasks      | elapsed:    0.0s\n",
            "[Parallel(n_jobs=5)]: Done   8 tasks      | elapsed:    0.1s\n",
            "[Parallel(n_jobs=5)]: Batch computation too fast (0.0623s.) Setting batch_size=4.\n"
          ],
          "name": "stderr"
        },
        {
          "output_type": "stream",
          "text": [
            "it 10/10\n",
            "Fitting 5 folds for each of 36 candidates, totalling 180 fits\n"
          ],
          "name": "stdout"
        },
        {
          "output_type": "stream",
          "text": [
            "[Parallel(n_jobs=5)]: Done  20 tasks      | elapsed:    0.1s\n",
            "[Parallel(n_jobs=5)]: Batch computation too fast (0.0728s.) Setting batch_size=8.\n",
            "[Parallel(n_jobs=5)]: Done  38 tasks      | elapsed:    0.3s\n",
            "[Parallel(n_jobs=5)]: Done  78 tasks      | elapsed:    0.3s\n",
            "[Parallel(n_jobs=5)]: Batch computation too fast (0.0692s.) Setting batch_size=16.\n",
            "[Parallel(n_jobs=5)]: Done 129 tasks      | elapsed:    0.5s\n",
            "[Parallel(n_jobs=5)]: Done 161 tasks      | elapsed:    0.5s\n",
            "[Parallel(n_jobs=5)]: Done 180 out of 180 | elapsed:    0.6s finished\n",
            "[Parallel(n_jobs=5)]: Using backend LokyBackend with 5 concurrent workers.\n",
            "[Parallel(n_jobs=5)]: Batch computation too fast (0.0079s.) Setting batch_size=2.\n",
            "[Parallel(n_jobs=5)]: Batch computation too fast (0.0079s.) Setting batch_size=4.\n"
          ],
          "name": "stderr"
        },
        {
          "output_type": "stream",
          "text": [
            "Fitting 5 folds for each of 108 candidates, totalling 540 fits\n"
          ],
          "name": "stdout"
        },
        {
          "output_type": "stream",
          "text": [
            "[Parallel(n_jobs=5)]: Done   9 tasks      | elapsed:    0.1s\n",
            "[Parallel(n_jobs=5)]: Batch computation too fast (0.0538s.) Setting batch_size=8.\n",
            "[Parallel(n_jobs=5)]: Done  28 tasks      | elapsed:    0.2s\n",
            "[Parallel(n_jobs=5)]: Done  50 tasks      | elapsed:    0.4s\n",
            "[Parallel(n_jobs=5)]: Done 122 tasks      | elapsed:    0.6s\n",
            "[Parallel(n_jobs=5)]: Done 194 tasks      | elapsed:    0.8s\n",
            "[Parallel(n_jobs=5)]: Done 282 tasks      | elapsed:    1.1s\n",
            "[Parallel(n_jobs=5)]: Done 370 tasks      | elapsed:    1.6s\n",
            "[Parallel(n_jobs=5)]: Done 474 tasks      | elapsed:    1.8s\n",
            "[Parallel(n_jobs=5)]: Done 540 out of 540 | elapsed:    1.9s finished\n"
          ],
          "name": "stderr"
        }
      ]
    },
    {
      "cell_type": "code",
      "metadata": {
        "id": "v_u_KAmvHmLd",
        "colab_type": "code",
        "outputId": "09c1d9d4-45a2-4d2f-823a-9c0389076f11",
        "colab": {
          "base_uri": "https://localhost:8080/",
          "height": 265
        }
      },
      "source": [
        "plt.boxplot(MAE_KR)\n",
        "plt.xticks(ticks=np.arange(len(steps))+1,labels=label_model_KR)\n",
        "plt.show()"
      ],
      "execution_count": 191,
      "outputs": [
        {
          "output_type": "display_data",
          "data": {
            "image/png": "[encoded data removed]",
            "text/plain": [
              "<Figure size 432x288 with 1 Axes>"
            ]
          },
          "metadata": {
            "tags": [],
            "needs_background": "light"
          }
        }
      ]
    },
    {
      "cell_type": "code",
      "metadata": {
        "id": "OKQ09AkWbMF8",
        "colab_type": "code",
        "outputId": "21945ca7-2d54-4d44-a3e4-2c1f7d61a724",
        "colab": {
          "base_uri": "https://localhost:8080/",
          "height": 51
        }
      },
      "source": [
        "val = 100*100\n",
        "cont = -1\n",
        "for i in range(MAE_KR.shape[0]):\n",
        "  for j in range(MAE_KR.shape[1]):\n",
        "    cont +=1    \n",
        "    if (val > MAE_KR[i,j]):\n",
        "      val = MAE_KR[i,j]\n",
        "      pos = cont\n",
        "\n",
        "print(pos)\n",
        "print(val)"
      ],
      "execution_count": 192,
      "outputs": [
        {
          "output_type": "stream",
          "text": [
            "5\n",
            "2649.2068868199112\n"
          ],
          "name": "stdout"
        }
      ]
    },
    {
      "cell_type": "code",
      "metadata": {
        "id": "sG2Gurk9xoJI",
        "colab_type": "code",
        "outputId": "10e622e1-b0bd-49fb-8d6d-93dc8dd6f58c",
        "colab": {
          "base_uri": "https://localhost:8080/",
          "height": 187
        }
      },
      "source": [
        "MAE_KR"
      ],
      "execution_count": 193,
      "outputs": [
        {
          "output_type": "execute_result",
          "data": {
            "text/plain": [
              "array([[11405.19662578, 17570.65985044],\n",
              "       [ 3246.55627959,  3630.31798338],\n",
              "       [ 4552.52286422,  2649.20688682],\n",
              "       [ 3438.51792021,  4364.58176588],\n",
              "       [ 6188.40410038,  9006.52756168],\n",
              "       [ 4304.92677545,  3074.31943681],\n",
              "       [ 6029.64499088,  5586.20300431],\n",
              "       [ 4336.38725977,  5648.11422849],\n",
              "       [ 4624.44717017,  5880.58250558],\n",
              "       [ 5500.08161308,  4348.35200995]])"
            ]
          },
          "metadata": {
            "tags": []
          },
          "execution_count": 193
        }
      ]
    },
    {
      "cell_type": "code",
      "metadata": {
        "id": "OWcd2fFSHmLg",
        "colab_type": "code",
        "outputId": "6be7af1d-f367-40ea-ccaf-1c3557dd601a",
        "colab": {
          "base_uri": "https://localhost:8080/",
          "height": 204
        }
      },
      "source": [
        "B_Model_KR[pos]"
      ],
      "execution_count": 194,
      "outputs": [
        {
          "output_type": "execute_result",
          "data": {
            "text/plain": [
              "Pipeline(memory=None,\n",
              "         steps=[('scaler',\n",
              "                 StandardScaler(copy=True, with_mean=True, with_std=True)),\n",
              "                ('rep',\n",
              "                 PCA(copy=True, iterated_power='auto', n_components=0.5,\n",
              "                     random_state=None, svd_solver='auto', tol=0.0,\n",
              "                     whiten=False)),\n",
              "                ('reg',\n",
              "                 KernelRidge(alpha=0.001, coef0=1, degree=3, gamma=0.1,\n",
              "                             kernel='rbf', kernel_params=None))],\n",
              "         verbose=False)"
            ]
          },
          "metadata": {
            "tags": []
          },
          "execution_count": 194
        }
      ]
    },
    {
      "cell_type": "code",
      "metadata": {
        "id": "wYi_U8IMHmLk",
        "colab_type": "code",
        "outputId": "57953064-ede3-4d3d-ad03-ac4c2954c28b",
        "colab": {
          "base_uri": "https://localhost:8080/",
          "height": 374
        }
      },
      "source": [
        "print(B_Hiperpara_KR[pos])\n",
        "B_Hiperpara_KR"
      ],
      "execution_count": 195,
      "outputs": [
        {
          "output_type": "stream",
          "text": [
            "{'reg__alpha': 0.001, 'reg__gamma': 0.1, 'rep__n_components': 0.5}\n"
          ],
          "name": "stdout"
        },
        {
          "output_type": "execute_result",
          "data": {
            "text/plain": [
              "[{'reg__alpha': 0.001, 'reg__gamma': 0.1},\n",
              " {'reg__alpha': 0.001, 'reg__gamma': 0.1, 'rep__n_components': 0.5},\n",
              " {'reg__alpha': 0.001, 'reg__gamma': 0.1},\n",
              " {'reg__alpha': 0.001, 'reg__gamma': 0.1, 'rep__n_components': 0.5},\n",
              " {'reg__alpha': 0.001, 'reg__gamma': 0.1},\n",
              " {'reg__alpha': 0.001, 'reg__gamma': 0.1, 'rep__n_components': 0.5},\n",
              " {'reg__alpha': 0.001, 'reg__gamma': 0.1},\n",
              " {'reg__alpha': 0.001, 'reg__gamma': 0.1, 'rep__n_components': 0.5},\n",
              " {'reg__alpha': 0.001, 'reg__gamma': 0.1},\n",
              " {'reg__alpha': 0.001, 'reg__gamma': 0.1, 'rep__n_components': 0.5},\n",
              " {'reg__alpha': 0.001, 'reg__gamma': 0.01},\n",
              " {'reg__alpha': 0.001, 'reg__gamma': 0.1, 'rep__n_components': 0.5},\n",
              " {'reg__alpha': 0.001, 'reg__gamma': 0.1},\n",
              " {'reg__alpha': 0.001, 'reg__gamma': 0.1, 'rep__n_components': 0.5},\n",
              " {'reg__alpha': 0.001, 'reg__gamma': 0.1},\n",
              " {'reg__alpha': 0.001, 'reg__gamma': 0.1, 'rep__n_components': 0.5},\n",
              " {'reg__alpha': 0.001, 'reg__gamma': 0.1},\n",
              " {'reg__alpha': 0.001, 'reg__gamma': 0.1, 'rep__n_components': 0.5},\n",
              " {'reg__alpha': 0.001, 'reg__gamma': 0.1},\n",
              " {'reg__alpha': 0.001, 'reg__gamma': 0.1, 'rep__n_components': 0.5}]"
            ]
          },
          "metadata": {
            "tags": []
          },
          "execution_count": 195
        }
      ]
    },
    {
      "cell_type": "code",
      "metadata": {
        "id": "lvxY5k99HmLo",
        "colab_type": "code",
        "outputId": "3319cd33-395e-46d6-b0ba-abc3ef8aaf76",
        "colab": {
          "base_uri": "https://localhost:8080/",
          "height": 204
        }
      },
      "source": [
        "steps =  [('scaler', StandardScaler()),\n",
        "          ('rep', PCA(n_components=0.5)),                         \n",
        "          ('reg', KernelRidge(alpha=0.001, kernel='rbf', gamma=0.01))]\n",
        "\n",
        "Mod_SC_PCA_KRrbf = Pipeline(steps = steps)\n",
        "Mod_SC_PCA_KRrbf.fit(X_train,y_train)"
      ],
      "execution_count": 199,
      "outputs": [
        {
          "output_type": "execute_result",
          "data": {
            "text/plain": [
              "Pipeline(memory=None,\n",
              "         steps=[('scaler',\n",
              "                 StandardScaler(copy=True, with_mean=True, with_std=True)),\n",
              "                ('rep',\n",
              "                 PCA(copy=True, iterated_power='auto', n_components=0.5,\n",
              "                     random_state=None, svd_solver='auto', tol=0.0,\n",
              "                     whiten=False)),\n",
              "                ('reg',\n",
              "                 KernelRidge(alpha=0.001, coef0=1, degree=3, gamma=0.01,\n",
              "                             kernel='rbf', kernel_params=None))],\n",
              "         verbose=False)"
            ]
          },
          "metadata": {
            "tags": []
          },
          "execution_count": 199
        }
      ]
    },
    {
      "cell_type": "code",
      "metadata": {
        "id": "xJefOKVHNn7Y",
        "colab_type": "code",
        "outputId": "e6fd8288-0f8b-4500-cba4-e6c86830d95a",
        "colab": {
          "base_uri": "https://localhost:8080/",
          "height": 51
        }
      },
      "source": [
        "Xn = prueba1\n",
        "\n",
        "Xn = Xn.reshape(1,-1)\n",
        "Pre_SC_PCA_KRrbf = Mod_SC_PCA_KRrbf.predict(Xn)\n",
        "\n",
        "print('Número de contagiados en los últimos 5 días:',Xn)\n",
        "print('Predicción contagios para',date.today(),'usando un modelo KernelRidge_rbf:',Pre_SC_PCA_KRrbf)"
      ],
      "execution_count": 200,
      "outputs": [
        {
          "output_type": "stream",
          "text": [
            "Número de contagiados en los últimos 5 días: [[6507 7006 7285 7668 7973]]\n",
            "Predicción contagios para 2020-05-06 usando un modelo KernelRidge_rbf: [[8997.46901051]]\n"
          ],
          "name": "stdout"
        }
      ]
    },
    {
      "cell_type": "code",
      "metadata": {
        "id": "95NSeJhfNoLA",
        "colab_type": "code",
        "outputId": "07b301ca-b1f3-499a-ef2f-5ae3a51a5c9b",
        "colab": {
          "base_uri": "https://localhost:8080/",
          "height": 119
        }
      },
      "source": [
        "print('Número de contagiados en los últimos 5 días:',Xn)\n",
        "print('Predicción contagios para',date.today(),'usando un modelo LinearRegression:',Pre_SC_LR)\n",
        "print('Predicción contagios para',date.today(),'usando un modelo LinearRidge:',Pre_SC_R)\n",
        "print('Predicción contagios para',date.today(),'usando un modelo LinearLasso:',Pre_SC_L)\n",
        "print('Predicción contagios para',date.today(),'usando un modelo LinearElasticNet:',Pre_SC_EN)\n",
        "print('Predicción contagios para',date.today(),'usando un modelo KernelRidge_rbf:',Pre_SC_PCA_KRrbf)"
      ],
      "execution_count": 201,
      "outputs": [
        {
          "output_type": "stream",
          "text": [
            "Número de contagiados en los últimos 5 días: [[6507 7006 7285 7668 7973]]\n",
            "Predicción contagios para 2020-05-06 usando un modelo LinearRegression: [[8772.70897312]]\n",
            "Predicción contagios para 2020-05-06 usando un modelo LinearRidge: [[8782.47808003]]\n",
            "Predicción contagios para 2020-05-06 usando un modelo LinearLasso: [[8895.84508578]]\n",
            "Predicción contagios para 2020-05-06 usando un modelo LinearElasticNet: [8959.33373139]\n",
            "Predicción contagios para 2020-05-06 usando un modelo KernelRidge_rbf: [[8997.46901051]]\n"
          ],
          "name": "stdout"
        }
      ]
    }
  ]
}