{
  "nbformat": 4,
  "nbformat_minor": 0,
  "metadata": {
    "kernelspec": {
      "display_name": "Python 3",
      "language": "python",
      "name": "python3"
    },
    "language_info": {
      "codemirror_mode": {
        "name": "ipython",
        "version": 3
      },
      "file_extension": ".py",
      "mimetype": "text/x-python",
      "name": "python",
      "nbconvert_exporter": "python",
      "pygments_lexer": "ipython3",
      "version": "3.7.3"
    },
    "colab": {
      "name": "Covid_Paises.ipynb",
      "provenance": [],
      "collapsed_sections": [],
      "toc_visible": true,
      "include_colab_link": true
    }
  },
  "cells": [
    {
      "cell_type": "markdown",
      "metadata": {
        "id": "view-in-github",
        "colab_type": "text"
      },
      "source": [
        "<a href=\"https://colab.research.google.com/github/sefrancogo/Analitica-de-Datos/blob/master/Covid_Paises.ipynb\" target=\"_parent\"><img src=\"https://colab.research.google.com/assets/colab-badge.svg\" alt=\"Open In Colab\"/></a>"
      ]
    },
    {
      "cell_type": "markdown",
      "metadata": {
        "id": "751Gp4ujNLQL",
        "colab_type": "text"
      },
      "source": [
        "# Prediccion de Contagios por Covid-19\n",
        "\n"
      ]
    },
    {
      "cell_type": "markdown",
      "metadata": {
        "id": "JqqhRaeQN5IF",
        "colab_type": "text"
      },
      "source": [
        "### Cargar Base de Datos\n"
      ]
    },
    {
      "cell_type": "code",
      "metadata": {
        "id": "h0aZCJ49NFwc",
        "colab_type": "code",
        "colab": {
          "base_uri": "https://localhost:8080/",
          "height": 490
        },
        "outputId": "8f947159-9ffd-4b82-f1f9-32fdfdfe4c01"
      },
      "source": [
        "!pip install wget \n",
        "import pandas as pd\n",
        "import numpy as np \n",
        "import wget \n",
        "import matplotlib.pyplot as plt\n",
        "%matplotlib inline\n",
        "\n",
        "url = \"https://data.humdata.org/hxlproxy/api/data-preview.csv?url=https%3A%2F%2Fraw.githubusercontent.com%2FCSSEGISandData%2FCOVID-19%2Fmaster%2Fcsse_covid_19_data%2Fcsse_covid_19_time_series%2Ftime_series_covid19_confirmed_global.csv&filename=time_series_covid19_confirmed_global.csv\"\n",
        "#path = 'data/Casos_positivos_de_COVID-19_en_Colombia04_15_2020.csv'\n",
        "\n",
        "wget.download(url, 'datos_covid_paises.cvs')\n",
        "data = pd.read_csv('datos_covid_paises.cvs')\n",
        "data"
      ],
      "execution_count": 86,
      "outputs": [
        {
          "output_type": "stream",
          "text": [
            "Requirement already satisfied: wget in /usr/local/lib/python3.6/dist-packages (3.2)\n"
          ],
          "name": "stdout"
        },
        {
          "output_type": "execute_result",
          "data": {
            "text/html": [
              "<div>\n",
              "<style scoped>\n",
              "    .dataframe tbody tr th:only-of-type {\n",
              "        vertical-align: middle;\n",
              "    }\n",
              "\n",
              "    .dataframe tbody tr th {\n",
              "        vertical-align: top;\n",
              "    }\n",
              "\n",
              "    .dataframe thead th {\n",
              "        text-align: right;\n",
              "    }\n",
              "</style>\n",
              "<table border=\"1\" class=\"dataframe\">\n",
              "  <thead>\n",
              "    <tr style=\"text-align: right;\">\n",
              "      <th></th>\n",
              "      <th>Province/State</th>\n",
              "      <th>Country/Region</th>\n",
              "      <th>Lat</th>\n",
              "      <th>Long</th>\n",
              "      <th>1/22/20</th>\n",
              "      <th>1/23/20</th>\n",
              "      <th>1/24/20</th>\n",
              "      <th>1/25/20</th>\n",
              "      <th>1/26/20</th>\n",
              "      <th>1/27/20</th>\n",
              "      <th>1/28/20</th>\n",
              "      <th>1/29/20</th>\n",
              "      <th>1/30/20</th>\n",
              "      <th>1/31/20</th>\n",
              "      <th>2/1/20</th>\n",
              "      <th>2/2/20</th>\n",
              "      <th>2/3/20</th>\n",
              "      <th>2/4/20</th>\n",
              "      <th>2/5/20</th>\n",
              "      <th>2/6/20</th>\n",
              "      <th>2/7/20</th>\n",
              "      <th>2/8/20</th>\n",
              "      <th>2/9/20</th>\n",
              "      <th>2/10/20</th>\n",
              "      <th>2/11/20</th>\n",
              "      <th>2/12/20</th>\n",
              "      <th>2/13/20</th>\n",
              "      <th>2/14/20</th>\n",
              "      <th>2/15/20</th>\n",
              "      <th>2/16/20</th>\n",
              "      <th>2/17/20</th>\n",
              "      <th>2/18/20</th>\n",
              "      <th>2/19/20</th>\n",
              "      <th>2/20/20</th>\n",
              "      <th>2/21/20</th>\n",
              "      <th>2/22/20</th>\n",
              "      <th>2/23/20</th>\n",
              "      <th>2/24/20</th>\n",
              "      <th>2/25/20</th>\n",
              "      <th>2/26/20</th>\n",
              "      <th>...</th>\n",
              "      <th>3/21/20</th>\n",
              "      <th>3/22/20</th>\n",
              "      <th>3/23/20</th>\n",
              "      <th>3/24/20</th>\n",
              "      <th>3/25/20</th>\n",
              "      <th>3/26/20</th>\n",
              "      <th>3/27/20</th>\n",
              "      <th>3/28/20</th>\n",
              "      <th>3/29/20</th>\n",
              "      <th>3/30/20</th>\n",
              "      <th>3/31/20</th>\n",
              "      <th>4/1/20</th>\n",
              "      <th>4/2/20</th>\n",
              "      <th>4/3/20</th>\n",
              "      <th>4/4/20</th>\n",
              "      <th>4/5/20</th>\n",
              "      <th>4/6/20</th>\n",
              "      <th>4/7/20</th>\n",
              "      <th>4/8/20</th>\n",
              "      <th>4/9/20</th>\n",
              "      <th>4/10/20</th>\n",
              "      <th>4/11/20</th>\n",
              "      <th>4/12/20</th>\n",
              "      <th>4/13/20</th>\n",
              "      <th>4/14/20</th>\n",
              "      <th>4/15/20</th>\n",
              "      <th>4/16/20</th>\n",
              "      <th>4/17/20</th>\n",
              "      <th>4/18/20</th>\n",
              "      <th>4/19/20</th>\n",
              "      <th>4/20/20</th>\n",
              "      <th>4/21/20</th>\n",
              "      <th>4/22/20</th>\n",
              "      <th>4/23/20</th>\n",
              "      <th>4/24/20</th>\n",
              "      <th>4/25/20</th>\n",
              "      <th>4/26/20</th>\n",
              "      <th>4/27/20</th>\n",
              "      <th>4/28/20</th>\n",
              "      <th>4/29/20</th>\n",
              "    </tr>\n",
              "  </thead>\n",
              "  <tbody>\n",
              "    <tr>\n",
              "      <th>0</th>\n",
              "      <td>NaN</td>\n",
              "      <td>Afghanistan</td>\n",
              "      <td>33.000000</td>\n",
              "      <td>65.000000</td>\n",
              "      <td>0</td>\n",
              "      <td>0</td>\n",
              "      <td>0</td>\n",
              "      <td>0</td>\n",
              "      <td>0</td>\n",
              "      <td>0</td>\n",
              "      <td>0</td>\n",
              "      <td>0</td>\n",
              "      <td>0</td>\n",
              "      <td>0</td>\n",
              "      <td>0</td>\n",
              "      <td>0</td>\n",
              "      <td>0</td>\n",
              "      <td>0</td>\n",
              "      <td>0</td>\n",
              "      <td>0</td>\n",
              "      <td>0</td>\n",
              "      <td>0</td>\n",
              "      <td>0</td>\n",
              "      <td>0</td>\n",
              "      <td>0</td>\n",
              "      <td>0</td>\n",
              "      <td>0</td>\n",
              "      <td>0</td>\n",
              "      <td>0</td>\n",
              "      <td>0</td>\n",
              "      <td>0</td>\n",
              "      <td>0</td>\n",
              "      <td>0</td>\n",
              "      <td>0</td>\n",
              "      <td>0</td>\n",
              "      <td>0</td>\n",
              "      <td>0</td>\n",
              "      <td>1</td>\n",
              "      <td>1</td>\n",
              "      <td>1</td>\n",
              "      <td>...</td>\n",
              "      <td>24</td>\n",
              "      <td>40</td>\n",
              "      <td>40</td>\n",
              "      <td>74</td>\n",
              "      <td>84</td>\n",
              "      <td>94</td>\n",
              "      <td>110</td>\n",
              "      <td>110</td>\n",
              "      <td>120</td>\n",
              "      <td>170</td>\n",
              "      <td>174</td>\n",
              "      <td>237</td>\n",
              "      <td>273</td>\n",
              "      <td>281</td>\n",
              "      <td>299</td>\n",
              "      <td>349</td>\n",
              "      <td>367</td>\n",
              "      <td>423</td>\n",
              "      <td>444</td>\n",
              "      <td>484</td>\n",
              "      <td>521</td>\n",
              "      <td>555</td>\n",
              "      <td>607</td>\n",
              "      <td>665</td>\n",
              "      <td>714</td>\n",
              "      <td>784</td>\n",
              "      <td>840</td>\n",
              "      <td>906</td>\n",
              "      <td>933</td>\n",
              "      <td>996</td>\n",
              "      <td>1026</td>\n",
              "      <td>1092</td>\n",
              "      <td>1176</td>\n",
              "      <td>1279</td>\n",
              "      <td>1351</td>\n",
              "      <td>1463</td>\n",
              "      <td>1531</td>\n",
              "      <td>1703</td>\n",
              "      <td>1828</td>\n",
              "      <td>1939</td>\n",
              "    </tr>\n",
              "    <tr>\n",
              "      <th>1</th>\n",
              "      <td>NaN</td>\n",
              "      <td>Albania</td>\n",
              "      <td>41.153300</td>\n",
              "      <td>20.168300</td>\n",
              "      <td>0</td>\n",
              "      <td>0</td>\n",
              "      <td>0</td>\n",
              "      <td>0</td>\n",
              "      <td>0</td>\n",
              "      <td>0</td>\n",
              "      <td>0</td>\n",
              "      <td>0</td>\n",
              "      <td>0</td>\n",
              "      <td>0</td>\n",
              "      <td>0</td>\n",
              "      <td>0</td>\n",
              "      <td>0</td>\n",
              "      <td>0</td>\n",
              "      <td>0</td>\n",
              "      <td>0</td>\n",
              "      <td>0</td>\n",
              "      <td>0</td>\n",
              "      <td>0</td>\n",
              "      <td>0</td>\n",
              "      <td>0</td>\n",
              "      <td>0</td>\n",
              "      <td>0</td>\n",
              "      <td>0</td>\n",
              "      <td>0</td>\n",
              "      <td>0</td>\n",
              "      <td>0</td>\n",
              "      <td>0</td>\n",
              "      <td>0</td>\n",
              "      <td>0</td>\n",
              "      <td>0</td>\n",
              "      <td>0</td>\n",
              "      <td>0</td>\n",
              "      <td>0</td>\n",
              "      <td>0</td>\n",
              "      <td>0</td>\n",
              "      <td>...</td>\n",
              "      <td>76</td>\n",
              "      <td>89</td>\n",
              "      <td>104</td>\n",
              "      <td>123</td>\n",
              "      <td>146</td>\n",
              "      <td>174</td>\n",
              "      <td>186</td>\n",
              "      <td>197</td>\n",
              "      <td>212</td>\n",
              "      <td>223</td>\n",
              "      <td>243</td>\n",
              "      <td>259</td>\n",
              "      <td>277</td>\n",
              "      <td>304</td>\n",
              "      <td>333</td>\n",
              "      <td>361</td>\n",
              "      <td>377</td>\n",
              "      <td>383</td>\n",
              "      <td>400</td>\n",
              "      <td>409</td>\n",
              "      <td>416</td>\n",
              "      <td>433</td>\n",
              "      <td>446</td>\n",
              "      <td>467</td>\n",
              "      <td>475</td>\n",
              "      <td>494</td>\n",
              "      <td>518</td>\n",
              "      <td>539</td>\n",
              "      <td>548</td>\n",
              "      <td>562</td>\n",
              "      <td>584</td>\n",
              "      <td>609</td>\n",
              "      <td>634</td>\n",
              "      <td>663</td>\n",
              "      <td>678</td>\n",
              "      <td>712</td>\n",
              "      <td>726</td>\n",
              "      <td>736</td>\n",
              "      <td>750</td>\n",
              "      <td>766</td>\n",
              "    </tr>\n",
              "    <tr>\n",
              "      <th>2</th>\n",
              "      <td>NaN</td>\n",
              "      <td>Algeria</td>\n",
              "      <td>28.033900</td>\n",
              "      <td>1.659600</td>\n",
              "      <td>0</td>\n",
              "      <td>0</td>\n",
              "      <td>0</td>\n",
              "      <td>0</td>\n",
              "      <td>0</td>\n",
              "      <td>0</td>\n",
              "      <td>0</td>\n",
              "      <td>0</td>\n",
              "      <td>0</td>\n",
              "      <td>0</td>\n",
              "      <td>0</td>\n",
              "      <td>0</td>\n",
              "      <td>0</td>\n",
              "      <td>0</td>\n",
              "      <td>0</td>\n",
              "      <td>0</td>\n",
              "      <td>0</td>\n",
              "      <td>0</td>\n",
              "      <td>0</td>\n",
              "      <td>0</td>\n",
              "      <td>0</td>\n",
              "      <td>0</td>\n",
              "      <td>0</td>\n",
              "      <td>0</td>\n",
              "      <td>0</td>\n",
              "      <td>0</td>\n",
              "      <td>0</td>\n",
              "      <td>0</td>\n",
              "      <td>0</td>\n",
              "      <td>0</td>\n",
              "      <td>0</td>\n",
              "      <td>0</td>\n",
              "      <td>0</td>\n",
              "      <td>0</td>\n",
              "      <td>1</td>\n",
              "      <td>1</td>\n",
              "      <td>...</td>\n",
              "      <td>139</td>\n",
              "      <td>201</td>\n",
              "      <td>230</td>\n",
              "      <td>264</td>\n",
              "      <td>302</td>\n",
              "      <td>367</td>\n",
              "      <td>409</td>\n",
              "      <td>454</td>\n",
              "      <td>511</td>\n",
              "      <td>584</td>\n",
              "      <td>716</td>\n",
              "      <td>847</td>\n",
              "      <td>986</td>\n",
              "      <td>1171</td>\n",
              "      <td>1251</td>\n",
              "      <td>1320</td>\n",
              "      <td>1423</td>\n",
              "      <td>1468</td>\n",
              "      <td>1572</td>\n",
              "      <td>1666</td>\n",
              "      <td>1761</td>\n",
              "      <td>1825</td>\n",
              "      <td>1914</td>\n",
              "      <td>1983</td>\n",
              "      <td>2070</td>\n",
              "      <td>2160</td>\n",
              "      <td>2268</td>\n",
              "      <td>2418</td>\n",
              "      <td>2534</td>\n",
              "      <td>2629</td>\n",
              "      <td>2718</td>\n",
              "      <td>2811</td>\n",
              "      <td>2910</td>\n",
              "      <td>3007</td>\n",
              "      <td>3127</td>\n",
              "      <td>3256</td>\n",
              "      <td>3382</td>\n",
              "      <td>3517</td>\n",
              "      <td>3649</td>\n",
              "      <td>3848</td>\n",
              "    </tr>\n",
              "    <tr>\n",
              "      <th>3</th>\n",
              "      <td>NaN</td>\n",
              "      <td>Andorra</td>\n",
              "      <td>42.506300</td>\n",
              "      <td>1.521800</td>\n",
              "      <td>0</td>\n",
              "      <td>0</td>\n",
              "      <td>0</td>\n",
              "      <td>0</td>\n",
              "      <td>0</td>\n",
              "      <td>0</td>\n",
              "      <td>0</td>\n",
              "      <td>0</td>\n",
              "      <td>0</td>\n",
              "      <td>0</td>\n",
              "      <td>0</td>\n",
              "      <td>0</td>\n",
              "      <td>0</td>\n",
              "      <td>0</td>\n",
              "      <td>0</td>\n",
              "      <td>0</td>\n",
              "      <td>0</td>\n",
              "      <td>0</td>\n",
              "      <td>0</td>\n",
              "      <td>0</td>\n",
              "      <td>0</td>\n",
              "      <td>0</td>\n",
              "      <td>0</td>\n",
              "      <td>0</td>\n",
              "      <td>0</td>\n",
              "      <td>0</td>\n",
              "      <td>0</td>\n",
              "      <td>0</td>\n",
              "      <td>0</td>\n",
              "      <td>0</td>\n",
              "      <td>0</td>\n",
              "      <td>0</td>\n",
              "      <td>0</td>\n",
              "      <td>0</td>\n",
              "      <td>0</td>\n",
              "      <td>0</td>\n",
              "      <td>...</td>\n",
              "      <td>88</td>\n",
              "      <td>113</td>\n",
              "      <td>133</td>\n",
              "      <td>164</td>\n",
              "      <td>188</td>\n",
              "      <td>224</td>\n",
              "      <td>267</td>\n",
              "      <td>308</td>\n",
              "      <td>334</td>\n",
              "      <td>370</td>\n",
              "      <td>376</td>\n",
              "      <td>390</td>\n",
              "      <td>428</td>\n",
              "      <td>439</td>\n",
              "      <td>466</td>\n",
              "      <td>501</td>\n",
              "      <td>525</td>\n",
              "      <td>545</td>\n",
              "      <td>564</td>\n",
              "      <td>583</td>\n",
              "      <td>601</td>\n",
              "      <td>601</td>\n",
              "      <td>638</td>\n",
              "      <td>646</td>\n",
              "      <td>659</td>\n",
              "      <td>673</td>\n",
              "      <td>673</td>\n",
              "      <td>696</td>\n",
              "      <td>704</td>\n",
              "      <td>713</td>\n",
              "      <td>717</td>\n",
              "      <td>717</td>\n",
              "      <td>723</td>\n",
              "      <td>723</td>\n",
              "      <td>731</td>\n",
              "      <td>738</td>\n",
              "      <td>738</td>\n",
              "      <td>743</td>\n",
              "      <td>743</td>\n",
              "      <td>743</td>\n",
              "    </tr>\n",
              "    <tr>\n",
              "      <th>4</th>\n",
              "      <td>NaN</td>\n",
              "      <td>Angola</td>\n",
              "      <td>-11.202700</td>\n",
              "      <td>17.873900</td>\n",
              "      <td>0</td>\n",
              "      <td>0</td>\n",
              "      <td>0</td>\n",
              "      <td>0</td>\n",
              "      <td>0</td>\n",
              "      <td>0</td>\n",
              "      <td>0</td>\n",
              "      <td>0</td>\n",
              "      <td>0</td>\n",
              "      <td>0</td>\n",
              "      <td>0</td>\n",
              "      <td>0</td>\n",
              "      <td>0</td>\n",
              "      <td>0</td>\n",
              "      <td>0</td>\n",
              "      <td>0</td>\n",
              "      <td>0</td>\n",
              "      <td>0</td>\n",
              "      <td>0</td>\n",
              "      <td>0</td>\n",
              "      <td>0</td>\n",
              "      <td>0</td>\n",
              "      <td>0</td>\n",
              "      <td>0</td>\n",
              "      <td>0</td>\n",
              "      <td>0</td>\n",
              "      <td>0</td>\n",
              "      <td>0</td>\n",
              "      <td>0</td>\n",
              "      <td>0</td>\n",
              "      <td>0</td>\n",
              "      <td>0</td>\n",
              "      <td>0</td>\n",
              "      <td>0</td>\n",
              "      <td>0</td>\n",
              "      <td>0</td>\n",
              "      <td>...</td>\n",
              "      <td>2</td>\n",
              "      <td>2</td>\n",
              "      <td>3</td>\n",
              "      <td>3</td>\n",
              "      <td>3</td>\n",
              "      <td>4</td>\n",
              "      <td>4</td>\n",
              "      <td>5</td>\n",
              "      <td>7</td>\n",
              "      <td>7</td>\n",
              "      <td>7</td>\n",
              "      <td>8</td>\n",
              "      <td>8</td>\n",
              "      <td>8</td>\n",
              "      <td>10</td>\n",
              "      <td>14</td>\n",
              "      <td>16</td>\n",
              "      <td>17</td>\n",
              "      <td>19</td>\n",
              "      <td>19</td>\n",
              "      <td>19</td>\n",
              "      <td>19</td>\n",
              "      <td>19</td>\n",
              "      <td>19</td>\n",
              "      <td>19</td>\n",
              "      <td>19</td>\n",
              "      <td>19</td>\n",
              "      <td>19</td>\n",
              "      <td>24</td>\n",
              "      <td>24</td>\n",
              "      <td>24</td>\n",
              "      <td>24</td>\n",
              "      <td>25</td>\n",
              "      <td>25</td>\n",
              "      <td>25</td>\n",
              "      <td>25</td>\n",
              "      <td>26</td>\n",
              "      <td>27</td>\n",
              "      <td>27</td>\n",
              "      <td>27</td>\n",
              "    </tr>\n",
              "    <tr>\n",
              "      <th>...</th>\n",
              "      <td>...</td>\n",
              "      <td>...</td>\n",
              "      <td>...</td>\n",
              "      <td>...</td>\n",
              "      <td>...</td>\n",
              "      <td>...</td>\n",
              "      <td>...</td>\n",
              "      <td>...</td>\n",
              "      <td>...</td>\n",
              "      <td>...</td>\n",
              "      <td>...</td>\n",
              "      <td>...</td>\n",
              "      <td>...</td>\n",
              "      <td>...</td>\n",
              "      <td>...</td>\n",
              "      <td>...</td>\n",
              "      <td>...</td>\n",
              "      <td>...</td>\n",
              "      <td>...</td>\n",
              "      <td>...</td>\n",
              "      <td>...</td>\n",
              "      <td>...</td>\n",
              "      <td>...</td>\n",
              "      <td>...</td>\n",
              "      <td>...</td>\n",
              "      <td>...</td>\n",
              "      <td>...</td>\n",
              "      <td>...</td>\n",
              "      <td>...</td>\n",
              "      <td>...</td>\n",
              "      <td>...</td>\n",
              "      <td>...</td>\n",
              "      <td>...</td>\n",
              "      <td>...</td>\n",
              "      <td>...</td>\n",
              "      <td>...</td>\n",
              "      <td>...</td>\n",
              "      <td>...</td>\n",
              "      <td>...</td>\n",
              "      <td>...</td>\n",
              "      <td>...</td>\n",
              "      <td>...</td>\n",
              "      <td>...</td>\n",
              "      <td>...</td>\n",
              "      <td>...</td>\n",
              "      <td>...</td>\n",
              "      <td>...</td>\n",
              "      <td>...</td>\n",
              "      <td>...</td>\n",
              "      <td>...</td>\n",
              "      <td>...</td>\n",
              "      <td>...</td>\n",
              "      <td>...</td>\n",
              "      <td>...</td>\n",
              "      <td>...</td>\n",
              "      <td>...</td>\n",
              "      <td>...</td>\n",
              "      <td>...</td>\n",
              "      <td>...</td>\n",
              "      <td>...</td>\n",
              "      <td>...</td>\n",
              "      <td>...</td>\n",
              "      <td>...</td>\n",
              "      <td>...</td>\n",
              "      <td>...</td>\n",
              "      <td>...</td>\n",
              "      <td>...</td>\n",
              "      <td>...</td>\n",
              "      <td>...</td>\n",
              "      <td>...</td>\n",
              "      <td>...</td>\n",
              "      <td>...</td>\n",
              "      <td>...</td>\n",
              "      <td>...</td>\n",
              "      <td>...</td>\n",
              "      <td>...</td>\n",
              "      <td>...</td>\n",
              "      <td>...</td>\n",
              "      <td>...</td>\n",
              "      <td>...</td>\n",
              "      <td>...</td>\n",
              "    </tr>\n",
              "    <tr>\n",
              "      <th>259</th>\n",
              "      <td>Saint Pierre and Miquelon</td>\n",
              "      <td>France</td>\n",
              "      <td>46.885200</td>\n",
              "      <td>-56.315900</td>\n",
              "      <td>0</td>\n",
              "      <td>0</td>\n",
              "      <td>0</td>\n",
              "      <td>0</td>\n",
              "      <td>0</td>\n",
              "      <td>0</td>\n",
              "      <td>0</td>\n",
              "      <td>0</td>\n",
              "      <td>0</td>\n",
              "      <td>0</td>\n",
              "      <td>0</td>\n",
              "      <td>0</td>\n",
              "      <td>0</td>\n",
              "      <td>0</td>\n",
              "      <td>0</td>\n",
              "      <td>0</td>\n",
              "      <td>0</td>\n",
              "      <td>0</td>\n",
              "      <td>0</td>\n",
              "      <td>0</td>\n",
              "      <td>0</td>\n",
              "      <td>0</td>\n",
              "      <td>0</td>\n",
              "      <td>0</td>\n",
              "      <td>0</td>\n",
              "      <td>0</td>\n",
              "      <td>0</td>\n",
              "      <td>0</td>\n",
              "      <td>0</td>\n",
              "      <td>0</td>\n",
              "      <td>0</td>\n",
              "      <td>0</td>\n",
              "      <td>0</td>\n",
              "      <td>0</td>\n",
              "      <td>0</td>\n",
              "      <td>0</td>\n",
              "      <td>...</td>\n",
              "      <td>0</td>\n",
              "      <td>0</td>\n",
              "      <td>0</td>\n",
              "      <td>0</td>\n",
              "      <td>0</td>\n",
              "      <td>0</td>\n",
              "      <td>0</td>\n",
              "      <td>0</td>\n",
              "      <td>0</td>\n",
              "      <td>0</td>\n",
              "      <td>0</td>\n",
              "      <td>0</td>\n",
              "      <td>0</td>\n",
              "      <td>0</td>\n",
              "      <td>0</td>\n",
              "      <td>1</td>\n",
              "      <td>1</td>\n",
              "      <td>1</td>\n",
              "      <td>1</td>\n",
              "      <td>1</td>\n",
              "      <td>1</td>\n",
              "      <td>1</td>\n",
              "      <td>1</td>\n",
              "      <td>1</td>\n",
              "      <td>1</td>\n",
              "      <td>1</td>\n",
              "      <td>1</td>\n",
              "      <td>1</td>\n",
              "      <td>1</td>\n",
              "      <td>1</td>\n",
              "      <td>1</td>\n",
              "      <td>1</td>\n",
              "      <td>1</td>\n",
              "      <td>1</td>\n",
              "      <td>1</td>\n",
              "      <td>1</td>\n",
              "      <td>1</td>\n",
              "      <td>1</td>\n",
              "      <td>1</td>\n",
              "      <td>1</td>\n",
              "    </tr>\n",
              "    <tr>\n",
              "      <th>260</th>\n",
              "      <td>NaN</td>\n",
              "      <td>South Sudan</td>\n",
              "      <td>6.877000</td>\n",
              "      <td>31.307000</td>\n",
              "      <td>0</td>\n",
              "      <td>0</td>\n",
              "      <td>0</td>\n",
              "      <td>0</td>\n",
              "      <td>0</td>\n",
              "      <td>0</td>\n",
              "      <td>0</td>\n",
              "      <td>0</td>\n",
              "      <td>0</td>\n",
              "      <td>0</td>\n",
              "      <td>0</td>\n",
              "      <td>0</td>\n",
              "      <td>0</td>\n",
              "      <td>0</td>\n",
              "      <td>0</td>\n",
              "      <td>0</td>\n",
              "      <td>0</td>\n",
              "      <td>0</td>\n",
              "      <td>0</td>\n",
              "      <td>0</td>\n",
              "      <td>0</td>\n",
              "      <td>0</td>\n",
              "      <td>0</td>\n",
              "      <td>0</td>\n",
              "      <td>0</td>\n",
              "      <td>0</td>\n",
              "      <td>0</td>\n",
              "      <td>0</td>\n",
              "      <td>0</td>\n",
              "      <td>0</td>\n",
              "      <td>0</td>\n",
              "      <td>0</td>\n",
              "      <td>0</td>\n",
              "      <td>0</td>\n",
              "      <td>0</td>\n",
              "      <td>0</td>\n",
              "      <td>...</td>\n",
              "      <td>0</td>\n",
              "      <td>0</td>\n",
              "      <td>0</td>\n",
              "      <td>0</td>\n",
              "      <td>0</td>\n",
              "      <td>0</td>\n",
              "      <td>0</td>\n",
              "      <td>0</td>\n",
              "      <td>0</td>\n",
              "      <td>0</td>\n",
              "      <td>0</td>\n",
              "      <td>0</td>\n",
              "      <td>0</td>\n",
              "      <td>0</td>\n",
              "      <td>0</td>\n",
              "      <td>1</td>\n",
              "      <td>1</td>\n",
              "      <td>2</td>\n",
              "      <td>2</td>\n",
              "      <td>3</td>\n",
              "      <td>4</td>\n",
              "      <td>4</td>\n",
              "      <td>4</td>\n",
              "      <td>4</td>\n",
              "      <td>4</td>\n",
              "      <td>4</td>\n",
              "      <td>4</td>\n",
              "      <td>4</td>\n",
              "      <td>4</td>\n",
              "      <td>4</td>\n",
              "      <td>4</td>\n",
              "      <td>4</td>\n",
              "      <td>4</td>\n",
              "      <td>5</td>\n",
              "      <td>5</td>\n",
              "      <td>5</td>\n",
              "      <td>6</td>\n",
              "      <td>6</td>\n",
              "      <td>34</td>\n",
              "      <td>34</td>\n",
              "    </tr>\n",
              "    <tr>\n",
              "      <th>261</th>\n",
              "      <td>NaN</td>\n",
              "      <td>Western Sahara</td>\n",
              "      <td>24.215500</td>\n",
              "      <td>-12.885800</td>\n",
              "      <td>0</td>\n",
              "      <td>0</td>\n",
              "      <td>0</td>\n",
              "      <td>0</td>\n",
              "      <td>0</td>\n",
              "      <td>0</td>\n",
              "      <td>0</td>\n",
              "      <td>0</td>\n",
              "      <td>0</td>\n",
              "      <td>0</td>\n",
              "      <td>0</td>\n",
              "      <td>0</td>\n",
              "      <td>0</td>\n",
              "      <td>0</td>\n",
              "      <td>0</td>\n",
              "      <td>0</td>\n",
              "      <td>0</td>\n",
              "      <td>0</td>\n",
              "      <td>0</td>\n",
              "      <td>0</td>\n",
              "      <td>0</td>\n",
              "      <td>0</td>\n",
              "      <td>0</td>\n",
              "      <td>0</td>\n",
              "      <td>0</td>\n",
              "      <td>0</td>\n",
              "      <td>0</td>\n",
              "      <td>0</td>\n",
              "      <td>0</td>\n",
              "      <td>0</td>\n",
              "      <td>0</td>\n",
              "      <td>0</td>\n",
              "      <td>0</td>\n",
              "      <td>0</td>\n",
              "      <td>0</td>\n",
              "      <td>0</td>\n",
              "      <td>...</td>\n",
              "      <td>0</td>\n",
              "      <td>0</td>\n",
              "      <td>0</td>\n",
              "      <td>0</td>\n",
              "      <td>0</td>\n",
              "      <td>0</td>\n",
              "      <td>0</td>\n",
              "      <td>0</td>\n",
              "      <td>0</td>\n",
              "      <td>0</td>\n",
              "      <td>0</td>\n",
              "      <td>0</td>\n",
              "      <td>0</td>\n",
              "      <td>0</td>\n",
              "      <td>0</td>\n",
              "      <td>4</td>\n",
              "      <td>4</td>\n",
              "      <td>4</td>\n",
              "      <td>4</td>\n",
              "      <td>4</td>\n",
              "      <td>4</td>\n",
              "      <td>4</td>\n",
              "      <td>6</td>\n",
              "      <td>6</td>\n",
              "      <td>6</td>\n",
              "      <td>6</td>\n",
              "      <td>6</td>\n",
              "      <td>6</td>\n",
              "      <td>6</td>\n",
              "      <td>6</td>\n",
              "      <td>6</td>\n",
              "      <td>6</td>\n",
              "      <td>6</td>\n",
              "      <td>6</td>\n",
              "      <td>6</td>\n",
              "      <td>6</td>\n",
              "      <td>6</td>\n",
              "      <td>6</td>\n",
              "      <td>6</td>\n",
              "      <td>6</td>\n",
              "    </tr>\n",
              "    <tr>\n",
              "      <th>262</th>\n",
              "      <td>NaN</td>\n",
              "      <td>Sao Tome and Principe</td>\n",
              "      <td>0.186360</td>\n",
              "      <td>6.613081</td>\n",
              "      <td>0</td>\n",
              "      <td>0</td>\n",
              "      <td>0</td>\n",
              "      <td>0</td>\n",
              "      <td>0</td>\n",
              "      <td>0</td>\n",
              "      <td>0</td>\n",
              "      <td>0</td>\n",
              "      <td>0</td>\n",
              "      <td>0</td>\n",
              "      <td>0</td>\n",
              "      <td>0</td>\n",
              "      <td>0</td>\n",
              "      <td>0</td>\n",
              "      <td>0</td>\n",
              "      <td>0</td>\n",
              "      <td>0</td>\n",
              "      <td>0</td>\n",
              "      <td>0</td>\n",
              "      <td>0</td>\n",
              "      <td>0</td>\n",
              "      <td>0</td>\n",
              "      <td>0</td>\n",
              "      <td>0</td>\n",
              "      <td>0</td>\n",
              "      <td>0</td>\n",
              "      <td>0</td>\n",
              "      <td>0</td>\n",
              "      <td>0</td>\n",
              "      <td>0</td>\n",
              "      <td>0</td>\n",
              "      <td>0</td>\n",
              "      <td>0</td>\n",
              "      <td>0</td>\n",
              "      <td>0</td>\n",
              "      <td>0</td>\n",
              "      <td>...</td>\n",
              "      <td>0</td>\n",
              "      <td>0</td>\n",
              "      <td>0</td>\n",
              "      <td>0</td>\n",
              "      <td>0</td>\n",
              "      <td>0</td>\n",
              "      <td>0</td>\n",
              "      <td>0</td>\n",
              "      <td>0</td>\n",
              "      <td>0</td>\n",
              "      <td>0</td>\n",
              "      <td>0</td>\n",
              "      <td>0</td>\n",
              "      <td>0</td>\n",
              "      <td>0</td>\n",
              "      <td>0</td>\n",
              "      <td>4</td>\n",
              "      <td>4</td>\n",
              "      <td>4</td>\n",
              "      <td>4</td>\n",
              "      <td>4</td>\n",
              "      <td>4</td>\n",
              "      <td>4</td>\n",
              "      <td>4</td>\n",
              "      <td>4</td>\n",
              "      <td>4</td>\n",
              "      <td>4</td>\n",
              "      <td>4</td>\n",
              "      <td>4</td>\n",
              "      <td>4</td>\n",
              "      <td>4</td>\n",
              "      <td>4</td>\n",
              "      <td>4</td>\n",
              "      <td>4</td>\n",
              "      <td>4</td>\n",
              "      <td>4</td>\n",
              "      <td>4</td>\n",
              "      <td>4</td>\n",
              "      <td>8</td>\n",
              "      <td>8</td>\n",
              "    </tr>\n",
              "    <tr>\n",
              "      <th>263</th>\n",
              "      <td>NaN</td>\n",
              "      <td>Yemen</td>\n",
              "      <td>15.552727</td>\n",
              "      <td>48.516388</td>\n",
              "      <td>0</td>\n",
              "      <td>0</td>\n",
              "      <td>0</td>\n",
              "      <td>0</td>\n",
              "      <td>0</td>\n",
              "      <td>0</td>\n",
              "      <td>0</td>\n",
              "      <td>0</td>\n",
              "      <td>0</td>\n",
              "      <td>0</td>\n",
              "      <td>0</td>\n",
              "      <td>0</td>\n",
              "      <td>0</td>\n",
              "      <td>0</td>\n",
              "      <td>0</td>\n",
              "      <td>0</td>\n",
              "      <td>0</td>\n",
              "      <td>0</td>\n",
              "      <td>0</td>\n",
              "      <td>0</td>\n",
              "      <td>0</td>\n",
              "      <td>0</td>\n",
              "      <td>0</td>\n",
              "      <td>0</td>\n",
              "      <td>0</td>\n",
              "      <td>0</td>\n",
              "      <td>0</td>\n",
              "      <td>0</td>\n",
              "      <td>0</td>\n",
              "      <td>0</td>\n",
              "      <td>0</td>\n",
              "      <td>0</td>\n",
              "      <td>0</td>\n",
              "      <td>0</td>\n",
              "      <td>0</td>\n",
              "      <td>0</td>\n",
              "      <td>...</td>\n",
              "      <td>0</td>\n",
              "      <td>0</td>\n",
              "      <td>0</td>\n",
              "      <td>0</td>\n",
              "      <td>0</td>\n",
              "      <td>0</td>\n",
              "      <td>0</td>\n",
              "      <td>0</td>\n",
              "      <td>0</td>\n",
              "      <td>0</td>\n",
              "      <td>0</td>\n",
              "      <td>0</td>\n",
              "      <td>0</td>\n",
              "      <td>0</td>\n",
              "      <td>0</td>\n",
              "      <td>0</td>\n",
              "      <td>0</td>\n",
              "      <td>0</td>\n",
              "      <td>0</td>\n",
              "      <td>0</td>\n",
              "      <td>1</td>\n",
              "      <td>1</td>\n",
              "      <td>1</td>\n",
              "      <td>1</td>\n",
              "      <td>1</td>\n",
              "      <td>1</td>\n",
              "      <td>1</td>\n",
              "      <td>1</td>\n",
              "      <td>1</td>\n",
              "      <td>1</td>\n",
              "      <td>1</td>\n",
              "      <td>1</td>\n",
              "      <td>1</td>\n",
              "      <td>1</td>\n",
              "      <td>1</td>\n",
              "      <td>1</td>\n",
              "      <td>1</td>\n",
              "      <td>1</td>\n",
              "      <td>1</td>\n",
              "      <td>6</td>\n",
              "    </tr>\n",
              "  </tbody>\n",
              "</table>\n",
              "<p>264 rows × 103 columns</p>\n",
              "</div>"
            ],
            "text/plain": [
              "                Province/State         Country/Region  ...  4/28/20  4/29/20\n",
              "0                          NaN            Afghanistan  ...     1828     1939\n",
              "1                          NaN                Albania  ...      750      766\n",
              "2                          NaN                Algeria  ...     3649     3848\n",
              "3                          NaN                Andorra  ...      743      743\n",
              "4                          NaN                 Angola  ...       27       27\n",
              "..                         ...                    ...  ...      ...      ...\n",
              "259  Saint Pierre and Miquelon                 France  ...        1        1\n",
              "260                        NaN            South Sudan  ...       34       34\n",
              "261                        NaN         Western Sahara  ...        6        6\n",
              "262                        NaN  Sao Tome and Principe  ...        8        8\n",
              "263                        NaN                  Yemen  ...        1        6\n",
              "\n",
              "[264 rows x 103 columns]"
            ]
          },
          "metadata": {
            "tags": []
          },
          "execution_count": 86
        }
      ]
    },
    {
      "cell_type": "markdown",
      "metadata": {
        "id": "-ADhSjaOOBuB",
        "colab_type": "text"
      },
      "source": [
        "### Dividir el conjunto de Datos\n"
      ]
    },
    {
      "cell_type": "code",
      "metadata": {
        "id": "TRozoAWQHmK5",
        "colab_type": "code",
        "colab": {}
      },
      "source": [
        "#funcion ventaneo\n",
        "def covid_win(serie,w=5):\n",
        "    pi =0\n",
        "    pf = w\n",
        "    X = serie[pi:pf].reshape(1,-1)\n",
        "    y = serie[pf+1].reshape(1,-1)\n",
        "    pi += 1\n",
        "    pf+= 1\n",
        "    while pf+1 < serie.shape[0]:        \n",
        "        X = np.append(X,serie[pi:pf].reshape(1,-1),axis=0)\n",
        "        y = np.append(y,serie[pf+1].reshape(1,-1),axis=0)\n",
        "        pi += 1\n",
        "        pf+=1\n",
        "    return X, y # X \\in Real^{N x P = w}, y \\in Real^N"
      ],
      "execution_count": 0,
      "outputs": []
    },
    {
      "cell_type": "code",
      "metadata": {
        "id": "R6M43Np8HmK8",
        "colab_type": "code",
        "colab": {}
      },
      "source": [
        "#Ubicar Posicion de pais\n",
        "ii = data[data.columns[1]] == 'Colombia'\n",
        "\n",
        "#contagios  acumulados\n",
        "serie = np.array(data.iloc[np.where(ii)[0][0],4:])\n",
        "#numero contagiados por dia\n",
        "serie_d = np.append(0,np.diff(serie))\n",
        "#serie_d = np.append(0,np.cumsum(np.diff(serie)))\n",
        "\n",
        "X, y = covid_win(serie,w=5)\n",
        "X_d, y_d = covid_win(serie_d,w=5)"
      ],
      "execution_count": 0,
      "outputs": []
    },
    {
      "cell_type": "code",
      "metadata": {
        "id": "JwrtyBA9OSnH",
        "colab_type": "code",
        "outputId": "1fbb3f88-f755-4e83-a17e-fcca08706a27",
        "colab": {
          "base_uri": "https://localhost:8080/",
          "height": 34
        }
      },
      "source": [
        "X[-1,:]"
      ],
      "execution_count": 89,
      "outputs": [
        {
          "output_type": "execute_result",
          "data": {
            "text/plain": [
              "array([4561, 4881, 5142, 5379, 5597], dtype=object)"
            ]
          },
          "metadata": {
            "tags": []
          },
          "execution_count": 89
        }
      ]
    },
    {
      "cell_type": "code",
      "metadata": {
        "id": "aIJ13ZgK0A0m",
        "colab_type": "code",
        "outputId": "753f2bde-655b-43cb-b75b-7353ec50fa2b",
        "colab": {
          "base_uri": "https://localhost:8080/",
          "height": 350
        }
      },
      "source": [
        "plt.plot(X)"
      ],
      "execution_count": 90,
      "outputs": [
        {
          "output_type": "execute_result",
          "data": {
            "text/plain": [
              "[<matplotlib.lines.Line2D at 0x7f973fed8a20>,\n",
              " <matplotlib.lines.Line2D at 0x7f973fed8b00>,\n",
              " <matplotlib.lines.Line2D at 0x7f973fed8278>,\n",
              " <matplotlib.lines.Line2D at 0x7f973fed82e8>,\n",
              " <matplotlib.lines.Line2D at 0x7f973fed8c88>]"
            ]
          },
          "metadata": {
            "tags": []
          },
          "execution_count": 90
        },
        {
          "output_type": "display_data",
          "data": {
            "image/png": "[encoded data removed]",
            "text/plain": [
              "<Figure size 432x288 with 1 Axes>"
            ]
          },
          "metadata": {
            "tags": [],
            "needs_background": "light"
          }
        }
      ]
    },
    {
      "cell_type": "markdown",
      "metadata": {
        "id": "JdnOKu46HmLF",
        "colab_type": "text"
      },
      "source": [
        "### Análisis Exploratorio PCA"
      ]
    },
    {
      "cell_type": "code",
      "metadata": {
        "id": "pNsZw3ZCHmLH",
        "colab_type": "code",
        "outputId": "dae8477f-3098-4b12-fa11-1f0c6ff31894",
        "colab": {
          "base_uri": "https://localhost:8080/",
          "height": 515
        }
      },
      "source": [
        "from sklearn.decomposition import PCA\n",
        "\n",
        "red = PCA()\n",
        "red_d = PCA()\n",
        "\n",
        "z = red.fit_transform(X)\n",
        "z_d = red_d.fit_transform(X_d)\n",
        "\n",
        "plt.scatter(z[:,0],z[:,1],c=y)\n",
        "plt.colorbar()\n",
        "plt.show()\n",
        "\n",
        "plt.scatter(z_d[:,0],z_d[:,1],c=y_d)\n",
        "plt.colorbar()\n",
        "plt.show()"
      ],
      "execution_count": 91,
      "outputs": [
        {
          "output_type": "display_data",
          "data": {
            "image/png": "[encoded data removed]",
            "text/plain": [
              "<Figure size 432x288 with 2 Axes>"
            ]
          },
          "metadata": {
            "tags": [],
            "needs_background": "light"
          }
        },
        {
          "output_type": "display_data",
          "data": {
            "image/png": "[encoded data removed]",
            "text/plain": [
              "<Figure size 432x288 with 2 Axes>"
            ]
          },
          "metadata": {
            "tags": [],
            "needs_background": "light"
          }
        }
      ]
    },
    {
      "cell_type": "markdown",
      "metadata": {
        "id": "Jz4367mNHmLL",
        "colab_type": "text"
      },
      "source": [
        "### Análisis Exploratorio TSNE"
      ]
    },
    {
      "cell_type": "code",
      "metadata": {
        "id": "eVu2OZdKHmLM",
        "colab_type": "code",
        "outputId": "0e16f5e4-0fdd-4004-c442-ff47e9e2dfd1",
        "colab": {
          "base_uri": "https://localhost:8080/",
          "height": 516
        }
      },
      "source": [
        "from sklearn.manifold import TSNE\n",
        "\n",
        "red = TSNE(n_components = 2, perplexity=10)\n",
        "red_d = TSNE(n_components = 2, perplexity=10)\n",
        "\n",
        "z = red.fit_transform(X)\n",
        "z_d = red.fit_transform(X_d)\n",
        "\n",
        "plt.scatter(z[:,0],z[:,1],c=y)\n",
        "plt.colorbar()\n",
        "plt.show()\n",
        "\n",
        "plt.scatter(z_d[:,0],z_d[:,1],c=y_d)\n",
        "plt.colorbar()\n",
        "plt.show()"
      ],
      "execution_count": 92,
      "outputs": [
        {
          "output_type": "display_data",
          "data": {
            "image/png": "[encoded data removed]",
            "text/plain": [
              "<Figure size 432x288 with 2 Axes>"
            ]
          },
          "metadata": {
            "tags": [],
            "needs_background": "light"
          }
        },
        {
          "output_type": "display_data",
          "data": {
            "image/png": "[encoded data removed]",
            "text/plain": [
              "<Figure size 432x288 with 2 Axes>"
            ]
          },
          "metadata": {
            "tags": [],
            "needs_background": "light"
          }
        }
      ]
    },
    {
      "cell_type": "markdown",
      "metadata": {
        "id": "8VlIo0FwHmLQ",
        "colab_type": "text"
      },
      "source": [
        "### Extrer conjunto de Entrenamiento y Prueba\n",
        "Cuando se tienen pocos datos es necesario realizar una validaación cruzada anidada."
      ]
    },
    {
      "cell_type": "markdown",
      "metadata": {
        "id": "HIBLVvEwHmLZ",
        "colab_type": "text"
      },
      "source": [
        "### Función Validación Cruzada Anidada\n"
      ]
    },
    {
      "cell_type": "code",
      "metadata": {
        "id": "Ay_NsFvcHmLa",
        "colab_type": "code",
        "colab": {}
      },
      "source": [
        "from sklearn.model_selection import train_test_split,GridSearchCV,cross_val_score, cross_val_predict\n",
        "from sklearn.kernel_ridge import KernelRidge\n",
        "from sklearn.linear_model import LinearRegression, Ridge, Lasso, ElasticNet \n",
        "from sklearn.pipeline import Pipeline\n",
        "from sklearn.preprocessing import StandardScaler\n",
        "from sklearn.metrics import mean_squared_error as mse\n",
        "from joblib import dump, load\n",
        "\n",
        "def V_Cruzada_Anidada(X_data,Y_data,steps,parameters):\n",
        "  \n",
        "  Niter = 10                           #numero particiones outter loop nested cross-validation\n",
        "  msev = np.zeros((Niter,len(steps)))  #arreglo para guardar acierto\n",
        "  best_estimators = []                 #mejor metodo por iteracion\n",
        "  ###clave del funcionamiento\n",
        "  best_hyperpar = []                   #mejor metodo por iteracion \n",
        "            \n",
        "\n",
        "  for j in range(Niter): #outter loop\n",
        "      print('it %d/%d'%(j+1,Niter))\n",
        "      #particiono datos outter loop\n",
        "      X_train, X_test, y_train, y_test = train_test_split(X_data,Y_data,test_size=0.3) # xtrain 60, xtest 26\n",
        "\n",
        "      for r in range(len(steps)): #recorro todos los posibles modelos a probar en iteracion j del outter loop\n",
        "          grid_search = GridSearchCV(Pipeline(steps[r]), parameters[r],cv=5,verbose=10,scoring='neg_mean_absolute_error',n_jobs=5) #cv inner loop\n",
        "          #xtrain gridsearchcv xtrain split en 12 / cv, 60/5 = 12, xtrain 48 datos validar 12\n",
        "          # cv = N -> leave one out N <30\n",
        "          \n",
        "          #generar mejor modelo\n",
        "          grid_search.fit(X_train,y_train)\n",
        "          \n",
        "          #estimar salida conjunto de test\n",
        "          y_pred = grid_search.best_estimator_.predict(X_test)\n",
        "          \n",
        "          #guardar mejor modelo\n",
        "          best_estimators.append(grid_search.best_estimator_)\n",
        "          best_hyperpar.append(grid_search.best_params_)\n",
        "\n",
        "          #guardar acierto\n",
        "          msev[j,r] = mse(y_test,y_pred)\n",
        "          #print('it %d/%d-Modelo %d/%d'%(j+1,Niter,r,len(steps)))\n",
        "          #print(best_hyperpar)\n",
        "          #print('mse:',msev[j,r])\n",
        "\n",
        "          savedata = {\n",
        "            'acc':msev,\n",
        "            'best_models':best_estimators,\n",
        "            'best_parameters':best_hyperpar,\n",
        "              } \n",
        "          #dump(savedata,'covid19_1.joblib')\n",
        "\n",
        "  return best_estimators,best_hyperpar,msev"
      ],
      "execution_count": 0,
      "outputs": []
    },
    {
      "cell_type": "markdown",
      "metadata": {
        "id": "QxLBnRD_DnSy",
        "colab_type": "text"
      },
      "source": [
        "#### Validación Cruzada Anidada LR:\n",
        "\n",
        "- Normalización StandadScalar\n",
        "- Representación PCA\n",
        "- Regresor LinearRegression\n",
        "\n"
      ]
    },
    {
      "cell_type": "code",
      "metadata": {
        "id": "jY-K_70tDmN4",
        "colab_type": "code",
        "outputId": "58ce5bda-8bfd-4d5e-c2a3-31eebb24730a",
        "colab": {
          "base_uri": "https://localhost:8080/",
          "height": 1000
        }
      },
      "source": [
        "X_train, X_test, y_train, y_test = train_test_split(X,y,test_size=0.3)\n",
        "\n",
        "steps = [\n",
        "         [('scaler', StandardScaler()),           #estandarizar cada atributo columna de xtrain centrada en 0 y var = 1\n",
        "          ('reg',  LinearRegression())],\n",
        "         [('scaler', StandardScaler()),\n",
        "          ('rep', PCA()),                         \n",
        "          ('reg',  LinearRegression())]\n",
        "          ]\n",
        "\n",
        "parameters = [\n",
        "                {\n",
        "                 },\n",
        "                {\n",
        "                 'rep__n_components':[0.5,0.75,0.9]\n",
        "                 }\n",
        "               ]\n",
        "\n",
        "label_model_LR = ['NorSC-LR','NorSC-PCA-LR']\n",
        "\n",
        "B_Model_LR, B_Hiperpara_LR, MAE_LR = V_Cruzada_Anidada(X,y,steps,parameters)"
      ],
      "execution_count": 94,
      "outputs": [
        {
          "output_type": "stream",
          "text": [
            "it 1/10\n",
            "Fitting 5 folds for each of 1 candidates, totalling 5 fits\n"
          ],
          "name": "stdout"
        },
        {
          "output_type": "stream",
          "text": [
            "[Parallel(n_jobs=5)]: Using backend LokyBackend with 5 concurrent workers.\n",
            "[Parallel(n_jobs=5)]: Done   2 out of   5 | elapsed:    2.2s remaining:    3.4s\n",
            "[Parallel(n_jobs=5)]: Done   3 out of   5 | elapsed:    2.3s remaining:    1.5s\n",
            "[Parallel(n_jobs=5)]: Done   5 out of   5 | elapsed:    2.3s remaining:    0.0s\n",
            "[Parallel(n_jobs=5)]: Done   5 out of   5 | elapsed:    2.3s finished\n",
            "[Parallel(n_jobs=5)]: Using backend LokyBackend with 5 concurrent workers.\n",
            "[Parallel(n_jobs=5)]: Batch computation too fast (0.0328s.) Setting batch_size=2.\n",
            "[Parallel(n_jobs=5)]: Batch computation too fast (0.0328s.) Setting batch_size=4.\n",
            "[Parallel(n_jobs=5)]: Done   2 tasks      | elapsed:    0.0s\n",
            "[Parallel(n_jobs=5)]: Done   6 out of  15 | elapsed:    0.1s remaining:    0.1s\n",
            "[Parallel(n_jobs=5)]: Done   8 out of  15 | elapsed:    0.1s remaining:    0.1s\n",
            "[Parallel(n_jobs=5)]: Done  10 out of  15 | elapsed:    0.1s remaining:    0.0s\n",
            "[Parallel(n_jobs=5)]: Done  12 out of  15 | elapsed:    0.1s remaining:    0.0s\n",
            "[Parallel(n_jobs=5)]: Done  15 out of  15 | elapsed:    0.1s finished\n",
            "[Parallel(n_jobs=5)]: Using backend LokyBackend with 5 concurrent workers.\n",
            "[Parallel(n_jobs=5)]: Batch computation too fast (0.0055s.) Setting batch_size=2.\n",
            "[Parallel(n_jobs=5)]: Done   2 out of   5 | elapsed:    0.0s remaining:    0.0s\n",
            "[Parallel(n_jobs=5)]: Done   3 out of   5 | elapsed:    0.0s remaining:    0.0s\n",
            "[Parallel(n_jobs=5)]: Done   5 out of   5 | elapsed:    0.0s remaining:    0.0s\n",
            "[Parallel(n_jobs=5)]: Done   5 out of   5 | elapsed:    0.0s finished\n",
            "[Parallel(n_jobs=5)]: Using backend LokyBackend with 5 concurrent workers.\n",
            "[Parallel(n_jobs=5)]: Batch computation too fast (0.0056s.) Setting batch_size=2.\n",
            "[Parallel(n_jobs=5)]: Batch computation too fast (0.0056s.) Setting batch_size=4.\n"
          ],
          "name": "stderr"
        },
        {
          "output_type": "stream",
          "text": [
            "Fitting 5 folds for each of 3 candidates, totalling 15 fits\n",
            "it 2/10\n",
            "Fitting 5 folds for each of 1 candidates, totalling 5 fits\n",
            "Fitting 5 folds for each of 3 candidates, totalling 15 fits\n",
            "it 3/10\n",
            "Fitting 5 folds for each of 1 candidates, totalling 5 fits\n"
          ],
          "name": "stdout"
        },
        {
          "output_type": "stream",
          "text": [
            "[Parallel(n_jobs=5)]: Done   4 tasks      | elapsed:    0.0s\n",
            "[Parallel(n_jobs=5)]: Done   8 out of  15 | elapsed:    0.0s remaining:    0.0s\n",
            "[Parallel(n_jobs=5)]: Done  10 out of  15 | elapsed:    0.1s remaining:    0.0s\n",
            "[Parallel(n_jobs=5)]: Done  12 out of  15 | elapsed:    0.1s remaining:    0.0s\n",
            "[Parallel(n_jobs=5)]: Done  15 out of  15 | elapsed:    0.1s finished\n",
            "[Parallel(n_jobs=5)]: Using backend LokyBackend with 5 concurrent workers.\n",
            "[Parallel(n_jobs=5)]: Batch computation too fast (0.0051s.) Setting batch_size=2.\n",
            "[Parallel(n_jobs=5)]: Done   2 out of   5 | elapsed:    0.0s remaining:    0.0s\n",
            "[Parallel(n_jobs=5)]: Done   3 out of   5 | elapsed:    0.0s remaining:    0.0s\n",
            "[Parallel(n_jobs=5)]: Done   5 out of   5 | elapsed:    0.0s remaining:    0.0s\n",
            "[Parallel(n_jobs=5)]: Done   5 out of   5 | elapsed:    0.0s finished\n",
            "[Parallel(n_jobs=5)]: Using backend LokyBackend with 5 concurrent workers.\n",
            "[Parallel(n_jobs=5)]: Batch computation too fast (0.0067s.) Setting batch_size=2.\n",
            "[Parallel(n_jobs=5)]: Batch computation too fast (0.0067s.) Setting batch_size=4.\n",
            "[Parallel(n_jobs=5)]: Done   4 tasks      | elapsed:    0.0s\n",
            "[Parallel(n_jobs=5)]: Done   8 out of  15 | elapsed:    0.0s remaining:    0.0s\n",
            "[Parallel(n_jobs=5)]: Done  10 out of  15 | elapsed:    0.0s remaining:    0.0s\n",
            "[Parallel(n_jobs=5)]: Done  12 out of  15 | elapsed:    0.1s remaining:    0.0s\n",
            "[Parallel(n_jobs=5)]: Done  15 out of  15 | elapsed:    0.1s finished\n",
            "[Parallel(n_jobs=5)]: Using backend LokyBackend with 5 concurrent workers.\n",
            "[Parallel(n_jobs=5)]: Batch computation too fast (0.0047s.) Setting batch_size=2.\n",
            "[Parallel(n_jobs=5)]: Done   2 out of   5 | elapsed:    0.0s remaining:    0.0s\n",
            "[Parallel(n_jobs=5)]: Done   3 out of   5 | elapsed:    0.0s remaining:    0.0s\n",
            "[Parallel(n_jobs=5)]: Done   5 out of   5 | elapsed:    0.0s remaining:    0.0s\n",
            "[Parallel(n_jobs=5)]: Done   5 out of   5 | elapsed:    0.0s finished\n",
            "[Parallel(n_jobs=5)]: Using backend LokyBackend with 5 concurrent workers.\n",
            "[Parallel(n_jobs=5)]: Batch computation too fast (0.0079s.) Setting batch_size=2.\n",
            "[Parallel(n_jobs=5)]: Done   3 tasks      | elapsed:    0.0s\n",
            "[Parallel(n_jobs=5)]: Done   8 out of  15 | elapsed:    0.0s remaining:    0.0s\n"
          ],
          "name": "stderr"
        },
        {
          "output_type": "stream",
          "text": [
            "Fitting 5 folds for each of 3 candidates, totalling 15 fits\n",
            "it 4/10\n",
            "Fitting 5 folds for each of 1 candidates, totalling 5 fits\n",
            "Fitting 5 folds for each of 3 candidates, totalling 15 fits\n",
            "it 5/10\n",
            "Fitting 5 folds for each of 1 candidates, totalling 5 fits\n",
            "Fitting 5 folds for each of 3 candidates, totalling 15 fits\n"
          ],
          "name": "stdout"
        },
        {
          "output_type": "stream",
          "text": [
            "[Parallel(n_jobs=5)]: Done  10 out of  15 | elapsed:    0.0s remaining:    0.0s\n",
            "[Parallel(n_jobs=5)]: Done  12 out of  15 | elapsed:    0.1s remaining:    0.0s\n",
            "[Parallel(n_jobs=5)]: Done  15 out of  15 | elapsed:    0.1s finished\n",
            "[Parallel(n_jobs=5)]: Using backend LokyBackend with 5 concurrent workers.\n",
            "[Parallel(n_jobs=5)]: Batch computation too fast (0.0054s.) Setting batch_size=2.\n",
            "[Parallel(n_jobs=5)]: Done   2 out of   5 | elapsed:    0.0s remaining:    0.0s\n",
            "[Parallel(n_jobs=5)]: Done   3 out of   5 | elapsed:    0.0s remaining:    0.0s\n",
            "[Parallel(n_jobs=5)]: Done   5 out of   5 | elapsed:    0.0s remaining:    0.0s\n",
            "[Parallel(n_jobs=5)]: Done   5 out of   5 | elapsed:    0.0s finished\n",
            "[Parallel(n_jobs=5)]: Using backend LokyBackend with 5 concurrent workers.\n",
            "[Parallel(n_jobs=5)]: Batch computation too fast (0.0140s.) Setting batch_size=2.\n",
            "[Parallel(n_jobs=5)]: Done   3 tasks      | elapsed:    0.0s\n",
            "[Parallel(n_jobs=5)]: Done   8 out of  15 | elapsed:    0.0s remaining:    0.0s\n",
            "[Parallel(n_jobs=5)]: Done  10 out of  15 | elapsed:    0.0s remaining:    0.0s\n",
            "[Parallel(n_jobs=5)]: Done  12 out of  15 | elapsed:    0.1s remaining:    0.0s\n",
            "[Parallel(n_jobs=5)]: Done  15 out of  15 | elapsed:    0.1s finished\n",
            "[Parallel(n_jobs=5)]: Using backend LokyBackend with 5 concurrent workers.\n",
            "[Parallel(n_jobs=5)]: Batch computation too fast (0.0054s.) Setting batch_size=2.\n",
            "[Parallel(n_jobs=5)]: Done   2 out of   5 | elapsed:    0.0s remaining:    0.0s\n",
            "[Parallel(n_jobs=5)]: Done   3 out of   5 | elapsed:    0.0s remaining:    0.0s\n",
            "[Parallel(n_jobs=5)]: Done   5 out of   5 | elapsed:    0.0s remaining:    0.0s\n",
            "[Parallel(n_jobs=5)]: Done   5 out of   5 | elapsed:    0.0s finished\n",
            "[Parallel(n_jobs=5)]: Using backend LokyBackend with 5 concurrent workers.\n",
            "[Parallel(n_jobs=5)]: Batch computation too fast (0.0068s.) Setting batch_size=2.\n",
            "[Parallel(n_jobs=5)]: Batch computation too fast (0.0068s.) Setting batch_size=4.\n",
            "[Parallel(n_jobs=5)]: Done   4 tasks      | elapsed:    0.0s\n",
            "[Parallel(n_jobs=5)]: Done   8 out of  15 | elapsed:    0.0s remaining:    0.0s\n",
            "[Parallel(n_jobs=5)]: Done  10 out of  15 | elapsed:    0.0s remaining:    0.0s\n",
            "[Parallel(n_jobs=5)]: Done  12 out of  15 | elapsed:    0.1s remaining:    0.0s\n",
            "[Parallel(n_jobs=5)]: Done  15 out of  15 | elapsed:    0.1s finished\n"
          ],
          "name": "stderr"
        },
        {
          "output_type": "stream",
          "text": [
            "it 6/10\n",
            "Fitting 5 folds for each of 1 candidates, totalling 5 fits\n",
            "Fitting 5 folds for each of 3 candidates, totalling 15 fits\n",
            "it 7/10\n",
            "Fitting 5 folds for each of 1 candidates, totalling 5 fits\n",
            "Fitting 5 folds for each of 3 candidates, totalling 15 fits\n",
            "it 8/10\n",
            "Fitting 5 folds for each of 1 candidates, totalling 5 fits\n"
          ],
          "name": "stdout"
        },
        {
          "output_type": "stream",
          "text": [
            "[Parallel(n_jobs=5)]: Using backend LokyBackend with 5 concurrent workers.\n",
            "[Parallel(n_jobs=5)]: Batch computation too fast (0.0075s.) Setting batch_size=2.\n",
            "[Parallel(n_jobs=5)]: Done   2 out of   5 | elapsed:    0.0s remaining:    0.0s\n",
            "[Parallel(n_jobs=5)]: Done   3 out of   5 | elapsed:    0.0s remaining:    0.0s\n",
            "[Parallel(n_jobs=5)]: Done   5 out of   5 | elapsed:    0.0s remaining:    0.0s\n",
            "[Parallel(n_jobs=5)]: Done   5 out of   5 | elapsed:    0.0s finished\n",
            "[Parallel(n_jobs=5)]: Using backend LokyBackend with 5 concurrent workers.\n",
            "[Parallel(n_jobs=5)]: Batch computation too fast (0.0116s.) Setting batch_size=2.\n",
            "[Parallel(n_jobs=5)]: Batch computation too fast (0.0116s.) Setting batch_size=4.\n",
            "[Parallel(n_jobs=5)]: Done   2 tasks      | elapsed:    0.0s\n",
            "[Parallel(n_jobs=5)]: Done   6 out of  15 | elapsed:    0.0s remaining:    0.0s\n",
            "[Parallel(n_jobs=5)]: Done   8 out of  15 | elapsed:    0.0s remaining:    0.0s\n",
            "[Parallel(n_jobs=5)]: Done  10 out of  15 | elapsed:    0.0s remaining:    0.0s\n",
            "[Parallel(n_jobs=5)]: Done  12 out of  15 | elapsed:    0.1s remaining:    0.0s\n",
            "[Parallel(n_jobs=5)]: Done  15 out of  15 | elapsed:    0.1s finished\n",
            "[Parallel(n_jobs=5)]: Using backend LokyBackend with 5 concurrent workers.\n",
            "[Parallel(n_jobs=5)]: Batch computation too fast (0.0052s.) Setting batch_size=2.\n",
            "[Parallel(n_jobs=5)]: Done   2 out of   5 | elapsed:    0.0s remaining:    0.0s\n",
            "[Parallel(n_jobs=5)]: Done   3 out of   5 | elapsed:    0.0s remaining:    0.0s\n",
            "[Parallel(n_jobs=5)]: Done   5 out of   5 | elapsed:    0.0s remaining:    0.0s\n",
            "[Parallel(n_jobs=5)]: Done   5 out of   5 | elapsed:    0.0s finished\n",
            "[Parallel(n_jobs=5)]: Using backend LokyBackend with 5 concurrent workers.\n",
            "[Parallel(n_jobs=5)]: Batch computation too fast (0.0109s.) Setting batch_size=2.\n",
            "[Parallel(n_jobs=5)]: Done   3 tasks      | elapsed:    0.0s\n",
            "[Parallel(n_jobs=5)]: Done   8 out of  15 | elapsed:    0.0s remaining:    0.0s\n",
            "[Parallel(n_jobs=5)]: Done  10 out of  15 | elapsed:    0.1s remaining:    0.0s\n",
            "[Parallel(n_jobs=5)]: Done  12 out of  15 | elapsed:    0.1s remaining:    0.0s\n",
            "[Parallel(n_jobs=5)]: Done  15 out of  15 | elapsed:    0.1s finished\n",
            "[Parallel(n_jobs=5)]: Using backend LokyBackend with 5 concurrent workers.\n",
            "[Parallel(n_jobs=5)]: Batch computation too fast (0.0129s.) Setting batch_size=2.\n",
            "[Parallel(n_jobs=5)]: Done   2 out of   5 | elapsed:    0.0s remaining:    0.0s\n",
            "[Parallel(n_jobs=5)]: Done   3 out of   5 | elapsed:    0.0s remaining:    0.0s\n"
          ],
          "name": "stderr"
        },
        {
          "output_type": "stream",
          "text": [
            "Fitting 5 folds for each of 3 candidates, totalling 15 fits\n",
            "it 9/10\n",
            "Fitting 5 folds for each of 1 candidates, totalling 5 fits\n",
            "Fitting 5 folds for each of 3 candidates, totalling 15 fits\n",
            "it 10/10\n",
            "Fitting 5 folds for each of 1 candidates, totalling 5 fits\n",
            "Fitting 5 folds for each of 3 candidates, totalling 15 fits\n"
          ],
          "name": "stdout"
        },
        {
          "output_type": "stream",
          "text": [
            "[Parallel(n_jobs=5)]: Done   5 out of   5 | elapsed:    0.0s remaining:    0.0s\n",
            "[Parallel(n_jobs=5)]: Done   5 out of   5 | elapsed:    0.0s finished\n",
            "[Parallel(n_jobs=5)]: Using backend LokyBackend with 5 concurrent workers.\n",
            "[Parallel(n_jobs=5)]: Batch computation too fast (0.0147s.) Setting batch_size=2.\n",
            "[Parallel(n_jobs=5)]: Batch computation too fast (0.0147s.) Setting batch_size=4.\n",
            "[Parallel(n_jobs=5)]: Done   4 tasks      | elapsed:    0.0s\n",
            "[Parallel(n_jobs=5)]: Done   8 out of  15 | elapsed:    0.0s remaining:    0.0s\n",
            "[Parallel(n_jobs=5)]: Done  10 out of  15 | elapsed:    0.0s remaining:    0.0s\n",
            "[Parallel(n_jobs=5)]: Done  12 out of  15 | elapsed:    0.1s remaining:    0.0s\n",
            "[Parallel(n_jobs=5)]: Done  15 out of  15 | elapsed:    0.1s finished\n",
            "[Parallel(n_jobs=5)]: Using backend LokyBackend with 5 concurrent workers.\n",
            "[Parallel(n_jobs=5)]: Batch computation too fast (0.0046s.) Setting batch_size=2.\n",
            "[Parallel(n_jobs=5)]: Done   2 out of   5 | elapsed:    0.0s remaining:    0.0s\n",
            "[Parallel(n_jobs=5)]: Done   3 out of   5 | elapsed:    0.0s remaining:    0.0s\n",
            "[Parallel(n_jobs=5)]: Done   5 out of   5 | elapsed:    0.0s remaining:    0.0s\n",
            "[Parallel(n_jobs=5)]: Done   5 out of   5 | elapsed:    0.0s finished\n",
            "[Parallel(n_jobs=5)]: Using backend LokyBackend with 5 concurrent workers.\n",
            "[Parallel(n_jobs=5)]: Done   1 tasks      | elapsed:    0.0s\n",
            "[Parallel(n_jobs=5)]: Batch computation too fast (0.0145s.) Setting batch_size=2.\n",
            "[Parallel(n_jobs=5)]: Batch computation too fast (0.0145s.) Setting batch_size=4.\n",
            "[Parallel(n_jobs=5)]: Done   4 tasks      | elapsed:    0.0s\n",
            "[Parallel(n_jobs=5)]: Done   8 out of  15 | elapsed:    0.1s remaining:    0.1s\n",
            "[Parallel(n_jobs=5)]: Done  10 out of  15 | elapsed:    0.1s remaining:    0.0s\n",
            "[Parallel(n_jobs=5)]: Done  12 out of  15 | elapsed:    0.1s remaining:    0.0s\n",
            "[Parallel(n_jobs=5)]: Done  15 out of  15 | elapsed:    0.1s finished\n"
          ],
          "name": "stderr"
        }
      ]
    },
    {
      "cell_type": "code",
      "metadata": {
        "id": "cCuO3b3_FbU5",
        "colab_type": "code",
        "outputId": "26cbe024-99a5-4bec-b3b0-2533cadf5128",
        "colab": {
          "base_uri": "https://localhost:8080/",
          "height": 265
        }
      },
      "source": [
        "plt.boxplot(MAE_LR)\n",
        "plt.xticks(ticks=np.arange(len(steps))+1,labels=label_model_LR)\n",
        "plt.show()"
      ],
      "execution_count": 95,
      "outputs": [
        {
          "output_type": "display_data",
          "data": {
            "image/png": "[encoded data removed]",
            "text/plain": [
              "<Figure size 432x288 with 1 Axes>"
            ]
          },
          "metadata": {
            "tags": [],
            "needs_background": "light"
          }
        }
      ]
    },
    {
      "cell_type": "code",
      "metadata": {
        "id": "Q5EiduihFbZU",
        "colab_type": "code",
        "outputId": "7444c210-d08f-44b1-dd41-7b3724bc82fd",
        "colab": {
          "base_uri": "https://localhost:8080/",
          "height": 187
        }
      },
      "source": [
        "MAE_LR"
      ],
      "execution_count": 96,
      "outputs": [
        {
          "output_type": "execute_result",
          "data": {
            "text/plain": [
              "array([[ 4316.62522014, 13025.40761798],\n",
              "       [ 6302.14393689, 16403.23117693],\n",
              "       [ 4111.62065837, 17978.31389577],\n",
              "       [ 7573.91225218, 22170.50413964],\n",
              "       [ 3535.63222529,  8363.2704663 ],\n",
              "       [ 6892.97086029, 21282.63872216],\n",
              "       [ 5889.58202789, 16428.02434862],\n",
              "       [ 6862.02306962, 25267.73963633],\n",
              "       [ 4240.7917373 , 13890.49060141],\n",
              "       [ 5909.07741271, 16993.54552206]])"
            ]
          },
          "metadata": {
            "tags": []
          },
          "execution_count": 96
        }
      ]
    },
    {
      "cell_type": "code",
      "metadata": {
        "id": "P9tdScg5GA2n",
        "colab_type": "code",
        "outputId": "8619b57c-8493-4518-a389-d5da1a9c62b9",
        "colab": {
          "base_uri": "https://localhost:8080/",
          "height": 357
        }
      },
      "source": [
        "B_Hiperpara_LR"
      ],
      "execution_count": 97,
      "outputs": [
        {
          "output_type": "execute_result",
          "data": {
            "text/plain": [
              "[{},\n",
              " {'rep__n_components': 0.5},\n",
              " {},\n",
              " {'rep__n_components': 0.5},\n",
              " {},\n",
              " {'rep__n_components': 0.5},\n",
              " {},\n",
              " {'rep__n_components': 0.5},\n",
              " {},\n",
              " {'rep__n_components': 0.5},\n",
              " {},\n",
              " {'rep__n_components': 0.5},\n",
              " {},\n",
              " {'rep__n_components': 0.5},\n",
              " {},\n",
              " {'rep__n_components': 0.5},\n",
              " {},\n",
              " {'rep__n_components': 0.5},\n",
              " {},\n",
              " {'rep__n_components': 0.5}]"
            ]
          },
          "metadata": {
            "tags": []
          },
          "execution_count": 97
        }
      ]
    },
    {
      "cell_type": "code",
      "metadata": {
        "id": "pkVuXke3GD0U",
        "colab_type": "code",
        "outputId": "eaf189c1-6e54-4729-fbb9-88042f3b9ab2",
        "colab": {
          "base_uri": "https://localhost:8080/",
          "height": 136
        }
      },
      "source": [
        "steps =  [('scaler', StandardScaler()),\n",
        "          #('rep', PCA(n_components=0.5)),                         \n",
        "          ('reg', LinearRegression())]\n",
        "\n",
        "Mod_SC_LR = Pipeline(steps = steps)\n",
        "Mod_SC_LR.fit(X_train,y_train)"
      ],
      "execution_count": 98,
      "outputs": [
        {
          "output_type": "execute_result",
          "data": {
            "text/plain": [
              "Pipeline(memory=None,\n",
              "         steps=[('scaler',\n",
              "                 StandardScaler(copy=True, with_mean=True, with_std=True)),\n",
              "                ('reg',\n",
              "                 LinearRegression(copy_X=True, fit_intercept=True, n_jobs=None,\n",
              "                                  normalize=False))],\n",
              "         verbose=False)"
            ]
          },
          "metadata": {
            "tags": []
          },
          "execution_count": 98
        }
      ]
    },
    {
      "cell_type": "code",
      "metadata": {
        "id": "BjyvcLJ4J3eA",
        "colab_type": "code",
        "outputId": "f5eb6614-bfcf-4e07-b190-5f54070b2104",
        "colab": {
          "base_uri": "https://localhost:8080/",
          "height": 51
        }
      },
      "source": [
        "from datetime import date\n",
        "Xn = X[-1]\n",
        "#Xn = [4881, 5142, 5379, 5948, 6207]\n",
        "#Xn=np.matrix([Xn])\n",
        "\n",
        "Xn = Xn.reshape(1,-1)\n",
        "Pre_SC_LR = Mod_SC_LR.predict(Xn)\n",
        "\n",
        "print('Número de contagiados en los últimos 5 días:',Xn)\n",
        "print('Predicción contagios para',date.today(),'usando un modelo LinearRegression:',Pre_SC_LR)"
      ],
      "execution_count": 99,
      "outputs": [
        {
          "output_type": "stream",
          "text": [
            "Número de contagiados en los últimos 5 días: [[4561 4881 5142 5379 5597]]\n",
            "Predicción contagios para 2020-04-30 usando un modelo LinearRegression: [[6176.07241785]]\n"
          ],
          "name": "stdout"
        }
      ]
    },
    {
      "cell_type": "markdown",
      "metadata": {
        "id": "yI7A5envLDrV",
        "colab_type": "text"
      },
      "source": [
        "#### Validación Cruzada Anidada Ridge:\n",
        "\n",
        "- Normalización StandadScalar\n",
        "- Representación PCA\n",
        "- Regresor LinearRidge\n"
      ]
    },
    {
      "cell_type": "code",
      "metadata": {
        "colab_type": "code",
        "outputId": "f3fea75a-d2e5-477f-e3ba-ad1157a4dd51",
        "id": "Ryrx4CNWMN2E",
        "colab": {
          "base_uri": "https://localhost:8080/",
          "height": 1000
        }
      },
      "source": [
        "steps = [\n",
        "         [('scaler', StandardScaler()),           #estandarizar cada atributo columna de xtrain centrada en 0 y var = 1\n",
        "          ('reg',  Ridge( ))],\n",
        "         [('scaler', StandardScaler()),\n",
        "          ('rep', PCA()),                         \n",
        "          ('reg',  Ridge())]\n",
        "          ]\n",
        "\n",
        "parameters = [\n",
        "                {'reg__alpha':[1e-3,1e-2,1e-1,1],\n",
        "                 'reg__solver':['svd', 'cholesky', 'lsqr', 'sag', 'saga']\n",
        "                 },\n",
        "                {'rep__n_components':[0.5,0.9],\n",
        "                 'reg__alpha':[1e-3,1e-2,1e-1,1],\n",
        "                 'reg__solver':['svd', 'cholesky', 'lsqr', 'sag', 'saga']\n",
        "                 }\n",
        "               ]\n",
        "\n",
        "label_model_R = ['NorSC-R','NorSC-PCA-R']\n",
        "\n",
        "B_Model_R, B_Hiperpara_R, MAE_R = V_Cruzada_Anidada(X,y,steps,parameters)"
      ],
      "execution_count": 100,
      "outputs": [
        {
          "output_type": "stream",
          "text": [
            "it 1/10\n",
            "Fitting 5 folds for each of 20 candidates, totalling 100 fits\n"
          ],
          "name": "stdout"
        },
        {
          "output_type": "stream",
          "text": [
            "[Parallel(n_jobs=5)]: Using backend LokyBackend with 5 concurrent workers.\n",
            "[Parallel(n_jobs=5)]: Batch computation too fast (0.0140s.) Setting batch_size=2.\n",
            "[Parallel(n_jobs=5)]: Done   3 tasks      | elapsed:    0.0s\n",
            "[Parallel(n_jobs=5)]: Done   8 tasks      | elapsed:    0.1s\n",
            "[Parallel(n_jobs=5)]: Batch computation too fast (0.0362s.) Setting batch_size=4.\n",
            "[Parallel(n_jobs=5)]: Done  20 tasks      | elapsed:    0.1s\n",
            "[Parallel(n_jobs=5)]: Batch computation too fast (0.0828s.) Setting batch_size=8.\n",
            "[Parallel(n_jobs=5)]: Done  38 tasks      | elapsed:    0.2s\n",
            "[Parallel(n_jobs=5)]: Done  65 tasks      | elapsed:    0.3s\n",
            "[Parallel(n_jobs=5)]: Done  77 tasks      | elapsed:    0.3s\n",
            "[Parallel(n_jobs=5)]: Done  91 tasks      | elapsed:    0.4s\n",
            "[Parallel(n_jobs=5)]: Done 100 out of 100 | elapsed:    0.4s finished\n",
            "[Parallel(n_jobs=5)]: Using backend LokyBackend with 5 concurrent workers.\n",
            "[Parallel(n_jobs=5)]: Done   1 tasks      | elapsed:    0.0s\n",
            "[Parallel(n_jobs=5)]: Batch computation too fast (0.0069s.) Setting batch_size=2.\n",
            "[Parallel(n_jobs=5)]: Batch computation too fast (0.0069s.) Setting batch_size=4.\n",
            "[Parallel(n_jobs=5)]: Done   4 tasks      | elapsed:    0.0s\n"
          ],
          "name": "stderr"
        },
        {
          "output_type": "stream",
          "text": [
            "Fitting 5 folds for each of 40 candidates, totalling 200 fits\n"
          ],
          "name": "stdout"
        },
        {
          "output_type": "stream",
          "text": [
            "[Parallel(n_jobs=5)]: Done   9 tasks      | elapsed:    0.1s\n",
            "[Parallel(n_jobs=5)]: Batch computation too fast (0.0932s.) Setting batch_size=8.\n",
            "[Parallel(n_jobs=5)]: Done  34 tasks      | elapsed:    0.2s\n",
            "[Parallel(n_jobs=5)]: Batch computation too fast (0.0806s.) Setting batch_size=16.\n",
            "[Parallel(n_jobs=5)]: Done  74 tasks      | elapsed:    0.4s\n",
            "[Parallel(n_jobs=5)]: Done 125 tasks      | elapsed:    0.5s\n",
            "[Parallel(n_jobs=5)]: Done 141 tasks      | elapsed:    0.5s\n",
            "[Parallel(n_jobs=5)]: Done 152 tasks      | elapsed:    0.6s\n",
            "[Parallel(n_jobs=5)]: Done 163 tasks      | elapsed:    0.6s\n",
            "[Parallel(n_jobs=5)]: Done 176 tasks      | elapsed:    0.7s\n",
            "[Parallel(n_jobs=5)]: Done 189 tasks      | elapsed:    0.7s\n",
            "[Parallel(n_jobs=5)]: Done 200 out of 200 | elapsed:    0.7s finished\n",
            "[Parallel(n_jobs=5)]: Using backend LokyBackend with 5 concurrent workers.\n",
            "[Parallel(n_jobs=5)]: Batch computation too fast (0.0078s.) Setting batch_size=2.\n",
            "[Parallel(n_jobs=5)]: Done   3 tasks      | elapsed:    0.0s\n",
            "[Parallel(n_jobs=5)]: Done   8 tasks      | elapsed:    0.0s\n",
            "[Parallel(n_jobs=5)]: Batch computation too fast (0.0413s.) Setting batch_size=4.\n",
            "[Parallel(n_jobs=5)]: Done  20 tasks      | elapsed:    0.1s\n"
          ],
          "name": "stderr"
        },
        {
          "output_type": "stream",
          "text": [
            "it 2/10\n",
            "Fitting 5 folds for each of 20 candidates, totalling 100 fits\n"
          ],
          "name": "stdout"
        },
        {
          "output_type": "stream",
          "text": [
            "[Parallel(n_jobs=5)]: Batch computation too fast (0.0757s.) Setting batch_size=8.\n",
            "[Parallel(n_jobs=5)]: Done  38 tasks      | elapsed:    0.2s\n",
            "[Parallel(n_jobs=5)]: Done  71 tasks      | elapsed:    0.2s\n",
            "[Parallel(n_jobs=5)]: Done  80 tasks      | elapsed:    0.3s\n",
            "[Parallel(n_jobs=5)]: Done  91 tasks      | elapsed:    0.3s\n",
            "[Parallel(n_jobs=5)]: Done 100 out of 100 | elapsed:    0.4s finished\n",
            "[Parallel(n_jobs=5)]: Using backend LokyBackend with 5 concurrent workers.\n",
            "[Parallel(n_jobs=5)]: Batch computation too fast (0.0093s.) Setting batch_size=2.\n",
            "[Parallel(n_jobs=5)]: Done   3 tasks      | elapsed:    0.0s\n"
          ],
          "name": "stderr"
        },
        {
          "output_type": "stream",
          "text": [
            "Fitting 5 folds for each of 40 candidates, totalling 200 fits\n"
          ],
          "name": "stdout"
        },
        {
          "output_type": "stream",
          "text": [
            "[Parallel(n_jobs=5)]: Done   8 tasks      | elapsed:    0.1s\n",
            "[Parallel(n_jobs=5)]: Batch computation too fast (0.0433s.) Setting batch_size=4.\n",
            "[Parallel(n_jobs=5)]: Done  20 tasks      | elapsed:    0.1s\n",
            "[Parallel(n_jobs=5)]: Batch computation too fast (0.0776s.) Setting batch_size=8.\n",
            "[Parallel(n_jobs=5)]: Done  38 tasks      | elapsed:    0.3s\n",
            "[Parallel(n_jobs=5)]: Done  78 tasks      | elapsed:    0.4s\n",
            "[Parallel(n_jobs=5)]: Batch computation too fast (0.1175s.) Setting batch_size=16.\n",
            "[Parallel(n_jobs=5)]: Done 129 tasks      | elapsed:    0.5s\n",
            "[Parallel(n_jobs=5)]: Done 154 tasks      | elapsed:    0.5s\n",
            "[Parallel(n_jobs=5)]: Done 172 tasks      | elapsed:    0.6s\n",
            "[Parallel(n_jobs=5)]: Done 185 tasks      | elapsed:    0.6s\n",
            "[Parallel(n_jobs=5)]: Done 200 out of 200 | elapsed:    0.7s finished\n",
            "[Parallel(n_jobs=5)]: Using backend LokyBackend with 5 concurrent workers.\n",
            "[Parallel(n_jobs=5)]: Batch computation too fast (0.0112s.) Setting batch_size=2.\n",
            "[Parallel(n_jobs=5)]: Done   3 tasks      | elapsed:    0.0s\n",
            "[Parallel(n_jobs=5)]: Done   8 tasks      | elapsed:    0.0s\n",
            "[Parallel(n_jobs=5)]: Batch computation too fast (0.0323s.) Setting batch_size=4.\n"
          ],
          "name": "stderr"
        },
        {
          "output_type": "stream",
          "text": [
            "it 3/10\n",
            "Fitting 5 folds for each of 20 candidates, totalling 100 fits\n"
          ],
          "name": "stdout"
        },
        {
          "output_type": "stream",
          "text": [
            "[Parallel(n_jobs=5)]: Done  20 tasks      | elapsed:    0.1s\n",
            "[Parallel(n_jobs=5)]: Batch computation too fast (0.0921s.) Setting batch_size=8.\n",
            "[Parallel(n_jobs=5)]: Done  38 tasks      | elapsed:    0.2s\n",
            "[Parallel(n_jobs=5)]: Done  68 tasks      | elapsed:    0.3s\n",
            "[Parallel(n_jobs=5)]: Done  80 tasks      | elapsed:    0.3s\n",
            "[Parallel(n_jobs=5)]: Done  91 tasks      | elapsed:    0.3s\n",
            "[Parallel(n_jobs=5)]: Done 100 out of 100 | elapsed:    0.4s finished\n",
            "[Parallel(n_jobs=5)]: Using backend LokyBackend with 5 concurrent workers.\n",
            "[Parallel(n_jobs=5)]: Batch computation too fast (0.0103s.) Setting batch_size=2.\n",
            "[Parallel(n_jobs=5)]: Done   3 tasks      | elapsed:    0.0s\n",
            "[Parallel(n_jobs=5)]: Done   8 tasks      | elapsed:    0.0s\n",
            "[Parallel(n_jobs=5)]: Batch computation too fast (0.0381s.) Setting batch_size=4.\n",
            "[Parallel(n_jobs=5)]: Done  20 tasks      | elapsed:    0.1s\n"
          ],
          "name": "stderr"
        },
        {
          "output_type": "stream",
          "text": [
            "Fitting 5 folds for each of 40 candidates, totalling 200 fits\n"
          ],
          "name": "stdout"
        },
        {
          "output_type": "stream",
          "text": [
            "[Parallel(n_jobs=5)]: Batch computation too fast (0.1101s.) Setting batch_size=8.\n",
            "[Parallel(n_jobs=5)]: Done  38 tasks      | elapsed:    0.3s\n",
            "[Parallel(n_jobs=5)]: Done  78 tasks      | elapsed:    0.3s\n",
            "[Parallel(n_jobs=5)]: Batch computation too fast (0.0615s.) Setting batch_size=16.\n",
            "[Parallel(n_jobs=5)]: Done 136 tasks      | elapsed:    0.5s\n",
            "[Parallel(n_jobs=5)]: Done 161 tasks      | elapsed:    0.6s\n",
            "[Parallel(n_jobs=5)]: Done 172 tasks      | elapsed:    0.6s\n",
            "[Parallel(n_jobs=5)]: Done 185 tasks      | elapsed:    0.7s\n",
            "[Parallel(n_jobs=5)]: Done 200 out of 200 | elapsed:    0.7s finished\n",
            "[Parallel(n_jobs=5)]: Using backend LokyBackend with 5 concurrent workers.\n",
            "[Parallel(n_jobs=5)]: Batch computation too fast (0.0079s.) Setting batch_size=2.\n"
          ],
          "name": "stderr"
        },
        {
          "output_type": "stream",
          "text": [
            "it 4/10\n",
            "Fitting 5 folds for each of 20 candidates, totalling 100 fits\n"
          ],
          "name": "stdout"
        },
        {
          "output_type": "stream",
          "text": [
            "[Parallel(n_jobs=5)]: Done   3 tasks      | elapsed:    0.0s\n",
            "[Parallel(n_jobs=5)]: Done   8 tasks      | elapsed:    0.1s\n",
            "[Parallel(n_jobs=5)]: Batch computation too fast (0.0630s.) Setting batch_size=4.\n",
            "[Parallel(n_jobs=5)]: Done  20 tasks      | elapsed:    0.1s\n",
            "[Parallel(n_jobs=5)]: Batch computation too fast (0.0537s.) Setting batch_size=8.\n",
            "[Parallel(n_jobs=5)]: Done  38 tasks      | elapsed:    0.2s\n",
            "[Parallel(n_jobs=5)]: Done  68 tasks      | elapsed:    0.3s\n",
            "[Parallel(n_jobs=5)]: Done  80 tasks      | elapsed:    0.3s\n",
            "[Parallel(n_jobs=5)]: Done  91 tasks      | elapsed:    0.3s\n",
            "[Parallel(n_jobs=5)]: Done 100 out of 100 | elapsed:    0.4s finished\n",
            "[Parallel(n_jobs=5)]: Using backend LokyBackend with 5 concurrent workers.\n",
            "[Parallel(n_jobs=5)]: Batch computation too fast (0.0093s.) Setting batch_size=2.\n",
            "[Parallel(n_jobs=5)]: Done   3 tasks      | elapsed:    0.0s\n",
            "[Parallel(n_jobs=5)]: Done   8 tasks      | elapsed:    0.1s\n",
            "[Parallel(n_jobs=5)]: Batch computation too fast (0.0377s.) Setting batch_size=4.\n",
            "[Parallel(n_jobs=5)]: Done  20 tasks      | elapsed:    0.1s\n"
          ],
          "name": "stderr"
        },
        {
          "output_type": "stream",
          "text": [
            "Fitting 5 folds for each of 40 candidates, totalling 200 fits\n"
          ],
          "name": "stdout"
        },
        {
          "output_type": "stream",
          "text": [
            "[Parallel(n_jobs=5)]: Batch computation too fast (0.0893s.) Setting batch_size=8.\n",
            "[Parallel(n_jobs=5)]: Done  38 tasks      | elapsed:    0.3s\n",
            "[Parallel(n_jobs=5)]: Done  78 tasks      | elapsed:    0.4s\n",
            "[Parallel(n_jobs=5)]: Batch computation too fast (0.1318s.) Setting batch_size=16.\n",
            "[Parallel(n_jobs=5)]: Done 143 tasks      | elapsed:    0.5s\n",
            "[Parallel(n_jobs=5)]: Done 161 tasks      | elapsed:    0.6s\n",
            "[Parallel(n_jobs=5)]: Done 172 tasks      | elapsed:    0.6s\n",
            "[Parallel(n_jobs=5)]: Done 185 tasks      | elapsed:    0.7s\n",
            "[Parallel(n_jobs=5)]: Done 200 out of 200 | elapsed:    0.8s finished\n",
            "[Parallel(n_jobs=5)]: Using backend LokyBackend with 5 concurrent workers.\n",
            "[Parallel(n_jobs=5)]: Batch computation too fast (0.0095s.) Setting batch_size=2.\n",
            "[Parallel(n_jobs=5)]: Done   3 tasks      | elapsed:    0.0s\n",
            "[Parallel(n_jobs=5)]: Done   8 tasks      | elapsed:    0.0s\n",
            "[Parallel(n_jobs=5)]: Batch computation too fast (0.0328s.) Setting batch_size=4.\n"
          ],
          "name": "stderr"
        },
        {
          "output_type": "stream",
          "text": [
            "it 5/10\n",
            "Fitting 5 folds for each of 20 candidates, totalling 100 fits\n"
          ],
          "name": "stdout"
        },
        {
          "output_type": "stream",
          "text": [
            "[Parallel(n_jobs=5)]: Done  20 tasks      | elapsed:    0.1s\n",
            "[Parallel(n_jobs=5)]: Batch computation too fast (0.0723s.) Setting batch_size=8.\n",
            "[Parallel(n_jobs=5)]: Done  38 tasks      | elapsed:    0.2s\n",
            "[Parallel(n_jobs=5)]: Done  71 tasks      | elapsed:    0.2s\n",
            "[Parallel(n_jobs=5)]: Done  80 tasks      | elapsed:    0.3s\n",
            "[Parallel(n_jobs=5)]: Done  91 tasks      | elapsed:    0.3s\n",
            "[Parallel(n_jobs=5)]: Done 100 out of 100 | elapsed:    0.3s finished\n",
            "[Parallel(n_jobs=5)]: Using backend LokyBackend with 5 concurrent workers.\n",
            "[Parallel(n_jobs=5)]: Batch computation too fast (0.0102s.) Setting batch_size=2.\n",
            "[Parallel(n_jobs=5)]: Done   3 tasks      | elapsed:    0.0s\n",
            "[Parallel(n_jobs=5)]: Done   8 tasks      | elapsed:    0.1s\n",
            "[Parallel(n_jobs=5)]: Batch computation too fast (0.0598s.) Setting batch_size=4.\n",
            "[Parallel(n_jobs=5)]: Done  20 tasks      | elapsed:    0.1s\n"
          ],
          "name": "stderr"
        },
        {
          "output_type": "stream",
          "text": [
            "Fitting 5 folds for each of 40 candidates, totalling 200 fits\n"
          ],
          "name": "stdout"
        },
        {
          "output_type": "stream",
          "text": [
            "[Parallel(n_jobs=5)]: Batch computation too fast (0.1079s.) Setting batch_size=8.\n",
            "[Parallel(n_jobs=5)]: Done  38 tasks      | elapsed:    0.3s\n",
            "[Parallel(n_jobs=5)]: Done  78 tasks      | elapsed:    0.3s\n",
            "[Parallel(n_jobs=5)]: Batch computation too fast (0.0548s.) Setting batch_size=16.\n",
            "[Parallel(n_jobs=5)]: Done 129 tasks      | elapsed:    0.5s\n",
            "[Parallel(n_jobs=5)]: Done 161 tasks      | elapsed:    0.6s\n",
            "[Parallel(n_jobs=5)]: Done 172 tasks      | elapsed:    0.7s\n",
            "[Parallel(n_jobs=5)]: Done 185 tasks      | elapsed:    0.7s\n",
            "[Parallel(n_jobs=5)]: Done 200 out of 200 | elapsed:    0.8s finished\n",
            "[Parallel(n_jobs=5)]: Using backend LokyBackend with 5 concurrent workers.\n",
            "[Parallel(n_jobs=5)]: Batch computation too fast (0.0125s.) Setting batch_size=2.\n",
            "[Parallel(n_jobs=5)]: Done   3 tasks      | elapsed:    0.0s\n",
            "[Parallel(n_jobs=5)]: Done   8 tasks      | elapsed:    0.0s\n",
            "[Parallel(n_jobs=5)]: Batch computation too fast (0.0345s.) Setting batch_size=4.\n",
            "[Parallel(n_jobs=5)]: Done  20 tasks      | elapsed:    0.1s\n",
            "[Parallel(n_jobs=5)]: Batch computation too fast (0.0755s.) Setting batch_size=8.\n"
          ],
          "name": "stderr"
        },
        {
          "output_type": "stream",
          "text": [
            "it 6/10\n",
            "Fitting 5 folds for each of 20 candidates, totalling 100 fits\n"
          ],
          "name": "stdout"
        },
        {
          "output_type": "stream",
          "text": [
            "[Parallel(n_jobs=5)]: Done  38 tasks      | elapsed:    0.2s\n",
            "[Parallel(n_jobs=5)]: Done  65 tasks      | elapsed:    0.2s\n",
            "[Parallel(n_jobs=5)]: Done  80 tasks      | elapsed:    0.3s\n",
            "[Parallel(n_jobs=5)]: Done  91 tasks      | elapsed:    0.3s\n",
            "[Parallel(n_jobs=5)]: Done 100 out of 100 | elapsed:    0.3s finished\n",
            "[Parallel(n_jobs=5)]: Using backend LokyBackend with 5 concurrent workers.\n",
            "[Parallel(n_jobs=5)]: Batch computation too fast (0.0150s.) Setting batch_size=2.\n",
            "[Parallel(n_jobs=5)]: Done   3 tasks      | elapsed:    0.0s\n"
          ],
          "name": "stderr"
        },
        {
          "output_type": "stream",
          "text": [
            "Fitting 5 folds for each of 40 candidates, totalling 200 fits\n"
          ],
          "name": "stdout"
        },
        {
          "output_type": "stream",
          "text": [
            "[Parallel(n_jobs=5)]: Done   8 tasks      | elapsed:    0.1s\n",
            "[Parallel(n_jobs=5)]: Batch computation too fast (0.0718s.) Setting batch_size=4.\n",
            "[Parallel(n_jobs=5)]: Done  20 tasks      | elapsed:    0.1s\n",
            "[Parallel(n_jobs=5)]: Batch computation too fast (0.0590s.) Setting batch_size=8.\n",
            "[Parallel(n_jobs=5)]: Done  38 tasks      | elapsed:    0.2s\n",
            "[Parallel(n_jobs=5)]: Done  78 tasks      | elapsed:    0.4s\n",
            "[Parallel(n_jobs=5)]: Batch computation too fast (0.1769s.) Setting batch_size=16.\n",
            "[Parallel(n_jobs=5)]: Done 136 tasks      | elapsed:    0.5s\n",
            "[Parallel(n_jobs=5)]: Done 154 tasks      | elapsed:    0.6s\n",
            "[Parallel(n_jobs=5)]: Done 172 tasks      | elapsed:    0.6s\n",
            "[Parallel(n_jobs=5)]: Done 185 tasks      | elapsed:    0.7s\n",
            "[Parallel(n_jobs=5)]: Done 200 out of 200 | elapsed:    0.7s finished\n",
            "[Parallel(n_jobs=5)]: Using backend LokyBackend with 5 concurrent workers.\n",
            "[Parallel(n_jobs=5)]: Batch computation too fast (0.0077s.) Setting batch_size=2.\n",
            "[Parallel(n_jobs=5)]: Done   3 tasks      | elapsed:    0.0s\n",
            "[Parallel(n_jobs=5)]: Done   8 tasks      | elapsed:    0.0s\n",
            "[Parallel(n_jobs=5)]: Batch computation too fast (0.0418s.) Setting batch_size=4.\n"
          ],
          "name": "stderr"
        },
        {
          "output_type": "stream",
          "text": [
            "it 7/10\n",
            "Fitting 5 folds for each of 20 candidates, totalling 100 fits\n"
          ],
          "name": "stdout"
        },
        {
          "output_type": "stream",
          "text": [
            "[Parallel(n_jobs=5)]: Done  20 tasks      | elapsed:    0.1s\n",
            "[Parallel(n_jobs=5)]: Batch computation too fast (0.0683s.) Setting batch_size=8.\n",
            "[Parallel(n_jobs=5)]: Done  38 tasks      | elapsed:    0.3s\n",
            "[Parallel(n_jobs=5)]: Done  65 tasks      | elapsed:    0.3s\n",
            "[Parallel(n_jobs=5)]: Done  80 tasks      | elapsed:    0.3s\n",
            "[Parallel(n_jobs=5)]: Done  91 tasks      | elapsed:    0.4s\n",
            "[Parallel(n_jobs=5)]: Done 100 out of 100 | elapsed:    0.4s finished\n",
            "[Parallel(n_jobs=5)]: Using backend LokyBackend with 5 concurrent workers.\n",
            "[Parallel(n_jobs=5)]: Batch computation too fast (0.0196s.) Setting batch_size=2.\n",
            "[Parallel(n_jobs=5)]: Done   3 tasks      | elapsed:    0.0s\n",
            "[Parallel(n_jobs=5)]: Done   8 tasks      | elapsed:    0.0s\n",
            "[Parallel(n_jobs=5)]: Batch computation too fast (0.0371s.) Setting batch_size=4.\n",
            "[Parallel(n_jobs=5)]: Done  20 tasks      | elapsed:    0.1s\n",
            "[Parallel(n_jobs=5)]: Batch computation too fast (0.0763s.) Setting batch_size=8.\n"
          ],
          "name": "stderr"
        },
        {
          "output_type": "stream",
          "text": [
            "Fitting 5 folds for each of 40 candidates, totalling 200 fits\n"
          ],
          "name": "stdout"
        },
        {
          "output_type": "stream",
          "text": [
            "[Parallel(n_jobs=5)]: Done  38 tasks      | elapsed:    0.2s\n",
            "[Parallel(n_jobs=5)]: Done  78 tasks      | elapsed:    0.3s\n",
            "[Parallel(n_jobs=5)]: Batch computation too fast (0.1140s.) Setting batch_size=16.\n",
            "[Parallel(n_jobs=5)]: Done 136 tasks      | elapsed:    0.5s\n",
            "[Parallel(n_jobs=5)]: Done 161 tasks      | elapsed:    0.5s\n",
            "[Parallel(n_jobs=5)]: Done 172 tasks      | elapsed:    0.6s\n",
            "[Parallel(n_jobs=5)]: Done 185 tasks      | elapsed:    0.6s\n",
            "[Parallel(n_jobs=5)]: Done 200 out of 200 | elapsed:    0.7s finished\n",
            "[Parallel(n_jobs=5)]: Using backend LokyBackend with 5 concurrent workers.\n",
            "[Parallel(n_jobs=5)]: Batch computation too fast (0.0147s.) Setting batch_size=2.\n",
            "[Parallel(n_jobs=5)]: Done   3 tasks      | elapsed:    0.0s\n",
            "[Parallel(n_jobs=5)]: Done   8 tasks      | elapsed:    0.0s\n",
            "[Parallel(n_jobs=5)]: Batch computation too fast (0.0393s.) Setting batch_size=4.\n",
            "[Parallel(n_jobs=5)]: Done  20 tasks      | elapsed:    0.1s\n",
            "[Parallel(n_jobs=5)]: Batch computation too fast (0.0871s.) Setting batch_size=8.\n"
          ],
          "name": "stderr"
        },
        {
          "output_type": "stream",
          "text": [
            "it 8/10\n",
            "Fitting 5 folds for each of 20 candidates, totalling 100 fits\n"
          ],
          "name": "stdout"
        },
        {
          "output_type": "stream",
          "text": [
            "[Parallel(n_jobs=5)]: Done  38 tasks      | elapsed:    0.2s\n",
            "[Parallel(n_jobs=5)]: Done  65 tasks      | elapsed:    0.3s\n",
            "[Parallel(n_jobs=5)]: Done  80 tasks      | elapsed:    0.3s\n",
            "[Parallel(n_jobs=5)]: Done  91 tasks      | elapsed:    0.3s\n",
            "[Parallel(n_jobs=5)]: Done 100 out of 100 | elapsed:    0.4s finished\n",
            "[Parallel(n_jobs=5)]: Using backend LokyBackend with 5 concurrent workers.\n",
            "[Parallel(n_jobs=5)]: Batch computation too fast (0.0099s.) Setting batch_size=2.\n",
            "[Parallel(n_jobs=5)]: Done   3 tasks      | elapsed:    0.0s\n"
          ],
          "name": "stderr"
        },
        {
          "output_type": "stream",
          "text": [
            "Fitting 5 folds for each of 40 candidates, totalling 200 fits\n"
          ],
          "name": "stdout"
        },
        {
          "output_type": "stream",
          "text": [
            "[Parallel(n_jobs=5)]: Done   8 tasks      | elapsed:    0.1s\n",
            "[Parallel(n_jobs=5)]: Batch computation too fast (0.0457s.) Setting batch_size=4.\n",
            "[Parallel(n_jobs=5)]: Done  20 tasks      | elapsed:    0.1s\n",
            "[Parallel(n_jobs=5)]: Batch computation too fast (0.0957s.) Setting batch_size=8.\n",
            "[Parallel(n_jobs=5)]: Done  38 tasks      | elapsed:    0.3s\n",
            "[Parallel(n_jobs=5)]: Done  78 tasks      | elapsed:    0.4s\n",
            "[Parallel(n_jobs=5)]: Batch computation too fast (0.1355s.) Setting batch_size=16.\n",
            "[Parallel(n_jobs=5)]: Done 129 tasks      | elapsed:    0.5s\n",
            "[Parallel(n_jobs=5)]: Done 161 tasks      | elapsed:    0.6s\n",
            "[Parallel(n_jobs=5)]: Done 172 tasks      | elapsed:    0.6s\n",
            "[Parallel(n_jobs=5)]: Done 185 tasks      | elapsed:    0.7s\n",
            "[Parallel(n_jobs=5)]: Done 200 out of 200 | elapsed:    0.7s finished\n",
            "[Parallel(n_jobs=5)]: Using backend LokyBackend with 5 concurrent workers.\n",
            "[Parallel(n_jobs=5)]: Batch computation too fast (0.0234s.) Setting batch_size=2.\n",
            "[Parallel(n_jobs=5)]: Done   3 tasks      | elapsed:    0.0s\n",
            "[Parallel(n_jobs=5)]: Done   8 tasks      | elapsed:    0.1s\n",
            "[Parallel(n_jobs=5)]: Batch computation too fast (0.0325s.) Setting batch_size=4.\n",
            "[Parallel(n_jobs=5)]: Done  20 tasks      | elapsed:    0.1s\n",
            "[Parallel(n_jobs=5)]: Batch computation too fast (0.0714s.) Setting batch_size=8.\n"
          ],
          "name": "stderr"
        },
        {
          "output_type": "stream",
          "text": [
            "it 9/10\n",
            "Fitting 5 folds for each of 20 candidates, totalling 100 fits\n"
          ],
          "name": "stdout"
        },
        {
          "output_type": "stream",
          "text": [
            "[Parallel(n_jobs=5)]: Done  38 tasks      | elapsed:    0.2s\n",
            "[Parallel(n_jobs=5)]: Done  71 tasks      | elapsed:    0.2s\n",
            "[Parallel(n_jobs=5)]: Done  80 tasks      | elapsed:    0.3s\n",
            "[Parallel(n_jobs=5)]: Done  91 tasks      | elapsed:    0.3s\n",
            "[Parallel(n_jobs=5)]: Done 100 out of 100 | elapsed:    0.3s finished\n",
            "[Parallel(n_jobs=5)]: Using backend LokyBackend with 5 concurrent workers.\n",
            "[Parallel(n_jobs=5)]: Batch computation too fast (0.0145s.) Setting batch_size=2.\n",
            "[Parallel(n_jobs=5)]: Done   3 tasks      | elapsed:    0.0s\n",
            "[Parallel(n_jobs=5)]: Done   8 tasks      | elapsed:    0.0s\n"
          ],
          "name": "stderr"
        },
        {
          "output_type": "stream",
          "text": [
            "Fitting 5 folds for each of 40 candidates, totalling 200 fits\n"
          ],
          "name": "stdout"
        },
        {
          "output_type": "stream",
          "text": [
            "[Parallel(n_jobs=5)]: Batch computation too fast (0.0363s.) Setting batch_size=4.\n",
            "[Parallel(n_jobs=5)]: Done  20 tasks      | elapsed:    0.1s\n",
            "[Parallel(n_jobs=5)]: Batch computation too fast (0.1049s.) Setting batch_size=8.\n",
            "[Parallel(n_jobs=5)]: Done  38 tasks      | elapsed:    0.2s\n",
            "[Parallel(n_jobs=5)]: Done  78 tasks      | elapsed:    0.4s\n",
            "[Parallel(n_jobs=5)]: Batch computation too fast (0.1387s.) Setting batch_size=16.\n",
            "[Parallel(n_jobs=5)]: Done 143 tasks      | elapsed:    0.5s\n",
            "[Parallel(n_jobs=5)]: Done 161 tasks      | elapsed:    0.6s\n",
            "[Parallel(n_jobs=5)]: Done 172 tasks      | elapsed:    0.6s\n",
            "[Parallel(n_jobs=5)]: Done 185 tasks      | elapsed:    0.7s\n",
            "[Parallel(n_jobs=5)]: Done 200 out of 200 | elapsed:    0.7s finished\n",
            "[Parallel(n_jobs=5)]: Using backend LokyBackend with 5 concurrent workers.\n",
            "[Parallel(n_jobs=5)]: Batch computation too fast (0.0104s.) Setting batch_size=2.\n",
            "[Parallel(n_jobs=5)]: Done   3 tasks      | elapsed:    0.0s\n",
            "[Parallel(n_jobs=5)]: Done   8 tasks      | elapsed:    0.0s\n",
            "[Parallel(n_jobs=5)]: Batch computation too fast (0.0351s.) Setting batch_size=4.\n"
          ],
          "name": "stderr"
        },
        {
          "output_type": "stream",
          "text": [
            "it 10/10\n",
            "Fitting 5 folds for each of 20 candidates, totalling 100 fits\n"
          ],
          "name": "stdout"
        },
        {
          "output_type": "stream",
          "text": [
            "[Parallel(n_jobs=5)]: Done  20 tasks      | elapsed:    0.1s\n",
            "[Parallel(n_jobs=5)]: Batch computation too fast (0.0665s.) Setting batch_size=8.\n",
            "[Parallel(n_jobs=5)]: Done  38 tasks      | elapsed:    0.2s\n",
            "[Parallel(n_jobs=5)]: Done  68 tasks      | elapsed:    0.2s\n",
            "[Parallel(n_jobs=5)]: Done  80 tasks      | elapsed:    0.3s\n",
            "[Parallel(n_jobs=5)]: Done  91 tasks      | elapsed:    0.3s\n",
            "[Parallel(n_jobs=5)]: Done 100 out of 100 | elapsed:    0.3s finished\n",
            "[Parallel(n_jobs=5)]: Using backend LokyBackend with 5 concurrent workers.\n",
            "[Parallel(n_jobs=5)]: Batch computation too fast (0.0091s.) Setting batch_size=2.\n",
            "[Parallel(n_jobs=5)]: Done   3 tasks      | elapsed:    0.0s\n",
            "[Parallel(n_jobs=5)]: Done   8 tasks      | elapsed:    0.1s\n",
            "[Parallel(n_jobs=5)]: Batch computation too fast (0.0500s.) Setting batch_size=4.\n",
            "[Parallel(n_jobs=5)]: Done  20 tasks      | elapsed:    0.1s\n",
            "[Parallel(n_jobs=5)]: Batch computation too fast (0.0673s.) Setting batch_size=8.\n"
          ],
          "name": "stderr"
        },
        {
          "output_type": "stream",
          "text": [
            "Fitting 5 folds for each of 40 candidates, totalling 200 fits\n"
          ],
          "name": "stdout"
        },
        {
          "output_type": "stream",
          "text": [
            "[Parallel(n_jobs=5)]: Done  38 tasks      | elapsed:    0.2s\n",
            "[Parallel(n_jobs=5)]: Done  78 tasks      | elapsed:    0.4s\n",
            "[Parallel(n_jobs=5)]: Batch computation too fast (0.1270s.) Setting batch_size=16.\n",
            "[Parallel(n_jobs=5)]: Done 136 tasks      | elapsed:    0.5s\n",
            "[Parallel(n_jobs=5)]: Done 154 tasks      | elapsed:    0.6s\n",
            "[Parallel(n_jobs=5)]: Done 172 tasks      | elapsed:    0.6s\n",
            "[Parallel(n_jobs=5)]: Done 185 tasks      | elapsed:    0.7s\n",
            "[Parallel(n_jobs=5)]: Done 200 out of 200 | elapsed:    0.7s finished\n"
          ],
          "name": "stderr"
        }
      ]
    },
    {
      "cell_type": "code",
      "metadata": {
        "id": "d7bOcltTObMA",
        "colab_type": "code",
        "outputId": "030d52e5-afed-441e-d3d7-fdf3cc537a7c",
        "colab": {
          "base_uri": "https://localhost:8080/",
          "height": 265
        }
      },
      "source": [
        "plt.boxplot(MAE_R)\n",
        "plt.xticks(ticks=np.arange(len(steps))+1,labels=label_model_R)\n",
        "plt.show()"
      ],
      "execution_count": 101,
      "outputs": [
        {
          "output_type": "display_data",
          "data": {
            "image/png": "[encoded data removed]",
            "text/plain": [
              "<Figure size 432x288 with 1 Axes>"
            ]
          },
          "metadata": {
            "tags": [],
            "needs_background": "light"
          }
        }
      ]
    },
    {
      "cell_type": "code",
      "metadata": {
        "id": "l9UlXvH6ObXp",
        "colab_type": "code",
        "outputId": "dca65cbd-ed39-4983-eee2-0514f636b2b0",
        "colab": {
          "base_uri": "https://localhost:8080/",
          "height": 187
        }
      },
      "source": [
        "MAE_R"
      ],
      "execution_count": 102,
      "outputs": [
        {
          "output_type": "execute_result",
          "data": {
            "text/plain": [
              "array([[ 9110.32106808, 15810.08745072],\n",
              "       [ 9728.71977401, 14166.07293856],\n",
              "       [ 3857.63240374, 14889.92092659],\n",
              "       [ 5013.47290729, 20721.9269375 ],\n",
              "       [ 7904.96549947, 30118.71075973],\n",
              "       [ 5976.33929983, 14214.27547327],\n",
              "       [11174.53405969, 20655.21934795],\n",
              "       [ 6970.63411613, 16569.25495428],\n",
              "       [ 5662.439818  , 12367.77413315],\n",
              "       [ 5118.09396707, 13551.50829854]])"
            ]
          },
          "metadata": {
            "tags": []
          },
          "execution_count": 102
        }
      ]
    },
    {
      "cell_type": "code",
      "metadata": {
        "id": "lFnP83SLObjy",
        "colab_type": "code",
        "outputId": "9026b851-1b59-408d-ca2b-4cb28d5ac4b3",
        "colab": {
          "base_uri": "https://localhost:8080/",
          "height": 357
        }
      },
      "source": [
        "B_Hiperpara_R"
      ],
      "execution_count": 103,
      "outputs": [
        {
          "output_type": "execute_result",
          "data": {
            "text/plain": [
              "[{'reg__alpha': 0.001, 'reg__solver': 'lsqr'},\n",
              " {'reg__alpha': 0.1, 'reg__solver': 'sag', 'rep__n_components': 0.9},\n",
              " {'reg__alpha': 0.001, 'reg__solver': 'lsqr'},\n",
              " {'reg__alpha': 1, 'reg__solver': 'sag', 'rep__n_components': 0.9},\n",
              " {'reg__alpha': 0.001, 'reg__solver': 'cholesky'},\n",
              " {'reg__alpha': 0.1, 'reg__solver': 'saga', 'rep__n_components': 0.9},\n",
              " {'reg__alpha': 0.01, 'reg__solver': 'lsqr'},\n",
              " {'reg__alpha': 0.01, 'reg__solver': 'saga', 'rep__n_components': 0.5},\n",
              " {'reg__alpha': 0.001, 'reg__solver': 'lsqr'},\n",
              " {'reg__alpha': 0.1, 'reg__solver': 'saga', 'rep__n_components': 0.5},\n",
              " {'reg__alpha': 0.001, 'reg__solver': 'lsqr'},\n",
              " {'reg__alpha': 0.001, 'reg__solver': 'saga', 'rep__n_components': 0.9},\n",
              " {'reg__alpha': 0.01, 'reg__solver': 'cholesky'},\n",
              " {'reg__alpha': 0.01, 'reg__solver': 'sag', 'rep__n_components': 0.9},\n",
              " {'reg__alpha': 0.01, 'reg__solver': 'lsqr'},\n",
              " {'reg__alpha': 0.01, 'reg__solver': 'sag', 'rep__n_components': 0.9},\n",
              " {'reg__alpha': 0.01, 'reg__solver': 'lsqr'},\n",
              " {'reg__alpha': 1, 'reg__solver': 'saga', 'rep__n_components': 0.5},\n",
              " {'reg__alpha': 0.01, 'reg__solver': 'lsqr'},\n",
              " {'reg__alpha': 0.1, 'reg__solver': 'saga', 'rep__n_components': 0.9}]"
            ]
          },
          "metadata": {
            "tags": []
          },
          "execution_count": 103
        }
      ]
    },
    {
      "cell_type": "code",
      "metadata": {
        "id": "ytGwDKk4Obxs",
        "colab_type": "code",
        "outputId": "bc1b10a4-7513-4e14-cc9e-63c945324cdf",
        "colab": {
          "base_uri": "https://localhost:8080/",
          "height": 153
        }
      },
      "source": [
        "steps =  [('scaler', StandardScaler()),\n",
        "          #('rep', PCA(n_components=0.5)),                         \n",
        "          ('reg', Ridge(alpha=0.001, solver='lsqr'))]\n",
        "\n",
        "Mod_SC_R = Pipeline(steps = steps)\n",
        "Mod_SC_R.fit(X_train,y_train)"
      ],
      "execution_count": 104,
      "outputs": [
        {
          "output_type": "execute_result",
          "data": {
            "text/plain": [
              "Pipeline(memory=None,\n",
              "         steps=[('scaler',\n",
              "                 StandardScaler(copy=True, with_mean=True, with_std=True)),\n",
              "                ('reg',\n",
              "                 Ridge(alpha=0.001, copy_X=True, fit_intercept=True,\n",
              "                       max_iter=None, normalize=False, random_state=None,\n",
              "                       solver='lsqr', tol=0.001))],\n",
              "         verbose=False)"
            ]
          },
          "metadata": {
            "tags": []
          },
          "execution_count": 104
        }
      ]
    },
    {
      "cell_type": "code",
      "metadata": {
        "id": "i5-8YcKLRNan",
        "colab_type": "code",
        "outputId": "f20aee46-eecb-44bf-e2b4-e38f2ab1185f",
        "colab": {
          "base_uri": "https://localhost:8080/",
          "height": 51
        }
      },
      "source": [
        "Xn = X[-1]\n",
        "#Xn = [4881, 5142, 5379, 5948, 6207]\n",
        "#Xn=np.matrix([Xn])\n",
        "\n",
        "Xn = Xn.reshape(1,-1)\n",
        "Pre_SC_R = Mod_SC_R.predict(Xn)\n",
        "\n",
        "print('Número de contagiados en los últimos 5 días:',Xn)\n",
        "print('Predicción contagios para',date.today(),'usando un modelo LinearRidge:',Pre_SC_R)"
      ],
      "execution_count": 105,
      "outputs": [
        {
          "output_type": "stream",
          "text": [
            "Número de contagiados en los últimos 5 días: [[4561 4881 5142 5379 5597]]\n",
            "Predicción contagios para 2020-04-30 usando un modelo LinearRidge: [[6175.62330528]]\n"
          ],
          "name": "stdout"
        }
      ]
    },
    {
      "cell_type": "markdown",
      "metadata": {
        "id": "FbXXkFt7TT6F",
        "colab_type": "text"
      },
      "source": [
        "#### Validación Cruzada Anidada Lasso:\n",
        "\n",
        "- Normalización StandadScalar\n",
        "- Representación PCA\n",
        "- Regresor LinearLasso"
      ]
    },
    {
      "cell_type": "code",
      "metadata": {
        "id": "3ci1lFcRTUYy",
        "colab_type": "code",
        "outputId": "574cc015-8b00-4f83-f283-1d948f9f37ce",
        "colab": {
          "base_uri": "https://localhost:8080/",
          "height": 1000
        }
      },
      "source": [
        "steps = [\n",
        "         [('scaler', StandardScaler()),           #estandarizar cada atributo columna de xtrain centrada en 0 y var = 1\n",
        "          ('reg',  Lasso())],\n",
        "         [('scaler', StandardScaler()),\n",
        "          ('rep', PCA()),                         \n",
        "          ('reg',  Lasso())]\n",
        "          ]\n",
        "\n",
        "parameters = [\n",
        "                {'reg__alpha':[1e-3,1e-2,1e-1,1],\n",
        "                 },\n",
        "                {'rep__n_components':[0.5,0.75,0.9],\n",
        "                 'reg__alpha':[1e-3,1e-2,1e-1,1],\n",
        "                 }\n",
        "               ]\n",
        "\n",
        "label_model_L = ['NorSC-L','NorSC-PCA-L']\n",
        "\n",
        "B_Model_L, B_Hiperpara_L, MAE_L = V_Cruzada_Anidada(X,y,steps,parameters)"
      ],
      "execution_count": 106,
      "outputs": [
        {
          "output_type": "stream",
          "text": [
            "it 1/10\n",
            "Fitting 5 folds for each of 4 candidates, totalling 20 fits\n",
            "Fitting 5 folds for each of 12 candidates, totalling 60 fits\n"
          ],
          "name": "stdout"
        },
        {
          "output_type": "stream",
          "text": [
            "[Parallel(n_jobs=5)]: Using backend LokyBackend with 5 concurrent workers.\n",
            "[Parallel(n_jobs=5)]: Batch computation too fast (0.0101s.) Setting batch_size=2.\n",
            "[Parallel(n_jobs=5)]: Done   3 tasks      | elapsed:    0.1s\n",
            "[Parallel(n_jobs=5)]: Done   8 out of  20 | elapsed:    0.1s remaining:    0.2s\n",
            "[Parallel(n_jobs=5)]: Done  14 out of  20 | elapsed:    0.2s remaining:    0.1s\n",
            "[Parallel(n_jobs=5)]: Done  20 out of  20 | elapsed:    0.2s remaining:    0.0s\n",
            "[Parallel(n_jobs=5)]: Done  20 out of  20 | elapsed:    0.2s finished\n",
            "/usr/local/lib/python3.6/dist-packages/sklearn/linear_model/_coordinate_descent.py:476: ConvergenceWarning: Objective did not converge. You might want to increase the number of iterations. Duality gap: 175937.94235787392, tolerance: 21179.479424615387\n",
            "  positive)\n",
            "[Parallel(n_jobs=5)]: Using backend LokyBackend with 5 concurrent workers.\n",
            "[Parallel(n_jobs=5)]: Batch computation too fast (0.0121s.) Setting batch_size=2.\n",
            "[Parallel(n_jobs=5)]: Done   3 tasks      | elapsed:    0.0s\n",
            "[Parallel(n_jobs=5)]: Done   8 tasks      | elapsed:    0.1s\n",
            "[Parallel(n_jobs=5)]: Batch computation too fast (0.0410s.) Setting batch_size=4.\n",
            "[Parallel(n_jobs=5)]: Done  20 tasks      | elapsed:    0.1s\n",
            "[Parallel(n_jobs=5)]: Batch computation too fast (0.0790s.) Setting batch_size=8.\n",
            "[Parallel(n_jobs=5)]: Done  38 tasks      | elapsed:    0.2s\n",
            "[Parallel(n_jobs=5)]: Done  51 out of  60 | elapsed:    0.2s remaining:    0.0s\n",
            "[Parallel(n_jobs=5)]: Done  58 out of  60 | elapsed:    0.3s remaining:    0.0s\n",
            "[Parallel(n_jobs=5)]: Done  60 out of  60 | elapsed:    0.3s finished\n",
            "[Parallel(n_jobs=5)]: Using backend LokyBackend with 5 concurrent workers.\n",
            "[Parallel(n_jobs=5)]: Batch computation too fast (0.0097s.) Setting batch_size=2.\n",
            "[Parallel(n_jobs=5)]: Batch computation too fast (0.0097s.) Setting batch_size=4.\n",
            "[Parallel(n_jobs=5)]: Done   2 tasks      | elapsed:    0.0s\n",
            "[Parallel(n_jobs=5)]: Done   6 tasks      | elapsed:    0.0s\n",
            "[Parallel(n_jobs=5)]: Done  11 tasks      | elapsed:    0.1s\n",
            "[Parallel(n_jobs=5)]: Done  17 out of  20 | elapsed:    0.1s remaining:    0.0s\n",
            "[Parallel(n_jobs=5)]: Done  20 out of  20 | elapsed:    0.1s remaining:    0.0s\n",
            "[Parallel(n_jobs=5)]: Done  20 out of  20 | elapsed:    0.1s finished\n",
            "/usr/local/lib/python3.6/dist-packages/sklearn/linear_model/_coordinate_descent.py:476: ConvergenceWarning: Objective did not converge. You might want to increase the number of iterations. Duality gap: 141900.03430328576, tolerance: 19869.63875384616\n",
            "  positive)\n",
            "[Parallel(n_jobs=5)]: Using backend LokyBackend with 5 concurrent workers.\n",
            "[Parallel(n_jobs=5)]: Batch computation too fast (0.0099s.) Setting batch_size=2.\n",
            "[Parallel(n_jobs=5)]: Done   3 tasks      | elapsed:    0.0s\n",
            "[Parallel(n_jobs=5)]: Done   8 tasks      | elapsed:    0.1s\n",
            "[Parallel(n_jobs=5)]: Batch computation too fast (0.0467s.) Setting batch_size=4.\n"
          ],
          "name": "stderr"
        },
        {
          "output_type": "stream",
          "text": [
            "it 2/10\n",
            "Fitting 5 folds for each of 4 candidates, totalling 20 fits\n",
            "Fitting 5 folds for each of 12 candidates, totalling 60 fits\n"
          ],
          "name": "stdout"
        },
        {
          "output_type": "stream",
          "text": [
            "[Parallel(n_jobs=5)]: Done  20 tasks      | elapsed:    0.1s\n",
            "[Parallel(n_jobs=5)]: Batch computation too fast (0.0685s.) Setting batch_size=8.\n",
            "[Parallel(n_jobs=5)]: Done  35 tasks      | elapsed:    0.2s\n",
            "[Parallel(n_jobs=5)]: Done  51 out of  60 | elapsed:    0.2s remaining:    0.0s\n",
            "[Parallel(n_jobs=5)]: Done  58 out of  60 | elapsed:    0.2s remaining:    0.0s\n",
            "[Parallel(n_jobs=5)]: Done  60 out of  60 | elapsed:    0.3s finished\n",
            "[Parallel(n_jobs=5)]: Using backend LokyBackend with 5 concurrent workers.\n",
            "[Parallel(n_jobs=5)]: Batch computation too fast (0.0119s.) Setting batch_size=2.\n",
            "[Parallel(n_jobs=5)]: Done   3 tasks      | elapsed:    0.0s\n"
          ],
          "name": "stderr"
        },
        {
          "output_type": "stream",
          "text": [
            "it 3/10\n",
            "Fitting 5 folds for each of 4 candidates, totalling 20 fits\n",
            "Fitting 5 folds for each of 12 candidates, totalling 60 fits\n"
          ],
          "name": "stdout"
        },
        {
          "output_type": "stream",
          "text": [
            "[Parallel(n_jobs=5)]: Done   8 out of  20 | elapsed:    0.0s remaining:    0.1s\n",
            "[Parallel(n_jobs=5)]: Done  14 out of  20 | elapsed:    0.1s remaining:    0.0s\n",
            "[Parallel(n_jobs=5)]: Done  20 out of  20 | elapsed:    0.1s remaining:    0.0s\n",
            "[Parallel(n_jobs=5)]: Done  20 out of  20 | elapsed:    0.1s finished\n",
            "/usr/local/lib/python3.6/dist-packages/sklearn/linear_model/_coordinate_descent.py:476: ConvergenceWarning: Objective did not converge. You might want to increase the number of iterations. Duality gap: 188229.0705654481, tolerance: 17936.93677846154\n",
            "  positive)\n",
            "[Parallel(n_jobs=5)]: Using backend LokyBackend with 5 concurrent workers.\n",
            "[Parallel(n_jobs=5)]: Batch computation too fast (0.0067s.) Setting batch_size=2.\n",
            "[Parallel(n_jobs=5)]: Batch computation too fast (0.0067s.) Setting batch_size=4.\n",
            "[Parallel(n_jobs=5)]: Done   2 tasks      | elapsed:    0.0s\n",
            "[Parallel(n_jobs=5)]: Done   7 tasks      | elapsed:    0.0s\n",
            "[Parallel(n_jobs=5)]: Batch computation too fast (0.0488s.) Setting batch_size=8.\n",
            "[Parallel(n_jobs=5)]: Done  18 tasks      | elapsed:    0.1s\n",
            "[Parallel(n_jobs=5)]: Done  46 tasks      | elapsed:    0.2s\n",
            "[Parallel(n_jobs=5)]: Done  58 out of  60 | elapsed:    0.2s remaining:    0.0s\n",
            "[Parallel(n_jobs=5)]: Done  60 out of  60 | elapsed:    0.2s finished\n",
            "[Parallel(n_jobs=5)]: Using backend LokyBackend with 5 concurrent workers.\n",
            "[Parallel(n_jobs=5)]: Batch computation too fast (0.0090s.) Setting batch_size=2.\n",
            "[Parallel(n_jobs=5)]: Done   3 tasks      | elapsed:    0.0s\n",
            "[Parallel(n_jobs=5)]: Done   8 out of  20 | elapsed:    0.0s remaining:    0.1s\n",
            "[Parallel(n_jobs=5)]: Done  14 out of  20 | elapsed:    0.1s remaining:    0.0s\n",
            "[Parallel(n_jobs=5)]: Done  20 out of  20 | elapsed:    0.1s remaining:    0.0s\n",
            "[Parallel(n_jobs=5)]: Done  20 out of  20 | elapsed:    0.1s finished\n",
            "/usr/local/lib/python3.6/dist-packages/sklearn/linear_model/_coordinate_descent.py:476: ConvergenceWarning: Objective did not converge. You might want to increase the number of iterations. Duality gap: 37992.35801829031, tolerance: 19951.84688615385\n",
            "  positive)\n",
            "[Parallel(n_jobs=5)]: Using backend LokyBackend with 5 concurrent workers.\n",
            "[Parallel(n_jobs=5)]: Batch computation too fast (0.0077s.) Setting batch_size=2.\n",
            "[Parallel(n_jobs=5)]: Batch computation too fast (0.0077s.) Setting batch_size=4.\n",
            "[Parallel(n_jobs=5)]: Done   7 tasks      | elapsed:    0.1s\n"
          ],
          "name": "stderr"
        },
        {
          "output_type": "stream",
          "text": [
            "it 4/10\n",
            "Fitting 5 folds for each of 4 candidates, totalling 20 fits\n",
            "Fitting 5 folds for each of 12 candidates, totalling 60 fits\n"
          ],
          "name": "stdout"
        },
        {
          "output_type": "stream",
          "text": [
            "[Parallel(n_jobs=5)]: Batch computation too fast (0.0352s.) Setting batch_size=8.\n",
            "[Parallel(n_jobs=5)]: Done  18 tasks      | elapsed:    0.1s\n",
            "[Parallel(n_jobs=5)]: Done  46 tasks      | elapsed:    0.2s\n",
            "[Parallel(n_jobs=5)]: Done  58 out of  60 | elapsed:    0.2s remaining:    0.0s\n",
            "[Parallel(n_jobs=5)]: Done  60 out of  60 | elapsed:    0.2s finished\n",
            "[Parallel(n_jobs=5)]: Using backend LokyBackend with 5 concurrent workers.\n",
            "[Parallel(n_jobs=5)]: Batch computation too fast (0.0092s.) Setting batch_size=2.\n",
            "[Parallel(n_jobs=5)]: Done   3 tasks      | elapsed:    0.0s\n",
            "[Parallel(n_jobs=5)]: Done   8 out of  20 | elapsed:    0.1s remaining:    0.1s\n",
            "[Parallel(n_jobs=5)]: Done  14 out of  20 | elapsed:    0.1s remaining:    0.0s\n"
          ],
          "name": "stderr"
        },
        {
          "output_type": "stream",
          "text": [
            "it 5/10\n",
            "Fitting 5 folds for each of 4 candidates, totalling 20 fits\n",
            "Fitting 5 folds for each of 12 candidates, totalling 60 fits\n"
          ],
          "name": "stdout"
        },
        {
          "output_type": "stream",
          "text": [
            "[Parallel(n_jobs=5)]: Done  20 out of  20 | elapsed:    0.1s remaining:    0.0s\n",
            "[Parallel(n_jobs=5)]: Done  20 out of  20 | elapsed:    0.1s finished\n",
            "/usr/local/lib/python3.6/dist-packages/sklearn/linear_model/_coordinate_descent.py:476: ConvergenceWarning: Objective did not converge. You might want to increase the number of iterations. Duality gap: 43169.72040058975, tolerance: 22585.774384615383\n",
            "  positive)\n",
            "[Parallel(n_jobs=5)]: Using backend LokyBackend with 5 concurrent workers.\n",
            "[Parallel(n_jobs=5)]: Batch computation too fast (0.0071s.) Setting batch_size=2.\n",
            "[Parallel(n_jobs=5)]: Batch computation too fast (0.0071s.) Setting batch_size=4.\n",
            "[Parallel(n_jobs=5)]: Done   4 tasks      | elapsed:    0.0s\n",
            "[Parallel(n_jobs=5)]: Done   9 tasks      | elapsed:    0.1s\n",
            "[Parallel(n_jobs=5)]: Batch computation too fast (0.0960s.) Setting batch_size=8.\n",
            "[Parallel(n_jobs=5)]: Done  34 tasks      | elapsed:    0.2s\n",
            "[Parallel(n_jobs=5)]: Done  58 out of  60 | elapsed:    0.3s remaining:    0.0s\n",
            "[Parallel(n_jobs=5)]: Done  60 out of  60 | elapsed:    0.3s finished\n",
            "[Parallel(n_jobs=5)]: Using backend LokyBackend with 5 concurrent workers.\n",
            "[Parallel(n_jobs=5)]: Batch computation too fast (0.0066s.) Setting batch_size=2.\n",
            "[Parallel(n_jobs=5)]: Batch computation too fast (0.0066s.) Setting batch_size=4.\n",
            "[Parallel(n_jobs=5)]: Done   2 tasks      | elapsed:    0.0s\n",
            "[Parallel(n_jobs=5)]: Done   4 tasks      | elapsed:    0.0s\n",
            "[Parallel(n_jobs=5)]: Done   7 tasks      | elapsed:    0.0s\n",
            "[Parallel(n_jobs=5)]: Done  12 tasks      | elapsed:    0.1s\n",
            "[Parallel(n_jobs=5)]: Done  17 out of  20 | elapsed:    0.1s remaining:    0.0s\n",
            "[Parallel(n_jobs=5)]: Done  20 out of  20 | elapsed:    0.1s remaining:    0.0s\n",
            "[Parallel(n_jobs=5)]: Done  20 out of  20 | elapsed:    0.1s finished\n",
            "/usr/local/lib/python3.6/dist-packages/sklearn/linear_model/_coordinate_descent.py:476: ConvergenceWarning: Objective did not converge. You might want to increase the number of iterations. Duality gap: 228276.93928605886, tolerance: 21564.983975384614\n",
            "  positive)\n",
            "[Parallel(n_jobs=5)]: Using backend LokyBackend with 5 concurrent workers.\n",
            "[Parallel(n_jobs=5)]: Batch computation too fast (0.0098s.) Setting batch_size=2.\n",
            "[Parallel(n_jobs=5)]: Done   3 tasks      | elapsed:    0.0s\n"
          ],
          "name": "stderr"
        },
        {
          "output_type": "stream",
          "text": [
            "it 6/10\n",
            "Fitting 5 folds for each of 4 candidates, totalling 20 fits\n",
            "Fitting 5 folds for each of 12 candidates, totalling 60 fits\n"
          ],
          "name": "stdout"
        },
        {
          "output_type": "stream",
          "text": [
            "[Parallel(n_jobs=5)]: Done   8 tasks      | elapsed:    0.1s\n",
            "[Parallel(n_jobs=5)]: Batch computation too fast (0.0823s.) Setting batch_size=4.\n",
            "[Parallel(n_jobs=5)]: Done  20 tasks      | elapsed:    0.2s\n",
            "[Parallel(n_jobs=5)]: Batch computation too fast (0.0388s.) Setting batch_size=8.\n",
            "[Parallel(n_jobs=5)]: Done  38 tasks      | elapsed:    0.2s\n",
            "[Parallel(n_jobs=5)]: Done  58 out of  60 | elapsed:    0.2s remaining:    0.0s\n",
            "[Parallel(n_jobs=5)]: Done  60 out of  60 | elapsed:    0.2s finished\n",
            "[Parallel(n_jobs=5)]: Using backend LokyBackend with 5 concurrent workers.\n",
            "[Parallel(n_jobs=5)]: Batch computation too fast (0.0105s.) Setting batch_size=2.\n"
          ],
          "name": "stderr"
        },
        {
          "output_type": "stream",
          "text": [
            "it 7/10\n",
            "Fitting 5 folds for each of 4 candidates, totalling 20 fits\n",
            "Fitting 5 folds for each of 12 candidates, totalling 60 fits\n"
          ],
          "name": "stdout"
        },
        {
          "output_type": "stream",
          "text": [
            "[Parallel(n_jobs=5)]: Done   3 tasks      | elapsed:    0.0s\n",
            "[Parallel(n_jobs=5)]: Done   8 out of  20 | elapsed:    0.0s remaining:    0.1s\n",
            "[Parallel(n_jobs=5)]: Done  14 out of  20 | elapsed:    0.1s remaining:    0.0s\n",
            "[Parallel(n_jobs=5)]: Done  20 out of  20 | elapsed:    0.1s remaining:    0.0s\n",
            "[Parallel(n_jobs=5)]: Done  20 out of  20 | elapsed:    0.1s finished\n",
            "/usr/local/lib/python3.6/dist-packages/sklearn/linear_model/_coordinate_descent.py:476: ConvergenceWarning: Objective did not converge. You might want to increase the number of iterations. Duality gap: 155774.9273009253, tolerance: 16271.250439999998\n",
            "  positive)\n",
            "[Parallel(n_jobs=5)]: Using backend LokyBackend with 5 concurrent workers.\n",
            "[Parallel(n_jobs=5)]: Batch computation too fast (0.0114s.) Setting batch_size=2.\n",
            "[Parallel(n_jobs=5)]: Done   3 tasks      | elapsed:    0.0s\n",
            "[Parallel(n_jobs=5)]: Done   8 tasks      | elapsed:    0.1s\n",
            "[Parallel(n_jobs=5)]: Batch computation too fast (0.0549s.) Setting batch_size=4.\n",
            "[Parallel(n_jobs=5)]: Done  20 tasks      | elapsed:    0.1s\n",
            "[Parallel(n_jobs=5)]: Batch computation too fast (0.1003s.) Setting batch_size=8.\n",
            "[Parallel(n_jobs=5)]: Done  38 tasks      | elapsed:    0.2s\n",
            "[Parallel(n_jobs=5)]: Done  58 out of  60 | elapsed:    0.2s remaining:    0.0s\n",
            "[Parallel(n_jobs=5)]: Done  60 out of  60 | elapsed:    0.3s finished\n",
            "[Parallel(n_jobs=5)]: Using backend LokyBackend with 5 concurrent workers.\n",
            "[Parallel(n_jobs=5)]: Batch computation too fast (0.0083s.) Setting batch_size=2.\n",
            "[Parallel(n_jobs=5)]: Done   3 tasks      | elapsed:    0.0s\n",
            "[Parallel(n_jobs=5)]: Done   8 out of  20 | elapsed:    0.0s remaining:    0.1s\n",
            "[Parallel(n_jobs=5)]: Done  14 out of  20 | elapsed:    0.1s remaining:    0.0s\n",
            "[Parallel(n_jobs=5)]: Done  20 out of  20 | elapsed:    0.1s remaining:    0.0s\n",
            "[Parallel(n_jobs=5)]: Done  20 out of  20 | elapsed:    0.1s finished\n",
            "/usr/local/lib/python3.6/dist-packages/sklearn/linear_model/_coordinate_descent.py:476: ConvergenceWarning: Objective did not converge. You might want to increase the number of iterations. Duality gap: 128089.67153513915, tolerance: 22309.408113846155\n",
            "  positive)\n",
            "[Parallel(n_jobs=5)]: Using backend LokyBackend with 5 concurrent workers.\n",
            "[Parallel(n_jobs=5)]: Batch computation too fast (0.0130s.) Setting batch_size=2.\n",
            "[Parallel(n_jobs=5)]: Done   3 tasks      | elapsed:    0.0s\n",
            "[Parallel(n_jobs=5)]: Done   8 tasks      | elapsed:    0.0s\n"
          ],
          "name": "stderr"
        },
        {
          "output_type": "stream",
          "text": [
            "it 8/10\n",
            "Fitting 5 folds for each of 4 candidates, totalling 20 fits\n",
            "Fitting 5 folds for each of 12 candidates, totalling 60 fits\n"
          ],
          "name": "stdout"
        },
        {
          "output_type": "stream",
          "text": [
            "[Parallel(n_jobs=5)]: Batch computation too fast (0.0446s.) Setting batch_size=4.\n",
            "[Parallel(n_jobs=5)]: Done  20 tasks      | elapsed:    0.1s\n",
            "[Parallel(n_jobs=5)]: Batch computation too fast (0.0878s.) Setting batch_size=8.\n",
            "[Parallel(n_jobs=5)]: Done  38 tasks      | elapsed:    0.2s\n",
            "[Parallel(n_jobs=5)]: Done  51 out of  60 | elapsed:    0.2s remaining:    0.0s\n",
            "[Parallel(n_jobs=5)]: Done  60 out of  60 | elapsed:    0.2s finished\n",
            "[Parallel(n_jobs=5)]: Using backend LokyBackend with 5 concurrent workers.\n",
            "[Parallel(n_jobs=5)]: Batch computation too fast (0.0139s.) Setting batch_size=2.\n",
            "[Parallel(n_jobs=5)]: Done   3 tasks      | elapsed:    0.0s\n",
            "[Parallel(n_jobs=5)]: Done   8 out of  20 | elapsed:    0.0s remaining:    0.1s\n"
          ],
          "name": "stderr"
        },
        {
          "output_type": "stream",
          "text": [
            "it 9/10\n",
            "Fitting 5 folds for each of 4 candidates, totalling 20 fits\n",
            "Fitting 5 folds for each of 12 candidates, totalling 60 fits\n"
          ],
          "name": "stdout"
        },
        {
          "output_type": "stream",
          "text": [
            "[Parallel(n_jobs=5)]: Done  14 out of  20 | elapsed:    0.1s remaining:    0.0s\n",
            "[Parallel(n_jobs=5)]: Done  20 out of  20 | elapsed:    0.1s remaining:    0.0s\n",
            "[Parallel(n_jobs=5)]: Done  20 out of  20 | elapsed:    0.1s finished\n",
            "/usr/local/lib/python3.6/dist-packages/sklearn/linear_model/_coordinate_descent.py:476: ConvergenceWarning: Objective did not converge. You might want to increase the number of iterations. Duality gap: 145283.53722738905, tolerance: 22364.374753846158\n",
            "  positive)\n",
            "[Parallel(n_jobs=5)]: Using backend LokyBackend with 5 concurrent workers.\n",
            "[Parallel(n_jobs=5)]: Done   1 tasks      | elapsed:    0.0s\n",
            "[Parallel(n_jobs=5)]: Batch computation too fast (0.0071s.) Setting batch_size=2.\n",
            "[Parallel(n_jobs=5)]: Batch computation too fast (0.0071s.) Setting batch_size=4.\n",
            "[Parallel(n_jobs=5)]: Done   4 tasks      | elapsed:    0.0s\n",
            "[Parallel(n_jobs=5)]: Done   9 tasks      | elapsed:    0.1s\n",
            "[Parallel(n_jobs=5)]: Batch computation too fast (0.0529s.) Setting batch_size=8.\n",
            "[Parallel(n_jobs=5)]: Done  34 tasks      | elapsed:    0.2s\n",
            "[Parallel(n_jobs=5)]: Done  58 out of  60 | elapsed:    0.2s remaining:    0.0s\n",
            "[Parallel(n_jobs=5)]: Done  60 out of  60 | elapsed:    0.2s finished\n",
            "[Parallel(n_jobs=5)]: Using backend LokyBackend with 5 concurrent workers.\n",
            "[Parallel(n_jobs=5)]: Batch computation too fast (0.0111s.) Setting batch_size=2.\n",
            "[Parallel(n_jobs=5)]: Done   3 tasks      | elapsed:    0.0s\n",
            "[Parallel(n_jobs=5)]: Done   8 out of  20 | elapsed:    0.0s remaining:    0.1s\n",
            "[Parallel(n_jobs=5)]: Done  11 out of  20 | elapsed:    0.1s remaining:    0.1s\n",
            "[Parallel(n_jobs=5)]: Done  14 out of  20 | elapsed:    0.1s remaining:    0.0s\n",
            "[Parallel(n_jobs=5)]: Done  20 out of  20 | elapsed:    0.1s remaining:    0.0s\n",
            "[Parallel(n_jobs=5)]: Done  20 out of  20 | elapsed:    0.1s finished\n",
            "/usr/local/lib/python3.6/dist-packages/sklearn/linear_model/_coordinate_descent.py:476: ConvergenceWarning: Objective did not converge. You might want to increase the number of iterations. Duality gap: 192175.915968823, tolerance: 17273.851344615385\n",
            "  positive)\n",
            "[Parallel(n_jobs=5)]: Using backend LokyBackend with 5 concurrent workers.\n",
            "[Parallel(n_jobs=5)]: Batch computation too fast (0.0070s.) Setting batch_size=2.\n",
            "[Parallel(n_jobs=5)]: Done   4 tasks      | elapsed:    0.0s\n"
          ],
          "name": "stderr"
        },
        {
          "output_type": "stream",
          "text": [
            "it 10/10\n",
            "Fitting 5 folds for each of 4 candidates, totalling 20 fits\n",
            "Fitting 5 folds for each of 12 candidates, totalling 60 fits\n"
          ],
          "name": "stdout"
        },
        {
          "output_type": "stream",
          "text": [
            "[Parallel(n_jobs=5)]: Done   9 tasks      | elapsed:    0.1s\n",
            "[Parallel(n_jobs=5)]: Batch computation too fast (0.0677s.) Setting batch_size=4.\n",
            "[Parallel(n_jobs=5)]: Done  22 tasks      | elapsed:    0.2s\n",
            "[Parallel(n_jobs=5)]: Batch computation too fast (0.0675s.) Setting batch_size=8.\n",
            "[Parallel(n_jobs=5)]: Done  42 tasks      | elapsed:    0.2s\n",
            "[Parallel(n_jobs=5)]: Done  58 out of  60 | elapsed:    0.2s remaining:    0.0s\n",
            "[Parallel(n_jobs=5)]: Done  60 out of  60 | elapsed:    0.2s finished\n"
          ],
          "name": "stderr"
        }
      ]
    },
    {
      "cell_type": "code",
      "metadata": {
        "id": "ToRNlvHYV2R3",
        "colab_type": "code",
        "outputId": "86984ba1-24b9-498f-e3a0-1250e4a258d7",
        "colab": {
          "base_uri": "https://localhost:8080/",
          "height": 265
        }
      },
      "source": [
        "plt.boxplot(MAE_L)\n",
        "plt.xticks(ticks=np.arange(len(steps))+1,labels=label_model_L)\n",
        "plt.show()"
      ],
      "execution_count": 107,
      "outputs": [
        {
          "output_type": "display_data",
          "data": {
            "image/png": "[encoded data removed]",
            "text/plain": [
              "<Figure size 432x288 with 1 Axes>"
            ]
          },
          "metadata": {
            "tags": [],
            "needs_background": "light"
          }
        }
      ]
    },
    {
      "cell_type": "code",
      "metadata": {
        "id": "VVn63STmV2Wp",
        "colab_type": "code",
        "outputId": "5c48fcb1-a8a2-4100-a17e-da05cc430071",
        "colab": {
          "base_uri": "https://localhost:8080/",
          "height": 187
        }
      },
      "source": [
        "MAE_L"
      ],
      "execution_count": 108,
      "outputs": [
        {
          "output_type": "execute_result",
          "data": {
            "text/plain": [
              "array([[ 3753.97694842, 16964.29016177],\n",
              "       [ 7971.25134634, 22309.48176051],\n",
              "       [ 3189.07408853, 12434.48859456],\n",
              "       [12416.07916434, 32844.78890461],\n",
              "       [ 5875.30798957, 15247.11595416],\n",
              "       [ 2609.5560063 , 21463.09679673],\n",
              "       [ 9314.12883125,  9685.96175543],\n",
              "       [12821.77821251, 29879.65495537],\n",
              "       [ 7165.37739318, 20626.10879779],\n",
              "       [ 2551.44793299,  7012.66838528]])"
            ]
          },
          "metadata": {
            "tags": []
          },
          "execution_count": 108
        }
      ]
    },
    {
      "cell_type": "code",
      "metadata": {
        "id": "JpDtnXE2V2dC",
        "colab_type": "code",
        "outputId": "7269da01-1ed5-4b10-97ca-b9b38f179911",
        "colab": {
          "base_uri": "https://localhost:8080/",
          "height": 357
        }
      },
      "source": [
        "B_Hiperpara_L"
      ],
      "execution_count": 109,
      "outputs": [
        {
          "output_type": "execute_result",
          "data": {
            "text/plain": [
              "[{'reg__alpha': 0.1},\n",
              " {'reg__alpha': 0.001, 'rep__n_components': 0.5},\n",
              " {'reg__alpha': 0.1},\n",
              " {'reg__alpha': 0.001, 'rep__n_components': 0.5},\n",
              " {'reg__alpha': 0.1},\n",
              " {'reg__alpha': 0.001, 'rep__n_components': 0.5},\n",
              " {'reg__alpha': 1},\n",
              " {'reg__alpha': 0.001, 'rep__n_components': 0.5},\n",
              " {'reg__alpha': 1},\n",
              " {'reg__alpha': 1, 'rep__n_components': 0.5},\n",
              " {'reg__alpha': 0.001},\n",
              " {'reg__alpha': 0.001, 'rep__n_components': 0.5},\n",
              " {'reg__alpha': 0.1},\n",
              " {'reg__alpha': 0.001, 'rep__n_components': 0.5},\n",
              " {'reg__alpha': 0.1},\n",
              " {'reg__alpha': 0.001, 'rep__n_components': 0.5},\n",
              " {'reg__alpha': 0.1},\n",
              " {'reg__alpha': 0.001, 'rep__n_components': 0.5},\n",
              " {'reg__alpha': 0.1},\n",
              " {'reg__alpha': 0.001, 'rep__n_components': 0.5}]"
            ]
          },
          "metadata": {
            "tags": []
          },
          "execution_count": 109
        }
      ]
    },
    {
      "cell_type": "code",
      "metadata": {
        "id": "LGuRLQ_-V2PN",
        "colab_type": "code",
        "outputId": "54311b7e-5129-4c5b-b30d-15e43e412c64",
        "colab": {
          "base_uri": "https://localhost:8080/",
          "height": 153
        }
      },
      "source": [
        "steps =  [('scaler', StandardScaler()),\n",
        "          #('rep', PCA(n_components=0.5)),                         \n",
        "          ('reg', Ridge(alpha=0.1))]\n",
        "\n",
        "Mod_SC_L = Pipeline(steps = steps)\n",
        "Mod_SC_L.fit(X_train,y_train)"
      ],
      "execution_count": 110,
      "outputs": [
        {
          "output_type": "execute_result",
          "data": {
            "text/plain": [
              "Pipeline(memory=None,\n",
              "         steps=[('scaler',\n",
              "                 StandardScaler(copy=True, with_mean=True, with_std=True)),\n",
              "                ('reg',\n",
              "                 Ridge(alpha=0.1, copy_X=True, fit_intercept=True,\n",
              "                       max_iter=None, normalize=False, random_state=None,\n",
              "                       solver='auto', tol=0.001))],\n",
              "         verbose=False)"
            ]
          },
          "metadata": {
            "tags": []
          },
          "execution_count": 110
        }
      ]
    },
    {
      "cell_type": "code",
      "metadata": {
        "id": "Qmz6-p42WLnS",
        "colab_type": "code",
        "outputId": "1f83c395-1081-4648-a139-d373bae5dece",
        "colab": {
          "base_uri": "https://localhost:8080/",
          "height": 51
        }
      },
      "source": [
        "Xn = X[-1]\n",
        "#Xn = [4881, 5142, 5379, 5948, 6207]\n",
        "#Xn=np.matrix([Xn])\n",
        "\n",
        "Xn = Xn.reshape(1,-1)\n",
        "Pre_SC_L = Mod_SC_L.predict(Xn)\n",
        "\n",
        "print('Número de contagiados en los últimos 5 días:',Xn)\n",
        "print('Predicción contagios para',date.today(),'usando un modelo LinearLasso:',Pre_SC_L)"
      ],
      "execution_count": 111,
      "outputs": [
        {
          "output_type": "stream",
          "text": [
            "Número de contagiados en los últimos 5 días: [[4561 4881 5142 5379 5597]]\n",
            "Predicción contagios para 2020-04-30 usando un modelo LinearLasso: [[6230.63196885]]\n"
          ],
          "name": "stdout"
        }
      ]
    },
    {
      "cell_type": "markdown",
      "metadata": {
        "id": "g23P_R8FaIWG",
        "colab_type": "text"
      },
      "source": [
        "#### Validación Cruzada Anidada EN:\n",
        "\n",
        "- Normalización StandadScalar\n",
        "- Representación PCA\n",
        "- Regresor LinearElasticNet"
      ]
    },
    {
      "cell_type": "code",
      "metadata": {
        "id": "VQtKYWNyaIxI",
        "colab_type": "code",
        "outputId": "16b2958e-2663-48f8-fe94-d040890a0970",
        "colab": {
          "base_uri": "https://localhost:8080/",
          "height": 1000
        }
      },
      "source": [
        "steps = [\n",
        "         [('scaler', StandardScaler()),           #estandarizar cada atributo columna de xtrain centrada en 0 y var = 1\n",
        "          ('reg',  ElasticNet())],\n",
        "         [('scaler', StandardScaler()),\n",
        "          ('rep', PCA()),                         \n",
        "          ('reg',  ElasticNet( ))]\n",
        "          ]\n",
        "\n",
        "parameters = [\n",
        "                {'reg__alpha':[1e-3,1e-2,1e-1,1,10,100],\n",
        "                 'reg__l1_ratio':[1e-3,1e-2,5e-1,75e-1,1e-1,1,10,100]\n",
        "                 },\n",
        "                {'reg__alpha':[1e-3,1e-2,1e-1,1,10,100],\n",
        "                 'reg__l1_ratio':[1e-3,1e-2,5e-1,75e-1,1e-1,1,10,100],\n",
        "                  'rep__n_components':[0.5,0.75,0.9]\n",
        "                 }\n",
        "               ]\n",
        "\n",
        "label_model_EN = ['NorSC-EN','NorSC-PCA-EN']\n",
        "\n",
        "B_Model_EN, B_Hiperpara_EN, MAE_EN = V_Cruzada_Anidada(X,y,steps,parameters)"
      ],
      "execution_count": 112,
      "outputs": [
        {
          "output_type": "stream",
          "text": [
            "it 1/10\n",
            "Fitting 5 folds for each of 48 candidates, totalling 240 fits\n"
          ],
          "name": "stdout"
        },
        {
          "output_type": "stream",
          "text": [
            "[Parallel(n_jobs=5)]: Using backend LokyBackend with 5 concurrent workers.\n",
            "[Parallel(n_jobs=5)]: Batch computation too fast (0.0186s.) Setting batch_size=2.\n",
            "[Parallel(n_jobs=5)]: Done   3 tasks      | elapsed:    0.0s\n",
            "[Parallel(n_jobs=5)]: Done   8 tasks      | elapsed:    0.1s\n",
            "[Parallel(n_jobs=5)]: Batch computation too fast (0.0455s.) Setting batch_size=4.\n",
            "[Parallel(n_jobs=5)]: Done  20 tasks      | elapsed:    0.1s\n",
            "[Parallel(n_jobs=5)]: Batch computation too fast (0.0788s.) Setting batch_size=8.\n",
            "[Parallel(n_jobs=5)]: Done  38 tasks      | elapsed:    0.2s\n",
            "[Parallel(n_jobs=5)]: Done  78 tasks      | elapsed:    0.3s\n",
            "[Parallel(n_jobs=5)]: Batch computation too fast (0.1062s.) Setting batch_size=16.\n",
            "[Parallel(n_jobs=5)]: Done 150 tasks      | elapsed:    0.6s\n",
            "[Parallel(n_jobs=5)]: Batch computation too fast (0.1435s.) Setting batch_size=32.\n",
            "[Parallel(n_jobs=5)]: Done 206 out of 240 | elapsed:    0.7s remaining:    0.1s\n",
            "[Parallel(n_jobs=5)]: Done 240 out of 240 | elapsed:    0.8s finished\n",
            "/usr/local/lib/python3.6/dist-packages/sklearn/linear_model/_coordinate_descent.py:476: ConvergenceWarning: Objective did not converge. You might want to increase the number of iterations. Duality gap: 189738.3194014208, tolerance: 22879.791944615386\n",
            "  positive)\n",
            "[Parallel(n_jobs=5)]: Using backend LokyBackend with 5 concurrent workers.\n",
            "[Parallel(n_jobs=5)]: Batch computation too fast (0.0155s.) Setting batch_size=2.\n"
          ],
          "name": "stderr"
        },
        {
          "output_type": "stream",
          "text": [
            "Fitting 5 folds for each of 144 candidates, totalling 720 fits\n"
          ],
          "name": "stdout"
        },
        {
          "output_type": "stream",
          "text": [
            "[Parallel(n_jobs=5)]: Done   3 tasks      | elapsed:    0.0s\n",
            "[Parallel(n_jobs=5)]: Done   8 tasks      | elapsed:    0.0s\n",
            "[Parallel(n_jobs=5)]: Batch computation too fast (0.0398s.) Setting batch_size=4.\n",
            "[Parallel(n_jobs=5)]: Done  20 tasks      | elapsed:    0.1s\n",
            "[Parallel(n_jobs=5)]: Batch computation too fast (0.0677s.) Setting batch_size=8.\n",
            "[Parallel(n_jobs=5)]: Done  38 tasks      | elapsed:    0.2s\n",
            "[Parallel(n_jobs=5)]: Done  78 tasks      | elapsed:    0.4s\n",
            "[Parallel(n_jobs=5)]: Batch computation too fast (0.1511s.) Setting batch_size=16.\n",
            "[Parallel(n_jobs=5)]: Done 150 tasks      | elapsed:    0.7s\n",
            "[Parallel(n_jobs=5)]: Done 326 tasks      | elapsed:    1.2s\n",
            "[Parallel(n_jobs=5)]: Done 502 tasks      | elapsed:    2.0s\n",
            "[Parallel(n_jobs=5)]: Done 650 tasks      | elapsed:    2.3s\n",
            "[Parallel(n_jobs=5)]: Done 720 out of 720 | elapsed:    2.4s finished\n",
            "[Parallel(n_jobs=5)]: Using backend LokyBackend with 5 concurrent workers.\n",
            "[Parallel(n_jobs=5)]: Batch computation too fast (0.0098s.) Setting batch_size=2.\n",
            "[Parallel(n_jobs=5)]: Done   3 tasks      | elapsed:    0.0s\n",
            "[Parallel(n_jobs=5)]: Done   8 tasks      | elapsed:    0.1s\n"
          ],
          "name": "stderr"
        },
        {
          "output_type": "stream",
          "text": [
            "it 2/10\n",
            "Fitting 5 folds for each of 48 candidates, totalling 240 fits\n"
          ],
          "name": "stdout"
        },
        {
          "output_type": "stream",
          "text": [
            "[Parallel(n_jobs=5)]: Batch computation too fast (0.0749s.) Setting batch_size=4.\n",
            "[Parallel(n_jobs=5)]: Done  20 tasks      | elapsed:    0.2s\n",
            "[Parallel(n_jobs=5)]: Batch computation too fast (0.0713s.) Setting batch_size=8.\n",
            "[Parallel(n_jobs=5)]: Done  38 tasks      | elapsed:    0.3s\n",
            "[Parallel(n_jobs=5)]: Done  78 tasks      | elapsed:    0.3s\n",
            "[Parallel(n_jobs=5)]: Batch computation too fast (0.0860s.) Setting batch_size=16.\n",
            "[Parallel(n_jobs=5)]: Done 150 tasks      | elapsed:    0.5s\n",
            "[Parallel(n_jobs=5)]: Batch computation too fast (0.1267s.) Setting batch_size=32.\n",
            "[Parallel(n_jobs=5)]: Done 240 out of 240 | elapsed:    0.7s finished\n",
            "/usr/local/lib/python3.6/dist-packages/sklearn/linear_model/_coordinate_descent.py:476: ConvergenceWarning: Objective did not converge. You might want to increase the number of iterations. Duality gap: 233159.23760247888, tolerance: 15842.191153846154\n",
            "  positive)\n",
            "[Parallel(n_jobs=5)]: Using backend LokyBackend with 5 concurrent workers.\n",
            "[Parallel(n_jobs=5)]: Batch computation too fast (0.0130s.) Setting batch_size=2.\n",
            "[Parallel(n_jobs=5)]: Done   3 tasks      | elapsed:    0.0s\n",
            "[Parallel(n_jobs=5)]: Done   8 tasks      | elapsed:    0.0s\n"
          ],
          "name": "stderr"
        },
        {
          "output_type": "stream",
          "text": [
            "Fitting 5 folds for each of 144 candidates, totalling 720 fits\n"
          ],
          "name": "stdout"
        },
        {
          "output_type": "stream",
          "text": [
            "[Parallel(n_jobs=5)]: Batch computation too fast (0.0473s.) Setting batch_size=4.\n",
            "[Parallel(n_jobs=5)]: Done  20 tasks      | elapsed:    0.1s\n",
            "[Parallel(n_jobs=5)]: Batch computation too fast (0.0982s.) Setting batch_size=8.\n",
            "[Parallel(n_jobs=5)]: Done  38 tasks      | elapsed:    0.3s\n",
            "[Parallel(n_jobs=5)]: Done  78 tasks      | elapsed:    0.4s\n",
            "[Parallel(n_jobs=5)]: Batch computation too fast (0.1296s.) Setting batch_size=16.\n",
            "[Parallel(n_jobs=5)]: Done 150 tasks      | elapsed:    0.7s\n",
            "[Parallel(n_jobs=5)]: Done 326 tasks      | elapsed:    1.3s\n",
            "[Parallel(n_jobs=5)]: Done 502 tasks      | elapsed:    2.1s\n",
            "[Parallel(n_jobs=5)]: Done 665 tasks      | elapsed:    2.3s\n",
            "[Parallel(n_jobs=5)]: Done 720 out of 720 | elapsed:    2.4s finished\n",
            "[Parallel(n_jobs=5)]: Using backend LokyBackend with 5 concurrent workers.\n",
            "[Parallel(n_jobs=5)]: Batch computation too fast (0.0140s.) Setting batch_size=2.\n",
            "[Parallel(n_jobs=5)]: Done   3 tasks      | elapsed:    0.0s\n",
            "[Parallel(n_jobs=5)]: Done   8 tasks      | elapsed:    0.1s\n",
            "[Parallel(n_jobs=5)]: Batch computation too fast (0.0570s.) Setting batch_size=4.\n",
            "[Parallel(n_jobs=5)]: Done  20 tasks      | elapsed:    0.1s\n"
          ],
          "name": "stderr"
        },
        {
          "output_type": "stream",
          "text": [
            "it 3/10\n",
            "Fitting 5 folds for each of 48 candidates, totalling 240 fits\n"
          ],
          "name": "stdout"
        },
        {
          "output_type": "stream",
          "text": [
            "[Parallel(n_jobs=5)]: Batch computation too fast (0.0938s.) Setting batch_size=8.\n",
            "[Parallel(n_jobs=5)]: Done  38 tasks      | elapsed:    0.2s\n",
            "[Parallel(n_jobs=5)]: Done  78 tasks      | elapsed:    0.4s\n",
            "[Parallel(n_jobs=5)]: Batch computation too fast (0.1224s.) Setting batch_size=16.\n",
            "[Parallel(n_jobs=5)]: Done 150 tasks      | elapsed:    0.6s\n",
            "[Parallel(n_jobs=5)]: Done 240 out of 240 | elapsed:    0.8s finished\n",
            "/usr/local/lib/python3.6/dist-packages/sklearn/linear_model/_coordinate_descent.py:476: ConvergenceWarning: Objective did not converge. You might want to increase the number of iterations. Duality gap: 257736.85947397977, tolerance: 20873.174640000005\n",
            "  positive)\n",
            "[Parallel(n_jobs=5)]: Using backend LokyBackend with 5 concurrent workers.\n"
          ],
          "name": "stderr"
        },
        {
          "output_type": "stream",
          "text": [
            "Fitting 5 folds for each of 144 candidates, totalling 720 fits\n"
          ],
          "name": "stdout"
        },
        {
          "output_type": "stream",
          "text": [
            "[Parallel(n_jobs=5)]: Batch computation too fast (0.0146s.) Setting batch_size=2.\n",
            "[Parallel(n_jobs=5)]: Batch computation too fast (0.0146s.) Setting batch_size=4.\n",
            "[Parallel(n_jobs=5)]: Done   5 tasks      | elapsed:    0.1s\n",
            "[Parallel(n_jobs=5)]: Batch computation too fast (0.1156s.) Setting batch_size=8.\n",
            "[Parallel(n_jobs=5)]: Done  18 tasks      | elapsed:    0.2s\n",
            "[Parallel(n_jobs=5)]: Done  46 tasks      | elapsed:    0.3s\n",
            "[Parallel(n_jobs=5)]: Batch computation too fast (0.1201s.) Setting batch_size=16.\n",
            "[Parallel(n_jobs=5)]: Done  94 tasks      | elapsed:    0.4s\n",
            "[Parallel(n_jobs=5)]: Done 166 tasks      | elapsed:    0.7s\n",
            "[Parallel(n_jobs=5)]: Done 318 tasks      | elapsed:    1.2s\n",
            "[Parallel(n_jobs=5)]: Done 494 tasks      | elapsed:    1.9s\n",
            "[Parallel(n_jobs=5)]: Done 627 tasks      | elapsed:    2.2s\n",
            "[Parallel(n_jobs=5)]: Done 685 tasks      | elapsed:    2.3s\n",
            "[Parallel(n_jobs=5)]: Done 700 tasks      | elapsed:    2.3s\n",
            "[Parallel(n_jobs=5)]: Done 711 out of 720 | elapsed:    2.4s remaining:    0.0s\n",
            "[Parallel(n_jobs=5)]: Done 720 out of 720 | elapsed:    2.5s finished\n",
            "[Parallel(n_jobs=5)]: Using backend LokyBackend with 5 concurrent workers.\n",
            "[Parallel(n_jobs=5)]: Batch computation too fast (0.0106s.) Setting batch_size=2.\n",
            "[Parallel(n_jobs=5)]: Done   3 tasks      | elapsed:    0.0s\n",
            "[Parallel(n_jobs=5)]: Done   8 tasks      | elapsed:    0.0s\n",
            "[Parallel(n_jobs=5)]: Batch computation too fast (0.0408s.) Setting batch_size=4.\n",
            "[Parallel(n_jobs=5)]: Done  20 tasks      | elapsed:    0.1s\n",
            "[Parallel(n_jobs=5)]: Batch computation too fast (0.0924s.) Setting batch_size=8.\n"
          ],
          "name": "stderr"
        },
        {
          "output_type": "stream",
          "text": [
            "it 4/10\n",
            "Fitting 5 folds for each of 48 candidates, totalling 240 fits\n"
          ],
          "name": "stdout"
        },
        {
          "output_type": "stream",
          "text": [
            "[Parallel(n_jobs=5)]: Done  38 tasks      | elapsed:    0.2s\n",
            "[Parallel(n_jobs=5)]: Done  78 tasks      | elapsed:    0.3s\n",
            "[Parallel(n_jobs=5)]: Batch computation too fast (0.1076s.) Setting batch_size=16.\n",
            "[Parallel(n_jobs=5)]: Done 150 tasks      | elapsed:    0.5s\n",
            "[Parallel(n_jobs=5)]: Batch computation too fast (0.1499s.) Setting batch_size=32.\n",
            "[Parallel(n_jobs=5)]: Done 206 out of 240 | elapsed:    0.7s remaining:    0.1s\n",
            "[Parallel(n_jobs=5)]: Done 240 out of 240 | elapsed:    0.7s finished\n",
            "/usr/local/lib/python3.6/dist-packages/sklearn/linear_model/_coordinate_descent.py:476: ConvergenceWarning: Objective did not converge. You might want to increase the number of iterations. Duality gap: 182417.86544566075, tolerance: 21047.857024615383\n",
            "  positive)\n",
            "[Parallel(n_jobs=5)]: Using backend LokyBackend with 5 concurrent workers.\n"
          ],
          "name": "stderr"
        },
        {
          "output_type": "stream",
          "text": [
            "Fitting 5 folds for each of 144 candidates, totalling 720 fits\n"
          ],
          "name": "stdout"
        },
        {
          "output_type": "stream",
          "text": [
            "[Parallel(n_jobs=5)]: Batch computation too fast (0.0271s.) Setting batch_size=2.\n",
            "[Parallel(n_jobs=5)]: Done   3 tasks      | elapsed:    0.0s\n",
            "[Parallel(n_jobs=5)]: Done   8 tasks      | elapsed:    0.1s\n",
            "[Parallel(n_jobs=5)]: Batch computation too fast (0.0606s.) Setting batch_size=4.\n",
            "[Parallel(n_jobs=5)]: Done  20 tasks      | elapsed:    0.2s\n",
            "[Parallel(n_jobs=5)]: Batch computation too fast (0.0656s.) Setting batch_size=8.\n",
            "[Parallel(n_jobs=5)]: Done  38 tasks      | elapsed:    0.3s\n",
            "[Parallel(n_jobs=5)]: Done  78 tasks      | elapsed:    0.4s\n",
            "[Parallel(n_jobs=5)]: Batch computation too fast (0.1495s.) Setting batch_size=16.\n",
            "[Parallel(n_jobs=5)]: Done 150 tasks      | elapsed:    0.7s\n",
            "[Parallel(n_jobs=5)]: Batch computation too fast (0.1242s.) Setting batch_size=32.\n",
            "[Parallel(n_jobs=5)]: Done 342 tasks      | elapsed:    1.5s\n",
            "[Parallel(n_jobs=5)]: Done 539 tasks      | elapsed:    2.0s\n",
            "[Parallel(n_jobs=5)]: Done 583 tasks      | elapsed:    2.1s\n",
            "[Parallel(n_jobs=5)]: Done 627 tasks      | elapsed:    2.2s\n",
            "[Parallel(n_jobs=5)]: Done 673 tasks      | elapsed:    2.2s\n",
            "[Parallel(n_jobs=5)]: Done 688 tasks      | elapsed:    2.3s\n",
            "[Parallel(n_jobs=5)]: Done 705 tasks      | elapsed:    2.4s\n",
            "[Parallel(n_jobs=5)]: Done 720 out of 720 | elapsed:    2.4s finished\n",
            "[Parallel(n_jobs=5)]: Using backend LokyBackend with 5 concurrent workers.\n"
          ],
          "name": "stderr"
        },
        {
          "output_type": "stream",
          "text": [
            "it 5/10\n",
            "Fitting 5 folds for each of 48 candidates, totalling 240 fits\n"
          ],
          "name": "stdout"
        },
        {
          "output_type": "stream",
          "text": [
            "[Parallel(n_jobs=5)]: Batch computation too fast (0.0094s.) Setting batch_size=2.\n",
            "[Parallel(n_jobs=5)]: Done   3 tasks      | elapsed:    0.0s\n",
            "[Parallel(n_jobs=5)]: Done   8 tasks      | elapsed:    0.0s\n",
            "[Parallel(n_jobs=5)]: Batch computation too fast (0.0687s.) Setting batch_size=4.\n",
            "[Parallel(n_jobs=5)]: Done  20 tasks      | elapsed:    0.1s\n",
            "[Parallel(n_jobs=5)]: Batch computation too fast (0.0365s.) Setting batch_size=8.\n",
            "[Parallel(n_jobs=5)]: Done  38 tasks      | elapsed:    0.2s\n",
            "[Parallel(n_jobs=5)]: Done  78 tasks      | elapsed:    0.4s\n",
            "[Parallel(n_jobs=5)]: Batch computation too fast (0.1352s.) Setting batch_size=16.\n",
            "[Parallel(n_jobs=5)]: Done 150 tasks      | elapsed:    0.6s\n",
            "[Parallel(n_jobs=5)]: Done 240 out of 240 | elapsed:    0.8s finished\n",
            "/usr/local/lib/python3.6/dist-packages/sklearn/linear_model/_coordinate_descent.py:476: ConvergenceWarning: Objective did not converge. You might want to increase the number of iterations. Duality gap: 140669.64448372816, tolerance: 18074.71790153846\n",
            "  positive)\n",
            "[Parallel(n_jobs=5)]: Using backend LokyBackend with 5 concurrent workers.\n",
            "[Parallel(n_jobs=5)]: Batch computation too fast (0.0130s.) Setting batch_size=2.\n",
            "[Parallel(n_jobs=5)]: Batch computation too fast (0.0130s.) Setting batch_size=4.\n",
            "[Parallel(n_jobs=5)]: Done   3 tasks      | elapsed:    0.0s\n"
          ],
          "name": "stderr"
        },
        {
          "output_type": "stream",
          "text": [
            "Fitting 5 folds for each of 144 candidates, totalling 720 fits\n"
          ],
          "name": "stdout"
        },
        {
          "output_type": "stream",
          "text": [
            "[Parallel(n_jobs=5)]: Done   5 tasks      | elapsed:    0.1s\n",
            "[Parallel(n_jobs=5)]: Batch computation too fast (0.0735s.) Setting batch_size=8.\n",
            "[Parallel(n_jobs=5)]: Done  27 tasks      | elapsed:    0.1s\n",
            "[Parallel(n_jobs=5)]: Done  46 tasks      | elapsed:    0.3s\n",
            "[Parallel(n_jobs=5)]: Batch computation too fast (0.1463s.) Setting batch_size=16.\n",
            "[Parallel(n_jobs=5)]: Done 114 tasks      | elapsed:    0.5s\n",
            "[Parallel(n_jobs=5)]: Done 202 tasks      | elapsed:    0.8s\n",
            "[Parallel(n_jobs=5)]: Done 378 tasks      | elapsed:    1.4s\n",
            "[Parallel(n_jobs=5)]: Done 554 tasks      | elapsed:    1.9s\n",
            "[Parallel(n_jobs=5)]: Done 612 tasks      | elapsed:    2.1s\n",
            "[Parallel(n_jobs=5)]: Done 655 tasks      | elapsed:    2.2s\n",
            "[Parallel(n_jobs=5)]: Done 685 tasks      | elapsed:    2.2s\n",
            "[Parallel(n_jobs=5)]: Done 700 tasks      | elapsed:    2.3s\n",
            "[Parallel(n_jobs=5)]: Done 711 out of 720 | elapsed:    2.3s remaining:    0.0s\n",
            "[Parallel(n_jobs=5)]: Done 720 out of 720 | elapsed:    2.4s finished\n",
            "[Parallel(n_jobs=5)]: Using backend LokyBackend with 5 concurrent workers.\n"
          ],
          "name": "stderr"
        },
        {
          "output_type": "stream",
          "text": [
            "it 6/10\n",
            "Fitting 5 folds for each of 48 candidates, totalling 240 fits\n"
          ],
          "name": "stdout"
        },
        {
          "output_type": "stream",
          "text": [
            "[Parallel(n_jobs=5)]: Batch computation too fast (0.0097s.) Setting batch_size=2.\n",
            "[Parallel(n_jobs=5)]: Done   3 tasks      | elapsed:    0.0s\n",
            "[Parallel(n_jobs=5)]: Done   8 tasks      | elapsed:    0.0s\n",
            "[Parallel(n_jobs=5)]: Batch computation too fast (0.0442s.) Setting batch_size=4.\n",
            "[Parallel(n_jobs=5)]: Done  20 tasks      | elapsed:    0.1s\n",
            "[Parallel(n_jobs=5)]: Batch computation too fast (0.1086s.) Setting batch_size=8.\n",
            "[Parallel(n_jobs=5)]: Done  38 tasks      | elapsed:    0.3s\n",
            "[Parallel(n_jobs=5)]: Done  78 tasks      | elapsed:    0.3s\n",
            "[Parallel(n_jobs=5)]: Batch computation too fast (0.0863s.) Setting batch_size=16.\n",
            "[Parallel(n_jobs=5)]: Done 150 tasks      | elapsed:    0.5s\n",
            "[Parallel(n_jobs=5)]: Batch computation too fast (0.0797s.) Setting batch_size=32.\n",
            "[Parallel(n_jobs=5)]: Done 206 out of 240 | elapsed:    0.7s remaining:    0.1s\n",
            "[Parallel(n_jobs=5)]: Done 240 out of 240 | elapsed:    0.8s finished\n",
            "/usr/local/lib/python3.6/dist-packages/sklearn/linear_model/_coordinate_descent.py:476: ConvergenceWarning: Objective did not converge. You might want to increase the number of iterations. Duality gap: 200704.6129684823, tolerance: 19281.58333846154\n",
            "  positive)\n",
            "[Parallel(n_jobs=5)]: Using backend LokyBackend with 5 concurrent workers.\n",
            "[Parallel(n_jobs=5)]: Batch computation too fast (0.0082s.) Setting batch_size=2.\n",
            "[Parallel(n_jobs=5)]: Batch computation too fast (0.0082s.) Setting batch_size=4.\n",
            "[Parallel(n_jobs=5)]: Done   4 tasks      | elapsed:    0.0s\n",
            "[Parallel(n_jobs=5)]: Done   9 tasks      | elapsed:    0.1s\n",
            "[Parallel(n_jobs=5)]: Batch computation too fast (0.0987s.) Setting batch_size=8.\n"
          ],
          "name": "stderr"
        },
        {
          "output_type": "stream",
          "text": [
            "Fitting 5 folds for each of 144 candidates, totalling 720 fits\n"
          ],
          "name": "stdout"
        },
        {
          "output_type": "stream",
          "text": [
            "[Parallel(n_jobs=5)]: Done  34 tasks      | elapsed:    0.2s\n",
            "[Parallel(n_jobs=5)]: Batch computation too fast (0.0640s.) Setting batch_size=16.\n",
            "[Parallel(n_jobs=5)]: Done  74 tasks      | elapsed:    0.4s\n",
            "[Parallel(n_jobs=5)]: Done 162 tasks      | elapsed:    0.7s\n",
            "[Parallel(n_jobs=5)]: Done 306 tasks      | elapsed:    1.1s\n",
            "[Parallel(n_jobs=5)]: Done 482 tasks      | elapsed:    1.7s\n",
            "[Parallel(n_jobs=5)]: Done 643 tasks      | elapsed:    2.2s\n",
            "[Parallel(n_jobs=5)]: Done 701 tasks      | elapsed:    2.3s\n",
            "[Parallel(n_jobs=5)]: Done 720 out of 720 | elapsed:    2.4s finished\n",
            "[Parallel(n_jobs=5)]: Using backend LokyBackend with 5 concurrent workers.\n",
            "[Parallel(n_jobs=5)]: Batch computation too fast (0.0142s.) Setting batch_size=2.\n",
            "[Parallel(n_jobs=5)]: Done   3 tasks      | elapsed:    0.0s\n",
            "[Parallel(n_jobs=5)]: Done   8 tasks      | elapsed:    0.0s\n",
            "[Parallel(n_jobs=5)]: Batch computation too fast (0.0346s.) Setting batch_size=4.\n"
          ],
          "name": "stderr"
        },
        {
          "output_type": "stream",
          "text": [
            "it 7/10\n",
            "Fitting 5 folds for each of 48 candidates, totalling 240 fits\n"
          ],
          "name": "stdout"
        },
        {
          "output_type": "stream",
          "text": [
            "[Parallel(n_jobs=5)]: Done  20 tasks      | elapsed:    0.1s\n",
            "[Parallel(n_jobs=5)]: Batch computation too fast (0.0966s.) Setting batch_size=8.\n",
            "[Parallel(n_jobs=5)]: Done  38 tasks      | elapsed:    0.2s\n",
            "[Parallel(n_jobs=5)]: Done  78 tasks      | elapsed:    0.3s\n",
            "[Parallel(n_jobs=5)]: Batch computation too fast (0.0921s.) Setting batch_size=16.\n",
            "[Parallel(n_jobs=5)]: Done 150 tasks      | elapsed:    0.5s\n",
            "[Parallel(n_jobs=5)]: Done 240 out of 240 | elapsed:    0.8s finished\n",
            "/usr/local/lib/python3.6/dist-packages/sklearn/linear_model/_coordinate_descent.py:476: ConvergenceWarning: Objective did not converge. You might want to increase the number of iterations. Duality gap: 175102.85854708604, tolerance: 18989.023184615387\n",
            "  positive)\n",
            "[Parallel(n_jobs=5)]: Using backend LokyBackend with 5 concurrent workers.\n",
            "[Parallel(n_jobs=5)]: Batch computation too fast (0.0154s.) Setting batch_size=2.\n",
            "[Parallel(n_jobs=5)]: Done   3 tasks      | elapsed:    0.0s\n",
            "[Parallel(n_jobs=5)]: Done   8 tasks      | elapsed:    0.0s\n",
            "[Parallel(n_jobs=5)]: Batch computation too fast (0.0381s.) Setting batch_size=4.\n",
            "[Parallel(n_jobs=5)]: Done  20 tasks      | elapsed:    0.1s\n",
            "[Parallel(n_jobs=5)]: Batch computation too fast (0.0996s.) Setting batch_size=8.\n"
          ],
          "name": "stderr"
        },
        {
          "output_type": "stream",
          "text": [
            "Fitting 5 folds for each of 144 candidates, totalling 720 fits\n"
          ],
          "name": "stdout"
        },
        {
          "output_type": "stream",
          "text": [
            "[Parallel(n_jobs=5)]: Done  38 tasks      | elapsed:    0.2s\n",
            "[Parallel(n_jobs=5)]: Done  78 tasks      | elapsed:    0.3s\n",
            "[Parallel(n_jobs=5)]: Batch computation too fast (0.1011s.) Setting batch_size=16.\n",
            "[Parallel(n_jobs=5)]: Done 150 tasks      | elapsed:    0.6s\n",
            "[Parallel(n_jobs=5)]: Batch computation too fast (0.1843s.) Setting batch_size=32.\n",
            "[Parallel(n_jobs=5)]: Done 342 tasks      | elapsed:    1.3s\n",
            "[Parallel(n_jobs=5)]: Done 508 tasks      | elapsed:    1.9s\n",
            "[Parallel(n_jobs=5)]: Done 552 tasks      | elapsed:    2.0s\n",
            "[Parallel(n_jobs=5)]: Done 596 tasks      | elapsed:    2.2s\n",
            "[Parallel(n_jobs=5)]: Done 673 tasks      | elapsed:    2.2s\n",
            "[Parallel(n_jobs=5)]: Done 688 tasks      | elapsed:    2.3s\n",
            "[Parallel(n_jobs=5)]: Done 705 tasks      | elapsed:    2.3s\n",
            "[Parallel(n_jobs=5)]: Done 720 out of 720 | elapsed:    2.4s finished\n",
            "[Parallel(n_jobs=5)]: Using backend LokyBackend with 5 concurrent workers.\n",
            "[Parallel(n_jobs=5)]: Batch computation too fast (0.0100s.) Setting batch_size=2.\n",
            "[Parallel(n_jobs=5)]: Done   3 tasks      | elapsed:    0.0s\n",
            "[Parallel(n_jobs=5)]: Done   8 tasks      | elapsed:    0.0s\n",
            "[Parallel(n_jobs=5)]: Batch computation too fast (0.0375s.) Setting batch_size=4.\n",
            "[Parallel(n_jobs=5)]: Done  20 tasks      | elapsed:    0.1s\n",
            "[Parallel(n_jobs=5)]: Batch computation too fast (0.0837s.) Setting batch_size=8.\n"
          ],
          "name": "stderr"
        },
        {
          "output_type": "stream",
          "text": [
            "it 8/10\n",
            "Fitting 5 folds for each of 48 candidates, totalling 240 fits\n"
          ],
          "name": "stdout"
        },
        {
          "output_type": "stream",
          "text": [
            "[Parallel(n_jobs=5)]: Done  38 tasks      | elapsed:    0.2s\n",
            "[Parallel(n_jobs=5)]: Done  78 tasks      | elapsed:    0.4s\n",
            "[Parallel(n_jobs=5)]: Batch computation too fast (0.1860s.) Setting batch_size=16.\n",
            "[Parallel(n_jobs=5)]: Done 150 tasks      | elapsed:    0.5s\n",
            "[Parallel(n_jobs=5)]: Batch computation too fast (0.1493s.) Setting batch_size=32.\n",
            "[Parallel(n_jobs=5)]: Done 240 out of 240 | elapsed:    0.7s finished\n",
            "/usr/local/lib/python3.6/dist-packages/sklearn/linear_model/_coordinate_descent.py:476: ConvergenceWarning: Objective did not converge. You might want to increase the number of iterations. Duality gap: 176425.44423010724, tolerance: 19287.288661538463\n",
            "  positive)\n",
            "[Parallel(n_jobs=5)]: Using backend LokyBackend with 5 concurrent workers.\n",
            "[Parallel(n_jobs=5)]: Batch computation too fast (0.0105s.) Setting batch_size=2.\n",
            "[Parallel(n_jobs=5)]: Done   3 tasks      | elapsed:    0.0s\n",
            "[Parallel(n_jobs=5)]: Done   8 tasks      | elapsed:    0.0s\n",
            "[Parallel(n_jobs=5)]: Batch computation too fast (0.0386s.) Setting batch_size=4.\n",
            "[Parallel(n_jobs=5)]: Done  20 tasks      | elapsed:    0.1s\n",
            "[Parallel(n_jobs=5)]: Batch computation too fast (0.0739s.) Setting batch_size=8.\n"
          ],
          "name": "stderr"
        },
        {
          "output_type": "stream",
          "text": [
            "Fitting 5 folds for each of 144 candidates, totalling 720 fits\n"
          ],
          "name": "stdout"
        },
        {
          "output_type": "stream",
          "text": [
            "[Parallel(n_jobs=5)]: Done  38 tasks      | elapsed:    0.2s\n",
            "[Parallel(n_jobs=5)]: Done  78 tasks      | elapsed:    0.3s\n",
            "[Parallel(n_jobs=5)]: Batch computation too fast (0.1027s.) Setting batch_size=16.\n",
            "[Parallel(n_jobs=5)]: Done 150 tasks      | elapsed:    0.6s\n",
            "[Parallel(n_jobs=5)]: Done 326 tasks      | elapsed:    1.2s\n",
            "[Parallel(n_jobs=5)]: Done 502 tasks      | elapsed:    2.0s\n",
            "[Parallel(n_jobs=5)]: Done 650 tasks      | elapsed:    2.3s\n",
            "[Parallel(n_jobs=5)]: Done 720 out of 720 | elapsed:    2.4s finished\n",
            "[Parallel(n_jobs=5)]: Using backend LokyBackend with 5 concurrent workers.\n",
            "[Parallel(n_jobs=5)]: Batch computation too fast (0.0096s.) Setting batch_size=2.\n",
            "[Parallel(n_jobs=5)]: Done   3 tasks      | elapsed:    0.0s\n",
            "[Parallel(n_jobs=5)]: Done   8 tasks      | elapsed:    0.1s\n",
            "[Parallel(n_jobs=5)]: Batch computation too fast (0.0434s.) Setting batch_size=4.\n",
            "[Parallel(n_jobs=5)]: Done  20 tasks      | elapsed:    0.1s\n"
          ],
          "name": "stderr"
        },
        {
          "output_type": "stream",
          "text": [
            "it 9/10\n",
            "Fitting 5 folds for each of 48 candidates, totalling 240 fits\n"
          ],
          "name": "stdout"
        },
        {
          "output_type": "stream",
          "text": [
            "[Parallel(n_jobs=5)]: Batch computation too fast (0.1042s.) Setting batch_size=8.\n",
            "[Parallel(n_jobs=5)]: Done  38 tasks      | elapsed:    0.3s\n",
            "[Parallel(n_jobs=5)]: Done  78 tasks      | elapsed:    0.4s\n",
            "[Parallel(n_jobs=5)]: Batch computation too fast (0.1368s.) Setting batch_size=16.\n",
            "[Parallel(n_jobs=5)]: Done 150 tasks      | elapsed:    0.6s\n",
            "[Parallel(n_jobs=5)]: Batch computation too fast (0.1092s.) Setting batch_size=32.\n",
            "[Parallel(n_jobs=5)]: Done 240 out of 240 | elapsed:    0.8s finished\n",
            "/usr/local/lib/python3.6/dist-packages/sklearn/linear_model/_coordinate_descent.py:476: ConvergenceWarning: Objective did not converge. You might want to increase the number of iterations. Duality gap: 198211.27461356495, tolerance: 19370.54008615385\n",
            "  positive)\n",
            "[Parallel(n_jobs=5)]: Using backend LokyBackend with 5 concurrent workers.\n",
            "[Parallel(n_jobs=5)]: Batch computation too fast (0.0148s.) Setting batch_size=2.\n",
            "[Parallel(n_jobs=5)]: Done   3 tasks      | elapsed:    0.0s\n",
            "[Parallel(n_jobs=5)]: Done   8 tasks      | elapsed:    0.0s\n",
            "[Parallel(n_jobs=5)]: Batch computation too fast (0.0370s.) Setting batch_size=4.\n"
          ],
          "name": "stderr"
        },
        {
          "output_type": "stream",
          "text": [
            "Fitting 5 folds for each of 144 candidates, totalling 720 fits\n"
          ],
          "name": "stdout"
        },
        {
          "output_type": "stream",
          "text": [
            "[Parallel(n_jobs=5)]: Done  20 tasks      | elapsed:    0.1s\n",
            "[Parallel(n_jobs=5)]: Batch computation too fast (0.0634s.) Setting batch_size=8.\n",
            "[Parallel(n_jobs=5)]: Done  38 tasks      | elapsed:    0.2s\n",
            "[Parallel(n_jobs=5)]: Done  78 tasks      | elapsed:    0.4s\n",
            "[Parallel(n_jobs=5)]: Batch computation too fast (0.1376s.) Setting batch_size=16.\n",
            "[Parallel(n_jobs=5)]: Done 150 tasks      | elapsed:    0.7s\n",
            "[Parallel(n_jobs=5)]: Done 326 tasks      | elapsed:    1.2s\n",
            "[Parallel(n_jobs=5)]: Done 502 tasks      | elapsed:    2.1s\n",
            "[Parallel(n_jobs=5)]: Done 665 tasks      | elapsed:    2.3s\n",
            "[Parallel(n_jobs=5)]: Done 720 out of 720 | elapsed:    2.4s finished\n",
            "[Parallel(n_jobs=5)]: Using backend LokyBackend with 5 concurrent workers.\n",
            "[Parallel(n_jobs=5)]: Batch computation too fast (0.0088s.) Setting batch_size=2.\n",
            "[Parallel(n_jobs=5)]: Batch computation too fast (0.0088s.) Setting batch_size=4.\n",
            "[Parallel(n_jobs=5)]: Done   2 tasks      | elapsed:    0.0s\n",
            "[Parallel(n_jobs=5)]: Done   6 tasks      | elapsed:    0.0s\n",
            "[Parallel(n_jobs=5)]: Done  14 tasks      | elapsed:    0.1s\n",
            "[Parallel(n_jobs=5)]: Batch computation too fast (0.0572s.) Setting batch_size=8.\n"
          ],
          "name": "stderr"
        },
        {
          "output_type": "stream",
          "text": [
            "it 10/10\n",
            "Fitting 5 folds for each of 48 candidates, totalling 240 fits\n"
          ],
          "name": "stdout"
        },
        {
          "output_type": "stream",
          "text": [
            "[Parallel(n_jobs=5)]: Done  42 tasks      | elapsed:    0.2s\n",
            "[Parallel(n_jobs=5)]: Batch computation too fast (0.1451s.) Setting batch_size=16.\n",
            "[Parallel(n_jobs=5)]: Done  90 tasks      | elapsed:    0.4s\n",
            "[Parallel(n_jobs=5)]: Batch computation too fast (0.0687s.) Setting batch_size=32.\n",
            "[Parallel(n_jobs=5)]: Done 149 tasks      | elapsed:    0.6s\n",
            "[Parallel(n_jobs=5)]: Done 188 tasks      | elapsed:    0.7s\n",
            "[Parallel(n_jobs=5)]: Done 229 tasks      | elapsed:    0.7s\n",
            "[Parallel(n_jobs=5)]: Done 240 out of 240 | elapsed:    0.8s finished\n",
            "/usr/local/lib/python3.6/dist-packages/sklearn/linear_model/_coordinate_descent.py:476: ConvergenceWarning: Objective did not converge. You might want to increase the number of iterations. Duality gap: 163685.78119513032, tolerance: 17553.364439999998\n",
            "  positive)\n",
            "[Parallel(n_jobs=5)]: Using backend LokyBackend with 5 concurrent workers.\n",
            "[Parallel(n_jobs=5)]: Batch computation too fast (0.0117s.) Setting batch_size=2.\n",
            "[Parallel(n_jobs=5)]: Done   3 tasks      | elapsed:    0.0s\n",
            "[Parallel(n_jobs=5)]: Done   8 tasks      | elapsed:    0.0s\n",
            "[Parallel(n_jobs=5)]: Batch computation too fast (0.0638s.) Setting batch_size=4.\n"
          ],
          "name": "stderr"
        },
        {
          "output_type": "stream",
          "text": [
            "Fitting 5 folds for each of 144 candidates, totalling 720 fits\n"
          ],
          "name": "stdout"
        },
        {
          "output_type": "stream",
          "text": [
            "[Parallel(n_jobs=5)]: Done  20 tasks      | elapsed:    0.1s\n",
            "[Parallel(n_jobs=5)]: Batch computation too fast (0.0817s.) Setting batch_size=8.\n",
            "[Parallel(n_jobs=5)]: Done  38 tasks      | elapsed:    0.2s\n",
            "[Parallel(n_jobs=5)]: Batch computation too fast (0.1055s.) Setting batch_size=16.\n",
            "[Parallel(n_jobs=5)]: Done  78 tasks      | elapsed:    0.3s\n",
            "[Parallel(n_jobs=5)]: Done 150 tasks      | elapsed:    0.8s\n",
            "[Parallel(n_jobs=5)]: Done 326 tasks      | elapsed:    1.2s\n",
            "[Parallel(n_jobs=5)]: Done 502 tasks      | elapsed:    2.1s\n",
            "[Parallel(n_jobs=5)]: Done 650 tasks      | elapsed:    2.3s\n",
            "[Parallel(n_jobs=5)]: Done 720 out of 720 | elapsed:    2.4s finished\n"
          ],
          "name": "stderr"
        }
      ]
    },
    {
      "cell_type": "code",
      "metadata": {
        "id": "71BvnfGDaJGv",
        "colab_type": "code",
        "outputId": "270c06b1-384e-49ed-e6db-87caf6ce032a",
        "colab": {
          "base_uri": "https://localhost:8080/",
          "height": 265
        }
      },
      "source": [
        "plt.boxplot(MAE_EN)\n",
        "plt.xticks(ticks=np.arange(len(steps))+1,labels=label_model_EN)\n",
        "plt.show()"
      ],
      "execution_count": 113,
      "outputs": [
        {
          "output_type": "display_data",
          "data": {
            "image/png": "[encoded data removed]",
            "text/plain": [
              "<Figure size 432x288 with 1 Axes>"
            ]
          },
          "metadata": {
            "tags": [],
            "needs_background": "light"
          }
        }
      ]
    },
    {
      "cell_type": "code",
      "metadata": {
        "id": "FqKuGqQQaJRc",
        "colab_type": "code",
        "outputId": "4cfbe08b-211b-482e-9ad8-e077ca568bf6",
        "colab": {
          "base_uri": "https://localhost:8080/",
          "height": 187
        }
      },
      "source": [
        "MAE_EN"
      ],
      "execution_count": 114,
      "outputs": [
        {
          "output_type": "execute_result",
          "data": {
            "text/plain": [
              "array([[ 6066.81559387, 22216.03950601],\n",
              "       [ 5525.55094647, 12975.42370695],\n",
              "       [ 4248.8291056 , 17463.1114159 ],\n",
              "       [ 6096.43528628,  7846.30730547],\n",
              "       [ 8022.15507162, 20772.9025105 ],\n",
              "       [ 4466.25632993, 14319.99755534],\n",
              "       [ 5034.13319929, 14584.47662992],\n",
              "       [ 4131.38679602, 12789.72554537],\n",
              "       [ 7222.06638784, 17679.78019082],\n",
              "       [ 8263.18957373, 15090.76601077]])"
            ]
          },
          "metadata": {
            "tags": []
          },
          "execution_count": 114
        }
      ]
    },
    {
      "cell_type": "code",
      "metadata": {
        "id": "98LpiNQ-csDb",
        "colab_type": "code",
        "outputId": "70ced037-365c-456c-981c-15593e3f774f",
        "colab": {
          "base_uri": "https://localhost:8080/",
          "height": 357
        }
      },
      "source": [
        "B_Hiperpara_EN"
      ],
      "execution_count": 115,
      "outputs": [
        {
          "output_type": "execute_result",
          "data": {
            "text/plain": [
              "[{'reg__alpha': 0.01, 'reg__l1_ratio': 1},\n",
              " {'reg__alpha': 0.001, 'reg__l1_ratio': 10, 'rep__n_components': 0.5},\n",
              " {'reg__alpha': 0.001, 'reg__l1_ratio': 0.5},\n",
              " {'reg__alpha': 0.001, 'reg__l1_ratio': 100, 'rep__n_components': 0.5},\n",
              " {'reg__alpha': 0.001, 'reg__l1_ratio': 0.5},\n",
              " {'reg__alpha': 0.01, 'reg__l1_ratio': 7.5, 'rep__n_components': 0.5},\n",
              " {'reg__alpha': 0.1, 'reg__l1_ratio': 1},\n",
              " {'reg__alpha': 0.01, 'reg__l1_ratio': 7.5, 'rep__n_components': 0.5},\n",
              " {'reg__alpha': 0.1, 'reg__l1_ratio': 1},\n",
              " {'reg__alpha': 0.001, 'reg__l1_ratio': 7.5, 'rep__n_components': 0.5},\n",
              " {'reg__alpha': 0.001, 'reg__l1_ratio': 1},\n",
              " {'reg__alpha': 0.001, 'reg__l1_ratio': 7.5, 'rep__n_components': 0.5},\n",
              " {'reg__alpha': 0.1, 'reg__l1_ratio': 1},\n",
              " {'reg__alpha': 0.001, 'reg__l1_ratio': 100, 'rep__n_components': 0.5},\n",
              " {'reg__alpha': 0.1, 'reg__l1_ratio': 1},\n",
              " {'reg__alpha': 10, 'reg__l1_ratio': 1, 'rep__n_components': 0.5},\n",
              " {'reg__alpha': 0.001, 'reg__l1_ratio': 0.5},\n",
              " {'reg__alpha': 0.001, 'reg__l1_ratio': 10, 'rep__n_components': 0.5},\n",
              " {'reg__alpha': 0.001, 'reg__l1_ratio': 1},\n",
              " {'reg__alpha': 0.01, 'reg__l1_ratio': 7.5, 'rep__n_components': 0.5}]"
            ]
          },
          "metadata": {
            "tags": []
          },
          "execution_count": 115
        }
      ]
    },
    {
      "cell_type": "code",
      "metadata": {
        "id": "9FQH_kDecvM9",
        "colab_type": "code",
        "outputId": "dc4b4e15-8676-41c8-9b27-d09576370b44",
        "colab": {
          "base_uri": "https://localhost:8080/",
          "height": 241
        }
      },
      "source": [
        "steps =  [('scaler', StandardScaler()),\n",
        "          #('rep', PCA(n_components=0.5)),                         \n",
        "          ('reg', ElasticNet(alpha=0.001, l1_ratio=1))]\n",
        "\n",
        "Mod_SC_EN = Pipeline(steps = steps)\n",
        "Mod_SC_EN.fit(X_train,y_train)"
      ],
      "execution_count": 116,
      "outputs": [
        {
          "output_type": "stream",
          "text": [
            "/usr/local/lib/python3.6/dist-packages/sklearn/linear_model/_coordinate_descent.py:476: ConvergenceWarning: Objective did not converge. You might want to increase the number of iterations. Duality gap: 209201.25238111094, tolerance: 21897.137313846153\n",
            "  positive)\n"
          ],
          "name": "stderr"
        },
        {
          "output_type": "execute_result",
          "data": {
            "text/plain": [
              "Pipeline(memory=None,\n",
              "         steps=[('scaler',\n",
              "                 StandardScaler(copy=True, with_mean=True, with_std=True)),\n",
              "                ('reg',\n",
              "                 ElasticNet(alpha=0.001, copy_X=True, fit_intercept=True,\n",
              "                            l1_ratio=1, max_iter=1000, normalize=False,\n",
              "                            positive=False, precompute=False, random_state=None,\n",
              "                            selection='cyclic', tol=0.0001,\n",
              "                            warm_start=False))],\n",
              "         verbose=False)"
            ]
          },
          "metadata": {
            "tags": []
          },
          "execution_count": 116
        }
      ]
    },
    {
      "cell_type": "code",
      "metadata": {
        "id": "8Iu1xLhkcsTM",
        "colab_type": "code",
        "outputId": "56322de9-2e76-4002-e57a-6a6862898a45",
        "colab": {
          "base_uri": "https://localhost:8080/",
          "height": 51
        }
      },
      "source": [
        "Xn = X[-1]\n",
        "#Xn = [4881, 5142, 5379, 5948, 6207]\n",
        "#Xn=np.matrix([Xn])\n",
        "\n",
        "Xn = Xn.reshape(1,-1)\n",
        "Pre_SC_EN = Mod_SC_EN.predict(Xn)\n",
        "\n",
        "print('Número de contagiados en los últimos 5 días:',Xn)\n",
        "print('Predicción contagios para',date.today(),'usando un modelo LinearElasticNet:',Pre_SC_EN)"
      ],
      "execution_count": 117,
      "outputs": [
        {
          "output_type": "stream",
          "text": [
            "Número de contagiados en los últimos 5 días: [[4561 4881 5142 5379 5597]]\n",
            "Predicción contagios para 2020-04-30 usando un modelo LinearElasticNet: [6256.08574286]\n"
          ],
          "name": "stdout"
        }
      ]
    },
    {
      "cell_type": "markdown",
      "metadata": {
        "id": "nyun9RHoWFZw",
        "colab_type": "text"
      },
      "source": [
        "#### Validación Cruzada Anidada KR:\n",
        "\n",
        "- Normalización StandadScalar\n",
        "- Representación PCA\n",
        "- Regresor KernelRidge"
      ]
    },
    {
      "cell_type": "code",
      "metadata": {
        "id": "G58Fq58jT-FT",
        "colab_type": "code",
        "outputId": "ea409d40-fe75-4962-96d7-b93e4d441643",
        "colab": {
          "base_uri": "https://localhost:8080/",
          "height": 1000
        }
      },
      "source": [
        "steps = [\n",
        "         [('scaler', StandardScaler()),           #estandarizar cada atributo columna de xtrain centrada en 0 y var = 1\n",
        "          ('reg',  KernelRidge(kernel = 'rbf'))],\n",
        "         [('scaler', StandardScaler()),\n",
        "          ('rep', PCA()),                         \n",
        "          ('reg',  KernelRidge(kernel = 'rbf'))]\n",
        "          ]\n",
        "\n",
        "parameters = [\n",
        "                {'reg__gamma':[1e-3,1e-2,1e-1,1,10,100],\n",
        "                 'reg__alpha':[1e-3,1e-2,1e-1,1,10,100]\n",
        "                 },\n",
        "                {'reg__gamma':[1e-3,1e-2,1e-1,1,10,100],\n",
        "                 'reg__alpha':[1e-3,1e-2,1e-1,1,10,100],\n",
        "                 'rep__n_components':[0.5,0.75,0.9]\n",
        "                 }\n",
        "               ]\n",
        "\n",
        "label_model_KR = ['NorSC-KRRBF','NorSC-PCA-KRRBF']\n",
        "\n",
        "B_Model_KR, B_Hiperpara_KR, MAE_KR = V_Cruzada_Anidada(X,y,steps,parameters)"
      ],
      "execution_count": 118,
      "outputs": [
        {
          "output_type": "stream",
          "text": [
            "[Parallel(n_jobs=5)]: Using backend LokyBackend with 5 concurrent workers.\n",
            "[Parallel(n_jobs=5)]: Batch computation too fast (0.0234s.) Setting batch_size=2.\n",
            "[Parallel(n_jobs=5)]: Done   3 tasks      | elapsed:    0.0s\n",
            "[Parallel(n_jobs=5)]: Done   8 tasks      | elapsed:    0.1s\n",
            "[Parallel(n_jobs=5)]: Batch computation too fast (0.0587s.) Setting batch_size=4.\n",
            "[Parallel(n_jobs=5)]: Done  20 tasks      | elapsed:    0.1s\n",
            "[Parallel(n_jobs=5)]: Batch computation too fast (0.0436s.) Setting batch_size=8.\n"
          ],
          "name": "stderr"
        },
        {
          "output_type": "stream",
          "text": [
            "it 1/10\n",
            "Fitting 5 folds for each of 36 candidates, totalling 180 fits\n"
          ],
          "name": "stdout"
        },
        {
          "output_type": "stream",
          "text": [
            "[Parallel(n_jobs=5)]: Done  38 tasks      | elapsed:    0.2s\n",
            "[Parallel(n_jobs=5)]: Done  78 tasks      | elapsed:    0.3s\n",
            "[Parallel(n_jobs=5)]: Batch computation too fast (0.1709s.) Setting batch_size=16.\n",
            "[Parallel(n_jobs=5)]: Done 143 tasks      | elapsed:    0.5s\n",
            "[Parallel(n_jobs=5)]: Done 161 tasks      | elapsed:    0.5s\n",
            "[Parallel(n_jobs=5)]: Done 180 out of 180 | elapsed:    0.6s finished\n",
            "[Parallel(n_jobs=5)]: Using backend LokyBackend with 5 concurrent workers.\n",
            "[Parallel(n_jobs=5)]: Batch computation too fast (0.0162s.) Setting batch_size=2.\n",
            "[Parallel(n_jobs=5)]: Done   3 tasks      | elapsed:    0.0s\n",
            "[Parallel(n_jobs=5)]: Done   8 tasks      | elapsed:    0.1s\n",
            "[Parallel(n_jobs=5)]: Batch computation too fast (0.0708s.) Setting batch_size=4.\n",
            "[Parallel(n_jobs=5)]: Done  20 tasks      | elapsed:    0.2s\n"
          ],
          "name": "stderr"
        },
        {
          "output_type": "stream",
          "text": [
            "Fitting 5 folds for each of 108 candidates, totalling 540 fits\n"
          ],
          "name": "stdout"
        },
        {
          "output_type": "stream",
          "text": [
            "[Parallel(n_jobs=5)]: Batch computation too fast (0.0628s.) Setting batch_size=8.\n",
            "[Parallel(n_jobs=5)]: Done  38 tasks      | elapsed:    0.3s\n",
            "[Parallel(n_jobs=5)]: Done  78 tasks      | elapsed:    0.4s\n",
            "[Parallel(n_jobs=5)]: Batch computation too fast (0.1602s.) Setting batch_size=16.\n",
            "[Parallel(n_jobs=5)]: Done 150 tasks      | elapsed:    0.7s\n",
            "[Parallel(n_jobs=5)]: Done 326 tasks      | elapsed:    1.3s\n",
            "[Parallel(n_jobs=5)]: Done 427 tasks      | elapsed:    1.7s\n",
            "[Parallel(n_jobs=5)]: Done 455 tasks      | elapsed:    1.7s\n",
            "[Parallel(n_jobs=5)]: Done 498 tasks      | elapsed:    1.8s\n",
            "[Parallel(n_jobs=5)]: Done 513 tasks      | elapsed:    1.9s\n",
            "[Parallel(n_jobs=5)]: Done 528 tasks      | elapsed:    1.9s\n",
            "[Parallel(n_jobs=5)]: Done 540 out of 540 | elapsed:    2.0s finished\n",
            "[Parallel(n_jobs=5)]: Using backend LokyBackend with 5 concurrent workers.\n",
            "[Parallel(n_jobs=5)]: Batch computation too fast (0.0078s.) Setting batch_size=2.\n",
            "[Parallel(n_jobs=5)]: Done   2 tasks      | elapsed:    0.0s\n",
            "[Parallel(n_jobs=5)]: Done   5 tasks      | elapsed:    0.0s\n"
          ],
          "name": "stderr"
        },
        {
          "output_type": "stream",
          "text": [
            "it 2/10\n",
            "Fitting 5 folds for each of 36 candidates, totalling 180 fits\n"
          ],
          "name": "stdout"
        },
        {
          "output_type": "stream",
          "text": [
            "[Parallel(n_jobs=5)]: Done  10 tasks      | elapsed:    0.1s\n",
            "[Parallel(n_jobs=5)]: Batch computation too fast (0.0619s.) Setting batch_size=4.\n",
            "[Parallel(n_jobs=5)]: Done  24 tasks      | elapsed:    0.2s\n",
            "[Parallel(n_jobs=5)]: Batch computation too fast (0.0693s.) Setting batch_size=8.\n",
            "[Parallel(n_jobs=5)]: Done  46 tasks      | elapsed:    0.2s\n",
            "[Parallel(n_jobs=5)]: Batch computation too fast (0.0879s.) Setting batch_size=16.\n",
            "[Parallel(n_jobs=5)]: Done  94 tasks      | elapsed:    0.4s\n",
            "[Parallel(n_jobs=5)]: Done 138 tasks      | elapsed:    0.5s\n",
            "[Parallel(n_jobs=5)]: Done 163 tasks      | elapsed:    0.6s\n",
            "[Parallel(n_jobs=5)]: Done 180 out of 180 | elapsed:    0.6s finished\n",
            "[Parallel(n_jobs=5)]: Using backend LokyBackend with 5 concurrent workers.\n",
            "[Parallel(n_jobs=5)]: Batch computation too fast (0.0173s.) Setting batch_size=2.\n",
            "[Parallel(n_jobs=5)]: Done   3 tasks      | elapsed:    0.0s\n",
            "[Parallel(n_jobs=5)]: Done   8 tasks      | elapsed:    0.1s\n",
            "[Parallel(n_jobs=5)]: Batch computation too fast (0.0474s.) Setting batch_size=4.\n"
          ],
          "name": "stderr"
        },
        {
          "output_type": "stream",
          "text": [
            "Fitting 5 folds for each of 108 candidates, totalling 540 fits\n"
          ],
          "name": "stdout"
        },
        {
          "output_type": "stream",
          "text": [
            "[Parallel(n_jobs=5)]: Done  20 tasks      | elapsed:    0.2s\n",
            "[Parallel(n_jobs=5)]: Batch computation too fast (0.1052s.) Setting batch_size=8.\n",
            "[Parallel(n_jobs=5)]: Done  38 tasks      | elapsed:    0.3s\n",
            "[Parallel(n_jobs=5)]: Done  78 tasks      | elapsed:    0.4s\n",
            "[Parallel(n_jobs=5)]: Batch computation too fast (0.1486s.) Setting batch_size=16.\n",
            "[Parallel(n_jobs=5)]: Done 150 tasks      | elapsed:    0.8s\n",
            "[Parallel(n_jobs=5)]: Done 326 tasks      | elapsed:    1.4s\n",
            "[Parallel(n_jobs=5)]: Done 427 tasks      | elapsed:    1.7s\n",
            "[Parallel(n_jobs=5)]: Done 485 tasks      | elapsed:    1.8s\n",
            "[Parallel(n_jobs=5)]: Done 498 tasks      | elapsed:    1.8s\n",
            "[Parallel(n_jobs=5)]: Done 513 tasks      | elapsed:    1.9s\n",
            "[Parallel(n_jobs=5)]: Done 528 tasks      | elapsed:    1.9s\n",
            "[Parallel(n_jobs=5)]: Done 540 out of 540 | elapsed:    2.0s finished\n",
            "[Parallel(n_jobs=5)]: Using backend LokyBackend with 5 concurrent workers.\n",
            "[Parallel(n_jobs=5)]: Batch computation too fast (0.0123s.) Setting batch_size=2.\n",
            "[Parallel(n_jobs=5)]: Done   3 tasks      | elapsed:    0.0s\n",
            "[Parallel(n_jobs=5)]: Done   8 tasks      | elapsed:    0.1s\n",
            "[Parallel(n_jobs=5)]: Batch computation too fast (0.0628s.) Setting batch_size=4.\n",
            "[Parallel(n_jobs=5)]: Done  20 tasks      | elapsed:    0.1s\n"
          ],
          "name": "stderr"
        },
        {
          "output_type": "stream",
          "text": [
            "it 3/10\n",
            "Fitting 5 folds for each of 36 candidates, totalling 180 fits\n"
          ],
          "name": "stdout"
        },
        {
          "output_type": "stream",
          "text": [
            "[Parallel(n_jobs=5)]: Batch computation too fast (0.0846s.) Setting batch_size=8.\n",
            "[Parallel(n_jobs=5)]: Done  38 tasks      | elapsed:    0.3s\n",
            "[Parallel(n_jobs=5)]: Done  78 tasks      | elapsed:    0.4s\n",
            "[Parallel(n_jobs=5)]: Batch computation too fast (0.1697s.) Setting batch_size=16.\n",
            "[Parallel(n_jobs=5)]: Done 143 tasks      | elapsed:    0.6s\n",
            "[Parallel(n_jobs=5)]: Done 161 tasks      | elapsed:    0.6s\n",
            "[Parallel(n_jobs=5)]: Done 180 out of 180 | elapsed:    0.7s finished\n",
            "[Parallel(n_jobs=5)]: Using backend LokyBackend with 5 concurrent workers.\n",
            "[Parallel(n_jobs=5)]: Done   1 tasks      | elapsed:    0.0s\n",
            "[Parallel(n_jobs=5)]: Batch computation too fast (0.0081s.) Setting batch_size=2.\n",
            "[Parallel(n_jobs=5)]: Batch computation too fast (0.0081s.) Setting batch_size=4.\n",
            "[Parallel(n_jobs=5)]: Done   5 tasks      | elapsed:    0.1s\n",
            "[Parallel(n_jobs=5)]: Batch computation too fast (0.0524s.) Setting batch_size=8.\n",
            "[Parallel(n_jobs=5)]: Done  24 tasks      | elapsed:    0.2s\n"
          ],
          "name": "stderr"
        },
        {
          "output_type": "stream",
          "text": [
            "Fitting 5 folds for each of 108 candidates, totalling 540 fits\n"
          ],
          "name": "stdout"
        },
        {
          "output_type": "stream",
          "text": [
            "[Parallel(n_jobs=5)]: Done  46 tasks      | elapsed:    0.4s\n",
            "[Parallel(n_jobs=5)]: Done 114 tasks      | elapsed:    0.6s\n",
            "[Parallel(n_jobs=5)]: Done 186 tasks      | elapsed:    1.0s\n",
            "[Parallel(n_jobs=5)]: Done 274 tasks      | elapsed:    1.2s\n",
            "[Parallel(n_jobs=5)]: Done 362 tasks      | elapsed:    1.6s\n",
            "[Parallel(n_jobs=5)]: Done 466 tasks      | elapsed:    1.9s\n",
            "[Parallel(n_jobs=5)]: Done 531 out of 540 | elapsed:    2.1s remaining:    0.0s\n",
            "[Parallel(n_jobs=5)]: Done 540 out of 540 | elapsed:    2.1s finished\n",
            "[Parallel(n_jobs=5)]: Using backend LokyBackend with 5 concurrent workers.\n",
            "[Parallel(n_jobs=5)]: Batch computation too fast (0.0143s.) Setting batch_size=2.\n",
            "[Parallel(n_jobs=5)]: Done   2 tasks      | elapsed:    0.0s\n",
            "[Parallel(n_jobs=5)]: Done   4 tasks      | elapsed:    0.0s\n"
          ],
          "name": "stderr"
        },
        {
          "output_type": "stream",
          "text": [
            "it 4/10\n",
            "Fitting 5 folds for each of 36 candidates, totalling 180 fits\n"
          ],
          "name": "stdout"
        },
        {
          "output_type": "stream",
          "text": [
            "[Parallel(n_jobs=5)]: Done   9 tasks      | elapsed:    0.1s\n",
            "[Parallel(n_jobs=5)]: Batch computation too fast (0.0448s.) Setting batch_size=4.\n",
            "[Parallel(n_jobs=5)]: Done  22 tasks      | elapsed:    0.1s\n",
            "[Parallel(n_jobs=5)]: Batch computation too fast (0.0854s.) Setting batch_size=8.\n",
            "[Parallel(n_jobs=5)]: Done  42 tasks      | elapsed:    0.2s\n",
            "[Parallel(n_jobs=5)]: Batch computation too fast (0.1451s.) Setting batch_size=16.\n",
            "[Parallel(n_jobs=5)]: Done  86 tasks      | elapsed:    0.4s\n",
            "[Parallel(n_jobs=5)]: Done 130 tasks      | elapsed:    0.5s\n",
            "[Parallel(n_jobs=5)]: Done 162 tasks      | elapsed:    0.6s\n",
            "[Parallel(n_jobs=5)]: Done 180 out of 180 | elapsed:    0.6s finished\n",
            "[Parallel(n_jobs=5)]: Using backend LokyBackend with 5 concurrent workers.\n",
            "[Parallel(n_jobs=5)]: Batch computation too fast (0.0174s.) Setting batch_size=2.\n",
            "[Parallel(n_jobs=5)]: Done   3 tasks      | elapsed:    0.0s\n",
            "[Parallel(n_jobs=5)]: Done   8 tasks      | elapsed:    0.1s\n",
            "[Parallel(n_jobs=5)]: Batch computation too fast (0.0600s.) Setting batch_size=4.\n",
            "[Parallel(n_jobs=5)]: Done  20 tasks      | elapsed:    0.1s\n"
          ],
          "name": "stderr"
        },
        {
          "output_type": "stream",
          "text": [
            "Fitting 5 folds for each of 108 candidates, totalling 540 fits\n"
          ],
          "name": "stdout"
        },
        {
          "output_type": "stream",
          "text": [
            "[Parallel(n_jobs=5)]: Batch computation too fast (0.0857s.) Setting batch_size=8.\n",
            "[Parallel(n_jobs=5)]: Done  38 tasks      | elapsed:    0.3s\n",
            "[Parallel(n_jobs=5)]: Done  78 tasks      | elapsed:    0.4s\n",
            "[Parallel(n_jobs=5)]: Batch computation too fast (0.1201s.) Setting batch_size=16.\n",
            "[Parallel(n_jobs=5)]: Done 150 tasks      | elapsed:    0.7s\n",
            "[Parallel(n_jobs=5)]: Batch computation too fast (0.1587s.) Setting batch_size=32.\n",
            "[Parallel(n_jobs=5)]: Done 342 tasks      | elapsed:    1.5s\n",
            "[Parallel(n_jobs=5)]: Done 384 tasks      | elapsed:    1.6s\n",
            "[Parallel(n_jobs=5)]: Done 459 tasks      | elapsed:    1.7s\n",
            "[Parallel(n_jobs=5)]: Done 472 tasks      | elapsed:    1.8s\n",
            "[Parallel(n_jobs=5)]: Done 518 tasks      | elapsed:    1.8s\n",
            "[Parallel(n_jobs=5)]: Done 540 out of 540 | elapsed:    1.9s finished\n",
            "[Parallel(n_jobs=5)]: Using backend LokyBackend with 5 concurrent workers.\n",
            "[Parallel(n_jobs=5)]: Batch computation too fast (0.0079s.) Setting batch_size=2.\n",
            "[Parallel(n_jobs=5)]: Done   3 tasks      | elapsed:    0.0s\n",
            "[Parallel(n_jobs=5)]: Done   8 tasks      | elapsed:    0.1s\n",
            "[Parallel(n_jobs=5)]: Batch computation too fast (0.0581s.) Setting batch_size=4.\n",
            "[Parallel(n_jobs=5)]: Done  20 tasks      | elapsed:    0.1s\n",
            "[Parallel(n_jobs=5)]: Batch computation too fast (0.0836s.) Setting batch_size=8.\n"
          ],
          "name": "stderr"
        },
        {
          "output_type": "stream",
          "text": [
            "it 5/10\n",
            "Fitting 5 folds for each of 36 candidates, totalling 180 fits\n"
          ],
          "name": "stdout"
        },
        {
          "output_type": "stream",
          "text": [
            "[Parallel(n_jobs=5)]: Done  38 tasks      | elapsed:    0.2s\n",
            "[Parallel(n_jobs=5)]: Done  78 tasks      | elapsed:    0.3s\n",
            "[Parallel(n_jobs=5)]: Batch computation too fast (0.1247s.) Setting batch_size=16.\n",
            "[Parallel(n_jobs=5)]: Done 136 tasks      | elapsed:    0.5s\n",
            "[Parallel(n_jobs=5)]: Done 154 tasks      | elapsed:    0.6s\n",
            "[Parallel(n_jobs=5)]: Done 180 out of 180 | elapsed:    0.6s finished\n",
            "[Parallel(n_jobs=5)]: Using backend LokyBackend with 5 concurrent workers.\n",
            "[Parallel(n_jobs=5)]: Batch computation too fast (0.0197s.) Setting batch_size=2.\n",
            "[Parallel(n_jobs=5)]: Batch computation too fast (0.0197s.) Setting batch_size=4.\n",
            "[Parallel(n_jobs=5)]: Done   2 tasks      | elapsed:    0.0s\n",
            "[Parallel(n_jobs=5)]: Done   6 tasks      | elapsed:    0.1s\n"
          ],
          "name": "stderr"
        },
        {
          "output_type": "stream",
          "text": [
            "Fitting 5 folds for each of 108 candidates, totalling 540 fits\n"
          ],
          "name": "stdout"
        },
        {
          "output_type": "stream",
          "text": [
            "[Parallel(n_jobs=5)]: Done  14 tasks      | elapsed:    0.1s\n",
            "[Parallel(n_jobs=5)]: Batch computation too fast (0.0570s.) Setting batch_size=8.\n",
            "[Parallel(n_jobs=5)]: Done  42 tasks      | elapsed:    0.2s\n",
            "[Parallel(n_jobs=5)]: Batch computation too fast (0.0903s.) Setting batch_size=16.\n",
            "[Parallel(n_jobs=5)]: Done  90 tasks      | elapsed:    0.5s\n",
            "[Parallel(n_jobs=5)]: Done 194 tasks      | elapsed:    0.9s\n",
            "[Parallel(n_jobs=5)]: Done 338 tasks      | elapsed:    1.3s\n",
            "[Parallel(n_jobs=5)]: Done 469 tasks      | elapsed:    1.8s\n",
            "[Parallel(n_jobs=5)]: Done 540 out of 540 | elapsed:    1.9s finished\n",
            "[Parallel(n_jobs=5)]: Using backend LokyBackend with 5 concurrent workers.\n",
            "[Parallel(n_jobs=5)]: Batch computation too fast (0.0167s.) Setting batch_size=2.\n",
            "[Parallel(n_jobs=5)]: Done   3 tasks      | elapsed:    0.0s\n",
            "[Parallel(n_jobs=5)]: Done   8 tasks      | elapsed:    0.0s\n",
            "[Parallel(n_jobs=5)]: Batch computation too fast (0.0372s.) Setting batch_size=4.\n",
            "[Parallel(n_jobs=5)]: Done  20 tasks      | elapsed:    0.1s\n"
          ],
          "name": "stderr"
        },
        {
          "output_type": "stream",
          "text": [
            "it 6/10\n",
            "Fitting 5 folds for each of 36 candidates, totalling 180 fits\n"
          ],
          "name": "stdout"
        },
        {
          "output_type": "stream",
          "text": [
            "[Parallel(n_jobs=5)]: Batch computation too fast (0.0623s.) Setting batch_size=8.\n",
            "[Parallel(n_jobs=5)]: Done  38 tasks      | elapsed:    0.2s\n",
            "[Parallel(n_jobs=5)]: Done  78 tasks      | elapsed:    0.3s\n",
            "[Parallel(n_jobs=5)]: Batch computation too fast (0.1306s.) Setting batch_size=16.\n",
            "[Parallel(n_jobs=5)]: Done 129 tasks      | elapsed:    0.5s\n",
            "[Parallel(n_jobs=5)]: Done 161 tasks      | elapsed:    0.5s\n",
            "[Parallel(n_jobs=5)]: Done 180 out of 180 | elapsed:    0.6s finished\n",
            "[Parallel(n_jobs=5)]: Using backend LokyBackend with 5 concurrent workers.\n",
            "[Parallel(n_jobs=5)]: Batch computation too fast (0.0193s.) Setting batch_size=2.\n",
            "[Parallel(n_jobs=5)]: Done   3 tasks      | elapsed:    0.0s\n",
            "[Parallel(n_jobs=5)]: Done   8 tasks      | elapsed:    0.1s\n"
          ],
          "name": "stderr"
        },
        {
          "output_type": "stream",
          "text": [
            "Fitting 5 folds for each of 108 candidates, totalling 540 fits\n"
          ],
          "name": "stdout"
        },
        {
          "output_type": "stream",
          "text": [
            "[Parallel(n_jobs=5)]: Batch computation too fast (0.0563s.) Setting batch_size=4.\n",
            "[Parallel(n_jobs=5)]: Done  20 tasks      | elapsed:    0.1s\n",
            "[Parallel(n_jobs=5)]: Batch computation too fast (0.0738s.) Setting batch_size=8.\n",
            "[Parallel(n_jobs=5)]: Done  38 tasks      | elapsed:    0.3s\n",
            "[Parallel(n_jobs=5)]: Done  78 tasks      | elapsed:    0.4s\n",
            "[Parallel(n_jobs=5)]: Batch computation too fast (0.1510s.) Setting batch_size=16.\n",
            "[Parallel(n_jobs=5)]: Done 150 tasks      | elapsed:    0.8s\n",
            "[Parallel(n_jobs=5)]: Done 326 tasks      | elapsed:    1.3s\n",
            "[Parallel(n_jobs=5)]: Done 427 tasks      | elapsed:    1.7s\n",
            "[Parallel(n_jobs=5)]: Done 470 tasks      | elapsed:    1.8s\n",
            "[Parallel(n_jobs=5)]: Done 498 tasks      | elapsed:    1.8s\n",
            "[Parallel(n_jobs=5)]: Done 513 tasks      | elapsed:    1.9s\n",
            "[Parallel(n_jobs=5)]: Done 528 tasks      | elapsed:    2.0s\n",
            "[Parallel(n_jobs=5)]: Done 540 out of 540 | elapsed:    2.0s finished\n",
            "[Parallel(n_jobs=5)]: Using backend LokyBackend with 5 concurrent workers.\n",
            "[Parallel(n_jobs=5)]: Batch computation too fast (0.0141s.) Setting batch_size=2.\n",
            "[Parallel(n_jobs=5)]: Batch computation too fast (0.0141s.) Setting batch_size=4.\n"
          ],
          "name": "stderr"
        },
        {
          "output_type": "stream",
          "text": [
            "it 7/10\n",
            "Fitting 5 folds for each of 36 candidates, totalling 180 fits\n"
          ],
          "name": "stdout"
        },
        {
          "output_type": "stream",
          "text": [
            "[Parallel(n_jobs=5)]: Done   4 tasks      | elapsed:    0.1s\n",
            "[Parallel(n_jobs=5)]: Done   9 tasks      | elapsed:    0.1s\n",
            "[Parallel(n_jobs=5)]: Batch computation too fast (0.0613s.) Setting batch_size=8.\n",
            "[Parallel(n_jobs=5)]: Done  34 tasks      | elapsed:    0.2s\n",
            "[Parallel(n_jobs=5)]: Batch computation too fast (0.1176s.) Setting batch_size=16.\n",
            "[Parallel(n_jobs=5)]: Done  74 tasks      | elapsed:    0.4s\n",
            "[Parallel(n_jobs=5)]: Done 125 tasks      | elapsed:    0.4s\n",
            "[Parallel(n_jobs=5)]: Done 141 tasks      | elapsed:    0.5s\n",
            "[Parallel(n_jobs=5)]: Done 152 tasks      | elapsed:    0.5s\n",
            "[Parallel(n_jobs=5)]: Done 163 tasks      | elapsed:    0.5s\n",
            "[Parallel(n_jobs=5)]: Done 180 out of 180 | elapsed:    0.6s finished\n"
          ],
          "name": "stderr"
        },
        {
          "output_type": "stream",
          "text": [
            "Fitting 5 folds for each of 108 candidates, totalling 540 fits\n"
          ],
          "name": "stdout"
        },
        {
          "output_type": "stream",
          "text": [
            "[Parallel(n_jobs=5)]: Using backend LokyBackend with 5 concurrent workers.\n",
            "[Parallel(n_jobs=5)]: Batch computation too fast (0.0175s.) Setting batch_size=2.\n",
            "[Parallel(n_jobs=5)]: Done   3 tasks      | elapsed:    0.0s\n",
            "[Parallel(n_jobs=5)]: Done   8 tasks      | elapsed:    0.1s\n",
            "[Parallel(n_jobs=5)]: Batch computation too fast (0.0492s.) Setting batch_size=4.\n",
            "[Parallel(n_jobs=5)]: Done  20 tasks      | elapsed:    0.1s\n",
            "[Parallel(n_jobs=5)]: Batch computation too fast (0.0811s.) Setting batch_size=8.\n",
            "[Parallel(n_jobs=5)]: Done  38 tasks      | elapsed:    0.2s\n",
            "[Parallel(n_jobs=5)]: Done  78 tasks      | elapsed:    0.5s\n",
            "[Parallel(n_jobs=5)]: Done 150 tasks      | elapsed:    0.7s\n",
            "[Parallel(n_jobs=5)]: Done 238 tasks      | elapsed:    1.0s\n",
            "[Parallel(n_jobs=5)]: Done 326 tasks      | elapsed:    1.4s\n",
            "[Parallel(n_jobs=5)]: Done 430 tasks      | elapsed:    1.7s\n",
            "[Parallel(n_jobs=5)]: Done 499 tasks      | elapsed:    1.9s\n",
            "[Parallel(n_jobs=5)]: Done 528 tasks      | elapsed:    2.0s\n",
            "[Parallel(n_jobs=5)]: Done 540 out of 540 | elapsed:    2.1s finished\n",
            "[Parallel(n_jobs=5)]: Using backend LokyBackend with 5 concurrent workers.\n",
            "[Parallel(n_jobs=5)]: Batch computation too fast (0.0138s.) Setting batch_size=2.\n",
            "[Parallel(n_jobs=5)]: Batch computation too fast (0.0138s.) Setting batch_size=4.\n",
            "[Parallel(n_jobs=5)]: Done   4 tasks      | elapsed:    0.0s\n",
            "[Parallel(n_jobs=5)]: Done   9 tasks      | elapsed:    0.1s\n",
            "[Parallel(n_jobs=5)]: Batch computation too fast (0.0386s.) Setting batch_size=8.\n"
          ],
          "name": "stderr"
        },
        {
          "output_type": "stream",
          "text": [
            "it 8/10\n",
            "Fitting 5 folds for each of 36 candidates, totalling 180 fits\n"
          ],
          "name": "stdout"
        },
        {
          "output_type": "stream",
          "text": [
            "[Parallel(n_jobs=5)]: Done  34 tasks      | elapsed:    0.2s\n",
            "[Parallel(n_jobs=5)]: Batch computation too fast (0.1423s.) Setting batch_size=16.\n",
            "[Parallel(n_jobs=5)]: Done  74 tasks      | elapsed:    0.4s\n",
            "[Parallel(n_jobs=5)]: Done 125 tasks      | elapsed:    0.5s\n",
            "[Parallel(n_jobs=5)]: Done 141 tasks      | elapsed:    0.5s\n",
            "[Parallel(n_jobs=5)]: Done 152 tasks      | elapsed:    0.5s\n",
            "[Parallel(n_jobs=5)]: Done 163 tasks      | elapsed:    0.6s\n",
            "[Parallel(n_jobs=5)]: Done 180 out of 180 | elapsed:    0.6s finished\n",
            "[Parallel(n_jobs=5)]: Using backend LokyBackend with 5 concurrent workers.\n",
            "[Parallel(n_jobs=5)]: Batch computation too fast (0.0084s.) Setting batch_size=2.\n",
            "[Parallel(n_jobs=5)]: Batch computation too fast (0.0084s.) Setting batch_size=4.\n",
            "[Parallel(n_jobs=5)]: Done   5 tasks      | elapsed:    0.1s\n",
            "[Parallel(n_jobs=5)]: Done  10 tasks      | elapsed:    0.1s\n",
            "[Parallel(n_jobs=5)]: Batch computation too fast (0.0717s.) Setting batch_size=8.\n"
          ],
          "name": "stderr"
        },
        {
          "output_type": "stream",
          "text": [
            "Fitting 5 folds for each of 108 candidates, totalling 540 fits\n"
          ],
          "name": "stdout"
        },
        {
          "output_type": "stream",
          "text": [
            "[Parallel(n_jobs=5)]: Done  38 tasks      | elapsed:    0.2s\n",
            "[Parallel(n_jobs=5)]: Batch computation too fast (0.0805s.) Setting batch_size=16.\n",
            "[Parallel(n_jobs=5)]: Done  82 tasks      | elapsed:    0.5s\n",
            "[Parallel(n_jobs=5)]: Done 178 tasks      | elapsed:    0.8s\n",
            "[Parallel(n_jobs=5)]: Done 322 tasks      | elapsed:    1.3s\n",
            "[Parallel(n_jobs=5)]: Done 483 tasks      | elapsed:    1.8s\n",
            "[Parallel(n_jobs=5)]: Done 540 out of 540 | elapsed:    1.9s finished\n",
            "[Parallel(n_jobs=5)]: Using backend LokyBackend with 5 concurrent workers.\n",
            "[Parallel(n_jobs=5)]: Batch computation too fast (0.0070s.) Setting batch_size=2.\n",
            "[Parallel(n_jobs=5)]: Batch computation too fast (0.0070s.) Setting batch_size=4.\n",
            "[Parallel(n_jobs=5)]: Done   3 tasks      | elapsed:    0.0s\n",
            "[Parallel(n_jobs=5)]: Done   8 tasks      | elapsed:    0.1s\n",
            "[Parallel(n_jobs=5)]: Batch computation too fast (0.0444s.) Setting batch_size=8.\n"
          ],
          "name": "stderr"
        },
        {
          "output_type": "stream",
          "text": [
            "it 9/10\n",
            "Fitting 5 folds for each of 36 candidates, totalling 180 fits\n"
          ],
          "name": "stdout"
        },
        {
          "output_type": "stream",
          "text": [
            "[Parallel(n_jobs=5)]: Done  22 tasks      | elapsed:    0.2s\n",
            "[Parallel(n_jobs=5)]: Batch computation too fast (0.0634s.) Setting batch_size=16.\n",
            "[Parallel(n_jobs=5)]: Done  70 tasks      | elapsed:    0.3s\n",
            "[Parallel(n_jobs=5)]: Batch computation too fast (0.1146s.) Setting batch_size=32.\n",
            "[Parallel(n_jobs=5)]: Done 107 tasks      | elapsed:    0.5s\n",
            "[Parallel(n_jobs=5)]: Done 161 tasks      | elapsed:    0.5s\n",
            "[Parallel(n_jobs=5)]: Done 170 tasks      | elapsed:    0.6s\n",
            "[Parallel(n_jobs=5)]: Done 180 out of 180 | elapsed:    0.6s finished\n"
          ],
          "name": "stderr"
        },
        {
          "output_type": "stream",
          "text": [
            "Fitting 5 folds for each of 108 candidates, totalling 540 fits\n"
          ],
          "name": "stdout"
        },
        {
          "output_type": "stream",
          "text": [
            "[Parallel(n_jobs=5)]: Using backend LokyBackend with 5 concurrent workers.\n",
            "[Parallel(n_jobs=5)]: Batch computation too fast (0.0204s.) Setting batch_size=2.\n",
            "[Parallel(n_jobs=5)]: Batch computation too fast (0.0204s.) Setting batch_size=4.\n",
            "[Parallel(n_jobs=5)]: Done   2 tasks      | elapsed:    0.0s\n",
            "[Parallel(n_jobs=5)]: Done   7 tasks      | elapsed:    0.1s\n",
            "[Parallel(n_jobs=5)]: Batch computation too fast (0.0452s.) Setting batch_size=8.\n",
            "[Parallel(n_jobs=5)]: Done  18 tasks      | elapsed:    0.1s\n",
            "[Parallel(n_jobs=5)]: Done  46 tasks      | elapsed:    0.3s\n",
            "[Parallel(n_jobs=5)]: Batch computation too fast (0.0876s.) Setting batch_size=16.\n",
            "[Parallel(n_jobs=5)]: Done  98 tasks      | elapsed:    0.6s\n",
            "[Parallel(n_jobs=5)]: Done 210 tasks      | elapsed:    1.0s\n",
            "[Parallel(n_jobs=5)]: Done 354 tasks      | elapsed:    1.4s\n",
            "[Parallel(n_jobs=5)]: Done 470 tasks      | elapsed:    1.8s\n",
            "[Parallel(n_jobs=5)]: Done 540 out of 540 | elapsed:    1.9s finished\n",
            "[Parallel(n_jobs=5)]: Using backend LokyBackend with 5 concurrent workers.\n",
            "[Parallel(n_jobs=5)]: Batch computation too fast (0.0086s.) Setting batch_size=2.\n",
            "[Parallel(n_jobs=5)]: Batch computation too fast (0.0086s.) Setting batch_size=4.\n",
            "[Parallel(n_jobs=5)]: Done   3 tasks      | elapsed:    0.0s\n",
            "[Parallel(n_jobs=5)]: Done   6 tasks      | elapsed:    0.1s\n"
          ],
          "name": "stderr"
        },
        {
          "output_type": "stream",
          "text": [
            "it 10/10\n",
            "Fitting 5 folds for each of 36 candidates, totalling 180 fits\n"
          ],
          "name": "stdout"
        },
        {
          "output_type": "stream",
          "text": [
            "[Parallel(n_jobs=5)]: Done  14 tasks      | elapsed:    0.1s\n",
            "[Parallel(n_jobs=5)]: Batch computation too fast (0.0680s.) Setting batch_size=8.\n",
            "[Parallel(n_jobs=5)]: Done  42 tasks      | elapsed:    0.2s\n",
            "[Parallel(n_jobs=5)]: Batch computation too fast (0.0944s.) Setting batch_size=16.\n",
            "[Parallel(n_jobs=5)]: Done  90 tasks      | elapsed:    0.4s\n",
            "[Parallel(n_jobs=5)]: Done 120 tasks      | elapsed:    0.5s\n",
            "[Parallel(n_jobs=5)]: Done 143 tasks      | elapsed:    0.5s\n",
            "[Parallel(n_jobs=5)]: Done 154 tasks      | elapsed:    0.6s\n",
            "[Parallel(n_jobs=5)]: Done 165 tasks      | elapsed:    0.6s\n",
            "[Parallel(n_jobs=5)]: Done 180 out of 180 | elapsed:    0.7s finished\n",
            "[Parallel(n_jobs=5)]: Using backend LokyBackend with 5 concurrent workers.\n",
            "[Parallel(n_jobs=5)]: Batch computation too fast (0.0161s.) Setting batch_size=2.\n",
            "[Parallel(n_jobs=5)]: Batch computation too fast (0.0161s.) Setting batch_size=4.\n",
            "[Parallel(n_jobs=5)]: Done   4 tasks      | elapsed:    0.0s\n",
            "[Parallel(n_jobs=5)]: Done   8 tasks      | elapsed:    0.1s\n",
            "[Parallel(n_jobs=5)]: Batch computation too fast (0.0637s.) Setting batch_size=8.\n"
          ],
          "name": "stderr"
        },
        {
          "output_type": "stream",
          "text": [
            "Fitting 5 folds for each of 108 candidates, totalling 540 fits\n"
          ],
          "name": "stdout"
        },
        {
          "output_type": "stream",
          "text": [
            "[Parallel(n_jobs=5)]: Done  22 tasks      | elapsed:    0.2s\n",
            "[Parallel(n_jobs=5)]: Batch computation too fast (0.0439s.) Setting batch_size=16.\n",
            "[Parallel(n_jobs=5)]: Done  70 tasks      | elapsed:    0.3s\n",
            "[Parallel(n_jobs=5)]: Batch computation too fast (0.1375s.) Setting batch_size=32.\n",
            "[Parallel(n_jobs=5)]: Done 214 tasks      | elapsed:    1.2s\n",
            "[Parallel(n_jobs=5)]: Done 378 tasks      | elapsed:    1.7s\n",
            "[Parallel(n_jobs=5)]: Done 449 tasks      | elapsed:    1.7s\n",
            "[Parallel(n_jobs=5)]: Done 460 tasks      | elapsed:    1.8s\n",
            "[Parallel(n_jobs=5)]: Done 502 tasks      | elapsed:    1.8s\n",
            "[Parallel(n_jobs=5)]: Done 515 tasks      | elapsed:    1.9s\n",
            "[Parallel(n_jobs=5)]: Done 528 tasks      | elapsed:    2.0s\n",
            "[Parallel(n_jobs=5)]: Done 540 out of 540 | elapsed:    2.0s finished\n"
          ],
          "name": "stderr"
        }
      ]
    },
    {
      "cell_type": "code",
      "metadata": {
        "id": "v_u_KAmvHmLd",
        "colab_type": "code",
        "outputId": "7b73f51c-0621-4dc5-da7e-318d62815a26",
        "colab": {
          "base_uri": "https://localhost:8080/",
          "height": 265
        }
      },
      "source": [
        "plt.boxplot(MAE_KR)\n",
        "plt.xticks(ticks=np.arange(len(steps))+1,labels=label_model_KR)\n",
        "plt.show()"
      ],
      "execution_count": 119,
      "outputs": [
        {
          "output_type": "display_data",
          "data": {
            "image/png": "[encoded data removed]",
            "text/plain": [
              "<Figure size 432x288 with 1 Axes>"
            ]
          },
          "metadata": {
            "tags": [],
            "needs_background": "light"
          }
        }
      ]
    },
    {
      "cell_type": "code",
      "metadata": {
        "id": "OKQ09AkWbMF8",
        "colab_type": "code",
        "outputId": "1cece443-3c81-4266-8062-3afdbc21d4a4",
        "colab": {
          "base_uri": "https://localhost:8080/",
          "height": 51
        }
      },
      "source": [
        "val = 100*100\n",
        "cont = -1\n",
        "for i in range(MAE_KR.shape[0]):\n",
        "  for j in range(MAE_KR.shape[1]):\n",
        "    cont +=1    \n",
        "    if (val > MAE_KR[i,j]):\n",
        "      val = MAE_KR[i,j]\n",
        "      pos = cont\n",
        "\n",
        "print(pos)\n",
        "print(val)"
      ],
      "execution_count": 120,
      "outputs": [
        {
          "output_type": "stream",
          "text": [
            "11\n",
            "1401.116992332871\n"
          ],
          "name": "stdout"
        }
      ]
    },
    {
      "cell_type": "code",
      "metadata": {
        "id": "sG2Gurk9xoJI",
        "colab_type": "code",
        "outputId": "1422d13e-f5b8-4247-edad-e6db0f0ce4a4",
        "colab": {
          "base_uri": "https://localhost:8080/",
          "height": 187
        }
      },
      "source": [
        "MAE_KR"
      ],
      "execution_count": 121,
      "outputs": [
        {
          "output_type": "execute_result",
          "data": {
            "text/plain": [
              "array([[26748.79044355, 17896.91058806],\n",
              "       [ 7280.61065663,  4452.67266784],\n",
              "       [ 4203.7230048 ,  2679.14637029],\n",
              "       [ 3329.21948239,  2230.60647068],\n",
              "       [ 3804.75537849,  5763.56944241],\n",
              "       [ 3941.17015154,  1401.11699233],\n",
              "       [ 4340.30653241,  2505.79817368],\n",
              "       [ 4681.35376752,  2616.39430818],\n",
              "       [ 3452.79333672,  2946.85770705],\n",
              "       [ 6963.04803807, 11236.54809235]])"
            ]
          },
          "metadata": {
            "tags": []
          },
          "execution_count": 121
        }
      ]
    },
    {
      "cell_type": "code",
      "metadata": {
        "id": "OWcd2fFSHmLg",
        "colab_type": "code",
        "outputId": "5d6132b8-b4d4-4d6c-b88c-8e415c02081d",
        "colab": {
          "base_uri": "https://localhost:8080/",
          "height": 204
        }
      },
      "source": [
        "B_Model_KR[pos]"
      ],
      "execution_count": 122,
      "outputs": [
        {
          "output_type": "execute_result",
          "data": {
            "text/plain": [
              "Pipeline(memory=None,\n",
              "         steps=[('scaler',\n",
              "                 StandardScaler(copy=True, with_mean=True, with_std=True)),\n",
              "                ('rep',\n",
              "                 PCA(copy=True, iterated_power='auto', n_components=0.5,\n",
              "                     random_state=None, svd_solver='auto', tol=0.0,\n",
              "                     whiten=False)),\n",
              "                ('reg',\n",
              "                 KernelRidge(alpha=0.001, coef0=1, degree=3, gamma=1,\n",
              "                             kernel='rbf', kernel_params=None))],\n",
              "         verbose=False)"
            ]
          },
          "metadata": {
            "tags": []
          },
          "execution_count": 122
        }
      ]
    },
    {
      "cell_type": "code",
      "metadata": {
        "id": "wYi_U8IMHmLk",
        "colab_type": "code",
        "outputId": "97a693da-1b20-4893-adb2-3ea8694bdedd",
        "colab": {
          "base_uri": "https://localhost:8080/",
          "height": 374
        }
      },
      "source": [
        "print(B_Hiperpara_KR[pos])\n",
        "B_Hiperpara_KR"
      ],
      "execution_count": 123,
      "outputs": [
        {
          "output_type": "stream",
          "text": [
            "{'reg__alpha': 0.001, 'reg__gamma': 1, 'rep__n_components': 0.5}\n"
          ],
          "name": "stdout"
        },
        {
          "output_type": "execute_result",
          "data": {
            "text/plain": [
              "[{'reg__alpha': 0.001, 'reg__gamma': 0.1},\n",
              " {'reg__alpha': 0.001, 'reg__gamma': 0.1, 'rep__n_components': 0.5},\n",
              " {'reg__alpha': 0.001, 'reg__gamma': 0.01},\n",
              " {'reg__alpha': 0.001, 'reg__gamma': 0.1, 'rep__n_components': 0.5},\n",
              " {'reg__alpha': 0.001, 'reg__gamma': 0.01},\n",
              " {'reg__alpha': 0.001, 'reg__gamma': 0.1, 'rep__n_components': 0.5},\n",
              " {'reg__alpha': 0.001, 'reg__gamma': 0.01},\n",
              " {'reg__alpha': 0.001, 'reg__gamma': 0.1, 'rep__n_components': 0.5},\n",
              " {'reg__alpha': 0.001, 'reg__gamma': 0.01},\n",
              " {'reg__alpha': 0.001, 'reg__gamma': 0.01, 'rep__n_components': 0.5},\n",
              " {'reg__alpha': 0.001, 'reg__gamma': 0.1},\n",
              " {'reg__alpha': 0.001, 'reg__gamma': 1, 'rep__n_components': 0.5},\n",
              " {'reg__alpha': 0.001, 'reg__gamma': 0.01},\n",
              " {'reg__alpha': 0.001, 'reg__gamma': 0.1, 'rep__n_components': 0.5},\n",
              " {'reg__alpha': 0.001, 'reg__gamma': 0.01},\n",
              " {'reg__alpha': 0.001, 'reg__gamma': 0.1, 'rep__n_components': 0.5},\n",
              " {'reg__alpha': 0.001, 'reg__gamma': 0.01},\n",
              " {'reg__alpha': 0.001, 'reg__gamma': 0.1, 'rep__n_components': 0.5},\n",
              " {'reg__alpha': 0.001, 'reg__gamma': 0.01},\n",
              " {'reg__alpha': 0.001, 'reg__gamma': 0.01, 'rep__n_components': 0.5}]"
            ]
          },
          "metadata": {
            "tags": []
          },
          "execution_count": 123
        }
      ]
    },
    {
      "cell_type": "code",
      "metadata": {
        "id": "lvxY5k99HmLo",
        "colab_type": "code",
        "outputId": "47edd951-a65c-4425-9594-fc05a167aa35",
        "colab": {
          "base_uri": "https://localhost:8080/",
          "height": 204
        }
      },
      "source": [
        "steps =  [('scaler', StandardScaler()),\n",
        "          ('rep', PCA(n_components=0.5)),                         \n",
        "          ('reg', KernelRidge(alpha=0.001, kernel='rbf', gamma=0.01))]\n",
        "\n",
        "Mod_SC_PCA_KRrbf = Pipeline(steps = steps)\n",
        "Mod_SC_PCA_KRrbf.fit(X_train,y_train)"
      ],
      "execution_count": 124,
      "outputs": [
        {
          "output_type": "execute_result",
          "data": {
            "text/plain": [
              "Pipeline(memory=None,\n",
              "         steps=[('scaler',\n",
              "                 StandardScaler(copy=True, with_mean=True, with_std=True)),\n",
              "                ('rep',\n",
              "                 PCA(copy=True, iterated_power='auto', n_components=0.5,\n",
              "                     random_state=None, svd_solver='auto', tol=0.0,\n",
              "                     whiten=False)),\n",
              "                ('reg',\n",
              "                 KernelRidge(alpha=0.001, coef0=1, degree=3, gamma=0.01,\n",
              "                             kernel='rbf', kernel_params=None))],\n",
              "         verbose=False)"
            ]
          },
          "metadata": {
            "tags": []
          },
          "execution_count": 124
        }
      ]
    },
    {
      "cell_type": "code",
      "metadata": {
        "id": "xJefOKVHNn7Y",
        "colab_type": "code",
        "outputId": "af669497-ddd6-4fb3-8481-32be4816520c",
        "colab": {
          "base_uri": "https://localhost:8080/",
          "height": 51
        }
      },
      "source": [
        "Xn = X[-1]\n",
        "#Xn = [4881, 5142, 5379, 5948, 6207]\n",
        "#Xn=np.matrix([Xn])\n",
        "\n",
        "Xn = Xn.reshape(1,-1)\n",
        "Pre_SC_PCA_KRrbf = Mod_SC_PCA_KRrbf.predict(Xn)\n",
        "\n",
        "print('Número de contagiados en los últimos 5 días:',Xn)\n",
        "print('Predicción contagios para',date.today(),'usando un modelo KernelRidge_rbf:',Pre_SC_PCA_KRrbf)"
      ],
      "execution_count": 125,
      "outputs": [
        {
          "output_type": "stream",
          "text": [
            "Número de contagiados en los últimos 5 días: [[4561 4881 5142 5379 5597]]\n",
            "Predicción contagios para 2020-04-30 usando un modelo KernelRidge_rbf: [[6245.88155132]]\n"
          ],
          "name": "stdout"
        }
      ]
    },
    {
      "cell_type": "code",
      "metadata": {
        "id": "95NSeJhfNoLA",
        "colab_type": "code",
        "colab": {
          "base_uri": "https://localhost:8080/",
          "height": 119
        },
        "outputId": "558644ac-f5ed-41ea-e1f6-8613897e553e"
      },
      "source": [
        "print('Número de contagiados en los últimos 5 días:',Xn)\n",
        "print('Predicción contagios para',date.today(),'usando un modelo LinearRegression:',Pre_SC_LR)\n",
        "print('Predicción contagios para',date.today(),'usando un modelo LinearRidge:',Pre_SC_R)\n",
        "print('Predicción contagios para',date.today(),'usando un modelo LinearLasso:',Pre_SC_L)\n",
        "print('Predicción contagios para',date.today(),'usando un modelo LinearElasticNet:',Pre_SC_EN)\n",
        "print('Predicción contagios para',date.today(),'usando un modelo KernelRidge_rbf:',Pre_SC_PCA_KRrbf)"
      ],
      "execution_count": 126,
      "outputs": [
        {
          "output_type": "stream",
          "text": [
            "Número de contagiados en los últimos 5 días: [[4561 4881 5142 5379 5597]]\n",
            "Predicción contagios para 2020-04-30 usando un modelo LinearRegression: [[6176.07241785]]\n",
            "Predicción contagios para 2020-04-30 usando un modelo LinearRidge: [[6175.62330528]]\n",
            "Predicción contagios para 2020-04-30 usando un modelo LinearLasso: [[6230.63196885]]\n",
            "Predicción contagios para 2020-04-30 usando un modelo LinearElasticNet: [6256.08574286]\n",
            "Predicción contagios para 2020-04-30 usando un modelo KernelRidge_rbf: [[6245.88155132]]\n"
          ],
          "name": "stdout"
        }
      ]
    },
    {
      "cell_type": "code",
      "metadata": {
        "id": "wybvs-CFf5sU",
        "colab_type": "code",
        "colab": {}
      },
      "source": [
        ""
      ],
      "execution_count": 0,
      "outputs": []
    },
    {
      "cell_type": "code",
      "metadata": {
        "id": "SkJhZgjkf5o5",
        "colab_type": "code",
        "colab": {}
      },
      "source": [
        ""
      ],
      "execution_count": 0,
      "outputs": []
    }
  ]
}