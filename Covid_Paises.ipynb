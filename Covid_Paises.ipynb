{
  "nbformat": 4,
  "nbformat_minor": 0,
  "metadata": {
    "kernelspec": {
      "display_name": "Python 3",
      "language": "python",
      "name": "python3"
    },
    "language_info": {
      "codemirror_mode": {
        "name": "ipython",
        "version": 3
      },
      "file_extension": ".py",
      "mimetype": "text/x-python",
      "name": "python",
      "nbconvert_exporter": "python",
      "pygments_lexer": "ipython3",
      "version": "3.7.3"
    },
    "colab": {
      "name": "Covid_Paises.ipynb",
      "provenance": [],
      "collapsed_sections": [],
      "toc_visible": true,
      "include_colab_link": true
    }
  },
  "cells": [
    {
      "cell_type": "markdown",
      "metadata": {
        "id": "view-in-github",
        "colab_type": "text"
      },
      "source": [
        "<a href=\"https://colab.research.google.com/github/sefrancogo/Analitica-de-Datos/blob/master/Covid_Paises.ipynb\" target=\"_parent\"><img src=\"https://colab.research.google.com/assets/colab-badge.svg\" alt=\"Open In Colab\"/></a>"
      ]
    },
    {
      "cell_type": "code",
      "metadata": {
        "id": "GHXQB1z1HmK0",
        "colab_type": "code",
        "outputId": "f0886fb3-053e-4b12-ca0c-be6076a53b82",
        "colab": {
          "base_uri": "https://localhost:8080/",
          "height": 626
        }
      },
      "source": [
        "!pip install wget \n",
        "import pandas as pd\n",
        "import numpy as np \n",
        "import wget \n",
        "import matplotlib.pyplot as plt\n",
        "%matplotlib inline\n",
        "\n",
        "url = \"https://data.humdata.org/hxlproxy/api/data-preview.csv?url=https%3A%2F%2Fraw.githubusercontent.com%2FCSSEGISandData%2FCOVID-19%2Fmaster%2Fcsse_covid_19_data%2Fcsse_covid_19_time_series%2Ftime_series_covid19_confirmed_global.csv&filename=time_series_covid19_confirmed_global.csv\"\n",
        "#path = 'data/Casos_positivos_de_COVID-19_en_Colombia04_15_2020.csv'\n",
        "\n",
        "wget.download(url, 'datos_covid_paises.cvs')\n",
        "data = pd.read_csv('datos_covid_paises.cvs')\n",
        "data"
      ],
      "execution_count": 1,
      "outputs": [
        {
          "output_type": "stream",
          "text": [
            "Collecting wget\n",
            "  Downloading https://files.pythonhosted.org/packages/47/6a/62e288da7bcda82b935ff0c6cfe542970f04e29c756b0e147251b2fb251f/wget-3.2.zip\n",
            "Building wheels for collected packages: wget\n",
            "  Building wheel for wget (setup.py) ... \u001b[?25l\u001b[?25hdone\n",
            "  Created wheel for wget: filename=wget-3.2-cp36-none-any.whl size=9682 sha256=e4ecf1adbe3489ffc87934f00933aa991982adcd3a842949693c2995fbef3ea0\n",
            "  Stored in directory: /root/.cache/pip/wheels/40/15/30/7d8f7cea2902b4db79e3fea550d7d7b85ecb27ef992b618f3f\n",
            "Successfully built wget\n",
            "Installing collected packages: wget\n",
            "Successfully installed wget-3.2\n"
          ],
          "name": "stdout"
        },
        {
          "output_type": "execute_result",
          "data": {
            "text/html": [
              "<div>\n",
              "<style scoped>\n",
              "    .dataframe tbody tr th:only-of-type {\n",
              "        vertical-align: middle;\n",
              "    }\n",
              "\n",
              "    .dataframe tbody tr th {\n",
              "        vertical-align: top;\n",
              "    }\n",
              "\n",
              "    .dataframe thead th {\n",
              "        text-align: right;\n",
              "    }\n",
              "</style>\n",
              "<table border=\"1\" class=\"dataframe\">\n",
              "  <thead>\n",
              "    <tr style=\"text-align: right;\">\n",
              "      <th></th>\n",
              "      <th>Province/State</th>\n",
              "      <th>Country/Region</th>\n",
              "      <th>Lat</th>\n",
              "      <th>Long</th>\n",
              "      <th>1/22/20</th>\n",
              "      <th>1/23/20</th>\n",
              "      <th>1/24/20</th>\n",
              "      <th>1/25/20</th>\n",
              "      <th>1/26/20</th>\n",
              "      <th>1/27/20</th>\n",
              "      <th>1/28/20</th>\n",
              "      <th>1/29/20</th>\n",
              "      <th>1/30/20</th>\n",
              "      <th>1/31/20</th>\n",
              "      <th>2/1/20</th>\n",
              "      <th>2/2/20</th>\n",
              "      <th>2/3/20</th>\n",
              "      <th>2/4/20</th>\n",
              "      <th>2/5/20</th>\n",
              "      <th>2/6/20</th>\n",
              "      <th>2/7/20</th>\n",
              "      <th>2/8/20</th>\n",
              "      <th>2/9/20</th>\n",
              "      <th>2/10/20</th>\n",
              "      <th>2/11/20</th>\n",
              "      <th>2/12/20</th>\n",
              "      <th>2/13/20</th>\n",
              "      <th>2/14/20</th>\n",
              "      <th>2/15/20</th>\n",
              "      <th>2/16/20</th>\n",
              "      <th>2/17/20</th>\n",
              "      <th>2/18/20</th>\n",
              "      <th>2/19/20</th>\n",
              "      <th>2/20/20</th>\n",
              "      <th>2/21/20</th>\n",
              "      <th>2/22/20</th>\n",
              "      <th>2/23/20</th>\n",
              "      <th>2/24/20</th>\n",
              "      <th>2/25/20</th>\n",
              "      <th>2/26/20</th>\n",
              "      <th>...</th>\n",
              "      <th>3/20/20</th>\n",
              "      <th>3/21/20</th>\n",
              "      <th>3/22/20</th>\n",
              "      <th>3/23/20</th>\n",
              "      <th>3/24/20</th>\n",
              "      <th>3/25/20</th>\n",
              "      <th>3/26/20</th>\n",
              "      <th>3/27/20</th>\n",
              "      <th>3/28/20</th>\n",
              "      <th>3/29/20</th>\n",
              "      <th>3/30/20</th>\n",
              "      <th>3/31/20</th>\n",
              "      <th>4/1/20</th>\n",
              "      <th>4/2/20</th>\n",
              "      <th>4/3/20</th>\n",
              "      <th>4/4/20</th>\n",
              "      <th>4/5/20</th>\n",
              "      <th>4/6/20</th>\n",
              "      <th>4/7/20</th>\n",
              "      <th>4/8/20</th>\n",
              "      <th>4/9/20</th>\n",
              "      <th>4/10/20</th>\n",
              "      <th>4/11/20</th>\n",
              "      <th>4/12/20</th>\n",
              "      <th>4/13/20</th>\n",
              "      <th>4/14/20</th>\n",
              "      <th>4/15/20</th>\n",
              "      <th>4/16/20</th>\n",
              "      <th>4/17/20</th>\n",
              "      <th>4/18/20</th>\n",
              "      <th>4/19/20</th>\n",
              "      <th>4/20/20</th>\n",
              "      <th>4/21/20</th>\n",
              "      <th>4/22/20</th>\n",
              "      <th>4/23/20</th>\n",
              "      <th>4/24/20</th>\n",
              "      <th>4/25/20</th>\n",
              "      <th>4/26/20</th>\n",
              "      <th>4/27/20</th>\n",
              "      <th>4/28/20</th>\n",
              "    </tr>\n",
              "  </thead>\n",
              "  <tbody>\n",
              "    <tr>\n",
              "      <th>0</th>\n",
              "      <td>NaN</td>\n",
              "      <td>Afghanistan</td>\n",
              "      <td>33.000000</td>\n",
              "      <td>65.000000</td>\n",
              "      <td>0</td>\n",
              "      <td>0</td>\n",
              "      <td>0</td>\n",
              "      <td>0</td>\n",
              "      <td>0</td>\n",
              "      <td>0</td>\n",
              "      <td>0</td>\n",
              "      <td>0</td>\n",
              "      <td>0</td>\n",
              "      <td>0</td>\n",
              "      <td>0</td>\n",
              "      <td>0</td>\n",
              "      <td>0</td>\n",
              "      <td>0</td>\n",
              "      <td>0</td>\n",
              "      <td>0</td>\n",
              "      <td>0</td>\n",
              "      <td>0</td>\n",
              "      <td>0</td>\n",
              "      <td>0</td>\n",
              "      <td>0</td>\n",
              "      <td>0</td>\n",
              "      <td>0</td>\n",
              "      <td>0</td>\n",
              "      <td>0</td>\n",
              "      <td>0</td>\n",
              "      <td>0</td>\n",
              "      <td>0</td>\n",
              "      <td>0</td>\n",
              "      <td>0</td>\n",
              "      <td>0</td>\n",
              "      <td>0</td>\n",
              "      <td>0</td>\n",
              "      <td>1</td>\n",
              "      <td>1</td>\n",
              "      <td>1</td>\n",
              "      <td>...</td>\n",
              "      <td>24</td>\n",
              "      <td>24</td>\n",
              "      <td>40</td>\n",
              "      <td>40</td>\n",
              "      <td>74</td>\n",
              "      <td>84</td>\n",
              "      <td>94</td>\n",
              "      <td>110</td>\n",
              "      <td>110</td>\n",
              "      <td>120</td>\n",
              "      <td>170</td>\n",
              "      <td>174</td>\n",
              "      <td>237</td>\n",
              "      <td>273</td>\n",
              "      <td>281</td>\n",
              "      <td>299</td>\n",
              "      <td>349</td>\n",
              "      <td>367</td>\n",
              "      <td>423</td>\n",
              "      <td>444</td>\n",
              "      <td>484</td>\n",
              "      <td>521</td>\n",
              "      <td>555</td>\n",
              "      <td>607</td>\n",
              "      <td>665</td>\n",
              "      <td>714</td>\n",
              "      <td>784</td>\n",
              "      <td>840</td>\n",
              "      <td>906</td>\n",
              "      <td>933</td>\n",
              "      <td>996</td>\n",
              "      <td>1026</td>\n",
              "      <td>1092</td>\n",
              "      <td>1176</td>\n",
              "      <td>1279</td>\n",
              "      <td>1351</td>\n",
              "      <td>1463</td>\n",
              "      <td>1531</td>\n",
              "      <td>1703</td>\n",
              "      <td>1828</td>\n",
              "    </tr>\n",
              "    <tr>\n",
              "      <th>1</th>\n",
              "      <td>NaN</td>\n",
              "      <td>Albania</td>\n",
              "      <td>41.153300</td>\n",
              "      <td>20.168300</td>\n",
              "      <td>0</td>\n",
              "      <td>0</td>\n",
              "      <td>0</td>\n",
              "      <td>0</td>\n",
              "      <td>0</td>\n",
              "      <td>0</td>\n",
              "      <td>0</td>\n",
              "      <td>0</td>\n",
              "      <td>0</td>\n",
              "      <td>0</td>\n",
              "      <td>0</td>\n",
              "      <td>0</td>\n",
              "      <td>0</td>\n",
              "      <td>0</td>\n",
              "      <td>0</td>\n",
              "      <td>0</td>\n",
              "      <td>0</td>\n",
              "      <td>0</td>\n",
              "      <td>0</td>\n",
              "      <td>0</td>\n",
              "      <td>0</td>\n",
              "      <td>0</td>\n",
              "      <td>0</td>\n",
              "      <td>0</td>\n",
              "      <td>0</td>\n",
              "      <td>0</td>\n",
              "      <td>0</td>\n",
              "      <td>0</td>\n",
              "      <td>0</td>\n",
              "      <td>0</td>\n",
              "      <td>0</td>\n",
              "      <td>0</td>\n",
              "      <td>0</td>\n",
              "      <td>0</td>\n",
              "      <td>0</td>\n",
              "      <td>0</td>\n",
              "      <td>...</td>\n",
              "      <td>70</td>\n",
              "      <td>76</td>\n",
              "      <td>89</td>\n",
              "      <td>104</td>\n",
              "      <td>123</td>\n",
              "      <td>146</td>\n",
              "      <td>174</td>\n",
              "      <td>186</td>\n",
              "      <td>197</td>\n",
              "      <td>212</td>\n",
              "      <td>223</td>\n",
              "      <td>243</td>\n",
              "      <td>259</td>\n",
              "      <td>277</td>\n",
              "      <td>304</td>\n",
              "      <td>333</td>\n",
              "      <td>361</td>\n",
              "      <td>377</td>\n",
              "      <td>383</td>\n",
              "      <td>400</td>\n",
              "      <td>409</td>\n",
              "      <td>416</td>\n",
              "      <td>433</td>\n",
              "      <td>446</td>\n",
              "      <td>467</td>\n",
              "      <td>475</td>\n",
              "      <td>494</td>\n",
              "      <td>518</td>\n",
              "      <td>539</td>\n",
              "      <td>548</td>\n",
              "      <td>562</td>\n",
              "      <td>584</td>\n",
              "      <td>609</td>\n",
              "      <td>634</td>\n",
              "      <td>663</td>\n",
              "      <td>678</td>\n",
              "      <td>712</td>\n",
              "      <td>726</td>\n",
              "      <td>736</td>\n",
              "      <td>750</td>\n",
              "    </tr>\n",
              "    <tr>\n",
              "      <th>2</th>\n",
              "      <td>NaN</td>\n",
              "      <td>Algeria</td>\n",
              "      <td>28.033900</td>\n",
              "      <td>1.659600</td>\n",
              "      <td>0</td>\n",
              "      <td>0</td>\n",
              "      <td>0</td>\n",
              "      <td>0</td>\n",
              "      <td>0</td>\n",
              "      <td>0</td>\n",
              "      <td>0</td>\n",
              "      <td>0</td>\n",
              "      <td>0</td>\n",
              "      <td>0</td>\n",
              "      <td>0</td>\n",
              "      <td>0</td>\n",
              "      <td>0</td>\n",
              "      <td>0</td>\n",
              "      <td>0</td>\n",
              "      <td>0</td>\n",
              "      <td>0</td>\n",
              "      <td>0</td>\n",
              "      <td>0</td>\n",
              "      <td>0</td>\n",
              "      <td>0</td>\n",
              "      <td>0</td>\n",
              "      <td>0</td>\n",
              "      <td>0</td>\n",
              "      <td>0</td>\n",
              "      <td>0</td>\n",
              "      <td>0</td>\n",
              "      <td>0</td>\n",
              "      <td>0</td>\n",
              "      <td>0</td>\n",
              "      <td>0</td>\n",
              "      <td>0</td>\n",
              "      <td>0</td>\n",
              "      <td>0</td>\n",
              "      <td>1</td>\n",
              "      <td>1</td>\n",
              "      <td>...</td>\n",
              "      <td>90</td>\n",
              "      <td>139</td>\n",
              "      <td>201</td>\n",
              "      <td>230</td>\n",
              "      <td>264</td>\n",
              "      <td>302</td>\n",
              "      <td>367</td>\n",
              "      <td>409</td>\n",
              "      <td>454</td>\n",
              "      <td>511</td>\n",
              "      <td>584</td>\n",
              "      <td>716</td>\n",
              "      <td>847</td>\n",
              "      <td>986</td>\n",
              "      <td>1171</td>\n",
              "      <td>1251</td>\n",
              "      <td>1320</td>\n",
              "      <td>1423</td>\n",
              "      <td>1468</td>\n",
              "      <td>1572</td>\n",
              "      <td>1666</td>\n",
              "      <td>1761</td>\n",
              "      <td>1825</td>\n",
              "      <td>1914</td>\n",
              "      <td>1983</td>\n",
              "      <td>2070</td>\n",
              "      <td>2160</td>\n",
              "      <td>2268</td>\n",
              "      <td>2418</td>\n",
              "      <td>2534</td>\n",
              "      <td>2629</td>\n",
              "      <td>2718</td>\n",
              "      <td>2811</td>\n",
              "      <td>2910</td>\n",
              "      <td>3007</td>\n",
              "      <td>3127</td>\n",
              "      <td>3256</td>\n",
              "      <td>3382</td>\n",
              "      <td>3517</td>\n",
              "      <td>3649</td>\n",
              "    </tr>\n",
              "    <tr>\n",
              "      <th>3</th>\n",
              "      <td>NaN</td>\n",
              "      <td>Andorra</td>\n",
              "      <td>42.506300</td>\n",
              "      <td>1.521800</td>\n",
              "      <td>0</td>\n",
              "      <td>0</td>\n",
              "      <td>0</td>\n",
              "      <td>0</td>\n",
              "      <td>0</td>\n",
              "      <td>0</td>\n",
              "      <td>0</td>\n",
              "      <td>0</td>\n",
              "      <td>0</td>\n",
              "      <td>0</td>\n",
              "      <td>0</td>\n",
              "      <td>0</td>\n",
              "      <td>0</td>\n",
              "      <td>0</td>\n",
              "      <td>0</td>\n",
              "      <td>0</td>\n",
              "      <td>0</td>\n",
              "      <td>0</td>\n",
              "      <td>0</td>\n",
              "      <td>0</td>\n",
              "      <td>0</td>\n",
              "      <td>0</td>\n",
              "      <td>0</td>\n",
              "      <td>0</td>\n",
              "      <td>0</td>\n",
              "      <td>0</td>\n",
              "      <td>0</td>\n",
              "      <td>0</td>\n",
              "      <td>0</td>\n",
              "      <td>0</td>\n",
              "      <td>0</td>\n",
              "      <td>0</td>\n",
              "      <td>0</td>\n",
              "      <td>0</td>\n",
              "      <td>0</td>\n",
              "      <td>0</td>\n",
              "      <td>...</td>\n",
              "      <td>75</td>\n",
              "      <td>88</td>\n",
              "      <td>113</td>\n",
              "      <td>133</td>\n",
              "      <td>164</td>\n",
              "      <td>188</td>\n",
              "      <td>224</td>\n",
              "      <td>267</td>\n",
              "      <td>308</td>\n",
              "      <td>334</td>\n",
              "      <td>370</td>\n",
              "      <td>376</td>\n",
              "      <td>390</td>\n",
              "      <td>428</td>\n",
              "      <td>439</td>\n",
              "      <td>466</td>\n",
              "      <td>501</td>\n",
              "      <td>525</td>\n",
              "      <td>545</td>\n",
              "      <td>564</td>\n",
              "      <td>583</td>\n",
              "      <td>601</td>\n",
              "      <td>601</td>\n",
              "      <td>638</td>\n",
              "      <td>646</td>\n",
              "      <td>659</td>\n",
              "      <td>673</td>\n",
              "      <td>673</td>\n",
              "      <td>696</td>\n",
              "      <td>704</td>\n",
              "      <td>713</td>\n",
              "      <td>717</td>\n",
              "      <td>717</td>\n",
              "      <td>723</td>\n",
              "      <td>723</td>\n",
              "      <td>731</td>\n",
              "      <td>738</td>\n",
              "      <td>738</td>\n",
              "      <td>743</td>\n",
              "      <td>743</td>\n",
              "    </tr>\n",
              "    <tr>\n",
              "      <th>4</th>\n",
              "      <td>NaN</td>\n",
              "      <td>Angola</td>\n",
              "      <td>-11.202700</td>\n",
              "      <td>17.873900</td>\n",
              "      <td>0</td>\n",
              "      <td>0</td>\n",
              "      <td>0</td>\n",
              "      <td>0</td>\n",
              "      <td>0</td>\n",
              "      <td>0</td>\n",
              "      <td>0</td>\n",
              "      <td>0</td>\n",
              "      <td>0</td>\n",
              "      <td>0</td>\n",
              "      <td>0</td>\n",
              "      <td>0</td>\n",
              "      <td>0</td>\n",
              "      <td>0</td>\n",
              "      <td>0</td>\n",
              "      <td>0</td>\n",
              "      <td>0</td>\n",
              "      <td>0</td>\n",
              "      <td>0</td>\n",
              "      <td>0</td>\n",
              "      <td>0</td>\n",
              "      <td>0</td>\n",
              "      <td>0</td>\n",
              "      <td>0</td>\n",
              "      <td>0</td>\n",
              "      <td>0</td>\n",
              "      <td>0</td>\n",
              "      <td>0</td>\n",
              "      <td>0</td>\n",
              "      <td>0</td>\n",
              "      <td>0</td>\n",
              "      <td>0</td>\n",
              "      <td>0</td>\n",
              "      <td>0</td>\n",
              "      <td>0</td>\n",
              "      <td>0</td>\n",
              "      <td>...</td>\n",
              "      <td>1</td>\n",
              "      <td>2</td>\n",
              "      <td>2</td>\n",
              "      <td>3</td>\n",
              "      <td>3</td>\n",
              "      <td>3</td>\n",
              "      <td>4</td>\n",
              "      <td>4</td>\n",
              "      <td>5</td>\n",
              "      <td>7</td>\n",
              "      <td>7</td>\n",
              "      <td>7</td>\n",
              "      <td>8</td>\n",
              "      <td>8</td>\n",
              "      <td>8</td>\n",
              "      <td>10</td>\n",
              "      <td>14</td>\n",
              "      <td>16</td>\n",
              "      <td>17</td>\n",
              "      <td>19</td>\n",
              "      <td>19</td>\n",
              "      <td>19</td>\n",
              "      <td>19</td>\n",
              "      <td>19</td>\n",
              "      <td>19</td>\n",
              "      <td>19</td>\n",
              "      <td>19</td>\n",
              "      <td>19</td>\n",
              "      <td>19</td>\n",
              "      <td>24</td>\n",
              "      <td>24</td>\n",
              "      <td>24</td>\n",
              "      <td>24</td>\n",
              "      <td>25</td>\n",
              "      <td>25</td>\n",
              "      <td>25</td>\n",
              "      <td>25</td>\n",
              "      <td>26</td>\n",
              "      <td>27</td>\n",
              "      <td>27</td>\n",
              "    </tr>\n",
              "    <tr>\n",
              "      <th>...</th>\n",
              "      <td>...</td>\n",
              "      <td>...</td>\n",
              "      <td>...</td>\n",
              "      <td>...</td>\n",
              "      <td>...</td>\n",
              "      <td>...</td>\n",
              "      <td>...</td>\n",
              "      <td>...</td>\n",
              "      <td>...</td>\n",
              "      <td>...</td>\n",
              "      <td>...</td>\n",
              "      <td>...</td>\n",
              "      <td>...</td>\n",
              "      <td>...</td>\n",
              "      <td>...</td>\n",
              "      <td>...</td>\n",
              "      <td>...</td>\n",
              "      <td>...</td>\n",
              "      <td>...</td>\n",
              "      <td>...</td>\n",
              "      <td>...</td>\n",
              "      <td>...</td>\n",
              "      <td>...</td>\n",
              "      <td>...</td>\n",
              "      <td>...</td>\n",
              "      <td>...</td>\n",
              "      <td>...</td>\n",
              "      <td>...</td>\n",
              "      <td>...</td>\n",
              "      <td>...</td>\n",
              "      <td>...</td>\n",
              "      <td>...</td>\n",
              "      <td>...</td>\n",
              "      <td>...</td>\n",
              "      <td>...</td>\n",
              "      <td>...</td>\n",
              "      <td>...</td>\n",
              "      <td>...</td>\n",
              "      <td>...</td>\n",
              "      <td>...</td>\n",
              "      <td>...</td>\n",
              "      <td>...</td>\n",
              "      <td>...</td>\n",
              "      <td>...</td>\n",
              "      <td>...</td>\n",
              "      <td>...</td>\n",
              "      <td>...</td>\n",
              "      <td>...</td>\n",
              "      <td>...</td>\n",
              "      <td>...</td>\n",
              "      <td>...</td>\n",
              "      <td>...</td>\n",
              "      <td>...</td>\n",
              "      <td>...</td>\n",
              "      <td>...</td>\n",
              "      <td>...</td>\n",
              "      <td>...</td>\n",
              "      <td>...</td>\n",
              "      <td>...</td>\n",
              "      <td>...</td>\n",
              "      <td>...</td>\n",
              "      <td>...</td>\n",
              "      <td>...</td>\n",
              "      <td>...</td>\n",
              "      <td>...</td>\n",
              "      <td>...</td>\n",
              "      <td>...</td>\n",
              "      <td>...</td>\n",
              "      <td>...</td>\n",
              "      <td>...</td>\n",
              "      <td>...</td>\n",
              "      <td>...</td>\n",
              "      <td>...</td>\n",
              "      <td>...</td>\n",
              "      <td>...</td>\n",
              "      <td>...</td>\n",
              "      <td>...</td>\n",
              "      <td>...</td>\n",
              "      <td>...</td>\n",
              "      <td>...</td>\n",
              "      <td>...</td>\n",
              "    </tr>\n",
              "    <tr>\n",
              "      <th>259</th>\n",
              "      <td>Saint Pierre and Miquelon</td>\n",
              "      <td>France</td>\n",
              "      <td>46.885200</td>\n",
              "      <td>-56.315900</td>\n",
              "      <td>0</td>\n",
              "      <td>0</td>\n",
              "      <td>0</td>\n",
              "      <td>0</td>\n",
              "      <td>0</td>\n",
              "      <td>0</td>\n",
              "      <td>0</td>\n",
              "      <td>0</td>\n",
              "      <td>0</td>\n",
              "      <td>0</td>\n",
              "      <td>0</td>\n",
              "      <td>0</td>\n",
              "      <td>0</td>\n",
              "      <td>0</td>\n",
              "      <td>0</td>\n",
              "      <td>0</td>\n",
              "      <td>0</td>\n",
              "      <td>0</td>\n",
              "      <td>0</td>\n",
              "      <td>0</td>\n",
              "      <td>0</td>\n",
              "      <td>0</td>\n",
              "      <td>0</td>\n",
              "      <td>0</td>\n",
              "      <td>0</td>\n",
              "      <td>0</td>\n",
              "      <td>0</td>\n",
              "      <td>0</td>\n",
              "      <td>0</td>\n",
              "      <td>0</td>\n",
              "      <td>0</td>\n",
              "      <td>0</td>\n",
              "      <td>0</td>\n",
              "      <td>0</td>\n",
              "      <td>0</td>\n",
              "      <td>0</td>\n",
              "      <td>...</td>\n",
              "      <td>0</td>\n",
              "      <td>0</td>\n",
              "      <td>0</td>\n",
              "      <td>0</td>\n",
              "      <td>0</td>\n",
              "      <td>0</td>\n",
              "      <td>0</td>\n",
              "      <td>0</td>\n",
              "      <td>0</td>\n",
              "      <td>0</td>\n",
              "      <td>0</td>\n",
              "      <td>0</td>\n",
              "      <td>0</td>\n",
              "      <td>0</td>\n",
              "      <td>0</td>\n",
              "      <td>0</td>\n",
              "      <td>1</td>\n",
              "      <td>1</td>\n",
              "      <td>1</td>\n",
              "      <td>1</td>\n",
              "      <td>1</td>\n",
              "      <td>1</td>\n",
              "      <td>1</td>\n",
              "      <td>1</td>\n",
              "      <td>1</td>\n",
              "      <td>1</td>\n",
              "      <td>1</td>\n",
              "      <td>1</td>\n",
              "      <td>1</td>\n",
              "      <td>1</td>\n",
              "      <td>1</td>\n",
              "      <td>1</td>\n",
              "      <td>1</td>\n",
              "      <td>1</td>\n",
              "      <td>1</td>\n",
              "      <td>1</td>\n",
              "      <td>1</td>\n",
              "      <td>1</td>\n",
              "      <td>1</td>\n",
              "      <td>1</td>\n",
              "    </tr>\n",
              "    <tr>\n",
              "      <th>260</th>\n",
              "      <td>NaN</td>\n",
              "      <td>South Sudan</td>\n",
              "      <td>6.877000</td>\n",
              "      <td>31.307000</td>\n",
              "      <td>0</td>\n",
              "      <td>0</td>\n",
              "      <td>0</td>\n",
              "      <td>0</td>\n",
              "      <td>0</td>\n",
              "      <td>0</td>\n",
              "      <td>0</td>\n",
              "      <td>0</td>\n",
              "      <td>0</td>\n",
              "      <td>0</td>\n",
              "      <td>0</td>\n",
              "      <td>0</td>\n",
              "      <td>0</td>\n",
              "      <td>0</td>\n",
              "      <td>0</td>\n",
              "      <td>0</td>\n",
              "      <td>0</td>\n",
              "      <td>0</td>\n",
              "      <td>0</td>\n",
              "      <td>0</td>\n",
              "      <td>0</td>\n",
              "      <td>0</td>\n",
              "      <td>0</td>\n",
              "      <td>0</td>\n",
              "      <td>0</td>\n",
              "      <td>0</td>\n",
              "      <td>0</td>\n",
              "      <td>0</td>\n",
              "      <td>0</td>\n",
              "      <td>0</td>\n",
              "      <td>0</td>\n",
              "      <td>0</td>\n",
              "      <td>0</td>\n",
              "      <td>0</td>\n",
              "      <td>0</td>\n",
              "      <td>0</td>\n",
              "      <td>...</td>\n",
              "      <td>0</td>\n",
              "      <td>0</td>\n",
              "      <td>0</td>\n",
              "      <td>0</td>\n",
              "      <td>0</td>\n",
              "      <td>0</td>\n",
              "      <td>0</td>\n",
              "      <td>0</td>\n",
              "      <td>0</td>\n",
              "      <td>0</td>\n",
              "      <td>0</td>\n",
              "      <td>0</td>\n",
              "      <td>0</td>\n",
              "      <td>0</td>\n",
              "      <td>0</td>\n",
              "      <td>0</td>\n",
              "      <td>1</td>\n",
              "      <td>1</td>\n",
              "      <td>2</td>\n",
              "      <td>2</td>\n",
              "      <td>3</td>\n",
              "      <td>4</td>\n",
              "      <td>4</td>\n",
              "      <td>4</td>\n",
              "      <td>4</td>\n",
              "      <td>4</td>\n",
              "      <td>4</td>\n",
              "      <td>4</td>\n",
              "      <td>4</td>\n",
              "      <td>4</td>\n",
              "      <td>4</td>\n",
              "      <td>4</td>\n",
              "      <td>4</td>\n",
              "      <td>4</td>\n",
              "      <td>5</td>\n",
              "      <td>5</td>\n",
              "      <td>5</td>\n",
              "      <td>6</td>\n",
              "      <td>6</td>\n",
              "      <td>34</td>\n",
              "    </tr>\n",
              "    <tr>\n",
              "      <th>261</th>\n",
              "      <td>NaN</td>\n",
              "      <td>Western Sahara</td>\n",
              "      <td>24.215500</td>\n",
              "      <td>-12.885800</td>\n",
              "      <td>0</td>\n",
              "      <td>0</td>\n",
              "      <td>0</td>\n",
              "      <td>0</td>\n",
              "      <td>0</td>\n",
              "      <td>0</td>\n",
              "      <td>0</td>\n",
              "      <td>0</td>\n",
              "      <td>0</td>\n",
              "      <td>0</td>\n",
              "      <td>0</td>\n",
              "      <td>0</td>\n",
              "      <td>0</td>\n",
              "      <td>0</td>\n",
              "      <td>0</td>\n",
              "      <td>0</td>\n",
              "      <td>0</td>\n",
              "      <td>0</td>\n",
              "      <td>0</td>\n",
              "      <td>0</td>\n",
              "      <td>0</td>\n",
              "      <td>0</td>\n",
              "      <td>0</td>\n",
              "      <td>0</td>\n",
              "      <td>0</td>\n",
              "      <td>0</td>\n",
              "      <td>0</td>\n",
              "      <td>0</td>\n",
              "      <td>0</td>\n",
              "      <td>0</td>\n",
              "      <td>0</td>\n",
              "      <td>0</td>\n",
              "      <td>0</td>\n",
              "      <td>0</td>\n",
              "      <td>0</td>\n",
              "      <td>0</td>\n",
              "      <td>...</td>\n",
              "      <td>0</td>\n",
              "      <td>0</td>\n",
              "      <td>0</td>\n",
              "      <td>0</td>\n",
              "      <td>0</td>\n",
              "      <td>0</td>\n",
              "      <td>0</td>\n",
              "      <td>0</td>\n",
              "      <td>0</td>\n",
              "      <td>0</td>\n",
              "      <td>0</td>\n",
              "      <td>0</td>\n",
              "      <td>0</td>\n",
              "      <td>0</td>\n",
              "      <td>0</td>\n",
              "      <td>0</td>\n",
              "      <td>4</td>\n",
              "      <td>4</td>\n",
              "      <td>4</td>\n",
              "      <td>4</td>\n",
              "      <td>4</td>\n",
              "      <td>4</td>\n",
              "      <td>4</td>\n",
              "      <td>6</td>\n",
              "      <td>6</td>\n",
              "      <td>6</td>\n",
              "      <td>6</td>\n",
              "      <td>6</td>\n",
              "      <td>6</td>\n",
              "      <td>6</td>\n",
              "      <td>6</td>\n",
              "      <td>6</td>\n",
              "      <td>6</td>\n",
              "      <td>6</td>\n",
              "      <td>6</td>\n",
              "      <td>6</td>\n",
              "      <td>6</td>\n",
              "      <td>6</td>\n",
              "      <td>6</td>\n",
              "      <td>6</td>\n",
              "    </tr>\n",
              "    <tr>\n",
              "      <th>262</th>\n",
              "      <td>NaN</td>\n",
              "      <td>Sao Tome and Principe</td>\n",
              "      <td>0.186360</td>\n",
              "      <td>6.613081</td>\n",
              "      <td>0</td>\n",
              "      <td>0</td>\n",
              "      <td>0</td>\n",
              "      <td>0</td>\n",
              "      <td>0</td>\n",
              "      <td>0</td>\n",
              "      <td>0</td>\n",
              "      <td>0</td>\n",
              "      <td>0</td>\n",
              "      <td>0</td>\n",
              "      <td>0</td>\n",
              "      <td>0</td>\n",
              "      <td>0</td>\n",
              "      <td>0</td>\n",
              "      <td>0</td>\n",
              "      <td>0</td>\n",
              "      <td>0</td>\n",
              "      <td>0</td>\n",
              "      <td>0</td>\n",
              "      <td>0</td>\n",
              "      <td>0</td>\n",
              "      <td>0</td>\n",
              "      <td>0</td>\n",
              "      <td>0</td>\n",
              "      <td>0</td>\n",
              "      <td>0</td>\n",
              "      <td>0</td>\n",
              "      <td>0</td>\n",
              "      <td>0</td>\n",
              "      <td>0</td>\n",
              "      <td>0</td>\n",
              "      <td>0</td>\n",
              "      <td>0</td>\n",
              "      <td>0</td>\n",
              "      <td>0</td>\n",
              "      <td>0</td>\n",
              "      <td>...</td>\n",
              "      <td>0</td>\n",
              "      <td>0</td>\n",
              "      <td>0</td>\n",
              "      <td>0</td>\n",
              "      <td>0</td>\n",
              "      <td>0</td>\n",
              "      <td>0</td>\n",
              "      <td>0</td>\n",
              "      <td>0</td>\n",
              "      <td>0</td>\n",
              "      <td>0</td>\n",
              "      <td>0</td>\n",
              "      <td>0</td>\n",
              "      <td>0</td>\n",
              "      <td>0</td>\n",
              "      <td>0</td>\n",
              "      <td>0</td>\n",
              "      <td>4</td>\n",
              "      <td>4</td>\n",
              "      <td>4</td>\n",
              "      <td>4</td>\n",
              "      <td>4</td>\n",
              "      <td>4</td>\n",
              "      <td>4</td>\n",
              "      <td>4</td>\n",
              "      <td>4</td>\n",
              "      <td>4</td>\n",
              "      <td>4</td>\n",
              "      <td>4</td>\n",
              "      <td>4</td>\n",
              "      <td>4</td>\n",
              "      <td>4</td>\n",
              "      <td>4</td>\n",
              "      <td>4</td>\n",
              "      <td>4</td>\n",
              "      <td>4</td>\n",
              "      <td>4</td>\n",
              "      <td>4</td>\n",
              "      <td>4</td>\n",
              "      <td>8</td>\n",
              "    </tr>\n",
              "    <tr>\n",
              "      <th>263</th>\n",
              "      <td>NaN</td>\n",
              "      <td>Yemen</td>\n",
              "      <td>15.552727</td>\n",
              "      <td>48.516388</td>\n",
              "      <td>0</td>\n",
              "      <td>0</td>\n",
              "      <td>0</td>\n",
              "      <td>0</td>\n",
              "      <td>0</td>\n",
              "      <td>0</td>\n",
              "      <td>0</td>\n",
              "      <td>0</td>\n",
              "      <td>0</td>\n",
              "      <td>0</td>\n",
              "      <td>0</td>\n",
              "      <td>0</td>\n",
              "      <td>0</td>\n",
              "      <td>0</td>\n",
              "      <td>0</td>\n",
              "      <td>0</td>\n",
              "      <td>0</td>\n",
              "      <td>0</td>\n",
              "      <td>0</td>\n",
              "      <td>0</td>\n",
              "      <td>0</td>\n",
              "      <td>0</td>\n",
              "      <td>0</td>\n",
              "      <td>0</td>\n",
              "      <td>0</td>\n",
              "      <td>0</td>\n",
              "      <td>0</td>\n",
              "      <td>0</td>\n",
              "      <td>0</td>\n",
              "      <td>0</td>\n",
              "      <td>0</td>\n",
              "      <td>0</td>\n",
              "      <td>0</td>\n",
              "      <td>0</td>\n",
              "      <td>0</td>\n",
              "      <td>0</td>\n",
              "      <td>...</td>\n",
              "      <td>0</td>\n",
              "      <td>0</td>\n",
              "      <td>0</td>\n",
              "      <td>0</td>\n",
              "      <td>0</td>\n",
              "      <td>0</td>\n",
              "      <td>0</td>\n",
              "      <td>0</td>\n",
              "      <td>0</td>\n",
              "      <td>0</td>\n",
              "      <td>0</td>\n",
              "      <td>0</td>\n",
              "      <td>0</td>\n",
              "      <td>0</td>\n",
              "      <td>0</td>\n",
              "      <td>0</td>\n",
              "      <td>0</td>\n",
              "      <td>0</td>\n",
              "      <td>0</td>\n",
              "      <td>0</td>\n",
              "      <td>0</td>\n",
              "      <td>1</td>\n",
              "      <td>1</td>\n",
              "      <td>1</td>\n",
              "      <td>1</td>\n",
              "      <td>1</td>\n",
              "      <td>1</td>\n",
              "      <td>1</td>\n",
              "      <td>1</td>\n",
              "      <td>1</td>\n",
              "      <td>1</td>\n",
              "      <td>1</td>\n",
              "      <td>1</td>\n",
              "      <td>1</td>\n",
              "      <td>1</td>\n",
              "      <td>1</td>\n",
              "      <td>1</td>\n",
              "      <td>1</td>\n",
              "      <td>1</td>\n",
              "      <td>1</td>\n",
              "    </tr>\n",
              "  </tbody>\n",
              "</table>\n",
              "<p>264 rows × 102 columns</p>\n",
              "</div>"
            ],
            "text/plain": [
              "                Province/State         Country/Region  ...  4/27/20  4/28/20\n",
              "0                          NaN            Afghanistan  ...     1703     1828\n",
              "1                          NaN                Albania  ...      736      750\n",
              "2                          NaN                Algeria  ...     3517     3649\n",
              "3                          NaN                Andorra  ...      743      743\n",
              "4                          NaN                 Angola  ...       27       27\n",
              "..                         ...                    ...  ...      ...      ...\n",
              "259  Saint Pierre and Miquelon                 France  ...        1        1\n",
              "260                        NaN            South Sudan  ...        6       34\n",
              "261                        NaN         Western Sahara  ...        6        6\n",
              "262                        NaN  Sao Tome and Principe  ...        4        8\n",
              "263                        NaN                  Yemen  ...        1        1\n",
              "\n",
              "[264 rows x 102 columns]"
            ]
          },
          "metadata": {
            "tags": []
          },
          "execution_count": 1
        }
      ]
    },
    {
      "cell_type": "code",
      "metadata": {
        "id": "TRozoAWQHmK5",
        "colab_type": "code",
        "colab": {}
      },
      "source": [
        "#funcion ventaneo\n",
        "def covid_win(serie,w=5):\n",
        "    pi =0\n",
        "    pf = w\n",
        "    X = serie[pi:pf].reshape(1,-1)\n",
        "    y = serie[pf+1].reshape(1,-1)\n",
        "    pi += 1\n",
        "    pf+= 1\n",
        "    while pf+1 < serie.shape[0]:        \n",
        "        X = np.append(X,serie[pi:pf].reshape(1,-1),axis=0)\n",
        "        y = np.append(y,serie[pf+1].reshape(1,-1),axis=0)\n",
        "        pi += 1\n",
        "        pf+=1\n",
        "    return X, y # X \\in Real^{N x P = w}, y \\in Real^N"
      ],
      "execution_count": 0,
      "outputs": []
    },
    {
      "cell_type": "code",
      "metadata": {
        "id": "R6M43Np8HmK8",
        "colab_type": "code",
        "colab": {}
      },
      "source": [
        "#Ubicar Posicion de pais\n",
        "ii = data[data.columns[1]] == 'Colombia'\n",
        "\n",
        "#contagios  acumulados\n",
        "serie = np.array(data.iloc[np.where(ii)[0][0],4:])\n",
        "#numero contagiados por dia\n",
        "serie_d = np.append(0,np.diff(serie))\n",
        "#serie_d = np.append(0,np.cumsum(np.diff(serie)))\n",
        "\n",
        "X, y = covid_win(serie,w=5)\n",
        "X_d, y_d = covid_win(serie_d,w=5)"
      ],
      "execution_count": 0,
      "outputs": []
    },
    {
      "cell_type": "code",
      "metadata": {
        "id": "JwrtyBA9OSnH",
        "colab_type": "code",
        "outputId": "932010cc-382f-46e5-e43c-4f9a741cca43",
        "colab": {
          "base_uri": "https://localhost:8080/",
          "height": 34
        }
      },
      "source": [
        "X[-1,:]"
      ],
      "execution_count": 4,
      "outputs": [
        {
          "output_type": "execute_result",
          "data": {
            "text/plain": [
              "array([4356, 4561, 4881, 5142, 5379], dtype=object)"
            ]
          },
          "metadata": {
            "tags": []
          },
          "execution_count": 4
        }
      ]
    },
    {
      "cell_type": "code",
      "metadata": {
        "id": "aIJ13ZgK0A0m",
        "colab_type": "code",
        "outputId": "49717005-2204-46dd-d12c-caec484da501",
        "colab": {
          "base_uri": "https://localhost:8080/",
          "height": 350
        }
      },
      "source": [
        "plt.plot(X)"
      ],
      "execution_count": 5,
      "outputs": [
        {
          "output_type": "execute_result",
          "data": {
            "text/plain": [
              "[<matplotlib.lines.Line2D at 0x7f2ab1fd5278>,\n",
              " <matplotlib.lines.Line2D at 0x7f2ab1fd5390>,\n",
              " <matplotlib.lines.Line2D at 0x7f2ab1fd54e0>,\n",
              " <matplotlib.lines.Line2D at 0x7f2ab1fd5630>,\n",
              " <matplotlib.lines.Line2D at 0x7f2ab1fd5780>]"
            ]
          },
          "metadata": {
            "tags": []
          },
          "execution_count": 5
        },
        {
          "output_type": "display_data",
          "data": {
            "image/png": "[encoded data removed]",
            "text/plain": [
              "<Figure size 432x288 with 1 Axes>"
            ]
          },
          "metadata": {
            "tags": [],
            "needs_background": "light"
          }
        }
      ]
    },
    {
      "cell_type": "markdown",
      "metadata": {
        "id": "JdnOKu46HmLF",
        "colab_type": "text"
      },
      "source": [
        "### Analisis Exploratorio PCA"
      ]
    },
    {
      "cell_type": "code",
      "metadata": {
        "id": "pNsZw3ZCHmLH",
        "colab_type": "code",
        "outputId": "469ec52a-5d21-4270-ed5f-cd50e5ad50f0",
        "colab": {
          "base_uri": "https://localhost:8080/",
          "height": 517
        }
      },
      "source": [
        "from sklearn.decomposition import PCA\n",
        "\n",
        "red = PCA()\n",
        "red_d = PCA()\n",
        "\n",
        "z = red.fit_transform(X)\n",
        "z_d = red_d.fit_transform(X_d)\n",
        "\n",
        "plt.scatter(z[:,0],z[:,1],c=y)\n",
        "plt.colorbar()\n",
        "plt.show()\n",
        "\n",
        "plt.scatter(z_d[:,0],z_d[:,1],c=y_d)\n",
        "plt.colorbar()\n",
        "plt.show()"
      ],
      "execution_count": 6,
      "outputs": [
        {
          "output_type": "display_data",
          "data": {
            "image/png": "[encoded data removed]",
            "text/plain": [
              "<Figure size 432x288 with 2 Axes>"
            ]
          },
          "metadata": {
            "tags": [],
            "needs_background": "light"
          }
        },
        {
          "output_type": "display_data",
          "data": {
            "image/png": "[encoded data removed]",
            "text/plain": [
              "<Figure size 432x288 with 2 Axes>"
            ]
          },
          "metadata": {
            "tags": [],
            "needs_background": "light"
          }
        }
      ]
    },
    {
      "cell_type": "markdown",
      "metadata": {
        "id": "Jz4367mNHmLL",
        "colab_type": "text"
      },
      "source": [
        "### Analisis Exploratorio TSNE"
      ]
    },
    {
      "cell_type": "code",
      "metadata": {
        "id": "eVu2OZdKHmLM",
        "colab_type": "code",
        "outputId": "70d352e3-f12f-493f-e0e1-3983cbcc0863",
        "colab": {
          "base_uri": "https://localhost:8080/",
          "height": 515
        }
      },
      "source": [
        "from sklearn.manifold import TSNE\n",
        "\n",
        "red = TSNE(n_components = 2, perplexity=10)\n",
        "red_d = TSNE(n_components = 2, perplexity=10)\n",
        "\n",
        "z = red.fit_transform(X)\n",
        "z_d = red.fit_transform(X_d)\n",
        "\n",
        "plt.scatter(z[:,0],z[:,1],c=y)\n",
        "plt.colorbar()\n",
        "plt.show()\n",
        "\n",
        "plt.scatter(z_d[:,0],z_d[:,1],c=y_d)\n",
        "plt.colorbar()\n",
        "plt.show()"
      ],
      "execution_count": 7,
      "outputs": [
        {
          "output_type": "display_data",
          "data": {
            "image/png": "[encoded data removed]",
            "text/plain": [
              "<Figure size 432x288 with 2 Axes>"
            ]
          },
          "metadata": {
            "tags": [],
            "needs_background": "light"
          }
        },
        {
          "output_type": "display_data",
          "data": {
            "image/png": "[encoded data removed]",
            "text/plain": [
              "<Figure size 432x288 with 2 Axes>"
            ]
          },
          "metadata": {
            "tags": [],
            "needs_background": "light"
          }
        }
      ]
    },
    {
      "cell_type": "markdown",
      "metadata": {
        "id": "8VlIo0FwHmLQ",
        "colab_type": "text"
      },
      "source": [
        "### Extrer conjunto de Entrenamiento y Prueba\n",
        "Cuando se tienen pocos datos es necesario realizar una validaación cruzada anidada."
      ]
    },
    {
      "cell_type": "markdown",
      "metadata": {
        "id": "HIBLVvEwHmLZ",
        "colab_type": "text"
      },
      "source": [
        "### Función Validación Cruzada Anidada\n"
      ]
    },
    {
      "cell_type": "code",
      "metadata": {
        "id": "Ay_NsFvcHmLa",
        "colab_type": "code",
        "colab": {}
      },
      "source": [
        "from sklearn.model_selection import train_test_split,GridSearchCV,cross_val_score, cross_val_predict\n",
        "from sklearn.kernel_ridge import KernelRidge\n",
        "from sklearn.linear_model import LinearRegression, Ridge, Lasso, ElasticNet \n",
        "from sklearn.pipeline import Pipeline\n",
        "from sklearn.preprocessing import StandardScaler\n",
        "from sklearn.metrics import mean_squared_error as mse\n",
        "from joblib import dump, load\n",
        "\n",
        "def V_Cruzada_Anidada(X_data,Y_data,steps,parameters):\n",
        "  \n",
        "  Niter = 10                           #numero particiones outter loop nested cross-validation\n",
        "  msev = np.zeros((Niter,len(steps)))  #arreglo para guardar acierto\n",
        "  best_estimators = []                 #mejor metodo por iteracion\n",
        "  ###clave del funcionamiento\n",
        "  best_hyperpar = []                   #mejor metodo por iteracion \n",
        "            \n",
        "\n",
        "  for j in range(Niter): #outter loop\n",
        "      print('it %d/%d'%(j+1,Niter))\n",
        "      #particiono datos outter loop\n",
        "      X_train, X_test, y_train, y_test = train_test_split(X_data,Y_data,test_size=0.3) # xtrain 60, xtest 26\n",
        "\n",
        "      for r in range(len(steps)): #recorro todos los posibles modelos a probar en iteracion j del outter loop\n",
        "          grid_search = GridSearchCV(Pipeline(steps[r]), parameters[r],cv=5,verbose=10,scoring='neg_mean_absolute_error',n_jobs=5) #cv inner loop\n",
        "          #xtrain gridsearchcv xtrain split en 12 / cv, 60/5 = 12, xtrain 48 datos validar 12\n",
        "          # cv = N -> leave one out N <30\n",
        "          \n",
        "          #generar mejor modelo\n",
        "          grid_search.fit(X_train,y_train)\n",
        "          \n",
        "          #estimar salida conjunto de test\n",
        "          y_pred = grid_search.best_estimator_.predict(X_test)\n",
        "          \n",
        "          #guardar mejor modelo\n",
        "          best_estimators.append(grid_search.best_estimator_)\n",
        "          best_hyperpar.append(grid_search.best_params_)\n",
        "\n",
        "          #guardar acierto\n",
        "          msev[j,r] = mse(y_test,y_pred)\n",
        "          #print('it %d/%d-Modelo %d/%d'%(j+1,Niter,r,len(steps)))\n",
        "          #print(best_hyperpar)\n",
        "          #print('mse:',msev[j,r])\n",
        "\n",
        "          savedata = {\n",
        "            'acc':msev,\n",
        "            'best_models':best_estimators,\n",
        "            'best_parameters':best_hyperpar,\n",
        "              } \n",
        "          #dump(savedata,'covid19_1.joblib')\n",
        "\n",
        "  return best_estimators,best_hyperpar,msev"
      ],
      "execution_count": 0,
      "outputs": []
    },
    {
      "cell_type": "markdown",
      "metadata": {
        "id": "QxLBnRD_DnSy",
        "colab_type": "text"
      },
      "source": [
        "### Validacion Cruzada Anidada LR:\n",
        "\n",
        "- Normalización StandadScalar\n",
        "- Representación PCA\n",
        "- Regresor LinearRegression\n",
        "\n"
      ]
    },
    {
      "cell_type": "code",
      "metadata": {
        "id": "jY-K_70tDmN4",
        "colab_type": "code",
        "colab": {
          "base_uri": "https://localhost:8080/",
          "height": 1000
        },
        "outputId": "86971cc8-1649-4e05-9f4b-fbc258c95632"
      },
      "source": [
        "X_train, X_test, y_train, y_test = train_test_split(X,y,test_size=0.3)\n",
        "\n",
        "steps = [\n",
        "         [('scaler', StandardScaler()),           #estandarizar cada atributo columna de xtrain centrada en 0 y var = 1\n",
        "          ('reg',  LinearRegression())],\n",
        "         [('scaler', StandardScaler()),\n",
        "          ('rep', PCA()),                         \n",
        "          ('reg',  LinearRegression())]\n",
        "          ]\n",
        "\n",
        "parameters = [\n",
        "                {\n",
        "                 },\n",
        "                {\n",
        "                 'rep__n_components':[0.5,0.75,0.9]\n",
        "                 }\n",
        "               ]\n",
        "\n",
        "label_model_LR = ['NorSC-LR','NorSC-PCA-LR']\n",
        "\n",
        "B_Model_LR, B_Hiperpara_LR, MAE_LR = V_Cruzada_Anidada(X,y,steps,parameters)"
      ],
      "execution_count": 40,
      "outputs": [
        {
          "output_type": "stream",
          "text": [
            "it 1/10\n",
            "Fitting 5 folds for each of 1 candidates, totalling 5 fits\n",
            "Fitting 5 folds for each of 3 candidates, totalling 15 fits\n",
            "it 2/10\n",
            "Fitting 5 folds for each of 1 candidates, totalling 5 fits\n",
            "Fitting 5 folds for each of 3 candidates, totalling 15 fits\n",
            "it 3/10\n",
            "Fitting 5 folds for each of 1 candidates, totalling 5 fits\n"
          ],
          "name": "stdout"
        },
        {
          "output_type": "stream",
          "text": [
            "[Parallel(n_jobs=5)]: Using backend LokyBackend with 5 concurrent workers.\n",
            "[Parallel(n_jobs=5)]: Done   1 tasks      | elapsed:    0.0s\n",
            "[Parallel(n_jobs=5)]: Batch computation too fast (0.0061s.) Setting batch_size=2.\n",
            "[Parallel(n_jobs=5)]: Done   3 out of   5 | elapsed:    0.0s remaining:    0.0s\n",
            "[Parallel(n_jobs=5)]: Done   5 out of   5 | elapsed:    0.0s remaining:    0.0s\n",
            "[Parallel(n_jobs=5)]: Done   5 out of   5 | elapsed:    0.0s finished\n",
            "[Parallel(n_jobs=5)]: Using backend LokyBackend with 5 concurrent workers.\n",
            "[Parallel(n_jobs=5)]: Batch computation too fast (0.0080s.) Setting batch_size=2.\n",
            "[Parallel(n_jobs=5)]: Done   3 tasks      | elapsed:    0.0s\n",
            "[Parallel(n_jobs=5)]: Done   8 out of  15 | elapsed:    0.0s remaining:    0.0s\n",
            "[Parallel(n_jobs=5)]: Done  10 out of  15 | elapsed:    0.0s remaining:    0.0s\n",
            "[Parallel(n_jobs=5)]: Done  12 out of  15 | elapsed:    0.1s remaining:    0.0s\n",
            "[Parallel(n_jobs=5)]: Done  15 out of  15 | elapsed:    0.1s finished\n",
            "[Parallel(n_jobs=5)]: Using backend LokyBackend with 5 concurrent workers.\n",
            "[Parallel(n_jobs=5)]: Batch computation too fast (0.0054s.) Setting batch_size=2.\n",
            "[Parallel(n_jobs=5)]: Done   2 out of   5 | elapsed:    0.0s remaining:    0.0s\n",
            "[Parallel(n_jobs=5)]: Done   3 out of   5 | elapsed:    0.0s remaining:    0.0s\n",
            "[Parallel(n_jobs=5)]: Done   5 out of   5 | elapsed:    0.0s remaining:    0.0s\n",
            "[Parallel(n_jobs=5)]: Done   5 out of   5 | elapsed:    0.0s finished\n",
            "[Parallel(n_jobs=5)]: Using backend LokyBackend with 5 concurrent workers.\n",
            "[Parallel(n_jobs=5)]: Batch computation too fast (0.0064s.) Setting batch_size=2.\n",
            "[Parallel(n_jobs=5)]: Done   3 tasks      | elapsed:    0.0s\n",
            "[Parallel(n_jobs=5)]: Done   8 out of  15 | elapsed:    0.0s remaining:    0.0s\n",
            "[Parallel(n_jobs=5)]: Done  10 out of  15 | elapsed:    0.0s remaining:    0.0s\n",
            "[Parallel(n_jobs=5)]: Done  12 out of  15 | elapsed:    0.1s remaining:    0.0s\n",
            "[Parallel(n_jobs=5)]: Done  15 out of  15 | elapsed:    0.1s finished\n",
            "[Parallel(n_jobs=5)]: Using backend LokyBackend with 5 concurrent workers.\n",
            "[Parallel(n_jobs=5)]: Batch computation too fast (0.0052s.) Setting batch_size=2.\n",
            "[Parallel(n_jobs=5)]: Done   2 out of   5 | elapsed:    0.0s remaining:    0.0s\n",
            "[Parallel(n_jobs=5)]: Done   3 out of   5 | elapsed:    0.0s remaining:    0.0s\n",
            "[Parallel(n_jobs=5)]: Done   5 out of   5 | elapsed:    0.0s remaining:    0.0s\n",
            "[Parallel(n_jobs=5)]: Done   5 out of   5 | elapsed:    0.0s finished\n",
            "[Parallel(n_jobs=5)]: Using backend LokyBackend with 5 concurrent workers.\n"
          ],
          "name": "stderr"
        },
        {
          "output_type": "stream",
          "text": [
            "Fitting 5 folds for each of 3 candidates, totalling 15 fits\n",
            "it 4/10\n",
            "Fitting 5 folds for each of 1 candidates, totalling 5 fits\n",
            "Fitting 5 folds for each of 3 candidates, totalling 15 fits\n",
            "it 5/10\n",
            "Fitting 5 folds for each of 1 candidates, totalling 5 fits\n",
            "Fitting 5 folds for each of 3 candidates, totalling 15 fits\n"
          ],
          "name": "stdout"
        },
        {
          "output_type": "stream",
          "text": [
            "[Parallel(n_jobs=5)]: Batch computation too fast (0.0106s.) Setting batch_size=2.\n",
            "[Parallel(n_jobs=5)]: Done   3 tasks      | elapsed:    0.0s\n",
            "[Parallel(n_jobs=5)]: Done   8 out of  15 | elapsed:    0.1s remaining:    0.0s\n",
            "[Parallel(n_jobs=5)]: Done  10 out of  15 | elapsed:    0.1s remaining:    0.0s\n",
            "[Parallel(n_jobs=5)]: Done  12 out of  15 | elapsed:    0.1s remaining:    0.0s\n",
            "[Parallel(n_jobs=5)]: Done  15 out of  15 | elapsed:    0.1s finished\n",
            "[Parallel(n_jobs=5)]: Using backend LokyBackend with 5 concurrent workers.\n",
            "[Parallel(n_jobs=5)]: Batch computation too fast (0.0060s.) Setting batch_size=2.\n",
            "[Parallel(n_jobs=5)]: Done   2 out of   5 | elapsed:    0.0s remaining:    0.0s\n",
            "[Parallel(n_jobs=5)]: Done   3 out of   5 | elapsed:    0.0s remaining:    0.0s\n",
            "[Parallel(n_jobs=5)]: Done   5 out of   5 | elapsed:    0.0s remaining:    0.0s\n",
            "[Parallel(n_jobs=5)]: Done   5 out of   5 | elapsed:    0.0s finished\n",
            "[Parallel(n_jobs=5)]: Using backend LokyBackend with 5 concurrent workers.\n",
            "[Parallel(n_jobs=5)]: Batch computation too fast (0.0100s.) Setting batch_size=2.\n",
            "[Parallel(n_jobs=5)]: Done   3 tasks      | elapsed:    0.0s\n",
            "[Parallel(n_jobs=5)]: Done   8 out of  15 | elapsed:    0.0s remaining:    0.0s\n",
            "[Parallel(n_jobs=5)]: Done  10 out of  15 | elapsed:    0.0s remaining:    0.0s\n",
            "[Parallel(n_jobs=5)]: Done  12 out of  15 | elapsed:    0.1s remaining:    0.0s\n",
            "[Parallel(n_jobs=5)]: Done  15 out of  15 | elapsed:    0.1s finished\n",
            "[Parallel(n_jobs=5)]: Using backend LokyBackend with 5 concurrent workers.\n",
            "[Parallel(n_jobs=5)]: Batch computation too fast (0.0073s.) Setting batch_size=2.\n",
            "[Parallel(n_jobs=5)]: Done   2 out of   5 | elapsed:    0.0s remaining:    0.0s\n",
            "[Parallel(n_jobs=5)]: Done   3 out of   5 | elapsed:    0.0s remaining:    0.0s\n",
            "[Parallel(n_jobs=5)]: Done   5 out of   5 | elapsed:    0.0s remaining:    0.0s\n",
            "[Parallel(n_jobs=5)]: Done   5 out of   5 | elapsed:    0.0s finished\n",
            "[Parallel(n_jobs=5)]: Using backend LokyBackend with 5 concurrent workers.\n",
            "[Parallel(n_jobs=5)]: Batch computation too fast (0.0085s.) Setting batch_size=2.\n",
            "[Parallel(n_jobs=5)]: Done   3 tasks      | elapsed:    0.0s\n",
            "[Parallel(n_jobs=5)]: Done   6 out of  15 | elapsed:    0.1s remaining:    0.1s\n",
            "[Parallel(n_jobs=5)]: Done   8 out of  15 | elapsed:    0.1s remaining:    0.1s\n",
            "[Parallel(n_jobs=5)]: Done  10 out of  15 | elapsed:    0.1s remaining:    0.0s\n",
            "[Parallel(n_jobs=5)]: Done  12 out of  15 | elapsed:    0.1s remaining:    0.0s\n",
            "[Parallel(n_jobs=5)]: Done  15 out of  15 | elapsed:    0.1s finished\n",
            "[Parallel(n_jobs=5)]: Using backend LokyBackend with 5 concurrent workers.\n",
            "[Parallel(n_jobs=5)]: Batch computation too fast (0.0060s.) Setting batch_size=2.\n",
            "[Parallel(n_jobs=5)]: Done   2 out of   5 | elapsed:    0.0s remaining:    0.0s\n",
            "[Parallel(n_jobs=5)]: Done   3 out of   5 | elapsed:    0.0s remaining:    0.0s\n",
            "[Parallel(n_jobs=5)]: Done   5 out of   5 | elapsed:    0.0s remaining:    0.0s\n",
            "[Parallel(n_jobs=5)]: Done   5 out of   5 | elapsed:    0.0s finished\n",
            "[Parallel(n_jobs=5)]: Using backend LokyBackend with 5 concurrent workers.\n",
            "[Parallel(n_jobs=5)]: Done   1 tasks      | elapsed:    0.0s\n",
            "[Parallel(n_jobs=5)]: Batch computation too fast (0.0073s.) Setting batch_size=2.\n",
            "[Parallel(n_jobs=5)]: Batch computation too fast (0.0073s.) Setting batch_size=4.\n",
            "[Parallel(n_jobs=5)]: Done   5 tasks      | elapsed:    0.0s\n",
            "[Parallel(n_jobs=5)]: Done  10 out of  15 | elapsed:    0.0s remaining:    0.0s\n",
            "[Parallel(n_jobs=5)]: Done  12 out of  15 | elapsed:    0.1s remaining:    0.0s\n",
            "[Parallel(n_jobs=5)]: Done  15 out of  15 | elapsed:    0.1s finished\n",
            "[Parallel(n_jobs=5)]: Using backend LokyBackend with 5 concurrent workers.\n",
            "[Parallel(n_jobs=5)]: Batch computation too fast (0.0087s.) Setting batch_size=2.\n",
            "[Parallel(n_jobs=5)]: Done   2 out of   5 | elapsed:    0.0s remaining:    0.0s\n",
            "[Parallel(n_jobs=5)]: Done   3 out of   5 | elapsed:    0.0s remaining:    0.0s\n",
            "[Parallel(n_jobs=5)]: Done   5 out of   5 | elapsed:    0.0s remaining:    0.0s\n",
            "[Parallel(n_jobs=5)]: Done   5 out of   5 | elapsed:    0.0s finished\n",
            "[Parallel(n_jobs=5)]: Using backend LokyBackend with 5 concurrent workers.\n",
            "[Parallel(n_jobs=5)]: Batch computation too fast (0.0081s.) Setting batch_size=2.\n",
            "[Parallel(n_jobs=5)]: Done   3 tasks      | elapsed:    0.0s\n"
          ],
          "name": "stderr"
        },
        {
          "output_type": "stream",
          "text": [
            "it 6/10\n",
            "Fitting 5 folds for each of 1 candidates, totalling 5 fits\n",
            "Fitting 5 folds for each of 3 candidates, totalling 15 fits\n",
            "it 7/10\n",
            "Fitting 5 folds for each of 1 candidates, totalling 5 fits\n",
            "Fitting 5 folds for each of 3 candidates, totalling 15 fits\n",
            "it 8/10\n",
            "Fitting 5 folds for each of 1 candidates, totalling 5 fits\n",
            "Fitting 5 folds for each of 3 candidates, totalling 15 fits\n"
          ],
          "name": "stdout"
        },
        {
          "output_type": "stream",
          "text": [
            "[Parallel(n_jobs=5)]: Done   8 out of  15 | elapsed:    0.0s remaining:    0.0s\n",
            "[Parallel(n_jobs=5)]: Done  10 out of  15 | elapsed:    0.0s remaining:    0.0s\n",
            "[Parallel(n_jobs=5)]: Done  12 out of  15 | elapsed:    0.1s remaining:    0.0s\n",
            "[Parallel(n_jobs=5)]: Done  15 out of  15 | elapsed:    0.1s finished\n",
            "[Parallel(n_jobs=5)]: Using backend LokyBackend with 5 concurrent workers.\n",
            "[Parallel(n_jobs=5)]: Done   1 tasks      | elapsed:    0.0s\n",
            "[Parallel(n_jobs=5)]: Batch computation too fast (0.0069s.) Setting batch_size=2.\n",
            "[Parallel(n_jobs=5)]: Batch computation too fast (0.0069s.) Setting batch_size=4.\n",
            "[Parallel(n_jobs=5)]: Done   3 out of   5 | elapsed:    0.0s remaining:    0.0s\n",
            "[Parallel(n_jobs=5)]: Done   5 out of   5 | elapsed:    0.0s remaining:    0.0s\n",
            "[Parallel(n_jobs=5)]: Done   5 out of   5 | elapsed:    0.0s finished\n",
            "[Parallel(n_jobs=5)]: Using backend LokyBackend with 5 concurrent workers.\n",
            "[Parallel(n_jobs=5)]: Batch computation too fast (0.0126s.) Setting batch_size=2.\n",
            "[Parallel(n_jobs=5)]: Done   3 tasks      | elapsed:    0.0s\n",
            "[Parallel(n_jobs=5)]: Done   8 out of  15 | elapsed:    0.0s remaining:    0.0s\n",
            "[Parallel(n_jobs=5)]: Done  10 out of  15 | elapsed:    0.0s remaining:    0.0s\n",
            "[Parallel(n_jobs=5)]: Done  12 out of  15 | elapsed:    0.1s remaining:    0.0s\n",
            "[Parallel(n_jobs=5)]: Done  15 out of  15 | elapsed:    0.1s finished\n",
            "[Parallel(n_jobs=5)]: Using backend LokyBackend with 5 concurrent workers.\n",
            "[Parallel(n_jobs=5)]: Batch computation too fast (0.0053s.) Setting batch_size=2.\n",
            "[Parallel(n_jobs=5)]: Done   2 out of   5 | elapsed:    0.0s remaining:    0.0s\n",
            "[Parallel(n_jobs=5)]: Done   3 out of   5 | elapsed:    0.0s remaining:    0.0s\n",
            "[Parallel(n_jobs=5)]: Done   5 out of   5 | elapsed:    0.0s remaining:    0.0s\n",
            "[Parallel(n_jobs=5)]: Done   5 out of   5 | elapsed:    0.0s finished\n",
            "[Parallel(n_jobs=5)]: Using backend LokyBackend with 5 concurrent workers.\n",
            "[Parallel(n_jobs=5)]: Batch computation too fast (0.0068s.) Setting batch_size=2.\n",
            "[Parallel(n_jobs=5)]: Batch computation too fast (0.0068s.) Setting batch_size=4.\n",
            "[Parallel(n_jobs=5)]: Done   5 tasks      | elapsed:    0.0s\n",
            "[Parallel(n_jobs=5)]: Done   8 out of  15 | elapsed:    0.0s remaining:    0.0s\n",
            "[Parallel(n_jobs=5)]: Done  10 out of  15 | elapsed:    0.0s remaining:    0.0s\n",
            "[Parallel(n_jobs=5)]: Done  12 out of  15 | elapsed:    0.1s remaining:    0.0s\n",
            "[Parallel(n_jobs=5)]: Done  15 out of  15 | elapsed:    0.1s finished\n",
            "[Parallel(n_jobs=5)]: Using backend LokyBackend with 5 concurrent workers.\n"
          ],
          "name": "stderr"
        },
        {
          "output_type": "stream",
          "text": [
            "it 9/10\n",
            "Fitting 5 folds for each of 1 candidates, totalling 5 fits\n",
            "Fitting 5 folds for each of 3 candidates, totalling 15 fits\n",
            "it 10/10\n",
            "Fitting 5 folds for each of 1 candidates, totalling 5 fits\n",
            "Fitting 5 folds for each of 3 candidates, totalling 15 fits\n"
          ],
          "name": "stdout"
        },
        {
          "output_type": "stream",
          "text": [
            "[Parallel(n_jobs=5)]: Batch computation too fast (0.0107s.) Setting batch_size=2.\n",
            "[Parallel(n_jobs=5)]: Done   2 out of   5 | elapsed:    0.0s remaining:    0.0s\n",
            "[Parallel(n_jobs=5)]: Done   3 out of   5 | elapsed:    0.0s remaining:    0.0s\n",
            "[Parallel(n_jobs=5)]: Done   5 out of   5 | elapsed:    0.0s remaining:    0.0s\n",
            "[Parallel(n_jobs=5)]: Done   5 out of   5 | elapsed:    0.0s finished\n",
            "[Parallel(n_jobs=5)]: Using backend LokyBackend with 5 concurrent workers.\n",
            "[Parallel(n_jobs=5)]: Batch computation too fast (0.0067s.) Setting batch_size=2.\n",
            "[Parallel(n_jobs=5)]: Batch computation too fast (0.0067s.) Setting batch_size=4.\n",
            "[Parallel(n_jobs=5)]: Done   4 out of  15 | elapsed:    0.0s remaining:    0.1s\n",
            "[Parallel(n_jobs=5)]: Done   6 out of  15 | elapsed:    0.0s remaining:    0.0s\n",
            "[Parallel(n_jobs=5)]: Done   8 out of  15 | elapsed:    0.0s remaining:    0.0s\n",
            "[Parallel(n_jobs=5)]: Done  10 out of  15 | elapsed:    0.0s remaining:    0.0s\n",
            "[Parallel(n_jobs=5)]: Done  12 out of  15 | elapsed:    0.1s remaining:    0.0s\n",
            "[Parallel(n_jobs=5)]: Done  15 out of  15 | elapsed:    0.1s finished\n"
          ],
          "name": "stderr"
        }
      ]
    },
    {
      "cell_type": "code",
      "metadata": {
        "id": "cCuO3b3_FbU5",
        "colab_type": "code",
        "colab": {
          "base_uri": "https://localhost:8080/",
          "height": 265
        },
        "outputId": "a7149cf3-3dcb-4b4b-9d70-6bf42bcc395a"
      },
      "source": [
        "plt.boxplot(MAE_LR)\n",
        "plt.xticks(ticks=np.arange(len(steps))+1,labels=label_model_LR)\n",
        "plt.show()"
      ],
      "execution_count": 41,
      "outputs": [
        {
          "output_type": "display_data",
          "data": {
            "image/png": "[encoded data removed]",
            "text/plain": [
              "<Figure size 432x288 with 1 Axes>"
            ]
          },
          "metadata": {
            "tags": [],
            "needs_background": "light"
          }
        }
      ]
    },
    {
      "cell_type": "code",
      "metadata": {
        "id": "Q5EiduihFbZU",
        "colab_type": "code",
        "colab": {
          "base_uri": "https://localhost:8080/",
          "height": 187
        },
        "outputId": "42317c87-2efc-42d8-a56a-f34f64971cad"
      },
      "source": [
        "MAE_LR"
      ],
      "execution_count": 42,
      "outputs": [
        {
          "output_type": "execute_result",
          "data": {
            "text/plain": [
              "array([[ 1754.49288999, 17719.72364233],\n",
              "       [ 5899.05994451, 14434.57256053],\n",
              "       [10571.7191216 , 13487.06517797],\n",
              "       [10610.37453843, 16309.20877797],\n",
              "       [12800.17065286, 22291.10321292],\n",
              "       [ 5214.50451534, 11416.16663792],\n",
              "       [ 5827.77476622,  9558.92988154],\n",
              "       [ 5837.15466317, 15483.10432276],\n",
              "       [ 7226.52680586, 13309.08677726],\n",
              "       [ 4002.14214128, 14035.96823166]])"
            ]
          },
          "metadata": {
            "tags": []
          },
          "execution_count": 42
        }
      ]
    },
    {
      "cell_type": "code",
      "metadata": {
        "id": "P9tdScg5GA2n",
        "colab_type": "code",
        "colab": {
          "base_uri": "https://localhost:8080/",
          "height": 357
        },
        "outputId": "8c6ba5ad-ebd3-47e0-c44d-8d838c55db50"
      },
      "source": [
        "B_Hiperpara_LR"
      ],
      "execution_count": 43,
      "outputs": [
        {
          "output_type": "execute_result",
          "data": {
            "text/plain": [
              "[{},\n",
              " {'rep__n_components': 0.5},\n",
              " {},\n",
              " {'rep__n_components': 0.5},\n",
              " {},\n",
              " {'rep__n_components': 0.5},\n",
              " {},\n",
              " {'rep__n_components': 0.5},\n",
              " {},\n",
              " {'rep__n_components': 0.5},\n",
              " {},\n",
              " {'rep__n_components': 0.5},\n",
              " {},\n",
              " {'rep__n_components': 0.5},\n",
              " {},\n",
              " {'rep__n_components': 0.5},\n",
              " {},\n",
              " {'rep__n_components': 0.5},\n",
              " {},\n",
              " {'rep__n_components': 0.5}]"
            ]
          },
          "metadata": {
            "tags": []
          },
          "execution_count": 43
        }
      ]
    },
    {
      "cell_type": "code",
      "metadata": {
        "id": "pkVuXke3GD0U",
        "colab_type": "code",
        "colab": {
          "base_uri": "https://localhost:8080/",
          "height": 136
        },
        "outputId": "4c9c0a3d-fc97-4c4d-a1a6-7780db1322af"
      },
      "source": [
        "steps =  [('scaler', StandardScaler()),\n",
        "          #('rep', PCA(n_components=0.5)),                         \n",
        "          ('reg', LinearRegression())]\n",
        "\n",
        "Mod_SC_LR = Pipeline(steps = steps)\n",
        "Mod_SC_LR.fit(X_train,y_train)"
      ],
      "execution_count": 96,
      "outputs": [
        {
          "output_type": "execute_result",
          "data": {
            "text/plain": [
              "Pipeline(memory=None,\n",
              "         steps=[('scaler',\n",
              "                 StandardScaler(copy=True, with_mean=True, with_std=True)),\n",
              "                ('reg',\n",
              "                 LinearRegression(copy_X=True, fit_intercept=True, n_jobs=None,\n",
              "                                  normalize=False))],\n",
              "         verbose=False)"
            ]
          },
          "metadata": {
            "tags": []
          },
          "execution_count": 96
        }
      ]
    },
    {
      "cell_type": "code",
      "metadata": {
        "id": "BjyvcLJ4J3eA",
        "colab_type": "code",
        "outputId": "c345ec17-6904-4577-94ff-d3d48fdbdb02",
        "colab": {
          "base_uri": "https://localhost:8080/",
          "height": 51
        }
      },
      "source": [
        "from datetime import date\n",
        "Xn = X[-1]\n",
        "#Xn = [4881, 5142, 5379, 5948, 6207]\n",
        "#Xn=np.matrix([Xn])\n",
        "\n",
        "Xn = Xn.reshape(1,-1)\n",
        "Pre_SC_LR = Mod_SC_LR.predict(Xn)\n",
        "\n",
        "print('Número de contagiados en los últimos 5 días:',Xn)\n",
        "print('Predicción contagios para',date.today(),'usando un modelo LinearRegression:',Pre_SC_LR)"
      ],
      "execution_count": 97,
      "outputs": [
        {
          "output_type": "stream",
          "text": [
            "Número de contagiados en los últimos 5 días: [[4356 4561 4881 5142 5379]]\n",
            "Predicción contagios para 2020-04-29 usando un modelo LinearRegression: [[5922.24933583]]\n"
          ],
          "name": "stdout"
        }
      ]
    },
    {
      "cell_type": "markdown",
      "metadata": {
        "id": "yI7A5envLDrV",
        "colab_type": "text"
      },
      "source": [
        "### Validacion Cruzada Anidada Ridge:\n",
        "\n",
        "- Normalización StandadScalar\n",
        "- Representación PCA\n",
        "- Regresor LinearRidge\n"
      ]
    },
    {
      "cell_type": "code",
      "metadata": {
        "colab_type": "code",
        "outputId": "49d3c7f3-28f3-45b9-98c0-d91d53b579b3",
        "id": "Ryrx4CNWMN2E",
        "colab": {
          "base_uri": "https://localhost:8080/",
          "height": 1000
        }
      },
      "source": [
        "steps = [\n",
        "         [('scaler', StandardScaler()),           #estandarizar cada atributo columna de xtrain centrada en 0 y var = 1\n",
        "          ('reg',  Ridge( ))],\n",
        "         [('scaler', StandardScaler()),\n",
        "          ('rep', PCA()),                         \n",
        "          ('reg',  Ridge())]\n",
        "          ]\n",
        "\n",
        "parameters = [\n",
        "                {'reg__alpha':[1e-3,1e-2,1e-1,1],\n",
        "                 'reg__solver':['svd', 'cholesky', 'lsqr', 'sag', 'saga']\n",
        "                 },\n",
        "                {'rep__n_components':[0.5,0.9],\n",
        "                 'reg__alpha':[1e-3,1e-2,1e-1,1],\n",
        "                 'reg__solver':['svd', 'cholesky', 'lsqr', 'sag', 'saga']\n",
        "                 }\n",
        "               ]\n",
        "\n",
        "label_model_R = ['NorSC-R','NorSC-PCA-R']\n",
        "\n",
        "B_Model_R, B_Hiperpara_R, MAE_R = V_Cruzada_Anidada(X,y,steps,parameters)"
      ],
      "execution_count": 105,
      "outputs": [
        {
          "output_type": "stream",
          "text": [
            "it 1/10\n",
            "Fitting 5 folds for each of 20 candidates, totalling 100 fits\n"
          ],
          "name": "stdout"
        },
        {
          "output_type": "stream",
          "text": [
            "[Parallel(n_jobs=5)]: Using backend LokyBackend with 5 concurrent workers.\n",
            "[Parallel(n_jobs=5)]: Batch computation too fast (0.0086s.) Setting batch_size=2.\n",
            "[Parallel(n_jobs=5)]: Done   3 tasks      | elapsed:    0.0s\n",
            "[Parallel(n_jobs=5)]: Done   8 tasks      | elapsed:    0.1s\n",
            "[Parallel(n_jobs=5)]: Batch computation too fast (0.0497s.) Setting batch_size=4.\n",
            "[Parallel(n_jobs=5)]: Done  20 tasks      | elapsed:    0.1s\n",
            "[Parallel(n_jobs=5)]: Batch computation too fast (0.0910s.) Setting batch_size=8.\n",
            "[Parallel(n_jobs=5)]: Done  38 tasks      | elapsed:    0.2s\n",
            "[Parallel(n_jobs=5)]: Done  68 tasks      | elapsed:    0.3s\n",
            "[Parallel(n_jobs=5)]: Done  80 tasks      | elapsed:    0.3s\n",
            "[Parallel(n_jobs=5)]: Done  91 tasks      | elapsed:    0.3s\n",
            "[Parallel(n_jobs=5)]: Done 100 out of 100 | elapsed:    0.3s finished\n",
            "[Parallel(n_jobs=5)]: Using backend LokyBackend with 5 concurrent workers.\n",
            "[Parallel(n_jobs=5)]: Batch computation too fast (0.0100s.) Setting batch_size=2.\n",
            "[Parallel(n_jobs=5)]: Done   3 tasks      | elapsed:    0.0s\n",
            "[Parallel(n_jobs=5)]: Done   8 tasks      | elapsed:    0.0s\n",
            "[Parallel(n_jobs=5)]: Batch computation too fast (0.0365s.) Setting batch_size=4.\n",
            "[Parallel(n_jobs=5)]: Done  20 tasks      | elapsed:    0.1s\n"
          ],
          "name": "stderr"
        },
        {
          "output_type": "stream",
          "text": [
            "Fitting 5 folds for each of 40 candidates, totalling 200 fits\n"
          ],
          "name": "stdout"
        },
        {
          "output_type": "stream",
          "text": [
            "[Parallel(n_jobs=5)]: Batch computation too fast (0.0987s.) Setting batch_size=8.\n",
            "[Parallel(n_jobs=5)]: Done  38 tasks      | elapsed:    0.2s\n",
            "[Parallel(n_jobs=5)]: Done  78 tasks      | elapsed:    0.3s\n",
            "[Parallel(n_jobs=5)]: Batch computation too fast (0.1047s.) Setting batch_size=16.\n",
            "[Parallel(n_jobs=5)]: Done 129 tasks      | elapsed:    0.5s\n",
            "[Parallel(n_jobs=5)]: Done 161 tasks      | elapsed:    0.5s\n",
            "[Parallel(n_jobs=5)]: Done 172 tasks      | elapsed:    0.6s\n",
            "[Parallel(n_jobs=5)]: Done 185 tasks      | elapsed:    0.6s\n",
            "[Parallel(n_jobs=5)]: Done 200 out of 200 | elapsed:    0.7s finished\n",
            "[Parallel(n_jobs=5)]: Using backend LokyBackend with 5 concurrent workers.\n"
          ],
          "name": "stderr"
        },
        {
          "output_type": "stream",
          "text": [
            "it 2/10\n",
            "Fitting 5 folds for each of 20 candidates, totalling 100 fits\n"
          ],
          "name": "stdout"
        },
        {
          "output_type": "stream",
          "text": [
            "[Parallel(n_jobs=5)]: Batch computation too fast (0.0116s.) Setting batch_size=2.\n",
            "[Parallel(n_jobs=5)]: Done   3 tasks      | elapsed:    0.0s\n",
            "[Parallel(n_jobs=5)]: Done   8 tasks      | elapsed:    0.1s\n",
            "[Parallel(n_jobs=5)]: Batch computation too fast (0.0684s.) Setting batch_size=4.\n",
            "[Parallel(n_jobs=5)]: Done  20 tasks      | elapsed:    0.1s\n",
            "[Parallel(n_jobs=5)]: Batch computation too fast (0.0888s.) Setting batch_size=8.\n",
            "[Parallel(n_jobs=5)]: Done  38 tasks      | elapsed:    0.3s\n",
            "[Parallel(n_jobs=5)]: Done  71 tasks      | elapsed:    0.3s\n",
            "[Parallel(n_jobs=5)]: Done  80 tasks      | elapsed:    0.3s\n",
            "[Parallel(n_jobs=5)]: Done  91 tasks      | elapsed:    0.3s\n",
            "[Parallel(n_jobs=5)]: Done 100 out of 100 | elapsed:    0.4s finished\n",
            "[Parallel(n_jobs=5)]: Using backend LokyBackend with 5 concurrent workers.\n",
            "[Parallel(n_jobs=5)]: Batch computation too fast (0.0079s.) Setting batch_size=2.\n",
            "[Parallel(n_jobs=5)]: Done   3 tasks      | elapsed:    0.0s\n",
            "[Parallel(n_jobs=5)]: Done   8 tasks      | elapsed:    0.0s\n",
            "[Parallel(n_jobs=5)]: Batch computation too fast (0.0417s.) Setting batch_size=4.\n"
          ],
          "name": "stderr"
        },
        {
          "output_type": "stream",
          "text": [
            "Fitting 5 folds for each of 40 candidates, totalling 200 fits\n"
          ],
          "name": "stdout"
        },
        {
          "output_type": "stream",
          "text": [
            "[Parallel(n_jobs=5)]: Done  20 tasks      | elapsed:    0.1s\n",
            "[Parallel(n_jobs=5)]: Batch computation too fast (0.0688s.) Setting batch_size=8.\n",
            "[Parallel(n_jobs=5)]: Done  38 tasks      | elapsed:    0.2s\n",
            "[Parallel(n_jobs=5)]: Done  78 tasks      | elapsed:    0.3s\n",
            "[Parallel(n_jobs=5)]: Batch computation too fast (0.1249s.) Setting batch_size=16.\n",
            "[Parallel(n_jobs=5)]: Done 136 tasks      | elapsed:    0.5s\n",
            "[Parallel(n_jobs=5)]: Done 161 tasks      | elapsed:    0.5s\n",
            "[Parallel(n_jobs=5)]: Done 172 tasks      | elapsed:    0.6s\n",
            "[Parallel(n_jobs=5)]: Done 185 tasks      | elapsed:    0.6s\n",
            "[Parallel(n_jobs=5)]: Done 200 out of 200 | elapsed:    0.7s finished\n",
            "[Parallel(n_jobs=5)]: Using backend LokyBackend with 5 concurrent workers.\n",
            "[Parallel(n_jobs=5)]: Batch computation too fast (0.0074s.) Setting batch_size=2.\n",
            "[Parallel(n_jobs=5)]: Done   3 tasks      | elapsed:    0.0s\n",
            "[Parallel(n_jobs=5)]: Done   8 tasks      | elapsed:    0.0s\n",
            "[Parallel(n_jobs=5)]: Batch computation too fast (0.0390s.) Setting batch_size=4.\n",
            "[Parallel(n_jobs=5)]: Done  20 tasks      | elapsed:    0.1s\n",
            "[Parallel(n_jobs=5)]: Batch computation too fast (0.0749s.) Setting batch_size=8.\n",
            "[Parallel(n_jobs=5)]: Done  38 tasks      | elapsed:    0.2s\n"
          ],
          "name": "stderr"
        },
        {
          "output_type": "stream",
          "text": [
            "it 3/10\n",
            "Fitting 5 folds for each of 20 candidates, totalling 100 fits\n"
          ],
          "name": "stdout"
        },
        {
          "output_type": "stream",
          "text": [
            "[Parallel(n_jobs=5)]: Done  65 tasks      | elapsed:    0.2s\n",
            "[Parallel(n_jobs=5)]: Done  80 tasks      | elapsed:    0.3s\n",
            "[Parallel(n_jobs=5)]: Done  91 tasks      | elapsed:    0.3s\n",
            "[Parallel(n_jobs=5)]: Done 100 out of 100 | elapsed:    0.3s finished\n",
            "[Parallel(n_jobs=5)]: Using backend LokyBackend with 5 concurrent workers.\n",
            "[Parallel(n_jobs=5)]: Batch computation too fast (0.0114s.) Setting batch_size=2.\n",
            "[Parallel(n_jobs=5)]: Done   3 tasks      | elapsed:    0.0s\n",
            "[Parallel(n_jobs=5)]: Done   8 tasks      | elapsed:    0.0s\n",
            "[Parallel(n_jobs=5)]: Batch computation too fast (0.0379s.) Setting batch_size=4.\n",
            "[Parallel(n_jobs=5)]: Done  20 tasks      | elapsed:    0.1s\n"
          ],
          "name": "stderr"
        },
        {
          "output_type": "stream",
          "text": [
            "Fitting 5 folds for each of 40 candidates, totalling 200 fits\n"
          ],
          "name": "stdout"
        },
        {
          "output_type": "stream",
          "text": [
            "[Parallel(n_jobs=5)]: Batch computation too fast (0.0749s.) Setting batch_size=8.\n",
            "[Parallel(n_jobs=5)]: Done  38 tasks      | elapsed:    0.2s\n",
            "[Parallel(n_jobs=5)]: Done  78 tasks      | elapsed:    0.3s\n",
            "[Parallel(n_jobs=5)]: Batch computation too fast (0.1169s.) Setting batch_size=16.\n",
            "[Parallel(n_jobs=5)]: Done 129 tasks      | elapsed:    0.5s\n",
            "[Parallel(n_jobs=5)]: Done 147 tasks      | elapsed:    0.5s\n",
            "[Parallel(n_jobs=5)]: Done 172 tasks      | elapsed:    0.6s\n",
            "[Parallel(n_jobs=5)]: Done 185 tasks      | elapsed:    0.6s\n",
            "[Parallel(n_jobs=5)]: Done 200 out of 200 | elapsed:    0.7s finished\n",
            "[Parallel(n_jobs=5)]: Using backend LokyBackend with 5 concurrent workers.\n",
            "[Parallel(n_jobs=5)]: Batch computation too fast (0.0102s.) Setting batch_size=2.\n",
            "[Parallel(n_jobs=5)]: Done   3 tasks      | elapsed:    0.0s\n",
            "[Parallel(n_jobs=5)]: Done   8 tasks      | elapsed:    0.0s\n",
            "[Parallel(n_jobs=5)]: Batch computation too fast (0.0333s.) Setting batch_size=4.\n",
            "[Parallel(n_jobs=5)]: Done  20 tasks      | elapsed:    0.1s\n",
            "[Parallel(n_jobs=5)]: Batch computation too fast (0.0534s.) Setting batch_size=8.\n",
            "[Parallel(n_jobs=5)]: Done  38 tasks      | elapsed:    0.2s\n"
          ],
          "name": "stderr"
        },
        {
          "output_type": "stream",
          "text": [
            "it 4/10\n",
            "Fitting 5 folds for each of 20 candidates, totalling 100 fits\n"
          ],
          "name": "stdout"
        },
        {
          "output_type": "stream",
          "text": [
            "[Parallel(n_jobs=5)]: Done  68 tasks      | elapsed:    0.2s\n",
            "[Parallel(n_jobs=5)]: Done  80 tasks      | elapsed:    0.3s\n",
            "[Parallel(n_jobs=5)]: Done  91 tasks      | elapsed:    0.3s\n",
            "[Parallel(n_jobs=5)]: Done 100 out of 100 | elapsed:    0.3s finished\n",
            "[Parallel(n_jobs=5)]: Using backend LokyBackend with 5 concurrent workers.\n",
            "[Parallel(n_jobs=5)]: Batch computation too fast (0.0083s.) Setting batch_size=2.\n",
            "[Parallel(n_jobs=5)]: Batch computation too fast (0.0083s.) Setting batch_size=4.\n",
            "[Parallel(n_jobs=5)]: Done   3 tasks      | elapsed:    0.0s\n",
            "[Parallel(n_jobs=5)]: Done   5 tasks      | elapsed:    0.1s\n",
            "[Parallel(n_jobs=5)]: Batch computation too fast (0.0329s.) Setting batch_size=8.\n"
          ],
          "name": "stderr"
        },
        {
          "output_type": "stream",
          "text": [
            "Fitting 5 folds for each of 40 candidates, totalling 200 fits\n"
          ],
          "name": "stdout"
        },
        {
          "output_type": "stream",
          "text": [
            "[Parallel(n_jobs=5)]: Done  27 tasks      | elapsed:    0.1s\n",
            "[Parallel(n_jobs=5)]: Done  46 tasks      | elapsed:    0.4s\n",
            "[Parallel(n_jobs=5)]: Done 114 tasks      | elapsed:    0.5s\n",
            "[Parallel(n_jobs=5)]: Done 158 tasks      | elapsed:    0.6s\n",
            "[Parallel(n_jobs=5)]: Done 183 tasks      | elapsed:    0.6s\n",
            "[Parallel(n_jobs=5)]: Done 191 out of 200 | elapsed:    0.6s remaining:    0.0s\n",
            "[Parallel(n_jobs=5)]: Done 200 out of 200 | elapsed:    0.7s finished\n",
            "[Parallel(n_jobs=5)]: Using backend LokyBackend with 5 concurrent workers.\n",
            "[Parallel(n_jobs=5)]: Batch computation too fast (0.0102s.) Setting batch_size=2.\n",
            "[Parallel(n_jobs=5)]: Done   3 tasks      | elapsed:    0.0s\n",
            "[Parallel(n_jobs=5)]: Done   8 tasks      | elapsed:    0.0s\n",
            "[Parallel(n_jobs=5)]: Batch computation too fast (0.0400s.) Setting batch_size=4.\n",
            "[Parallel(n_jobs=5)]: Done  20 tasks      | elapsed:    0.1s\n"
          ],
          "name": "stderr"
        },
        {
          "output_type": "stream",
          "text": [
            "it 5/10\n",
            "Fitting 5 folds for each of 20 candidates, totalling 100 fits\n"
          ],
          "name": "stdout"
        },
        {
          "output_type": "stream",
          "text": [
            "[Parallel(n_jobs=5)]: Batch computation too fast (0.0827s.) Setting batch_size=8.\n",
            "[Parallel(n_jobs=5)]: Done  38 tasks      | elapsed:    0.2s\n",
            "[Parallel(n_jobs=5)]: Done  68 tasks      | elapsed:    0.2s\n",
            "[Parallel(n_jobs=5)]: Done  80 tasks      | elapsed:    0.3s\n",
            "[Parallel(n_jobs=5)]: Done  91 tasks      | elapsed:    0.3s\n",
            "[Parallel(n_jobs=5)]: Done 100 out of 100 | elapsed:    0.3s finished\n",
            "[Parallel(n_jobs=5)]: Using backend LokyBackend with 5 concurrent workers.\n",
            "[Parallel(n_jobs=5)]: Batch computation too fast (0.0064s.) Setting batch_size=2.\n",
            "[Parallel(n_jobs=5)]: Batch computation too fast (0.0064s.) Setting batch_size=4.\n"
          ],
          "name": "stderr"
        },
        {
          "output_type": "stream",
          "text": [
            "Fitting 5 folds for each of 40 candidates, totalling 200 fits\n"
          ],
          "name": "stdout"
        },
        {
          "output_type": "stream",
          "text": [
            "[Parallel(n_jobs=5)]: Done   4 tasks      | elapsed:    0.0s\n",
            "[Parallel(n_jobs=5)]: Batch computation too fast (0.0368s.) Setting batch_size=8.\n",
            "[Parallel(n_jobs=5)]: Done  23 tasks      | elapsed:    0.1s\n",
            "[Parallel(n_jobs=5)]: Done  42 tasks      | elapsed:    0.3s\n",
            "[Parallel(n_jobs=5)]: Batch computation too fast (0.1952s.) Setting batch_size=16.\n",
            "[Parallel(n_jobs=5)]: Done 106 tasks      | elapsed:    0.5s\n",
            "[Parallel(n_jobs=5)]: Done 157 tasks      | elapsed:    0.6s\n",
            "[Parallel(n_jobs=5)]: Done 182 tasks      | elapsed:    0.7s\n",
            "[Parallel(n_jobs=5)]: Done 191 out of 200 | elapsed:    0.7s remaining:    0.0s\n",
            "[Parallel(n_jobs=5)]: Done 200 out of 200 | elapsed:    0.7s finished\n",
            "[Parallel(n_jobs=5)]: Using backend LokyBackend with 5 concurrent workers.\n",
            "[Parallel(n_jobs=5)]: Batch computation too fast (0.0050s.) Setting batch_size=2.\n",
            "[Parallel(n_jobs=5)]: Batch computation too fast (0.0050s.) Setting batch_size=4.\n",
            "[Parallel(n_jobs=5)]: Done   3 tasks      | elapsed:    0.0s\n",
            "[Parallel(n_jobs=5)]: Batch computation too fast (0.0381s.) Setting batch_size=8.\n",
            "[Parallel(n_jobs=5)]: Done  13 tasks      | elapsed:    0.1s\n"
          ],
          "name": "stderr"
        },
        {
          "output_type": "stream",
          "text": [
            "it 6/10\n",
            "Fitting 5 folds for each of 20 candidates, totalling 100 fits\n"
          ],
          "name": "stdout"
        },
        {
          "output_type": "stream",
          "text": [
            "[Parallel(n_jobs=5)]: Done  29 tasks      | elapsed:    0.1s\n",
            "[Parallel(n_jobs=5)]: Batch computation too fast (0.0916s.) Setting batch_size=16.\n",
            "[Parallel(n_jobs=5)]: Done  58 tasks      | elapsed:    0.2s\n",
            "[Parallel(n_jobs=5)]: Done  80 out of 100 | elapsed:    0.3s remaining:    0.1s\n",
            "[Parallel(n_jobs=5)]: Done  91 out of 100 | elapsed:    0.3s remaining:    0.0s\n",
            "[Parallel(n_jobs=5)]: Done 100 out of 100 | elapsed:    0.3s finished\n",
            "[Parallel(n_jobs=5)]: Using backend LokyBackend with 5 concurrent workers.\n",
            "[Parallel(n_jobs=5)]: Batch computation too fast (0.0199s.) Setting batch_size=2.\n"
          ],
          "name": "stderr"
        },
        {
          "output_type": "stream",
          "text": [
            "Fitting 5 folds for each of 40 candidates, totalling 200 fits\n"
          ],
          "name": "stdout"
        },
        {
          "output_type": "stream",
          "text": [
            "[Parallel(n_jobs=5)]: Done   3 tasks      | elapsed:    0.0s\n",
            "[Parallel(n_jobs=5)]: Done   8 tasks      | elapsed:    0.1s\n",
            "[Parallel(n_jobs=5)]: Batch computation too fast (0.0316s.) Setting batch_size=4.\n",
            "[Parallel(n_jobs=5)]: Done  20 tasks      | elapsed:    0.1s\n",
            "[Parallel(n_jobs=5)]: Batch computation too fast (0.0900s.) Setting batch_size=8.\n",
            "[Parallel(n_jobs=5)]: Done  38 tasks      | elapsed:    0.2s\n",
            "[Parallel(n_jobs=5)]: Done  78 tasks      | elapsed:    0.4s\n",
            "[Parallel(n_jobs=5)]: Batch computation too fast (0.1538s.) Setting batch_size=16.\n",
            "[Parallel(n_jobs=5)]: Done 143 tasks      | elapsed:    0.5s\n",
            "[Parallel(n_jobs=5)]: Done 161 tasks      | elapsed:    0.5s\n",
            "[Parallel(n_jobs=5)]: Done 172 tasks      | elapsed:    0.6s\n",
            "[Parallel(n_jobs=5)]: Done 185 tasks      | elapsed:    0.6s\n",
            "[Parallel(n_jobs=5)]: Done 200 out of 200 | elapsed:    0.7s finished\n",
            "[Parallel(n_jobs=5)]: Using backend LokyBackend with 5 concurrent workers.\n",
            "[Parallel(n_jobs=5)]: Batch computation too fast (0.0123s.) Setting batch_size=2.\n",
            "[Parallel(n_jobs=5)]: Done   3 tasks      | elapsed:    0.0s\n",
            "[Parallel(n_jobs=5)]: Done   8 tasks      | elapsed:    0.1s\n",
            "[Parallel(n_jobs=5)]: Batch computation too fast (0.0466s.) Setting batch_size=4.\n",
            "[Parallel(n_jobs=5)]: Done  20 tasks      | elapsed:    0.1s\n"
          ],
          "name": "stderr"
        },
        {
          "output_type": "stream",
          "text": [
            "it 7/10\n",
            "Fitting 5 folds for each of 20 candidates, totalling 100 fits\n"
          ],
          "name": "stdout"
        },
        {
          "output_type": "stream",
          "text": [
            "[Parallel(n_jobs=5)]: Batch computation too fast (0.0970s.) Setting batch_size=8.\n",
            "[Parallel(n_jobs=5)]: Done  38 tasks      | elapsed:    0.2s\n",
            "[Parallel(n_jobs=5)]: Done  68 tasks      | elapsed:    0.3s\n",
            "[Parallel(n_jobs=5)]: Done  80 tasks      | elapsed:    0.3s\n",
            "[Parallel(n_jobs=5)]: Done  91 tasks      | elapsed:    0.3s\n",
            "[Parallel(n_jobs=5)]: Done 100 out of 100 | elapsed:    0.3s finished\n",
            "[Parallel(n_jobs=5)]: Using backend LokyBackend with 5 concurrent workers.\n",
            "[Parallel(n_jobs=5)]: Batch computation too fast (0.0088s.) Setting batch_size=2.\n"
          ],
          "name": "stderr"
        },
        {
          "output_type": "stream",
          "text": [
            "Fitting 5 folds for each of 40 candidates, totalling 200 fits\n"
          ],
          "name": "stdout"
        },
        {
          "output_type": "stream",
          "text": [
            "[Parallel(n_jobs=5)]: Done   3 tasks      | elapsed:    0.0s\n",
            "[Parallel(n_jobs=5)]: Done   8 tasks      | elapsed:    0.0s\n",
            "[Parallel(n_jobs=5)]: Batch computation too fast (0.0499s.) Setting batch_size=4.\n",
            "[Parallel(n_jobs=5)]: Done  20 tasks      | elapsed:    0.1s\n",
            "[Parallel(n_jobs=5)]: Batch computation too fast (0.1077s.) Setting batch_size=8.\n",
            "[Parallel(n_jobs=5)]: Done  38 tasks      | elapsed:    0.3s\n",
            "[Parallel(n_jobs=5)]: Done  78 tasks      | elapsed:    0.4s\n",
            "[Parallel(n_jobs=5)]: Batch computation too fast (0.0884s.) Setting batch_size=16.\n",
            "[Parallel(n_jobs=5)]: Done 143 tasks      | elapsed:    0.5s\n",
            "[Parallel(n_jobs=5)]: Done 154 tasks      | elapsed:    0.5s\n",
            "[Parallel(n_jobs=5)]: Done 172 tasks      | elapsed:    0.6s\n",
            "[Parallel(n_jobs=5)]: Done 185 tasks      | elapsed:    0.6s\n",
            "[Parallel(n_jobs=5)]: Done 200 out of 200 | elapsed:    0.7s finished\n",
            "[Parallel(n_jobs=5)]: Using backend LokyBackend with 5 concurrent workers.\n",
            "[Parallel(n_jobs=5)]: Batch computation too fast (0.0074s.) Setting batch_size=2.\n"
          ],
          "name": "stderr"
        },
        {
          "output_type": "stream",
          "text": [
            "it 8/10\n",
            "Fitting 5 folds for each of 20 candidates, totalling 100 fits\n"
          ],
          "name": "stdout"
        },
        {
          "output_type": "stream",
          "text": [
            "[Parallel(n_jobs=5)]: Done   3 tasks      | elapsed:    0.0s\n",
            "[Parallel(n_jobs=5)]: Done   8 tasks      | elapsed:    0.1s\n",
            "[Parallel(n_jobs=5)]: Batch computation too fast (0.0620s.) Setting batch_size=4.\n",
            "[Parallel(n_jobs=5)]: Done  20 tasks      | elapsed:    0.1s\n",
            "[Parallel(n_jobs=5)]: Batch computation too fast (0.0542s.) Setting batch_size=8.\n",
            "[Parallel(n_jobs=5)]: Done  38 tasks      | elapsed:    0.2s\n",
            "[Parallel(n_jobs=5)]: Done  68 tasks      | elapsed:    0.3s\n",
            "[Parallel(n_jobs=5)]: Done  80 tasks      | elapsed:    0.3s\n",
            "[Parallel(n_jobs=5)]: Done  91 tasks      | elapsed:    0.3s\n",
            "[Parallel(n_jobs=5)]: Done 100 out of 100 | elapsed:    0.4s finished\n",
            "[Parallel(n_jobs=5)]: Using backend LokyBackend with 5 concurrent workers.\n",
            "[Parallel(n_jobs=5)]: Batch computation too fast (0.0108s.) Setting batch_size=2.\n",
            "[Parallel(n_jobs=5)]: Done   3 tasks      | elapsed:    0.0s\n",
            "[Parallel(n_jobs=5)]: Done   8 tasks      | elapsed:    0.0s\n",
            "[Parallel(n_jobs=5)]: Batch computation too fast (0.0341s.) Setting batch_size=4.\n",
            "[Parallel(n_jobs=5)]: Done  20 tasks      | elapsed:    0.1s\n"
          ],
          "name": "stderr"
        },
        {
          "output_type": "stream",
          "text": [
            "Fitting 5 folds for each of 40 candidates, totalling 200 fits\n"
          ],
          "name": "stdout"
        },
        {
          "output_type": "stream",
          "text": [
            "[Parallel(n_jobs=5)]: Batch computation too fast (0.0849s.) Setting batch_size=8.\n",
            "[Parallel(n_jobs=5)]: Done  38 tasks      | elapsed:    0.2s\n",
            "[Parallel(n_jobs=5)]: Done  78 tasks      | elapsed:    0.3s\n",
            "[Parallel(n_jobs=5)]: Batch computation too fast (0.0973s.) Setting batch_size=16.\n",
            "[Parallel(n_jobs=5)]: Done 136 tasks      | elapsed:    0.5s\n",
            "[Parallel(n_jobs=5)]: Done 161 tasks      | elapsed:    0.5s\n",
            "[Parallel(n_jobs=5)]: Done 172 tasks      | elapsed:    0.6s\n",
            "[Parallel(n_jobs=5)]: Done 185 tasks      | elapsed:    0.6s\n",
            "[Parallel(n_jobs=5)]: Done 200 out of 200 | elapsed:    0.7s finished\n",
            "[Parallel(n_jobs=5)]: Using backend LokyBackend with 5 concurrent workers.\n",
            "[Parallel(n_jobs=5)]: Batch computation too fast (0.0099s.) Setting batch_size=2.\n",
            "[Parallel(n_jobs=5)]: Done   3 tasks      | elapsed:    0.0s\n",
            "[Parallel(n_jobs=5)]: Done   8 tasks      | elapsed:    0.0s\n",
            "[Parallel(n_jobs=5)]: Batch computation too fast (0.0330s.) Setting batch_size=4.\n",
            "[Parallel(n_jobs=5)]: Done  20 tasks      | elapsed:    0.1s\n",
            "[Parallel(n_jobs=5)]: Batch computation too fast (0.0968s.) Setting batch_size=8.\n",
            "[Parallel(n_jobs=5)]: Done  38 tasks      | elapsed:    0.2s\n"
          ],
          "name": "stderr"
        },
        {
          "output_type": "stream",
          "text": [
            "it 9/10\n",
            "Fitting 5 folds for each of 20 candidates, totalling 100 fits\n"
          ],
          "name": "stdout"
        },
        {
          "output_type": "stream",
          "text": [
            "[Parallel(n_jobs=5)]: Done  65 tasks      | elapsed:    0.3s\n",
            "[Parallel(n_jobs=5)]: Done  80 tasks      | elapsed:    0.3s\n",
            "[Parallel(n_jobs=5)]: Done  91 tasks      | elapsed:    0.3s\n",
            "[Parallel(n_jobs=5)]: Done 100 out of 100 | elapsed:    0.4s finished\n",
            "[Parallel(n_jobs=5)]: Using backend LokyBackend with 5 concurrent workers.\n",
            "[Parallel(n_jobs=5)]: Batch computation too fast (0.0137s.) Setting batch_size=2.\n",
            "[Parallel(n_jobs=5)]: Done   3 tasks      | elapsed:    0.0s\n",
            "[Parallel(n_jobs=5)]: Done   8 tasks      | elapsed:    0.0s\n",
            "[Parallel(n_jobs=5)]: Batch computation too fast (0.0374s.) Setting batch_size=4.\n",
            "[Parallel(n_jobs=5)]: Done  20 tasks      | elapsed:    0.1s\n"
          ],
          "name": "stderr"
        },
        {
          "output_type": "stream",
          "text": [
            "Fitting 5 folds for each of 40 candidates, totalling 200 fits\n"
          ],
          "name": "stdout"
        },
        {
          "output_type": "stream",
          "text": [
            "[Parallel(n_jobs=5)]: Batch computation too fast (0.0656s.) Setting batch_size=8.\n",
            "[Parallel(n_jobs=5)]: Done  38 tasks      | elapsed:    0.2s\n",
            "[Parallel(n_jobs=5)]: Done  78 tasks      | elapsed:    0.3s\n",
            "[Parallel(n_jobs=5)]: Batch computation too fast (0.1356s.) Setting batch_size=16.\n",
            "[Parallel(n_jobs=5)]: Done 136 tasks      | elapsed:    0.5s\n",
            "[Parallel(n_jobs=5)]: Done 161 tasks      | elapsed:    0.5s\n",
            "[Parallel(n_jobs=5)]: Done 172 tasks      | elapsed:    0.6s\n",
            "[Parallel(n_jobs=5)]: Done 185 tasks      | elapsed:    0.6s\n",
            "[Parallel(n_jobs=5)]: Done 200 out of 200 | elapsed:    0.7s finished\n",
            "[Parallel(n_jobs=5)]: Using backend LokyBackend with 5 concurrent workers.\n",
            "[Parallel(n_jobs=5)]: Batch computation too fast (0.0220s.) Setting batch_size=2.\n",
            "[Parallel(n_jobs=5)]: Done   3 tasks      | elapsed:    0.0s\n",
            "[Parallel(n_jobs=5)]: Done   8 tasks      | elapsed:    0.0s\n",
            "[Parallel(n_jobs=5)]: Batch computation too fast (0.0267s.) Setting batch_size=4.\n",
            "[Parallel(n_jobs=5)]: Done  20 tasks      | elapsed:    0.1s\n",
            "[Parallel(n_jobs=5)]: Batch computation too fast (0.1148s.) Setting batch_size=8.\n"
          ],
          "name": "stderr"
        },
        {
          "output_type": "stream",
          "text": [
            "it 10/10\n",
            "Fitting 5 folds for each of 20 candidates, totalling 100 fits\n"
          ],
          "name": "stdout"
        },
        {
          "output_type": "stream",
          "text": [
            "[Parallel(n_jobs=5)]: Done  38 tasks      | elapsed:    0.2s\n",
            "[Parallel(n_jobs=5)]: Done  68 tasks      | elapsed:    0.3s\n",
            "[Parallel(n_jobs=5)]: Done  80 tasks      | elapsed:    0.3s\n",
            "[Parallel(n_jobs=5)]: Done  91 tasks      | elapsed:    0.3s\n",
            "[Parallel(n_jobs=5)]: Done 100 out of 100 | elapsed:    0.3s finished\n",
            "[Parallel(n_jobs=5)]: Using backend LokyBackend with 5 concurrent workers.\n",
            "[Parallel(n_jobs=5)]: Batch computation too fast (0.0137s.) Setting batch_size=2.\n",
            "[Parallel(n_jobs=5)]: Done   3 tasks      | elapsed:    0.0s\n",
            "[Parallel(n_jobs=5)]: Done   8 tasks      | elapsed:    0.0s\n",
            "[Parallel(n_jobs=5)]: Batch computation too fast (0.0445s.) Setting batch_size=4.\n"
          ],
          "name": "stderr"
        },
        {
          "output_type": "stream",
          "text": [
            "Fitting 5 folds for each of 40 candidates, totalling 200 fits\n"
          ],
          "name": "stdout"
        },
        {
          "output_type": "stream",
          "text": [
            "[Parallel(n_jobs=5)]: Done  20 tasks      | elapsed:    0.1s\n",
            "[Parallel(n_jobs=5)]: Batch computation too fast (0.0693s.) Setting batch_size=8.\n",
            "[Parallel(n_jobs=5)]: Done  38 tasks      | elapsed:    0.3s\n",
            "[Parallel(n_jobs=5)]: Done  78 tasks      | elapsed:    0.4s\n",
            "[Parallel(n_jobs=5)]: Batch computation too fast (0.1077s.) Setting batch_size=16.\n",
            "[Parallel(n_jobs=5)]: Done 129 tasks      | elapsed:    0.5s\n",
            "[Parallel(n_jobs=5)]: Done 154 tasks      | elapsed:    0.5s\n",
            "[Parallel(n_jobs=5)]: Done 172 tasks      | elapsed:    0.6s\n",
            "[Parallel(n_jobs=5)]: Done 185 tasks      | elapsed:    0.7s\n",
            "[Parallel(n_jobs=5)]: Done 200 out of 200 | elapsed:    0.7s finished\n"
          ],
          "name": "stderr"
        }
      ]
    },
    {
      "cell_type": "code",
      "metadata": {
        "id": "d7bOcltTObMA",
        "colab_type": "code",
        "colab": {
          "base_uri": "https://localhost:8080/",
          "height": 265
        },
        "outputId": "789dffb1-df13-4972-844e-dcde32258a0b"
      },
      "source": [
        "plt.boxplot(MAE_R)\n",
        "plt.xticks(ticks=np.arange(len(steps))+1,labels=label_model_R)\n",
        "plt.show()"
      ],
      "execution_count": 106,
      "outputs": [
        {
          "output_type": "display_data",
          "data": {
            "image/png": "[encoded data removed]",
            "text/plain": [
              "<Figure size 432x288 with 1 Axes>"
            ]
          },
          "metadata": {
            "tags": [],
            "needs_background": "light"
          }
        }
      ]
    },
    {
      "cell_type": "code",
      "metadata": {
        "id": "l9UlXvH6ObXp",
        "colab_type": "code",
        "colab": {
          "base_uri": "https://localhost:8080/",
          "height": 187
        },
        "outputId": "4364f73a-b8cb-464d-b2e2-eaff91129c1d"
      },
      "source": [
        "MAE_R"
      ],
      "execution_count": 107,
      "outputs": [
        {
          "output_type": "execute_result",
          "data": {
            "text/plain": [
              "array([[ 7869.25313468, 13142.82295287],\n",
              "       [13023.81732653, 32346.92738142],\n",
              "       [ 4264.90067217, 18216.44443231],\n",
              "       [ 4113.06823881, 11509.34323687],\n",
              "       [ 2432.19173278, 12133.38544875],\n",
              "       [ 7591.03568374, 18815.16889478],\n",
              "       [10968.97831974, 22216.69093769],\n",
              "       [ 7314.72760079, 12502.67867209],\n",
              "       [ 8076.5476007 ,  8263.28146432],\n",
              "       [ 6076.14082531, 17501.63307805]])"
            ]
          },
          "metadata": {
            "tags": []
          },
          "execution_count": 107
        }
      ]
    },
    {
      "cell_type": "code",
      "metadata": {
        "id": "lFnP83SLObjy",
        "colab_type": "code",
        "colab": {
          "base_uri": "https://localhost:8080/",
          "height": 357
        },
        "outputId": "2b7677ed-4421-4c1b-f5de-8ba717b4685c"
      },
      "source": [
        "B_Hiperpara_R"
      ],
      "execution_count": 108,
      "outputs": [
        {
          "output_type": "execute_result",
          "data": {
            "text/plain": [
              "[{'reg__alpha': 0.001, 'reg__solver': 'sag'},\n",
              " {'reg__alpha': 0.1, 'reg__solver': 'saga', 'rep__n_components': 0.5},\n",
              " {'reg__alpha': 0.001, 'reg__solver': 'lsqr'},\n",
              " {'reg__alpha': 0.1, 'reg__solver': 'sag', 'rep__n_components': 0.5},\n",
              " {'reg__alpha': 0.01, 'reg__solver': 'lsqr'},\n",
              " {'reg__alpha': 0.001, 'reg__solver': 'saga', 'rep__n_components': 0.9},\n",
              " {'reg__alpha': 0.01, 'reg__solver': 'lsqr'},\n",
              " {'reg__alpha': 0.1, 'reg__solver': 'saga', 'rep__n_components': 0.9},\n",
              " {'reg__alpha': 0.01, 'reg__solver': 'lsqr'},\n",
              " {'reg__alpha': 1, 'reg__solver': 'saga', 'rep__n_components': 0.5},\n",
              " {'reg__alpha': 0.001, 'reg__solver': 'lsqr'},\n",
              " {'reg__alpha': 0.01, 'reg__solver': 'sag', 'rep__n_components': 0.9},\n",
              " {'reg__alpha': 0.001, 'reg__solver': 'lsqr'},\n",
              " {'reg__alpha': 0.001, 'reg__solver': 'saga', 'rep__n_components': 0.5},\n",
              " {'reg__alpha': 0.01, 'reg__solver': 'cholesky'},\n",
              " {'reg__alpha': 0.01, 'reg__solver': 'saga', 'rep__n_components': 0.9},\n",
              " {'reg__alpha': 0.01, 'reg__solver': 'lsqr'},\n",
              " {'reg__alpha': 0.1, 'reg__solver': 'saga', 'rep__n_components': 0.5},\n",
              " {'reg__alpha': 0.01, 'reg__solver': 'lsqr'},\n",
              " {'reg__alpha': 0.01, 'reg__solver': 'sag', 'rep__n_components': 0.5}]"
            ]
          },
          "metadata": {
            "tags": []
          },
          "execution_count": 108
        }
      ]
    },
    {
      "cell_type": "code",
      "metadata": {
        "id": "ytGwDKk4Obxs",
        "colab_type": "code",
        "colab": {
          "base_uri": "https://localhost:8080/",
          "height": 153
        },
        "outputId": "7b088c12-d37e-40cd-f860-9779e13a492c"
      },
      "source": [
        "steps =  [('scaler', StandardScaler()),\n",
        "          #('rep', PCA(n_components=0.5)),                         \n",
        "          ('reg', Ridge(alpha=0.001, solver='lsqr'))]\n",
        "\n",
        "Mod_SC_R = Pipeline(steps = steps)\n",
        "Mod_SC_R.fit(X_train,y_train)"
      ],
      "execution_count": 109,
      "outputs": [
        {
          "output_type": "execute_result",
          "data": {
            "text/plain": [
              "Pipeline(memory=None,\n",
              "         steps=[('scaler',\n",
              "                 StandardScaler(copy=True, with_mean=True, with_std=True)),\n",
              "                ('reg',\n",
              "                 Ridge(alpha=0.001, copy_X=True, fit_intercept=True,\n",
              "                       max_iter=None, normalize=False, random_state=None,\n",
              "                       solver='lsqr', tol=0.001))],\n",
              "         verbose=False)"
            ]
          },
          "metadata": {
            "tags": []
          },
          "execution_count": 109
        }
      ]
    },
    {
      "cell_type": "code",
      "metadata": {
        "id": "i5-8YcKLRNan",
        "colab_type": "code",
        "colab": {
          "base_uri": "https://localhost:8080/",
          "height": 51
        },
        "outputId": "9a5b7004-79b4-4b9d-b37e-e38fabc87fbc"
      },
      "source": [
        "Xn = X[-1]\n",
        "#Xn = [4881, 5142, 5379, 5948, 6207]\n",
        "#Xn=np.matrix([Xn])\n",
        "\n",
        "Xn = Xn.reshape(1,-1)\n",
        "Pre_SC_R = Mod_SC_R.predict(Xn)\n",
        "\n",
        "print('Número de contagiados en los últimos 5 días:',Xn)\n",
        "print('Predicción contagios para',date.today(),'usando un modelo LinearRidge:',Pre_SC_R)"
      ],
      "execution_count": 110,
      "outputs": [
        {
          "output_type": "stream",
          "text": [
            "Número de contagiados en los últimos 5 días: [[4356 4561 4881 5142 5379]]\n",
            "Predicción contagios para 2020-04-30 usando un modelo LinearRidge: [[5919.58309838]]\n"
          ],
          "name": "stdout"
        }
      ]
    },
    {
      "cell_type": "markdown",
      "metadata": {
        "id": "FbXXkFt7TT6F",
        "colab_type": "text"
      },
      "source": [
        "### Validacion Cruzada Anidada Lasso:\n",
        "\n",
        "- Normalización StandadScalar\n",
        "- Representación PCA\n",
        "- Regresor LinearLasso"
      ]
    },
    {
      "cell_type": "code",
      "metadata": {
        "id": "3ci1lFcRTUYy",
        "colab_type": "code",
        "colab": {
          "base_uri": "https://localhost:8080/",
          "height": 1000
        },
        "outputId": "c5ce3255-266d-4a36-c1e5-6c93a0940455"
      },
      "source": [
        "steps = [\n",
        "         [('scaler', StandardScaler()),           #estandarizar cada atributo columna de xtrain centrada en 0 y var = 1\n",
        "          ('reg',  Lasso())],\n",
        "         [('scaler', StandardScaler()),\n",
        "          ('rep', PCA()),                         \n",
        "          ('reg',  Lasso())]\n",
        "          ]\n",
        "\n",
        "parameters = [\n",
        "                {'reg__alpha':[1e-3,1e-2,1e-1,1],\n",
        "                 },\n",
        "                {'rep__n_components':[0.5,0.75,0.9],\n",
        "                 'reg__alpha':[1e-3,1e-2,1e-1,1],\n",
        "                 }\n",
        "               ]\n",
        "\n",
        "label_model_L = ['NorSC-L','NorSC-PCA-L']\n",
        "\n",
        "B_Model_L, B_Hiperpara_L, MAE_L = V_Cruzada_Anidada(X,y,steps,parameters)"
      ],
      "execution_count": 111,
      "outputs": [
        {
          "output_type": "stream",
          "text": [
            "it 1/10\n",
            "Fitting 5 folds for each of 4 candidates, totalling 20 fits\n",
            "Fitting 5 folds for each of 12 candidates, totalling 60 fits\n"
          ],
          "name": "stdout"
        },
        {
          "output_type": "stream",
          "text": [
            "[Parallel(n_jobs=5)]: Using backend LokyBackend with 5 concurrent workers.\n",
            "[Parallel(n_jobs=5)]: Batch computation too fast (0.0186s.) Setting batch_size=2.\n",
            "[Parallel(n_jobs=5)]: Done   3 tasks      | elapsed:    0.0s\n",
            "[Parallel(n_jobs=5)]: Done   8 out of  20 | elapsed:    0.1s remaining:    0.1s\n",
            "[Parallel(n_jobs=5)]: Done  14 out of  20 | elapsed:    0.1s remaining:    0.0s\n",
            "[Parallel(n_jobs=5)]: Done  20 out of  20 | elapsed:    0.1s remaining:    0.0s\n",
            "[Parallel(n_jobs=5)]: Done  20 out of  20 | elapsed:    0.1s finished\n",
            "/usr/local/lib/python3.6/dist-packages/sklearn/linear_model/_coordinate_descent.py:476: ConvergenceWarning: Objective did not converge. You might want to increase the number of iterations. Duality gap: 123528.54539464679, tolerance: 12301.78884375\n",
            "  positive)\n",
            "[Parallel(n_jobs=5)]: Using backend LokyBackend with 5 concurrent workers.\n",
            "[Parallel(n_jobs=5)]: Done   1 tasks      | elapsed:    0.0s\n",
            "[Parallel(n_jobs=5)]: Batch computation too fast (0.0056s.) Setting batch_size=2.\n",
            "[Parallel(n_jobs=5)]: Done   4 tasks      | elapsed:    0.0s\n",
            "[Parallel(n_jobs=5)]: Done   9 tasks      | elapsed:    0.1s\n",
            "[Parallel(n_jobs=5)]: Batch computation too fast (0.0319s.) Setting batch_size=4.\n",
            "[Parallel(n_jobs=5)]: Done  22 tasks      | elapsed:    0.1s\n",
            "[Parallel(n_jobs=5)]: Batch computation too fast (0.0586s.) Setting batch_size=8.\n",
            "[Parallel(n_jobs=5)]: Done  42 tasks      | elapsed:    0.2s\n",
            "[Parallel(n_jobs=5)]: Done  58 out of  60 | elapsed:    0.2s remaining:    0.0s\n",
            "[Parallel(n_jobs=5)]: Done  60 out of  60 | elapsed:    0.2s finished\n",
            "[Parallel(n_jobs=5)]: Using backend LokyBackend with 5 concurrent workers.\n",
            "[Parallel(n_jobs=5)]: Batch computation too fast (0.0106s.) Setting batch_size=2.\n",
            "[Parallel(n_jobs=5)]: Done   3 tasks      | elapsed:    0.0s\n",
            "[Parallel(n_jobs=5)]: Done   8 out of  20 | elapsed:    0.0s remaining:    0.1s\n",
            "[Parallel(n_jobs=5)]: Done  14 out of  20 | elapsed:    0.1s remaining:    0.0s\n",
            "[Parallel(n_jobs=5)]: Done  20 out of  20 | elapsed:    0.1s remaining:    0.0s\n",
            "[Parallel(n_jobs=5)]: Done  20 out of  20 | elapsed:    0.1s finished\n",
            "/usr/local/lib/python3.6/dist-packages/sklearn/linear_model/_coordinate_descent.py:476: ConvergenceWarning: Objective did not converge. You might want to increase the number of iterations. Duality gap: 38810.22497846198, tolerance: 16402.081700000002\n",
            "  positive)\n",
            "[Parallel(n_jobs=5)]: Using backend LokyBackend with 5 concurrent workers.\n",
            "[Parallel(n_jobs=5)]: Batch computation too fast (0.0099s.) Setting batch_size=2.\n"
          ],
          "name": "stderr"
        },
        {
          "output_type": "stream",
          "text": [
            "it 2/10\n",
            "Fitting 5 folds for each of 4 candidates, totalling 20 fits\n",
            "Fitting 5 folds for each of 12 candidates, totalling 60 fits\n"
          ],
          "name": "stdout"
        },
        {
          "output_type": "stream",
          "text": [
            "[Parallel(n_jobs=5)]: Done   3 tasks      | elapsed:    0.0s\n",
            "[Parallel(n_jobs=5)]: Done   8 tasks      | elapsed:    0.1s\n",
            "[Parallel(n_jobs=5)]: Batch computation too fast (0.0411s.) Setting batch_size=4.\n",
            "[Parallel(n_jobs=5)]: Done  20 tasks      | elapsed:    0.1s\n",
            "[Parallel(n_jobs=5)]: Batch computation too fast (0.0508s.) Setting batch_size=8.\n",
            "[Parallel(n_jobs=5)]: Done  38 tasks      | elapsed:    0.2s\n",
            "[Parallel(n_jobs=5)]: Done  58 out of  60 | elapsed:    0.2s remaining:    0.0s\n",
            "[Parallel(n_jobs=5)]: Done  60 out of  60 | elapsed:    0.2s finished\n",
            "[Parallel(n_jobs=5)]: Using backend LokyBackend with 5 concurrent workers.\n",
            "[Parallel(n_jobs=5)]: Batch computation too fast (0.0078s.) Setting batch_size=2.\n",
            "[Parallel(n_jobs=5)]: Done   3 tasks      | elapsed:    0.0s\n",
            "[Parallel(n_jobs=5)]: Done   8 out of  20 | elapsed:    0.0s remaining:    0.1s\n",
            "[Parallel(n_jobs=5)]: Done  14 out of  20 | elapsed:    0.1s remaining:    0.0s\n",
            "[Parallel(n_jobs=5)]: Done  20 out of  20 | elapsed:    0.1s remaining:    0.0s\n",
            "[Parallel(n_jobs=5)]: Done  20 out of  20 | elapsed:    0.1s finished\n",
            "/usr/local/lib/python3.6/dist-packages/sklearn/linear_model/_coordinate_descent.py:476: ConvergenceWarning: Objective did not converge. You might want to increase the number of iterations. Duality gap: 150983.36388411841, tolerance: 17282.7372609375\n",
            "  positive)\n",
            "[Parallel(n_jobs=5)]: Using backend LokyBackend with 5 concurrent workers.\n",
            "[Parallel(n_jobs=5)]: Batch computation too fast (0.0105s.) Setting batch_size=2.\n",
            "[Parallel(n_jobs=5)]: Done   3 tasks      | elapsed:    0.0s\n",
            "[Parallel(n_jobs=5)]: Done   8 tasks      | elapsed:    0.0s\n",
            "[Parallel(n_jobs=5)]: Batch computation too fast (0.0381s.) Setting batch_size=4.\n"
          ],
          "name": "stderr"
        },
        {
          "output_type": "stream",
          "text": [
            "it 3/10\n",
            "Fitting 5 folds for each of 4 candidates, totalling 20 fits\n",
            "Fitting 5 folds for each of 12 candidates, totalling 60 fits\n"
          ],
          "name": "stdout"
        },
        {
          "output_type": "stream",
          "text": [
            "[Parallel(n_jobs=5)]: Done  20 tasks      | elapsed:    0.1s\n",
            "[Parallel(n_jobs=5)]: Batch computation too fast (0.0634s.) Setting batch_size=8.\n",
            "[Parallel(n_jobs=5)]: Done  38 tasks      | elapsed:    0.2s\n",
            "[Parallel(n_jobs=5)]: Done  58 out of  60 | elapsed:    0.2s remaining:    0.0s\n",
            "[Parallel(n_jobs=5)]: Done  60 out of  60 | elapsed:    0.2s finished\n",
            "[Parallel(n_jobs=5)]: Using backend LokyBackend with 5 concurrent workers.\n",
            "[Parallel(n_jobs=5)]: Batch computation too fast (0.0098s.) Setting batch_size=2.\n",
            "[Parallel(n_jobs=5)]: Done   3 tasks      | elapsed:    0.0s\n",
            "[Parallel(n_jobs=5)]: Done   8 out of  20 | elapsed:    0.0s remaining:    0.1s\n",
            "[Parallel(n_jobs=5)]: Done  14 out of  20 | elapsed:    0.1s remaining:    0.0s\n",
            "[Parallel(n_jobs=5)]: Done  20 out of  20 | elapsed:    0.1s remaining:    0.0s\n",
            "[Parallel(n_jobs=5)]: Done  20 out of  20 | elapsed:    0.1s finished\n",
            "/usr/local/lib/python3.6/dist-packages/sklearn/linear_model/_coordinate_descent.py:476: ConvergenceWarning: Objective did not converge. You might want to increase the number of iterations. Duality gap: 187947.6261908724, tolerance: 16267.1005984375\n",
            "  positive)\n",
            "[Parallel(n_jobs=5)]: Using backend LokyBackend with 5 concurrent workers.\n"
          ],
          "name": "stderr"
        },
        {
          "output_type": "stream",
          "text": [
            "it 4/10\n",
            "Fitting 5 folds for each of 4 candidates, totalling 20 fits\n",
            "Fitting 5 folds for each of 12 candidates, totalling 60 fits\n"
          ],
          "name": "stdout"
        },
        {
          "output_type": "stream",
          "text": [
            "[Parallel(n_jobs=5)]: Batch computation too fast (0.0094s.) Setting batch_size=2.\n",
            "[Parallel(n_jobs=5)]: Done   3 tasks      | elapsed:    0.0s\n",
            "[Parallel(n_jobs=5)]: Done   8 tasks      | elapsed:    0.1s\n",
            "[Parallel(n_jobs=5)]: Batch computation too fast (0.0398s.) Setting batch_size=4.\n",
            "[Parallel(n_jobs=5)]: Done  20 tasks      | elapsed:    0.1s\n",
            "[Parallel(n_jobs=5)]: Batch computation too fast (0.0959s.) Setting batch_size=8.\n",
            "[Parallel(n_jobs=5)]: Done  35 tasks      | elapsed:    0.2s\n",
            "[Parallel(n_jobs=5)]: Done  58 out of  60 | elapsed:    0.2s remaining:    0.0s\n",
            "[Parallel(n_jobs=5)]: Done  60 out of  60 | elapsed:    0.2s finished\n",
            "[Parallel(n_jobs=5)]: Using backend LokyBackend with 5 concurrent workers.\n",
            "[Parallel(n_jobs=5)]: Batch computation too fast (0.0087s.) Setting batch_size=2.\n",
            "[Parallel(n_jobs=5)]: Done   3 tasks      | elapsed:    0.0s\n",
            "[Parallel(n_jobs=5)]: Done   8 out of  20 | elapsed:    0.0s remaining:    0.1s\n",
            "[Parallel(n_jobs=5)]: Done  14 out of  20 | elapsed:    0.1s remaining:    0.0s\n",
            "[Parallel(n_jobs=5)]: Done  20 out of  20 | elapsed:    0.1s remaining:    0.0s\n",
            "[Parallel(n_jobs=5)]: Done  20 out of  20 | elapsed:    0.1s finished\n",
            "/usr/local/lib/python3.6/dist-packages/sklearn/linear_model/_coordinate_descent.py:476: ConvergenceWarning: Objective did not converge. You might want to increase the number of iterations. Duality gap: 165680.8710515077, tolerance: 14224.378775000001\n",
            "  positive)\n",
            "[Parallel(n_jobs=5)]: Using backend LokyBackend with 5 concurrent workers.\n",
            "[Parallel(n_jobs=5)]: Batch computation too fast (0.0103s.) Setting batch_size=2.\n",
            "[Parallel(n_jobs=5)]: Done   3 tasks      | elapsed:    0.0s\n",
            "[Parallel(n_jobs=5)]: Done   8 tasks      | elapsed:    0.1s\n",
            "[Parallel(n_jobs=5)]: Batch computation too fast (0.0358s.) Setting batch_size=4.\n",
            "[Parallel(n_jobs=5)]: Done  20 tasks      | elapsed:    0.1s\n"
          ],
          "name": "stderr"
        },
        {
          "output_type": "stream",
          "text": [
            "it 5/10\n",
            "Fitting 5 folds for each of 4 candidates, totalling 20 fits\n",
            "Fitting 5 folds for each of 12 candidates, totalling 60 fits\n"
          ],
          "name": "stdout"
        },
        {
          "output_type": "stream",
          "text": [
            "[Parallel(n_jobs=5)]: Batch computation too fast (0.0533s.) Setting batch_size=8.\n",
            "[Parallel(n_jobs=5)]: Done  38 tasks      | elapsed:    0.2s\n",
            "[Parallel(n_jobs=5)]: Done  58 out of  60 | elapsed:    0.2s remaining:    0.0s\n",
            "[Parallel(n_jobs=5)]: Done  60 out of  60 | elapsed:    0.2s finished\n",
            "[Parallel(n_jobs=5)]: Using backend LokyBackend with 5 concurrent workers.\n",
            "[Parallel(n_jobs=5)]: Batch computation too fast (0.0195s.) Setting batch_size=2.\n",
            "[Parallel(n_jobs=5)]: Done   3 tasks      | elapsed:    0.0s\n",
            "[Parallel(n_jobs=5)]: Done   8 out of  20 | elapsed:    0.0s remaining:    0.1s\n",
            "[Parallel(n_jobs=5)]: Done  14 out of  20 | elapsed:    0.1s remaining:    0.0s\n",
            "[Parallel(n_jobs=5)]: Done  20 out of  20 | elapsed:    0.1s remaining:    0.0s\n",
            "[Parallel(n_jobs=5)]: Done  20 out of  20 | elapsed:    0.1s finished\n",
            "/usr/local/lib/python3.6/dist-packages/sklearn/linear_model/_coordinate_descent.py:476: ConvergenceWarning: Objective did not converge. You might want to increase the number of iterations. Duality gap: 154505.49030571213, tolerance: 15383.421443750001\n",
            "  positive)\n",
            "[Parallel(n_jobs=5)]: Using backend LokyBackend with 5 concurrent workers.\n",
            "[Parallel(n_jobs=5)]: Batch computation too fast (0.0111s.) Setting batch_size=2.\n",
            "[Parallel(n_jobs=5)]: Done   3 tasks      | elapsed:    0.0s\n"
          ],
          "name": "stderr"
        },
        {
          "output_type": "stream",
          "text": [
            "it 6/10\n",
            "Fitting 5 folds for each of 4 candidates, totalling 20 fits\n",
            "Fitting 5 folds for each of 12 candidates, totalling 60 fits\n"
          ],
          "name": "stdout"
        },
        {
          "output_type": "stream",
          "text": [
            "[Parallel(n_jobs=5)]: Done   8 tasks      | elapsed:    0.0s\n",
            "[Parallel(n_jobs=5)]: Batch computation too fast (0.0509s.) Setting batch_size=4.\n",
            "[Parallel(n_jobs=5)]: Done  20 tasks      | elapsed:    0.1s\n",
            "[Parallel(n_jobs=5)]: Batch computation too fast (0.0805s.) Setting batch_size=8.\n",
            "[Parallel(n_jobs=5)]: Done  38 tasks      | elapsed:    0.2s\n",
            "[Parallel(n_jobs=5)]: Done  58 out of  60 | elapsed:    0.2s remaining:    0.0s\n",
            "[Parallel(n_jobs=5)]: Done  60 out of  60 | elapsed:    0.2s finished\n",
            "[Parallel(n_jobs=5)]: Using backend LokyBackend with 5 concurrent workers.\n",
            "[Parallel(n_jobs=5)]: Batch computation too fast (0.0156s.) Setting batch_size=2.\n",
            "[Parallel(n_jobs=5)]: Done   3 tasks      | elapsed:    0.0s\n"
          ],
          "name": "stderr"
        },
        {
          "output_type": "stream",
          "text": [
            "it 7/10\n",
            "Fitting 5 folds for each of 4 candidates, totalling 20 fits\n",
            "Fitting 5 folds for each of 12 candidates, totalling 60 fits\n"
          ],
          "name": "stdout"
        },
        {
          "output_type": "stream",
          "text": [
            "[Parallel(n_jobs=5)]: Done   8 out of  20 | elapsed:    0.1s remaining:    0.1s\n",
            "[Parallel(n_jobs=5)]: Done  14 out of  20 | elapsed:    0.1s remaining:    0.0s\n",
            "[Parallel(n_jobs=5)]: Done  20 out of  20 | elapsed:    0.1s remaining:    0.0s\n",
            "[Parallel(n_jobs=5)]: Done  20 out of  20 | elapsed:    0.1s finished\n",
            "/usr/local/lib/python3.6/dist-packages/sklearn/linear_model/_coordinate_descent.py:476: ConvergenceWarning: Objective did not converge. You might want to increase the number of iterations. Duality gap: 117722.9722153871, tolerance: 10485.9324\n",
            "  positive)\n",
            "[Parallel(n_jobs=5)]: Using backend LokyBackend with 5 concurrent workers.\n",
            "[Parallel(n_jobs=5)]: Batch computation too fast (0.0069s.) Setting batch_size=2.\n",
            "[Parallel(n_jobs=5)]: Batch computation too fast (0.0069s.) Setting batch_size=4.\n",
            "[Parallel(n_jobs=5)]: Done   2 tasks      | elapsed:    0.0s\n",
            "[Parallel(n_jobs=5)]: Done   5 tasks      | elapsed:    0.0s\n",
            "[Parallel(n_jobs=5)]: Done  10 tasks      | elapsed:    0.1s\n",
            "[Parallel(n_jobs=5)]: Batch computation too fast (0.0418s.) Setting batch_size=8.\n",
            "[Parallel(n_jobs=5)]: Done  38 tasks      | elapsed:    0.1s\n",
            "[Parallel(n_jobs=5)]: Done  58 out of  60 | elapsed:    0.2s remaining:    0.0s\n",
            "[Parallel(n_jobs=5)]: Done  60 out of  60 | elapsed:    0.2s finished\n",
            "[Parallel(n_jobs=5)]: Using backend LokyBackend with 5 concurrent workers.\n",
            "[Parallel(n_jobs=5)]: Batch computation too fast (0.0061s.) Setting batch_size=2.\n",
            "[Parallel(n_jobs=5)]: Done   5 tasks      | elapsed:    0.0s\n",
            "[Parallel(n_jobs=5)]: Done  14 out of  20 | elapsed:    0.1s remaining:    0.0s\n",
            "[Parallel(n_jobs=5)]: Done  20 out of  20 | elapsed:    0.1s remaining:    0.0s\n",
            "[Parallel(n_jobs=5)]: Done  20 out of  20 | elapsed:    0.1s finished\n",
            "/usr/local/lib/python3.6/dist-packages/sklearn/linear_model/_coordinate_descent.py:476: ConvergenceWarning: Objective did not converge. You might want to increase the number of iterations. Duality gap: 157329.95999881087, tolerance: 16617.3403\n",
            "  positive)\n",
            "[Parallel(n_jobs=5)]: Using backend LokyBackend with 5 concurrent workers.\n",
            "[Parallel(n_jobs=5)]: Done   1 tasks      | elapsed:    0.0s\n",
            "[Parallel(n_jobs=5)]: Batch computation too fast (0.0074s.) Setting batch_size=2.\n",
            "[Parallel(n_jobs=5)]: Batch computation too fast (0.0074s.) Setting batch_size=4.\n",
            "[Parallel(n_jobs=5)]: Done   3 tasks      | elapsed:    0.0s\n",
            "[Parallel(n_jobs=5)]: Done   8 tasks      | elapsed:    0.1s\n",
            "[Parallel(n_jobs=5)]: Batch computation too fast (0.0221s.) Setting batch_size=8.\n"
          ],
          "name": "stderr"
        },
        {
          "output_type": "stream",
          "text": [
            "it 8/10\n",
            "Fitting 5 folds for each of 4 candidates, totalling 20 fits\n",
            "Fitting 5 folds for each of 12 candidates, totalling 60 fits\n"
          ],
          "name": "stdout"
        },
        {
          "output_type": "stream",
          "text": [
            "[Parallel(n_jobs=5)]: Done  30 tasks      | elapsed:    0.1s\n",
            "[Parallel(n_jobs=5)]: Done  51 out of  60 | elapsed:    0.2s remaining:    0.0s\n",
            "[Parallel(n_jobs=5)]: Done  58 out of  60 | elapsed:    0.2s remaining:    0.0s\n",
            "[Parallel(n_jobs=5)]: Done  60 out of  60 | elapsed:    0.2s finished\n",
            "[Parallel(n_jobs=5)]: Using backend LokyBackend with 5 concurrent workers.\n",
            "[Parallel(n_jobs=5)]: Batch computation too fast (0.0157s.) Setting batch_size=2.\n",
            "[Parallel(n_jobs=5)]: Done   3 tasks      | elapsed:    0.0s\n",
            "[Parallel(n_jobs=5)]: Done   8 out of  20 | elapsed:    0.0s remaining:    0.1s\n",
            "[Parallel(n_jobs=5)]: Done  14 out of  20 | elapsed:    0.1s remaining:    0.0s\n",
            "[Parallel(n_jobs=5)]: Done  20 out of  20 | elapsed:    0.1s remaining:    0.0s\n",
            "[Parallel(n_jobs=5)]: Done  20 out of  20 | elapsed:    0.1s finished\n",
            "/usr/local/lib/python3.6/dist-packages/sklearn/linear_model/_coordinate_descent.py:476: ConvergenceWarning: Objective did not converge. You might want to increase the number of iterations. Duality gap: 192141.22691598555, tolerance: 16570.72424375\n",
            "  positive)\n",
            "[Parallel(n_jobs=5)]: Using backend LokyBackend with 5 concurrent workers.\n",
            "[Parallel(n_jobs=5)]: Batch computation too fast (0.0235s.) Setting batch_size=2.\n"
          ],
          "name": "stderr"
        },
        {
          "output_type": "stream",
          "text": [
            "it 9/10\n",
            "Fitting 5 folds for each of 4 candidates, totalling 20 fits\n",
            "Fitting 5 folds for each of 12 candidates, totalling 60 fits\n"
          ],
          "name": "stdout"
        },
        {
          "output_type": "stream",
          "text": [
            "[Parallel(n_jobs=5)]: Done   3 tasks      | elapsed:    0.0s\n",
            "[Parallel(n_jobs=5)]: Done   8 tasks      | elapsed:    0.1s\n",
            "[Parallel(n_jobs=5)]: Batch computation too fast (0.0330s.) Setting batch_size=4.\n",
            "[Parallel(n_jobs=5)]: Done  20 tasks      | elapsed:    0.1s\n",
            "[Parallel(n_jobs=5)]: Batch computation too fast (0.0610s.) Setting batch_size=8.\n",
            "[Parallel(n_jobs=5)]: Done  38 tasks      | elapsed:    0.2s\n",
            "[Parallel(n_jobs=5)]: Done  58 out of  60 | elapsed:    0.2s remaining:    0.0s\n",
            "[Parallel(n_jobs=5)]: Done  60 out of  60 | elapsed:    0.2s finished\n",
            "[Parallel(n_jobs=5)]: Using backend LokyBackend with 5 concurrent workers.\n"
          ],
          "name": "stderr"
        },
        {
          "output_type": "stream",
          "text": [
            "it 10/10\n",
            "Fitting 5 folds for each of 4 candidates, totalling 20 fits\n",
            "Fitting 5 folds for each of 12 candidates, totalling 60 fits\n"
          ],
          "name": "stdout"
        },
        {
          "output_type": "stream",
          "text": [
            "[Parallel(n_jobs=5)]: Batch computation too fast (0.0124s.) Setting batch_size=2.\n",
            "[Parallel(n_jobs=5)]: Done   3 tasks      | elapsed:    0.0s\n",
            "[Parallel(n_jobs=5)]: Done   8 out of  20 | elapsed:    0.0s remaining:    0.1s\n",
            "[Parallel(n_jobs=5)]: Done  14 out of  20 | elapsed:    0.1s remaining:    0.0s\n",
            "[Parallel(n_jobs=5)]: Done  20 out of  20 | elapsed:    0.1s remaining:    0.0s\n",
            "[Parallel(n_jobs=5)]: Done  20 out of  20 | elapsed:    0.1s finished\n",
            "/usr/local/lib/python3.6/dist-packages/sklearn/linear_model/_coordinate_descent.py:476: ConvergenceWarning: Objective did not converge. You might want to increase the number of iterations. Duality gap: 159478.7621305909, tolerance: 18440.3946484375\n",
            "  positive)\n",
            "[Parallel(n_jobs=5)]: Using backend LokyBackend with 5 concurrent workers.\n",
            "[Parallel(n_jobs=5)]: Batch computation too fast (0.0148s.) Setting batch_size=2.\n",
            "[Parallel(n_jobs=5)]: Done   3 tasks      | elapsed:    0.0s\n",
            "[Parallel(n_jobs=5)]: Done   8 tasks      | elapsed:    0.1s\n",
            "[Parallel(n_jobs=5)]: Batch computation too fast (0.0346s.) Setting batch_size=4.\n",
            "[Parallel(n_jobs=5)]: Done  20 tasks      | elapsed:    0.1s\n",
            "[Parallel(n_jobs=5)]: Batch computation too fast (0.0743s.) Setting batch_size=8.\n",
            "[Parallel(n_jobs=5)]: Done  38 tasks      | elapsed:    0.2s\n",
            "[Parallel(n_jobs=5)]: Done  51 out of  60 | elapsed:    0.2s remaining:    0.0s\n",
            "[Parallel(n_jobs=5)]: Done  60 out of  60 | elapsed:    0.2s finished\n"
          ],
          "name": "stderr"
        }
      ]
    },
    {
      "cell_type": "code",
      "metadata": {
        "id": "ToRNlvHYV2R3",
        "colab_type": "code",
        "colab": {
          "base_uri": "https://localhost:8080/",
          "height": 265
        },
        "outputId": "56116242-49fc-4f56-8472-59cdca9f1c59"
      },
      "source": [
        "plt.boxplot(MAE_L)\n",
        "plt.xticks(ticks=np.arange(len(steps))+1,labels=label_model_L)\n",
        "plt.show()"
      ],
      "execution_count": 112,
      "outputs": [
        {
          "output_type": "display_data",
          "data": {
            "image/png": "[encoded data removed]",
            "text/plain": [
              "<Figure size 432x288 with 1 Axes>"
            ]
          },
          "metadata": {
            "tags": [],
            "needs_background": "light"
          }
        }
      ]
    },
    {
      "cell_type": "code",
      "metadata": {
        "id": "VVn63STmV2Wp",
        "colab_type": "code",
        "colab": {
          "base_uri": "https://localhost:8080/",
          "height": 187
        },
        "outputId": "81ae7be8-37dd-445e-f9d7-b47c9724f22e"
      },
      "source": [
        "MAE_L"
      ],
      "execution_count": 113,
      "outputs": [
        {
          "output_type": "execute_result",
          "data": {
            "text/plain": [
              "array([[11161.06604627, 19482.21792534],\n",
              "       [ 6640.97525282,  5919.86869916],\n",
              "       [11513.49622599, 16055.44431423],\n",
              "       [ 3109.23851501, 10212.59714304],\n",
              "       [ 3686.01967329, 17355.47323804],\n",
              "       [ 9136.07020486, 12085.83311715],\n",
              "       [ 5944.91067366, 19312.95964885],\n",
              "       [ 5117.14737798, 22076.80527041],\n",
              "       [ 2223.46286298,  9209.95145389],\n",
              "       [ 8722.41334879, 11120.86773453]])"
            ]
          },
          "metadata": {
            "tags": []
          },
          "execution_count": 113
        }
      ]
    },
    {
      "cell_type": "code",
      "metadata": {
        "id": "JpDtnXE2V2dC",
        "colab_type": "code",
        "colab": {
          "base_uri": "https://localhost:8080/",
          "height": 357
        },
        "outputId": "0b17b317-827d-4386-9c25-20b4d961a4a2"
      },
      "source": [
        "B_Hiperpara_L"
      ],
      "execution_count": 114,
      "outputs": [
        {
          "output_type": "execute_result",
          "data": {
            "text/plain": [
              "[{'reg__alpha': 0.1},\n",
              " {'reg__alpha': 0.001, 'rep__n_components': 0.5},\n",
              " {'reg__alpha': 1},\n",
              " {'reg__alpha': 1, 'rep__n_components': 0.5},\n",
              " {'reg__alpha': 0.1},\n",
              " {'reg__alpha': 0.001, 'rep__n_components': 0.5},\n",
              " {'reg__alpha': 0.1},\n",
              " {'reg__alpha': 0.001, 'rep__n_components': 0.5},\n",
              " {'reg__alpha': 0.1},\n",
              " {'reg__alpha': 0.001, 'rep__n_components': 0.5},\n",
              " {'reg__alpha': 0.1},\n",
              " {'reg__alpha': 0.001, 'rep__n_components': 0.5},\n",
              " {'reg__alpha': 0.1},\n",
              " {'reg__alpha': 0.001, 'rep__n_components': 0.5},\n",
              " {'reg__alpha': 0.1},\n",
              " {'reg__alpha': 1, 'rep__n_components': 0.5},\n",
              " {'reg__alpha': 0.1},\n",
              " {'reg__alpha': 0.001, 'rep__n_components': 0.5},\n",
              " {'reg__alpha': 0.1},\n",
              " {'reg__alpha': 0.001, 'rep__n_components': 0.5}]"
            ]
          },
          "metadata": {
            "tags": []
          },
          "execution_count": 114
        }
      ]
    },
    {
      "cell_type": "code",
      "metadata": {
        "id": "LGuRLQ_-V2PN",
        "colab_type": "code",
        "colab": {
          "base_uri": "https://localhost:8080/",
          "height": 153
        },
        "outputId": "86095dcf-e3ec-43e9-8ece-653a4cd235b8"
      },
      "source": [
        "steps =  [('scaler', StandardScaler()),\n",
        "          #('rep', PCA(n_components=0.5)),                         \n",
        "          ('reg', Ridge(alpha=0.1))]\n",
        "\n",
        "Mod_SC_L = Pipeline(steps = steps)\n",
        "Mod_SC_L.fit(X_train,y_train)"
      ],
      "execution_count": 115,
      "outputs": [
        {
          "output_type": "execute_result",
          "data": {
            "text/plain": [
              "Pipeline(memory=None,\n",
              "         steps=[('scaler',\n",
              "                 StandardScaler(copy=True, with_mean=True, with_std=True)),\n",
              "                ('reg',\n",
              "                 Ridge(alpha=0.1, copy_X=True, fit_intercept=True,\n",
              "                       max_iter=None, normalize=False, random_state=None,\n",
              "                       solver='auto', tol=0.001))],\n",
              "         verbose=False)"
            ]
          },
          "metadata": {
            "tags": []
          },
          "execution_count": 115
        }
      ]
    },
    {
      "cell_type": "code",
      "metadata": {
        "id": "Qmz6-p42WLnS",
        "colab_type": "code",
        "colab": {
          "base_uri": "https://localhost:8080/",
          "height": 51
        },
        "outputId": "af5245b2-39f0-4616-edf0-647aeff426b6"
      },
      "source": [
        "Xn = X[-1]\n",
        "#Xn = [4881, 5142, 5379, 5948, 6207]\n",
        "#Xn=np.matrix([Xn])\n",
        "\n",
        "Xn = Xn.reshape(1,-1)\n",
        "Pre_SC_L = Mod_SC_L.predict(Xn)\n",
        "\n",
        "print('Número de contagiados en los últimos 5 días:',Xn)\n",
        "print('Predicción contagios para',date.today(),'usando un modelo LinearLasso:',Pre_SC_L)"
      ],
      "execution_count": 116,
      "outputs": [
        {
          "output_type": "stream",
          "text": [
            "Número de contagiados en los últimos 5 días: [[4356 4561 4881 5142 5379]]\n",
            "Predicción contagios para 2020-04-30 usando un modelo LinearLasso: [[5963.91703344]]\n"
          ],
          "name": "stdout"
        }
      ]
    },
    {
      "cell_type": "markdown",
      "metadata": {
        "id": "g23P_R8FaIWG",
        "colab_type": "text"
      },
      "source": [
        "### Validacion Cruzada Anidada EN:\n",
        "\n",
        "- Normalización StandadScalar\n",
        "- Representación PCA\n",
        "- Regresor LinearElasticNet"
      ]
    },
    {
      "cell_type": "code",
      "metadata": {
        "id": "VQtKYWNyaIxI",
        "colab_type": "code",
        "colab": {
          "base_uri": "https://localhost:8080/",
          "height": 1000
        },
        "outputId": "4fb130a6-da73-47ad-9247-f756f896fa21"
      },
      "source": [
        "steps = [\n",
        "         [('scaler', StandardScaler()),           #estandarizar cada atributo columna de xtrain centrada en 0 y var = 1\n",
        "          ('reg',  ElasticNet())],\n",
        "         [('scaler', StandardScaler()),\n",
        "          ('rep', PCA()),                         \n",
        "          ('reg',  ElasticNet( ))]\n",
        "          ]\n",
        "\n",
        "parameters = [\n",
        "                {'reg__alpha':[1e-3,1e-2,1e-1,1,10,100],\n",
        "                 'reg__l1_ratio':[1e-3,1e-2,5e-1,75e-1,1e-1,1,10,100]\n",
        "                 },\n",
        "                {'reg__alpha':[1e-3,1e-2,1e-1,1,10,100],\n",
        "                 'reg__l1_ratio':[1e-3,1e-2,5e-1,75e-1,1e-1,1,10,100],\n",
        "                  'rep__n_components':[0.5,0.75,0.9]\n",
        "                 }\n",
        "               ]\n",
        "\n",
        "label_model_EN = ['NorSC-EN','NorSC-PCA-EN']\n",
        "\n",
        "B_Model_EN, B_Hiperpara_EN, MAE_EN = V_Cruzada_Anidada(X,y,steps,parameters)"
      ],
      "execution_count": 120,
      "outputs": [
        {
          "output_type": "stream",
          "text": [
            "it 1/10\n",
            "Fitting 5 folds for each of 48 candidates, totalling 240 fits\n"
          ],
          "name": "stdout"
        },
        {
          "output_type": "stream",
          "text": [
            "[Parallel(n_jobs=5)]: Using backend LokyBackend with 5 concurrent workers.\n",
            "[Parallel(n_jobs=5)]: Done   3 tasks      | elapsed:    1.9s\n",
            "[Parallel(n_jobs=5)]: Done   8 tasks      | elapsed:    2.0s\n",
            "[Parallel(n_jobs=5)]: Done  15 tasks      | elapsed:    2.0s\n",
            "[Parallel(n_jobs=5)]: Batch computation too fast (0.1948s.) Setting batch_size=2.\n",
            "[Parallel(n_jobs=5)]: Done  22 tasks      | elapsed:    2.1s\n",
            "[Parallel(n_jobs=5)]: Done  32 tasks      | elapsed:    2.1s\n",
            "[Parallel(n_jobs=5)]: Batch computation too fast (0.0266s.) Setting batch_size=4.\n",
            "[Parallel(n_jobs=5)]: Done  50 tasks      | elapsed:    2.2s\n",
            "[Parallel(n_jobs=5)]: Batch computation too fast (0.0733s.) Setting batch_size=8.\n",
            "[Parallel(n_jobs=5)]: Done  98 tasks      | elapsed:    2.3s\n",
            "[Parallel(n_jobs=5)]: Batch computation too fast (0.0691s.) Setting batch_size=16.\n",
            "[Parallel(n_jobs=5)]: Done 158 tasks      | elapsed:    2.5s\n",
            "[Parallel(n_jobs=5)]: Done 185 tasks      | elapsed:    2.6s\n",
            "[Parallel(n_jobs=5)]: Done 198 tasks      | elapsed:    2.6s\n",
            "[Parallel(n_jobs=5)]: Done 213 tasks      | elapsed:    2.6s\n",
            "[Parallel(n_jobs=5)]: Done 228 tasks      | elapsed:    2.7s\n",
            "[Parallel(n_jobs=5)]: Done 240 out of 240 | elapsed:    2.7s finished\n",
            "/usr/local/lib/python3.6/dist-packages/sklearn/linear_model/_coordinate_descent.py:476: ConvergenceWarning: Objective did not converge. You might want to increase the number of iterations. Duality gap: 166804.2637444685, tolerance: 17072.7292984375\n",
            "  positive)\n",
            "[Parallel(n_jobs=5)]: Using backend LokyBackend with 5 concurrent workers.\n",
            "[Parallel(n_jobs=5)]: Batch computation too fast (0.0300s.) Setting batch_size=2.\n",
            "[Parallel(n_jobs=5)]: Done   3 tasks      | elapsed:    0.1s\n",
            "[Parallel(n_jobs=5)]: Done   8 tasks      | elapsed:    0.1s\n",
            "[Parallel(n_jobs=5)]: Batch computation too fast (0.0356s.) Setting batch_size=4.\n",
            "[Parallel(n_jobs=5)]: Done  20 tasks      | elapsed:    0.1s\n"
          ],
          "name": "stderr"
        },
        {
          "output_type": "stream",
          "text": [
            "Fitting 5 folds for each of 144 candidates, totalling 720 fits\n"
          ],
          "name": "stdout"
        },
        {
          "output_type": "stream",
          "text": [
            "[Parallel(n_jobs=5)]: Batch computation too fast (0.1322s.) Setting batch_size=8.\n",
            "[Parallel(n_jobs=5)]: Done  38 tasks      | elapsed:    0.3s\n",
            "[Parallel(n_jobs=5)]: Done  78 tasks      | elapsed:    0.5s\n",
            "[Parallel(n_jobs=5)]: Batch computation too fast (0.1579s.) Setting batch_size=16.\n",
            "[Parallel(n_jobs=5)]: Done 150 tasks      | elapsed:    0.7s\n",
            "[Parallel(n_jobs=5)]: Batch computation too fast (0.1885s.) Setting batch_size=32.\n",
            "[Parallel(n_jobs=5)]: Done 342 tasks      | elapsed:    1.4s\n",
            "[Parallel(n_jobs=5)]: Done 539 tasks      | elapsed:    1.9s\n",
            "[Parallel(n_jobs=5)]: Done 583 tasks      | elapsed:    2.0s\n",
            "[Parallel(n_jobs=5)]: Done 596 tasks      | elapsed:    2.1s\n",
            "[Parallel(n_jobs=5)]: Done 611 tasks      | elapsed:    2.2s\n",
            "[Parallel(n_jobs=5)]: Done 688 tasks      | elapsed:    2.3s\n",
            "[Parallel(n_jobs=5)]: Done 705 tasks      | elapsed:    2.4s\n",
            "[Parallel(n_jobs=5)]: Done 720 out of 720 | elapsed:    2.4s finished\n"
          ],
          "name": "stderr"
        },
        {
          "output_type": "stream",
          "text": [
            "it 2/10\n",
            "Fitting 5 folds for each of 48 candidates, totalling 240 fits\n"
          ],
          "name": "stdout"
        },
        {
          "output_type": "stream",
          "text": [
            "[Parallel(n_jobs=5)]: Using backend LokyBackend with 5 concurrent workers.\n",
            "[Parallel(n_jobs=5)]: Batch computation too fast (0.0129s.) Setting batch_size=2.\n",
            "[Parallel(n_jobs=5)]: Done   3 tasks      | elapsed:    0.0s\n",
            "[Parallel(n_jobs=5)]: Done   8 tasks      | elapsed:    0.0s\n",
            "[Parallel(n_jobs=5)]: Batch computation too fast (0.0497s.) Setting batch_size=4.\n",
            "[Parallel(n_jobs=5)]: Done  20 tasks      | elapsed:    0.1s\n",
            "[Parallel(n_jobs=5)]: Batch computation too fast (0.0676s.) Setting batch_size=8.\n",
            "[Parallel(n_jobs=5)]: Done  38 tasks      | elapsed:    0.2s\n",
            "[Parallel(n_jobs=5)]: Done  78 tasks      | elapsed:    0.3s\n",
            "[Parallel(n_jobs=5)]: Batch computation too fast (0.1173s.) Setting batch_size=16.\n",
            "[Parallel(n_jobs=5)]: Done 150 tasks      | elapsed:    0.6s\n",
            "[Parallel(n_jobs=5)]: Done 240 out of 240 | elapsed:    0.8s finished\n",
            "/usr/local/lib/python3.6/dist-packages/sklearn/linear_model/_coordinate_descent.py:476: ConvergenceWarning: Objective did not converge. You might want to increase the number of iterations. Duality gap: 163964.86928955003, tolerance: 17000.9149\n",
            "  positive)\n",
            "[Parallel(n_jobs=5)]: Using backend LokyBackend with 5 concurrent workers.\n",
            "[Parallel(n_jobs=5)]: Batch computation too fast (0.0101s.) Setting batch_size=2.\n"
          ],
          "name": "stderr"
        },
        {
          "output_type": "stream",
          "text": [
            "Fitting 5 folds for each of 144 candidates, totalling 720 fits\n"
          ],
          "name": "stdout"
        },
        {
          "output_type": "stream",
          "text": [
            "[Parallel(n_jobs=5)]: Done   3 tasks      | elapsed:    0.0s\n",
            "[Parallel(n_jobs=5)]: Done   8 tasks      | elapsed:    0.0s\n",
            "[Parallel(n_jobs=5)]: Batch computation too fast (0.0426s.) Setting batch_size=4.\n",
            "[Parallel(n_jobs=5)]: Done  20 tasks      | elapsed:    0.1s\n",
            "[Parallel(n_jobs=5)]: Batch computation too fast (0.0647s.) Setting batch_size=8.\n",
            "[Parallel(n_jobs=5)]: Done  38 tasks      | elapsed:    0.2s\n",
            "[Parallel(n_jobs=5)]: Done  78 tasks      | elapsed:    0.4s\n",
            "[Parallel(n_jobs=5)]: Batch computation too fast (0.1804s.) Setting batch_size=16.\n",
            "[Parallel(n_jobs=5)]: Done 150 tasks      | elapsed:    0.7s\n",
            "[Parallel(n_jobs=5)]: Done 326 tasks      | elapsed:    1.2s\n",
            "[Parallel(n_jobs=5)]: Done 502 tasks      | elapsed:    1.9s\n",
            "[Parallel(n_jobs=5)]: Done 665 tasks      | elapsed:    2.2s\n",
            "[Parallel(n_jobs=5)]: Done 720 out of 720 | elapsed:    2.2s finished\n",
            "[Parallel(n_jobs=5)]: Using backend LokyBackend with 5 concurrent workers.\n",
            "[Parallel(n_jobs=5)]: Batch computation too fast (0.0137s.) Setting batch_size=2.\n",
            "[Parallel(n_jobs=5)]: Done   3 tasks      | elapsed:    0.0s\n",
            "[Parallel(n_jobs=5)]: Done   8 tasks      | elapsed:    0.0s\n",
            "[Parallel(n_jobs=5)]: Batch computation too fast (0.0358s.) Setting batch_size=4.\n",
            "[Parallel(n_jobs=5)]: Done  20 tasks      | elapsed:    0.1s\n",
            "[Parallel(n_jobs=5)]: Batch computation too fast (0.0546s.) Setting batch_size=8.\n",
            "[Parallel(n_jobs=5)]: Done  38 tasks      | elapsed:    0.1s\n"
          ],
          "name": "stderr"
        },
        {
          "output_type": "stream",
          "text": [
            "it 3/10\n",
            "Fitting 5 folds for each of 48 candidates, totalling 240 fits\n"
          ],
          "name": "stdout"
        },
        {
          "output_type": "stream",
          "text": [
            "[Parallel(n_jobs=5)]: Done  78 tasks      | elapsed:    0.4s\n",
            "[Parallel(n_jobs=5)]: Done 150 tasks      | elapsed:    0.7s\n",
            "[Parallel(n_jobs=5)]: Batch computation too fast (0.1984s.) Setting batch_size=16.\n",
            "[Parallel(n_jobs=5)]: Done 217 tasks      | elapsed:    0.8s\n",
            "[Parallel(n_jobs=5)]: Done 231 out of 240 | elapsed:    0.8s remaining:    0.0s\n",
            "[Parallel(n_jobs=5)]: Done 240 out of 240 | elapsed:    0.8s finished\n",
            "/usr/local/lib/python3.6/dist-packages/sklearn/linear_model/_coordinate_descent.py:476: ConvergenceWarning: Objective did not converge. You might want to increase the number of iterations. Duality gap: 177774.79691243244, tolerance: 16456.43159375\n",
            "  positive)\n",
            "[Parallel(n_jobs=5)]: Using backend LokyBackend with 5 concurrent workers.\n",
            "[Parallel(n_jobs=5)]: Batch computation too fast (0.0143s.) Setting batch_size=2.\n",
            "[Parallel(n_jobs=5)]: Done   3 tasks      | elapsed:    0.0s\n",
            "[Parallel(n_jobs=5)]: Done   8 tasks      | elapsed:    0.0s\n",
            "[Parallel(n_jobs=5)]: Batch computation too fast (0.0372s.) Setting batch_size=4.\n"
          ],
          "name": "stderr"
        },
        {
          "output_type": "stream",
          "text": [
            "Fitting 5 folds for each of 144 candidates, totalling 720 fits\n"
          ],
          "name": "stdout"
        },
        {
          "output_type": "stream",
          "text": [
            "[Parallel(n_jobs=5)]: Done  20 tasks      | elapsed:    0.1s\n",
            "[Parallel(n_jobs=5)]: Batch computation too fast (0.0770s.) Setting batch_size=8.\n",
            "[Parallel(n_jobs=5)]: Done  38 tasks      | elapsed:    0.2s\n",
            "[Parallel(n_jobs=5)]: Done  78 tasks      | elapsed:    0.3s\n",
            "[Parallel(n_jobs=5)]: Batch computation too fast (0.1241s.) Setting batch_size=16.\n",
            "[Parallel(n_jobs=5)]: Done 150 tasks      | elapsed:    0.7s\n",
            "[Parallel(n_jobs=5)]: Done 326 tasks      | elapsed:    1.2s\n",
            "[Parallel(n_jobs=5)]: Done 502 tasks      | elapsed:    1.9s\n",
            "[Parallel(n_jobs=5)]: Done 650 tasks      | elapsed:    2.1s\n",
            "[Parallel(n_jobs=5)]: Done 720 out of 720 | elapsed:    2.2s finished\n",
            "[Parallel(n_jobs=5)]: Using backend LokyBackend with 5 concurrent workers.\n",
            "[Parallel(n_jobs=5)]: Batch computation too fast (0.0158s.) Setting batch_size=2.\n",
            "[Parallel(n_jobs=5)]: Done   3 tasks      | elapsed:    0.0s\n",
            "[Parallel(n_jobs=5)]: Done   8 tasks      | elapsed:    0.1s\n",
            "[Parallel(n_jobs=5)]: Batch computation too fast (0.0436s.) Setting batch_size=4.\n",
            "[Parallel(n_jobs=5)]: Done  20 tasks      | elapsed:    0.1s\n"
          ],
          "name": "stderr"
        },
        {
          "output_type": "stream",
          "text": [
            "it 4/10\n",
            "Fitting 5 folds for each of 48 candidates, totalling 240 fits\n"
          ],
          "name": "stdout"
        },
        {
          "output_type": "stream",
          "text": [
            "[Parallel(n_jobs=5)]: Batch computation too fast (0.0609s.) Setting batch_size=8.\n",
            "[Parallel(n_jobs=5)]: Done  38 tasks      | elapsed:    0.2s\n",
            "[Parallel(n_jobs=5)]: Done  78 tasks      | elapsed:    0.3s\n",
            "[Parallel(n_jobs=5)]: Batch computation too fast (0.1444s.) Setting batch_size=16.\n",
            "[Parallel(n_jobs=5)]: Done 150 tasks      | elapsed:    0.5s\n",
            "[Parallel(n_jobs=5)]: Batch computation too fast (0.1764s.) Setting batch_size=32.\n",
            "[Parallel(n_jobs=5)]: Done 206 out of 240 | elapsed:    0.7s remaining:    0.1s\n",
            "[Parallel(n_jobs=5)]: Done 240 out of 240 | elapsed:    0.7s finished\n",
            "/usr/local/lib/python3.6/dist-packages/sklearn/linear_model/_coordinate_descent.py:476: ConvergenceWarning: Objective did not converge. You might want to increase the number of iterations. Duality gap: 219871.2734070139, tolerance: 17772.9821109375\n",
            "  positive)\n",
            "[Parallel(n_jobs=5)]: Using backend LokyBackend with 5 concurrent workers.\n",
            "[Parallel(n_jobs=5)]: Batch computation too fast (0.0094s.) Setting batch_size=2.\n",
            "[Parallel(n_jobs=5)]: Done   3 tasks      | elapsed:    0.0s\n"
          ],
          "name": "stderr"
        },
        {
          "output_type": "stream",
          "text": [
            "Fitting 5 folds for each of 144 candidates, totalling 720 fits\n"
          ],
          "name": "stdout"
        },
        {
          "output_type": "stream",
          "text": [
            "[Parallel(n_jobs=5)]: Done   8 tasks      | elapsed:    0.1s\n",
            "[Parallel(n_jobs=5)]: Batch computation too fast (0.0383s.) Setting batch_size=4.\n",
            "[Parallel(n_jobs=5)]: Done  20 tasks      | elapsed:    0.1s\n",
            "[Parallel(n_jobs=5)]: Batch computation too fast (0.0828s.) Setting batch_size=8.\n",
            "[Parallel(n_jobs=5)]: Done  38 tasks      | elapsed:    0.2s\n",
            "[Parallel(n_jobs=5)]: Done  78 tasks      | elapsed:    0.3s\n",
            "[Parallel(n_jobs=5)]: Batch computation too fast (0.0926s.) Setting batch_size=16.\n",
            "[Parallel(n_jobs=5)]: Done 150 tasks      | elapsed:    0.6s\n",
            "[Parallel(n_jobs=5)]: Batch computation too fast (0.1992s.) Setting batch_size=32.\n",
            "[Parallel(n_jobs=5)]: Done 342 tasks      | elapsed:    1.2s\n",
            "[Parallel(n_jobs=5)]: Done 508 tasks      | elapsed:    1.8s\n",
            "[Parallel(n_jobs=5)]: Done 552 tasks      | elapsed:    1.9s\n",
            "[Parallel(n_jobs=5)]: Done 596 tasks      | elapsed:    2.0s\n",
            "[Parallel(n_jobs=5)]: Done 642 tasks      | elapsed:    2.0s\n",
            "[Parallel(n_jobs=5)]: Done 688 tasks      | elapsed:    2.1s\n",
            "[Parallel(n_jobs=5)]: Done 705 tasks      | elapsed:    2.2s\n",
            "[Parallel(n_jobs=5)]: Done 720 out of 720 | elapsed:    2.2s finished\n"
          ],
          "name": "stderr"
        },
        {
          "output_type": "stream",
          "text": [
            "it 5/10\n",
            "Fitting 5 folds for each of 48 candidates, totalling 240 fits\n"
          ],
          "name": "stdout"
        },
        {
          "output_type": "stream",
          "text": [
            "[Parallel(n_jobs=5)]: Using backend LokyBackend with 5 concurrent workers.\n",
            "[Parallel(n_jobs=5)]: Batch computation too fast (0.0144s.) Setting batch_size=2.\n",
            "[Parallel(n_jobs=5)]: Done   3 tasks      | elapsed:    0.0s\n",
            "[Parallel(n_jobs=5)]: Done   8 tasks      | elapsed:    0.0s\n",
            "[Parallel(n_jobs=5)]: Batch computation too fast (0.0546s.) Setting batch_size=4.\n",
            "[Parallel(n_jobs=5)]: Done  20 tasks      | elapsed:    0.1s\n",
            "[Parallel(n_jobs=5)]: Batch computation too fast (0.0472s.) Setting batch_size=8.\n",
            "[Parallel(n_jobs=5)]: Done  38 tasks      | elapsed:    0.2s\n",
            "[Parallel(n_jobs=5)]: Done  78 tasks      | elapsed:    0.3s\n",
            "[Parallel(n_jobs=5)]: Batch computation too fast (0.1216s.) Setting batch_size=16.\n",
            "[Parallel(n_jobs=5)]: Done 150 tasks      | elapsed:    0.5s\n",
            "[Parallel(n_jobs=5)]: Batch computation too fast (0.1603s.) Setting batch_size=32.\n",
            "[Parallel(n_jobs=5)]: Done 240 out of 240 | elapsed:    0.7s finished\n",
            "/usr/local/lib/python3.6/dist-packages/sklearn/linear_model/_coordinate_descent.py:476: ConvergenceWarning: Objective did not converge. You might want to increase the number of iterations. Duality gap: 160534.2430101681, tolerance: 13805.2144484375\n",
            "  positive)\n",
            "[Parallel(n_jobs=5)]: Using backend LokyBackend with 5 concurrent workers.\n"
          ],
          "name": "stderr"
        },
        {
          "output_type": "stream",
          "text": [
            "Fitting 5 folds for each of 144 candidates, totalling 720 fits\n"
          ],
          "name": "stdout"
        },
        {
          "output_type": "stream",
          "text": [
            "[Parallel(n_jobs=5)]: Batch computation too fast (0.0165s.) Setting batch_size=2.\n",
            "[Parallel(n_jobs=5)]: Done   3 tasks      | elapsed:    0.0s\n",
            "[Parallel(n_jobs=5)]: Done   8 tasks      | elapsed:    0.0s\n",
            "[Parallel(n_jobs=5)]: Batch computation too fast (0.0343s.) Setting batch_size=4.\n",
            "[Parallel(n_jobs=5)]: Done  20 tasks      | elapsed:    0.1s\n",
            "[Parallel(n_jobs=5)]: Batch computation too fast (0.1171s.) Setting batch_size=8.\n",
            "[Parallel(n_jobs=5)]: Done  38 tasks      | elapsed:    0.3s\n",
            "[Parallel(n_jobs=5)]: Done  78 tasks      | elapsed:    0.3s\n",
            "[Parallel(n_jobs=5)]: Batch computation too fast (0.0924s.) Setting batch_size=16.\n",
            "[Parallel(n_jobs=5)]: Done 150 tasks      | elapsed:    0.7s\n",
            "[Parallel(n_jobs=5)]: Batch computation too fast (0.1923s.) Setting batch_size=32.\n",
            "[Parallel(n_jobs=5)]: Done 342 tasks      | elapsed:    1.4s\n",
            "[Parallel(n_jobs=5)]: Done 539 tasks      | elapsed:    1.9s\n",
            "[Parallel(n_jobs=5)]: Done 552 tasks      | elapsed:    2.0s\n",
            "[Parallel(n_jobs=5)]: Done 596 tasks      | elapsed:    2.1s\n",
            "[Parallel(n_jobs=5)]: Done 673 tasks      | elapsed:    2.2s\n",
            "[Parallel(n_jobs=5)]: Done 688 tasks      | elapsed:    2.2s\n",
            "[Parallel(n_jobs=5)]: Done 705 tasks      | elapsed:    2.3s\n",
            "[Parallel(n_jobs=5)]: Done 720 out of 720 | elapsed:    2.4s finished\n",
            "[Parallel(n_jobs=5)]: Using backend LokyBackend with 5 concurrent workers.\n"
          ],
          "name": "stderr"
        },
        {
          "output_type": "stream",
          "text": [
            "it 6/10\n",
            "Fitting 5 folds for each of 48 candidates, totalling 240 fits\n"
          ],
          "name": "stdout"
        },
        {
          "output_type": "stream",
          "text": [
            "[Parallel(n_jobs=5)]: Batch computation too fast (0.0101s.) Setting batch_size=2.\n",
            "[Parallel(n_jobs=5)]: Done   3 tasks      | elapsed:    0.0s\n",
            "[Parallel(n_jobs=5)]: Done   8 tasks      | elapsed:    0.0s\n",
            "[Parallel(n_jobs=5)]: Batch computation too fast (0.0486s.) Setting batch_size=4.\n",
            "[Parallel(n_jobs=5)]: Done  20 tasks      | elapsed:    0.1s\n",
            "[Parallel(n_jobs=5)]: Batch computation too fast (0.1031s.) Setting batch_size=8.\n",
            "[Parallel(n_jobs=5)]: Done  38 tasks      | elapsed:    0.3s\n",
            "[Parallel(n_jobs=5)]: Done  78 tasks      | elapsed:    0.4s\n",
            "[Parallel(n_jobs=5)]: Batch computation too fast (0.0973s.) Setting batch_size=16.\n",
            "[Parallel(n_jobs=5)]: Done 150 tasks      | elapsed:    0.5s\n",
            "[Parallel(n_jobs=5)]: Batch computation too fast (0.1290s.) Setting batch_size=32.\n",
            "[Parallel(n_jobs=5)]: Done 206 out of 240 | elapsed:    0.7s remaining:    0.1s\n",
            "[Parallel(n_jobs=5)]: Done 240 out of 240 | elapsed:    0.7s finished\n",
            "/usr/local/lib/python3.6/dist-packages/sklearn/linear_model/_coordinate_descent.py:476: ConvergenceWarning: Objective did not converge. You might want to increase the number of iterations. Duality gap: 206662.71761734455, tolerance: 17734.423000000003\n",
            "  positive)\n",
            "[Parallel(n_jobs=5)]: Using backend LokyBackend with 5 concurrent workers.\n"
          ],
          "name": "stderr"
        },
        {
          "output_type": "stream",
          "text": [
            "Fitting 5 folds for each of 144 candidates, totalling 720 fits\n"
          ],
          "name": "stdout"
        },
        {
          "output_type": "stream",
          "text": [
            "[Parallel(n_jobs=5)]: Done   1 tasks      | elapsed:    0.0s\n",
            "[Parallel(n_jobs=5)]: Batch computation too fast (0.0147s.) Setting batch_size=2.\n",
            "[Parallel(n_jobs=5)]: Done   3 tasks      | elapsed:    0.0s\n",
            "[Parallel(n_jobs=5)]: Done   6 tasks      | elapsed:    0.0s\n",
            "[Parallel(n_jobs=5)]: Done  12 tasks      | elapsed:    0.2s\n",
            "[Parallel(n_jobs=5)]: Batch computation too fast (0.1241s.) Setting batch_size=4.\n",
            "[Parallel(n_jobs=5)]: Done  26 tasks      | elapsed:    0.2s\n",
            "[Parallel(n_jobs=5)]: Batch computation too fast (0.0685s.) Setting batch_size=8.\n",
            "[Parallel(n_jobs=5)]: Done  50 tasks      | elapsed:    0.4s\n",
            "[Parallel(n_jobs=5)]: Batch computation too fast (0.1037s.) Setting batch_size=16.\n",
            "[Parallel(n_jobs=5)]: Done 102 tasks      | elapsed:    0.5s\n",
            "[Parallel(n_jobs=5)]: Batch computation too fast (0.1645s.) Setting batch_size=32.\n",
            "[Parallel(n_jobs=5)]: Done 198 tasks      | elapsed:    0.8s\n",
            "[Parallel(n_jobs=5)]: Done 438 tasks      | elapsed:    1.7s\n",
            "[Parallel(n_jobs=5)]: Done 573 tasks      | elapsed:    2.0s\n",
            "[Parallel(n_jobs=5)]: Done 586 tasks      | elapsed:    2.1s\n",
            "[Parallel(n_jobs=5)]: Done 599 tasks      | elapsed:    2.2s\n",
            "[Parallel(n_jobs=5)]: Done 676 tasks      | elapsed:    2.3s\n",
            "[Parallel(n_jobs=5)]: Done 691 tasks      | elapsed:    2.3s\n",
            "[Parallel(n_jobs=5)]: Done 708 tasks      | elapsed:    2.4s\n",
            "[Parallel(n_jobs=5)]: Done 720 out of 720 | elapsed:    2.4s finished\n",
            "[Parallel(n_jobs=5)]: Using backend LokyBackend with 5 concurrent workers.\n",
            "[Parallel(n_jobs=5)]: Batch computation too fast (0.0114s.) Setting batch_size=2.\n",
            "[Parallel(n_jobs=5)]: Done   3 tasks      | elapsed:    0.0s\n"
          ],
          "name": "stderr"
        },
        {
          "output_type": "stream",
          "text": [
            "it 7/10\n",
            "Fitting 5 folds for each of 48 candidates, totalling 240 fits\n"
          ],
          "name": "stdout"
        },
        {
          "output_type": "stream",
          "text": [
            "[Parallel(n_jobs=5)]: Done   8 tasks      | elapsed:    0.1s\n",
            "[Parallel(n_jobs=5)]: Batch computation too fast (0.0380s.) Setting batch_size=4.\n",
            "[Parallel(n_jobs=5)]: Done  20 tasks      | elapsed:    0.1s\n",
            "[Parallel(n_jobs=5)]: Batch computation too fast (0.1097s.) Setting batch_size=8.\n",
            "[Parallel(n_jobs=5)]: Done  38 tasks      | elapsed:    0.2s\n",
            "[Parallel(n_jobs=5)]: Done  78 tasks      | elapsed:    0.3s\n",
            "[Parallel(n_jobs=5)]: Batch computation too fast (0.0761s.) Setting batch_size=16.\n",
            "[Parallel(n_jobs=5)]: Done 150 tasks      | elapsed:    0.5s\n",
            "[Parallel(n_jobs=5)]: Batch computation too fast (0.1096s.) Setting batch_size=32.\n",
            "[Parallel(n_jobs=5)]: Done 240 out of 240 | elapsed:    0.7s finished\n",
            "/usr/local/lib/python3.6/dist-packages/sklearn/linear_model/_coordinate_descent.py:476: ConvergenceWarning: Objective did not converge. You might want to increase the number of iterations. Duality gap: 165056.07589882606, tolerance: 16949.45854375\n",
            "  positive)\n",
            "[Parallel(n_jobs=5)]: Using backend LokyBackend with 5 concurrent workers.\n",
            "[Parallel(n_jobs=5)]: Batch computation too fast (0.0149s.) Setting batch_size=2.\n",
            "[Parallel(n_jobs=5)]: Done   3 tasks      | elapsed:    0.0s\n",
            "[Parallel(n_jobs=5)]: Done   8 tasks      | elapsed:    0.0s\n"
          ],
          "name": "stderr"
        },
        {
          "output_type": "stream",
          "text": [
            "Fitting 5 folds for each of 144 candidates, totalling 720 fits\n"
          ],
          "name": "stdout"
        },
        {
          "output_type": "stream",
          "text": [
            "[Parallel(n_jobs=5)]: Batch computation too fast (0.0377s.) Setting batch_size=4.\n",
            "[Parallel(n_jobs=5)]: Done  20 tasks      | elapsed:    0.1s\n",
            "[Parallel(n_jobs=5)]: Batch computation too fast (0.0668s.) Setting batch_size=8.\n",
            "[Parallel(n_jobs=5)]: Done  38 tasks      | elapsed:    0.2s\n",
            "[Parallel(n_jobs=5)]: Done  78 tasks      | elapsed:    0.3s\n",
            "[Parallel(n_jobs=5)]: Batch computation too fast (0.1394s.) Setting batch_size=16.\n",
            "[Parallel(n_jobs=5)]: Done 150 tasks      | elapsed:    0.6s\n",
            "[Parallel(n_jobs=5)]: Done 326 tasks      | elapsed:    1.2s\n",
            "[Parallel(n_jobs=5)]: Done 502 tasks      | elapsed:    1.9s\n",
            "[Parallel(n_jobs=5)]: Done 680 tasks      | elapsed:    2.2s\n",
            "[Parallel(n_jobs=5)]: Done 720 out of 720 | elapsed:    2.2s finished\n",
            "[Parallel(n_jobs=5)]: Using backend LokyBackend with 5 concurrent workers.\n",
            "[Parallel(n_jobs=5)]: Batch computation too fast (0.0147s.) Setting batch_size=2.\n",
            "[Parallel(n_jobs=5)]: Done   3 tasks      | elapsed:    0.0s\n",
            "[Parallel(n_jobs=5)]: Done   8 tasks      | elapsed:    0.0s\n",
            "[Parallel(n_jobs=5)]: Batch computation too fast (0.0429s.) Setting batch_size=4.\n",
            "[Parallel(n_jobs=5)]: Done  20 tasks      | elapsed:    0.1s\n",
            "[Parallel(n_jobs=5)]: Batch computation too fast (0.0501s.) Setting batch_size=8.\n"
          ],
          "name": "stderr"
        },
        {
          "output_type": "stream",
          "text": [
            "it 8/10\n",
            "Fitting 5 folds for each of 48 candidates, totalling 240 fits\n"
          ],
          "name": "stdout"
        },
        {
          "output_type": "stream",
          "text": [
            "[Parallel(n_jobs=5)]: Done  38 tasks      | elapsed:    0.2s\n",
            "[Parallel(n_jobs=5)]: Batch computation too fast (0.1123s.) Setting batch_size=16.\n",
            "[Parallel(n_jobs=5)]: Done  78 tasks      | elapsed:    0.3s\n",
            "[Parallel(n_jobs=5)]: Done 150 tasks      | elapsed:    0.5s\n",
            "[Parallel(n_jobs=5)]: Batch computation too fast (0.1795s.) Setting batch_size=32.\n",
            "[Parallel(n_jobs=5)]: Done 240 out of 240 | elapsed:    0.7s finished\n",
            "/usr/local/lib/python3.6/dist-packages/sklearn/linear_model/_coordinate_descent.py:476: ConvergenceWarning: Objective did not converge. You might want to increase the number of iterations. Duality gap: 172943.66627913574, tolerance: 16368.589100000001\n",
            "  positive)\n",
            "[Parallel(n_jobs=5)]: Using backend LokyBackend with 5 concurrent workers.\n",
            "[Parallel(n_jobs=5)]: Batch computation too fast (0.0165s.) Setting batch_size=2.\n",
            "[Parallel(n_jobs=5)]: Done   3 tasks      | elapsed:    0.0s\n",
            "[Parallel(n_jobs=5)]: Done   8 tasks      | elapsed:    0.0s\n"
          ],
          "name": "stderr"
        },
        {
          "output_type": "stream",
          "text": [
            "Fitting 5 folds for each of 144 candidates, totalling 720 fits\n"
          ],
          "name": "stdout"
        },
        {
          "output_type": "stream",
          "text": [
            "[Parallel(n_jobs=5)]: Batch computation too fast (0.0386s.) Setting batch_size=4.\n",
            "[Parallel(n_jobs=5)]: Done  20 tasks      | elapsed:    0.1s\n",
            "[Parallel(n_jobs=5)]: Batch computation too fast (0.0634s.) Setting batch_size=8.\n",
            "[Parallel(n_jobs=5)]: Done  38 tasks      | elapsed:    0.2s\n",
            "[Parallel(n_jobs=5)]: Done  78 tasks      | elapsed:    0.4s\n",
            "[Parallel(n_jobs=5)]: Batch computation too fast (0.1366s.) Setting batch_size=16.\n",
            "[Parallel(n_jobs=5)]: Done 150 tasks      | elapsed:    0.7s\n",
            "[Parallel(n_jobs=5)]: Batch computation too fast (0.1914s.) Setting batch_size=32.\n",
            "[Parallel(n_jobs=5)]: Done 342 tasks      | elapsed:    1.5s\n",
            "[Parallel(n_jobs=5)]: Done 539 tasks      | elapsed:    2.0s\n",
            "[Parallel(n_jobs=5)]: Done 583 tasks      | elapsed:    2.0s\n",
            "[Parallel(n_jobs=5)]: Done 627 tasks      | elapsed:    2.1s\n",
            "[Parallel(n_jobs=5)]: Done 673 tasks      | elapsed:    2.1s\n",
            "[Parallel(n_jobs=5)]: Done 688 tasks      | elapsed:    2.2s\n",
            "[Parallel(n_jobs=5)]: Done 705 tasks      | elapsed:    2.3s\n",
            "[Parallel(n_jobs=5)]: Done 720 out of 720 | elapsed:    2.3s finished\n",
            "[Parallel(n_jobs=5)]: Using backend LokyBackend with 5 concurrent workers.\n",
            "[Parallel(n_jobs=5)]: Batch computation too fast (0.0078s.) Setting batch_size=2.\n",
            "[Parallel(n_jobs=5)]: Batch computation too fast (0.0078s.) Setting batch_size=4.\n",
            "[Parallel(n_jobs=5)]: Done   4 tasks      | elapsed:    0.0s\n"
          ],
          "name": "stderr"
        },
        {
          "output_type": "stream",
          "text": [
            "it 9/10\n",
            "Fitting 5 folds for each of 48 candidates, totalling 240 fits\n"
          ],
          "name": "stdout"
        },
        {
          "output_type": "stream",
          "text": [
            "[Parallel(n_jobs=5)]: Done  14 tasks      | elapsed:    0.1s\n",
            "[Parallel(n_jobs=5)]: Batch computation too fast (0.0588s.) Setting batch_size=8.\n",
            "[Parallel(n_jobs=5)]: Done  42 tasks      | elapsed:    0.2s\n",
            "[Parallel(n_jobs=5)]: Done  86 tasks      | elapsed:    0.4s\n",
            "[Parallel(n_jobs=5)]: Done 158 tasks      | elapsed:    0.6s\n",
            "[Parallel(n_jobs=5)]: Done 240 out of 240 | elapsed:    0.8s finished\n",
            "/usr/local/lib/python3.6/dist-packages/sklearn/linear_model/_coordinate_descent.py:476: ConvergenceWarning: Objective did not converge. You might want to increase the number of iterations. Duality gap: 240722.9643873499, tolerance: 20773.6393359375\n",
            "  positive)\n",
            "[Parallel(n_jobs=5)]: Using backend LokyBackend with 5 concurrent workers.\n",
            "[Parallel(n_jobs=5)]: Batch computation too fast (0.0117s.) Setting batch_size=2.\n",
            "[Parallel(n_jobs=5)]: Batch computation too fast (0.0117s.) Setting batch_size=4.\n",
            "[Parallel(n_jobs=5)]: Done   4 tasks      | elapsed:    0.0s\n"
          ],
          "name": "stderr"
        },
        {
          "output_type": "stream",
          "text": [
            "Fitting 5 folds for each of 144 candidates, totalling 720 fits\n"
          ],
          "name": "stdout"
        },
        {
          "output_type": "stream",
          "text": [
            "[Parallel(n_jobs=5)]: Done   9 tasks      | elapsed:    0.1s\n",
            "[Parallel(n_jobs=5)]: Batch computation too fast (0.0693s.) Setting batch_size=8.\n",
            "[Parallel(n_jobs=5)]: Done  34 tasks      | elapsed:    0.2s\n",
            "[Parallel(n_jobs=5)]: Batch computation too fast (0.1060s.) Setting batch_size=16.\n",
            "[Parallel(n_jobs=5)]: Done  74 tasks      | elapsed:    0.4s\n",
            "[Parallel(n_jobs=5)]: Done 162 tasks      | elapsed:    0.7s\n",
            "[Parallel(n_jobs=5)]: Done 306 tasks      | elapsed:    1.1s\n",
            "[Parallel(n_jobs=5)]: Done 482 tasks      | elapsed:    1.7s\n",
            "[Parallel(n_jobs=5)]: Done 643 tasks      | elapsed:    2.1s\n",
            "[Parallel(n_jobs=5)]: Done 656 tasks      | elapsed:    2.2s\n",
            "[Parallel(n_jobs=5)]: Done 720 out of 720 | elapsed:    2.3s finished\n",
            "[Parallel(n_jobs=5)]: Using backend LokyBackend with 5 concurrent workers.\n"
          ],
          "name": "stderr"
        },
        {
          "output_type": "stream",
          "text": [
            "it 10/10\n",
            "Fitting 5 folds for each of 48 candidates, totalling 240 fits\n"
          ],
          "name": "stdout"
        },
        {
          "output_type": "stream",
          "text": [
            "[Parallel(n_jobs=5)]: Batch computation too fast (0.0114s.) Setting batch_size=2.\n",
            "[Parallel(n_jobs=5)]: Done   3 tasks      | elapsed:    0.0s\n",
            "[Parallel(n_jobs=5)]: Done   8 tasks      | elapsed:    0.0s\n",
            "[Parallel(n_jobs=5)]: Batch computation too fast (0.0410s.) Setting batch_size=4.\n",
            "[Parallel(n_jobs=5)]: Done  20 tasks      | elapsed:    0.1s\n",
            "[Parallel(n_jobs=5)]: Batch computation too fast (0.0739s.) Setting batch_size=8.\n",
            "[Parallel(n_jobs=5)]: Done  38 tasks      | elapsed:    0.2s\n",
            "[Parallel(n_jobs=5)]: Done  78 tasks      | elapsed:    0.3s\n",
            "[Parallel(n_jobs=5)]: Batch computation too fast (0.1348s.) Setting batch_size=16.\n",
            "[Parallel(n_jobs=5)]: Done 150 tasks      | elapsed:    0.5s\n",
            "[Parallel(n_jobs=5)]: Batch computation too fast (0.1208s.) Setting batch_size=32.\n",
            "[Parallel(n_jobs=5)]: Done 240 out of 240 | elapsed:    0.7s finished\n",
            "/usr/local/lib/python3.6/dist-packages/sklearn/linear_model/_coordinate_descent.py:476: ConvergenceWarning: Objective did not converge. You might want to increase the number of iterations. Duality gap: 169726.71141323453, tolerance: 17680.6173\n",
            "  positive)\n",
            "[Parallel(n_jobs=5)]: Using backend LokyBackend with 5 concurrent workers.\n",
            "[Parallel(n_jobs=5)]: Batch computation too fast (0.0099s.) Setting batch_size=2.\n",
            "[Parallel(n_jobs=5)]: Done   2 tasks      | elapsed:    0.0s\n",
            "[Parallel(n_jobs=5)]: Done   7 tasks      | elapsed:    0.0s\n",
            "[Parallel(n_jobs=5)]: Batch computation too fast (0.0460s.) Setting batch_size=4.\n"
          ],
          "name": "stderr"
        },
        {
          "output_type": "stream",
          "text": [
            "Fitting 5 folds for each of 144 candidates, totalling 720 fits\n"
          ],
          "name": "stdout"
        },
        {
          "output_type": "stream",
          "text": [
            "[Parallel(n_jobs=5)]: Done  14 tasks      | elapsed:    0.1s\n",
            "[Parallel(n_jobs=5)]: Done  28 tasks      | elapsed:    0.2s\n",
            "[Parallel(n_jobs=5)]: Batch computation too fast (0.0600s.) Setting batch_size=8.\n",
            "[Parallel(n_jobs=5)]: Done  54 tasks      | elapsed:    0.3s\n",
            "[Parallel(n_jobs=5)]: Batch computation too fast (0.0843s.) Setting batch_size=16.\n",
            "[Parallel(n_jobs=5)]: Done 110 tasks      | elapsed:    0.5s\n",
            "[Parallel(n_jobs=5)]: Batch computation too fast (0.1680s.) Setting batch_size=32.\n",
            "[Parallel(n_jobs=5)]: Done 214 tasks      | elapsed:    0.8s\n",
            "[Parallel(n_jobs=5)]: Done 470 tasks      | elapsed:    1.6s\n",
            "[Parallel(n_jobs=5)]: Done 543 tasks      | elapsed:    2.0s\n",
            "[Parallel(n_jobs=5)]: Done 618 tasks      | elapsed:    2.0s\n",
            "[Parallel(n_jobs=5)]: Done 662 tasks      | elapsed:    2.1s\n",
            "[Parallel(n_jobs=5)]: Done 677 tasks      | elapsed:    2.1s\n",
            "[Parallel(n_jobs=5)]: Done 692 tasks      | elapsed:    2.2s\n",
            "[Parallel(n_jobs=5)]: Done 709 tasks      | elapsed:    2.3s\n",
            "[Parallel(n_jobs=5)]: Done 720 out of 720 | elapsed:    2.3s finished\n"
          ],
          "name": "stderr"
        }
      ]
    },
    {
      "cell_type": "code",
      "metadata": {
        "id": "71BvnfGDaJGv",
        "colab_type": "code",
        "colab": {
          "base_uri": "https://localhost:8080/",
          "height": 265
        },
        "outputId": "dfbdcaec-9490-4992-8540-8d9bf3b64a11"
      },
      "source": [
        "plt.boxplot(MAE_EN)\n",
        "plt.xticks(ticks=np.arange(len(steps))+1,labels=label_model_EN)\n",
        "plt.show()"
      ],
      "execution_count": 121,
      "outputs": [
        {
          "output_type": "display_data",
          "data": {
            "image/png": "[encoded data removed]",
            "text/plain": [
              "<Figure size 432x288 with 1 Axes>"
            ]
          },
          "metadata": {
            "tags": [],
            "needs_background": "light"
          }
        }
      ]
    },
    {
      "cell_type": "code",
      "metadata": {
        "id": "FqKuGqQQaJRc",
        "colab_type": "code",
        "colab": {
          "base_uri": "https://localhost:8080/",
          "height": 187
        },
        "outputId": "77e97ec3-43e4-4354-abf7-0c6a2e445bed"
      },
      "source": [
        "MAE_EN"
      ],
      "execution_count": 122,
      "outputs": [
        {
          "output_type": "execute_result",
          "data": {
            "text/plain": [
              "array([[ 8557.73316401, 21720.50660049],\n",
              "       [ 6377.54284831, 13193.32161153],\n",
              "       [10558.94378721, 15548.33492039],\n",
              "       [ 3760.80488681, 15561.36948795],\n",
              "       [ 3193.80574486, 20227.61476167],\n",
              "       [ 1084.94191432,  8492.20839771],\n",
              "       [ 4545.27509717, 15397.71750183],\n",
              "       [ 4917.92729561, 16519.91598601],\n",
              "       [ 1390.4924463 ,  9617.17150587],\n",
              "       [ 3627.18281028, 10766.69147666]])"
            ]
          },
          "metadata": {
            "tags": []
          },
          "execution_count": 122
        }
      ]
    },
    {
      "cell_type": "code",
      "metadata": {
        "id": "98LpiNQ-csDb",
        "colab_type": "code",
        "colab": {
          "base_uri": "https://localhost:8080/",
          "height": 357
        },
        "outputId": "83fbec25-ba38-4fac-b81c-dc8a9818902f"
      },
      "source": [
        "B_Hiperpara_EN"
      ],
      "execution_count": 127,
      "outputs": [
        {
          "output_type": "execute_result",
          "data": {
            "text/plain": [
              "[{'reg__alpha': 0.001, 'reg__l1_ratio': 0.5},\n",
              " {'reg__alpha': 0.001, 'reg__l1_ratio': 10, 'rep__n_components': 0.5},\n",
              " {'reg__alpha': 0.1, 'reg__l1_ratio': 1},\n",
              " {'reg__alpha': 0.001, 'reg__l1_ratio': 100, 'rep__n_components': 0.5},\n",
              " {'reg__alpha': 0.001, 'reg__l1_ratio': 1},\n",
              " {'reg__alpha': 0.001, 'reg__l1_ratio': 10, 'rep__n_components': 0.5},\n",
              " {'reg__alpha': 0.001, 'reg__l1_ratio': 1},\n",
              " {'reg__alpha': 0.001, 'reg__l1_ratio': 100, 'rep__n_components': 0.5},\n",
              " {'reg__alpha': 0.1, 'reg__l1_ratio': 1},\n",
              " {'reg__alpha': 0.001, 'reg__l1_ratio': 100, 'rep__n_components': 0.5},\n",
              " {'reg__alpha': 0.1, 'reg__l1_ratio': 1},\n",
              " {'reg__alpha': 0.001, 'reg__l1_ratio': 10, 'rep__n_components': 0.5},\n",
              " {'reg__alpha': 0.1, 'reg__l1_ratio': 1},\n",
              " {'reg__alpha': 0.001, 'reg__l1_ratio': 100, 'rep__n_components': 0.5},\n",
              " {'reg__alpha': 0.001, 'reg__l1_ratio': 1},\n",
              " {'reg__alpha': 0.01, 'reg__l1_ratio': 7.5, 'rep__n_components': 0.5},\n",
              " {'reg__alpha': 0.001, 'reg__l1_ratio': 1},\n",
              " {'reg__alpha': 0.001, 'reg__l1_ratio': 0.1, 'rep__n_components': 0.5},\n",
              " {'reg__alpha': 0.1, 'reg__l1_ratio': 1},\n",
              " {'reg__alpha': 0.001, 'reg__l1_ratio': 10, 'rep__n_components': 0.5}]"
            ]
          },
          "metadata": {
            "tags": []
          },
          "execution_count": 127
        }
      ]
    },
    {
      "cell_type": "code",
      "metadata": {
        "id": "9FQH_kDecvM9",
        "colab_type": "code",
        "colab": {
          "base_uri": "https://localhost:8080/",
          "height": 241
        },
        "outputId": "72119851-ad86-42f5-ae0a-3a38191b878c"
      },
      "source": [
        "steps =  [('scaler', StandardScaler()),\n",
        "          #('rep', PCA(n_components=0.5)),                         \n",
        "          ('reg', ElasticNet(alpha=0.001, l1_ratio=1))]\n",
        "\n",
        "Mod_SC_EN = Pipeline(steps = steps)\n",
        "Mod_SC_EN.fit(X_train,y_train)"
      ],
      "execution_count": 129,
      "outputs": [
        {
          "output_type": "stream",
          "text": [
            "/usr/local/lib/python3.6/dist-packages/sklearn/linear_model/_coordinate_descent.py:476: ConvergenceWarning: Objective did not converge. You might want to increase the number of iterations. Duality gap: 160547.1853798428, tolerance: 17594.5919484375\n",
            "  positive)\n"
          ],
          "name": "stderr"
        },
        {
          "output_type": "execute_result",
          "data": {
            "text/plain": [
              "Pipeline(memory=None,\n",
              "         steps=[('scaler',\n",
              "                 StandardScaler(copy=True, with_mean=True, with_std=True)),\n",
              "                ('reg',\n",
              "                 ElasticNet(alpha=0.001, copy_X=True, fit_intercept=True,\n",
              "                            l1_ratio=1, max_iter=1000, normalize=False,\n",
              "                            positive=False, precompute=False, random_state=None,\n",
              "                            selection='cyclic', tol=0.0001,\n",
              "                            warm_start=False))],\n",
              "         verbose=False)"
            ]
          },
          "metadata": {
            "tags": []
          },
          "execution_count": 129
        }
      ]
    },
    {
      "cell_type": "code",
      "metadata": {
        "id": "8Iu1xLhkcsTM",
        "colab_type": "code",
        "colab": {
          "base_uri": "https://localhost:8080/",
          "height": 51
        },
        "outputId": "3e478aca-8b22-4449-cf7c-d8226f82d056"
      },
      "source": [
        "Xn = X[-1]\n",
        "#Xn = [4881, 5142, 5379, 5948, 6207]\n",
        "#Xn=np.matrix([Xn])\n",
        "\n",
        "Xn = Xn.reshape(1,-1)\n",
        "Pre_SC_EN = Mod_SC_EN.predict(Xn)\n",
        "\n",
        "print('Número de contagiados en los últimos 5 días:',Xn)\n",
        "print('Predicción contagios para',date.today(),'usando un modelo LinearElasticNet:',Pre_SC_EN)"
      ],
      "execution_count": 130,
      "outputs": [
        {
          "output_type": "stream",
          "text": [
            "Número de contagiados en los últimos 5 días: [[4356 4561 4881 5142 5379]]\n",
            "Predicción contagios para 2020-04-30 usando un modelo LinearElasticNet: [5977.70391599]\n"
          ],
          "name": "stdout"
        }
      ]
    },
    {
      "cell_type": "markdown",
      "metadata": {
        "id": "nyun9RHoWFZw",
        "colab_type": "text"
      },
      "source": [
        "### Validacion Cruzada Anidada KR:\n",
        "\n",
        "- Normalización StandadScalar\n",
        "- Representación PCA\n",
        "- Regresor KernelRidge"
      ]
    },
    {
      "cell_type": "code",
      "metadata": {
        "id": "G58Fq58jT-FT",
        "colab_type": "code",
        "outputId": "41e0d32a-9b23-4fad-e651-e036bf0a7076",
        "colab": {
          "base_uri": "https://localhost:8080/",
          "height": 1000
        }
      },
      "source": [
        "steps = [\n",
        "         [('scaler', StandardScaler()),           #estandarizar cada atributo columna de xtrain centrada en 0 y var = 1\n",
        "          ('reg',  KernelRidge(kernel = 'rbf'))],\n",
        "         [('scaler', StandardScaler()),\n",
        "          ('rep', PCA()),                         \n",
        "          ('reg',  KernelRidge(kernel = 'rbf'))]\n",
        "          ]\n",
        "\n",
        "parameters = [\n",
        "                {'reg__gamma':[1e-3,1e-2,1e-1,1,10,100],\n",
        "                 'reg__alpha':[1e-3,1e-2,1e-1,1,10,100]\n",
        "                 },\n",
        "                {'reg__gamma':[1e-3,1e-2,1e-1,1,10,100],\n",
        "                 'reg__alpha':[1e-3,1e-2,1e-1,1,10,100],\n",
        "                 'rep__n_components':[0.5,0.75,0.9]\n",
        "                 }\n",
        "               ]\n",
        "\n",
        "label_model_KR = ['NorSC-KRRBF','NorSC-PCA-KRRBF']\n",
        "\n",
        "B_Model_KR, B_Hiperpara_KR, MAE_KR = V_Cruzada_Anidada(X,y,steps,parameters)"
      ],
      "execution_count": 131,
      "outputs": [
        {
          "output_type": "stream",
          "text": [
            "it 1/10\n",
            "Fitting 5 folds for each of 36 candidates, totalling 180 fits\n"
          ],
          "name": "stdout"
        },
        {
          "output_type": "stream",
          "text": [
            "[Parallel(n_jobs=5)]: Using backend LokyBackend with 5 concurrent workers.\n",
            "[Parallel(n_jobs=5)]: Batch computation too fast (0.0222s.) Setting batch_size=2.\n",
            "[Parallel(n_jobs=5)]: Done   3 tasks      | elapsed:    0.1s\n",
            "[Parallel(n_jobs=5)]: Done   8 tasks      | elapsed:    0.1s\n",
            "[Parallel(n_jobs=5)]: Batch computation too fast (0.0424s.) Setting batch_size=4.\n",
            "[Parallel(n_jobs=5)]: Done  20 tasks      | elapsed:    0.1s\n",
            "[Parallel(n_jobs=5)]: Batch computation too fast (0.0704s.) Setting batch_size=8.\n",
            "[Parallel(n_jobs=5)]: Done  38 tasks      | elapsed:    0.2s\n",
            "[Parallel(n_jobs=5)]: Done  78 tasks      | elapsed:    0.3s\n",
            "[Parallel(n_jobs=5)]: Batch computation too fast (0.1018s.) Setting batch_size=16.\n",
            "[Parallel(n_jobs=5)]: Done 136 tasks      | elapsed:    0.5s\n",
            "[Parallel(n_jobs=5)]: Done 154 tasks      | elapsed:    0.6s\n",
            "[Parallel(n_jobs=5)]: Done 180 out of 180 | elapsed:    0.6s finished\n",
            "[Parallel(n_jobs=5)]: Using backend LokyBackend with 5 concurrent workers.\n",
            "[Parallel(n_jobs=5)]: Done   1 tasks      | elapsed:    0.0s\n",
            "[Parallel(n_jobs=5)]: Batch computation too fast (0.0113s.) Setting batch_size=2.\n",
            "[Parallel(n_jobs=5)]: Done   3 tasks      | elapsed:    0.0s\n",
            "[Parallel(n_jobs=5)]: Done   8 tasks      | elapsed:    0.1s\n",
            "[Parallel(n_jobs=5)]: Batch computation too fast (0.0471s.) Setting batch_size=4.\n"
          ],
          "name": "stderr"
        },
        {
          "output_type": "stream",
          "text": [
            "Fitting 5 folds for each of 108 candidates, totalling 540 fits\n"
          ],
          "name": "stdout"
        },
        {
          "output_type": "stream",
          "text": [
            "[Parallel(n_jobs=5)]: Done  20 tasks      | elapsed:    0.1s\n",
            "[Parallel(n_jobs=5)]: Batch computation too fast (0.1019s.) Setting batch_size=8.\n",
            "[Parallel(n_jobs=5)]: Done  38 tasks      | elapsed:    0.3s\n",
            "[Parallel(n_jobs=5)]: Done  78 tasks      | elapsed:    0.4s\n",
            "[Parallel(n_jobs=5)]: Batch computation too fast (0.1192s.) Setting batch_size=16.\n",
            "[Parallel(n_jobs=5)]: Done 150 tasks      | elapsed:    0.7s\n",
            "[Parallel(n_jobs=5)]: Done 326 tasks      | elapsed:    1.4s\n",
            "[Parallel(n_jobs=5)]: Done 457 tasks      | elapsed:    1.6s\n",
            "[Parallel(n_jobs=5)]: Done 470 tasks      | elapsed:    1.7s\n",
            "[Parallel(n_jobs=5)]: Done 498 tasks      | elapsed:    1.8s\n",
            "[Parallel(n_jobs=5)]: Done 513 tasks      | elapsed:    1.8s\n",
            "[Parallel(n_jobs=5)]: Done 528 tasks      | elapsed:    1.9s\n",
            "[Parallel(n_jobs=5)]: Done 540 out of 540 | elapsed:    1.9s finished\n",
            "[Parallel(n_jobs=5)]: Using backend LokyBackend with 5 concurrent workers.\n",
            "[Parallel(n_jobs=5)]: Batch computation too fast (0.0092s.) Setting batch_size=2.\n",
            "[Parallel(n_jobs=5)]: Done   3 tasks      | elapsed:    0.0s\n",
            "[Parallel(n_jobs=5)]: Done   8 tasks      | elapsed:    0.1s\n",
            "[Parallel(n_jobs=5)]: Batch computation too fast (0.0588s.) Setting batch_size=4.\n",
            "[Parallel(n_jobs=5)]: Done  20 tasks      | elapsed:    0.1s\n"
          ],
          "name": "stderr"
        },
        {
          "output_type": "stream",
          "text": [
            "it 2/10\n",
            "Fitting 5 folds for each of 36 candidates, totalling 180 fits\n"
          ],
          "name": "stdout"
        },
        {
          "output_type": "stream",
          "text": [
            "[Parallel(n_jobs=5)]: Batch computation too fast (0.0865s.) Setting batch_size=8.\n",
            "[Parallel(n_jobs=5)]: Done  38 tasks      | elapsed:    0.2s\n",
            "[Parallel(n_jobs=5)]: Done  78 tasks      | elapsed:    0.3s\n",
            "[Parallel(n_jobs=5)]: Batch computation too fast (0.0897s.) Setting batch_size=16.\n",
            "[Parallel(n_jobs=5)]: Done 122 tasks      | elapsed:    0.5s\n",
            "[Parallel(n_jobs=5)]: Done 161 tasks      | elapsed:    0.5s\n",
            "[Parallel(n_jobs=5)]: Done 180 out of 180 | elapsed:    0.6s finished\n",
            "[Parallel(n_jobs=5)]: Using backend LokyBackend with 5 concurrent workers.\n",
            "[Parallel(n_jobs=5)]: Batch computation too fast (0.0133s.) Setting batch_size=2.\n",
            "[Parallel(n_jobs=5)]: Batch computation too fast (0.0133s.) Setting batch_size=4.\n"
          ],
          "name": "stderr"
        },
        {
          "output_type": "stream",
          "text": [
            "Fitting 5 folds for each of 108 candidates, totalling 540 fits\n"
          ],
          "name": "stdout"
        },
        {
          "output_type": "stream",
          "text": [
            "[Parallel(n_jobs=5)]: Done   5 tasks      | elapsed:    0.1s\n",
            "[Parallel(n_jobs=5)]: Done  10 tasks      | elapsed:    0.1s\n",
            "[Parallel(n_jobs=5)]: Batch computation too fast (0.0507s.) Setting batch_size=8.\n",
            "[Parallel(n_jobs=5)]: Done  38 tasks      | elapsed:    0.2s\n",
            "[Parallel(n_jobs=5)]: Batch computation too fast (0.1219s.) Setting batch_size=16.\n",
            "[Parallel(n_jobs=5)]: Done  82 tasks      | elapsed:    0.5s\n",
            "[Parallel(n_jobs=5)]: Done 178 tasks      | elapsed:    0.8s\n",
            "[Parallel(n_jobs=5)]: Done 322 tasks      | elapsed:    1.3s\n",
            "[Parallel(n_jobs=5)]: Done 483 tasks      | elapsed:    1.8s\n",
            "[Parallel(n_jobs=5)]: Done 540 out of 540 | elapsed:    1.8s finished\n",
            "[Parallel(n_jobs=5)]: Using backend LokyBackend with 5 concurrent workers.\n",
            "[Parallel(n_jobs=5)]: Batch computation too fast (0.0059s.) Setting batch_size=2.\n",
            "[Parallel(n_jobs=5)]: Batch computation too fast (0.0059s.) Setting batch_size=4.\n",
            "[Parallel(n_jobs=5)]: Done   9 tasks      | elapsed:    0.1s\n",
            "[Parallel(n_jobs=5)]: Batch computation too fast (0.0624s.) Setting batch_size=8.\n"
          ],
          "name": "stderr"
        },
        {
          "output_type": "stream",
          "text": [
            "it 3/10\n",
            "Fitting 5 folds for each of 36 candidates, totalling 180 fits\n"
          ],
          "name": "stdout"
        },
        {
          "output_type": "stream",
          "text": [
            "[Parallel(n_jobs=5)]: Done  28 tasks      | elapsed:    0.1s\n",
            "[Parallel(n_jobs=5)]: Done  50 tasks      | elapsed:    0.3s\n",
            "[Parallel(n_jobs=5)]: Batch computation too fast (0.1505s.) Setting batch_size=16.\n",
            "[Parallel(n_jobs=5)]: Done 122 tasks      | elapsed:    0.4s\n",
            "[Parallel(n_jobs=5)]: Done 171 out of 180 | elapsed:    0.5s remaining:    0.0s\n",
            "[Parallel(n_jobs=5)]: Done 180 out of 180 | elapsed:    0.5s finished\n",
            "[Parallel(n_jobs=5)]: Using backend LokyBackend with 5 concurrent workers.\n",
            "[Parallel(n_jobs=5)]: Batch computation too fast (0.0072s.) Setting batch_size=2.\n",
            "[Parallel(n_jobs=5)]: Batch computation too fast (0.0072s.) Setting batch_size=4.\n",
            "[Parallel(n_jobs=5)]: Done   4 tasks      | elapsed:    0.0s\n"
          ],
          "name": "stderr"
        },
        {
          "output_type": "stream",
          "text": [
            "Fitting 5 folds for each of 108 candidates, totalling 540 fits\n"
          ],
          "name": "stdout"
        },
        {
          "output_type": "stream",
          "text": [
            "[Parallel(n_jobs=5)]: Done   9 tasks      | elapsed:    0.1s\n",
            "[Parallel(n_jobs=5)]: Batch computation too fast (0.0748s.) Setting batch_size=8.\n",
            "[Parallel(n_jobs=5)]: Done  34 tasks      | elapsed:    0.2s\n",
            "[Parallel(n_jobs=5)]: Batch computation too fast (0.1298s.) Setting batch_size=16.\n",
            "[Parallel(n_jobs=5)]: Done  74 tasks      | elapsed:    0.5s\n",
            "[Parallel(n_jobs=5)]: Done 162 tasks      | elapsed:    0.7s\n",
            "[Parallel(n_jobs=5)]: Done 306 tasks      | elapsed:    1.2s\n",
            "[Parallel(n_jobs=5)]: Done 467 tasks      | elapsed:    1.8s\n",
            "[Parallel(n_jobs=5)]: Done 540 out of 540 | elapsed:    1.9s finished\n",
            "[Parallel(n_jobs=5)]: Using backend LokyBackend with 5 concurrent workers.\n",
            "[Parallel(n_jobs=5)]: Done   1 tasks      | elapsed:    0.0s\n",
            "[Parallel(n_jobs=5)]: Batch computation too fast (0.0139s.) Setting batch_size=2.\n",
            "[Parallel(n_jobs=5)]: Done   3 tasks      | elapsed:    0.0s\n",
            "[Parallel(n_jobs=5)]: Done   8 tasks      | elapsed:    0.1s\n"
          ],
          "name": "stderr"
        },
        {
          "output_type": "stream",
          "text": [
            "it 4/10\n",
            "Fitting 5 folds for each of 36 candidates, totalling 180 fits\n"
          ],
          "name": "stdout"
        },
        {
          "output_type": "stream",
          "text": [
            "[Parallel(n_jobs=5)]: Batch computation too fast (0.0254s.) Setting batch_size=4.\n",
            "[Parallel(n_jobs=5)]: Done  16 tasks      | elapsed:    0.1s\n",
            "[Parallel(n_jobs=5)]: Batch computation too fast (0.0406s.) Setting batch_size=8.\n",
            "[Parallel(n_jobs=5)]: Done  40 tasks      | elapsed:    0.2s\n",
            "[Parallel(n_jobs=5)]: Batch computation too fast (0.0507s.) Setting batch_size=16.\n",
            "[Parallel(n_jobs=5)]: Batch computation too fast (0.0652s.) Setting batch_size=32.\n",
            "[Parallel(n_jobs=5)]: Done 112 tasks      | elapsed:    0.4s\n",
            "[Parallel(n_jobs=5)]: Done 136 tasks      | elapsed:    0.5s\n",
            "[Parallel(n_jobs=5)]: Done 145 tasks      | elapsed:    0.6s\n",
            "[Parallel(n_jobs=5)]: Done 180 out of 180 | elapsed:    0.6s finished\n",
            "[Parallel(n_jobs=5)]: Using backend LokyBackend with 5 concurrent workers.\n",
            "[Parallel(n_jobs=5)]: Batch computation too fast (0.0164s.) Setting batch_size=2.\n",
            "[Parallel(n_jobs=5)]: Batch computation too fast (0.0164s.) Setting batch_size=4.\n",
            "[Parallel(n_jobs=5)]: Done   5 tasks      | elapsed:    0.1s\n",
            "[Parallel(n_jobs=5)]: Batch computation too fast (0.1056s.) Setting batch_size=8.\n",
            "[Parallel(n_jobs=5)]: Done  18 tasks      | elapsed:    0.2s\n"
          ],
          "name": "stderr"
        },
        {
          "output_type": "stream",
          "text": [
            "Fitting 5 folds for each of 108 candidates, totalling 540 fits\n"
          ],
          "name": "stdout"
        },
        {
          "output_type": "stream",
          "text": [
            "[Parallel(n_jobs=5)]: Done  46 tasks      | elapsed:    0.3s\n",
            "[Parallel(n_jobs=5)]: Done  94 tasks      | elapsed:    0.5s\n",
            "[Parallel(n_jobs=5)]: Done 166 tasks      | elapsed:    0.7s\n",
            "[Parallel(n_jobs=5)]: Done 254 tasks      | elapsed:    1.0s\n",
            "[Parallel(n_jobs=5)]: Done 342 tasks      | elapsed:    1.4s\n",
            "[Parallel(n_jobs=5)]: Done 446 tasks      | elapsed:    1.7s\n",
            "[Parallel(n_jobs=5)]: Done 508 tasks      | elapsed:    1.9s\n",
            "[Parallel(n_jobs=5)]: Done 531 out of 540 | elapsed:    2.0s remaining:    0.0s\n",
            "[Parallel(n_jobs=5)]: Done 540 out of 540 | elapsed:    2.0s finished\n",
            "[Parallel(n_jobs=5)]: Using backend LokyBackend with 5 concurrent workers.\n",
            "[Parallel(n_jobs=5)]: Batch computation too fast (0.0128s.) Setting batch_size=2.\n",
            "[Parallel(n_jobs=5)]: Done   3 tasks      | elapsed:    0.0s\n",
            "[Parallel(n_jobs=5)]: Done   8 tasks      | elapsed:    0.1s\n",
            "[Parallel(n_jobs=5)]: Batch computation too fast (0.0527s.) Setting batch_size=4.\n",
            "[Parallel(n_jobs=5)]: Done  20 tasks      | elapsed:    0.1s\n"
          ],
          "name": "stderr"
        },
        {
          "output_type": "stream",
          "text": [
            "it 5/10\n",
            "Fitting 5 folds for each of 36 candidates, totalling 180 fits\n"
          ],
          "name": "stdout"
        },
        {
          "output_type": "stream",
          "text": [
            "[Parallel(n_jobs=5)]: Batch computation too fast (0.0719s.) Setting batch_size=8.\n",
            "[Parallel(n_jobs=5)]: Done  38 tasks      | elapsed:    0.2s\n",
            "[Parallel(n_jobs=5)]: Done  78 tasks      | elapsed:    0.3s\n",
            "[Parallel(n_jobs=5)]: Batch computation too fast (0.0812s.) Setting batch_size=16.\n",
            "[Parallel(n_jobs=5)]: Done 136 tasks      | elapsed:    0.5s\n",
            "[Parallel(n_jobs=5)]: Done 161 tasks      | elapsed:    0.6s\n",
            "[Parallel(n_jobs=5)]: Done 180 out of 180 | elapsed:    0.6s finished\n",
            "[Parallel(n_jobs=5)]: Using backend LokyBackend with 5 concurrent workers.\n",
            "[Parallel(n_jobs=5)]: Batch computation too fast (0.0153s.) Setting batch_size=2.\n",
            "[Parallel(n_jobs=5)]: Batch computation too fast (0.0153s.) Setting batch_size=4.\n",
            "[Parallel(n_jobs=5)]: Done   5 tasks      | elapsed:    0.1s\n"
          ],
          "name": "stderr"
        },
        {
          "output_type": "stream",
          "text": [
            "Fitting 5 folds for each of 108 candidates, totalling 540 fits\n"
          ],
          "name": "stdout"
        },
        {
          "output_type": "stream",
          "text": [
            "[Parallel(n_jobs=5)]: Done  10 tasks      | elapsed:    0.1s\n",
            "[Parallel(n_jobs=5)]: Batch computation too fast (0.0863s.) Setting batch_size=8.\n",
            "[Parallel(n_jobs=5)]: Done  38 tasks      | elapsed:    0.3s\n",
            "[Parallel(n_jobs=5)]: Batch computation too fast (0.0761s.) Setting batch_size=16.\n",
            "[Parallel(n_jobs=5)]: Done  82 tasks      | elapsed:    0.5s\n",
            "[Parallel(n_jobs=5)]: Done 178 tasks      | elapsed:    0.8s\n",
            "[Parallel(n_jobs=5)]: Done 322 tasks      | elapsed:    1.3s\n",
            "[Parallel(n_jobs=5)]: Done 483 tasks      | elapsed:    1.8s\n",
            "[Parallel(n_jobs=5)]: Done 540 out of 540 | elapsed:    1.9s finished\n",
            "[Parallel(n_jobs=5)]: Using backend LokyBackend with 5 concurrent workers.\n",
            "[Parallel(n_jobs=5)]: Batch computation too fast (0.0081s.) Setting batch_size=2.\n",
            "[Parallel(n_jobs=5)]: Batch computation too fast (0.0081s.) Setting batch_size=4.\n",
            "[Parallel(n_jobs=5)]: Done   4 tasks      | elapsed:    0.0s\n",
            "[Parallel(n_jobs=5)]: Done   9 tasks      | elapsed:    0.1s\n"
          ],
          "name": "stderr"
        },
        {
          "output_type": "stream",
          "text": [
            "it 6/10\n",
            "Fitting 5 folds for each of 36 candidates, totalling 180 fits\n"
          ],
          "name": "stdout"
        },
        {
          "output_type": "stream",
          "text": [
            "[Parallel(n_jobs=5)]: Batch computation too fast (0.0773s.) Setting batch_size=8.\n",
            "[Parallel(n_jobs=5)]: Done  34 tasks      | elapsed:    0.2s\n",
            "[Parallel(n_jobs=5)]: Batch computation too fast (0.0763s.) Setting batch_size=16.\n",
            "[Parallel(n_jobs=5)]: Done  74 tasks      | elapsed:    0.3s\n",
            "[Parallel(n_jobs=5)]: Done 125 tasks      | elapsed:    0.4s\n",
            "[Parallel(n_jobs=5)]: Done 134 tasks      | elapsed:    0.5s\n",
            "[Parallel(n_jobs=5)]: Done 152 tasks      | elapsed:    0.5s\n",
            "[Parallel(n_jobs=5)]: Done 163 tasks      | elapsed:    0.6s\n",
            "[Parallel(n_jobs=5)]: Done 180 out of 180 | elapsed:    0.6s finished\n",
            "[Parallel(n_jobs=5)]: Using backend LokyBackend with 5 concurrent workers.\n"
          ],
          "name": "stderr"
        },
        {
          "output_type": "stream",
          "text": [
            "Fitting 5 folds for each of 108 candidates, totalling 540 fits\n"
          ],
          "name": "stdout"
        },
        {
          "output_type": "stream",
          "text": [
            "[Parallel(n_jobs=5)]: Batch computation too fast (0.0139s.) Setting batch_size=2.\n",
            "[Parallel(n_jobs=5)]: Batch computation too fast (0.0139s.) Setting batch_size=4.\n",
            "[Parallel(n_jobs=5)]: Done   3 tasks      | elapsed:    0.0s\n",
            "[Parallel(n_jobs=5)]: Done   5 tasks      | elapsed:    0.1s\n",
            "[Parallel(n_jobs=5)]: Done  10 tasks      | elapsed:    0.1s\n",
            "[Parallel(n_jobs=5)]: Batch computation too fast (0.0719s.) Setting batch_size=8.\n",
            "[Parallel(n_jobs=5)]: Done  38 tasks      | elapsed:    0.2s\n",
            "[Parallel(n_jobs=5)]: Batch computation too fast (0.1576s.) Setting batch_size=16.\n",
            "[Parallel(n_jobs=5)]: Done  82 tasks      | elapsed:    0.5s\n",
            "[Parallel(n_jobs=5)]: Batch computation too fast (0.1998s.) Setting batch_size=32.\n",
            "[Parallel(n_jobs=5)]: Done 178 tasks      | elapsed:    0.8s\n",
            "[Parallel(n_jobs=5)]: Done 323 tasks      | elapsed:    1.5s\n",
            "[Parallel(n_jobs=5)]: Done 396 tasks      | elapsed:    1.6s\n",
            "[Parallel(n_jobs=5)]: Done 407 tasks      | elapsed:    1.7s\n",
            "[Parallel(n_jobs=5)]: Done 482 tasks      | elapsed:    1.7s\n",
            "[Parallel(n_jobs=5)]: Done 495 tasks      | elapsed:    1.8s\n",
            "[Parallel(n_jobs=5)]: Done 510 tasks      | elapsed:    1.8s\n",
            "[Parallel(n_jobs=5)]: Done 525 tasks      | elapsed:    1.9s\n",
            "[Parallel(n_jobs=5)]: Done 540 out of 540 | elapsed:    2.0s finished\n",
            "[Parallel(n_jobs=5)]: Using backend LokyBackend with 5 concurrent workers.\n",
            "[Parallel(n_jobs=5)]: Done   1 tasks      | elapsed:    0.0s\n",
            "[Parallel(n_jobs=5)]: Batch computation too fast (0.0068s.) Setting batch_size=2.\n",
            "[Parallel(n_jobs=5)]: Done   6 tasks      | elapsed:    0.0s\n",
            "[Parallel(n_jobs=5)]: Done  12 tasks      | elapsed:    0.1s\n",
            "[Parallel(n_jobs=5)]: Batch computation too fast (0.0394s.) Setting batch_size=4.\n",
            "[Parallel(n_jobs=5)]: Done  26 tasks      | elapsed:    0.1s\n",
            "[Parallel(n_jobs=5)]: Batch computation too fast (0.0433s.) Setting batch_size=8.\n"
          ],
          "name": "stderr"
        },
        {
          "output_type": "stream",
          "text": [
            "it 7/10\n",
            "Fitting 5 folds for each of 36 candidates, totalling 180 fits\n"
          ],
          "name": "stdout"
        },
        {
          "output_type": "stream",
          "text": [
            "[Parallel(n_jobs=5)]: Done  50 tasks      | elapsed:    0.2s\n",
            "[Parallel(n_jobs=5)]: Batch computation too fast (0.0534s.) Setting batch_size=16.\n",
            "[Parallel(n_jobs=5)]: Done 102 tasks      | elapsed:    0.4s\n",
            "[Parallel(n_jobs=5)]: Done 132 tasks      | elapsed:    0.5s\n",
            "[Parallel(n_jobs=5)]: Done 164 tasks      | elapsed:    0.5s\n",
            "[Parallel(n_jobs=5)]: Done 180 out of 180 | elapsed:    0.6s finished\n",
            "[Parallel(n_jobs=5)]: Using backend LokyBackend with 5 concurrent workers.\n",
            "[Parallel(n_jobs=5)]: Batch computation too fast (0.0106s.) Setting batch_size=2.\n",
            "[Parallel(n_jobs=5)]: Batch computation too fast (0.0106s.) Setting batch_size=4.\n",
            "[Parallel(n_jobs=5)]: Done   2 tasks      | elapsed:    0.0s\n",
            "[Parallel(n_jobs=5)]: Done   6 tasks      | elapsed:    0.1s\n"
          ],
          "name": "stderr"
        },
        {
          "output_type": "stream",
          "text": [
            "Fitting 5 folds for each of 108 candidates, totalling 540 fits\n"
          ],
          "name": "stdout"
        },
        {
          "output_type": "stream",
          "text": [
            "[Parallel(n_jobs=5)]: Done  14 tasks      | elapsed:    0.1s\n",
            "[Parallel(n_jobs=5)]: Batch computation too fast (0.0479s.) Setting batch_size=8.\n",
            "[Parallel(n_jobs=5)]: Done  42 tasks      | elapsed:    0.3s\n",
            "[Parallel(n_jobs=5)]: Batch computation too fast (0.1537s.) Setting batch_size=16.\n",
            "[Parallel(n_jobs=5)]: Done  90 tasks      | elapsed:    0.5s\n",
            "[Parallel(n_jobs=5)]: Batch computation too fast (0.1606s.) Setting batch_size=32.\n",
            "[Parallel(n_jobs=5)]: Done 194 tasks      | elapsed:    0.8s\n",
            "[Parallel(n_jobs=5)]: Done 355 tasks      | elapsed:    1.5s\n",
            "[Parallel(n_jobs=5)]: Done 428 tasks      | elapsed:    1.6s\n",
            "[Parallel(n_jobs=5)]: Done 470 tasks      | elapsed:    1.6s\n",
            "[Parallel(n_jobs=5)]: Done 483 tasks      | elapsed:    1.7s\n",
            "[Parallel(n_jobs=5)]: Done 496 tasks      | elapsed:    1.8s\n",
            "[Parallel(n_jobs=5)]: Done 511 tasks      | elapsed:    1.8s\n",
            "[Parallel(n_jobs=5)]: Done 526 tasks      | elapsed:    1.9s\n",
            "[Parallel(n_jobs=5)]: Done 540 out of 540 | elapsed:    1.9s finished\n",
            "[Parallel(n_jobs=5)]: Using backend LokyBackend with 5 concurrent workers.\n"
          ],
          "name": "stderr"
        },
        {
          "output_type": "stream",
          "text": [
            "it 8/10\n",
            "Fitting 5 folds for each of 36 candidates, totalling 180 fits\n"
          ],
          "name": "stdout"
        },
        {
          "output_type": "stream",
          "text": [
            "[Parallel(n_jobs=5)]: Batch computation too fast (0.0100s.) Setting batch_size=2.\n",
            "[Parallel(n_jobs=5)]: Done   2 tasks      | elapsed:    0.0s\n",
            "[Parallel(n_jobs=5)]: Done   6 tasks      | elapsed:    0.1s\n",
            "[Parallel(n_jobs=5)]: Batch computation too fast (0.0477s.) Setting batch_size=4.\n",
            "[Parallel(n_jobs=5)]: Done  16 tasks      | elapsed:    0.1s\n",
            "[Parallel(n_jobs=5)]: Done  30 tasks      | elapsed:    0.2s\n",
            "[Parallel(n_jobs=5)]: Batch computation too fast (0.1075s.) Setting batch_size=8.\n",
            "[Parallel(n_jobs=5)]: Done  56 tasks      | elapsed:    0.3s\n",
            "[Parallel(n_jobs=5)]: Done  92 tasks      | elapsed:    0.4s\n",
            "[Parallel(n_jobs=5)]: Done 180 out of 180 | elapsed:    0.6s finished\n",
            "[Parallel(n_jobs=5)]: Using backend LokyBackend with 5 concurrent workers.\n",
            "[Parallel(n_jobs=5)]: Batch computation too fast (0.0141s.) Setting batch_size=2.\n",
            "[Parallel(n_jobs=5)]: Batch computation too fast (0.0141s.) Setting batch_size=4.\n",
            "[Parallel(n_jobs=5)]: Done   2 tasks      | elapsed:    0.0s\n",
            "[Parallel(n_jobs=5)]: Done   7 tasks      | elapsed:    0.1s\n",
            "[Parallel(n_jobs=5)]: Batch computation too fast (0.1040s.) Setting batch_size=8.\n",
            "[Parallel(n_jobs=5)]: Done  26 tasks      | elapsed:    0.2s\n"
          ],
          "name": "stderr"
        },
        {
          "output_type": "stream",
          "text": [
            "Fitting 5 folds for each of 108 candidates, totalling 540 fits\n"
          ],
          "name": "stdout"
        },
        {
          "output_type": "stream",
          "text": [
            "[Parallel(n_jobs=5)]: Done  54 tasks      | elapsed:    0.4s\n",
            "[Parallel(n_jobs=5)]: Done 110 tasks      | elapsed:    0.5s\n",
            "[Parallel(n_jobs=5)]: Done 182 tasks      | elapsed:    0.8s\n",
            "[Parallel(n_jobs=5)]: Done 270 tasks      | elapsed:    1.0s\n",
            "[Parallel(n_jobs=5)]: Done 358 tasks      | elapsed:    1.5s\n",
            "[Parallel(n_jobs=5)]: Done 462 tasks      | elapsed:    1.8s\n",
            "[Parallel(n_jobs=5)]: Done 503 tasks      | elapsed:    1.9s\n",
            "[Parallel(n_jobs=5)]: Done 531 out of 540 | elapsed:    2.0s remaining:    0.0s\n",
            "[Parallel(n_jobs=5)]: Done 540 out of 540 | elapsed:    2.0s finished\n",
            "[Parallel(n_jobs=5)]: Using backend LokyBackend with 5 concurrent workers.\n",
            "[Parallel(n_jobs=5)]: Batch computation too fast (0.0090s.) Setting batch_size=2.\n",
            "[Parallel(n_jobs=5)]: Batch computation too fast (0.0090s.) Setting batch_size=4.\n",
            "[Parallel(n_jobs=5)]: Done   2 tasks      | elapsed:    0.0s\n",
            "[Parallel(n_jobs=5)]: Done   6 tasks      | elapsed:    0.0s\n",
            "[Parallel(n_jobs=5)]: Done  14 tasks      | elapsed:    0.1s\n",
            "[Parallel(n_jobs=5)]: Batch computation too fast (0.0534s.) Setting batch_size=8.\n",
            "[Parallel(n_jobs=5)]: Done  42 tasks      | elapsed:    0.2s\n"
          ],
          "name": "stderr"
        },
        {
          "output_type": "stream",
          "text": [
            "it 9/10\n",
            "Fitting 5 folds for each of 36 candidates, totalling 180 fits\n"
          ],
          "name": "stdout"
        },
        {
          "output_type": "stream",
          "text": [
            "[Parallel(n_jobs=5)]: Batch computation too fast (0.0637s.) Setting batch_size=16.\n",
            "[Parallel(n_jobs=5)]: Done  90 tasks      | elapsed:    0.4s\n",
            "[Parallel(n_jobs=5)]: Done 120 tasks      | elapsed:    0.4s\n",
            "[Parallel(n_jobs=5)]: Done 143 tasks      | elapsed:    0.5s\n",
            "[Parallel(n_jobs=5)]: Done 154 tasks      | elapsed:    0.5s\n",
            "[Parallel(n_jobs=5)]: Done 165 tasks      | elapsed:    0.6s\n",
            "[Parallel(n_jobs=5)]: Done 180 out of 180 | elapsed:    0.6s finished\n",
            "[Parallel(n_jobs=5)]: Using backend LokyBackend with 5 concurrent workers.\n",
            "[Parallel(n_jobs=5)]: Batch computation too fast (0.0130s.) Setting batch_size=2.\n",
            "[Parallel(n_jobs=5)]: Batch computation too fast (0.0130s.) Setting batch_size=4.\n",
            "[Parallel(n_jobs=5)]: Done   2 tasks      | elapsed:    0.0s\n"
          ],
          "name": "stderr"
        },
        {
          "output_type": "stream",
          "text": [
            "Fitting 5 folds for each of 108 candidates, totalling 540 fits\n"
          ],
          "name": "stdout"
        },
        {
          "output_type": "stream",
          "text": [
            "[Parallel(n_jobs=5)]: Done   8 tasks      | elapsed:    0.1s\n",
            "[Parallel(n_jobs=5)]: Batch computation too fast (0.0470s.) Setting batch_size=8.\n",
            "[Parallel(n_jobs=5)]: Done  30 tasks      | elapsed:    0.2s\n",
            "[Parallel(n_jobs=5)]: Batch computation too fast (0.1154s.) Setting batch_size=16.\n",
            "[Parallel(n_jobs=5)]: Done  66 tasks      | elapsed:    0.5s\n",
            "[Parallel(n_jobs=5)]: Done 146 tasks      | elapsed:    0.8s\n",
            "[Parallel(n_jobs=5)]: Done 290 tasks      | elapsed:    1.2s\n",
            "[Parallel(n_jobs=5)]: Done 466 tasks      | elapsed:    1.8s\n",
            "[Parallel(n_jobs=5)]: Done 540 out of 540 | elapsed:    1.9s finished\n",
            "[Parallel(n_jobs=5)]: Using backend LokyBackend with 5 concurrent workers.\n",
            "[Parallel(n_jobs=5)]: Batch computation too fast (0.0207s.) Setting batch_size=2.\n",
            "[Parallel(n_jobs=5)]: Done   3 tasks      | elapsed:    0.0s\n",
            "[Parallel(n_jobs=5)]: Done   8 tasks      | elapsed:    0.1s\n",
            "[Parallel(n_jobs=5)]: Batch computation too fast (0.0343s.) Setting batch_size=4.\n"
          ],
          "name": "stderr"
        },
        {
          "output_type": "stream",
          "text": [
            "it 10/10\n",
            "Fitting 5 folds for each of 36 candidates, totalling 180 fits\n"
          ],
          "name": "stdout"
        },
        {
          "output_type": "stream",
          "text": [
            "[Parallel(n_jobs=5)]: Done  20 tasks      | elapsed:    0.1s\n",
            "[Parallel(n_jobs=5)]: Batch computation too fast (0.0726s.) Setting batch_size=8.\n",
            "[Parallel(n_jobs=5)]: Done  38 tasks      | elapsed:    0.2s\n",
            "[Parallel(n_jobs=5)]: Done  78 tasks      | elapsed:    0.3s\n",
            "[Parallel(n_jobs=5)]: Batch computation too fast (0.1367s.) Setting batch_size=16.\n",
            "[Parallel(n_jobs=5)]: Done 136 tasks      | elapsed:    0.5s\n",
            "[Parallel(n_jobs=5)]: Done 161 tasks      | elapsed:    0.5s\n",
            "[Parallel(n_jobs=5)]: Done 180 out of 180 | elapsed:    0.6s finished\n",
            "[Parallel(n_jobs=5)]: Using backend LokyBackend with 5 concurrent workers.\n",
            "[Parallel(n_jobs=5)]: Batch computation too fast (0.0130s.) Setting batch_size=2.\n",
            "[Parallel(n_jobs=5)]: Done   3 tasks      | elapsed:    0.0s\n"
          ],
          "name": "stderr"
        },
        {
          "output_type": "stream",
          "text": [
            "Fitting 5 folds for each of 108 candidates, totalling 540 fits\n"
          ],
          "name": "stdout"
        },
        {
          "output_type": "stream",
          "text": [
            "[Parallel(n_jobs=5)]: Done   8 tasks      | elapsed:    0.1s\n",
            "[Parallel(n_jobs=5)]: Batch computation too fast (0.0765s.) Setting batch_size=4.\n",
            "[Parallel(n_jobs=5)]: Done  20 tasks      | elapsed:    0.1s\n",
            "[Parallel(n_jobs=5)]: Batch computation too fast (0.0758s.) Setting batch_size=8.\n",
            "[Parallel(n_jobs=5)]: Done  38 tasks      | elapsed:    0.2s\n",
            "[Parallel(n_jobs=5)]: Done  78 tasks      | elapsed:    0.4s\n",
            "[Parallel(n_jobs=5)]: Batch computation too fast (0.1496s.) Setting batch_size=16.\n",
            "[Parallel(n_jobs=5)]: Done 150 tasks      | elapsed:    0.7s\n",
            "[Parallel(n_jobs=5)]: Done 326 tasks      | elapsed:    1.3s\n",
            "[Parallel(n_jobs=5)]: Done 427 tasks      | elapsed:    1.6s\n",
            "[Parallel(n_jobs=5)]: Done 455 tasks      | elapsed:    1.7s\n",
            "[Parallel(n_jobs=5)]: Done 483 tasks      | elapsed:    1.8s\n",
            "[Parallel(n_jobs=5)]: Done 513 tasks      | elapsed:    1.9s\n",
            "[Parallel(n_jobs=5)]: Done 528 tasks      | elapsed:    1.9s\n",
            "[Parallel(n_jobs=5)]: Done 540 out of 540 | elapsed:    2.0s finished\n"
          ],
          "name": "stderr"
        }
      ]
    },
    {
      "cell_type": "code",
      "metadata": {
        "id": "v_u_KAmvHmLd",
        "colab_type": "code",
        "outputId": "ce39654e-a827-46af-de4e-5b4a6b7d4fc6",
        "colab": {
          "base_uri": "https://localhost:8080/",
          "height": 265
        }
      },
      "source": [
        "plt.boxplot(MAE_KR)\n",
        "plt.xticks(ticks=np.arange(len(steps))+1,labels=label_model_KR)\n",
        "plt.show()"
      ],
      "execution_count": 132,
      "outputs": [
        {
          "output_type": "display_data",
          "data": {
            "image/png": "[encoded data removed]",
            "text/plain": [
              "<Figure size 432x288 with 1 Axes>"
            ]
          },
          "metadata": {
            "tags": [],
            "needs_background": "light"
          }
        }
      ]
    },
    {
      "cell_type": "code",
      "metadata": {
        "id": "OKQ09AkWbMF8",
        "colab_type": "code",
        "outputId": "88ab7e87-a792-485e-bbd2-4aed692bc66c",
        "colab": {
          "base_uri": "https://localhost:8080/",
          "height": 51
        }
      },
      "source": [
        "val = 100*100\n",
        "cont = -1\n",
        "for i in range(MAE_KR.shape[0]):\n",
        "  for j in range(MAE_KR.shape[1]):\n",
        "    cont +=1    \n",
        "    if (val > MAE_KR[i,j]):\n",
        "      val = MAE_KR[i,j]\n",
        "      pos = cont\n",
        "\n",
        "print(pos)\n",
        "print(val)"
      ],
      "execution_count": 133,
      "outputs": [
        {
          "output_type": "stream",
          "text": [
            "1\n",
            "919.2528729928121\n"
          ],
          "name": "stdout"
        }
      ]
    },
    {
      "cell_type": "code",
      "metadata": {
        "id": "sG2Gurk9xoJI",
        "colab_type": "code",
        "outputId": "4914acd5-00d4-4742-d9b1-2f31d2366a90",
        "colab": {
          "base_uri": "https://localhost:8080/",
          "height": 187
        }
      },
      "source": [
        "MAE_KR"
      ],
      "execution_count": 134,
      "outputs": [
        {
          "output_type": "execute_result",
          "data": {
            "text/plain": [
              "array([[ 3071.82644999,   919.25287299],\n",
              "       [ 7505.38743153,  7686.96649725],\n",
              "       [ 4002.23521397,  1477.11872982],\n",
              "       [ 2348.89913512,  1680.99349522],\n",
              "       [ 3649.52230809,  1135.32305758],\n",
              "       [ 5706.91478148,  7446.48280718],\n",
              "       [ 4890.75248095,  3449.16832699],\n",
              "       [15191.89185574,  6584.18248353],\n",
              "       [ 7547.2509195 ,  4990.31372072],\n",
              "       [ 3959.64986105,  6169.02542084]])"
            ]
          },
          "metadata": {
            "tags": []
          },
          "execution_count": 134
        }
      ]
    },
    {
      "cell_type": "code",
      "metadata": {
        "id": "OWcd2fFSHmLg",
        "colab_type": "code",
        "outputId": "ea77cce8-5b19-4090-e447-776432ed4a1e",
        "colab": {
          "base_uri": "https://localhost:8080/",
          "height": 204
        }
      },
      "source": [
        "B_Model[pos]"
      ],
      "execution_count": 135,
      "outputs": [
        {
          "output_type": "execute_result",
          "data": {
            "text/plain": [
              "Pipeline(memory=None,\n",
              "         steps=[('scaler',\n",
              "                 StandardScaler(copy=True, with_mean=True, with_std=True)),\n",
              "                ('rep',\n",
              "                 PCA(copy=True, iterated_power='auto', n_components=0.5,\n",
              "                     random_state=None, svd_solver='auto', tol=0.0,\n",
              "                     whiten=False)),\n",
              "                ('reg',\n",
              "                 KernelRidge(alpha=0.001, coef0=1, degree=3, gamma=0.01,\n",
              "                             kernel='rbf', kernel_params=None))],\n",
              "         verbose=False)"
            ]
          },
          "metadata": {
            "tags": []
          },
          "execution_count": 135
        }
      ]
    },
    {
      "cell_type": "code",
      "metadata": {
        "id": "wYi_U8IMHmLk",
        "colab_type": "code",
        "outputId": "33295bdf-1990-4ef7-f1ff-d085e671cf07",
        "colab": {
          "base_uri": "https://localhost:8080/",
          "height": 374
        }
      },
      "source": [
        "print(B_Hiperpara[pos])\n",
        "B_Hiperpara"
      ],
      "execution_count": 136,
      "outputs": [
        {
          "output_type": "stream",
          "text": [
            "{'reg__alpha': 0.001, 'reg__gamma': 0.01, 'rep__n_components': 0.5}\n"
          ],
          "name": "stdout"
        },
        {
          "output_type": "execute_result",
          "data": {
            "text/plain": [
              "[{'reg__alpha': 0.001, 'reg__gamma': 0.01},\n",
              " {'reg__alpha': 0.001, 'reg__gamma': 0.01, 'rep__n_components': 0.5},\n",
              " {'reg__alpha': 0.001, 'reg__gamma': 0.01},\n",
              " {'reg__alpha': 0.001, 'reg__gamma': 0.01, 'rep__n_components': 0.5},\n",
              " {'reg__alpha': 0.01, 'reg__gamma': 0.1},\n",
              " {'reg__alpha': 0.001, 'reg__gamma': 0.1, 'rep__n_components': 0.5},\n",
              " {'reg__alpha': 0.001, 'reg__gamma': 0.1},\n",
              " {'reg__alpha': 0.001, 'reg__gamma': 1, 'rep__n_components': 0.5},\n",
              " {'reg__alpha': 0.001, 'reg__gamma': 0.1},\n",
              " {'reg__alpha': 0.001, 'reg__gamma': 0.1, 'rep__n_components': 0.5},\n",
              " {'reg__alpha': 0.001, 'reg__gamma': 0.1},\n",
              " {'reg__alpha': 0.001, 'reg__gamma': 1, 'rep__n_components': 0.5},\n",
              " {'reg__alpha': 0.001, 'reg__gamma': 0.01},\n",
              " {'reg__alpha': 0.001, 'reg__gamma': 0.1, 'rep__n_components': 0.5},\n",
              " {'reg__alpha': 0.001, 'reg__gamma': 0.1},\n",
              " {'reg__alpha': 0.001, 'reg__gamma': 1, 'rep__n_components': 0.5},\n",
              " {'reg__alpha': 0.001, 'reg__gamma': 0.01},\n",
              " {'reg__alpha': 0.001, 'reg__gamma': 0.01, 'rep__n_components': 0.5},\n",
              " {'reg__alpha': 0.001, 'reg__gamma': 0.01},\n",
              " {'reg__alpha': 0.001, 'reg__gamma': 0.01, 'rep__n_components': 0.5}]"
            ]
          },
          "metadata": {
            "tags": []
          },
          "execution_count": 136
        }
      ]
    },
    {
      "cell_type": "code",
      "metadata": {
        "id": "lvxY5k99HmLo",
        "colab_type": "code",
        "outputId": "00e857de-64ac-40aa-ab6b-6a5a07fee73f",
        "colab": {
          "base_uri": "https://localhost:8080/",
          "height": 204
        }
      },
      "source": [
        "steps =  [('scaler', StandardScaler()),\n",
        "          ('rep', PCA(n_components=0.5)),                         \n",
        "          ('reg', KernelRidge(alpha=0.001, kernel='rbf', gamma=0.01))]\n",
        "\n",
        "Mod_SC_PCA_KRrbf = Pipeline(steps = steps)\n",
        "Mod_SC_PCA_KRrbf.fit(X_train,y_train)"
      ],
      "execution_count": 137,
      "outputs": [
        {
          "output_type": "execute_result",
          "data": {
            "text/plain": [
              "Pipeline(memory=None,\n",
              "         steps=[('scaler',\n",
              "                 StandardScaler(copy=True, with_mean=True, with_std=True)),\n",
              "                ('rep',\n",
              "                 PCA(copy=True, iterated_power='auto', n_components=0.5,\n",
              "                     random_state=None, svd_solver='auto', tol=0.0,\n",
              "                     whiten=False)),\n",
              "                ('reg',\n",
              "                 KernelRidge(alpha=0.001, coef0=1, degree=3, gamma=0.01,\n",
              "                             kernel='rbf', kernel_params=None))],\n",
              "         verbose=False)"
            ]
          },
          "metadata": {
            "tags": []
          },
          "execution_count": 137
        }
      ]
    },
    {
      "cell_type": "code",
      "metadata": {
        "id": "xJefOKVHNn7Y",
        "colab_type": "code",
        "outputId": "74ee181a-5301-4b81-9fa2-7e99485241ec",
        "colab": {
          "base_uri": "https://localhost:8080/",
          "height": 51
        }
      },
      "source": [
        "Xn = X[-1]\n",
        "#Xn = [4881, 5142, 5379, 5948, 6207]\n",
        "#Xn=np.matrix([Xn])\n",
        "\n",
        "Xn = Xn.reshape(1,-1)\n",
        "Pre_SC__PCA_KRrbf = Mod_SC_PCA_KRrbf.predict(Xn)\n",
        "\n",
        "print('Número de contagiados en los últimos 5 días:',Xn)\n",
        "print('Predicción contagios para',date.today(),'usando un modelo KernelRidge_rbf:',Pre_SC__PCA_KRrbf)"
      ],
      "execution_count": 138,
      "outputs": [
        {
          "output_type": "stream",
          "text": [
            "Número de contagiados en los últimos 5 días: [[4356 4561 4881 5142 5379]]\n",
            "Predicción contagios para 2020-04-30 usando un modelo KernelRidge_rbf: [[5990.68510663]]\n"
          ],
          "name": "stdout"
        }
      ]
    },
    {
      "cell_type": "code",
      "metadata": {
        "id": "95NSeJhfNoLA",
        "colab_type": "code",
        "colab": {}
      },
      "source": [
        ""
      ],
      "execution_count": 0,
      "outputs": []
    }
  ]
}