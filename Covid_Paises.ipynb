{
  "nbformat": 4,
  "nbformat_minor": 0,
  "metadata": {
    "kernelspec": {
      "display_name": "Python 3",
      "language": "python",
      "name": "python3"
    },
    "language_info": {
      "codemirror_mode": {
        "name": "ipython",
        "version": 3
      },
      "file_extension": ".py",
      "mimetype": "text/x-python",
      "name": "python",
      "nbconvert_exporter": "python",
      "pygments_lexer": "ipython3",
      "version": "3.7.3"
    },
    "colab": {
      "name": "Covid_Paises.ipynb",
      "provenance": [],
      "collapsed_sections": [],
      "include_colab_link": true
    }
  },
  "cells": [
    {
      "cell_type": "markdown",
      "metadata": {
        "id": "view-in-github",
        "colab_type": "text"
      },
      "source": [
        "<a href=\"https://colab.research.google.com/github/sefrancogo/Analitica-de-Datos/blob/master/Covid_Paises.ipynb\" target=\"_parent\"><img src=\"https://colab.research.google.com/assets/colab-badge.svg\" alt=\"Open In Colab\"/></a>"
      ]
    },
    {
      "cell_type": "code",
      "metadata": {
        "id": "GHXQB1z1HmK0",
        "colab_type": "code",
        "colab": {
          "base_uri": "https://localhost:8080/",
          "height": 406
        },
        "outputId": "f215d749-72e5-44ba-d59d-2b6fee397ad3"
      },
      "source": [
        "!pip install wget \n",
        "import pandas as pd\n",
        "import numpy as np #HOLA\n",
        "import wget \n",
        "import matplotlib.pyplot as plt\n",
        "%matplotlib inline\n",
        "\n",
        "url = \"https://data.humdata.org/hxlproxy/api/data-preview.csv?url=https%3A%2F%2Fraw.githubusercontent.com%2FCSSEGISandData%2FCOVID-19%2Fmaster%2Fcsse_covid_19_data%2Fcsse_covid_19_time_series%2Ftime_series_covid19_confirmed_global.csv&filename=time_series_covid19_confirmed_global.csv\"\n",
        "#path = 'data/Casos_positivos_de_COVID-19_en_Colombia04_15_2020.csv'\n",
        "\n",
        "wget.download(url, 'datos_covid_paises.cvs')\n",
        "data = pd.read_csv('datos_covid_paises.cvs')\n",
        "data.head()"
      ],
      "execution_count": 2,
      "outputs": [
        {
          "output_type": "stream",
          "text": [
            "Collecting wget\n",
            "  Downloading https://files.pythonhosted.org/packages/47/6a/62e288da7bcda82b935ff0c6cfe542970f04e29c756b0e147251b2fb251f/wget-3.2.zip\n",
            "Building wheels for collected packages: wget\n",
            "  Building wheel for wget (setup.py) ... \u001b[?25l\u001b[?25hdone\n",
            "  Created wheel for wget: filename=wget-3.2-cp36-none-any.whl size=9682 sha256=628e039ca0bbef8bd3432cd96c713315087bbe278574b7fae22b88f51a9b53bb\n",
            "  Stored in directory: /root/.cache/pip/wheels/40/15/30/7d8f7cea2902b4db79e3fea550d7d7b85ecb27ef992b618f3f\n",
            "Successfully built wget\n",
            "Installing collected packages: wget\n",
            "Successfully installed wget-3.2\n"
          ],
          "name": "stdout"
        },
        {
          "output_type": "execute_result",
          "data": {
            "text/html": [
              "<div>\n",
              "<style scoped>\n",
              "    .dataframe tbody tr th:only-of-type {\n",
              "        vertical-align: middle;\n",
              "    }\n",
              "\n",
              "    .dataframe tbody tr th {\n",
              "        vertical-align: top;\n",
              "    }\n",
              "\n",
              "    .dataframe thead th {\n",
              "        text-align: right;\n",
              "    }\n",
              "</style>\n",
              "<table border=\"1\" class=\"dataframe\">\n",
              "  <thead>\n",
              "    <tr style=\"text-align: right;\">\n",
              "      <th></th>\n",
              "      <th>Province/State</th>\n",
              "      <th>Country/Region</th>\n",
              "      <th>Lat</th>\n",
              "      <th>Long</th>\n",
              "      <th>1/22/20</th>\n",
              "      <th>1/23/20</th>\n",
              "      <th>1/24/20</th>\n",
              "      <th>1/25/20</th>\n",
              "      <th>1/26/20</th>\n",
              "      <th>1/27/20</th>\n",
              "      <th>1/28/20</th>\n",
              "      <th>1/29/20</th>\n",
              "      <th>1/30/20</th>\n",
              "      <th>1/31/20</th>\n",
              "      <th>2/1/20</th>\n",
              "      <th>2/2/20</th>\n",
              "      <th>2/3/20</th>\n",
              "      <th>2/4/20</th>\n",
              "      <th>2/5/20</th>\n",
              "      <th>2/6/20</th>\n",
              "      <th>2/7/20</th>\n",
              "      <th>2/8/20</th>\n",
              "      <th>2/9/20</th>\n",
              "      <th>2/10/20</th>\n",
              "      <th>2/11/20</th>\n",
              "      <th>2/12/20</th>\n",
              "      <th>2/13/20</th>\n",
              "      <th>2/14/20</th>\n",
              "      <th>2/15/20</th>\n",
              "      <th>2/16/20</th>\n",
              "      <th>2/17/20</th>\n",
              "      <th>2/18/20</th>\n",
              "      <th>2/19/20</th>\n",
              "      <th>2/20/20</th>\n",
              "      <th>2/21/20</th>\n",
              "      <th>2/22/20</th>\n",
              "      <th>2/23/20</th>\n",
              "      <th>2/24/20</th>\n",
              "      <th>2/25/20</th>\n",
              "      <th>2/26/20</th>\n",
              "      <th>...</th>\n",
              "      <th>3/14/20</th>\n",
              "      <th>3/15/20</th>\n",
              "      <th>3/16/20</th>\n",
              "      <th>3/17/20</th>\n",
              "      <th>3/18/20</th>\n",
              "      <th>3/19/20</th>\n",
              "      <th>3/20/20</th>\n",
              "      <th>3/21/20</th>\n",
              "      <th>3/22/20</th>\n",
              "      <th>3/23/20</th>\n",
              "      <th>3/24/20</th>\n",
              "      <th>3/25/20</th>\n",
              "      <th>3/26/20</th>\n",
              "      <th>3/27/20</th>\n",
              "      <th>3/28/20</th>\n",
              "      <th>3/29/20</th>\n",
              "      <th>3/30/20</th>\n",
              "      <th>3/31/20</th>\n",
              "      <th>4/1/20</th>\n",
              "      <th>4/2/20</th>\n",
              "      <th>4/3/20</th>\n",
              "      <th>4/4/20</th>\n",
              "      <th>4/5/20</th>\n",
              "      <th>4/6/20</th>\n",
              "      <th>4/7/20</th>\n",
              "      <th>4/8/20</th>\n",
              "      <th>4/9/20</th>\n",
              "      <th>4/10/20</th>\n",
              "      <th>4/11/20</th>\n",
              "      <th>4/12/20</th>\n",
              "      <th>4/13/20</th>\n",
              "      <th>4/14/20</th>\n",
              "      <th>4/15/20</th>\n",
              "      <th>4/16/20</th>\n",
              "      <th>4/17/20</th>\n",
              "      <th>4/18/20</th>\n",
              "      <th>4/19/20</th>\n",
              "      <th>4/20/20</th>\n",
              "      <th>4/21/20</th>\n",
              "      <th>4/22/20</th>\n",
              "    </tr>\n",
              "  </thead>\n",
              "  <tbody>\n",
              "    <tr>\n",
              "      <th>0</th>\n",
              "      <td>NaN</td>\n",
              "      <td>Afghanistan</td>\n",
              "      <td>33.0000</td>\n",
              "      <td>65.0000</td>\n",
              "      <td>0</td>\n",
              "      <td>0</td>\n",
              "      <td>0</td>\n",
              "      <td>0</td>\n",
              "      <td>0</td>\n",
              "      <td>0</td>\n",
              "      <td>0</td>\n",
              "      <td>0</td>\n",
              "      <td>0</td>\n",
              "      <td>0</td>\n",
              "      <td>0</td>\n",
              "      <td>0</td>\n",
              "      <td>0</td>\n",
              "      <td>0</td>\n",
              "      <td>0</td>\n",
              "      <td>0</td>\n",
              "      <td>0</td>\n",
              "      <td>0</td>\n",
              "      <td>0</td>\n",
              "      <td>0</td>\n",
              "      <td>0</td>\n",
              "      <td>0</td>\n",
              "      <td>0</td>\n",
              "      <td>0</td>\n",
              "      <td>0</td>\n",
              "      <td>0</td>\n",
              "      <td>0</td>\n",
              "      <td>0</td>\n",
              "      <td>0</td>\n",
              "      <td>0</td>\n",
              "      <td>0</td>\n",
              "      <td>0</td>\n",
              "      <td>0</td>\n",
              "      <td>1</td>\n",
              "      <td>1</td>\n",
              "      <td>1</td>\n",
              "      <td>...</td>\n",
              "      <td>11</td>\n",
              "      <td>16</td>\n",
              "      <td>21</td>\n",
              "      <td>22</td>\n",
              "      <td>22</td>\n",
              "      <td>22</td>\n",
              "      <td>24</td>\n",
              "      <td>24</td>\n",
              "      <td>40</td>\n",
              "      <td>40</td>\n",
              "      <td>74</td>\n",
              "      <td>84</td>\n",
              "      <td>94</td>\n",
              "      <td>110</td>\n",
              "      <td>110</td>\n",
              "      <td>120</td>\n",
              "      <td>170</td>\n",
              "      <td>174</td>\n",
              "      <td>237</td>\n",
              "      <td>273</td>\n",
              "      <td>281</td>\n",
              "      <td>299</td>\n",
              "      <td>349</td>\n",
              "      <td>367</td>\n",
              "      <td>423</td>\n",
              "      <td>444</td>\n",
              "      <td>484</td>\n",
              "      <td>521</td>\n",
              "      <td>555</td>\n",
              "      <td>607</td>\n",
              "      <td>665</td>\n",
              "      <td>714</td>\n",
              "      <td>784</td>\n",
              "      <td>840</td>\n",
              "      <td>906</td>\n",
              "      <td>933</td>\n",
              "      <td>996</td>\n",
              "      <td>1026</td>\n",
              "      <td>1092</td>\n",
              "      <td>1176</td>\n",
              "    </tr>\n",
              "    <tr>\n",
              "      <th>1</th>\n",
              "      <td>NaN</td>\n",
              "      <td>Albania</td>\n",
              "      <td>41.1533</td>\n",
              "      <td>20.1683</td>\n",
              "      <td>0</td>\n",
              "      <td>0</td>\n",
              "      <td>0</td>\n",
              "      <td>0</td>\n",
              "      <td>0</td>\n",
              "      <td>0</td>\n",
              "      <td>0</td>\n",
              "      <td>0</td>\n",
              "      <td>0</td>\n",
              "      <td>0</td>\n",
              "      <td>0</td>\n",
              "      <td>0</td>\n",
              "      <td>0</td>\n",
              "      <td>0</td>\n",
              "      <td>0</td>\n",
              "      <td>0</td>\n",
              "      <td>0</td>\n",
              "      <td>0</td>\n",
              "      <td>0</td>\n",
              "      <td>0</td>\n",
              "      <td>0</td>\n",
              "      <td>0</td>\n",
              "      <td>0</td>\n",
              "      <td>0</td>\n",
              "      <td>0</td>\n",
              "      <td>0</td>\n",
              "      <td>0</td>\n",
              "      <td>0</td>\n",
              "      <td>0</td>\n",
              "      <td>0</td>\n",
              "      <td>0</td>\n",
              "      <td>0</td>\n",
              "      <td>0</td>\n",
              "      <td>0</td>\n",
              "      <td>0</td>\n",
              "      <td>0</td>\n",
              "      <td>...</td>\n",
              "      <td>38</td>\n",
              "      <td>42</td>\n",
              "      <td>51</td>\n",
              "      <td>55</td>\n",
              "      <td>59</td>\n",
              "      <td>64</td>\n",
              "      <td>70</td>\n",
              "      <td>76</td>\n",
              "      <td>89</td>\n",
              "      <td>104</td>\n",
              "      <td>123</td>\n",
              "      <td>146</td>\n",
              "      <td>174</td>\n",
              "      <td>186</td>\n",
              "      <td>197</td>\n",
              "      <td>212</td>\n",
              "      <td>223</td>\n",
              "      <td>243</td>\n",
              "      <td>259</td>\n",
              "      <td>277</td>\n",
              "      <td>304</td>\n",
              "      <td>333</td>\n",
              "      <td>361</td>\n",
              "      <td>377</td>\n",
              "      <td>383</td>\n",
              "      <td>400</td>\n",
              "      <td>409</td>\n",
              "      <td>416</td>\n",
              "      <td>433</td>\n",
              "      <td>446</td>\n",
              "      <td>467</td>\n",
              "      <td>475</td>\n",
              "      <td>494</td>\n",
              "      <td>518</td>\n",
              "      <td>539</td>\n",
              "      <td>548</td>\n",
              "      <td>562</td>\n",
              "      <td>584</td>\n",
              "      <td>609</td>\n",
              "      <td>634</td>\n",
              "    </tr>\n",
              "    <tr>\n",
              "      <th>2</th>\n",
              "      <td>NaN</td>\n",
              "      <td>Algeria</td>\n",
              "      <td>28.0339</td>\n",
              "      <td>1.6596</td>\n",
              "      <td>0</td>\n",
              "      <td>0</td>\n",
              "      <td>0</td>\n",
              "      <td>0</td>\n",
              "      <td>0</td>\n",
              "      <td>0</td>\n",
              "      <td>0</td>\n",
              "      <td>0</td>\n",
              "      <td>0</td>\n",
              "      <td>0</td>\n",
              "      <td>0</td>\n",
              "      <td>0</td>\n",
              "      <td>0</td>\n",
              "      <td>0</td>\n",
              "      <td>0</td>\n",
              "      <td>0</td>\n",
              "      <td>0</td>\n",
              "      <td>0</td>\n",
              "      <td>0</td>\n",
              "      <td>0</td>\n",
              "      <td>0</td>\n",
              "      <td>0</td>\n",
              "      <td>0</td>\n",
              "      <td>0</td>\n",
              "      <td>0</td>\n",
              "      <td>0</td>\n",
              "      <td>0</td>\n",
              "      <td>0</td>\n",
              "      <td>0</td>\n",
              "      <td>0</td>\n",
              "      <td>0</td>\n",
              "      <td>0</td>\n",
              "      <td>0</td>\n",
              "      <td>0</td>\n",
              "      <td>1</td>\n",
              "      <td>1</td>\n",
              "      <td>...</td>\n",
              "      <td>37</td>\n",
              "      <td>48</td>\n",
              "      <td>54</td>\n",
              "      <td>60</td>\n",
              "      <td>74</td>\n",
              "      <td>87</td>\n",
              "      <td>90</td>\n",
              "      <td>139</td>\n",
              "      <td>201</td>\n",
              "      <td>230</td>\n",
              "      <td>264</td>\n",
              "      <td>302</td>\n",
              "      <td>367</td>\n",
              "      <td>409</td>\n",
              "      <td>454</td>\n",
              "      <td>511</td>\n",
              "      <td>584</td>\n",
              "      <td>716</td>\n",
              "      <td>847</td>\n",
              "      <td>986</td>\n",
              "      <td>1171</td>\n",
              "      <td>1251</td>\n",
              "      <td>1320</td>\n",
              "      <td>1423</td>\n",
              "      <td>1468</td>\n",
              "      <td>1572</td>\n",
              "      <td>1666</td>\n",
              "      <td>1761</td>\n",
              "      <td>1825</td>\n",
              "      <td>1914</td>\n",
              "      <td>1983</td>\n",
              "      <td>2070</td>\n",
              "      <td>2160</td>\n",
              "      <td>2268</td>\n",
              "      <td>2418</td>\n",
              "      <td>2534</td>\n",
              "      <td>2629</td>\n",
              "      <td>2718</td>\n",
              "      <td>2811</td>\n",
              "      <td>2910</td>\n",
              "    </tr>\n",
              "    <tr>\n",
              "      <th>3</th>\n",
              "      <td>NaN</td>\n",
              "      <td>Andorra</td>\n",
              "      <td>42.5063</td>\n",
              "      <td>1.5218</td>\n",
              "      <td>0</td>\n",
              "      <td>0</td>\n",
              "      <td>0</td>\n",
              "      <td>0</td>\n",
              "      <td>0</td>\n",
              "      <td>0</td>\n",
              "      <td>0</td>\n",
              "      <td>0</td>\n",
              "      <td>0</td>\n",
              "      <td>0</td>\n",
              "      <td>0</td>\n",
              "      <td>0</td>\n",
              "      <td>0</td>\n",
              "      <td>0</td>\n",
              "      <td>0</td>\n",
              "      <td>0</td>\n",
              "      <td>0</td>\n",
              "      <td>0</td>\n",
              "      <td>0</td>\n",
              "      <td>0</td>\n",
              "      <td>0</td>\n",
              "      <td>0</td>\n",
              "      <td>0</td>\n",
              "      <td>0</td>\n",
              "      <td>0</td>\n",
              "      <td>0</td>\n",
              "      <td>0</td>\n",
              "      <td>0</td>\n",
              "      <td>0</td>\n",
              "      <td>0</td>\n",
              "      <td>0</td>\n",
              "      <td>0</td>\n",
              "      <td>0</td>\n",
              "      <td>0</td>\n",
              "      <td>0</td>\n",
              "      <td>0</td>\n",
              "      <td>...</td>\n",
              "      <td>1</td>\n",
              "      <td>1</td>\n",
              "      <td>2</td>\n",
              "      <td>39</td>\n",
              "      <td>39</td>\n",
              "      <td>53</td>\n",
              "      <td>75</td>\n",
              "      <td>88</td>\n",
              "      <td>113</td>\n",
              "      <td>133</td>\n",
              "      <td>164</td>\n",
              "      <td>188</td>\n",
              "      <td>224</td>\n",
              "      <td>267</td>\n",
              "      <td>308</td>\n",
              "      <td>334</td>\n",
              "      <td>370</td>\n",
              "      <td>376</td>\n",
              "      <td>390</td>\n",
              "      <td>428</td>\n",
              "      <td>439</td>\n",
              "      <td>466</td>\n",
              "      <td>501</td>\n",
              "      <td>525</td>\n",
              "      <td>545</td>\n",
              "      <td>564</td>\n",
              "      <td>583</td>\n",
              "      <td>601</td>\n",
              "      <td>601</td>\n",
              "      <td>638</td>\n",
              "      <td>646</td>\n",
              "      <td>659</td>\n",
              "      <td>673</td>\n",
              "      <td>673</td>\n",
              "      <td>696</td>\n",
              "      <td>704</td>\n",
              "      <td>713</td>\n",
              "      <td>717</td>\n",
              "      <td>717</td>\n",
              "      <td>723</td>\n",
              "    </tr>\n",
              "    <tr>\n",
              "      <th>4</th>\n",
              "      <td>NaN</td>\n",
              "      <td>Angola</td>\n",
              "      <td>-11.2027</td>\n",
              "      <td>17.8739</td>\n",
              "      <td>0</td>\n",
              "      <td>0</td>\n",
              "      <td>0</td>\n",
              "      <td>0</td>\n",
              "      <td>0</td>\n",
              "      <td>0</td>\n",
              "      <td>0</td>\n",
              "      <td>0</td>\n",
              "      <td>0</td>\n",
              "      <td>0</td>\n",
              "      <td>0</td>\n",
              "      <td>0</td>\n",
              "      <td>0</td>\n",
              "      <td>0</td>\n",
              "      <td>0</td>\n",
              "      <td>0</td>\n",
              "      <td>0</td>\n",
              "      <td>0</td>\n",
              "      <td>0</td>\n",
              "      <td>0</td>\n",
              "      <td>0</td>\n",
              "      <td>0</td>\n",
              "      <td>0</td>\n",
              "      <td>0</td>\n",
              "      <td>0</td>\n",
              "      <td>0</td>\n",
              "      <td>0</td>\n",
              "      <td>0</td>\n",
              "      <td>0</td>\n",
              "      <td>0</td>\n",
              "      <td>0</td>\n",
              "      <td>0</td>\n",
              "      <td>0</td>\n",
              "      <td>0</td>\n",
              "      <td>0</td>\n",
              "      <td>0</td>\n",
              "      <td>...</td>\n",
              "      <td>0</td>\n",
              "      <td>0</td>\n",
              "      <td>0</td>\n",
              "      <td>0</td>\n",
              "      <td>0</td>\n",
              "      <td>0</td>\n",
              "      <td>1</td>\n",
              "      <td>2</td>\n",
              "      <td>2</td>\n",
              "      <td>3</td>\n",
              "      <td>3</td>\n",
              "      <td>3</td>\n",
              "      <td>4</td>\n",
              "      <td>4</td>\n",
              "      <td>5</td>\n",
              "      <td>7</td>\n",
              "      <td>7</td>\n",
              "      <td>7</td>\n",
              "      <td>8</td>\n",
              "      <td>8</td>\n",
              "      <td>8</td>\n",
              "      <td>10</td>\n",
              "      <td>14</td>\n",
              "      <td>16</td>\n",
              "      <td>17</td>\n",
              "      <td>19</td>\n",
              "      <td>19</td>\n",
              "      <td>19</td>\n",
              "      <td>19</td>\n",
              "      <td>19</td>\n",
              "      <td>19</td>\n",
              "      <td>19</td>\n",
              "      <td>19</td>\n",
              "      <td>19</td>\n",
              "      <td>19</td>\n",
              "      <td>24</td>\n",
              "      <td>24</td>\n",
              "      <td>24</td>\n",
              "      <td>24</td>\n",
              "      <td>25</td>\n",
              "    </tr>\n",
              "  </tbody>\n",
              "</table>\n",
              "<p>5 rows × 96 columns</p>\n",
              "</div>"
            ],
            "text/plain": [
              "  Province/State Country/Region      Lat  ...  4/20/20  4/21/20  4/22/20\n",
              "0            NaN    Afghanistan  33.0000  ...     1026     1092     1176\n",
              "1            NaN        Albania  41.1533  ...      584      609      634\n",
              "2            NaN        Algeria  28.0339  ...     2718     2811     2910\n",
              "3            NaN        Andorra  42.5063  ...      717      717      723\n",
              "4            NaN         Angola -11.2027  ...       24       24       25\n",
              "\n",
              "[5 rows x 96 columns]"
            ]
          },
          "metadata": {
            "tags": []
          },
          "execution_count": 2
        }
      ]
    },
    {
      "cell_type": "code",
      "metadata": {
        "id": "TRozoAWQHmK5",
        "colab_type": "code",
        "colab": {}
      },
      "source": [
        "#funcion ventaneo\n",
        "def covid_win(serie,w=5):\n",
        "    pi =0\n",
        "    pf = w\n",
        "    X = serie[pi:pf].reshape(1,-1)\n",
        "    y = serie[pf+1].reshape(1,-1)\n",
        "    pi += 1\n",
        "    pf+= 1\n",
        "    while pf+1 < serie.shape[0]:        \n",
        "        X = np.append(X,serie[pi:pf].reshape(1,-1),axis=0)\n",
        "        y = np.append(y,serie[pf+1].reshape(1,-1),axis=0)\n",
        "        pi += 1\n",
        "        pf+=1\n",
        "    return X, y # X \\in Real^{N x P = w}, y \\in Real^N"
      ],
      "execution_count": 0,
      "outputs": []
    },
    {
      "cell_type": "code",
      "metadata": {
        "id": "R6M43Np8HmK8",
        "colab_type": "code",
        "colab": {}
      },
      "source": [
        "#Ubicar Posicion de pais\n",
        "ii = data[data.columns[1]] == 'Colombia'\n",
        "\n",
        "#contagios  acumulados\n",
        "serie = np.array(data.iloc[np.where(ii)[0][0],4:])\n",
        "#numero contagiados por dia\n",
        "serie_d = np.append(0,np.diff(serie))\n",
        "#serie_d = np.append(0,np.cumsum(np.diff(serie)))\n",
        "\n",
        "X, y = covid_win(serie,w=5)\n",
        "X_d, y_d = covid_win(serie_d,w=5)"
      ],
      "execution_count": 0,
      "outputs": []
    },
    {
      "cell_type": "markdown",
      "metadata": {
        "id": "JdnOKu46HmLF",
        "colab_type": "text"
      },
      "source": [
        "### Analisis Exploratorio PCA"
      ]
    },
    {
      "cell_type": "code",
      "metadata": {
        "id": "pNsZw3ZCHmLH",
        "colab_type": "code",
        "colab": {
          "base_uri": "https://localhost:8080/",
          "height": 515
        },
        "outputId": "e77becfd-9e51-4b70-a2e2-b8b0a40e4d20"
      },
      "source": [
        "from sklearn.decomposition import PCA\n",
        "\n",
        "red = PCA()\n",
        "red_d = PCA()\n",
        "\n",
        "z = red.fit_transform(X)\n",
        "z_d = red_d.fit_transform(X_d)\n",
        "\n",
        "plt.scatter(z[:,0],z[:,1],c=y)\n",
        "plt.colorbar()\n",
        "plt.show()\n",
        "\n",
        "plt.scatter(z_d[:,0],z_d[:,1],c=y_d)\n",
        "plt.colorbar()\n",
        "plt.show()"
      ],
      "execution_count": 6,
      "outputs": [
        {
          "output_type": "display_data",
          "data": {
            "image/png": "[encoded data removed]",
            "text/plain": [
              "<Figure size 432x288 with 2 Axes>"
            ]
          },
          "metadata": {
            "tags": [],
            "needs_background": "light"
          }
        },
        {
          "output_type": "display_data",
          "data": {
            "image/png": "[encoded data removed]",
            "text/plain": [
              "<Figure size 432x288 with 2 Axes>"
            ]
          },
          "metadata": {
            "tags": [],
            "needs_background": "light"
          }
        }
      ]
    },
    {
      "cell_type": "markdown",
      "metadata": {
        "id": "Jz4367mNHmLL",
        "colab_type": "text"
      },
      "source": [
        "### Analisis Exploratorio TSNE"
      ]
    },
    {
      "cell_type": "code",
      "metadata": {
        "id": "eVu2OZdKHmLM",
        "colab_type": "code",
        "colab": {
          "base_uri": "https://localhost:8080/",
          "height": 517
        },
        "outputId": "051e2073-022f-46cc-cc34-2e92a3d0ca34"
      },
      "source": [
        "from sklearn.manifold import TSNE\n",
        "\n",
        "red = TSNE(n_components = 2, perplexity=10)\n",
        "red_d = TSNE(n_components = 2, perplexity=10)\n",
        "\n",
        "z = red.fit_transform(X)\n",
        "z_d = red.fit_transform(X_d)\n",
        "\n",
        "plt.scatter(z[:,0],z[:,1],c=y)\n",
        "plt.colorbar()\n",
        "plt.show()\n",
        "\n",
        "plt.scatter(z_d[:,0],z_d[:,1],c=y_d)\n",
        "plt.colorbar()\n",
        "plt.show()"
      ],
      "execution_count": 9,
      "outputs": [
        {
          "output_type": "display_data",
          "data": {
            "image/png": "[encoded data removed]",
            "text/plain": [
              "<Figure size 432x288 with 2 Axes>"
            ]
          },
          "metadata": {
            "tags": [],
            "needs_background": "light"
          }
        },
        {
          "output_type": "display_data",
          "data": {
            "image/png": "[encoded data removed]",
            "text/plain": [
              "<Figure size 432x288 with 2 Axes>"
            ]
          },
          "metadata": {
            "tags": [],
            "needs_background": "light"
          }
        }
      ]
    },
    {
      "cell_type": "markdown",
      "metadata": {
        "id": "8VlIo0FwHmLQ",
        "colab_type": "text"
      },
      "source": [
        "### Extrer conjunto de Entrenamiento y Prueba\n",
        "Cuando se tienen pocos datos es necesario realizar una validaación cruzada anidada."
      ]
    },
    {
      "cell_type": "code",
      "metadata": {
        "id": "F-7b4i0_HmLR",
        "colab_type": "code",
        "colab": {}
      },
      "source": [
        "from sklearn.model_selection import train_test_split,GridSearchCV,cross_val_score, cross_val_predict\n",
        "from sklearn.kernel_ridge import KernelRidge\n",
        "from sklearn.pipeline import Pipeline\n",
        "from sklearn.preprocessing import StandardScaler\n",
        "from sklearn.metrics import mean_squared_error as mse\n",
        "from joblib import dump, load\n",
        "\n",
        "steps = [\n",
        "         [('scaler', StandardScaler()), #estandarizar cada atriuto columna de xtrain centrada en 0 y var = 1\n",
        "          ('reg',  KernelRidge(kernel = 'rbf'))],\n",
        "         [('scaler', StandardScaler()),\n",
        "          ('rep', PCA()),  #estandarizar cada atriuto columna de xtrain centrada en 0 y var = 1\n",
        "          ('reg',  KernelRidge(kernel = 'rbf'))]\n",
        "          ]\n",
        "\n",
        "parameters = [\n",
        "                {'reg__gamma':[1e-3,1e-2,1e-1,1,10,100],\n",
        "                 'reg__alpha':[1e-3,1e-2,1e-1,1,10,100]\n",
        "                 },\n",
        "                {'reg__gamma':[1e-3,1e-2,1e-1,1,10,100],\n",
        "                 'reg__alpha':[1e-3,1e-2,1e-1,1,10,100],\n",
        "                 'rep__n_components':[0.5,0.75,0.9]\n",
        "                 }\n",
        "               ]\n",
        "               \n",
        "label_model = ['NorSC-KRRBF','NorSC-PCA-KRRBF']"
      ],
      "execution_count": 0,
      "outputs": []
    },
    {
      "cell_type": "markdown",
      "metadata": {
        "id": "HIBLVvEwHmLZ",
        "colab_type": "text"
      },
      "source": [
        "### Validación Cruzada Anidada"
      ]
    },
    {
      "cell_type": "code",
      "metadata": {
        "id": "Ay_NsFvcHmLa",
        "colab_type": "code",
        "colab": {},
        "outputId": "84afad51-30e1-4c43-8cd7-8093166b12c3"
      },
      "source": [
        "Niter = 10                           #numero particiones outter loop nested cross-validation\n",
        "msev =np.zeros((Niter,len(steps)))   #arreglo para guardar acierto\n",
        "best_estimators = []                 #mejor metodo por iteracion\n",
        "###clave del funcionamiento\n",
        "best_hyperpar = []                   #mejor metodo por iteracion \n",
        "          \n",
        "\n",
        "for j in range(Niter): #outter loop\n",
        "    print('it %d/%d'%(j+1,Niter))\n",
        "    #particiono datos outter loop\n",
        "    X_train, X_test, y_train, y_test = train_test_split(X,y,test_size=0.3) # xtrain 60, xtest 26\n",
        "    for r in range(len(steps)): #recorro todos los posibles modelos a probar en iteracion j del outter loop\n",
        "        grid_search = GridSearchCV(Pipeline(steps[r]), parameters[r],cv=5,verbose=10,scoring='neg_mean_squared_error',n_jobs=5) #cv inner loop\n",
        "        #xtrain gridsearchcv xtrain split en 12 / cv, 60/5 = 12, xtrain 48 datos validar 12\n",
        "        # cv = N -> leave one out N <30\n",
        "        #generar mejor modelo\n",
        "        grid_search.fit(X_train,y_train)\n",
        "        #estimar salida conjunto de test\n",
        "        y_pred = grid_search.best_estimator_.predict(X_test)\n",
        "        #guardar mejor modelo\n",
        "        best_estimators.append(grid_search.best_estimator_)\n",
        "        best_hyperpar.append(grid_search.best_params_)\n",
        "\n",
        "        #guardar acierto\n",
        "        msev[j,r] = mse(y_test,y_pred)\n",
        "        print('it %d/%d-Modelo %d/%d'%(j+1,Niter,r,len(steps)))\n",
        "        print(best_hyperpar)\n",
        "        print('mse:',msev[j,r])\n",
        "\n",
        "        savedata = {\n",
        "          'acc':msev,\n",
        "          'best_models':best_estimators,\n",
        "          'best_parameters':best_hyperpar,\n",
        "            } \n",
        "        #dump(savedata,'covid19_1.joblib')"
      ],
      "execution_count": 0,
      "outputs": [
        {
          "output_type": "stream",
          "text": [
            "it 1/10\n",
            "Fitting 5 folds for each of 36 candidates, totalling 180 fits\n"
          ],
          "name": "stdout"
        },
        {
          "output_type": "stream",
          "text": [
            "[Parallel(n_jobs=5)]: Using backend LokyBackend with 5 concurrent workers.\n",
            "[Parallel(n_jobs=5)]: Done   3 tasks      | elapsed:    5.1s\n",
            "[Parallel(n_jobs=5)]: Done   8 tasks      | elapsed:    5.1s\n",
            "[Parallel(n_jobs=5)]: Done  15 tasks      | elapsed:    5.2s\n",
            "[Parallel(n_jobs=5)]: Done  22 tasks      | elapsed:    5.3s\n",
            "[Parallel(n_jobs=5)]: Done  31 tasks      | elapsed:    5.5s\n",
            "[Parallel(n_jobs=5)]: Batch computation too fast (0.1790s.) Setting batch_size=2.\n",
            "[Parallel(n_jobs=5)]: Done  40 tasks      | elapsed:    5.5s\n",
            "[Parallel(n_jobs=5)]: Batch computation too fast (0.0722s.) Setting batch_size=10.\n",
            "[Parallel(n_jobs=5)]: Done  57 tasks      | elapsed:    5.7s\n",
            "[Parallel(n_jobs=5)]: Batch computation too fast (0.1657s.) Setting batch_size=24.\n",
            "[Parallel(n_jobs=5)]: Done 133 out of 180 | elapsed:    5.9s remaining:    2.0s\n",
            "[Parallel(n_jobs=5)]: Done 180 out of 180 | elapsed:    6.0s finished\n",
            "C:\\Users\\Alba Cecilia G\\Anaconda3\\lib\\site-packages\\sklearn\\model_selection\\_search.py:813: DeprecationWarning: The default of the `iid` parameter will change from True to False in version 0.22 and will be removed in 0.24. This will change numeric results when test-set sizes are unequal.\n",
            "  DeprecationWarning)\n",
            "[Parallel(n_jobs=5)]: Using backend LokyBackend with 5 concurrent workers.\n"
          ],
          "name": "stderr"
        },
        {
          "output_type": "stream",
          "text": [
            "it 1/10-Modelo 0/2\n",
            "[{'reg__alpha': 0.001, 'reg__gamma': 0.1}]\n",
            "mse: 2815.210323050819\n",
            "Fitting 5 folds for each of 108 candidates, totalling 540 fits\n"
          ],
          "name": "stdout"
        },
        {
          "output_type": "stream",
          "text": [
            "[Parallel(n_jobs=5)]: Done   3 tasks      | elapsed:    0.2s\n",
            "[Parallel(n_jobs=5)]: Done   8 tasks      | elapsed:    0.2s\n",
            "[Parallel(n_jobs=5)]: Batch computation too fast (0.1815s.) Setting batch_size=2.\n",
            "[Parallel(n_jobs=5)]: Done  15 tasks      | elapsed:    0.2s\n",
            "[Parallel(n_jobs=5)]: Done  22 tasks      | elapsed:    0.3s\n",
            "[Parallel(n_jobs=5)]: Batch computation too fast (0.0740s.) Setting batch_size=10.\n",
            "[Parallel(n_jobs=5)]: Done  40 tasks      | elapsed:    0.5s\n",
            "[Parallel(n_jobs=5)]: Batch computation too fast (0.1993s.) Setting batch_size=20.\n",
            "[Parallel(n_jobs=5)]: Done 122 tasks      | elapsed:    0.8s\n",
            "[Parallel(n_jobs=5)]: Done 322 tasks      | elapsed:    1.3s\n",
            "[Parallel(n_jobs=5)]: Done 540 out of 540 | elapsed:    2.0s finished\n",
            "C:\\Users\\Alba Cecilia G\\Anaconda3\\lib\\site-packages\\sklearn\\model_selection\\_search.py:813: DeprecationWarning: The default of the `iid` parameter will change from True to False in version 0.22 and will be removed in 0.24. This will change numeric results when test-set sizes are unequal.\n",
            "  DeprecationWarning)\n",
            "[Parallel(n_jobs=5)]: Using backend LokyBackend with 5 concurrent workers.\n",
            "[Parallel(n_jobs=5)]: Batch computation too fast (0.0320s.) Setting batch_size=12.\n",
            "[Parallel(n_jobs=5)]: Done   3 tasks      | elapsed:    0.0s\n"
          ],
          "name": "stderr"
        },
        {
          "output_type": "stream",
          "text": [
            "it 1/10-Modelo 1/2\n",
            "[{'reg__alpha': 0.001, 'reg__gamma': 0.1}, {'reg__alpha': 0.001, 'reg__gamma': 0.1, 'rep__n_components': 0.5}]\n",
            "mse: 1624.8961711505467\n",
            "it 2/10\n",
            "Fitting 5 folds for each of 36 candidates, totalling 180 fits\n"
          ],
          "name": "stdout"
        },
        {
          "output_type": "stream",
          "text": [
            "[Parallel(n_jobs=5)]: Done   8 tasks      | elapsed:    0.1s\n",
            "[Parallel(n_jobs=5)]: Done  70 tasks      | elapsed:    0.4s\n",
            "[Parallel(n_jobs=5)]: Done 180 out of 180 | elapsed:    0.6s finished\n",
            "C:\\Users\\Alba Cecilia G\\Anaconda3\\lib\\site-packages\\sklearn\\model_selection\\_search.py:813: DeprecationWarning: The default of the `iid` parameter will change from True to False in version 0.22 and will be removed in 0.24. This will change numeric results when test-set sizes are unequal.\n",
            "  DeprecationWarning)\n",
            "[Parallel(n_jobs=5)]: Using backend LokyBackend with 5 concurrent workers.\n",
            "[Parallel(n_jobs=5)]: Batch computation too fast (0.0360s.) Setting batch_size=10.\n",
            "[Parallel(n_jobs=5)]: Done   3 tasks      | elapsed:    0.0s\n"
          ],
          "name": "stderr"
        },
        {
          "output_type": "stream",
          "text": [
            "it 2/10-Modelo 0/2\n",
            "[{'reg__alpha': 0.001, 'reg__gamma': 0.1}, {'reg__alpha': 0.001, 'reg__gamma': 0.1, 'rep__n_components': 0.5}, {'reg__alpha': 0.001, 'reg__gamma': 0.1}]\n",
            "mse: 2567.172654578734\n",
            "Fitting 5 folds for each of 108 candidates, totalling 540 fits\n"
          ],
          "name": "stdout"
        },
        {
          "output_type": "stream",
          "text": [
            "[Parallel(n_jobs=5)]: Done   8 tasks      | elapsed:    0.2s\n",
            "[Parallel(n_jobs=5)]: Done  60 tasks      | elapsed:    0.4s\n",
            "[Parallel(n_jobs=5)]: Done 130 tasks      | elapsed:    0.6s\n",
            "[Parallel(n_jobs=5)]: Done 220 tasks      | elapsed:    0.9s\n",
            "[Parallel(n_jobs=5)]: Done 310 tasks      | elapsed:    1.3s\n",
            "[Parallel(n_jobs=5)]: Done 420 tasks      | elapsed:    1.7s\n",
            "[Parallel(n_jobs=5)]: Done 540 out of 540 | elapsed:    2.0s finished\n",
            "C:\\Users\\Alba Cecilia G\\Anaconda3\\lib\\site-packages\\sklearn\\model_selection\\_search.py:813: DeprecationWarning: The default of the `iid` parameter will change from True to False in version 0.22 and will be removed in 0.24. This will change numeric results when test-set sizes are unequal.\n",
            "  DeprecationWarning)\n",
            "[Parallel(n_jobs=5)]: Using backend LokyBackend with 5 concurrent workers.\n",
            "[Parallel(n_jobs=5)]: Batch computation too fast (0.0240s.) Setting batch_size=16.\n",
            "[Parallel(n_jobs=5)]: Done   3 tasks      | elapsed:    0.0s\n"
          ],
          "name": "stderr"
        },
        {
          "output_type": "stream",
          "text": [
            "it 2/10-Modelo 1/2\n",
            "[{'reg__alpha': 0.001, 'reg__gamma': 0.1}, {'reg__alpha': 0.001, 'reg__gamma': 0.1, 'rep__n_components': 0.5}, {'reg__alpha': 0.001, 'reg__gamma': 0.1}, {'reg__alpha': 0.001, 'reg__gamma': 0.1, 'rep__n_components': 0.5}]\n",
            "mse: 1782.5742466442066\n",
            "it 3/10\n",
            "Fitting 5 folds for each of 36 candidates, totalling 180 fits\n"
          ],
          "name": "stdout"
        },
        {
          "output_type": "stream",
          "text": [
            "[Parallel(n_jobs=5)]: Done   8 tasks      | elapsed:    0.1s\n",
            "[Parallel(n_jobs=5)]: Done 180 out of 180 | elapsed:    0.4s finished\n",
            "C:\\Users\\Alba Cecilia G\\Anaconda3\\lib\\site-packages\\sklearn\\model_selection\\_search.py:813: DeprecationWarning: The default of the `iid` parameter will change from True to False in version 0.22 and will be removed in 0.24. This will change numeric results when test-set sizes are unequal.\n",
            "  DeprecationWarning)\n",
            "[Parallel(n_jobs=5)]: Using backend LokyBackend with 5 concurrent workers.\n",
            "[Parallel(n_jobs=5)]: Batch computation too fast (0.0160s.) Setting batch_size=24.\n",
            "[Parallel(n_jobs=5)]: Done   3 tasks      | elapsed:    0.0s\n"
          ],
          "name": "stderr"
        },
        {
          "output_type": "stream",
          "text": [
            "it 3/10-Modelo 0/2\n",
            "[{'reg__alpha': 0.001, 'reg__gamma': 0.1}, {'reg__alpha': 0.001, 'reg__gamma': 0.1, 'rep__n_components': 0.5}, {'reg__alpha': 0.001, 'reg__gamma': 0.1}, {'reg__alpha': 0.001, 'reg__gamma': 0.1, 'rep__n_components': 0.5}, {'reg__alpha': 0.001, 'reg__gamma': 0.01}]\n",
            "mse: 8965.718229796277\n",
            "Fitting 5 folds for each of 108 candidates, totalling 540 fits\n"
          ],
          "name": "stdout"
        },
        {
          "output_type": "stream",
          "text": [
            "[Parallel(n_jobs=5)]: Done   8 tasks      | elapsed:    0.2s\n",
            "[Parallel(n_jobs=5)]: Done 130 tasks      | elapsed:    0.5s\n",
            "[Parallel(n_jobs=5)]: Done 298 tasks      | elapsed:    0.9s\n",
            "[Parallel(n_jobs=5)]: Done 540 out of 540 | elapsed:    1.5s finished\n",
            "C:\\Users\\Alba Cecilia G\\Anaconda3\\lib\\site-packages\\sklearn\\model_selection\\_search.py:813: DeprecationWarning: The default of the `iid` parameter will change from True to False in version 0.22 and will be removed in 0.24. This will change numeric results when test-set sizes are unequal.\n",
            "  DeprecationWarning)\n",
            "[Parallel(n_jobs=5)]: Using backend LokyBackend with 5 concurrent workers.\n",
            "[Parallel(n_jobs=5)]: Batch computation too fast (0.0160s.) Setting batch_size=24.\n",
            "[Parallel(n_jobs=5)]: Done   3 tasks      | elapsed:    0.0s\n"
          ],
          "name": "stderr"
        },
        {
          "output_type": "stream",
          "text": [
            "it 3/10-Modelo 1/2\n",
            "[{'reg__alpha': 0.001, 'reg__gamma': 0.1}, {'reg__alpha': 0.001, 'reg__gamma': 0.1, 'rep__n_components': 0.5}, {'reg__alpha': 0.001, 'reg__gamma': 0.1}, {'reg__alpha': 0.001, 'reg__gamma': 0.1, 'rep__n_components': 0.5}, {'reg__alpha': 0.001, 'reg__gamma': 0.01}, {'reg__alpha': 0.001, 'reg__gamma': 0.01, 'rep__n_components': 0.5}]\n",
            "mse: 8089.36267907367\n",
            "it 4/10\n",
            "Fitting 5 folds for each of 36 candidates, totalling 180 fits\n"
          ],
          "name": "stdout"
        },
        {
          "output_type": "stream",
          "text": [
            "[Parallel(n_jobs=5)]: Done   8 tasks      | elapsed:    0.2s\n",
            "[Parallel(n_jobs=5)]: Done 180 out of 180 | elapsed:    0.7s finished\n",
            "C:\\Users\\Alba Cecilia G\\Anaconda3\\lib\\site-packages\\sklearn\\model_selection\\_search.py:813: DeprecationWarning: The default of the `iid` parameter will change from True to False in version 0.22 and will be removed in 0.24. This will change numeric results when test-set sizes are unequal.\n",
            "  DeprecationWarning)\n",
            "[Parallel(n_jobs=5)]: Using backend LokyBackend with 5 concurrent workers.\n",
            "[Parallel(n_jobs=5)]: Batch computation too fast (0.0647s.) Setting batch_size=6.\n"
          ],
          "name": "stderr"
        },
        {
          "output_type": "stream",
          "text": [
            "it 4/10-Modelo 0/2\n",
            "[{'reg__alpha': 0.001, 'reg__gamma': 0.1}, {'reg__alpha': 0.001, 'reg__gamma': 0.1, 'rep__n_components': 0.5}, {'reg__alpha': 0.001, 'reg__gamma': 0.1}, {'reg__alpha': 0.001, 'reg__gamma': 0.1, 'rep__n_components': 0.5}, {'reg__alpha': 0.001, 'reg__gamma': 0.01}, {'reg__alpha': 0.001, 'reg__gamma': 0.01, 'rep__n_components': 0.5}, {'reg__alpha': 0.001, 'reg__gamma': 0.1}]\n",
            "mse: 1703.9653849899707\n",
            "Fitting 5 folds for each of 108 candidates, totalling 540 fits\n"
          ],
          "name": "stdout"
        },
        {
          "output_type": "stream",
          "text": [
            "[Parallel(n_jobs=5)]: Done   3 tasks      | elapsed:    0.0s\n",
            "[Parallel(n_jobs=5)]: Done   8 tasks      | elapsed:    0.2s\n",
            "[Parallel(n_jobs=5)]: Done  40 tasks      | elapsed:    0.4s\n",
            "[Parallel(n_jobs=5)]: Done  82 tasks      | elapsed:    0.7s\n",
            "[Parallel(n_jobs=5)]: Done 136 tasks      | elapsed:    1.0s\n",
            "[Parallel(n_jobs=5)]: Done 190 tasks      | elapsed:    1.3s\n",
            "[Parallel(n_jobs=5)]: Done 256 tasks      | elapsed:    1.8s\n",
            "[Parallel(n_jobs=5)]: Done 322 tasks      | elapsed:    2.3s\n",
            "[Parallel(n_jobs=5)]: Done 400 tasks      | elapsed:    2.6s\n",
            "[Parallel(n_jobs=5)]: Done 478 tasks      | elapsed:    3.0s\n",
            "[Parallel(n_jobs=5)]: Done 540 out of 540 | elapsed:    3.1s finished\n",
            "C:\\Users\\Alba Cecilia G\\Anaconda3\\lib\\site-packages\\sklearn\\model_selection\\_search.py:813: DeprecationWarning: The default of the `iid` parameter will change from True to False in version 0.22 and will be removed in 0.24. This will change numeric results when test-set sizes are unequal.\n",
            "  DeprecationWarning)\n",
            "[Parallel(n_jobs=5)]: Using backend LokyBackend with 5 concurrent workers.\n",
            "[Parallel(n_jobs=5)]: Batch computation too fast (0.0200s.) Setting batch_size=20.\n"
          ],
          "name": "stderr"
        },
        {
          "output_type": "stream",
          "text": [
            "it 4/10-Modelo 1/2\n",
            "[{'reg__alpha': 0.001, 'reg__gamma': 0.1}, {'reg__alpha': 0.001, 'reg__gamma': 0.1, 'rep__n_components': 0.5}, {'reg__alpha': 0.001, 'reg__gamma': 0.1}, {'reg__alpha': 0.001, 'reg__gamma': 0.1, 'rep__n_components': 0.5}, {'reg__alpha': 0.001, 'reg__gamma': 0.01}, {'reg__alpha': 0.001, 'reg__gamma': 0.01, 'rep__n_components': 0.5}, {'reg__alpha': 0.001, 'reg__gamma': 0.1}, {'reg__alpha': 0.001, 'reg__gamma': 0.1, 'rep__n_components': 0.5}]\n",
            "mse: 1455.728823170804\n",
            "it 5/10\n",
            "Fitting 5 folds for each of 36 candidates, totalling 180 fits\n"
          ],
          "name": "stdout"
        },
        {
          "output_type": "stream",
          "text": [
            "[Parallel(n_jobs=5)]: Done   3 tasks      | elapsed:    0.0s\n",
            "[Parallel(n_jobs=5)]: Done   8 tasks      | elapsed:    0.3s\n",
            "[Parallel(n_jobs=5)]: Done 180 out of 180 | elapsed:    0.6s finished\n",
            "C:\\Users\\Alba Cecilia G\\Anaconda3\\lib\\site-packages\\sklearn\\model_selection\\_search.py:813: DeprecationWarning: The default of the `iid` parameter will change from True to False in version 0.22 and will be removed in 0.24. This will change numeric results when test-set sizes are unequal.\n",
            "  DeprecationWarning)\n",
            "[Parallel(n_jobs=5)]: Using backend LokyBackend with 5 concurrent workers.\n",
            "[Parallel(n_jobs=5)]: Batch computation too fast (0.0200s.) Setting batch_size=18.\n",
            "[Parallel(n_jobs=5)]: Done   3 tasks      | elapsed:    0.0s\n"
          ],
          "name": "stderr"
        },
        {
          "output_type": "stream",
          "text": [
            "it 5/10-Modelo 0/2\n",
            "[{'reg__alpha': 0.001, 'reg__gamma': 0.1}, {'reg__alpha': 0.001, 'reg__gamma': 0.1, 'rep__n_components': 0.5}, {'reg__alpha': 0.001, 'reg__gamma': 0.1}, {'reg__alpha': 0.001, 'reg__gamma': 0.1, 'rep__n_components': 0.5}, {'reg__alpha': 0.001, 'reg__gamma': 0.01}, {'reg__alpha': 0.001, 'reg__gamma': 0.01, 'rep__n_components': 0.5}, {'reg__alpha': 0.001, 'reg__gamma': 0.1}, {'reg__alpha': 0.001, 'reg__gamma': 0.1, 'rep__n_components': 0.5}, {'reg__alpha': 0.001, 'reg__gamma': 0.1}]\n",
            "mse: 2280.5460794018654\n",
            "Fitting 5 folds for each of 108 candidates, totalling 540 fits\n"
          ],
          "name": "stdout"
        },
        {
          "output_type": "stream",
          "text": [
            "[Parallel(n_jobs=5)]: Done   8 tasks      | elapsed:    0.2s\n",
            "[Parallel(n_jobs=5)]: Done 100 tasks      | elapsed:    0.5s\n",
            "[Parallel(n_jobs=5)]: Done 226 tasks      | elapsed:    0.8s\n",
            "[Parallel(n_jobs=5)]: Done 388 tasks      | elapsed:    1.5s\n",
            "[Parallel(n_jobs=5)]: Done 540 out of 540 | elapsed:    2.0s finished\n",
            "C:\\Users\\Alba Cecilia G\\Anaconda3\\lib\\site-packages\\sklearn\\model_selection\\_search.py:813: DeprecationWarning: The default of the `iid` parameter will change from True to False in version 0.22 and will be removed in 0.24. This will change numeric results when test-set sizes are unequal.\n",
            "  DeprecationWarning)\n",
            "[Parallel(n_jobs=5)]: Using backend LokyBackend with 5 concurrent workers.\n",
            "[Parallel(n_jobs=5)]: Batch computation too fast (0.0242s.) Setting batch_size=16.\n",
            "[Parallel(n_jobs=5)]: Done   3 tasks      | elapsed:    0.0s\n"
          ],
          "name": "stderr"
        },
        {
          "output_type": "stream",
          "text": [
            "it 5/10-Modelo 1/2\n",
            "[{'reg__alpha': 0.001, 'reg__gamma': 0.1}, {'reg__alpha': 0.001, 'reg__gamma': 0.1, 'rep__n_components': 0.5}, {'reg__alpha': 0.001, 'reg__gamma': 0.1}, {'reg__alpha': 0.001, 'reg__gamma': 0.1, 'rep__n_components': 0.5}, {'reg__alpha': 0.001, 'reg__gamma': 0.01}, {'reg__alpha': 0.001, 'reg__gamma': 0.01, 'rep__n_components': 0.5}, {'reg__alpha': 0.001, 'reg__gamma': 0.1}, {'reg__alpha': 0.001, 'reg__gamma': 0.1, 'rep__n_components': 0.5}, {'reg__alpha': 0.001, 'reg__gamma': 0.1}, {'reg__alpha': 0.001, 'reg__gamma': 0.1, 'rep__n_components': 0.5}]\n",
            "mse: 2324.0015135110507\n",
            "it 6/10\n",
            "Fitting 5 folds for each of 36 candidates, totalling 180 fits\n"
          ],
          "name": "stdout"
        },
        {
          "output_type": "stream",
          "text": [
            "[Parallel(n_jobs=5)]: Done   8 tasks      | elapsed:    0.2s\n",
            "[Parallel(n_jobs=5)]: Done 180 out of 180 | elapsed:    0.4s finished\n",
            "C:\\Users\\Alba Cecilia G\\Anaconda3\\lib\\site-packages\\sklearn\\model_selection\\_search.py:813: DeprecationWarning: The default of the `iid` parameter will change from True to False in version 0.22 and will be removed in 0.24. This will change numeric results when test-set sizes are unequal.\n",
            "  DeprecationWarning)\n",
            "[Parallel(n_jobs=5)]: Using backend LokyBackend with 5 concurrent workers.\n",
            "[Parallel(n_jobs=5)]: Batch computation too fast (0.0360s.) Setting batch_size=10.\n",
            "[Parallel(n_jobs=5)]: Done   3 tasks      | elapsed:    0.0s\n"
          ],
          "name": "stderr"
        },
        {
          "output_type": "stream",
          "text": [
            "it 6/10-Modelo 0/2\n",
            "[{'reg__alpha': 0.001, 'reg__gamma': 0.1}, {'reg__alpha': 0.001, 'reg__gamma': 0.1, 'rep__n_components': 0.5}, {'reg__alpha': 0.001, 'reg__gamma': 0.1}, {'reg__alpha': 0.001, 'reg__gamma': 0.1, 'rep__n_components': 0.5}, {'reg__alpha': 0.001, 'reg__gamma': 0.01}, {'reg__alpha': 0.001, 'reg__gamma': 0.01, 'rep__n_components': 0.5}, {'reg__alpha': 0.001, 'reg__gamma': 0.1}, {'reg__alpha': 0.001, 'reg__gamma': 0.1, 'rep__n_components': 0.5}, {'reg__alpha': 0.001, 'reg__gamma': 0.1}, {'reg__alpha': 0.001, 'reg__gamma': 0.1, 'rep__n_components': 0.5}, {'reg__alpha': 0.001, 'reg__gamma': 0.01}]\n",
            "mse: 8296.161013615678\n",
            "Fitting 5 folds for each of 108 candidates, totalling 540 fits\n"
          ],
          "name": "stdout"
        },
        {
          "output_type": "stream",
          "text": [
            "[Parallel(n_jobs=5)]: Done   8 tasks      | elapsed:    0.1s\n",
            "[Parallel(n_jobs=5)]: Done  60 tasks      | elapsed:    0.3s\n",
            "[Parallel(n_jobs=5)]: Done 130 tasks      | elapsed:    0.6s\n",
            "[Parallel(n_jobs=5)]: Done 220 tasks      | elapsed:    0.9s\n",
            "[Parallel(n_jobs=5)]: Done 310 tasks      | elapsed:    1.2s\n",
            "[Parallel(n_jobs=5)]: Done 420 tasks      | elapsed:    1.5s\n",
            "[Parallel(n_jobs=5)]: Done 540 out of 540 | elapsed:    1.8s finished\n",
            "C:\\Users\\Alba Cecilia G\\Anaconda3\\lib\\site-packages\\sklearn\\model_selection\\_search.py:813: DeprecationWarning: The default of the `iid` parameter will change from True to False in version 0.22 and will be removed in 0.24. This will change numeric results when test-set sizes are unequal.\n",
            "  DeprecationWarning)\n",
            "[Parallel(n_jobs=5)]: Using backend LokyBackend with 5 concurrent workers.\n",
            "[Parallel(n_jobs=5)]: Batch computation too fast (0.0400s.) Setting batch_size=10.\n",
            "[Parallel(n_jobs=5)]: Done   3 tasks      | elapsed:    0.0s\n",
            "[Parallel(n_jobs=5)]: Done   8 tasks      | elapsed:    0.1s\n"
          ],
          "name": "stderr"
        },
        {
          "output_type": "stream",
          "text": [
            "it 6/10-Modelo 1/2\n",
            "[{'reg__alpha': 0.001, 'reg__gamma': 0.1}, {'reg__alpha': 0.001, 'reg__gamma': 0.1, 'rep__n_components': 0.5}, {'reg__alpha': 0.001, 'reg__gamma': 0.1}, {'reg__alpha': 0.001, 'reg__gamma': 0.1, 'rep__n_components': 0.5}, {'reg__alpha': 0.001, 'reg__gamma': 0.01}, {'reg__alpha': 0.001, 'reg__gamma': 0.01, 'rep__n_components': 0.5}, {'reg__alpha': 0.001, 'reg__gamma': 0.1}, {'reg__alpha': 0.001, 'reg__gamma': 0.1, 'rep__n_components': 0.5}, {'reg__alpha': 0.001, 'reg__gamma': 0.1}, {'reg__alpha': 0.001, 'reg__gamma': 0.1, 'rep__n_components': 0.5}, {'reg__alpha': 0.001, 'reg__gamma': 0.01}, {'reg__alpha': 0.001, 'reg__gamma': 0.1, 'rep__n_components': 0.5}]\n",
            "mse: 3545.2659828190135\n",
            "it 7/10\n",
            "Fitting 5 folds for each of 36 candidates, totalling 180 fits\n"
          ],
          "name": "stdout"
        },
        {
          "output_type": "stream",
          "text": [
            "[Parallel(n_jobs=5)]: Batch computation too fast (0.1834s.) Setting batch_size=20.\n",
            "[Parallel(n_jobs=5)]: Done  60 tasks      | elapsed:    0.3s\n",
            "[Parallel(n_jobs=5)]: Done 180 out of 180 | elapsed:    0.4s finished\n",
            "C:\\Users\\Alba Cecilia G\\Anaconda3\\lib\\site-packages\\sklearn\\model_selection\\_search.py:813: DeprecationWarning: The default of the `iid` parameter will change from True to False in version 0.22 and will be removed in 0.24. This will change numeric results when test-set sizes are unequal.\n",
            "  DeprecationWarning)\n",
            "[Parallel(n_jobs=5)]: Using backend LokyBackend with 5 concurrent workers.\n",
            "[Parallel(n_jobs=5)]: Batch computation too fast (0.0280s.) Setting batch_size=14.\n",
            "[Parallel(n_jobs=5)]: Done   3 tasks      | elapsed:    0.0s\n"
          ],
          "name": "stderr"
        },
        {
          "output_type": "stream",
          "text": [
            "it 7/10-Modelo 0/2\n",
            "[{'reg__alpha': 0.001, 'reg__gamma': 0.1}, {'reg__alpha': 0.001, 'reg__gamma': 0.1, 'rep__n_components': 0.5}, {'reg__alpha': 0.001, 'reg__gamma': 0.1}, {'reg__alpha': 0.001, 'reg__gamma': 0.1, 'rep__n_components': 0.5}, {'reg__alpha': 0.001, 'reg__gamma': 0.01}, {'reg__alpha': 0.001, 'reg__gamma': 0.01, 'rep__n_components': 0.5}, {'reg__alpha': 0.001, 'reg__gamma': 0.1}, {'reg__alpha': 0.001, 'reg__gamma': 0.1, 'rep__n_components': 0.5}, {'reg__alpha': 0.001, 'reg__gamma': 0.1}, {'reg__alpha': 0.001, 'reg__gamma': 0.1, 'rep__n_components': 0.5}, {'reg__alpha': 0.001, 'reg__gamma': 0.01}, {'reg__alpha': 0.001, 'reg__gamma': 0.1, 'rep__n_components': 0.5}, {'reg__alpha': 0.001, 'reg__gamma': 0.01}]\n",
            "mse: 4450.617575584701\n",
            "Fitting 5 folds for each of 108 candidates, totalling 540 fits\n"
          ],
          "name": "stdout"
        },
        {
          "output_type": "stream",
          "text": [
            "[Parallel(n_jobs=5)]: Done   8 tasks      | elapsed:    0.1s\n",
            "[Parallel(n_jobs=5)]: Done  80 tasks      | elapsed:    0.4s\n",
            "[Parallel(n_jobs=5)]: Done 178 tasks      | elapsed:    0.7s\n",
            "[Parallel(n_jobs=5)]: Done 304 tasks      | elapsed:    1.2s\n",
            "[Parallel(n_jobs=5)]: Done 540 out of 540 | elapsed:    2.0s finished\n",
            "C:\\Users\\Alba Cecilia G\\Anaconda3\\lib\\site-packages\\sklearn\\model_selection\\_search.py:813: DeprecationWarning: The default of the `iid` parameter will change from True to False in version 0.22 and will be removed in 0.24. This will change numeric results when test-set sizes are unequal.\n",
            "  DeprecationWarning)\n",
            "[Parallel(n_jobs=5)]: Using backend LokyBackend with 5 concurrent workers.\n",
            "[Parallel(n_jobs=5)]: Batch computation too fast (0.0280s.) Setting batch_size=14.\n",
            "[Parallel(n_jobs=5)]: Done   3 tasks      | elapsed:    0.0s\n"
          ],
          "name": "stderr"
        },
        {
          "output_type": "stream",
          "text": [
            "it 7/10-Modelo 1/2\n",
            "[{'reg__alpha': 0.001, 'reg__gamma': 0.1}, {'reg__alpha': 0.001, 'reg__gamma': 0.1, 'rep__n_components': 0.5}, {'reg__alpha': 0.001, 'reg__gamma': 0.1}, {'reg__alpha': 0.001, 'reg__gamma': 0.1, 'rep__n_components': 0.5}, {'reg__alpha': 0.001, 'reg__gamma': 0.01}, {'reg__alpha': 0.001, 'reg__gamma': 0.01, 'rep__n_components': 0.5}, {'reg__alpha': 0.001, 'reg__gamma': 0.1}, {'reg__alpha': 0.001, 'reg__gamma': 0.1, 'rep__n_components': 0.5}, {'reg__alpha': 0.001, 'reg__gamma': 0.1}, {'reg__alpha': 0.001, 'reg__gamma': 0.1, 'rep__n_components': 0.5}, {'reg__alpha': 0.001, 'reg__gamma': 0.01}, {'reg__alpha': 0.001, 'reg__gamma': 0.1, 'rep__n_components': 0.5}, {'reg__alpha': 0.001, 'reg__gamma': 0.01}, {'reg__alpha': 0.001, 'reg__gamma': 0.1, 'rep__n_components': 0.5}]\n",
            "mse: 1174.520772703284\n",
            "it 8/10\n",
            "Fitting 5 folds for each of 36 candidates, totalling 180 fits\n"
          ],
          "name": "stdout"
        },
        {
          "output_type": "stream",
          "text": [
            "[Parallel(n_jobs=5)]: Done   8 tasks      | elapsed:    0.2s\n",
            "[Parallel(n_jobs=5)]: Done 152 out of 180 | elapsed:    0.6s remaining:    0.0s\n",
            "[Parallel(n_jobs=5)]: Done 180 out of 180 | elapsed:    0.6s finished\n",
            "C:\\Users\\Alba Cecilia G\\Anaconda3\\lib\\site-packages\\sklearn\\model_selection\\_search.py:813: DeprecationWarning: The default of the `iid` parameter will change from True to False in version 0.22 and will be removed in 0.24. This will change numeric results when test-set sizes are unequal.\n",
            "  DeprecationWarning)\n",
            "[Parallel(n_jobs=5)]: Using backend LokyBackend with 5 concurrent workers.\n",
            "[Parallel(n_jobs=5)]: Batch computation too fast (0.0280s.) Setting batch_size=14.\n",
            "[Parallel(n_jobs=5)]: Done   3 tasks      | elapsed:    0.0s\n"
          ],
          "name": "stderr"
        },
        {
          "output_type": "stream",
          "text": [
            "it 8/10-Modelo 0/2\n",
            "[{'reg__alpha': 0.001, 'reg__gamma': 0.1}, {'reg__alpha': 0.001, 'reg__gamma': 0.1, 'rep__n_components': 0.5}, {'reg__alpha': 0.001, 'reg__gamma': 0.1}, {'reg__alpha': 0.001, 'reg__gamma': 0.1, 'rep__n_components': 0.5}, {'reg__alpha': 0.001, 'reg__gamma': 0.01}, {'reg__alpha': 0.001, 'reg__gamma': 0.01, 'rep__n_components': 0.5}, {'reg__alpha': 0.001, 'reg__gamma': 0.1}, {'reg__alpha': 0.001, 'reg__gamma': 0.1, 'rep__n_components': 0.5}, {'reg__alpha': 0.001, 'reg__gamma': 0.1}, {'reg__alpha': 0.001, 'reg__gamma': 0.1, 'rep__n_components': 0.5}, {'reg__alpha': 0.001, 'reg__gamma': 0.01}, {'reg__alpha': 0.001, 'reg__gamma': 0.1, 'rep__n_components': 0.5}, {'reg__alpha': 0.001, 'reg__gamma': 0.01}, {'reg__alpha': 0.001, 'reg__gamma': 0.1, 'rep__n_components': 0.5}, {'reg__alpha': 0.001, 'reg__gamma': 0.001}]\n",
            "mse: 4424.990576218058\n",
            "Fitting 5 folds for each of 108 candidates, totalling 540 fits\n"
          ],
          "name": "stdout"
        },
        {
          "output_type": "stream",
          "text": [
            "[Parallel(n_jobs=5)]: Done   8 tasks      | elapsed:    0.2s\n",
            "[Parallel(n_jobs=5)]: Done  80 tasks      | elapsed:    0.5s\n",
            "[Parallel(n_jobs=5)]: Done 178 tasks      | elapsed:    1.1s\n",
            "[Parallel(n_jobs=5)]: Done 304 tasks      | elapsed:    1.7s\n",
            "[Parallel(n_jobs=5)]: Done 540 out of 540 | elapsed:    2.6s finished\n",
            "C:\\Users\\Alba Cecilia G\\Anaconda3\\lib\\site-packages\\sklearn\\model_selection\\_search.py:813: DeprecationWarning: The default of the `iid` parameter will change from True to False in version 0.22 and will be removed in 0.24. This will change numeric results when test-set sizes are unequal.\n",
            "  DeprecationWarning)\n",
            "[Parallel(n_jobs=5)]: Using backend LokyBackend with 5 concurrent workers.\n",
            "[Parallel(n_jobs=5)]: Batch computation too fast (0.0560s.) Setting batch_size=6.\n",
            "[Parallel(n_jobs=5)]: Done   3 tasks      | elapsed:    0.0s\n"
          ],
          "name": "stderr"
        },
        {
          "output_type": "stream",
          "text": [
            "it 8/10-Modelo 1/2\n",
            "[{'reg__alpha': 0.001, 'reg__gamma': 0.1}, {'reg__alpha': 0.001, 'reg__gamma': 0.1, 'rep__n_components': 0.5}, {'reg__alpha': 0.001, 'reg__gamma': 0.1}, {'reg__alpha': 0.001, 'reg__gamma': 0.1, 'rep__n_components': 0.5}, {'reg__alpha': 0.001, 'reg__gamma': 0.01}, {'reg__alpha': 0.001, 'reg__gamma': 0.01, 'rep__n_components': 0.5}, {'reg__alpha': 0.001, 'reg__gamma': 0.1}, {'reg__alpha': 0.001, 'reg__gamma': 0.1, 'rep__n_components': 0.5}, {'reg__alpha': 0.001, 'reg__gamma': 0.1}, {'reg__alpha': 0.001, 'reg__gamma': 0.1, 'rep__n_components': 0.5}, {'reg__alpha': 0.001, 'reg__gamma': 0.01}, {'reg__alpha': 0.001, 'reg__gamma': 0.1, 'rep__n_components': 0.5}, {'reg__alpha': 0.001, 'reg__gamma': 0.01}, {'reg__alpha': 0.001, 'reg__gamma': 0.1, 'rep__n_components': 0.5}, {'reg__alpha': 0.001, 'reg__gamma': 0.001}, {'reg__alpha': 0.001, 'reg__gamma': 0.001, 'rep__n_components': 0.5}]\n",
            "mse: 5635.226640575404\n",
            "it 9/10\n",
            "Fitting 5 folds for each of 36 candidates, totalling 180 fits\n"
          ],
          "name": "stdout"
        },
        {
          "output_type": "stream",
          "text": [
            "[Parallel(n_jobs=5)]: Done   8 tasks      | elapsed:    0.1s\n",
            "[Parallel(n_jobs=5)]: Batch computation too fast (0.1565s.) Setting batch_size=14.\n",
            "[Parallel(n_jobs=5)]: Done  40 tasks      | elapsed:    0.4s\n",
            "[Parallel(n_jobs=5)]: Done 180 out of 180 | elapsed:    0.6s finished\n",
            "C:\\Users\\Alba Cecilia G\\Anaconda3\\lib\\site-packages\\sklearn\\model_selection\\_search.py:813: DeprecationWarning: The default of the `iid` parameter will change from True to False in version 0.22 and will be removed in 0.24. This will change numeric results when test-set sizes are unequal.\n",
            "  DeprecationWarning)\n",
            "[Parallel(n_jobs=5)]: Using backend LokyBackend with 5 concurrent workers.\n",
            "[Parallel(n_jobs=5)]: Batch computation too fast (0.0440s.) Setting batch_size=8.\n",
            "[Parallel(n_jobs=5)]: Done   3 tasks      | elapsed:    0.0s\n"
          ],
          "name": "stderr"
        },
        {
          "output_type": "stream",
          "text": [
            "it 9/10-Modelo 0/2\n",
            "[{'reg__alpha': 0.001, 'reg__gamma': 0.1}, {'reg__alpha': 0.001, 'reg__gamma': 0.1, 'rep__n_components': 0.5}, {'reg__alpha': 0.001, 'reg__gamma': 0.1}, {'reg__alpha': 0.001, 'reg__gamma': 0.1, 'rep__n_components': 0.5}, {'reg__alpha': 0.001, 'reg__gamma': 0.01}, {'reg__alpha': 0.001, 'reg__gamma': 0.01, 'rep__n_components': 0.5}, {'reg__alpha': 0.001, 'reg__gamma': 0.1}, {'reg__alpha': 0.001, 'reg__gamma': 0.1, 'rep__n_components': 0.5}, {'reg__alpha': 0.001, 'reg__gamma': 0.1}, {'reg__alpha': 0.001, 'reg__gamma': 0.1, 'rep__n_components': 0.5}, {'reg__alpha': 0.001, 'reg__gamma': 0.01}, {'reg__alpha': 0.001, 'reg__gamma': 0.1, 'rep__n_components': 0.5}, {'reg__alpha': 0.001, 'reg__gamma': 0.01}, {'reg__alpha': 0.001, 'reg__gamma': 0.1, 'rep__n_components': 0.5}, {'reg__alpha': 0.001, 'reg__gamma': 0.001}, {'reg__alpha': 0.001, 'reg__gamma': 0.001, 'rep__n_components': 0.5}, {'reg__alpha': 0.001, 'reg__gamma': 0.1}]\n",
            "mse: 1901.087347943801\n",
            "Fitting 5 folds for each of 108 candidates, totalling 540 fits\n"
          ],
          "name": "stdout"
        },
        {
          "output_type": "stream",
          "text": [
            "[Parallel(n_jobs=5)]: Done   8 tasks      | elapsed:    0.2s\n",
            "[Parallel(n_jobs=5)]: Done  50 tasks      | elapsed:    0.4s\n",
            "[Parallel(n_jobs=5)]: Done 106 tasks      | elapsed:    0.7s\n",
            "[Parallel(n_jobs=5)]: Done 178 tasks      | elapsed:    1.0s\n",
            "[Parallel(n_jobs=5)]: Done 250 tasks      | elapsed:    1.2s\n",
            "[Parallel(n_jobs=5)]: Done 338 tasks      | elapsed:    1.6s\n",
            "[Parallel(n_jobs=5)]: Done 426 tasks      | elapsed:    1.9s\n",
            "[Parallel(n_jobs=5)]: Done 540 out of 540 | elapsed:    2.2s finished\n",
            "C:\\Users\\Alba Cecilia G\\Anaconda3\\lib\\site-packages\\sklearn\\model_selection\\_search.py:813: DeprecationWarning: The default of the `iid` parameter will change from True to False in version 0.22 and will be removed in 0.24. This will change numeric results when test-set sizes are unequal.\n",
            "  DeprecationWarning)\n",
            "[Parallel(n_jobs=5)]: Using backend LokyBackend with 5 concurrent workers.\n",
            "[Parallel(n_jobs=5)]: Batch computation too fast (0.0200s.) Setting batch_size=20.\n",
            "[Parallel(n_jobs=5)]: Done   3 tasks      | elapsed:    0.0s\n"
          ],
          "name": "stderr"
        },
        {
          "output_type": "stream",
          "text": [
            "it 9/10-Modelo 1/2\n",
            "[{'reg__alpha': 0.001, 'reg__gamma': 0.1}, {'reg__alpha': 0.001, 'reg__gamma': 0.1, 'rep__n_components': 0.5}, {'reg__alpha': 0.001, 'reg__gamma': 0.1}, {'reg__alpha': 0.001, 'reg__gamma': 0.1, 'rep__n_components': 0.5}, {'reg__alpha': 0.001, 'reg__gamma': 0.01}, {'reg__alpha': 0.001, 'reg__gamma': 0.01, 'rep__n_components': 0.5}, {'reg__alpha': 0.001, 'reg__gamma': 0.1}, {'reg__alpha': 0.001, 'reg__gamma': 0.1, 'rep__n_components': 0.5}, {'reg__alpha': 0.001, 'reg__gamma': 0.1}, {'reg__alpha': 0.001, 'reg__gamma': 0.1, 'rep__n_components': 0.5}, {'reg__alpha': 0.001, 'reg__gamma': 0.01}, {'reg__alpha': 0.001, 'reg__gamma': 0.1, 'rep__n_components': 0.5}, {'reg__alpha': 0.001, 'reg__gamma': 0.01}, {'reg__alpha': 0.001, 'reg__gamma': 0.1, 'rep__n_components': 0.5}, {'reg__alpha': 0.001, 'reg__gamma': 0.001}, {'reg__alpha': 0.001, 'reg__gamma': 0.001, 'rep__n_components': 0.5}, {'reg__alpha': 0.001, 'reg__gamma': 0.1}, {'reg__alpha': 0.001, 'reg__gamma': 0.1, 'rep__n_components': 0.5}]\n",
            "mse: 1520.1312913273819\n",
            "it 10/10\n",
            "Fitting 5 folds for each of 36 candidates, totalling 180 fits\n"
          ],
          "name": "stdout"
        },
        {
          "output_type": "stream",
          "text": [
            "[Parallel(n_jobs=5)]: Done   8 tasks      | elapsed:    0.2s\n",
            "[Parallel(n_jobs=5)]: Done 180 out of 180 | elapsed:    0.4s finished\n",
            "C:\\Users\\Alba Cecilia G\\Anaconda3\\lib\\site-packages\\sklearn\\model_selection\\_search.py:813: DeprecationWarning: The default of the `iid` parameter will change from True to False in version 0.22 and will be removed in 0.24. This will change numeric results when test-set sizes are unequal.\n",
            "  DeprecationWarning)\n",
            "[Parallel(n_jobs=5)]: Using backend LokyBackend with 5 concurrent workers.\n",
            "[Parallel(n_jobs=5)]: Batch computation too fast (0.0320s.) Setting batch_size=12.\n",
            "[Parallel(n_jobs=5)]: Done   3 tasks      | elapsed:    0.0s\n"
          ],
          "name": "stderr"
        },
        {
          "output_type": "stream",
          "text": [
            "it 10/10-Modelo 0/2\n",
            "[{'reg__alpha': 0.001, 'reg__gamma': 0.1}, {'reg__alpha': 0.001, 'reg__gamma': 0.1, 'rep__n_components': 0.5}, {'reg__alpha': 0.001, 'reg__gamma': 0.1}, {'reg__alpha': 0.001, 'reg__gamma': 0.1, 'rep__n_components': 0.5}, {'reg__alpha': 0.001, 'reg__gamma': 0.01}, {'reg__alpha': 0.001, 'reg__gamma': 0.01, 'rep__n_components': 0.5}, {'reg__alpha': 0.001, 'reg__gamma': 0.1}, {'reg__alpha': 0.001, 'reg__gamma': 0.1, 'rep__n_components': 0.5}, {'reg__alpha': 0.001, 'reg__gamma': 0.1}, {'reg__alpha': 0.001, 'reg__gamma': 0.1, 'rep__n_components': 0.5}, {'reg__alpha': 0.001, 'reg__gamma': 0.01}, {'reg__alpha': 0.001, 'reg__gamma': 0.1, 'rep__n_components': 0.5}, {'reg__alpha': 0.001, 'reg__gamma': 0.01}, {'reg__alpha': 0.001, 'reg__gamma': 0.1, 'rep__n_components': 0.5}, {'reg__alpha': 0.001, 'reg__gamma': 0.001}, {'reg__alpha': 0.001, 'reg__gamma': 0.001, 'rep__n_components': 0.5}, {'reg__alpha': 0.001, 'reg__gamma': 0.1}, {'reg__alpha': 0.001, 'reg__gamma': 0.1, 'rep__n_components': 0.5}, {'reg__alpha': 0.001, 'reg__gamma': 0.001}]\n",
            "mse: 3370.383973057728\n",
            "Fitting 5 folds for each of 108 candidates, totalling 540 fits\n"
          ],
          "name": "stdout"
        },
        {
          "output_type": "stream",
          "text": [
            "[Parallel(n_jobs=5)]: Done   8 tasks      | elapsed:    0.2s\n",
            "[Parallel(n_jobs=5)]: Done  70 tasks      | elapsed:    0.3s\n",
            "[Parallel(n_jobs=5)]: Done 154 tasks      | elapsed:    0.6s\n",
            "[Parallel(n_jobs=5)]: Done 262 tasks      | elapsed:    0.9s\n",
            "[Parallel(n_jobs=5)]: Done 370 tasks      | elapsed:    1.3s\n"
          ],
          "name": "stderr"
        },
        {
          "output_type": "stream",
          "text": [
            "it 10/10-Modelo 1/2\n",
            "[{'reg__alpha': 0.001, 'reg__gamma': 0.1}, {'reg__alpha': 0.001, 'reg__gamma': 0.1, 'rep__n_components': 0.5}, {'reg__alpha': 0.001, 'reg__gamma': 0.1}, {'reg__alpha': 0.001, 'reg__gamma': 0.1, 'rep__n_components': 0.5}, {'reg__alpha': 0.001, 'reg__gamma': 0.01}, {'reg__alpha': 0.001, 'reg__gamma': 0.01, 'rep__n_components': 0.5}, {'reg__alpha': 0.001, 'reg__gamma': 0.1}, {'reg__alpha': 0.001, 'reg__gamma': 0.1, 'rep__n_components': 0.5}, {'reg__alpha': 0.001, 'reg__gamma': 0.1}, {'reg__alpha': 0.001, 'reg__gamma': 0.1, 'rep__n_components': 0.5}, {'reg__alpha': 0.001, 'reg__gamma': 0.01}, {'reg__alpha': 0.001, 'reg__gamma': 0.1, 'rep__n_components': 0.5}, {'reg__alpha': 0.001, 'reg__gamma': 0.01}, {'reg__alpha': 0.001, 'reg__gamma': 0.1, 'rep__n_components': 0.5}, {'reg__alpha': 0.001, 'reg__gamma': 0.001}, {'reg__alpha': 0.001, 'reg__gamma': 0.001, 'rep__n_components': 0.5}, {'reg__alpha': 0.001, 'reg__gamma': 0.1}, {'reg__alpha': 0.001, 'reg__gamma': 0.1, 'rep__n_components': 0.5}, {'reg__alpha': 0.001, 'reg__gamma': 0.001}, {'reg__alpha': 0.001, 'reg__gamma': 0.001, 'rep__n_components': 0.5}]\n",
            "mse: 4649.575956776541\n"
          ],
          "name": "stdout"
        },
        {
          "output_type": "stream",
          "text": [
            "[Parallel(n_jobs=5)]: Done 540 out of 540 | elapsed:    1.8s finished\n",
            "C:\\Users\\Alba Cecilia G\\Anaconda3\\lib\\site-packages\\sklearn\\model_selection\\_search.py:813: DeprecationWarning: The default of the `iid` parameter will change from True to False in version 0.22 and will be removed in 0.24. This will change numeric results when test-set sizes are unequal.\n",
            "  DeprecationWarning)\n"
          ],
          "name": "stderr"
        }
      ]
    },
    {
      "cell_type": "code",
      "metadata": {
        "id": "v_u_KAmvHmLd",
        "colab_type": "code",
        "colab": {},
        "outputId": "84b556dd-e287-42c2-c58b-39c04fbecba6"
      },
      "source": [
        "plt.boxplot(msev)\n",
        "plt.xticks(ticks=np.arange(len(steps))+1,labels=label_model)\n",
        "plt.show()"
      ],
      "execution_count": 0,
      "outputs": [
        {
          "output_type": "display_data",
          "data": {
            "image/png": "[encoded data removed]",
            "text/plain": [
              "<Figure size 432x288 with 1 Axes>"
            ]
          },
          "metadata": {
            "tags": [],
            "needs_background": "light"
          }
        }
      ]
    },
    {
      "cell_type": "code",
      "metadata": {
        "id": "OWcd2fFSHmLg",
        "colab_type": "code",
        "colab": {}
      },
      "source": [
        ""
      ],
      "execution_count": 0,
      "outputs": []
    },
    {
      "cell_type": "code",
      "metadata": {
        "id": "wYi_U8IMHmLk",
        "colab_type": "code",
        "colab": {}
      },
      "source": [
        ""
      ],
      "execution_count": 0,
      "outputs": []
    },
    {
      "cell_type": "code",
      "metadata": {
        "id": "lvxY5k99HmLo",
        "colab_type": "code",
        "colab": {}
      },
      "source": [
        ""
      ],
      "execution_count": 0,
      "outputs": []
    }
  ]
}